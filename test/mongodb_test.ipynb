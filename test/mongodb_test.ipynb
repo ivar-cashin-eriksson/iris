{
 "cells": [
  {
   "cell_type": "code",
   "execution_count": null,
   "id": "fa371202",
   "metadata": {},
   "outputs": [],
   "source": [
    "import sys\n",
    "sys.path.append(r'c:\\Users\\ice\\projects\\iris')\n",
    "\n",
    "from iris.config.data_pipeline_config_manager import DataPipelineConfigManager\n",
    "from iris.data_pipeline.mongodb_manager import MongoDBManager"
   ]
  },
  {
   "cell_type": "code",
   "execution_count": null,
   "id": "312bd5a8",
   "metadata": {},
   "outputs": [],
   "source": [
    "# Get configuration\n",
    "data_config = DataPipelineConfigManager()\n",
    "mongodb_config = data_config.mongodb_config\n",
    "\n",
    "# Use context manager for proper connection handling\n",
    "with MongoDBManager(mongodb_config) as db:\n",
    "    # Insert a document\n",
    "    doc = {\"name\": \"test\", \"value\": 123}\n",
    "    doc_id = db.insert_one(\"test_collection\", doc)\n",
    "    print(f\"Inserted document with ID: {doc_id}\")\n",
    "    \n",
    "    # Retrieve the document\n",
    "    result = db.find_one(\"test_collection\", {\"name\": \"test\"})\n",
    "    print(f\"Retrieved document: {result}\")"
   ]
  },
  {
   "cell_type": "markdown",
   "id": "71e5c6df",
   "metadata": {},
   "source": [
    "# Best Practices for MongoDBManager\n",
    "\n",
    "The MongoDBManager should always be used with a context manager (`with` statement) to ensure proper connection cleanup:\n",
    "\n",
    "```python\n",
    "with MongoDBManager(config) as db:\n",
    "    db.insert_one(...)\n",
    "    db.find_one(...)\n",
    "```\n",
    "\n",
    "This ensures that:\n",
    "1. Connections are properly closed after use\n",
    "2. Resources are cleaned up even if errors occur\n",
    "3. Following similar patterns as file handling"
   ]
  }
 ],
 "metadata": {
  "kernelspec": {
   "display_name": ".venv",
   "language": "python",
   "name": "python3"
  },
  "language_info": {
   "codemirror_mode": {
    "name": "ipython",
    "version": 3
   },
   "file_extension": ".py",
   "mimetype": "text/x-python",
   "name": "python",
   "nbconvert_exporter": "python",
   "pygments_lexer": "ipython3",
   "version": "3.11.9"
  }
 },
 "nbformat": 4,
 "nbformat_minor": 5
}
