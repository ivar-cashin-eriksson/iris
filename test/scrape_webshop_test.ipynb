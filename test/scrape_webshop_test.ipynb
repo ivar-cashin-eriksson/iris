{
 "cells": [
  {
   "cell_type": "code",
   "execution_count": null,
   "metadata": {},
   "outputs": [],
   "source": [
    "import sys\n",
    "sys.path.append(r'c:\\Users\\ice\\projects\\iris')\n",
    "\n",
    "from iris.config.data_pipeline_config_manager import DataPipelineConfigManager\n",
    "from iris.data_pipeline.mongodb_manager import MongoDBManager\n",
    "from iris.data_pipeline.image_store_manager import ImageStoreManager\n",
    "from iris.data_pipeline.product_handler import ProductHandler\n",
    "from iris.data_pipeline.web_shop_scraper import WebShopScraper\n"
   ]
  },
  {
   "cell_type": "code",
   "execution_count": null,
   "metadata": {},
   "outputs": [],
   "source": [
    "# Initialize configuration manager\n",
    "config_manager = DataPipelineConfigManager() \n",
    "shop_config = config_manager.shop_config\n",
    "image_store_config = config_manager.image_store_config\n",
    "mongodb_config = config_manager.mongodb_config\n",
    "\n",
    "# Create MongoDB manager with configuration\n",
    "mongodb_manager = MongoDBManager(mongodb_config)\n",
    "image_store_manager = ImageStoreManager(image_store_config)\n",
    "\n",
    "# Initialize \n",
    "web_shop_scraper = WebShopScraper(\n",
    "    shop_config=shop_config,\n",
    "    product_handler=ProductHandler(shop_config=shop_config),\n",
    ")\n",
    "\n",
    "# Start scraping\n",
    "with mongodb_manager as db:\n",
    "    for product, images in web_shop_scraper.scrape():\n",
    "        print(f\"Scraped product: {product.data['title']}, Images: {len(images)}\")\n",
    "\n",
    "        for image in images:\n",
    "            image.load_image(image_store_manager)\n",
    "\n",
    "        db.upsert(db.config.product_collection, product)\n",
    "        db.upsert(db.config.image_metadata_collection, images)\n"
   ]
  }
 ],
 "metadata": {
  "kernelspec": {
   "display_name": ".venv",
   "language": "python",
   "name": "python3"
  },
  "language_info": {
   "codemirror_mode": {
    "name": "ipython",
    "version": 3
   },
   "file_extension": ".py",
   "mimetype": "text/x-python",
   "name": "python",
   "nbconvert_exporter": "python",
   "pygments_lexer": "ipython3",
   "version": "3.11.9"
  }
 },
 "nbformat": 4,
 "nbformat_minor": 2
}
