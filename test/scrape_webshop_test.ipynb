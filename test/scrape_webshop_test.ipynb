{
 "cells": [
  {
   "cell_type": "code",
   "execution_count": null,
   "metadata": {},
   "outputs": [],
   "source": [
    "%pip install -e .."
   ]
  },
  {
   "cell_type": "code",
   "execution_count": 4,
   "metadata": {},
   "outputs": [],
   "source": [
    "import sys\n",
    "sys.path.append(r'c:\\Users\\ice\\projects\\iris')\n",
    "\n",
    "from iris.config.data_pipeline_config_manager import DataPipelineConfigManager\n",
    "from iris.data_pipeline.mongodb_manager import MongoDBManager\n",
    "from iris.data_pipeline.product_handler import ProductHandler\n",
    "from iris.data_pipeline.web_shop_scraper import WebShopScraper\n"
   ]
  },
  {
   "cell_type": "code",
   "execution_count": null,
   "metadata": {},
   "outputs": [],
   "source": [
    "# Initialize configuration manager\n",
    "config_manager = DataPipelineConfigManager() \n",
    "shop_config = config_manager.shop_configs[\"nikolaj_storm\"]  # Select shop\n",
    "storage_config = config_manager.storage_config\n",
    "mongodb_config = config_manager.mongodb_config\n",
    "\n",
    "# Create MongoDB manager with configuration\n",
    "mongodb_manager = MongoDBManager(shop_config, mongodb_config)\n",
    "\n",
    "# Create product handler\n",
    "product_handler = ProductHandler(\n",
    "    shop_config=shop_config,\n",
    "    storage_config=storage_config,\n",
    "    mongodb_manager=mongodb_manager,\n",
    ")\n",
    "\n",
    "# Create web shop scraper\n",
    "web_shop_scraper = WebShopScraper(\n",
    "    shop_config=shop_config,\n",
    "    mongodb_config=mongodb_config,\n",
    "    mongodb_manager=mongodb_manager,\n",
    "    product_handler=product_handler,\n",
    ")\n",
    "\n",
    "# Start scraping\n",
    "web_shop_scraper.scrape()\n",
    "\n",
    "# Close MongoDB connection\n",
    "mongodb_manager.close()\n",
    "\n",
    "\n",
    "# TODO: Fix Bug: Product pages with a single image are not being scraped properly\n",
    "# i.e https://nikolajstorm.com/webshop/agood-phonecase-2/\n"
   ]
  }
 ],
 "metadata": {
  "kernelspec": {
   "display_name": ".venv",
   "language": "python",
   "name": "python3"
  },
  "language_info": {
   "codemirror_mode": {
    "name": "ipython",
    "version": 3
   },
   "file_extension": ".py",
   "mimetype": "text/x-python",
   "name": "python",
   "nbconvert_exporter": "python",
   "pygments_lexer": "ipython3",
   "version": "3.11.9"
  }
 },
 "nbformat": 4,
 "nbformat_minor": 2
}
