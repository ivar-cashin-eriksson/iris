{
 "cells": [
  {
   "cell_type": "code",
   "execution_count": null,
   "metadata": {},
   "outputs": [],
   "source": [
    "import iris.utils.data_utils as data_utils\n",
    "from iris.config.localization_pipeline_config_manager import LocalizationPipelineConfigManager\n",
    "from iris.config.data_pipeline_config_manager import DataPipelineConfigManager\n",
    "from iris.data_pipeline.mongodb_manager import MongoDBManager"
   ]
  },
  {
   "cell_type": "code",
   "execution_count": null,
   "metadata": {},
   "outputs": [],
   "source": [
    "# Initialize configuration managers\n",
    "segmentation_config = LocalizationPipelineConfigManager()\n",
    "data_config = DataPipelineConfigManager()\n",
    "shop_config = data_config.shop_config\n",
    "mongodb_config = data_config.mongodb_config\n",
    "\n",
    "# Create MongoDB manager\n",
    "mongodb_manager = MongoDBManager(shop_config, mongodb_config)"
   ]
  },
  {
   "cell_type": "markdown",
   "metadata": {},
   "source": [
    "# Test Product Info"
   ]
  },
  {
   "cell_type": "code",
   "execution_count": null,
   "metadata": {},
   "outputs": [],
   "source": [
    "test_product_hashes = [\n",
    "    'c1db941e8982d490587ddab097dc3e8e',\n",
    "]\n",
    "\n",
    "for hash in test_product_hashes:\n",
    "    data_utils.print_product_summary(mongodb_manager, hash)\n",
    "    data_utils.display_product_summary(mongodb_manager, hash)"
   ]
  },
  {
   "cell_type": "markdown",
   "metadata": {},
   "source": [
    "# Test Image Info"
   ]
  },
  {
   "cell_type": "code",
   "execution_count": null,
   "metadata": {},
   "outputs": [],
   "source": [
    "test_image_hashes = [\n",
    "    'cf01c8937b391ab760476f80f5cf3c4b',\n",
    "]\n",
    "\n",
    "for hash in test_image_hashes:\n",
    "    data_utils.print_image_summary(mongodb_manager, hash)\n",
    "    data_utils.display_image_summary(mongodb_manager, hash, show_localizations=True)"
   ]
  }
 ],
 "metadata": {
  "kernelspec": {
   "display_name": ".venv",
   "language": "python",
   "name": "python3"
  },
  "language_info": {
   "codemirror_mode": {
    "name": "ipython",
    "version": 3
   },
   "file_extension": ".py",
   "mimetype": "text/x-python",
   "name": "python",
   "nbconvert_exporter": "python",
   "pygments_lexer": "ipython3",
   "version": "3.11.9"
  }
 },
 "nbformat": 4,
 "nbformat_minor": 2
}
