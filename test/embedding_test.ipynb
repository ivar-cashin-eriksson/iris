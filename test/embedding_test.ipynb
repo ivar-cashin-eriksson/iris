{
 "cells": [
  {
   "cell_type": "code",
   "execution_count": 1,
   "metadata": {},
   "outputs": [
    {
     "name": "stdout",
     "output_type": "stream",
     "text": [
      "Note: you may need to restart the kernel to use updated packages.\n"
     ]
    },
    {
     "name": "stderr",
     "output_type": "stream",
     "text": [
      "\n",
      "[notice] A new release of pip is available: 24.0 -> 25.0.1\n",
      "[notice] To update, run: python.exe -m pip install --upgrade pip\n"
     ]
    }
   ],
   "source": [
    "%pip install plotly nbformat>=4.2.0 ipywidgets>=8.0.0"
   ]
  },
  {
   "cell_type": "code",
   "execution_count": 2,
   "metadata": {},
   "outputs": [],
   "source": [
    "import os\n",
    "os.environ['KMP_DUPLICATE_LIB_OK']='TRUE'"
   ]
  },
  {
   "cell_type": "code",
   "execution_count": 3,
   "metadata": {},
   "outputs": [],
   "source": [
    "import sys\n",
    "sys.path.append(r'c:\\Users\\ice\\projects\\iris')\n",
    "\n",
    "from PIL import Image as PILImage  # Rename to avoid conflict\n",
    "from tqdm.notebook import tqdm\n",
    "import plotly.graph_objects as go\n",
    "\n",
    "from iris.config.data_pipeline_config_manager import DataPipelineConfigManager\n",
    "from iris.config.embedding_pipeline_config_manager import EmbeddingPipelineConfigManager\n",
    "from iris.data_pipeline.mongodb_manager import MongoDBManager\n",
    "from iris.embedding_pipeline.embedding_handler import EmbeddingHandler\n",
    "from iris.embedding_pipeline.embedding_database import EmbeddingDatabase"
   ]
  },
  {
   "cell_type": "code",
   "execution_count": 4,
   "metadata": {},
   "outputs": [],
   "source": [
    "# Initialize configuration managers\n",
    "data_config = DataPipelineConfigManager()\n",
    "embedding_config = EmbeddingPipelineConfigManager()\n",
    "\n",
    "shop_config = data_config.shop_configs[\"nikolaj_storm\"]  # Select shop\n",
    "mongodb_config = data_config.mongodb_config\n",
    "\n",
    "# Create MongoDB manager\n",
    "mongodb_manager = MongoDBManager(shop_config, mongodb_config)\n",
    "\n",
    "# Initialize the EmbeddingHandler and Database\n",
    "embedding_handler = EmbeddingHandler(embedding_config.clip_config)\n",
    "embedding_db = EmbeddingDatabase(embedding_config.database_config)"
   ]
  },
  {
   "cell_type": "code",
   "execution_count": 5,
   "metadata": {},
   "outputs": [
    {
     "data": {
      "application/vnd.jupyter.widget-view+json": {
       "model_id": "08f28b9ca32344bc9926710896ffc21e",
       "version_major": 2,
       "version_minor": 0
      },
      "text/plain": [
       "Processing images:   0%|          | 0/366 [00:00<?, ?it/s]"
      ]
     },
     "metadata": {},
     "output_type": "display_data"
    }
   ],
   "source": [
    "# Convert cursor to list since it can only be iterated once\n",
    "image_dataset = list(mongodb_manager.get_collection(\n",
    "    mongodb_manager.mongodb_config.image_metadata_collection\n",
    ").find())\n",
    "\n",
    "# Add a progress bar with total count\n",
    "for image_data in tqdm(image_dataset, desc=\"Processing images\", total=len(image_dataset)):\n",
    "    with PILImage.open(image_data['local_path']).convert(\"RGBA\") as img:\n",
    "        embedding = embedding_handler.get_embedding(img)\n",
    "        embedding_db.add_embedding(embedding, id=image_data['image_hash'])"
   ]
  },
  {
   "cell_type": "code",
   "execution_count": null,
   "metadata": {},
   "outputs": [
    {
     "name": "stdout",
     "output_type": "stream",
     "text": [
      "Nearest neighbors for query hash 23373a5dc273beeb756d7bc83e15d532 : [('cf01c8937b391ab760476f80f5cf3c4b', np.float32(0.0)), ('bb3ecb2e12fac67954ef0fb858ea1a2d', np.float32(0.1993514)), ('f45555d1683f0ba1bdb259af2889dc46', np.float32(0.26832175)), ('0571f3fdb99ff04665dc04b4f3367e0a', np.float32(0.2953629)), ('b3e15be1c5afe1e1f2c6b7eac5524b71', np.float32(0.3633932)), ('c9be300376eaffae56285d387066a51c', np.float32(0.42165235)), ('c995dfbea1903b37dc48ab891ea95725', np.float32(0.4653632)), ('20211d7a082896985c87319aa9a356dd', np.float32(0.4670041)), ('efcc5dd9968b4b043c547a15eaf7bf7e', np.float32(0.4696508)), ('2c435a7ce800e13f66fac37c80360ff9', np.float32(0.479653)), ('5f8a3e26947356ba91e1fb4d9eca8e3f', np.float32(0.48131418)), ('6ac853b09cf3d54d4eba9f7086ca3c43', np.float32(0.5047524)), ('f6ecab9fad7be9a5e6773e3bb4026b71', np.float32(0.5162607)), ('318cf7903d26c53058e85ee7cf7d4534', np.float32(0.5195562)), ('61ebb1e315d5f6d3f8989e8cb3a4ce67', np.float32(0.5237217)), ('b9107a09e20968f580030c709034e689', np.float32(0.5306223)), ('a3ca90158b6685d3752067cc96d5b7cf', np.float32(0.53465855)), ('0350e9157451100bfc6a8ba882e4ffdb', np.float32(0.53955364)), ('7fdef6800311e4b2550b2c63ba0e7c1d', np.float32(0.5459798)), ('23373a5dc273beeb756d7bc83e15d532', np.float32(0.5501095)), ('76decc8c59c998ab814bb8b08c2aa01a', np.float32(0.5523466)), ('eef785ff51518590bbefdfa3dcda9aa1', np.float32(0.5550407)), ('46b26538e6e082f8af12c04ced6a7cbd', np.float32(0.5554805)), ('f4fc2dc5472a52786c26ca59cda11404', np.float32(0.556844)), ('f3ed24cfe06eba68e00a8767fd43333c', np.float32(0.5585007)), ('06479de9831d5029521cd7353b9c9fd6', np.float32(0.5627042)), ('09bfae6056b88df07641bf7e2df0841c', np.float32(0.56435466)), ('71ff907a6a99818a84a9f86bb5f4a570', np.float32(0.5661218)), ('4d858edeaed3722cb5e4de73effa5e9a', np.float32(0.5661706)), ('cde08ad63bcba601d863d16d65aa1d2e', np.float32(0.56666774)), ('744cc7b7f069475d726acf4521590ae2', np.float32(0.56855476)), ('26ca8dfbac21570d92d02b913e58ef37', np.float32(0.5696037)), ('bcb17e3bbddd2db63554a7b0ad42d5e7', np.float32(0.57346743)), ('6954dc6fce6945ba0e2da0e778b72765', np.float32(0.5819305)), ('e210bfe3731b73cc492d25ba23f45164', np.float32(0.5831177)), ('ac4e86bd281a942b797436ad4870cabe', np.float32(0.5919866)), ('f933f6e1cb41561032230f464af423d6', np.float32(0.5920272)), ('937aa8eb8dfc26c8cb7762d3d6a89691', np.float32(0.59221905)), ('7d99f1968acd0480aa4d2b96061064b3', np.float32(0.6013075)), ('c6aa1e3d105be115ad73e4d8c25ae777', np.float32(0.6015314)), ('768d7298686171804ee31cdd05dbdbae', np.float32(0.6017587)), ('3bc3e4cbee1bec122e7f514b6f787020', np.float32(0.60780406)), ('830b15332587271f14765a600b749faf', np.float32(0.60868233)), ('5aaf36c69358d505d39b5b9c41921ccb', np.float32(0.60878575)), ('c33b0d38af5f2ce57fef74302e0d4119', np.float32(0.60952425)), ('99be0df0f7703743f6cf2e0e46eaef5d', np.float32(0.60992485)), ('2212e94840473483655624aeb02a447c', np.float32(0.6102608)), ('ed75bccdee097c0ee996c72427fa41a7', np.float32(0.6108918)), ('f33901855b7bc2e0b204663c81da8146', np.float32(0.6116133)), ('9e1638f0f297cea22b115e7d9be84982', np.float32(0.6120839))]\n"
     ]
    }
   ],
   "source": [
    "# Get the query hash's index and embedding\n",
    "query_hash = '23373a5dc273beeb756d7bc83e15d532'\n",
    "\n",
    "# Find index of the query hash in the database\n",
    "hash_index = embedding_db.ids.index(query_hash)\n",
    "query_embedding = embedding_db.embeddings[hash_index]\n",
    "\n",
    "# Search for nearest neighbors\n",
    "results = embedding_db.search(query_embedding, k=50)\n",
    "print(\"Nearest neighbors for query hash\", query_hash, \":\", results)"
   ]
  },
  {
   "cell_type": "code",
   "execution_count": 11,
   "metadata": {},
   "outputs": [
    {
     "data": {
      "application/vnd.plotly.v1+json": {
       "config": {
        "plotlyServerURL": "https://plot.ly"
       },
       "data": [
        {
         "hovertemplate": "%{text}<extra></extra>",
         "marker": {
          "size": 8
         },
         "mode": "lines+markers",
         "text": [
          "Index: 0<br>Hash: cf01c8937b391ab760476f80f5cf3c4b<br>Distance: 0.0000",
          "Index: 1<br>Hash: bb3ecb2e12fac67954ef0fb858ea1a2d<br>Distance: 0.1994",
          "Index: 2<br>Hash: f45555d1683f0ba1bdb259af2889dc46<br>Distance: 0.2683",
          "Index: 3<br>Hash: 0571f3fdb99ff04665dc04b4f3367e0a<br>Distance: 0.2954",
          "Index: 4<br>Hash: b3e15be1c5afe1e1f2c6b7eac5524b71<br>Distance: 0.3634",
          "Index: 5<br>Hash: c9be300376eaffae56285d387066a51c<br>Distance: 0.4217",
          "Index: 6<br>Hash: c995dfbea1903b37dc48ab891ea95725<br>Distance: 0.4654",
          "Index: 7<br>Hash: 20211d7a082896985c87319aa9a356dd<br>Distance: 0.4670",
          "Index: 8<br>Hash: efcc5dd9968b4b043c547a15eaf7bf7e<br>Distance: 0.4697",
          "Index: 9<br>Hash: 2c435a7ce800e13f66fac37c80360ff9<br>Distance: 0.4797",
          "Index: 10<br>Hash: 5f8a3e26947356ba91e1fb4d9eca8e3f<br>Distance: 0.4813",
          "Index: 11<br>Hash: 6ac853b09cf3d54d4eba9f7086ca3c43<br>Distance: 0.5048",
          "Index: 12<br>Hash: f6ecab9fad7be9a5e6773e3bb4026b71<br>Distance: 0.5163",
          "Index: 13<br>Hash: 318cf7903d26c53058e85ee7cf7d4534<br>Distance: 0.5196",
          "Index: 14<br>Hash: 61ebb1e315d5f6d3f8989e8cb3a4ce67<br>Distance: 0.5237",
          "Index: 15<br>Hash: b9107a09e20968f580030c709034e689<br>Distance: 0.5306",
          "Index: 16<br>Hash: a3ca90158b6685d3752067cc96d5b7cf<br>Distance: 0.5347",
          "Index: 17<br>Hash: 0350e9157451100bfc6a8ba882e4ffdb<br>Distance: 0.5396",
          "Index: 18<br>Hash: 7fdef6800311e4b2550b2c63ba0e7c1d<br>Distance: 0.5460",
          "Index: 19<br>Hash: 23373a5dc273beeb756d7bc83e15d532<br>Distance: 0.5501",
          "Index: 20<br>Hash: 76decc8c59c998ab814bb8b08c2aa01a<br>Distance: 0.5523",
          "Index: 21<br>Hash: eef785ff51518590bbefdfa3dcda9aa1<br>Distance: 0.5550",
          "Index: 22<br>Hash: 46b26538e6e082f8af12c04ced6a7cbd<br>Distance: 0.5555",
          "Index: 23<br>Hash: f4fc2dc5472a52786c26ca59cda11404<br>Distance: 0.5568",
          "Index: 24<br>Hash: f3ed24cfe06eba68e00a8767fd43333c<br>Distance: 0.5585",
          "Index: 25<br>Hash: 06479de9831d5029521cd7353b9c9fd6<br>Distance: 0.5627",
          "Index: 26<br>Hash: 09bfae6056b88df07641bf7e2df0841c<br>Distance: 0.5644",
          "Index: 27<br>Hash: 71ff907a6a99818a84a9f86bb5f4a570<br>Distance: 0.5661",
          "Index: 28<br>Hash: 4d858edeaed3722cb5e4de73effa5e9a<br>Distance: 0.5662",
          "Index: 29<br>Hash: cde08ad63bcba601d863d16d65aa1d2e<br>Distance: 0.5667",
          "Index: 30<br>Hash: 744cc7b7f069475d726acf4521590ae2<br>Distance: 0.5686",
          "Index: 31<br>Hash: 26ca8dfbac21570d92d02b913e58ef37<br>Distance: 0.5696",
          "Index: 32<br>Hash: bcb17e3bbddd2db63554a7b0ad42d5e7<br>Distance: 0.5735",
          "Index: 33<br>Hash: 6954dc6fce6945ba0e2da0e778b72765<br>Distance: 0.5819",
          "Index: 34<br>Hash: e210bfe3731b73cc492d25ba23f45164<br>Distance: 0.5831",
          "Index: 35<br>Hash: ac4e86bd281a942b797436ad4870cabe<br>Distance: 0.5920",
          "Index: 36<br>Hash: f933f6e1cb41561032230f464af423d6<br>Distance: 0.5920",
          "Index: 37<br>Hash: 937aa8eb8dfc26c8cb7762d3d6a89691<br>Distance: 0.5922",
          "Index: 38<br>Hash: 7d99f1968acd0480aa4d2b96061064b3<br>Distance: 0.6013",
          "Index: 39<br>Hash: c6aa1e3d105be115ad73e4d8c25ae777<br>Distance: 0.6015",
          "Index: 40<br>Hash: 768d7298686171804ee31cdd05dbdbae<br>Distance: 0.6018",
          "Index: 41<br>Hash: 3bc3e4cbee1bec122e7f514b6f787020<br>Distance: 0.6078",
          "Index: 42<br>Hash: 830b15332587271f14765a600b749faf<br>Distance: 0.6087",
          "Index: 43<br>Hash: 5aaf36c69358d505d39b5b9c41921ccb<br>Distance: 0.6088",
          "Index: 44<br>Hash: c33b0d38af5f2ce57fef74302e0d4119<br>Distance: 0.6095",
          "Index: 45<br>Hash: 99be0df0f7703743f6cf2e0e46eaef5d<br>Distance: 0.6099",
          "Index: 46<br>Hash: 2212e94840473483655624aeb02a447c<br>Distance: 0.6103",
          "Index: 47<br>Hash: ed75bccdee097c0ee996c72427fa41a7<br>Distance: 0.6109",
          "Index: 48<br>Hash: f33901855b7bc2e0b204663c81da8146<br>Distance: 0.6116",
          "Index: 49<br>Hash: 9e1638f0f297cea22b115e7d9be84982<br>Distance: 0.6121"
         ],
         "type": "scatter",
         "x": [
          0,
          1,
          2,
          3,
          4,
          5,
          6,
          7,
          8,
          9,
          10,
          11,
          12,
          13,
          14,
          15,
          16,
          17,
          18,
          19,
          20,
          21,
          22,
          23,
          24,
          25,
          26,
          27,
          28,
          29,
          30,
          31,
          32,
          33,
          34,
          35,
          36,
          37,
          38,
          39,
          40,
          41,
          42,
          43,
          44,
          45,
          46,
          47,
          48,
          49
         ],
         "y": [
          0,
          0.19935140013694763,
          0.2683217525482178,
          0.2953628897666931,
          0.3633931875228882,
          0.42165234684944153,
          0.46536320447921753,
          0.46700409054756165,
          0.4696508049964905,
          0.479653000831604,
          0.48131418228149414,
          0.5047523975372314,
          0.5162606835365295,
          0.5195562243461609,
          0.5237216949462891,
          0.5306223034858704,
          0.5346585512161255,
          0.5395536422729492,
          0.5459797978401184,
          0.5501095056533813,
          0.5523465871810913,
          0.555040717124939,
          0.5554804801940918,
          0.5568439960479736,
          0.5585007071495056,
          0.5627042055130005,
          0.564354658126831,
          0.5661218166351318,
          0.5661705732345581,
          0.5666677355766296,
          0.5685547590255737,
          0.569603681564331,
          0.5734674334526062,
          0.5819305181503296,
          0.5831177234649658,
          0.5919865965843201,
          0.5920271873474121,
          0.5922190546989441,
          0.6013075113296509,
          0.6015313863754272,
          0.6017587184906006,
          0.6078040599822998,
          0.6086823344230652,
          0.6087857484817505,
          0.6095242500305176,
          0.609924852848053,
          0.6102607846260071,
          0.6108918190002441,
          0.6116132736206055,
          0.612083911895752
         ]
        }
       ],
       "layout": {
        "height": 400,
        "showlegend": false,
        "template": {
         "data": {
          "bar": [
           {
            "error_x": {
             "color": "#2a3f5f"
            },
            "error_y": {
             "color": "#2a3f5f"
            },
            "marker": {
             "line": {
              "color": "#E5ECF6",
              "width": 0.5
             },
             "pattern": {
              "fillmode": "overlay",
              "size": 10,
              "solidity": 0.2
             }
            },
            "type": "bar"
           }
          ],
          "barpolar": [
           {
            "marker": {
             "line": {
              "color": "#E5ECF6",
              "width": 0.5
             },
             "pattern": {
              "fillmode": "overlay",
              "size": 10,
              "solidity": 0.2
             }
            },
            "type": "barpolar"
           }
          ],
          "carpet": [
           {
            "aaxis": {
             "endlinecolor": "#2a3f5f",
             "gridcolor": "white",
             "linecolor": "white",
             "minorgridcolor": "white",
             "startlinecolor": "#2a3f5f"
            },
            "baxis": {
             "endlinecolor": "#2a3f5f",
             "gridcolor": "white",
             "linecolor": "white",
             "minorgridcolor": "white",
             "startlinecolor": "#2a3f5f"
            },
            "type": "carpet"
           }
          ],
          "choropleth": [
           {
            "colorbar": {
             "outlinewidth": 0,
             "ticks": ""
            },
            "type": "choropleth"
           }
          ],
          "contour": [
           {
            "colorbar": {
             "outlinewidth": 0,
             "ticks": ""
            },
            "colorscale": [
             [
              0,
              "#0d0887"
             ],
             [
              0.1111111111111111,
              "#46039f"
             ],
             [
              0.2222222222222222,
              "#7201a8"
             ],
             [
              0.3333333333333333,
              "#9c179e"
             ],
             [
              0.4444444444444444,
              "#bd3786"
             ],
             [
              0.5555555555555556,
              "#d8576b"
             ],
             [
              0.6666666666666666,
              "#ed7953"
             ],
             [
              0.7777777777777778,
              "#fb9f3a"
             ],
             [
              0.8888888888888888,
              "#fdca26"
             ],
             [
              1,
              "#f0f921"
             ]
            ],
            "type": "contour"
           }
          ],
          "contourcarpet": [
           {
            "colorbar": {
             "outlinewidth": 0,
             "ticks": ""
            },
            "type": "contourcarpet"
           }
          ],
          "heatmap": [
           {
            "colorbar": {
             "outlinewidth": 0,
             "ticks": ""
            },
            "colorscale": [
             [
              0,
              "#0d0887"
             ],
             [
              0.1111111111111111,
              "#46039f"
             ],
             [
              0.2222222222222222,
              "#7201a8"
             ],
             [
              0.3333333333333333,
              "#9c179e"
             ],
             [
              0.4444444444444444,
              "#bd3786"
             ],
             [
              0.5555555555555556,
              "#d8576b"
             ],
             [
              0.6666666666666666,
              "#ed7953"
             ],
             [
              0.7777777777777778,
              "#fb9f3a"
             ],
             [
              0.8888888888888888,
              "#fdca26"
             ],
             [
              1,
              "#f0f921"
             ]
            ],
            "type": "heatmap"
           }
          ],
          "histogram": [
           {
            "marker": {
             "pattern": {
              "fillmode": "overlay",
              "size": 10,
              "solidity": 0.2
             }
            },
            "type": "histogram"
           }
          ],
          "histogram2d": [
           {
            "colorbar": {
             "outlinewidth": 0,
             "ticks": ""
            },
            "colorscale": [
             [
              0,
              "#0d0887"
             ],
             [
              0.1111111111111111,
              "#46039f"
             ],
             [
              0.2222222222222222,
              "#7201a8"
             ],
             [
              0.3333333333333333,
              "#9c179e"
             ],
             [
              0.4444444444444444,
              "#bd3786"
             ],
             [
              0.5555555555555556,
              "#d8576b"
             ],
             [
              0.6666666666666666,
              "#ed7953"
             ],
             [
              0.7777777777777778,
              "#fb9f3a"
             ],
             [
              0.8888888888888888,
              "#fdca26"
             ],
             [
              1,
              "#f0f921"
             ]
            ],
            "type": "histogram2d"
           }
          ],
          "histogram2dcontour": [
           {
            "colorbar": {
             "outlinewidth": 0,
             "ticks": ""
            },
            "colorscale": [
             [
              0,
              "#0d0887"
             ],
             [
              0.1111111111111111,
              "#46039f"
             ],
             [
              0.2222222222222222,
              "#7201a8"
             ],
             [
              0.3333333333333333,
              "#9c179e"
             ],
             [
              0.4444444444444444,
              "#bd3786"
             ],
             [
              0.5555555555555556,
              "#d8576b"
             ],
             [
              0.6666666666666666,
              "#ed7953"
             ],
             [
              0.7777777777777778,
              "#fb9f3a"
             ],
             [
              0.8888888888888888,
              "#fdca26"
             ],
             [
              1,
              "#f0f921"
             ]
            ],
            "type": "histogram2dcontour"
           }
          ],
          "mesh3d": [
           {
            "colorbar": {
             "outlinewidth": 0,
             "ticks": ""
            },
            "type": "mesh3d"
           }
          ],
          "parcoords": [
           {
            "line": {
             "colorbar": {
              "outlinewidth": 0,
              "ticks": ""
             }
            },
            "type": "parcoords"
           }
          ],
          "pie": [
           {
            "automargin": true,
            "type": "pie"
           }
          ],
          "scatter": [
           {
            "fillpattern": {
             "fillmode": "overlay",
             "size": 10,
             "solidity": 0.2
            },
            "type": "scatter"
           }
          ],
          "scatter3d": [
           {
            "line": {
             "colorbar": {
              "outlinewidth": 0,
              "ticks": ""
             }
            },
            "marker": {
             "colorbar": {
              "outlinewidth": 0,
              "ticks": ""
             }
            },
            "type": "scatter3d"
           }
          ],
          "scattercarpet": [
           {
            "marker": {
             "colorbar": {
              "outlinewidth": 0,
              "ticks": ""
             }
            },
            "type": "scattercarpet"
           }
          ],
          "scattergeo": [
           {
            "marker": {
             "colorbar": {
              "outlinewidth": 0,
              "ticks": ""
             }
            },
            "type": "scattergeo"
           }
          ],
          "scattergl": [
           {
            "marker": {
             "colorbar": {
              "outlinewidth": 0,
              "ticks": ""
             }
            },
            "type": "scattergl"
           }
          ],
          "scattermap": [
           {
            "marker": {
             "colorbar": {
              "outlinewidth": 0,
              "ticks": ""
             }
            },
            "type": "scattermap"
           }
          ],
          "scattermapbox": [
           {
            "marker": {
             "colorbar": {
              "outlinewidth": 0,
              "ticks": ""
             }
            },
            "type": "scattermapbox"
           }
          ],
          "scatterpolar": [
           {
            "marker": {
             "colorbar": {
              "outlinewidth": 0,
              "ticks": ""
             }
            },
            "type": "scatterpolar"
           }
          ],
          "scatterpolargl": [
           {
            "marker": {
             "colorbar": {
              "outlinewidth": 0,
              "ticks": ""
             }
            },
            "type": "scatterpolargl"
           }
          ],
          "scatterternary": [
           {
            "marker": {
             "colorbar": {
              "outlinewidth": 0,
              "ticks": ""
             }
            },
            "type": "scatterternary"
           }
          ],
          "surface": [
           {
            "colorbar": {
             "outlinewidth": 0,
             "ticks": ""
            },
            "colorscale": [
             [
              0,
              "#0d0887"
             ],
             [
              0.1111111111111111,
              "#46039f"
             ],
             [
              0.2222222222222222,
              "#7201a8"
             ],
             [
              0.3333333333333333,
              "#9c179e"
             ],
             [
              0.4444444444444444,
              "#bd3786"
             ],
             [
              0.5555555555555556,
              "#d8576b"
             ],
             [
              0.6666666666666666,
              "#ed7953"
             ],
             [
              0.7777777777777778,
              "#fb9f3a"
             ],
             [
              0.8888888888888888,
              "#fdca26"
             ],
             [
              1,
              "#f0f921"
             ]
            ],
            "type": "surface"
           }
          ],
          "table": [
           {
            "cells": {
             "fill": {
              "color": "#EBF0F8"
             },
             "line": {
              "color": "white"
             }
            },
            "header": {
             "fill": {
              "color": "#C8D4E3"
             },
             "line": {
              "color": "white"
             }
            },
            "type": "table"
           }
          ]
         },
         "layout": {
          "annotationdefaults": {
           "arrowcolor": "#2a3f5f",
           "arrowhead": 0,
           "arrowwidth": 1
          },
          "autotypenumbers": "strict",
          "coloraxis": {
           "colorbar": {
            "outlinewidth": 0,
            "ticks": ""
           }
          },
          "colorscale": {
           "diverging": [
            [
             0,
             "#8e0152"
            ],
            [
             0.1,
             "#c51b7d"
            ],
            [
             0.2,
             "#de77ae"
            ],
            [
             0.3,
             "#f1b6da"
            ],
            [
             0.4,
             "#fde0ef"
            ],
            [
             0.5,
             "#f7f7f7"
            ],
            [
             0.6,
             "#e6f5d0"
            ],
            [
             0.7,
             "#b8e186"
            ],
            [
             0.8,
             "#7fbc41"
            ],
            [
             0.9,
             "#4d9221"
            ],
            [
             1,
             "#276419"
            ]
           ],
           "sequential": [
            [
             0,
             "#0d0887"
            ],
            [
             0.1111111111111111,
             "#46039f"
            ],
            [
             0.2222222222222222,
             "#7201a8"
            ],
            [
             0.3333333333333333,
             "#9c179e"
            ],
            [
             0.4444444444444444,
             "#bd3786"
            ],
            [
             0.5555555555555556,
             "#d8576b"
            ],
            [
             0.6666666666666666,
             "#ed7953"
            ],
            [
             0.7777777777777778,
             "#fb9f3a"
            ],
            [
             0.8888888888888888,
             "#fdca26"
            ],
            [
             1,
             "#f0f921"
            ]
           ],
           "sequentialminus": [
            [
             0,
             "#0d0887"
            ],
            [
             0.1111111111111111,
             "#46039f"
            ],
            [
             0.2222222222222222,
             "#7201a8"
            ],
            [
             0.3333333333333333,
             "#9c179e"
            ],
            [
             0.4444444444444444,
             "#bd3786"
            ],
            [
             0.5555555555555556,
             "#d8576b"
            ],
            [
             0.6666666666666666,
             "#ed7953"
            ],
            [
             0.7777777777777778,
             "#fb9f3a"
            ],
            [
             0.8888888888888888,
             "#fdca26"
            ],
            [
             1,
             "#f0f921"
            ]
           ]
          },
          "colorway": [
           "#636efa",
           "#EF553B",
           "#00cc96",
           "#ab63fa",
           "#FFA15A",
           "#19d3f3",
           "#FF6692",
           "#B6E880",
           "#FF97FF",
           "#FECB52"
          ],
          "font": {
           "color": "#2a3f5f"
          },
          "geo": {
           "bgcolor": "white",
           "lakecolor": "white",
           "landcolor": "#E5ECF6",
           "showlakes": true,
           "showland": true,
           "subunitcolor": "white"
          },
          "hoverlabel": {
           "align": "left"
          },
          "hovermode": "closest",
          "mapbox": {
           "style": "light"
          },
          "paper_bgcolor": "white",
          "plot_bgcolor": "#E5ECF6",
          "polar": {
           "angularaxis": {
            "gridcolor": "white",
            "linecolor": "white",
            "ticks": ""
           },
           "bgcolor": "#E5ECF6",
           "radialaxis": {
            "gridcolor": "white",
            "linecolor": "white",
            "ticks": ""
           }
          },
          "scene": {
           "xaxis": {
            "backgroundcolor": "#E5ECF6",
            "gridcolor": "white",
            "gridwidth": 2,
            "linecolor": "white",
            "showbackground": true,
            "ticks": "",
            "zerolinecolor": "white"
           },
           "yaxis": {
            "backgroundcolor": "#E5ECF6",
            "gridcolor": "white",
            "gridwidth": 2,
            "linecolor": "white",
            "showbackground": true,
            "ticks": "",
            "zerolinecolor": "white"
           },
           "zaxis": {
            "backgroundcolor": "#E5ECF6",
            "gridcolor": "white",
            "gridwidth": 2,
            "linecolor": "white",
            "showbackground": true,
            "ticks": "",
            "zerolinecolor": "white"
           }
          },
          "shapedefaults": {
           "line": {
            "color": "#2a3f5f"
           }
          },
          "ternary": {
           "aaxis": {
            "gridcolor": "white",
            "linecolor": "white",
            "ticks": ""
           },
           "baxis": {
            "gridcolor": "white",
            "linecolor": "white",
            "ticks": ""
           },
           "bgcolor": "#E5ECF6",
           "caxis": {
            "gridcolor": "white",
            "linecolor": "white",
            "ticks": ""
           }
          },
          "title": {
           "x": 0.05
          },
          "xaxis": {
           "automargin": true,
           "gridcolor": "white",
           "linecolor": "white",
           "ticks": "",
           "title": {
            "standoff": 15
           },
           "zerolinecolor": "white",
           "zerolinewidth": 2
          },
          "yaxis": {
           "automargin": true,
           "gridcolor": "white",
           "linecolor": "white",
           "ticks": "",
           "title": {
            "standoff": 15
           },
           "zerolinecolor": "white",
           "zerolinewidth": 2
          }
         }
        },
        "title": {
         "text": "Image Similarity Plot"
        },
        "width": 800,
        "xaxis": {
         "title": {
          "text": "Index"
         }
        },
        "yaxis": {
         "title": {
          "text": "Distance"
         }
        }
       }
      }
     },
     "metadata": {},
     "output_type": "display_data"
    },
    {
     "data": {
      "text/html": [
       "<div style=\"display: flex; flex-wrap: wrap; gap: 10px;\">\n",
       "    <div style='text-align: center; border: 1px solid #ddd; padding: 5px;'>\n",
       "        <img src=\"data:image/jpeg;base64,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\" style=\"max-width:none\">\n",
       "        <br>\n",
       "        <small>Index: 0</small><br>\n",
       "        <small>Distance: 0.0000</small><br>\n",
       "        <small>Hash: cf01c8937b391ab760476f80f5cf3c4b</small>\n",
       "    </div>\n",
       "    \n",
       "    <div style='text-align: center; border: 1px solid #ddd; padding: 5px;'>\n",
       "        <img src=\"data:image/jpeg;base64,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\" style=\"max-width:none\">\n",
       "        <br>\n",
       "        <small>Index: 1</small><br>\n",
       "        <small>Distance: 0.1994</small><br>\n",
       "        <small>Hash: bb3ecb2e12fac67954ef0fb858ea1a2d</small>\n",
       "    </div>\n",
       "    \n",
       "    <div style='text-align: center; border: 1px solid #ddd; padding: 5px;'>\n",
       "        <img src=\"data:image/jpeg;base64,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\" style=\"max-width:none\">\n",
       "        <br>\n",
       "        <small>Index: 2</small><br>\n",
       "        <small>Distance: 0.2683</small><br>\n",
       "        <small>Hash: f45555d1683f0ba1bdb259af2889dc46</small>\n",
       "    </div>\n",
       "    \n",
       "    <div style='text-align: center; border: 1px solid #ddd; padding: 5px;'>\n",
       "        <img src=\"data:image/jpeg;base64,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\" style=\"max-width:none\">\n",
       "        <br>\n",
       "        <small>Index: 3</small><br>\n",
       "        <small>Distance: 0.2954</small><br>\n",
       "        <small>Hash: 0571f3fdb99ff04665dc04b4f3367e0a</small>\n",
       "    </div>\n",
       "    \n",
       "    <div style='text-align: center; border: 1px solid #ddd; padding: 5px;'>\n",
       "        <img src=\"data:image/jpeg;base64,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\" style=\"max-width:none\">\n",
       "        <br>\n",
       "        <small>Index: 4</small><br>\n",
       "        <small>Distance: 0.3634</small><br>\n",
       "        <small>Hash: b3e15be1c5afe1e1f2c6b7eac5524b71</small>\n",
       "    </div>\n",
       "    \n",
       "    <div style='text-align: center; border: 1px solid #ddd; padding: 5px;'>\n",
       "        <img src=\"data:image/jpeg;base64,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\" style=\"max-width:none\">\n",
       "        <br>\n",
       "        <small>Index: 5</small><br>\n",
       "        <small>Distance: 0.4217</small><br>\n",
       "        <small>Hash: c9be300376eaffae56285d387066a51c</small>\n",
       "    </div>\n",
       "    \n",
       "    <div style='text-align: center; border: 1px solid #ddd; padding: 5px;'>\n",
       "        <img src=\"data:image/jpeg;base64,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\" style=\"max-width:none\">\n",
       "        <br>\n",
       "        <small>Index: 6</small><br>\n",
       "        <small>Distance: 0.4654</small><br>\n",
       "        <small>Hash: c995dfbea1903b37dc48ab891ea95725</small>\n",
       "    </div>\n",
       "    \n",
       "    <div style='text-align: center; border: 1px solid #ddd; padding: 5px;'>\n",
       "        <img src=\"data:image/jpeg;base64,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\" style=\"max-width:none\">\n",
       "        <br>\n",
       "        <small>Index: 7</small><br>\n",
       "        <small>Distance: 0.4670</small><br>\n",
       "        <small>Hash: 20211d7a082896985c87319aa9a356dd</small>\n",
       "    </div>\n",
       "    \n",
       "    <div style='text-align: center; border: 1px solid #ddd; padding: 5px;'>\n",
       "        <img src=\"data:image/jpeg;base64,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\" style=\"max-width:none\">\n",
       "        <br>\n",
       "        <small>Index: 8</small><br>\n",
       "        <small>Distance: 0.4697</small><br>\n",
       "        <small>Hash: efcc5dd9968b4b043c547a15eaf7bf7e</small>\n",
       "    </div>\n",
       "    \n",
       "    <div style='text-align: center; border: 1px solid #ddd; padding: 5px;'>\n",
       "        <img src=\"data:image/jpeg;base64,/9j/4AAQSkZJRgABAQAAAQABAAD/2wBDAAoHBwgHBgoICAgLCgoLDhgQDg0NDh0VFhEYIx8lJCIfIiEmKzcvJik0KSEiMEExNDk7Pj4+JS5ESUM8SDc9Pjv/2wBDAQoLCw4NDhwQEBw7KCIoOzs7Ozs7Ozs7Ozs7Ozs7Ozs7Ozs7Ozs7Ozs7Ozs7Ozs7Ozs7Ozs7Ozs7Ozs7Ozs7Ozv/wAARCADSAJYDASIAAhEBAxEB/8QAHwAAAQUBAQEBAQEAAAAAAAAAAAECAwQFBgcICQoL/8QAtRAAAgEDAwIEAwUFBAQAAAF9AQIDAAQRBRIhMUEGE1FhByJxFDKBkaEII0KxwRVS0fAkM2JyggkKFhcYGRolJicoKSo0NTY3ODk6Q0RFRkdISUpTVFVWV1hZWmNkZWZnaGlqc3R1dnd4eXqDhIWGh4iJipKTlJWWl5iZmqKjpKWmp6ipqrKztLW2t7i5usLDxMXGx8jJytLT1NXW19jZ2uHi4+Tl5ufo6erx8vP09fb3+Pn6/8QAHwEAAwEBAQEBAQEBAQAAAAAAAAECAwQFBgcICQoL/8QAtREAAgECBAQDBAcFBAQAAQJ3AAECAxEEBSExBhJBUQdhcRMiMoEIFEKRobHBCSMzUvAVYnLRChYkNOEl8RcYGRomJygpKjU2Nzg5OkNERUZHSElKU1RVVldYWVpjZGVmZ2hpanN0dXZ3eHl6goOEhYaHiImKkpOUlZaXmJmaoqOkpaanqKmqsrO0tba3uLm6wsPExcbHyMnK0tPU1dbX2Nna4uPk5ebn6Onq8vP09fb3+Pn6/9oADAMBAAIRAxEAPwD1IUtNp4pFCilptOpgLS00U6gApaSlpAFLVbUNRtdKsJb29l8uCIZY4yfYAdzXCXXxUkEpNno+6Bf4ppcMR9AOP1obS3Gk3seiUVheG/F+n+JQ8cIaC6iGZLeTqB6g9xW7QIKKKTNABmlptLQAUUUUAFFJRQBCKcKYKcKAHUueKSgUALS5pKBTAdSikopAcV8UroRaHa24YZlnyR7BT/U153buEQFxuHpXp3xAsVvNHOUDMo+U9wcivP08PX0rJ5a/Ky5z6VhN6nXTjeN0Wvh9LjxxC+QodHXr/s9P5V7HXm3gTRGs9YkuJox5ikAE9h/9evSa0g7oxqqzENJSmkqzIKKSloAKWkpaAEooooAgpwpBRQA+k70CloAWgUmaUUAKKWkFOVCevSgDK8RKZNJeNELO7Kq4Gcc8msuKMwW4i9BiuvRcCgxITzGv/fIrKdPmd7nRSr+zjy2Oe8OQKIppWA3+YVrbqUouMBQPoMVGU9KuK5VYxnLmk5DaKKSqJClpKKAFooooAKKKKAIAaWmiloAeDRSClpgFKKSnxDLZP8PNAEka9frUgAFRRcIGPc1KOlIB1FA6UUAFIy8Zpc0E8igRA64JIqOrBGTj1BqueDigApaSigBaKSgUALRRRQMrg0tNHSlFADxS00UuaAFNWAuyA+pFV+1UZL+9sEd5186IAn/JoA1sYgP0pY23Ip9aqR6pay2qybmjBGSHHSpLOXzIwQcgkkfShNPYbi1oy4vSk6E0gPNOPY0EiUzePMCnrindjVZ5VS7RCeo4PvQBYP3gailXBz61MRkVWkurfeIA+6Q/3egoAKKSloAKKSloAKKKKAKoNPBqIGng0xjxS00UtADs1U1V9ml3LdhGc1aqvqEfnadcxjq0TD9KT2HHRoyonElmBnhio/Wt+3AjVFUYAJWuVspC9jZju7p/OuoiYmInuGrOnsbV/iLuead1GKjByoPrTlNaHOIzEcDrVG/DBRIv3ozkVfI+aq1yNwdfXigEYOr3FxdWUkbTOFK9EOKv6XFEbKCcDLPGDk/Ssm6Ym0YHqODWto/Gk2w/2P61jTb5nc6qyXIrF8UUlFbHKLRRRQAtFJRQBSU1IDUIp4NMZKDTgajBpQaAJKaeeD0NKDSGgDkoG+yXNvFJwkU5yfQZOK6mwnWe1imUELKocA9cHmuJ1+/jhvjbhS5eRtwHXGcYrtbCEQ2FvGoICRKuPoKzptao6cRGyjLuaER+XHoeKcOtQqcVJurQ5R+6q0p6mpc1HKpZDj0pAc3qSeXczQ9pBvX+tbGmLs023X0QCubu9USbxKYJGAEeY09Omf15rprI5s4j6rWcbczOmomqcblilpBRWhzC0tNpaBi0UlFAFPFKKdRimAmacDmm4o6GgCSgmkBpDQBxPinTJEvZL9OPLBfp2AzWb4X8T+JY1DTSfaoHyBGxX5eMjGRnHTjNd9qKLJYzBhnCEj8q4u3jktrdrZIz+6XhycK/oMA9en51CSTNZTlOKv0OktPFk76e15c2kMaqSCEck8HnggY/Gp5vFcQurW3t4I5Wmj8xy0mPLHbt3rhdPup7Ms7ygyHiNIh5iqMkjpz3PrVGbUJLu61OcNhoEiWPaeNuSCO/qPyqzKx6K3iO+uLkx2FvaPCrMHlLklQFznaOvOB+dcV4r8X69Lqf2C1uzDGijeIlxvJB9un+NY2m30yXlz5szRud/wAwYAEcHHB65Nb+n2sV7YMtpKC8pzvMJGT3PPX9aQ7EGlRtdafZ2scbrOk/mSkn7irwB9etel2aGO0iQ9lqlY6ZFAiMwBYgE/LjJx3rSFSo2dzSdTmio9h1FJRVGI6ikooAdRSUUAVlbIp1QRPU4NMYYpCKWigBAaU0mKMUAQ3YzZzD/pm38qw7OFHgIlRWUjkNyMYrW1OXybCU45YbQPc8VmMwjshjGTxWFV6o6aK0ZjN4dt77Vd6IwjiAIjTG3NbqeH7eHS7i3WJF81fmAHXHqe9T6NGRDJM2cu3GfStIjKkeorSF+XUxqW5tDkNF8PaRD+/+wxtKed0mWwfoeK2LNBJqo+UBVQnFQabhWKd0yD+dXtPUfbpWHUIB+tYRbclc6JpKLsagpwpoFOrpOMXNLSUUALSikFLQAtFIaKBmYhxVlGzUG3FPRsUxFiikU5FKaAA0UUUDMXW5TJdW1ovvI38h/Wq11HvEUIP3nA/Wn3R36/NnoiIB+Wf605huvbZB/wA9Qa5ZazO2GlM2YYlijVF6AVJQKWuk4jngmzWLoL0DDj3Iq3YOU1Noz0ePj6g1TtiX1G7kP8UzAfhxVm251iM/7LfyrlXx38ztf8O3kbYp1ItOrqOISig0UCFpaSigAooooAzw/rT8g1XD0u6mBciOAc07cPWqQJp24jvQBa3UbhVbeaXzDQM878Y+K77w74umjihimikijcK+QRxjqPpWz4J1q48SNNezWyQRwNsXaxOWI5/pXF/E65gufFCCJsvHborkdOckY/A123w7hitfCsIR1MkjGSQA8qT0B/DFbSpwVNTtqZRq1HNwvodiDQWqHzKPM96wNTjdY8V2Ph7W5rS8hnyT5itGoIIb8ateF/Edn4h1pxZxTBYYizNIoA5OAOtcp8U4h/blrN/z0t8fkx/xrd+Flj9m0e4vSPmuJNqn/ZX/AOuTWzoU1Dn6ke3qOXJ0PQV4pSaiDnFG+sSyTNLkVD5g9aUNQIlzS5qLdS7qBklFR7qKBGaFp30FKFpwUUxjQKMU/AFGKAGc0hOB1we1SFajljYqcGgDySDwJqurzzzm4TepOSzBs4/Hiu18C6XJpWmXMchBLTdQ2ckDB/w/CuhsdE0yZJJXtQskhPmbHZQ31AOKmhs4LUGC2iEUSk4UVpKq5R5TKNNKVxCTSgEmpfLxTWUisjU8c8TSanrWtXLMkkscMrLEMcRrnGP0rsfhvPcJY3NhMRiEh1X+7nORn8K6FNBvpXnlgu7fypX3COWLO38am0vSG02aaWaaF3kABEUW3p6mt5VU4ctjCMGpuRfzSZNKqlucYp2zFYG40Z9KWlxS4oATJoyaKSgA3UUYooAhxxTlUd6UKDSkdgKYg4pOTTgppcYoGJijFOAoxQARnYDjjPpQTk0cml20gG59qXAIpcYpQtADoD5SFRyPrSBAGLdT70DNLQAc0mDS0tACYNJg+lOooAac+lJj2p9IaAGbaKfRQBD2oFFFMBRSiiigB3akFFFACH+tPoopAJS+lFFADu1IaKKAFHSloooATvTu1FFACU09aKKAFooooEf/2Q==\" style=\"max-width:none\">\n",
       "        <br>\n",
       "        <small>Index: 9</small><br>\n",
       "        <small>Distance: 0.4797</small><br>\n",
       "        <small>Hash: 2c435a7ce800e13f66fac37c80360ff9</small>\n",
       "    </div>\n",
       "    \n",
       "    <div style='text-align: center; border: 1px solid #ddd; padding: 5px;'>\n",
       "        <img src=\"data:image/jpeg;base64,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\" style=\"max-width:none\">\n",
       "        <br>\n",
       "        <small>Index: 10</small><br>\n",
       "        <small>Distance: 0.4813</small><br>\n",
       "        <small>Hash: 5f8a3e26947356ba91e1fb4d9eca8e3f</small>\n",
       "    </div>\n",
       "    \n",
       "    <div style='text-align: center; border: 1px solid #ddd; padding: 5px;'>\n",
       "        <img src=\"data:image/jpeg;base64,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\" style=\"max-width:none\">\n",
       "        <br>\n",
       "        <small>Index: 11</small><br>\n",
       "        <small>Distance: 0.5048</small><br>\n",
       "        <small>Hash: 6ac853b09cf3d54d4eba9f7086ca3c43</small>\n",
       "    </div>\n",
       "    \n",
       "    <div style='text-align: center; border: 1px solid #ddd; padding: 5px;'>\n",
       "        <img src=\"data:image/jpeg;base64,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\" style=\"max-width:none\">\n",
       "        <br>\n",
       "        <small>Index: 12</small><br>\n",
       "        <small>Distance: 0.5163</small><br>\n",
       "        <small>Hash: f6ecab9fad7be9a5e6773e3bb4026b71</small>\n",
       "    </div>\n",
       "    \n",
       "    <div style='text-align: center; border: 1px solid #ddd; padding: 5px;'>\n",
       "        <img src=\"data:image/jpeg;base64,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\" style=\"max-width:none\">\n",
       "        <br>\n",
       "        <small>Index: 13</small><br>\n",
       "        <small>Distance: 0.5196</small><br>\n",
       "        <small>Hash: 318cf7903d26c53058e85ee7cf7d4534</small>\n",
       "    </div>\n",
       "    \n",
       "    <div style='text-align: center; border: 1px solid #ddd; padding: 5px;'>\n",
       "        <img src=\"data:image/jpeg;base64,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\" style=\"max-width:none\">\n",
       "        <br>\n",
       "        <small>Index: 14</small><br>\n",
       "        <small>Distance: 0.5237</small><br>\n",
       "        <small>Hash: 61ebb1e315d5f6d3f8989e8cb3a4ce67</small>\n",
       "    </div>\n",
       "    \n",
       "    <div style='text-align: center; border: 1px solid #ddd; padding: 5px;'>\n",
       "        <img src=\"data:image/jpeg;base64,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\" style=\"max-width:none\">\n",
       "        <br>\n",
       "        <small>Index: 15</small><br>\n",
       "        <small>Distance: 0.5306</small><br>\n",
       "        <small>Hash: b9107a09e20968f580030c709034e689</small>\n",
       "    </div>\n",
       "    \n",
       "    <div style='text-align: center; border: 1px solid #ddd; padding: 5px;'>\n",
       "        <img src=\"data:image/jpeg;base64,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\" style=\"max-width:none\">\n",
       "        <br>\n",
       "        <small>Index: 16</small><br>\n",
       "        <small>Distance: 0.5347</small><br>\n",
       "        <small>Hash: a3ca90158b6685d3752067cc96d5b7cf</small>\n",
       "    </div>\n",
       "    \n",
       "    <div style='text-align: center; border: 1px solid #ddd; padding: 5px;'>\n",
       "        <img src=\"data:image/jpeg;base64,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\" style=\"max-width:none\">\n",
       "        <br>\n",
       "        <small>Index: 17</small><br>\n",
       "        <small>Distance: 0.5396</small><br>\n",
       "        <small>Hash: 0350e9157451100bfc6a8ba882e4ffdb</small>\n",
       "    </div>\n",
       "    \n",
       "    <div style='text-align: center; border: 1px solid #ddd; padding: 5px;'>\n",
       "        <img src=\"data:image/jpeg;base64,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\" style=\"max-width:none\">\n",
       "        <br>\n",
       "        <small>Index: 18</small><br>\n",
       "        <small>Distance: 0.5460</small><br>\n",
       "        <small>Hash: 7fdef6800311e4b2550b2c63ba0e7c1d</small>\n",
       "    </div>\n",
       "    \n",
       "    <div style='text-align: center; border: 1px solid #ddd; padding: 5px;'>\n",
       "        <img src=\"data:image/jpeg;base64,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\" style=\"max-width:none\">\n",
       "        <br>\n",
       "        <small>Index: 19</small><br>\n",
       "        <small>Distance: 0.5501</small><br>\n",
       "        <small>Hash: 23373a5dc273beeb756d7bc83e15d532</small>\n",
       "    </div>\n",
       "    </div>"
      ],
      "text/plain": [
       "<IPython.core.display.HTML object>"
      ]
     },
     "metadata": {},
     "output_type": "display_data"
    }
   ],
   "source": [
    "import plotly.graph_objects as go\n",
    "from IPython.display import display, HTML\n",
    "import base64\n",
    "from io import BytesIO\n",
    "from PIL import Image as PILImage\n",
    "\n",
    "def get_image_html(path, size=(100, 140)):\n",
    "    \"\"\"Create HTML img tag with embedded base64 image\"\"\"\n",
    "    with PILImage.open(path) as img:\n",
    "        img.thumbnail(size)\n",
    "        buffered = BytesIO()\n",
    "        img.save(buffered, format='JPEG', quality=70)\n",
    "        img_b64 = base64.b64encode(buffered.getvalue()).decode()\n",
    "        return f'<img src=\"data:image/jpeg;base64,{img_b64}\" style=\"max-width:none\">'\n",
    "\n",
    "# Extract data for plot\n",
    "indices = list(range(len(results)))\n",
    "distances = [dist for _, dist in results]\n",
    "\n",
    "# Get paths for all images\n",
    "hash_to_path = {data['image_hash']: data['local_path'] for data in image_dataset}\n",
    "paths = [hash_to_path[hash_val] for hash_val, _ in results]\n",
    "\n",
    "# Create scatter plot with simpler hover text\n",
    "fig = go.Figure(data=go.Scatter(\n",
    "    x=indices,\n",
    "    y=distances,\n",
    "    mode='lines+markers',\n",
    "    marker=dict(size=8),\n",
    "    text=[f'Index: {i}<br>Hash: {hash_val}<br>Distance: {dist:.4f}' \n",
    "          for i, (hash_val, dist) in enumerate(results)],\n",
    "    hovertemplate='%{text}<extra></extra>'\n",
    "))\n",
    "\n",
    "fig.update_layout(\n",
    "    title='Image Similarity Plot',\n",
    "    xaxis_title='Index',\n",
    "    yaxis_title='Distance',\n",
    "    width=800,\n",
    "    height=400,\n",
    "    showlegend=False\n",
    ")\n",
    "\n",
    "# Display plot\n",
    "fig.show()\n",
    "\n",
    "# Create grid of thumbnails below the plot\n",
    "html = ['<div style=\"display: flex; flex-wrap: wrap; gap: 10px;\">']\n",
    "\n",
    "for i, ((hash_val, dist), path) in enumerate(zip(results[:20], paths[:20])):\n",
    "    img_html = get_image_html(path, size=(150, 210))\n",
    "    item_html = f\"\"\"\n",
    "    <div style='text-align: center; border: 1px solid #ddd; padding: 5px;'>\n",
    "        {img_html}\n",
    "        <br>\n",
    "        <small>Index: {i}</small><br>\n",
    "        <small>Distance: {dist:.4f}</small><br>\n",
    "        <small>Hash: {hash_val}</small>\n",
    "    </div>\n",
    "    \"\"\"\n",
    "    html.append(item_html)\n",
    "\n",
    "html.append('</div>')\n",
    "display(HTML(''.join(html)))"
   ]
  }
 ],
 "metadata": {
  "kernelspec": {
   "display_name": ".venv",
   "language": "python",
   "name": "python3"
  },
  "language_info": {
   "codemirror_mode": {
    "name": "ipython",
    "version": 3
   },
   "file_extension": ".py",
   "mimetype": "text/x-python",
   "name": "python",
   "nbconvert_exporter": "python",
   "pygments_lexer": "ipython3",
   "version": "3.11.9"
  }
 },
 "nbformat": 4,
 "nbformat_minor": 2
}
