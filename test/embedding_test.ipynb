{
 "cells": [
  {
   "cell_type": "code",
   "execution_count": 1,
   "metadata": {},
   "outputs": [
    {
     "name": "stdout",
     "output_type": "stream",
     "text": [
      "Note: you may need to restart the kernel to use updated packages.\n"
     ]
    },
    {
     "name": "stderr",
     "output_type": "stream",
     "text": [
      "\n",
      "[notice] A new release of pip is available: 24.0 -> 25.0.1\n",
      "[notice] To update, run: python.exe -m pip install --upgrade pip\n"
     ]
    }
   ],
   "source": [
    "%pip install plotly nbformat>=4.2.0 ipywidgets>=8.0.0"
   ]
  },
  {
   "cell_type": "code",
   "execution_count": 2,
   "metadata": {},
   "outputs": [],
   "source": [
    "import os\n",
    "os.environ['KMP_DUPLICATE_LIB_OK']='TRUE'"
   ]
  },
  {
   "cell_type": "code",
   "execution_count": 3,
   "metadata": {},
   "outputs": [],
   "source": [
    "import sys\n",
    "sys.path.append(r'c:\\Users\\ice\\projects\\iris')\n",
    "\n",
    "from PIL import Image as PILImage  # Rename to avoid conflict\n",
    "from tqdm.notebook import tqdm\n",
    "import plotly.graph_objects as go\n",
    "\n",
    "from iris.config.data_pipeline_config_manager import DataPipelineConfigManager\n",
    "from iris.config.embedding_pipeline_config_manager import EmbeddingPipelineConfigManager\n",
    "from iris.data_pipeline.mongodb_manager import MongoDBManager\n",
    "from iris.embedding_pipeline.embedding_handler import EmbeddingHandler\n",
    "from iris.embedding_pipeline.embedding_database import EmbeddingDatabase"
   ]
  },
  {
   "cell_type": "code",
   "execution_count": 4,
   "metadata": {},
   "outputs": [],
   "source": [
    "# Initialize configuration managers\n",
    "data_config = DataPipelineConfigManager()\n",
    "embedding_config = EmbeddingPipelineConfigManager()\n",
    "\n",
    "shop_config = data_config.shop_configs[\"nikolaj_storm\"]  # Select shop\n",
    "mongodb_config = data_config.mongodb_config\n",
    "\n",
    "# Create MongoDB manager\n",
    "mongodb_manager = MongoDBManager(shop_config, mongodb_config)\n",
    "\n",
    "# Initialize the EmbeddingHandler and Database\n",
    "embedding_handler = EmbeddingHandler(embedding_config.clip_config)\n",
    "embedding_db = EmbeddingDatabase(embedding_config.database_config)"
   ]
  },
  {
   "cell_type": "code",
   "execution_count": 5,
   "metadata": {},
   "outputs": [
    {
     "data": {
      "application/vnd.jupyter.widget-view+json": {
       "model_id": "08f28b9ca32344bc9926710896ffc21e",
       "version_major": 2,
       "version_minor": 0
      },
      "text/plain": [
       "Processing images:   0%|          | 0/366 [00:00<?, ?it/s]"
      ]
     },
     "metadata": {},
     "output_type": "display_data"
    }
   ],
   "source": [
    "# Convert cursor to list since it can only be iterated once\n",
    "image_dataset = list(mongodb_manager.get_collection(\n",
    "    mongodb_manager.mongodb_config.image_metadata_collection\n",
    ").find())\n",
    "\n",
    "# Add a progress bar with total count\n",
    "for image_data in tqdm(image_dataset, desc=\"Processing images\", total=len(image_dataset)):\n",
    "    with PILImage.open(image_data['local_path']).convert(\"RGBA\") as img:\n",
    "        embedding = embedding_handler.get_embedding(img)\n",
    "        embedding_db.add_embedding(embedding, id=image_data['image_hash'])"
   ]
  },
  {
   "cell_type": "code",
   "execution_count": 12,
   "metadata": {},
   "outputs": [
    {
     "name": "stdout",
     "output_type": "stream",
     "text": [
      "Nearest neighbors for query hash 23373a5dc273beeb756d7bc83e15d532 : [('23373a5dc273beeb756d7bc83e15d532', np.float32(0.0)), ('34d96d3093c90a88c0d432672022a4c5', np.float32(0.22660434)), ('f6ecab9fad7be9a5e6773e3bb4026b71', np.float32(0.24525821)), ('d209b78d0cfc7b75f447c2d0ae5d3160', np.float32(0.2789879)), ('7185d5e4e2c88e505ce2c2abf98796a6', np.float32(0.2829302)), ('1583eff240936bf5479f663711aaed69', np.float32(0.32272804)), ('4d858edeaed3722cb5e4de73effa5e9a', np.float32(0.4296469)), ('5f8a3e26947356ba91e1fb4d9eca8e3f', np.float32(0.50068927)), ('6954dc6fce6945ba0e2da0e778b72765', np.float32(0.54273415)), ('cf01c8937b391ab760476f80f5cf3c4b', np.float32(0.5501095)), ('61ebb1e315d5f6d3f8989e8cb3a4ce67', np.float32(0.55094326)), ('46b26538e6e082f8af12c04ced6a7cbd', np.float32(0.551293)), ('828d488576f7aa76a42ce8c88ef947a3', np.float32(0.55190927)), ('2c435a7ce800e13f66fac37c80360ff9', np.float32(0.55534256)), ('06479de9831d5029521cd7353b9c9fd6', np.float32(0.5569595)), ('b3e15be1c5afe1e1f2c6b7eac5524b71', np.float32(0.5617318)), ('318cf7903d26c53058e85ee7cf7d4534', np.float32(0.56629956)), ('20211d7a082896985c87319aa9a356dd', np.float32(0.571416)), ('a6a8f056ea68707faedc77c0f3a7e0fd', np.float32(0.5747054)), ('f33901855b7bc2e0b204663c81da8146', np.float32(0.5781185)), ('0571f3fdb99ff04665dc04b4f3367e0a', np.float32(0.5861365)), ('6ac853b09cf3d54d4eba9f7086ca3c43', np.float32(0.59012496)), ('09bfae6056b88df07641bf7e2df0841c', np.float32(0.5921079)), ('b9107a09e20968f580030c709034e689', np.float32(0.59235805)), ('eef785ff51518590bbefdfa3dcda9aa1', np.float32(0.6087111)), ('bb3ecb2e12fac67954ef0fb858ea1a2d', np.float32(0.61115503)), ('99fc7ec0c93371778a039b66f78ad654', np.float32(0.63091624)), ('0350e9157451100bfc6a8ba882e4ffdb', np.float32(0.6373981)), ('f933f6e1cb41561032230f464af423d6', np.float32(0.6416326)), ('c995dfbea1903b37dc48ab891ea95725', np.float32(0.64466286)), ('efcc5dd9968b4b043c547a15eaf7bf7e', np.float32(0.64545554)), ('f45555d1683f0ba1bdb259af2889dc46', np.float32(0.6484166)), ('f4fc2dc5472a52786c26ca59cda11404', np.float32(0.65413296)), ('cc68ce9b7678f353b9749e0b15b79473', np.float32(0.6547687)), ('99be0df0f7703743f6cf2e0e46eaef5d', np.float32(0.6574972)), ('bcb17e3bbddd2db63554a7b0ad42d5e7', np.float32(0.66083854)), ('cde08ad63bcba601d863d16d65aa1d2e', np.float32(0.66145474)), ('3c3d752a6c09aed3861caeeed56ef98a', np.float32(0.66402566)), ('be943ab054d8d83bcab3e8c74312e383', np.float32(0.66560614)), ('a3ca90158b6685d3752067cc96d5b7cf', np.float32(0.6656143)), ('7426d2852e80295cfb5a5466ed3f0004', np.float32(0.6710397)), ('2856d165a4800699d0c9f26eb84cdba3', np.float32(0.67128253)), ('ed75bccdee097c0ee996c72427fa41a7', np.float32(0.67236555)), ('7d99f1968acd0480aa4d2b96061064b3', np.float32(0.674319)), ('768d7298686171804ee31cdd05dbdbae', np.float32(0.6761586)), ('7127d378b9fd015cc446320cae2589dc', np.float32(0.67825216)), ('2212e94840473483655624aeb02a447c', np.float32(0.6830698)), ('5bb35de192f06bcaa16769c0296551f8', np.float32(0.68511164)), ('9b87abfe69a1ece6bd594e1c99744593', np.float32(0.689887)), ('bcd80dca75d87b26837c5c5e48f8bb3a', np.float32(0.69070554))]\n"
     ]
    }
   ],
   "source": [
    "# Get the query hash's index and embedding\n",
    "query_hash = '23373a5dc273beeb756d7bc83e15d532'\n",
    "\n",
    "# Find index of the query hash in the database\n",
    "hash_index = embedding_db.ids.index(query_hash)\n",
    "query_embedding = embedding_db.embeddings[hash_index]\n",
    "\n",
    "# Search for nearest neighbors\n",
    "results = embedding_db.search(query_embedding, k=50)\n",
    "print(\"Nearest neighbors for query hash\", query_hash, \":\", results)"
   ]
  },
  {
   "cell_type": "code",
   "execution_count": 14,
   "metadata": {},
   "outputs": [
    {
     "data": {
      "application/vnd.plotly.v1+json": {
       "config": {
        "plotlyServerURL": "https://plot.ly"
       },
       "data": [
        {
         "hovertemplate": "%{text}<extra></extra>",
         "marker": {
          "size": 8
         },
         "mode": "lines+markers",
         "text": [
          "Index: 0<br>Hash: 23373a5dc273beeb756d7bc83e15d532<br>Distance: 0.0000",
          "Index: 1<br>Hash: 34d96d3093c90a88c0d432672022a4c5<br>Distance: 0.2266",
          "Index: 2<br>Hash: f6ecab9fad7be9a5e6773e3bb4026b71<br>Distance: 0.2453",
          "Index: 3<br>Hash: d209b78d0cfc7b75f447c2d0ae5d3160<br>Distance: 0.2790",
          "Index: 4<br>Hash: 7185d5e4e2c88e505ce2c2abf98796a6<br>Distance: 0.2829",
          "Index: 5<br>Hash: 1583eff240936bf5479f663711aaed69<br>Distance: 0.3227",
          "Index: 6<br>Hash: 4d858edeaed3722cb5e4de73effa5e9a<br>Distance: 0.4296",
          "Index: 7<br>Hash: 5f8a3e26947356ba91e1fb4d9eca8e3f<br>Distance: 0.5007",
          "Index: 8<br>Hash: 6954dc6fce6945ba0e2da0e778b72765<br>Distance: 0.5427",
          "Index: 9<br>Hash: cf01c8937b391ab760476f80f5cf3c4b<br>Distance: 0.5501",
          "Index: 10<br>Hash: 61ebb1e315d5f6d3f8989e8cb3a4ce67<br>Distance: 0.5509",
          "Index: 11<br>Hash: 46b26538e6e082f8af12c04ced6a7cbd<br>Distance: 0.5513",
          "Index: 12<br>Hash: 828d488576f7aa76a42ce8c88ef947a3<br>Distance: 0.5519",
          "Index: 13<br>Hash: 2c435a7ce800e13f66fac37c80360ff9<br>Distance: 0.5553",
          "Index: 14<br>Hash: 06479de9831d5029521cd7353b9c9fd6<br>Distance: 0.5570",
          "Index: 15<br>Hash: b3e15be1c5afe1e1f2c6b7eac5524b71<br>Distance: 0.5617",
          "Index: 16<br>Hash: 318cf7903d26c53058e85ee7cf7d4534<br>Distance: 0.5663",
          "Index: 17<br>Hash: 20211d7a082896985c87319aa9a356dd<br>Distance: 0.5714",
          "Index: 18<br>Hash: a6a8f056ea68707faedc77c0f3a7e0fd<br>Distance: 0.5747",
          "Index: 19<br>Hash: f33901855b7bc2e0b204663c81da8146<br>Distance: 0.5781",
          "Index: 20<br>Hash: 0571f3fdb99ff04665dc04b4f3367e0a<br>Distance: 0.5861",
          "Index: 21<br>Hash: 6ac853b09cf3d54d4eba9f7086ca3c43<br>Distance: 0.5901",
          "Index: 22<br>Hash: 09bfae6056b88df07641bf7e2df0841c<br>Distance: 0.5921",
          "Index: 23<br>Hash: b9107a09e20968f580030c709034e689<br>Distance: 0.5924",
          "Index: 24<br>Hash: eef785ff51518590bbefdfa3dcda9aa1<br>Distance: 0.6087",
          "Index: 25<br>Hash: bb3ecb2e12fac67954ef0fb858ea1a2d<br>Distance: 0.6112",
          "Index: 26<br>Hash: 99fc7ec0c93371778a039b66f78ad654<br>Distance: 0.6309",
          "Index: 27<br>Hash: 0350e9157451100bfc6a8ba882e4ffdb<br>Distance: 0.6374",
          "Index: 28<br>Hash: f933f6e1cb41561032230f464af423d6<br>Distance: 0.6416",
          "Index: 29<br>Hash: c995dfbea1903b37dc48ab891ea95725<br>Distance: 0.6447",
          "Index: 30<br>Hash: efcc5dd9968b4b043c547a15eaf7bf7e<br>Distance: 0.6455",
          "Index: 31<br>Hash: f45555d1683f0ba1bdb259af2889dc46<br>Distance: 0.6484",
          "Index: 32<br>Hash: f4fc2dc5472a52786c26ca59cda11404<br>Distance: 0.6541",
          "Index: 33<br>Hash: cc68ce9b7678f353b9749e0b15b79473<br>Distance: 0.6548",
          "Index: 34<br>Hash: 99be0df0f7703743f6cf2e0e46eaef5d<br>Distance: 0.6575",
          "Index: 35<br>Hash: bcb17e3bbddd2db63554a7b0ad42d5e7<br>Distance: 0.6608",
          "Index: 36<br>Hash: cde08ad63bcba601d863d16d65aa1d2e<br>Distance: 0.6615",
          "Index: 37<br>Hash: 3c3d752a6c09aed3861caeeed56ef98a<br>Distance: 0.6640",
          "Index: 38<br>Hash: be943ab054d8d83bcab3e8c74312e383<br>Distance: 0.6656",
          "Index: 39<br>Hash: a3ca90158b6685d3752067cc96d5b7cf<br>Distance: 0.6656",
          "Index: 40<br>Hash: 7426d2852e80295cfb5a5466ed3f0004<br>Distance: 0.6710",
          "Index: 41<br>Hash: 2856d165a4800699d0c9f26eb84cdba3<br>Distance: 0.6713",
          "Index: 42<br>Hash: ed75bccdee097c0ee996c72427fa41a7<br>Distance: 0.6724",
          "Index: 43<br>Hash: 7d99f1968acd0480aa4d2b96061064b3<br>Distance: 0.6743",
          "Index: 44<br>Hash: 768d7298686171804ee31cdd05dbdbae<br>Distance: 0.6762",
          "Index: 45<br>Hash: 7127d378b9fd015cc446320cae2589dc<br>Distance: 0.6783",
          "Index: 46<br>Hash: 2212e94840473483655624aeb02a447c<br>Distance: 0.6831",
          "Index: 47<br>Hash: 5bb35de192f06bcaa16769c0296551f8<br>Distance: 0.6851",
          "Index: 48<br>Hash: 9b87abfe69a1ece6bd594e1c99744593<br>Distance: 0.6899",
          "Index: 49<br>Hash: bcd80dca75d87b26837c5c5e48f8bb3a<br>Distance: 0.6907"
         ],
         "type": "scatter",
         "x": [
          0,
          1,
          2,
          3,
          4,
          5,
          6,
          7,
          8,
          9,
          10,
          11,
          12,
          13,
          14,
          15,
          16,
          17,
          18,
          19,
          20,
          21,
          22,
          23,
          24,
          25,
          26,
          27,
          28,
          29,
          30,
          31,
          32,
          33,
          34,
          35,
          36,
          37,
          38,
          39,
          40,
          41,
          42,
          43,
          44,
          45,
          46,
          47,
          48,
          49
         ],
         "y": [
          0,
          0.22660434246063232,
          0.24525821208953857,
          0.27898791432380676,
          0.2829301953315735,
          0.3227280378341675,
          0.42964690923690796,
          0.5006892681121826,
          0.5427341461181641,
          0.5501095056533813,
          0.5509432554244995,
          0.5512930154800415,
          0.5519092679023743,
          0.5553425550460815,
          0.5569595098495483,
          0.5617318153381348,
          0.566299557685852,
          0.5714160203933716,
          0.5747054219245911,
          0.5781185030937195,
          0.586136519908905,
          0.5901249647140503,
          0.592107892036438,
          0.5923580527305603,
          0.6087111234664917,
          0.6111550331115723,
          0.6309162378311157,
          0.6373981237411499,
          0.641632616519928,
          0.6446628570556641,
          0.645455539226532,
          0.6484165787696838,
          0.6541329622268677,
          0.654768705368042,
          0.657497227191925,
          0.6608385443687439,
          0.6614547371864319,
          0.6640256643295288,
          0.6656061410903931,
          0.6656143069267273,
          0.6710397005081177,
          0.6712825298309326,
          0.6723655462265015,
          0.6743190288543701,
          0.676158607006073,
          0.6782521605491638,
          0.6830698251724243,
          0.6851116418838501,
          0.6898869872093201,
          0.6907055377960205
         ]
        }
       ],
       "layout": {
        "height": 400,
        "showlegend": false,
        "template": {
         "data": {
          "bar": [
           {
            "error_x": {
             "color": "#2a3f5f"
            },
            "error_y": {
             "color": "#2a3f5f"
            },
            "marker": {
             "line": {
              "color": "#E5ECF6",
              "width": 0.5
             },
             "pattern": {
              "fillmode": "overlay",
              "size": 10,
              "solidity": 0.2
             }
            },
            "type": "bar"
           }
          ],
          "barpolar": [
           {
            "marker": {
             "line": {
              "color": "#E5ECF6",
              "width": 0.5
             },
             "pattern": {
              "fillmode": "overlay",
              "size": 10,
              "solidity": 0.2
             }
            },
            "type": "barpolar"
           }
          ],
          "carpet": [
           {
            "aaxis": {
             "endlinecolor": "#2a3f5f",
             "gridcolor": "white",
             "linecolor": "white",
             "minorgridcolor": "white",
             "startlinecolor": "#2a3f5f"
            },
            "baxis": {
             "endlinecolor": "#2a3f5f",
             "gridcolor": "white",
             "linecolor": "white",
             "minorgridcolor": "white",
             "startlinecolor": "#2a3f5f"
            },
            "type": "carpet"
           }
          ],
          "choropleth": [
           {
            "colorbar": {
             "outlinewidth": 0,
             "ticks": ""
            },
            "type": "choropleth"
           }
          ],
          "contour": [
           {
            "colorbar": {
             "outlinewidth": 0,
             "ticks": ""
            },
            "colorscale": [
             [
              0,
              "#0d0887"
             ],
             [
              0.1111111111111111,
              "#46039f"
             ],
             [
              0.2222222222222222,
              "#7201a8"
             ],
             [
              0.3333333333333333,
              "#9c179e"
             ],
             [
              0.4444444444444444,
              "#bd3786"
             ],
             [
              0.5555555555555556,
              "#d8576b"
             ],
             [
              0.6666666666666666,
              "#ed7953"
             ],
             [
              0.7777777777777778,
              "#fb9f3a"
             ],
             [
              0.8888888888888888,
              "#fdca26"
             ],
             [
              1,
              "#f0f921"
             ]
            ],
            "type": "contour"
           }
          ],
          "contourcarpet": [
           {
            "colorbar": {
             "outlinewidth": 0,
             "ticks": ""
            },
            "type": "contourcarpet"
           }
          ],
          "heatmap": [
           {
            "colorbar": {
             "outlinewidth": 0,
             "ticks": ""
            },
            "colorscale": [
             [
              0,
              "#0d0887"
             ],
             [
              0.1111111111111111,
              "#46039f"
             ],
             [
              0.2222222222222222,
              "#7201a8"
             ],
             [
              0.3333333333333333,
              "#9c179e"
             ],
             [
              0.4444444444444444,
              "#bd3786"
             ],
             [
              0.5555555555555556,
              "#d8576b"
             ],
             [
              0.6666666666666666,
              "#ed7953"
             ],
             [
              0.7777777777777778,
              "#fb9f3a"
             ],
             [
              0.8888888888888888,
              "#fdca26"
             ],
             [
              1,
              "#f0f921"
             ]
            ],
            "type": "heatmap"
           }
          ],
          "histogram": [
           {
            "marker": {
             "pattern": {
              "fillmode": "overlay",
              "size": 10,
              "solidity": 0.2
             }
            },
            "type": "histogram"
           }
          ],
          "histogram2d": [
           {
            "colorbar": {
             "outlinewidth": 0,
             "ticks": ""
            },
            "colorscale": [
             [
              0,
              "#0d0887"
             ],
             [
              0.1111111111111111,
              "#46039f"
             ],
             [
              0.2222222222222222,
              "#7201a8"
             ],
             [
              0.3333333333333333,
              "#9c179e"
             ],
             [
              0.4444444444444444,
              "#bd3786"
             ],
             [
              0.5555555555555556,
              "#d8576b"
             ],
             [
              0.6666666666666666,
              "#ed7953"
             ],
             [
              0.7777777777777778,
              "#fb9f3a"
             ],
             [
              0.8888888888888888,
              "#fdca26"
             ],
             [
              1,
              "#f0f921"
             ]
            ],
            "type": "histogram2d"
           }
          ],
          "histogram2dcontour": [
           {
            "colorbar": {
             "outlinewidth": 0,
             "ticks": ""
            },
            "colorscale": [
             [
              0,
              "#0d0887"
             ],
             [
              0.1111111111111111,
              "#46039f"
             ],
             [
              0.2222222222222222,
              "#7201a8"
             ],
             [
              0.3333333333333333,
              "#9c179e"
             ],
             [
              0.4444444444444444,
              "#bd3786"
             ],
             [
              0.5555555555555556,
              "#d8576b"
             ],
             [
              0.6666666666666666,
              "#ed7953"
             ],
             [
              0.7777777777777778,
              "#fb9f3a"
             ],
             [
              0.8888888888888888,
              "#fdca26"
             ],
             [
              1,
              "#f0f921"
             ]
            ],
            "type": "histogram2dcontour"
           }
          ],
          "mesh3d": [
           {
            "colorbar": {
             "outlinewidth": 0,
             "ticks": ""
            },
            "type": "mesh3d"
           }
          ],
          "parcoords": [
           {
            "line": {
             "colorbar": {
              "outlinewidth": 0,
              "ticks": ""
             }
            },
            "type": "parcoords"
           }
          ],
          "pie": [
           {
            "automargin": true,
            "type": "pie"
           }
          ],
          "scatter": [
           {
            "fillpattern": {
             "fillmode": "overlay",
             "size": 10,
             "solidity": 0.2
            },
            "type": "scatter"
           }
          ],
          "scatter3d": [
           {
            "line": {
             "colorbar": {
              "outlinewidth": 0,
              "ticks": ""
             }
            },
            "marker": {
             "colorbar": {
              "outlinewidth": 0,
              "ticks": ""
             }
            },
            "type": "scatter3d"
           }
          ],
          "scattercarpet": [
           {
            "marker": {
             "colorbar": {
              "outlinewidth": 0,
              "ticks": ""
             }
            },
            "type": "scattercarpet"
           }
          ],
          "scattergeo": [
           {
            "marker": {
             "colorbar": {
              "outlinewidth": 0,
              "ticks": ""
             }
            },
            "type": "scattergeo"
           }
          ],
          "scattergl": [
           {
            "marker": {
             "colorbar": {
              "outlinewidth": 0,
              "ticks": ""
             }
            },
            "type": "scattergl"
           }
          ],
          "scattermap": [
           {
            "marker": {
             "colorbar": {
              "outlinewidth": 0,
              "ticks": ""
             }
            },
            "type": "scattermap"
           }
          ],
          "scattermapbox": [
           {
            "marker": {
             "colorbar": {
              "outlinewidth": 0,
              "ticks": ""
             }
            },
            "type": "scattermapbox"
           }
          ],
          "scatterpolar": [
           {
            "marker": {
             "colorbar": {
              "outlinewidth": 0,
              "ticks": ""
             }
            },
            "type": "scatterpolar"
           }
          ],
          "scatterpolargl": [
           {
            "marker": {
             "colorbar": {
              "outlinewidth": 0,
              "ticks": ""
             }
            },
            "type": "scatterpolargl"
           }
          ],
          "scatterternary": [
           {
            "marker": {
             "colorbar": {
              "outlinewidth": 0,
              "ticks": ""
             }
            },
            "type": "scatterternary"
           }
          ],
          "surface": [
           {
            "colorbar": {
             "outlinewidth": 0,
             "ticks": ""
            },
            "colorscale": [
             [
              0,
              "#0d0887"
             ],
             [
              0.1111111111111111,
              "#46039f"
             ],
             [
              0.2222222222222222,
              "#7201a8"
             ],
             [
              0.3333333333333333,
              "#9c179e"
             ],
             [
              0.4444444444444444,
              "#bd3786"
             ],
             [
              0.5555555555555556,
              "#d8576b"
             ],
             [
              0.6666666666666666,
              "#ed7953"
             ],
             [
              0.7777777777777778,
              "#fb9f3a"
             ],
             [
              0.8888888888888888,
              "#fdca26"
             ],
             [
              1,
              "#f0f921"
             ]
            ],
            "type": "surface"
           }
          ],
          "table": [
           {
            "cells": {
             "fill": {
              "color": "#EBF0F8"
             },
             "line": {
              "color": "white"
             }
            },
            "header": {
             "fill": {
              "color": "#C8D4E3"
             },
             "line": {
              "color": "white"
             }
            },
            "type": "table"
           }
          ]
         },
         "layout": {
          "annotationdefaults": {
           "arrowcolor": "#2a3f5f",
           "arrowhead": 0,
           "arrowwidth": 1
          },
          "autotypenumbers": "strict",
          "coloraxis": {
           "colorbar": {
            "outlinewidth": 0,
            "ticks": ""
           }
          },
          "colorscale": {
           "diverging": [
            [
             0,
             "#8e0152"
            ],
            [
             0.1,
             "#c51b7d"
            ],
            [
             0.2,
             "#de77ae"
            ],
            [
             0.3,
             "#f1b6da"
            ],
            [
             0.4,
             "#fde0ef"
            ],
            [
             0.5,
             "#f7f7f7"
            ],
            [
             0.6,
             "#e6f5d0"
            ],
            [
             0.7,
             "#b8e186"
            ],
            [
             0.8,
             "#7fbc41"
            ],
            [
             0.9,
             "#4d9221"
            ],
            [
             1,
             "#276419"
            ]
           ],
           "sequential": [
            [
             0,
             "#0d0887"
            ],
            [
             0.1111111111111111,
             "#46039f"
            ],
            [
             0.2222222222222222,
             "#7201a8"
            ],
            [
             0.3333333333333333,
             "#9c179e"
            ],
            [
             0.4444444444444444,
             "#bd3786"
            ],
            [
             0.5555555555555556,
             "#d8576b"
            ],
            [
             0.6666666666666666,
             "#ed7953"
            ],
            [
             0.7777777777777778,
             "#fb9f3a"
            ],
            [
             0.8888888888888888,
             "#fdca26"
            ],
            [
             1,
             "#f0f921"
            ]
           ],
           "sequentialminus": [
            [
             0,
             "#0d0887"
            ],
            [
             0.1111111111111111,
             "#46039f"
            ],
            [
             0.2222222222222222,
             "#7201a8"
            ],
            [
             0.3333333333333333,
             "#9c179e"
            ],
            [
             0.4444444444444444,
             "#bd3786"
            ],
            [
             0.5555555555555556,
             "#d8576b"
            ],
            [
             0.6666666666666666,
             "#ed7953"
            ],
            [
             0.7777777777777778,
             "#fb9f3a"
            ],
            [
             0.8888888888888888,
             "#fdca26"
            ],
            [
             1,
             "#f0f921"
            ]
           ]
          },
          "colorway": [
           "#636efa",
           "#EF553B",
           "#00cc96",
           "#ab63fa",
           "#FFA15A",
           "#19d3f3",
           "#FF6692",
           "#B6E880",
           "#FF97FF",
           "#FECB52"
          ],
          "font": {
           "color": "#2a3f5f"
          },
          "geo": {
           "bgcolor": "white",
           "lakecolor": "white",
           "landcolor": "#E5ECF6",
           "showlakes": true,
           "showland": true,
           "subunitcolor": "white"
          },
          "hoverlabel": {
           "align": "left"
          },
          "hovermode": "closest",
          "mapbox": {
           "style": "light"
          },
          "paper_bgcolor": "white",
          "plot_bgcolor": "#E5ECF6",
          "polar": {
           "angularaxis": {
            "gridcolor": "white",
            "linecolor": "white",
            "ticks": ""
           },
           "bgcolor": "#E5ECF6",
           "radialaxis": {
            "gridcolor": "white",
            "linecolor": "white",
            "ticks": ""
           }
          },
          "scene": {
           "xaxis": {
            "backgroundcolor": "#E5ECF6",
            "gridcolor": "white",
            "gridwidth": 2,
            "linecolor": "white",
            "showbackground": true,
            "ticks": "",
            "zerolinecolor": "white"
           },
           "yaxis": {
            "backgroundcolor": "#E5ECF6",
            "gridcolor": "white",
            "gridwidth": 2,
            "linecolor": "white",
            "showbackground": true,
            "ticks": "",
            "zerolinecolor": "white"
           },
           "zaxis": {
            "backgroundcolor": "#E5ECF6",
            "gridcolor": "white",
            "gridwidth": 2,
            "linecolor": "white",
            "showbackground": true,
            "ticks": "",
            "zerolinecolor": "white"
           }
          },
          "shapedefaults": {
           "line": {
            "color": "#2a3f5f"
           }
          },
          "ternary": {
           "aaxis": {
            "gridcolor": "white",
            "linecolor": "white",
            "ticks": ""
           },
           "baxis": {
            "gridcolor": "white",
            "linecolor": "white",
            "ticks": ""
           },
           "bgcolor": "#E5ECF6",
           "caxis": {
            "gridcolor": "white",
            "linecolor": "white",
            "ticks": ""
           }
          },
          "title": {
           "x": 0.05
          },
          "xaxis": {
           "automargin": true,
           "gridcolor": "white",
           "linecolor": "white",
           "ticks": "",
           "title": {
            "standoff": 15
           },
           "zerolinecolor": "white",
           "zerolinewidth": 2
          },
          "yaxis": {
           "automargin": true,
           "gridcolor": "white",
           "linecolor": "white",
           "ticks": "",
           "title": {
            "standoff": 15
           },
           "zerolinecolor": "white",
           "zerolinewidth": 2
          }
         }
        },
        "title": {
         "text": "Image Similarity Plot"
        },
        "width": 800,
        "xaxis": {
         "title": {
          "text": "Index"
         }
        },
        "yaxis": {
         "title": {
          "text": "Distance"
         }
        }
       }
      }
     },
     "metadata": {},
     "output_type": "display_data"
    },
    {
     "data": {
      "text/html": [
       "<div style=\"display: flex; flex-wrap: wrap; gap: 10px;\">\n",
       "    <div style='text-align: center; border: 1px solid #ddd; padding: 5px;'>\n",
       "        <img src=\"data:image/jpeg;base64,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\" style=\"max-width:none\">\n",
       "        <br>\n",
       "        <small>Index: 0</small><br>\n",
       "        <small>Distance: 0.0000</small><br>\n",
       "        <small>Hash: 23373a5dc273beeb756d7bc83e15d532</small>\n",
       "    </div>\n",
       "    \n",
       "    <div style='text-align: center; border: 1px solid #ddd; padding: 5px;'>\n",
       "        <img src=\"data:image/jpeg;base64,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\" style=\"max-width:none\">\n",
       "        <br>\n",
       "        <small>Index: 1</small><br>\n",
       "        <small>Distance: 0.2266</small><br>\n",
       "        <small>Hash: 34d96d3093c90a88c0d432672022a4c5</small>\n",
       "    </div>\n",
       "    \n",
       "    <div style='text-align: center; border: 1px solid #ddd; padding: 5px;'>\n",
       "        <img src=\"data:image/jpeg;base64,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\" style=\"max-width:none\">\n",
       "        <br>\n",
       "        <small>Index: 2</small><br>\n",
       "        <small>Distance: 0.2453</small><br>\n",
       "        <small>Hash: f6ecab9fad7be9a5e6773e3bb4026b71</small>\n",
       "    </div>\n",
       "    \n",
       "    <div style='text-align: center; border: 1px solid #ddd; padding: 5px;'>\n",
       "        <img src=\"data:image/jpeg;base64,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\" style=\"max-width:none\">\n",
       "        <br>\n",
       "        <small>Index: 3</small><br>\n",
       "        <small>Distance: 0.2790</small><br>\n",
       "        <small>Hash: d209b78d0cfc7b75f447c2d0ae5d3160</small>\n",
       "    </div>\n",
       "    \n",
       "    <div style='text-align: center; border: 1px solid #ddd; padding: 5px;'>\n",
       "        <img src=\"data:image/jpeg;base64,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\" style=\"max-width:none\">\n",
       "        <br>\n",
       "        <small>Index: 4</small><br>\n",
       "        <small>Distance: 0.2829</small><br>\n",
       "        <small>Hash: 7185d5e4e2c88e505ce2c2abf98796a6</small>\n",
       "    </div>\n",
       "    \n",
       "    <div style='text-align: center; border: 1px solid #ddd; padding: 5px;'>\n",
       "        <img src=\"data:image/jpeg;base64,/9j/4AAQSkZJRgABAQAAAQABAAD/2wBDAAoHBwgHBgoICAgLCgoLDhgQDg0NDh0VFhEYIx8lJCIfIiEmKzcvJik0KSEiMEExNDk7Pj4+JS5ESUM8SDc9Pjv/2wBDAQoLCw4NDhwQEBw7KCIoOzs7Ozs7Ozs7Ozs7Ozs7Ozs7Ozs7Ozs7Ozs7Ozs7Ozs7Ozs7Ozs7Ozs7Ozs7Ozs7Ozv/wAARCADSAJYDASIAAhEBAxEB/8QAHwAAAQUBAQEBAQEAAAAAAAAAAAECAwQFBgcICQoL/8QAtRAAAgEDAwIEAwUFBAQAAAF9AQIDAAQRBRIhMUEGE1FhByJxFDKBkaEII0KxwRVS0fAkM2JyggkKFhcYGRolJicoKSo0NTY3ODk6Q0RFRkdISUpTVFVWV1hZWmNkZWZnaGlqc3R1dnd4eXqDhIWGh4iJipKTlJWWl5iZmqKjpKWmp6ipqrKztLW2t7i5usLDxMXGx8jJytLT1NXW19jZ2uHi4+Tl5ufo6erx8vP09fb3+Pn6/8QAHwEAAwEBAQEBAQEBAQAAAAAAAAECAwQFBgcICQoL/8QAtREAAgECBAQDBAcFBAQAAQJ3AAECAxEEBSExBhJBUQdhcRMiMoEIFEKRobHBCSMzUvAVYnLRChYkNOEl8RcYGRomJygpKjU2Nzg5OkNERUZHSElKU1RVVldYWVpjZGVmZ2hpanN0dXZ3eHl6goOEhYaHiImKkpOUlZaXmJmaoqOkpaanqKmqsrO0tba3uLm6wsPExcbHyMnK0tPU1dbX2Nna4uPk5ebn6Onq8vP09fb3+Pn6/9oADAMBAAIRAxEAPwD1raPQUu0elFKKRQm0elLtHpS0UAJgelGB6UtFABgelGB6UtFACYHpRtHpS0UAJtHpRtHoKWigBu0ego2j0FLRQAm0elG0egpaKAE2j0FJtHoKdRQA3avpRS0UAJS0UCgBaKKKACiiigBaKSloAo6nePbosULBZpc4YjO0euKxI7fVrWT7QNVmkbqVkO5W/Dt+FXdcWZr2PyWCt5WFJ9c1WaS6nREV0BQfvOPv9uPSuecnc66VNON2jdsLsX1jHcbdjNkOmc7WBwR+dWDWZoSlLOUHkGZjmtKtou6ucslaTQUUlFMQtFFFABRRRQAhooooABRRRQAtFFFMAopKKAFpabmmvKseNx5PQdzQBkeKDNBYJeW4y8Lc8Z4PfHfHWuKttU8mVGtb6S4uZcjy9wbzM+o/hANdzqEz3DCIgBAenc1Rh0i2t3MyRRq5HLKgBP1NclTWR20m4xszb0y3NtpsEROWCAsfUnk1ZrPsrpxFtkAZUGNw6iryurruVgR6iuiOsVY5Jpp6i5opKUVRItFFFABRRRQAUUUUAJRRQKACjNBpKYBS0lFAEN3cC2t2lxk9APU1n26PLciaVyzkH8B7VLrDAQwqTyZOn4VBbzhbxIu5jLAfiP8AGsG26iR001aFye4s/tGGU4kXge9QrZ3T/JJhV9Sa01AIpcGtpUoyd2Cm1oV0t1hQIg4FZ7zf2eTcK5CA5kUngitd/lWua11mbS5yoJVJecen/wCus6y0Vhxd07nTqyuiupyrAEH2p1U9IcSaPaMDkGFefwq3VnKOpabSimAtFFFABRRRQAlFFFMApKWkoAKSiigDI1g7ru3TsFJquQwv42HRY8Z9yf8A61WNQdWv/wDrkgH4nmo7ZTJDcTns6gfh/wDrrnjrVZ2RfLTRpQsxA3HP41N1qCBsDnmp8jr2rsMnuQzs2044/CuPmvZvts9lIQkLuclschu9ddct8hx29q4/WrGdfEMWI8wXCIS/oQMEH8s1jVSaKTaVkdJ4Yjlg0OKCcgvEWXI6Yzn+ta9Z2kbEhkgT7sbDH0x/9atGpg7xRjUVpNC0opKUVZAtFFFABRRRQA2lFJQKYC0lKabQAUGikNAGDeHde3OOoYfyFOt3ZdIBU4Lznn8f/rVHekRand89VVsfh/8AWqx9kZtJt4VO1s7zn8T/AFrlinzysdra5IircTJL98kEVKLmQsRlhj16GqvlyxnDqcr3HSniTIx3qeaa3bHZD2lleKQ7z7VQ1iSTzLEp/HH83GemD/WrrRTSKVVdoxnJ4zVfWWa10q3nVPMeNhGFzgEnj+dVaTi7ktpSTDw28slzdzOoVZVRkAPQDIroRXP+GYJoWulkcOilVjIHbk10Aran8KOap8TCnCm0oqyB1FFFABRRRQA2gUUUxAaSlNJQMDSGlNIaAMPUolbUpC38cSj8iauXEwLwLEwwQWB9qoauJP7TAyFDxYVj0BzVa1ui98kRJ/dx4/MmuVycWztULwizcimV2Knhx29fepiijnA5rJui5AaJ9ki8q3vUD639qYWkJ2T4/e46xj/6/ato1lb3hezb2NdpV5CYYjgntVK723WkSROQG34HswORToGVUCjsKx1nklnmi3EBZt34YH+FZSqtlKmmzb0ZNn2jvlhk++K1BWRoRZo52PQuMflWuK0p/AjmrfxGOooorQyHUUlLQAUUhooAbRSUtMQUUUUDCm0tJQBVvbKK9jCyqCV6H0rCNlFp96sMagbY1HH410xrndbaWPUN8YQnYCdxx61hWS5bnRQk78t9B08m1ee9YcCPDqk10fuTYUf8B6/zrSnlke0DSKqsD0U54qW+svL0KB8YeP5j/wAC6/0rnUea/kdXMo2XckgkJXdngiksdNhubqWRxkgD9aqCWeKECOJWGPvF8Vp6D5ree0oQcgDac06avJE1W4xbRrQQpBGI41AUelTCmilFdp544UtIKcKAClpKKAA0UUUAMp1NpaBC0lFFACUlOptMYhrn/FETH7M6HBJKn3HWuhrD8QtmS2jHP3mx+VZVfgZrQ/iIx4JjculuAd24K3tXT6hFv06ZAP8AlmcfhWPpEXmXuSANvzkD9K6BwGUg9CMVnRj7priJe+rdDiftZceQM7+49BXT6DGV0xXY5Z2JJ/HFYc1uI754yAWU4z7dq6DRWzp4X+4xFRRVpu5piJJ01Yv0opKcK6zhHClpBS0ALSUUUAFFJRQA2lpKWgQUtFJTADTadTTSGFYetrm/iY9BEf51t5rH1y4t4JofPmjjLK2N7AZxj1qKivE0pO00R6ImJpnH90D9a1y2eKztEaKXTFuIXWRZGJ3Kcg4OP6VeXk0U1aKQVHebZhajHt1d2P8AEF/lWroylYpvd/6VT14RQvbTPIqbm2fMcZ71e0mSKS2dopFcB8Eqc4OBURjao2aSleki9ThTBUgrY5xRS0UUwCkpaSgBKKKKQhKM0zdRuoAkzRmmbqXcKAFzSGjcKTIoGJXnXxkiDaRpkueVuGX81/8ArV6GxxVSRIbtt8kQk8knZlc4PqPeqjLldxNXRn+EYxH4O0pAMf6MpP1PNbKriqmnTJNASibEVyoHvnn9c1e7Um7u4HH/ABShWTwcZG6xXCMPxyP61L8Mk2eCoT/fmkP64/pW3qIt55ILe6jWRCxZVYAgsOBx36mnWVtbabGLO0hSGLlxGgwBk84quf3eUVtbl9eTUgpiU/NSULRSZozQAtJmkzRmgBc0U3NFAEVHelxRSAKKKXFACUlLRigCC4cRws7khQMkjsK5+x8XaDNey2MV55Tx9GkBVZPoT1rpiKi+yW+/f5Ee712jNAFeyj2QrtI2nkEDGferWTinbaNooAoXJVLiKWR0TZnaznHUYqrba3peoX8kFtqUT3FucMofg/TsfwrVntYLmIxTxJLGequuQarW2haXZzCW3sLeOQdGWMAigC8pIFO3GkxS4oAMmjJoxRigAyaMmiigBMmilxRQAYFLinbRS4FADMe1LinY96MUAMxRin4oxQAzFIRT8UYoAZijFPxRj2oAZilApcUu2gBuKKfijFADcUYp2KMGgBuKTFPwfSjBoAZiin7T6UUAHeloooAO9IKKKYC0dqKKQCGiiigBRR2oooASloooAKKKKACloopgFFFFIAooooA//9k=\" style=\"max-width:none\">\n",
       "        <br>\n",
       "        <small>Index: 5</small><br>\n",
       "        <small>Distance: 0.3227</small><br>\n",
       "        <small>Hash: 1583eff240936bf5479f663711aaed69</small>\n",
       "    </div>\n",
       "    \n",
       "    <div style='text-align: center; border: 1px solid #ddd; padding: 5px;'>\n",
       "        <img src=\"data:image/jpeg;base64,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\" style=\"max-width:none\">\n",
       "        <br>\n",
       "        <small>Index: 6</small><br>\n",
       "        <small>Distance: 0.4296</small><br>\n",
       "        <small>Hash: 4d858edeaed3722cb5e4de73effa5e9a</small>\n",
       "    </div>\n",
       "    \n",
       "    <div style='text-align: center; border: 1px solid #ddd; padding: 5px;'>\n",
       "        <img src=\"data:image/jpeg;base64,/9j/4AAQSkZJRgABAQAAAQABAAD/2wBDAAoHBwgHBgoICAgLCgoLDhgQDg0NDh0VFhEYIx8lJCIfIiEmKzcvJik0KSEiMEExNDk7Pj4+JS5ESUM8SDc9Pjv/2wBDAQoLCw4NDhwQEBw7KCIoOzs7Ozs7Ozs7Ozs7Ozs7Ozs7Ozs7Ozs7Ozs7Ozs7Ozs7Ozs7Ozs7Ozs7Ozs7Ozs7Ozv/wAARCADSAJYDASIAAhEBAxEB/8QAHwAAAQUBAQEBAQEAAAAAAAAAAAECAwQFBgcICQoL/8QAtRAAAgEDAwIEAwUFBAQAAAF9AQIDAAQRBRIhMUEGE1FhByJxFDKBkaEII0KxwRVS0fAkM2JyggkKFhcYGRolJicoKSo0NTY3ODk6Q0RFRkdISUpTVFVWV1hZWmNkZWZnaGlqc3R1dnd4eXqDhIWGh4iJipKTlJWWl5iZmqKjpKWmp6ipqrKztLW2t7i5usLDxMXGx8jJytLT1NXW19jZ2uHi4+Tl5ufo6erx8vP09fb3+Pn6/8QAHwEAAwEBAQEBAQEBAQAAAAAAAAECAwQFBgcICQoL/8QAtREAAgECBAQDBAcFBAQAAQJ3AAECAxEEBSExBhJBUQdhcRMiMoEIFEKRobHBCSMzUvAVYnLRChYkNOEl8RcYGRomJygpKjU2Nzg5OkNERUZHSElKU1RVVldYWVpjZGVmZ2hpanN0dXZ3eHl6goOEhYaHiImKkpOUlZaXmJmaoqOkpaanqKmqsrO0tba3uLm6wsPExcbHyMnK0tPU1dbX2Nna4uPk5ebn6Onq8vP09fb3+Pn6/9oADAMBAAIRAxEAPwD1QdadSUtBQtFFLQAUUUYoABS0UYoAKTFcr4q1vUkujpuihjPGoeZlGSM9AM9K5iHxH41tWMiRS3GwfNHMnyn8fX6Gs3UinZmipTaukeo0VU0nUYtX0q3v4RhZkyVPVT0I/A5FXK0MxKKKKAENNNONNNIBCabSmm0ABNFIaKBEtLTaWmMWlFJSigBaWkpaAFopKWgDzzxL4m/4RXxRNM2mSSQXi5a4ycBlXAXAHqB+dUdT+IV3Hp1tI2i+VJdxCSJS7OGGcY4Awa7nUZksbkNIB5c2QQ3Td2rJurs2jtPM8QRVIAOOO/Fc05JOzR3Qg5RumX/BUry+G4TLam2kLM7RntuJP9a36paTD5VgjEYaQB2+pFXa3jeyucc7czsJRRQaokaaaacaaaQDDSUppKAGsaKQnmigRPRSZpaYxaUUlLQAtFFFAC0tRySpEm6Rgo965zVtbnmlktbb9zGhwzHhn46ewpxXM7BZ7ljWbiw1WQ6V5ys4GWIP3W7YPrWDd6H9nEMl7fPLDACQsmMfoKgFssr7tqqx7g8YpktpJL/r5NwXgE9/aieHhJ3uawrShGyR1/h/XbTVbVYkbZPGNpjbgnHcetbFeabDAVUZQA7lYdVP1rq9E16WaFkvxwhCrN/e+v8AjVTioq/QySbdupv0hNAIYBgQQehFIazAQ000pppNADTSZpSaYTQIQ0UhPNFAE9LSYpaYx2aKSlFACilpBRQBQmcS3rg8rFwB7965u/bzNSmZCuAcYzjsK3XH+mXEecEtn8xXKtdg3k0BcK8b7Tu6GssO/wB5I6aiXs4loKD8xGACeKaWDxH5eo9M4p3ytHvLKfQepoCkLuHQ88HIrrMUVpFDLsOCOAMDpWnoZVbSWA84fPPuBWReXCIoEMgGD8yE9ql8LzPc3V24PyR4Bx3YisMRf2TLpfxDq9GmO2a2J/1Ryv0NaJNZOkENeXDqeNij9TWqTWVF3ghVlabEJppNKTSVqZDTSUpFNoENbrRQ3WigCcUtNFOzTKFpRSCgUAOpaQGigRjxkvqFw57MwrkbmxIvp7iVhsuJWKj0x8v+NdeZEj82XPDsxFc/qORFYELkiNpT64ZicflWWG/iP5nVXfuIdbLtQFlAA5HtUuxZEI2jpgnvVeGRSmQW/wBlQamL5U/Mc4/H/PFdTMTLvFxvA5BPI9far/hK3ljhupZOlw25B7D5f6VRvD52YyMt1L9hit7RyI9KsXPRkkU/g9Z1/wCGFJ/vEWNEYpqM0fYx8/gf/r1uGsmwRYtTY55kjOPzrWNc9D4Cq/xjDRQaO1bGIhptKabQIaaKDRQBPS5ptLTKHZoBptKKBDxSSNtjZvRSaKbNzBIP9g/yoAwnbNmjD+5/Ss+6illNs9uquRaojnOMH0q3K/8AxLEC/eZQB+Nc9a3V1Am5JJArEnaO/wCfFZ4Km5t2Z1YmSja5pR2N9EwC2/AHPzA0PaXghISzIJ5++vP60yLX7jhWZGyP4kwfzH+FD+IZWGMQqR9f1rsdGtfp+JzKpTt1/ArzWd5DGXa22bhj745rX04gaFZpkb45pFYA9Ccn+RrnbnVLy5CsZCMg/dXG3096n0O6kSd4JNxEjCQbvpj+R/Spr0Zqk3JoKU4uokjp7dwNWtl7kN/Ktk1h2vOtwf7rH9K3Ca4aHwm+I+MaaSlNJW5zjTSUppKBDSeaKD1ooAmzRmmhqUGmUOpabmlBoEOFKRkEe1IDS9QR60AclDLuiiHaNGc/8BBP9KyrFVls4/M5Gzpjqetb6W5TTJdi7nEUiLjjOQRXM6POj6enOW6Pz0NLCaRfc6cRrNdhl1D5cuc4VunPBHpmoJG2D5GYbgOMevb8qs3r5hctjIHyg8/hVGzYsAAQe+3k/XNetGo+XU8+UPe0NKyt1QiRsMwTsO54qK2kVNVgwzZ5BBPsf6ircEg37QTtKjArOitJr3xDDFByobc7bj8qiuSpK9+Y2jG1rHX6S/m64c/wQk/mRXQGsHSotuuyN93EOMevIreNedQ+A6MR8Y00lKabWxgIaaTSmkNAhM0UmaKQDwKWkpwqhiinCm0ooAcKcKYKdQBhsPJHltJtCSHv972rhLFXsdQu7NuV81uh4PNej3unx3Ehc7lz1K/1FcVqWlpY6/NGBtjbDxleMZ7fnmohJUruWx1O9ayjuU7wkRlCc56A9/8ACq+nq3lBpUZecBiCM8nFWL+DK4Vs5PXvXXa9oyf2Ss8RZXggVQo6EDtXTDEwktDCpQnBq5zcTFEGWPPAIPapNCWaK+vbmFC5JSJB+rfpUMCzSJmTYPbGc1f8OWk8t9c+U4VI4+AxOAxPXHrisKleE1yx1ubxozg+aWljotO/eatLIOixlSfxFa5qnptmLWM/MXZurHvVw1EI8sbGVaSlO6GmmmnGm1ZkIaaacaaaBDaKDRQA+nYoxSgUxiU4UAUooABThSUuKAFrl/FkapfWkxGd6lT+H/666gCua8ZMALJR9/cxH0wKyqq8Gb4d/vUcvdkfakRMgk/dr0a+XdpU64zmE8fhXA6bGbvXLYTADLgY9cc16MVDIVI4Iwayw60Zvi5e8jzizaNomBbLjsO1dH4PjVre6lIG4yBfyH/165y5ifT9TuYFUMN2P8K6LwZKPKu7c/fVw/1BGP6VnRVp6m2Jd6V0dIaaaeRSEV2nlkZFNNSGmmgBhppp5ppoAYaKWigCWlFMDUoemA+lpm+l30APApaZupd1AD8VyvinnV7VWGV8lsfXNdQGrm/F6ESWVwOzMh/Hn+lZVleDN8O7VEYttiG7juBwY5VP6816FivO4Eaa9it1H+slUH869C3Vlh9mbYz4kcJqWG1m5cjO6Zh+RxV/wzhfEEqrwDAc/mKpazGbfWpoz0d/MH0P/wBfNXvCibtUupj/AAxhfzP/ANasop+1N6jXsL+R1pFMNBamlq7jywNIRSbqQtQAhFIRQWppagAIoppaigBc0u6m0tMB24UoYUzFGKAJN4o3j0pmKKBj/MFY/ifa+jtIxCiJ1bJ7c4/rWriqOtWwu9EvbdsYeBx+lJrm0ZUXytNdDmNDuIJfElvGsyO2GbCnPRTXc+ZXkvw52DxQuSAfJfb7mvV8U3RVH3Uxzquq+Zo5nxSF/tayfIBkQgjPJwf/AK9W/DA8sXb9y4H5D/69c98USottOIOHDvjB5xgVpeAIwnhhH3bmllZmJOfb+lL2Fv3tynXvD2djqzLTTJTQpNLjFBiG8+lN30E0mCaBgXpu6nbM07yxQBFk+lFS7QO1FAh2KUCgU7FACYpQKUClAoAbtpNtSYoxQMiPFZ3iC+h07w/f3c5+SOBsj1JGAPzNahHFeZ/FDW45CmhIz84kl2dz2B/nQBzHg3WLa18VWMspKJvILNwFBBGT+de1vLtOM5r5502xkvb1bGBf9IlIRQxwASfWvoGyt2jsoVkO50jVSfUgYzVSm5O7EkkedfFS8SO90+NgSREzce5/+tW58L7+G88OzRLkPbzkMCfUAj+tcd8TXSXxT5atucQoNoHQ88flzR8OdUXSteFs28JeARuD0DZ+U/nx+NHO+Xl6BbW57GWH8NHls3JqSNAFz3qTafSpAhEYxS7MVJj1FBAoAjxRtp+KMUAM20UtFACUvWkpRQA7FAFFLmgYUtFLmgQ0rkV554q+HV7rGtTajaXkQE2CUcEYIGOv4V6LkUZBoGec+F/hrcaZq8Wo6hdRv5J3JHGDyfcmvQ9hxjHFP4FKD70AeeeLvh7da1rLalZ3EamRQHSQEcgYyDUOgfDW7stXgvb27j2QOHEaAncR05r0gkUAigQiggYFO5oBFLxQAmM0m007ApcUAMI9aQj0p+KTafWgCIiinYooAZSUUUDCloooAdS9qKKBCHpQOlFFAwpRRRSAb3pR96iimAvenLRRQIfSUUUALSUUUAMPWiiikM//2Q==\" style=\"max-width:none\">\n",
       "        <br>\n",
       "        <small>Index: 7</small><br>\n",
       "        <small>Distance: 0.5007</small><br>\n",
       "        <small>Hash: 5f8a3e26947356ba91e1fb4d9eca8e3f</small>\n",
       "    </div>\n",
       "    \n",
       "    <div style='text-align: center; border: 1px solid #ddd; padding: 5px;'>\n",
       "        <img src=\"data:image/jpeg;base64,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\" style=\"max-width:none\">\n",
       "        <br>\n",
       "        <small>Index: 8</small><br>\n",
       "        <small>Distance: 0.5427</small><br>\n",
       "        <small>Hash: 6954dc6fce6945ba0e2da0e778b72765</small>\n",
       "    </div>\n",
       "    \n",
       "    <div style='text-align: center; border: 1px solid #ddd; padding: 5px;'>\n",
       "        <img src=\"data:image/jpeg;base64,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\" style=\"max-width:none\">\n",
       "        <br>\n",
       "        <small>Index: 9</small><br>\n",
       "        <small>Distance: 0.5501</small><br>\n",
       "        <small>Hash: cf01c8937b391ab760476f80f5cf3c4b</small>\n",
       "    </div>\n",
       "    \n",
       "    <div style='text-align: center; border: 1px solid #ddd; padding: 5px;'>\n",
       "        <img src=\"data:image/jpeg;base64,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\" style=\"max-width:none\">\n",
       "        <br>\n",
       "        <small>Index: 10</small><br>\n",
       "        <small>Distance: 0.5509</small><br>\n",
       "        <small>Hash: 61ebb1e315d5f6d3f8989e8cb3a4ce67</small>\n",
       "    </div>\n",
       "    \n",
       "    <div style='text-align: center; border: 1px solid #ddd; padding: 5px;'>\n",
       "        <img src=\"data:image/jpeg;base64,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\" style=\"max-width:none\">\n",
       "        <br>\n",
       "        <small>Index: 11</small><br>\n",
       "        <small>Distance: 0.5513</small><br>\n",
       "        <small>Hash: 46b26538e6e082f8af12c04ced6a7cbd</small>\n",
       "    </div>\n",
       "    \n",
       "    <div style='text-align: center; border: 1px solid #ddd; padding: 5px;'>\n",
       "        <img src=\"data:image/jpeg;base64,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\" style=\"max-width:none\">\n",
       "        <br>\n",
       "        <small>Index: 12</small><br>\n",
       "        <small>Distance: 0.5519</small><br>\n",
       "        <small>Hash: 828d488576f7aa76a42ce8c88ef947a3</small>\n",
       "    </div>\n",
       "    \n",
       "    <div style='text-align: center; border: 1px solid #ddd; padding: 5px;'>\n",
       "        <img src=\"data:image/jpeg;base64,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\" style=\"max-width:none\">\n",
       "        <br>\n",
       "        <small>Index: 13</small><br>\n",
       "        <small>Distance: 0.5553</small><br>\n",
       "        <small>Hash: 2c435a7ce800e13f66fac37c80360ff9</small>\n",
       "    </div>\n",
       "    \n",
       "    <div style='text-align: center; border: 1px solid #ddd; padding: 5px;'>\n",
       "        <img src=\"data:image/jpeg;base64,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\" style=\"max-width:none\">\n",
       "        <br>\n",
       "        <small>Index: 14</small><br>\n",
       "        <small>Distance: 0.5570</small><br>\n",
       "        <small>Hash: 06479de9831d5029521cd7353b9c9fd6</small>\n",
       "    </div>\n",
       "    \n",
       "    <div style='text-align: center; border: 1px solid #ddd; padding: 5px;'>\n",
       "        <img src=\"data:image/jpeg;base64,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\" style=\"max-width:none\">\n",
       "        <br>\n",
       "        <small>Index: 15</small><br>\n",
       "        <small>Distance: 0.5617</small><br>\n",
       "        <small>Hash: b3e15be1c5afe1e1f2c6b7eac5524b71</small>\n",
       "    </div>\n",
       "    \n",
       "    <div style='text-align: center; border: 1px solid #ddd; padding: 5px;'>\n",
       "        <img src=\"data:image/jpeg;base64,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\" style=\"max-width:none\">\n",
       "        <br>\n",
       "        <small>Index: 16</small><br>\n",
       "        <small>Distance: 0.5663</small><br>\n",
       "        <small>Hash: 318cf7903d26c53058e85ee7cf7d4534</small>\n",
       "    </div>\n",
       "    \n",
       "    <div style='text-align: center; border: 1px solid #ddd; padding: 5px;'>\n",
       "        <img src=\"data:image/jpeg;base64,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\" style=\"max-width:none\">\n",
       "        <br>\n",
       "        <small>Index: 17</small><br>\n",
       "        <small>Distance: 0.5714</small><br>\n",
       "        <small>Hash: 20211d7a082896985c87319aa9a356dd</small>\n",
       "    </div>\n",
       "    \n",
       "    <div style='text-align: center; border: 1px solid #ddd; padding: 5px;'>\n",
       "        <img src=\"data:image/jpeg;base64,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\" style=\"max-width:none\">\n",
       "        <br>\n",
       "        <small>Index: 18</small><br>\n",
       "        <small>Distance: 0.5747</small><br>\n",
       "        <small>Hash: a6a8f056ea68707faedc77c0f3a7e0fd</small>\n",
       "    </div>\n",
       "    \n",
       "    <div style='text-align: center; border: 1px solid #ddd; padding: 5px;'>\n",
       "        <img src=\"data:image/jpeg;base64,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\" style=\"max-width:none\">\n",
       "        <br>\n",
       "        <small>Index: 19</small><br>\n",
       "        <small>Distance: 0.5781</small><br>\n",
       "        <small>Hash: f33901855b7bc2e0b204663c81da8146</small>\n",
       "    </div>\n",
       "    \n",
       "    <div style='text-align: center; border: 1px solid #ddd; padding: 5px;'>\n",
       "        <img src=\"data:image/jpeg;base64,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\" style=\"max-width:none\">\n",
       "        <br>\n",
       "        <small>Index: 20</small><br>\n",
       "        <small>Distance: 0.5861</small><br>\n",
       "        <small>Hash: 0571f3fdb99ff04665dc04b4f3367e0a</small>\n",
       "    </div>\n",
       "    \n",
       "    <div style='text-align: center; border: 1px solid #ddd; padding: 5px;'>\n",
       "        <img src=\"data:image/jpeg;base64,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\" style=\"max-width:none\">\n",
       "        <br>\n",
       "        <small>Index: 21</small><br>\n",
       "        <small>Distance: 0.5901</small><br>\n",
       "        <small>Hash: 6ac853b09cf3d54d4eba9f7086ca3c43</small>\n",
       "    </div>\n",
       "    \n",
       "    <div style='text-align: center; border: 1px solid #ddd; padding: 5px;'>\n",
       "        <img src=\"data:image/jpeg;base64,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\" style=\"max-width:none\">\n",
       "        <br>\n",
       "        <small>Index: 22</small><br>\n",
       "        <small>Distance: 0.5921</small><br>\n",
       "        <small>Hash: 09bfae6056b88df07641bf7e2df0841c</small>\n",
       "    </div>\n",
       "    \n",
       "    <div style='text-align: center; border: 1px solid #ddd; padding: 5px;'>\n",
       "        <img src=\"data:image/jpeg;base64,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\" style=\"max-width:none\">\n",
       "        <br>\n",
       "        <small>Index: 23</small><br>\n",
       "        <small>Distance: 0.5924</small><br>\n",
       "        <small>Hash: b9107a09e20968f580030c709034e689</small>\n",
       "    </div>\n",
       "    \n",
       "    <div style='text-align: center; border: 1px solid #ddd; padding: 5px;'>\n",
       "        <img src=\"data:image/jpeg;base64,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\" style=\"max-width:none\">\n",
       "        <br>\n",
       "        <small>Index: 24</small><br>\n",
       "        <small>Distance: 0.6087</small><br>\n",
       "        <small>Hash: eef785ff51518590bbefdfa3dcda9aa1</small>\n",
       "    </div>\n",
       "    \n",
       "    <div style='text-align: center; border: 1px solid #ddd; padding: 5px;'>\n",
       "        <img src=\"data:image/jpeg;base64,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\" style=\"max-width:none\">\n",
       "        <br>\n",
       "        <small>Index: 25</small><br>\n",
       "        <small>Distance: 0.6112</small><br>\n",
       "        <small>Hash: bb3ecb2e12fac67954ef0fb858ea1a2d</small>\n",
       "    </div>\n",
       "    \n",
       "    <div style='text-align: center; border: 1px solid #ddd; padding: 5px;'>\n",
       "        <img src=\"data:image/jpeg;base64,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\" style=\"max-width:none\">\n",
       "        <br>\n",
       "        <small>Index: 26</small><br>\n",
       "        <small>Distance: 0.6309</small><br>\n",
       "        <small>Hash: 99fc7ec0c93371778a039b66f78ad654</small>\n",
       "    </div>\n",
       "    \n",
       "    <div style='text-align: center; border: 1px solid #ddd; padding: 5px;'>\n",
       "        <img src=\"data:image/jpeg;base64,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\" style=\"max-width:none\">\n",
       "        <br>\n",
       "        <small>Index: 27</small><br>\n",
       "        <small>Distance: 0.6374</small><br>\n",
       "        <small>Hash: 0350e9157451100bfc6a8ba882e4ffdb</small>\n",
       "    </div>\n",
       "    \n",
       "    <div style='text-align: center; border: 1px solid #ddd; padding: 5px;'>\n",
       "        <img src=\"data:image/jpeg;base64,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\" style=\"max-width:none\">\n",
       "        <br>\n",
       "        <small>Index: 28</small><br>\n",
       "        <small>Distance: 0.6416</small><br>\n",
       "        <small>Hash: f933f6e1cb41561032230f464af423d6</small>\n",
       "    </div>\n",
       "    \n",
       "    <div style='text-align: center; border: 1px solid #ddd; padding: 5px;'>\n",
       "        <img src=\"data:image/jpeg;base64,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\" style=\"max-width:none\">\n",
       "        <br>\n",
       "        <small>Index: 29</small><br>\n",
       "        <small>Distance: 0.6447</small><br>\n",
       "        <small>Hash: c995dfbea1903b37dc48ab891ea95725</small>\n",
       "    </div>\n",
       "    \n",
       "    <div style='text-align: center; border: 1px solid #ddd; padding: 5px;'>\n",
       "        <img src=\"data:image/jpeg;base64,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\" style=\"max-width:none\">\n",
       "        <br>\n",
       "        <small>Index: 30</small><br>\n",
       "        <small>Distance: 0.6455</small><br>\n",
       "        <small>Hash: efcc5dd9968b4b043c547a15eaf7bf7e</small>\n",
       "    </div>\n",
       "    \n",
       "    <div style='text-align: center; border: 1px solid #ddd; padding: 5px;'>\n",
       "        <img src=\"data:image/jpeg;base64,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\" style=\"max-width:none\">\n",
       "        <br>\n",
       "        <small>Index: 31</small><br>\n",
       "        <small>Distance: 0.6484</small><br>\n",
       "        <small>Hash: f45555d1683f0ba1bdb259af2889dc46</small>\n",
       "    </div>\n",
       "    \n",
       "    <div style='text-align: center; border: 1px solid #ddd; padding: 5px;'>\n",
       "        <img src=\"data:image/jpeg;base64,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\" style=\"max-width:none\">\n",
       "        <br>\n",
       "        <small>Index: 32</small><br>\n",
       "        <small>Distance: 0.6541</small><br>\n",
       "        <small>Hash: f4fc2dc5472a52786c26ca59cda11404</small>\n",
       "    </div>\n",
       "    \n",
       "    <div style='text-align: center; border: 1px solid #ddd; padding: 5px;'>\n",
       "        <img src=\"data:image/jpeg;base64,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\" style=\"max-width:none\">\n",
       "        <br>\n",
       "        <small>Index: 33</small><br>\n",
       "        <small>Distance: 0.6548</small><br>\n",
       "        <small>Hash: cc68ce9b7678f353b9749e0b15b79473</small>\n",
       "    </div>\n",
       "    \n",
       "    <div style='text-align: center; border: 1px solid #ddd; padding: 5px;'>\n",
       "        <img src=\"data:image/jpeg;base64,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\" style=\"max-width:none\">\n",
       "        <br>\n",
       "        <small>Index: 34</small><br>\n",
       "        <small>Distance: 0.6575</small><br>\n",
       "        <small>Hash: 99be0df0f7703743f6cf2e0e46eaef5d</small>\n",
       "    </div>\n",
       "    \n",
       "    <div style='text-align: center; border: 1px solid #ddd; padding: 5px;'>\n",
       "        <img src=\"data:image/jpeg;base64,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\" style=\"max-width:none\">\n",
       "        <br>\n",
       "        <small>Index: 35</small><br>\n",
       "        <small>Distance: 0.6608</small><br>\n",
       "        <small>Hash: bcb17e3bbddd2db63554a7b0ad42d5e7</small>\n",
       "    </div>\n",
       "    \n",
       "    <div style='text-align: center; border: 1px solid #ddd; padding: 5px;'>\n",
       "        <img src=\"data:image/jpeg;base64,/9j/4AAQSkZJRgABAQAAAQABAAD/2wBDAAoHBwgHBgoICAgLCgoLDhgQDg0NDh0VFhEYIx8lJCIfIiEmKzcvJik0KSEiMEExNDk7Pj4+JS5ESUM8SDc9Pjv/2wBDAQoLCw4NDhwQEBw7KCIoOzs7Ozs7Ozs7Ozs7Ozs7Ozs7Ozs7Ozs7Ozs7Ozs7Ozs7Ozs7Ozs7Ozs7Ozs7Ozs7Ozv/wAARCADSAJYDASIAAhEBAxEB/8QAHwAAAQUBAQEBAQEAAAAAAAAAAAECAwQFBgcICQoL/8QAtRAAAgEDAwIEAwUFBAQAAAF9AQIDAAQRBRIhMUEGE1FhByJxFDKBkaEII0KxwRVS0fAkM2JyggkKFhcYGRolJicoKSo0NTY3ODk6Q0RFRkdISUpTVFVWV1hZWmNkZWZnaGlqc3R1dnd4eXqDhIWGh4iJipKTlJWWl5iZmqKjpKWmp6ipqrKztLW2t7i5usLDxMXGx8jJytLT1NXW19jZ2uHi4+Tl5ufo6erx8vP09fb3+Pn6/8QAHwEAAwEBAQEBAQEBAQAAAAAAAAECAwQFBgcICQoL/8QAtREAAgECBAQDBAcFBAQAAQJ3AAECAxEEBSExBhJBUQdhcRMiMoEIFEKRobHBCSMzUvAVYnLRChYkNOEl8RcYGRomJygpKjU2Nzg5OkNERUZHSElKU1RVVldYWVpjZGVmZ2hpanN0dXZ3eHl6goOEhYaHiImKkpOUlZaXmJmaoqOkpaanqKmqsrO0tba3uLm6wsPExcbHyMnK0tPU1dbX2Nna4uPk5ebn6Onq8vP09fb3+Pn6/9oADAMBAAIRAxEAPwD1cdKcKSlFIoXvTh0ptOFABS0lLQAUUUUwCkJrE8S+LtJ8Lwq1/Kxlk+5DGMs3v9K5GT4yaUJ4xHBMY9+JN0fO325oA9KFKKxtB8VaN4kDjTLwSyRqGeMqVZQfUGtmgAzRRRQAUlFFABRSZooAKKSigBlKKSlFIBaUUlKKYC0UlLSAWo7i5jtIHnmJCRjcxAJ4/Cn1V1a2W90m7tXztmhZCR1AIxQB83a7qUmratc3Ukzy75WKszE4BPb0FVYbAzrK53L5cfmbdpyw9fp71euNB1BdVuLGC3aeS3Yjao5YA9cV012PGM/hq2tvsZIbdEyxxkS7R0De3NRKXY2hC+rRzHhnW7jQtZhu7aQx87XzyGX0PtX0rbTLcWsUyMGWRAwYdCCOtfN9r4Y1F9agsJ4TG0jDfgg7Bxn8QK+jbGBLaxggjXYkcYUL6YFUnfYzkmtyeiiimSFFJRmgANJQaSmAUUUUgGClpBS0AKKWmilzQAopaaKWgBc0tNqlc6xZ2xKmTzHHGyMZNJtLcaTexxnjPSX029/t61UeZGpDqo++hI/UVhPrENmr6hHqEssjj92PMz5pOPl29u3aun13WZNRKQ48uFWyUAJJ+pqnFY6NbYuBDCkpORhBuzXLOcW9D0KVOcY6i+CtGu7rV5dZ1BVDSqCsYP3PavQ64fRdZfTpJEC+bG7ZKHIYfQ/0rrbTU7O8wIZl3n/lmxww/Ct6c4taHLWpyjJtluikorQwCiikoAWkoooAKKKKYEYp1Npc0gFpabS0AFLSUZoAzddumht44I2IadtpI7KOv9KxJTEAI41AOO1XfEsgW6sh3If+lYD3X2bV5opiANqup9j/APqrirN856GHiuQsm1544NQtEEl+8S31q0p82EyIR9apXEW1oJjklyQfasjp5mTNZO5D+ZjHbGaHhCsJJQCVHDJ8pB7VOoaFQ7kcjNVftH2jUDFGcqsJdx+g/rQm0yHqdboV899p+ZTmWJzG5PfHQ/lWjXNeDZC8d8DwfMUkZ6HFdLXoRd0jy5pKTsFFFFUSFFJRQAUUUUAMopAaWgAFKKSigB1JmiigDmfEBMmuW0XZYc/m3/1q5zXF83XjGy/J5KjPvk8V02rqDryydfLgUH25NYupQiWJr3ByLoR/htzXDUV5yPSpO0Il/Sokit0iAyoGADV820bMAQpHpWPp8rAMCc4NaIlYNkGskzWSdyvqtmJ4DFuKrnscVjWkginuUDjKoOfzrXvLh3bZjr1rFtInF+7BAVc4z7jH/wAVTjqxNtRNzwPMzXV7Gc/cQnIxzk12Fcr4SiMeo6gTwSqcfia6mu+n8KPNq/GxaKSirMxaKSigAooooAipwNNpRQApoFAooAWikzRQByF7O0mpX7DnEuz8gBTJVM2gblBz9tLED/dxUS5M+os3ad/5mrNq+dKghAP3zKSPU/8A1sVyUoc82jurT9lTi15FO2YLc4Jxn1q4kjtdShgAgA2nNSLslRWK7sjIA9+M09YAJGyqY6YxzWrwb6MxWPi94lFiGkc8dMc1nXjyWdjDcKB8zyjBHqFx/KuiESLlcBf9nGPxrJ11vIsbNRGpzM6neOMHBFJ4Z04t3uNYtVGklYk8DXLvqs8bsSTb7iD/ALw/xruc1wPgxceJrgBQAtuR17blrva0h8JjP4haKTNFWQLRSZpKAFopM0UAR0opBRQA4daU00UtABRSUUAcZc5juNSjA5M7Y/E1ZKmB3iT/AJZkD5RyOBSXAA1e9DfN+9DED04NMSR5WeRD8xf5snnBPNRhl70jXFt8kC7hiAjYLDnaP8KWPLbt2M98r0FRs7AbsADnJHSmC4XbgYb045rvseaSscfIibj3zx+NYutKJ/JgUjiUMSMkDrWuMsSVCKp4yeazJ2H2gxqTu+8NmM8dKyrO0Gb0FeojQ8Iwob68nTkKix524PUk5/SuqzXN+CiX0uec5/eTtgt14xXR5rmgrRR01HeTHUUlFUQLSZozSUALmim0UAIKKSgUAKKWkozQApoFIKDQBy9yuzWrst/G/wD7LxVa2kZ5I5EwCeoPUdjj8a1NZsmMv2hMjI5YdiPWsy1jdQzEKrEg4Xqfz6UUabU2zSvVi6Kj1LMr4+beSfUEdfpVK2DRzOTI2GbjnGB0q1Off5hn+HBqW7t/s1raPj+A5P611t2aRwRjdNjWZgC2D7sCcrxWe6s0k0sK7pQFB3NjrV1VMiEZJPc56iqtvHKZRCI2RSSck5Of8/zrDERclodWElCLfMbnhWJ4tEVXBz5jnnvzW1VTTrf7LZpFt2nqRVqs0rIqTu20LRmkopiCkJpTTTSAUGikooASlFIKWmIWikooAUUhoooAim/1L56bT/KudjwqqDkFexPStbWp2hsflON7BT9KxonCxMR34PHAramtDCo9RQpkuo4xk7mAP0rV1mMGyVhwI2/SqGkp519vJz5fOa19QXfYSjH8OeaU37xUF7piQH92cjB9ehIqxpq51NDtwNhPSqcG0qQ3BI4PSrGmXAj1GNcKd2U4rSWzM4/EdGKdTRS1zHSLSUUUDENFJmkzQAtFJRSABS03PpQDTEOpabmlzQAtJmkpCaAMrxCQbWJCMkvkfgKyV+W3K5wpPQHkmr+uyH7TAmcBQSePU1QZdq8Nkc9T7e3SuimvdOeo9TV0JP3Ush6lsVpzrugkX1U1R0ZQtgpAxuYmr7H5T9KxlubRWhysQYkg5HQ471PZAf2lCRnG/pUCNiZ1XHHQVJAwS9hb5ciQA4B9a6HsznW51Ypc0wGlzXKdQ6kNJmjNACHrRSGigAooooGNzS5FRgmlBFAiTNGaZuo3e1AD80Zpm6mlqAMDWm3ameeFQA84/wA9aql2aMqFIz0bv9Kn1GXZqkhZSVwASO3AqKXYEUDB3DIAFdUfhRzS+Jm9pQxp0XGOP61bPSqtiPLsolJ5CDNTlhXM9zoWxzTrmcMnHUDPHNIWxLHkHO4ZPrzQX2zyZHG9uo7GmceYMYPI5rq6HLszrxS5qJScdaduFch1j80Zpm4etG4etMY6kpM0hbikIcaKZvooGM5x1ozS4FKBTAQZopcUYpANpDmpMVBdTR21vJPKdqRqWY+gFMDk/EGsabp+ux213drDJIgYZBwB05Papo/JnkRINrsSMsrZHPcegxXlGv3p1fV5r15TI8rkeyjso/CvQvhxor2sMuptKrLcqI40HO1VPf3zVqo0rGTppu53KggAClOcU8LkUMnFQaHLM7+cxB25Jyen5mnJIlx5RU7lbkMOQR7GqHjyOW10SSS0QgMdspBxtX1/PA/GuJ8JeKL60vbHT5NktkkoDZXLBSeBn0B5rX2iMfZntik07LULginYrI3E5pKfSUAJSGn4ppFIBOQKKXFFAh2KXFLilxTGJijFLilxQAwiqupWC6lp1xZOxVZ4yhYdRkVdxRigR5cPhPcCYA6mnlZzny+fyzXfaPpFto2mQ2NvkpEOrdWJ5JP41p7aTbQBHigjipMCk20Acr470u91Lw7JFp6F5Q6syL1dR1Arya00LV2uY4oNPufO3Y/1ZGT719B7aQRqDnAzSDUr2UMkNlBFKd0iRqrH1IHNWAKdtoxTAbijFOxRigYmKMU6jFADMUU/iigA7UUUUAL3ooooAWkoooAKDRRQAlFFFAC0GiigQUUUUAFFFFAwooooAO1FFFAj/9k=\" style=\"max-width:none\">\n",
       "        <br>\n",
       "        <small>Index: 36</small><br>\n",
       "        <small>Distance: 0.6615</small><br>\n",
       "        <small>Hash: cde08ad63bcba601d863d16d65aa1d2e</small>\n",
       "    </div>\n",
       "    \n",
       "    <div style='text-align: center; border: 1px solid #ddd; padding: 5px;'>\n",
       "        <img src=\"data:image/jpeg;base64,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\" style=\"max-width:none\">\n",
       "        <br>\n",
       "        <small>Index: 37</small><br>\n",
       "        <small>Distance: 0.6640</small><br>\n",
       "        <small>Hash: 3c3d752a6c09aed3861caeeed56ef98a</small>\n",
       "    </div>\n",
       "    \n",
       "    <div style='text-align: center; border: 1px solid #ddd; padding: 5px;'>\n",
       "        <img src=\"data:image/jpeg;base64,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\" style=\"max-width:none\">\n",
       "        <br>\n",
       "        <small>Index: 38</small><br>\n",
       "        <small>Distance: 0.6656</small><br>\n",
       "        <small>Hash: be943ab054d8d83bcab3e8c74312e383</small>\n",
       "    </div>\n",
       "    \n",
       "    <div style='text-align: center; border: 1px solid #ddd; padding: 5px;'>\n",
       "        <img src=\"data:image/jpeg;base64,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\" style=\"max-width:none\">\n",
       "        <br>\n",
       "        <small>Index: 39</small><br>\n",
       "        <small>Distance: 0.6656</small><br>\n",
       "        <small>Hash: a3ca90158b6685d3752067cc96d5b7cf</small>\n",
       "    </div>\n",
       "    \n",
       "    <div style='text-align: center; border: 1px solid #ddd; padding: 5px;'>\n",
       "        <img src=\"data:image/jpeg;base64,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\" style=\"max-width:none\">\n",
       "        <br>\n",
       "        <small>Index: 40</small><br>\n",
       "        <small>Distance: 0.6710</small><br>\n",
       "        <small>Hash: 7426d2852e80295cfb5a5466ed3f0004</small>\n",
       "    </div>\n",
       "    \n",
       "    <div style='text-align: center; border: 1px solid #ddd; padding: 5px;'>\n",
       "        <img src=\"data:image/jpeg;base64,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\" style=\"max-width:none\">\n",
       "        <br>\n",
       "        <small>Index: 41</small><br>\n",
       "        <small>Distance: 0.6713</small><br>\n",
       "        <small>Hash: 2856d165a4800699d0c9f26eb84cdba3</small>\n",
       "    </div>\n",
       "    \n",
       "    <div style='text-align: center; border: 1px solid #ddd; padding: 5px;'>\n",
       "        <img src=\"data:image/jpeg;base64,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\" style=\"max-width:none\">\n",
       "        <br>\n",
       "        <small>Index: 42</small><br>\n",
       "        <small>Distance: 0.6724</small><br>\n",
       "        <small>Hash: ed75bccdee097c0ee996c72427fa41a7</small>\n",
       "    </div>\n",
       "    \n",
       "    <div style='text-align: center; border: 1px solid #ddd; padding: 5px;'>\n",
       "        <img src=\"data:image/jpeg;base64,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\" style=\"max-width:none\">\n",
       "        <br>\n",
       "        <small>Index: 43</small><br>\n",
       "        <small>Distance: 0.6743</small><br>\n",
       "        <small>Hash: 7d99f1968acd0480aa4d2b96061064b3</small>\n",
       "    </div>\n",
       "    \n",
       "    <div style='text-align: center; border: 1px solid #ddd; padding: 5px;'>\n",
       "        <img src=\"data:image/jpeg;base64,/9j/4AAQSkZJRgABAQAAAQABAAD/2wBDAAoHBwgHBgoICAgLCgoLDhgQDg0NDh0VFhEYIx8lJCIfIiEmKzcvJik0KSEiMEExNDk7Pj4+JS5ESUM8SDc9Pjv/2wBDAQoLCw4NDhwQEBw7KCIoOzs7Ozs7Ozs7Ozs7Ozs7Ozs7Ozs7Ozs7Ozs7Ozs7Ozs7Ozs7Ozs7Ozs7Ozs7Ozs7Ozv/wAARCADSAJYDASIAAhEBAxEB/8QAHwAAAQUBAQEBAQEAAAAAAAAAAAECAwQFBgcICQoL/8QAtRAAAgEDAwIEAwUFBAQAAAF9AQIDAAQRBRIhMUEGE1FhByJxFDKBkaEII0KxwRVS0fAkM2JyggkKFhcYGRolJicoKSo0NTY3ODk6Q0RFRkdISUpTVFVWV1hZWmNkZWZnaGlqc3R1dnd4eXqDhIWGh4iJipKTlJWWl5iZmqKjpKWmp6ipqrKztLW2t7i5usLDxMXGx8jJytLT1NXW19jZ2uHi4+Tl5ufo6erx8vP09fb3+Pn6/8QAHwEAAwEBAQEBAQEBAQAAAAAAAAECAwQFBgcICQoL/8QAtREAAgECBAQDBAcFBAQAAQJ3AAECAxEEBSExBhJBUQdhcRMiMoEIFEKRobHBCSMzUvAVYnLRChYkNOEl8RcYGRomJygpKjU2Nzg5OkNERUZHSElKU1RVVldYWVpjZGVmZ2hpanN0dXZ3eHl6goOEhYaHiImKkpOUlZaXmJmaoqOkpaanqKmqsrO0tba3uLm6wsPExcbHyMnK0tPU1dbX2Nna4uPk5ebn6Onq8vP09fb3+Pn6/9oADAMBAAIRAxEAPwD1MHFOHNMFOHFIod0pwptKKAHZxS5ptKKAHUhNFFACUmaw9f8AGOjeHS0d9dAThd3kpy59OK5m1+LujMpN2kyemyPP4daAPQwaeKztH1Wz1vT476wmEsL9D3B7g+9aA4oAdRSUmaAFzSUUlMBaSikpALmiiigCsKcKYtOoAeKWmqaWgB1OpgPFOFADqyfEmvReHtLkvJFLEA7VHetXNc/42sV1HwzdQHfv8tihVsc4/WgZ4Dq2p3WrahPeXUm6SZ8k5zgdhVRn3RxrtA25OfWkdSrFSMEcEHtSBmAwDnI5BpAdf8Odck0rxXbA3LJbzkxyRkna2emB65xXv2a+Y/D1j/aWuWdlu2rJKAzZxgdSa+mYkEcKIGLBVABJyTgUwH0UlFAgooNJQAGkoNFAC0U2igCuDTgabTloGO6UoptOFAhaUGkoFADxUVzEs9u8bKCCpqTNNLgcDk+goGeCeLvC9xbazK9lauYXYEYGRk9hWY/hPWIyDPZtGCQEBIy3Ga9/ufD8F9cLcO7ow/hXGM+tD+G4HXa88pHtWEpTv7q0N4qlb3tzgfh54SNjsuLqMedLzjGdi/X1NeojgYHAFVLWwi02MRwqzKBjLHJqyrhuhrZMxluOzRmkopkhmiikoAKM0UlAC0UlFAEFKKSigY+gGkzSigQ4UoBJwKbUdzLJDbvLEAXUZANAydo2xycew71LFEq9uaitpxdwxzgYDLnHoe9WV6k1kUOAoxRQaCRCoPaoZIV6gYqemtzketA0ReX8mQ2cetNzUFzNNHPDBGAd5JbPoKmzWkdhMKSiimIKKKKACiiigZBQKTNGaBDqUUg6UZoAeDRjPB6Gm0oPIoAwvDOp4mu4H/1Bndo2z935sYrqIjkH24rzbSXEAunwQsjNj0zk12/huWSbRIJJGLMw6n9K5oSbbR1VYJJNGqDQetItB61oc4oPX61HI4TLMcKoySacD1+tc/4gv3hvLe1HCSHLH1x0FTJ2Vy4R5pWJLe9a516YHhfJGwegB/8Ar1qVzumNnXzz/wAsG/mK6HNVRbcdSq8VGdkFGaSitTAWikozQAtFJRQBBQOtNBzSmgB4NKeaYDThQAoNQX85ttPuZx1jiZh9QDUxrN8ROU8O37f9MTQ9hrc42CMrppQlt4UsfrjrXoPh8bNJiTbt2fLj6V5tHfM8aQx7d0pVAvpk4r0JNYs9PU28rSNMOdiRk/r0/WualF6nXiJRdkjYjPX6041zo8X2ERJuIbiLcehQHH1waQ+OtGRmV0vEKHDBrc5B9MVtySvaxy3R0JOHIrmvE8PmPBIOqSDH5GrNt4t0W+lxFdMjY+7JGyn9RVbXr20lsC8EyyeXIrNtPTPH9aicXys0pNKSMzTrrHiK1KnG8NG4PuP8QK66uEjkxrNgy950/nXdZpUPhNcWvfT8haKTNGa3OQWjNJmigBc0U3NFAEAOKUc1HT1oAcOKcDTTQDQA6qOtR+dol7GRndC3H4VdqK4XzLeVP7yEfpQC3PPdItlm1exiwCN2/p2Fa+pahZNdSys6xsZGjZpH2hlGMEHtj86yLG6j0DUFvZkaSOOB8e3HH6gCvPL7U5b67kkuJC5di2B0UnsBV4SEZK8naxeLcoytY9Gh13To7vzXuYWEcbuisVYMRgrz65z+QrNfV7O8uJJpbuHMjFmYDb2x3+grhFuunHApr3RLYA4PUZrtth07uRx3qvSx6PpWt6VZ3Lia4hkimTypDuwQucgjA6A9v8K3LK5tdW0u5SC4jkLRHOw55HrXkD3eQMAjHoau6Fqk1hq1vLATnzACmeH56GpnCjJPklqOMqiauj0fRma51bTs8/PuP4DNd9muG8JWhGoQzOxJVXxzx+FdxXmUlaJ6OJvz6jqSkzRmtTmFzRmm0ZoAdmim5ooAhpwNMpaAHg0tNWlzQAuaa/MbfQ0GjtQB5H4jmkMN0rMyqkBVcDrx/jXBJ1/CvV/iJZ/YvD1zOyKd7rGrj3P+ANeUR9KmEeVGtWoqjTEyU/rTXc7lI7VI3SmNFIIlmKny2YqG7EjBI/UVZiOZyR+NSwyGKWOQH7rA/rUK8ke1O/hFA0ey+BxK0xZifLALLnvkCu3rn/B9uB4fsLrK5ltkIAHTgVv1EY2VjSpPnlcXNJSUtUZgTSUE0maAFooooAipQabmlFADqM0lFAh1FJRQM89+MFzs0WwtQeZbguR7Kv8A9lXlKcJXoHxilLappkGeFgd/zbH9K8/B+UUxD0je4mjgjGXkYKo9ycV6HrvhJbTwCqxLue0Pm7scsf4j+PP5CuU8F2B1LxZYx4ysb+a/0H/18V7he2q3WnzWxA2vGVx+FIZ86If3eafj5RTWjMUjxNwUYqfwOKc3QUwPevBD7/BelH0gA/IkVvVzXw+ff4I032Vh+TtXSZpCFpDRQaBiZpM0hoFADs0UhooAiBpc1GDTgaYh4PFLmmBhS5pAOzQTTc0ZFMDyP4uMT4ltB2FoP/QmrhPxNd58XMHxDZEYJ+y/+zGuEIxQB6B8JbESaje3zf8ALJFjX8Tk/wAhXqorg/hLbeX4fupyOZrggfQAV3lAz598SwfZfFGpQgABbl8AehOf61RbpW98QIxF42vwoxuKN+aiufJytAHtvw2k3+CLMf3XkX/x411Wa5P4aAL4JtfeSQ/+PGurzQIdmkJpM0ZoGFFJmkzQIdRSZopDKoJpwPvUIz604fWmBLupcmosmjn1pAS7iOppC9MzTTmgDyL4nz+d4w8vPEVui/nk/wBa5Fq3fG9x9p8Z6gw6I4j/AO+VArFjjM0yRDgyMFH4nFMR7X4Ft/sXhGwQjDOnmH/gRzXQ+YKpWdutraxW6fdiQIPoBip6BnkPxMQJ4xdx/wAtYI2/Qj+lcqT8tdr8VYAus2U+eZICp/4C3/164g9BQB7Z8OjjwVZDPeQ/+PmuoD461yfw+z/whljz/f8A/QzXTDPY0AT7xR5i+tQ80fhQBNvHak3GouaMkd6AJd2O9FRZooAaBS4p4WlxQAzFGKftoIoAjxSEVLtqN+BQB4D4gfzPE2pP63Un/oRpNFj83X7CPbuzcxjH/AhU/iiHyvEl8yptVrhzgdjmt/4a6R9q1eTUZVylqMR5/vn/AAH86BHqoFLilAJFBU0DPNvizB/yDbnPQvH/ACNeeE/KK9Y+Jtk914dWVEZmtpg5wOikEH+YrycAtgAcmgD2j4eKB4MssHOS5+nzmuoANcd8MvMXw3JE+dsdwwX8QCf1rswtAhtHNP20baQxuKTFSbaMUwI8UU8riigAFOxS4FKFFMBu2lx7Uu33owfWkAmBTGXIxUhB9aMGmB5L8RdHu01sXUNm7QSoDvjQkbhwc4/Ct74a2N1a6PObi3eIPNlPMXaWGBk/Su62Zo2+tAhgB9KXB9KkAFBU9sUhlC/tmuLOaNVBZkIUHpnHFeLweE9de+W3GlXCSFsFinyL756Yr3Uqe4pQoPbFAinpthDp1jDaRKAsSBeBjJ7n8auAUoAFLn2oATFGPalowfWgYmBRj2pcH1p2D60ANwKKUhqKYDBS0UUgFFOoooAbRRRQAdqSiigApe1FFACrTWoooAd2oNFFACjpSUUUAOooooAbRRRTA//Z\" style=\"max-width:none\">\n",
       "        <br>\n",
       "        <small>Index: 44</small><br>\n",
       "        <small>Distance: 0.6762</small><br>\n",
       "        <small>Hash: 768d7298686171804ee31cdd05dbdbae</small>\n",
       "    </div>\n",
       "    \n",
       "    <div style='text-align: center; border: 1px solid #ddd; padding: 5px;'>\n",
       "        <img src=\"data:image/jpeg;base64,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\" style=\"max-width:none\">\n",
       "        <br>\n",
       "        <small>Index: 45</small><br>\n",
       "        <small>Distance: 0.6783</small><br>\n",
       "        <small>Hash: 7127d378b9fd015cc446320cae2589dc</small>\n",
       "    </div>\n",
       "    \n",
       "    <div style='text-align: center; border: 1px solid #ddd; padding: 5px;'>\n",
       "        <img src=\"data:image/jpeg;base64,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\" style=\"max-width:none\">\n",
       "        <br>\n",
       "        <small>Index: 46</small><br>\n",
       "        <small>Distance: 0.6831</small><br>\n",
       "        <small>Hash: 2212e94840473483655624aeb02a447c</small>\n",
       "    </div>\n",
       "    \n",
       "    <div style='text-align: center; border: 1px solid #ddd; padding: 5px;'>\n",
       "        <img src=\"data:image/jpeg;base64,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\" style=\"max-width:none\">\n",
       "        <br>\n",
       "        <small>Index: 47</small><br>\n",
       "        <small>Distance: 0.6851</small><br>\n",
       "        <small>Hash: 5bb35de192f06bcaa16769c0296551f8</small>\n",
       "    </div>\n",
       "    \n",
       "    <div style='text-align: center; border: 1px solid #ddd; padding: 5px;'>\n",
       "        <img src=\"data:image/jpeg;base64,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\" style=\"max-width:none\">\n",
       "        <br>\n",
       "        <small>Index: 48</small><br>\n",
       "        <small>Distance: 0.6899</small><br>\n",
       "        <small>Hash: 9b87abfe69a1ece6bd594e1c99744593</small>\n",
       "    </div>\n",
       "    \n",
       "    <div style='text-align: center; border: 1px solid #ddd; padding: 5px;'>\n",
       "        <img src=\"data:image/jpeg;base64,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\" style=\"max-width:none\">\n",
       "        <br>\n",
       "        <small>Index: 49</small><br>\n",
       "        <small>Distance: 0.6907</small><br>\n",
       "        <small>Hash: bcd80dca75d87b26837c5c5e48f8bb3a</small>\n",
       "    </div>\n",
       "    </div>"
      ],
      "text/plain": [
       "<IPython.core.display.HTML object>"
      ]
     },
     "metadata": {},
     "output_type": "display_data"
    }
   ],
   "source": [
    "import plotly.graph_objects as go\n",
    "from IPython.display import display, HTML\n",
    "import base64\n",
    "from io import BytesIO\n",
    "from PIL import Image as PILImage\n",
    "\n",
    "def get_image_html(path, size=(100, 140)):\n",
    "    \"\"\"Create HTML img tag with embedded base64 image\"\"\"\n",
    "    with PILImage.open(path) as img:\n",
    "        img.thumbnail(size)\n",
    "        buffered = BytesIO()\n",
    "        img.save(buffered, format='JPEG', quality=70)\n",
    "        img_b64 = base64.b64encode(buffered.getvalue()).decode()\n",
    "        return f'<img src=\"data:image/jpeg;base64,{img_b64}\" style=\"max-width:none\">'\n",
    "\n",
    "# Extract data for plot\n",
    "indices = list(range(len(results)))\n",
    "distances = [dist for _, dist in results]\n",
    "\n",
    "# Get paths for all images\n",
    "hash_to_path = {data['image_hash']: data['local_path'] for data in image_dataset}\n",
    "paths = [hash_to_path[hash_val] for hash_val, _ in results]\n",
    "\n",
    "# Create scatter plot with simpler hover text\n",
    "fig = go.Figure(data=go.Scatter(\n",
    "    x=indices,\n",
    "    y=distances,\n",
    "    mode='lines+markers',\n",
    "    marker=dict(size=8),\n",
    "    text=[f'Index: {i}<br>Hash: {hash_val}<br>Distance: {dist:.4f}' \n",
    "          for i, (hash_val, dist) in enumerate(results)],\n",
    "    hovertemplate='%{text}<extra></extra>'\n",
    "))\n",
    "\n",
    "fig.update_layout(\n",
    "    title='Image Similarity Plot',\n",
    "    xaxis_title='Index',\n",
    "    yaxis_title='Distance',\n",
    "    width=800,\n",
    "    height=400,\n",
    "    showlegend=False\n",
    ")\n",
    "\n",
    "# Display plot\n",
    "fig.show()\n",
    "\n",
    "# Create grid of thumbnails below the plot\n",
    "html = ['<div style=\"display: flex; flex-wrap: wrap; gap: 10px;\">']\n",
    "\n",
    "for i, ((hash_val, dist), path) in enumerate(zip(results, paths)):\n",
    "    img_html = get_image_html(path, size=(150, 210))\n",
    "    item_html = f\"\"\"\n",
    "    <div style='text-align: center; border: 1px solid #ddd; padding: 5px;'>\n",
    "        {img_html}\n",
    "        <br>\n",
    "        <small>Index: {i}</small><br>\n",
    "        <small>Distance: {dist:.4f}</small><br>\n",
    "        <small>Hash: {hash_val}</small>\n",
    "    </div>\n",
    "    \"\"\"\n",
    "    html.append(item_html)\n",
    "\n",
    "html.append('</div>')\n",
    "display(HTML(''.join(html)))"
   ]
  }
 ],
 "metadata": {
  "kernelspec": {
   "display_name": ".venv",
   "language": "python",
   "name": "python3"
  },
  "language_info": {
   "codemirror_mode": {
    "name": "ipython",
    "version": 3
   },
   "file_extension": ".py",
   "mimetype": "text/x-python",
   "name": "python",
   "nbconvert_exporter": "python",
   "pygments_lexer": "ipython3",
   "version": "3.11.9"
  }
 },
 "nbformat": 4,
 "nbformat_minor": 2
}
