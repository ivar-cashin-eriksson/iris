{
 "cells": [
  {
   "cell_type": "code",
   "execution_count": 1,
   "metadata": {},
   "outputs": [],
   "source": [
    "import os\n",
    "os.environ['KMP_DUPLICATE_LIB_OK']='TRUE'"
   ]
  },
  {
   "cell_type": "code",
   "execution_count": 2,
   "metadata": {},
   "outputs": [],
   "source": [
    "import sys\n",
    "sys.path.append(r'c:\\Users\\ice\\projects\\iris')\n",
    "\n",
    "from PIL import Image  # Rename to avoid conflict\n",
    "from tqdm.notebook import tqdm\n",
    "import torchvision.transforms as T\n",
    "import torch\n",
    "import numpy as np\n",
    "\n",
    "from iris.config.data_pipeline_config_manager import DataPipelineConfigManager\n",
    "from iris.config.embedding_pipeline_config_manager import EmbeddingPipelineConfigManager\n",
    "from iris.data_pipeline.mongodb_manager import MongoDBManager\n",
    "from iris.embedding_pipeline.embedding_handler import EmbeddingHandler\n",
    "from iris.embedding_pipeline.embedding_database import EmbeddingDatabase"
   ]
  },
  {
   "cell_type": "code",
   "execution_count": 3,
   "metadata": {},
   "outputs": [],
   "source": [
    "# Initialize configuration managers\n",
    "data_config = DataPipelineConfigManager()\n",
    "embedding_config = EmbeddingPipelineConfigManager()\n",
    "\n",
    "shop_config = data_config.shop_configs[\"nikolaj_storm\"]  # Select shop\n",
    "mongodb_config = data_config.mongodb_config\n",
    "\n",
    "# Create MongoDB manager\n",
    "mongodb_manager = MongoDBManager(shop_config, mongodb_config)\n",
    "\n",
    "# Initialize the EmbeddingHandler and Database\n",
    "embedding_handler = EmbeddingHandler(embedding_config.clip_config)\n",
    "embedding_db = EmbeddingDatabase(embedding_config.database_config)"
   ]
  },
  {
   "cell_type": "code",
   "execution_count": 4,
   "metadata": {},
   "outputs": [],
   "source": [
    "def get_augmented_embedding(img, embedding_handler, num_augmentations=5):\n",
    "    # Define augmentations\n",
    "    augmentation = T.Compose([\n",
    "        T.RandomAffine(\n",
    "            degrees=30,\n",
    "            translate=(0.1, 0.1),\n",
    "            scale=(0.8, 1.2),\n",
    "            shear=15\n",
    "        ),\n",
    "        T.RandomHorizontalFlip(p=0.5),\n",
    "    ])\n",
    "    \n",
    "    # Convert PIL image to tensor for transformations\n",
    "    to_tensor = T.ToTensor()\n",
    "    to_pil = T.ToPILImage()\n",
    "    img_tensor = to_tensor(img)\n",
    "    \n",
    "    # Get embeddings for original and augmented versions\n",
    "    embeddings = []\n",
    "    \n",
    "    # Get original image embedding and convert to tensor\n",
    "    orig_embedding = embedding_handler.get_embedding(img)\n",
    "    embeddings.append(torch.from_numpy(orig_embedding))\n",
    "    \n",
    "    # Get augmented versions\n",
    "    for _ in range(num_augmentations):\n",
    "        # Apply augmentation\n",
    "        aug_tensor = augmentation(img_tensor)\n",
    "        aug_image = to_pil(aug_tensor)\n",
    "        \n",
    "        # Get embedding and convert to tensor\n",
    "        aug_embedding = embedding_handler.get_embedding(aug_image)\n",
    "        embeddings.append(torch.from_numpy(aug_embedding))\n",
    "    \n",
    "    # Stack and average all embeddings\n",
    "    stacked = torch.stack(embeddings)\n",
    "    return stacked.mean(dim=0)"
   ]
  },
  {
   "cell_type": "code",
   "execution_count": 5,
   "metadata": {},
   "outputs": [
    {
     "data": {
      "application/vnd.jupyter.widget-view+json": {
       "model_id": "e9ae3a259ea0457abffc03613a8e1bd6",
       "version_major": 2,
       "version_minor": 0
      },
      "text/plain": [
       "Processing images:   0%|          | 0/366 [00:00<?, ?it/s]"
      ]
     },
     "metadata": {},
     "output_type": "display_data"
    }
   ],
   "source": [
    "# Convert cursor to list since it can only be iterated once\n",
    "image_dataset = list(mongodb_manager.get_collection(\n",
    "    mongodb_manager.mongodb_config.image_metadata_collection\n",
    ").find())\n",
    "\n",
    "# Add a progress bar with total count\n",
    "for image_data in tqdm(image_dataset, desc=\"Processing images\", total=len(image_dataset)):\n",
    "    # Process main image\n",
    "    with Image.open(image_data['local_path']).convert(\"RGBA\") as img:\n",
    "        # Use augmented embedding instead of single embedding\n",
    "        embedding = get_augmented_embedding(img, embedding_handler)\n",
    "        embedding_db.add_embedding(embedding, id=image_data['image_hash'])\n",
    "        \n",
    "        # Process masks if they exist\n",
    "        if 'masks' in image_data:\n",
    "            for mask in image_data['masks']:\n",
    "                # Get bounding box from original image\n",
    "                bbox = mask['bbox']  # [x, y, width, height]\n",
    "                bbox_img = img.crop((bbox[0], bbox[1], bbox[0] + bbox[2], bbox[1] + bbox[3]))\n",
    "                \n",
    "                # Use augmented embedding for masks too\n",
    "                mask_embedding = get_augmented_embedding(bbox_img, embedding_handler)\n",
    "                embedding_db.add_embedding(mask_embedding, id=mask['mask_hash'])"
   ]
  },
  {
   "cell_type": "code",
   "execution_count": null,
   "metadata": {},
   "outputs": [
    {
     "name": "stdout",
     "output_type": "stream",
     "text": [
      "Nearest neighbors for query hash a136fea9dff98d72dc7ee953d083817e : [('a136fea9dff98d72dc7ee953d083817e', np.float32(0.0)), ('dd0fb509d5ca6cbe07e5e618168ce63b', np.float32(0.10602966)), ('f8c10820632963cca58a7be014cbee89', np.float32(0.13908593)), ('c527e447118e7b4a7f3bd7d94862fb97', np.float32(0.16673875)), ('58b0a579134b12ed6b528d383f6376e6', np.float32(0.20200166)), ('a61fe441ff6dfcc697d898f6e7f9c325', np.float32(0.22490564)), ('410efb7da7a747cf6d07e6a687e8bdf3', np.float32(0.23164874)), ('ff43b236839467c0fc126bb523236c0b', np.float32(0.23303229)), ('6666956892e36909a91dff331d1778d1', np.float32(0.23945452)), ('a1d147c5e8e014f85ab89f7fbb1f9f46', np.float32(0.24417458)), ('eef17deb177de24107cb4a1078ebc4e2', np.float32(0.24478579)), ('d3d92db074a038bd1ab01896222b6fef', np.float32(0.249169)), ('5e839e9ba9f4245af0b98617301af101', np.float32(0.24974838)), ('ef4db136b95827e0a92ea6112afb1cf2', np.float32(0.24992055)), ('04bcc07f149cac3f78fb0db02cbac539', np.float32(0.25473568)), ('8edd928a21a572ed3525ba3a171b626b', np.float32(0.2548703)), ('a8f26e74c4a660659f4dffbac78a1231', np.float32(0.25624)), ('f30e4a663e52e7861f176ac9b1124f1b', np.float32(0.256769)), ('4f88206fd69f3a182eaf43c138d1d89f', np.float32(0.257089)), ('905d6d17bb29657ac4486ed1e9d8d056', np.float32(0.26078552)), ('a251e95b40ae7c17085b908a98ffcbb9', np.float32(0.26470825)), ('d749cc1d6b2fe588f18acacd5106246d', np.float32(0.2670736)), ('495d406bec0da3fa88d6c572d51e76f0', np.float32(0.26905864)), ('47a443dd5c7d6a6a5bbd9c7c98e1ff7c', np.float32(0.2714332)), ('c0b85a444c7ba00d5a1ad0b21df83e0f', np.float32(0.27151775)), ('86012f76dc337c35cd1ece9718676001', np.float32(0.27486056)), ('a23a163639091a09f981ddab860bc662', np.float32(0.2766081)), ('9acaae3f985bd4c3adedad04f2503a3b', np.float32(0.27740914)), ('16c4d52cb5e9c91c1113106fdb15e78b', np.float32(0.28099135)), ('c7bc45d144c1a402be5941fabdcb3e8f', np.float32(0.28485972)), ('4377af0a1156006bd6b977484bd72ae5', np.float32(0.28691465)), ('4f6c88d8181bca59445010efea459707', np.float32(0.2902792)), ('770d70fa5f6a2a33d379a3d67db376d8', np.float32(0.29470307)), ('57674e993b8d4e0eb6aac9e1e07ce332', np.float32(0.29505837)), ('929f6b4a5b568c407bdbe16d3854d5fb', np.float32(0.29544482)), ('682701edab87aefd2c4cb934821f36f8', np.float32(0.29650936)), ('b1f86cae559e8368b6c65a13c58297e1', np.float32(0.29658464)), ('994dba056e91aa6f1f1b80ddfe236b08', np.float32(0.2977711)), ('08b1dcd31baf3e12b193a6b3934257c5', np.float32(0.29892868)), ('613b35e69c4647f6354d8a763b51a249', np.float32(0.29928893)), ('e784be862f741b105749bbc46fab2173', np.float32(0.29960302)), ('5c39ba5d3b2da8d9b2f73446c1a7ce7d', np.float32(0.30148584)), ('abc875443fab59e7054ea3aa372460bd', np.float32(0.30301374)), ('ae333b7e321ca8f8718f1644c89f03d0', np.float32(0.30330718)), ('cac789ce349f0fdd707cb554e7b2fd4b', np.float32(0.3033551)), ('df0c1515932d873a923766ad243cab80', np.float32(0.30356482)), ('2269cd4e5b334ef217d7aa7dfd776f5b', np.float32(0.30398685)), ('a24d876ed8b77986cbbedf18a3ef6ded', np.float32(0.30750227)), ('4f94967a3099adf47d435b275186d5f4', np.float32(0.30946362)), ('7f7508f2f00872769bf483477113c5a0', np.float32(0.31253672))]\n"
     ]
    }
   ],
   "source": [
    "# Get the query hash's index and embedding\n",
    "query_hash = 'f8c10820632963cca58a7be014cbee89'\n",
    "\n",
    "# Find index of the query hash in the database\n",
    "hash_index = embedding_db.ids.index(query_hash)\n",
    "query_embedding = embedding_db.embeddings[hash_index]\n",
    "\n",
    "# Search for nearest neighbors\n",
    "results = embedding_db.search(query_embedding, k=50)\n",
    "print(\"Nearest neighbors for query hash\", query_hash, \":\", results)"
   ]
  },
  {
   "cell_type": "code",
   "execution_count": 31,
   "metadata": {},
   "outputs": [],
   "source": [
    "import plotly.graph_objects as go\n",
    "from IPython.display import display, HTML\n",
    "import base64\n",
    "from io import BytesIO\n",
    "\n",
    "def get_hash_source(hash_val):\n",
    "    \"\"\"Get source data for a hash (either image path or mask data)\"\"\"\n",
    "    # First check if it's a regular image hash\n",
    "    for data in image_dataset:\n",
    "        if data['image_hash'] == hash_val:\n",
    "            return {'type': 'image', 'path': data['local_path']}\n",
    "        # Then check if it's a mask hash\n",
    "        if 'masks' in data:\n",
    "            for mask in data['masks']:\n",
    "                if mask['mask_hash'] == hash_val:\n",
    "                    return {'type': 'mask', 'mask_data': mask, 'parent_image': data}\n",
    "    return None\n",
    "\n",
    "def get_image_html(source, size=(100, 140)):\n",
    "    \"\"\"Create HTML img tag for either an image path or mask data\"\"\"\n",
    "    if source['type'] == 'image':\n",
    "        with Image.open(source['path']) as img:\n",
    "            img.thumbnail(size)\n",
    "            buffered = BytesIO()\n",
    "            img.save(buffered, format='JPEG', quality=70)\n",
    "            img_b64 = base64.b64encode(buffered.getvalue()).decode()\n",
    "            return f'<img src=\"data:image/jpeg;base64,{img_b64}\" style=\"max-width:none\">'\n",
    "    else:  # mask\n",
    "        mask_data = source['mask_data']\n",
    "        parent_data = source['parent_image']\n",
    "        \n",
    "        # Get bounding box from original image\n",
    "        with Image.open(parent_data['local_path']) as img:\n",
    "            bbox = mask_data['bbox']  # [x, y, width, height]\n",
    "            bbox_img = img.crop((bbox[0], bbox[1], bbox[0] + bbox[2], bbox[1] + bbox[3]))\n",
    "            bbox_img.thumbnail(size)\n",
    "            \n",
    "            buffered = BytesIO()\n",
    "            bbox_img.save(buffered, format='JPEG', quality=70)\n",
    "            img_b64 = base64.b64encode(buffered.getvalue()).decode()\n",
    "            return f'<img src=\"data:image/jpeg;base64,{img_b64}\" style=\"max-width:none\">'"
   ]
  },
  {
   "cell_type": "code",
   "execution_count": 32,
   "metadata": {},
   "outputs": [
    {
     "data": {
      "application/vnd.plotly.v1+json": {
       "config": {
        "plotlyServerURL": "https://plot.ly"
       },
       "data": [
        {
         "hovertemplate": "%{text}<extra></extra>",
         "marker": {
          "size": 8
         },
         "mode": "lines+markers",
         "text": [
          "Index: 0<br>Hash: a136fea9dff98d72dc7ee953d083817e<br>Distance: 0.0000",
          "Index: 1<br>Hash: dd0fb509d5ca6cbe07e5e618168ce63b<br>Distance: 0.1060",
          "Index: 2<br>Hash: f8c10820632963cca58a7be014cbee89<br>Distance: 0.1391",
          "Index: 3<br>Hash: c527e447118e7b4a7f3bd7d94862fb97<br>Distance: 0.1667",
          "Index: 4<br>Hash: 58b0a579134b12ed6b528d383f6376e6<br>Distance: 0.2020",
          "Index: 5<br>Hash: a61fe441ff6dfcc697d898f6e7f9c325<br>Distance: 0.2249",
          "Index: 6<br>Hash: 410efb7da7a747cf6d07e6a687e8bdf3<br>Distance: 0.2316",
          "Index: 7<br>Hash: ff43b236839467c0fc126bb523236c0b<br>Distance: 0.2330",
          "Index: 8<br>Hash: 6666956892e36909a91dff331d1778d1<br>Distance: 0.2395",
          "Index: 9<br>Hash: a1d147c5e8e014f85ab89f7fbb1f9f46<br>Distance: 0.2442",
          "Index: 10<br>Hash: eef17deb177de24107cb4a1078ebc4e2<br>Distance: 0.2448",
          "Index: 11<br>Hash: d3d92db074a038bd1ab01896222b6fef<br>Distance: 0.2492",
          "Index: 12<br>Hash: 5e839e9ba9f4245af0b98617301af101<br>Distance: 0.2497",
          "Index: 13<br>Hash: ef4db136b95827e0a92ea6112afb1cf2<br>Distance: 0.2499",
          "Index: 14<br>Hash: 04bcc07f149cac3f78fb0db02cbac539<br>Distance: 0.2547",
          "Index: 15<br>Hash: 8edd928a21a572ed3525ba3a171b626b<br>Distance: 0.2549",
          "Index: 16<br>Hash: a8f26e74c4a660659f4dffbac78a1231<br>Distance: 0.2562",
          "Index: 17<br>Hash: f30e4a663e52e7861f176ac9b1124f1b<br>Distance: 0.2568",
          "Index: 18<br>Hash: 4f88206fd69f3a182eaf43c138d1d89f<br>Distance: 0.2571",
          "Index: 19<br>Hash: 905d6d17bb29657ac4486ed1e9d8d056<br>Distance: 0.2608",
          "Index: 20<br>Hash: a251e95b40ae7c17085b908a98ffcbb9<br>Distance: 0.2647",
          "Index: 21<br>Hash: d749cc1d6b2fe588f18acacd5106246d<br>Distance: 0.2671",
          "Index: 22<br>Hash: 495d406bec0da3fa88d6c572d51e76f0<br>Distance: 0.2691",
          "Index: 23<br>Hash: 47a443dd5c7d6a6a5bbd9c7c98e1ff7c<br>Distance: 0.2714",
          "Index: 24<br>Hash: c0b85a444c7ba00d5a1ad0b21df83e0f<br>Distance: 0.2715",
          "Index: 25<br>Hash: 86012f76dc337c35cd1ece9718676001<br>Distance: 0.2749",
          "Index: 26<br>Hash: a23a163639091a09f981ddab860bc662<br>Distance: 0.2766",
          "Index: 27<br>Hash: 9acaae3f985bd4c3adedad04f2503a3b<br>Distance: 0.2774",
          "Index: 28<br>Hash: 16c4d52cb5e9c91c1113106fdb15e78b<br>Distance: 0.2810",
          "Index: 29<br>Hash: c7bc45d144c1a402be5941fabdcb3e8f<br>Distance: 0.2849",
          "Index: 30<br>Hash: 4377af0a1156006bd6b977484bd72ae5<br>Distance: 0.2869",
          "Index: 31<br>Hash: 4f6c88d8181bca59445010efea459707<br>Distance: 0.2903",
          "Index: 32<br>Hash: 770d70fa5f6a2a33d379a3d67db376d8<br>Distance: 0.2947",
          "Index: 33<br>Hash: 57674e993b8d4e0eb6aac9e1e07ce332<br>Distance: 0.2951",
          "Index: 34<br>Hash: 929f6b4a5b568c407bdbe16d3854d5fb<br>Distance: 0.2954",
          "Index: 35<br>Hash: 682701edab87aefd2c4cb934821f36f8<br>Distance: 0.2965",
          "Index: 36<br>Hash: b1f86cae559e8368b6c65a13c58297e1<br>Distance: 0.2966",
          "Index: 37<br>Hash: 994dba056e91aa6f1f1b80ddfe236b08<br>Distance: 0.2978",
          "Index: 38<br>Hash: 08b1dcd31baf3e12b193a6b3934257c5<br>Distance: 0.2989",
          "Index: 39<br>Hash: 613b35e69c4647f6354d8a763b51a249<br>Distance: 0.2993",
          "Index: 40<br>Hash: e784be862f741b105749bbc46fab2173<br>Distance: 0.2996",
          "Index: 41<br>Hash: 5c39ba5d3b2da8d9b2f73446c1a7ce7d<br>Distance: 0.3015",
          "Index: 42<br>Hash: abc875443fab59e7054ea3aa372460bd<br>Distance: 0.3030",
          "Index: 43<br>Hash: ae333b7e321ca8f8718f1644c89f03d0<br>Distance: 0.3033",
          "Index: 44<br>Hash: cac789ce349f0fdd707cb554e7b2fd4b<br>Distance: 0.3034",
          "Index: 45<br>Hash: df0c1515932d873a923766ad243cab80<br>Distance: 0.3036",
          "Index: 46<br>Hash: 2269cd4e5b334ef217d7aa7dfd776f5b<br>Distance: 0.3040",
          "Index: 47<br>Hash: a24d876ed8b77986cbbedf18a3ef6ded<br>Distance: 0.3075",
          "Index: 48<br>Hash: 4f94967a3099adf47d435b275186d5f4<br>Distance: 0.3095",
          "Index: 49<br>Hash: 7f7508f2f00872769bf483477113c5a0<br>Distance: 0.3125"
         ],
         "type": "scatter",
         "x": [
          0,
          1,
          2,
          3,
          4,
          5,
          6,
          7,
          8,
          9,
          10,
          11,
          12,
          13,
          14,
          15,
          16,
          17,
          18,
          19,
          20,
          21,
          22,
          23,
          24,
          25,
          26,
          27,
          28,
          29,
          30,
          31,
          32,
          33,
          34,
          35,
          36,
          37,
          38,
          39,
          40,
          41,
          42,
          43,
          44,
          45,
          46,
          47,
          48,
          49
         ],
         "y": [
          0,
          0.10602965950965881,
          0.13908593356609344,
          0.16673874855041504,
          0.2020016610622406,
          0.22490563988685608,
          0.2316487431526184,
          0.23303228616714478,
          0.23945452272891998,
          0.24417458474636078,
          0.24478578567504883,
          0.2491690069437027,
          0.2497483789920807,
          0.2499205470085144,
          0.25473567843437195,
          0.25487029552459717,
          0.25624001026153564,
          0.25676900148391724,
          0.2570889890193939,
          0.2607855200767517,
          0.2647082507610321,
          0.2670736014842987,
          0.2690586447715759,
          0.2714332044124603,
          0.2715177536010742,
          0.27486056089401245,
          0.27660810947418213,
          0.2774091362953186,
          0.2809913456439972,
          0.28485971689224243,
          0.2869146466255188,
          0.29027920961380005,
          0.29470306634902954,
          0.29505836963653564,
          0.2954448163509369,
          0.29650935530662537,
          0.2965846359729767,
          0.2977710962295532,
          0.2989286780357361,
          0.29928892850875854,
          0.29960301518440247,
          0.3014858365058899,
          0.30301374197006226,
          0.3033071756362915,
          0.3033550977706909,
          0.30356481671333313,
          0.3039868474006653,
          0.30750226974487305,
          0.30946362018585205,
          0.31253671646118164
         ]
        }
       ],
       "layout": {
        "height": 400,
        "showlegend": false,
        "template": {
         "data": {
          "bar": [
           {
            "error_x": {
             "color": "#2a3f5f"
            },
            "error_y": {
             "color": "#2a3f5f"
            },
            "marker": {
             "line": {
              "color": "#E5ECF6",
              "width": 0.5
             },
             "pattern": {
              "fillmode": "overlay",
              "size": 10,
              "solidity": 0.2
             }
            },
            "type": "bar"
           }
          ],
          "barpolar": [
           {
            "marker": {
             "line": {
              "color": "#E5ECF6",
              "width": 0.5
             },
             "pattern": {
              "fillmode": "overlay",
              "size": 10,
              "solidity": 0.2
             }
            },
            "type": "barpolar"
           }
          ],
          "carpet": [
           {
            "aaxis": {
             "endlinecolor": "#2a3f5f",
             "gridcolor": "white",
             "linecolor": "white",
             "minorgridcolor": "white",
             "startlinecolor": "#2a3f5f"
            },
            "baxis": {
             "endlinecolor": "#2a3f5f",
             "gridcolor": "white",
             "linecolor": "white",
             "minorgridcolor": "white",
             "startlinecolor": "#2a3f5f"
            },
            "type": "carpet"
           }
          ],
          "choropleth": [
           {
            "colorbar": {
             "outlinewidth": 0,
             "ticks": ""
            },
            "type": "choropleth"
           }
          ],
          "contour": [
           {
            "colorbar": {
             "outlinewidth": 0,
             "ticks": ""
            },
            "colorscale": [
             [
              0,
              "#0d0887"
             ],
             [
              0.1111111111111111,
              "#46039f"
             ],
             [
              0.2222222222222222,
              "#7201a8"
             ],
             [
              0.3333333333333333,
              "#9c179e"
             ],
             [
              0.4444444444444444,
              "#bd3786"
             ],
             [
              0.5555555555555556,
              "#d8576b"
             ],
             [
              0.6666666666666666,
              "#ed7953"
             ],
             [
              0.7777777777777778,
              "#fb9f3a"
             ],
             [
              0.8888888888888888,
              "#fdca26"
             ],
             [
              1,
              "#f0f921"
             ]
            ],
            "type": "contour"
           }
          ],
          "contourcarpet": [
           {
            "colorbar": {
             "outlinewidth": 0,
             "ticks": ""
            },
            "type": "contourcarpet"
           }
          ],
          "heatmap": [
           {
            "colorbar": {
             "outlinewidth": 0,
             "ticks": ""
            },
            "colorscale": [
             [
              0,
              "#0d0887"
             ],
             [
              0.1111111111111111,
              "#46039f"
             ],
             [
              0.2222222222222222,
              "#7201a8"
             ],
             [
              0.3333333333333333,
              "#9c179e"
             ],
             [
              0.4444444444444444,
              "#bd3786"
             ],
             [
              0.5555555555555556,
              "#d8576b"
             ],
             [
              0.6666666666666666,
              "#ed7953"
             ],
             [
              0.7777777777777778,
              "#fb9f3a"
             ],
             [
              0.8888888888888888,
              "#fdca26"
             ],
             [
              1,
              "#f0f921"
             ]
            ],
            "type": "heatmap"
           }
          ],
          "histogram": [
           {
            "marker": {
             "pattern": {
              "fillmode": "overlay",
              "size": 10,
              "solidity": 0.2
             }
            },
            "type": "histogram"
           }
          ],
          "histogram2d": [
           {
            "colorbar": {
             "outlinewidth": 0,
             "ticks": ""
            },
            "colorscale": [
             [
              0,
              "#0d0887"
             ],
             [
              0.1111111111111111,
              "#46039f"
             ],
             [
              0.2222222222222222,
              "#7201a8"
             ],
             [
              0.3333333333333333,
              "#9c179e"
             ],
             [
              0.4444444444444444,
              "#bd3786"
             ],
             [
              0.5555555555555556,
              "#d8576b"
             ],
             [
              0.6666666666666666,
              "#ed7953"
             ],
             [
              0.7777777777777778,
              "#fb9f3a"
             ],
             [
              0.8888888888888888,
              "#fdca26"
             ],
             [
              1,
              "#f0f921"
             ]
            ],
            "type": "histogram2d"
           }
          ],
          "histogram2dcontour": [
           {
            "colorbar": {
             "outlinewidth": 0,
             "ticks": ""
            },
            "colorscale": [
             [
              0,
              "#0d0887"
             ],
             [
              0.1111111111111111,
              "#46039f"
             ],
             [
              0.2222222222222222,
              "#7201a8"
             ],
             [
              0.3333333333333333,
              "#9c179e"
             ],
             [
              0.4444444444444444,
              "#bd3786"
             ],
             [
              0.5555555555555556,
              "#d8576b"
             ],
             [
              0.6666666666666666,
              "#ed7953"
             ],
             [
              0.7777777777777778,
              "#fb9f3a"
             ],
             [
              0.8888888888888888,
              "#fdca26"
             ],
             [
              1,
              "#f0f921"
             ]
            ],
            "type": "histogram2dcontour"
           }
          ],
          "mesh3d": [
           {
            "colorbar": {
             "outlinewidth": 0,
             "ticks": ""
            },
            "type": "mesh3d"
           }
          ],
          "parcoords": [
           {
            "line": {
             "colorbar": {
              "outlinewidth": 0,
              "ticks": ""
             }
            },
            "type": "parcoords"
           }
          ],
          "pie": [
           {
            "automargin": true,
            "type": "pie"
           }
          ],
          "scatter": [
           {
            "fillpattern": {
             "fillmode": "overlay",
             "size": 10,
             "solidity": 0.2
            },
            "type": "scatter"
           }
          ],
          "scatter3d": [
           {
            "line": {
             "colorbar": {
              "outlinewidth": 0,
              "ticks": ""
             }
            },
            "marker": {
             "colorbar": {
              "outlinewidth": 0,
              "ticks": ""
             }
            },
            "type": "scatter3d"
           }
          ],
          "scattercarpet": [
           {
            "marker": {
             "colorbar": {
              "outlinewidth": 0,
              "ticks": ""
             }
            },
            "type": "scattercarpet"
           }
          ],
          "scattergeo": [
           {
            "marker": {
             "colorbar": {
              "outlinewidth": 0,
              "ticks": ""
             }
            },
            "type": "scattergeo"
           }
          ],
          "scattergl": [
           {
            "marker": {
             "colorbar": {
              "outlinewidth": 0,
              "ticks": ""
             }
            },
            "type": "scattergl"
           }
          ],
          "scattermap": [
           {
            "marker": {
             "colorbar": {
              "outlinewidth": 0,
              "ticks": ""
             }
            },
            "type": "scattermap"
           }
          ],
          "scattermapbox": [
           {
            "marker": {
             "colorbar": {
              "outlinewidth": 0,
              "ticks": ""
             }
            },
            "type": "scattermapbox"
           }
          ],
          "scatterpolar": [
           {
            "marker": {
             "colorbar": {
              "outlinewidth": 0,
              "ticks": ""
             }
            },
            "type": "scatterpolar"
           }
          ],
          "scatterpolargl": [
           {
            "marker": {
             "colorbar": {
              "outlinewidth": 0,
              "ticks": ""
             }
            },
            "type": "scatterpolargl"
           }
          ],
          "scatterternary": [
           {
            "marker": {
             "colorbar": {
              "outlinewidth": 0,
              "ticks": ""
             }
            },
            "type": "scatterternary"
           }
          ],
          "surface": [
           {
            "colorbar": {
             "outlinewidth": 0,
             "ticks": ""
            },
            "colorscale": [
             [
              0,
              "#0d0887"
             ],
             [
              0.1111111111111111,
              "#46039f"
             ],
             [
              0.2222222222222222,
              "#7201a8"
             ],
             [
              0.3333333333333333,
              "#9c179e"
             ],
             [
              0.4444444444444444,
              "#bd3786"
             ],
             [
              0.5555555555555556,
              "#d8576b"
             ],
             [
              0.6666666666666666,
              "#ed7953"
             ],
             [
              0.7777777777777778,
              "#fb9f3a"
             ],
             [
              0.8888888888888888,
              "#fdca26"
             ],
             [
              1,
              "#f0f921"
             ]
            ],
            "type": "surface"
           }
          ],
          "table": [
           {
            "cells": {
             "fill": {
              "color": "#EBF0F8"
             },
             "line": {
              "color": "white"
             }
            },
            "header": {
             "fill": {
              "color": "#C8D4E3"
             },
             "line": {
              "color": "white"
             }
            },
            "type": "table"
           }
          ]
         },
         "layout": {
          "annotationdefaults": {
           "arrowcolor": "#2a3f5f",
           "arrowhead": 0,
           "arrowwidth": 1
          },
          "autotypenumbers": "strict",
          "coloraxis": {
           "colorbar": {
            "outlinewidth": 0,
            "ticks": ""
           }
          },
          "colorscale": {
           "diverging": [
            [
             0,
             "#8e0152"
            ],
            [
             0.1,
             "#c51b7d"
            ],
            [
             0.2,
             "#de77ae"
            ],
            [
             0.3,
             "#f1b6da"
            ],
            [
             0.4,
             "#fde0ef"
            ],
            [
             0.5,
             "#f7f7f7"
            ],
            [
             0.6,
             "#e6f5d0"
            ],
            [
             0.7,
             "#b8e186"
            ],
            [
             0.8,
             "#7fbc41"
            ],
            [
             0.9,
             "#4d9221"
            ],
            [
             1,
             "#276419"
            ]
           ],
           "sequential": [
            [
             0,
             "#0d0887"
            ],
            [
             0.1111111111111111,
             "#46039f"
            ],
            [
             0.2222222222222222,
             "#7201a8"
            ],
            [
             0.3333333333333333,
             "#9c179e"
            ],
            [
             0.4444444444444444,
             "#bd3786"
            ],
            [
             0.5555555555555556,
             "#d8576b"
            ],
            [
             0.6666666666666666,
             "#ed7953"
            ],
            [
             0.7777777777777778,
             "#fb9f3a"
            ],
            [
             0.8888888888888888,
             "#fdca26"
            ],
            [
             1,
             "#f0f921"
            ]
           ],
           "sequentialminus": [
            [
             0,
             "#0d0887"
            ],
            [
             0.1111111111111111,
             "#46039f"
            ],
            [
             0.2222222222222222,
             "#7201a8"
            ],
            [
             0.3333333333333333,
             "#9c179e"
            ],
            [
             0.4444444444444444,
             "#bd3786"
            ],
            [
             0.5555555555555556,
             "#d8576b"
            ],
            [
             0.6666666666666666,
             "#ed7953"
            ],
            [
             0.7777777777777778,
             "#fb9f3a"
            ],
            [
             0.8888888888888888,
             "#fdca26"
            ],
            [
             1,
             "#f0f921"
            ]
           ]
          },
          "colorway": [
           "#636efa",
           "#EF553B",
           "#00cc96",
           "#ab63fa",
           "#FFA15A",
           "#19d3f3",
           "#FF6692",
           "#B6E880",
           "#FF97FF",
           "#FECB52"
          ],
          "font": {
           "color": "#2a3f5f"
          },
          "geo": {
           "bgcolor": "white",
           "lakecolor": "white",
           "landcolor": "#E5ECF6",
           "showlakes": true,
           "showland": true,
           "subunitcolor": "white"
          },
          "hoverlabel": {
           "align": "left"
          },
          "hovermode": "closest",
          "mapbox": {
           "style": "light"
          },
          "paper_bgcolor": "white",
          "plot_bgcolor": "#E5ECF6",
          "polar": {
           "angularaxis": {
            "gridcolor": "white",
            "linecolor": "white",
            "ticks": ""
           },
           "bgcolor": "#E5ECF6",
           "radialaxis": {
            "gridcolor": "white",
            "linecolor": "white",
            "ticks": ""
           }
          },
          "scene": {
           "xaxis": {
            "backgroundcolor": "#E5ECF6",
            "gridcolor": "white",
            "gridwidth": 2,
            "linecolor": "white",
            "showbackground": true,
            "ticks": "",
            "zerolinecolor": "white"
           },
           "yaxis": {
            "backgroundcolor": "#E5ECF6",
            "gridcolor": "white",
            "gridwidth": 2,
            "linecolor": "white",
            "showbackground": true,
            "ticks": "",
            "zerolinecolor": "white"
           },
           "zaxis": {
            "backgroundcolor": "#E5ECF6",
            "gridcolor": "white",
            "gridwidth": 2,
            "linecolor": "white",
            "showbackground": true,
            "ticks": "",
            "zerolinecolor": "white"
           }
          },
          "shapedefaults": {
           "line": {
            "color": "#2a3f5f"
           }
          },
          "ternary": {
           "aaxis": {
            "gridcolor": "white",
            "linecolor": "white",
            "ticks": ""
           },
           "baxis": {
            "gridcolor": "white",
            "linecolor": "white",
            "ticks": ""
           },
           "bgcolor": "#E5ECF6",
           "caxis": {
            "gridcolor": "white",
            "linecolor": "white",
            "ticks": ""
           }
          },
          "title": {
           "x": 0.05
          },
          "xaxis": {
           "automargin": true,
           "gridcolor": "white",
           "linecolor": "white",
           "ticks": "",
           "title": {
            "standoff": 15
           },
           "zerolinecolor": "white",
           "zerolinewidth": 2
          },
          "yaxis": {
           "automargin": true,
           "gridcolor": "white",
           "linecolor": "white",
           "ticks": "",
           "title": {
            "standoff": 15
           },
           "zerolinecolor": "white",
           "zerolinewidth": 2
          }
         }
        },
        "title": {
         "text": "Image Similarity Plot"
        },
        "width": 800,
        "xaxis": {
         "title": {
          "text": "Index"
         }
        },
        "yaxis": {
         "title": {
          "text": "Distance"
         }
        }
       }
      }
     },
     "metadata": {},
     "output_type": "display_data"
    },
    {
     "data": {
      "text/html": [
       "<div style=\"display: flex; flex-wrap: wrap; gap: 10px;\">\n",
       "    <div style='text-align: center; border: 1px solid #ddd; padding: 5px;'>\n",
       "        <img src=\"data:image/jpeg;base64,/9j/4AAQSkZJRgABAQAAAQABAAD/2wBDAAoHBwgHBgoICAgLCgoLDhgQDg0NDh0VFhEYIx8lJCIfIiEmKzcvJik0KSEiMEExNDk7Pj4+JS5ESUM8SDc9Pjv/2wBDAQoLCw4NDhwQEBw7KCIoOzs7Ozs7Ozs7Ozs7Ozs7Ozs7Ozs7Ozs7Ozs7Ozs7Ozs7Ozs7Ozs7Ozs7Ozs7Ozs7Ozv/wAARCAC1AFsDASIAAhEBAxEB/8QAHwAAAQUBAQEBAQEAAAAAAAAAAAECAwQFBgcICQoL/8QAtRAAAgEDAwIEAwUFBAQAAAF9AQIDAAQRBRIhMUEGE1FhByJxFDKBkaEII0KxwRVS0fAkM2JyggkKFhcYGRolJicoKSo0NTY3ODk6Q0RFRkdISUpTVFVWV1hZWmNkZWZnaGlqc3R1dnd4eXqDhIWGh4iJipKTlJWWl5iZmqKjpKWmp6ipqrKztLW2t7i5usLDxMXGx8jJytLT1NXW19jZ2uHi4+Tl5ufo6erx8vP09fb3+Pn6/8QAHwEAAwEBAQEBAQEBAQAAAAAAAAECAwQFBgcICQoL/8QAtREAAgECBAQDBAcFBAQAAQJ3AAECAxEEBSExBhJBUQdhcRMiMoEIFEKRobHBCSMzUvAVYnLRChYkNOEl8RcYGRomJygpKjU2Nzg5OkNERUZHSElKU1RVVldYWVpjZGVmZ2hpanN0dXZ3eHl6goOEhYaHiImKkpOUlZaXmJmaoqOkpaanqKmqsrO0tba3uLm6wsPExcbHyMnK0tPU1dbX2Nna4uPk5ebn6Onq8vP09fb3+Pn6/9oADAMBAAIRAxEAPwDz+OQoi4LLn0OKUsd5bvnrVV5WNyqbcKGqfPLfWmBJHI2NoYjBzjNOhgkaUeWpZ2wuAMk57D3qBDg5rW0bVP7G1GDUFiWX7OwbYw69qBmxrWkXqaBpd9LbOirGYpGK4xycZ9qwofnj2dAD2r1tdT0zxh4ckihWQ/aWCeWRuaBz0zjoBjOa8uuLWfSryazuYmjkjOCrDmpiwaZW2LEx2DcfWoXc4cN1IzRLdchEIHrVZp0XIZsk+nNMBCeKM8UwMOoVj+FOUseiH8aAuOHSl4qRIJGGTgUxoHDEYNMRWnXbdH65qXGcntUksHm320c7kLD8Fz/So1GVNAEfQ9asREkA5qu3FTwHMX0oA7vw7400/SdEbSxbta3km9ftqpwMj5SSBk81zuv6m2oQ2lsl19rlhDebeMD85JyFGecAfzNUAuY8EDHpSBcuMd6XLrcrm0sVfsirjdlievpTxAiD5VAqyyEHnmkIBFUSRqo3cnNOCAMc0u3insOjUATRY2+9XLe0EsCvtznP86qRD5c10WlxA6dESF/i6/7xpMuEbswdFtPtXiS0jIyGjf8ALaaxl4BHPHFdn4DtftHiWKQjiGFyT9eP61yV0ojv7iMcBZGA/OggqS9amtlzGecVDL1zU0BASgC8F4B9qAMEEdaI8tGOacuOO9MBr570wds05z+VMHLAZoAcBmpAu5MColFWEAAGfxoAkjG1eaiKXDHMcrKvYZ6VMxAHBzU1u7CBQImb3AFJlJ6nSfDQg6vdKR/yw4P/AAIVxGsw+Rrd4mOVndf/AB6u5+GhH9uzr3Nu381rk/GMfk+KtTTp+/LfnQSYMnB6VLFwmcVC/IzU8f3R70AXYeYxTiAOhqO2wyYJqUrzx1pgR54pBwelKRg89aBnHPNADkHc1YC55A4NRRfd5qeM4WgBHP60KzgcMQPrTTjaT37UqltvSkB1Xw4bb4l2kY3wOv5YP9KyviXbCDxc8gHE8St+PT+les6XplhbSeZBZwxuP4lQA9K8++LVkVuLK9A6ho2OOhGCP5mhh6nmzDAxUqHGOKjkA3Z/EVIjcigC3bnAxU4I4IFVYyQTViJsn6UwGP0z3pyj5M0xgW6DtU0Q+QnHSgZIgwoHXNSbsLx29KSJcrjpg0rR/n9aAITy2c04H5R9KXGM8c0gKY4YH3zQI94sjyRWF4805b/w7doVy0a+YnsRzXURwJHyoqrqUAmhZWGVZSpHsRigZ83SdF+lKg55qxqtqbO/mtyOYZWT8qrL70hE4SQhSrYpSLmPoynv0p8B3DFPY447etAEJe5bj5Rg0eZdp0YVctrK8u9xt7aWbZy3loW2/XAqB1KMQylWBwQR39KNAuQ/aLzru/QUiz3brlnbNTAZFNQHZ+NIdyArM3Vj+dSrbgqCTz9aVuK6zRvCsmoaVBd4OJASPoCR/SgGz2uorhN0RqWkI4xVAfP/AI4gEPie+UDH70N+ag1z/auz+J1uIvE7sB/rIUb8uP6Vxo6UgLdrgggdamKcAk9KrWpw9XXICkdqBHVeE/Ftn4f0y4tri1d5Hk3qyfxcdD+VcxqVwb2/nuigQzOWIHbNRsADxQ/3MgYqFTipOS6lOV1Yi24UE0xfu1I3C/hUfQcVTEh9tbPd3MVvEMvKwVR7mvetJ09NP0q2tI0BWGMLn1ryvwBpxvPEUcxXKW6lyffGBXsaQjYuc9PWhCerLFGM0UdaoZ5L8WbXbqFncYPzxsh/DB/rXnIHFeu/Fi336TbTgf6qcZ+hBryI8HHvSAlhOG61eBBjII/Gs+Pg1fiORjHUUCH4G7I6VK+3yhgd6iBHGMnjNEhIj4z7UARy9TjsKi4709iSDznioznIA5NJjR6V8KYw1venb829AT+demBcACuJ+FtuI/DjS8bpJmz7cCu3piG0UgNGaBnKfEW2Nx4WugBkph/yIrw5x8315r6K1+2+16RcwY/1kTL+Yr52mUqcEYIJFADFOMVcgY7Md+2apCrdpy3PagR1/gW+0jT7q4fU2RGZAImdcgcnP07Vm+Jbqzv9YnuLKMJCzDGBjcccnFZZ4HFB+4DnvWap+/z3LurWsRlCykL1JFKEwcDmnJ8oY0sQ53GtST2P4cwmLwpEf78jH9cf0rqqw/BkPkeFbFehMW8/8Cyf61uUhIbRRRTGRXK7oSK+ffFFibDXLy3wQqzEr9DyP5ivoZxlCK8Z+J1t5WuJKBjzIh+JBIpAcN3qe3bbKPeoSPmPFS2wzIKALuTgc9KC3HNPit57hzHBC8rbc4Rcn9KikV422OpVgcEEYIoFckQZjb606GNpJFiXkscCmxHKnFavh23Fx4jso8ZBlX/GmDPbtLgFtp0EI/5ZxhfyFW6ZGMIB7U+kCI6WkooGOryj4tALe2QHUxt/OvVq8o+LxxqtiB/zxP8A6FQxnnLjmp7cbFJ4NQtzj61ajGyEkjrQI63wb4ksdAe7NzBIxmA2yRjkY6isXX9QXVdWuL1IhEJmyq+grNJ+bilLcD2qFBKXMU5aWJIepHqK6fwLF53iy2/2Nzf+O1y8DZccV2Hw3Tf4nVv7sTmtCD18DAopKWkMZRRRSAK8q+Lv/IUsT/0xP86KKBnnR6/jVrOYMUUUyRwwT0pp5NFFAx6HHT0ruPhggOvyt3W3P8xRRQI9XpaKKQz/2Q==\" style=\"max-width:none\">\n",
       "        <br>\n",
       "        <small>Index: 0</small><br>\n",
       "        <small>Distance: 0.0000</small><br>\n",
       "        <small>Hash: a136fea9dff98d72dc7ee953d083817e</small>\n",
       "        <small>(Mask)</small>\n",
       "    </div>\n",
       "    \n",
       "    <div style='text-align: center; border: 1px solid #ddd; padding: 5px;'>\n",
       "        <img src=\"data:image/jpeg;base64,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\" style=\"max-width:none\">\n",
       "        <br>\n",
       "        <small>Index: 1</small><br>\n",
       "        <small>Distance: 0.1060</small><br>\n",
       "        <small>Hash: dd0fb509d5ca6cbe07e5e618168ce63b</small>\n",
       "        <small>(Mask)</small>\n",
       "    </div>\n",
       "    \n",
       "    <div style='text-align: center; border: 1px solid #ddd; padding: 5px;'>\n",
       "        <img src=\"data:image/jpeg;base64,/9j/4AAQSkZJRgABAQAAAQABAAD/2wBDAAoHBwgHBgoICAgLCgoLDhgQDg0NDh0VFhEYIx8lJCIfIiEmKzcvJik0KSEiMEExNDk7Pj4+JS5ESUM8SDc9Pjv/2wBDAQoLCw4NDhwQEBw7KCIoOzs7Ozs7Ozs7Ozs7Ozs7Ozs7Ozs7Ozs7Ozs7Ozs7Ozs7Ozs7Ozs7Ozs7Ozs7Ozs7Ozv/wAARCADSAEgDASIAAhEBAxEB/8QAHwAAAQUBAQEBAQEAAAAAAAAAAAECAwQFBgcICQoL/8QAtRAAAgEDAwIEAwUFBAQAAAF9AQIDAAQRBRIhMUEGE1FhByJxFDKBkaEII0KxwRVS0fAkM2JyggkKFhcYGRolJicoKSo0NTY3ODk6Q0RFRkdISUpTVFVWV1hZWmNkZWZnaGlqc3R1dnd4eXqDhIWGh4iJipKTlJWWl5iZmqKjpKWmp6ipqrKztLW2t7i5usLDxMXGx8jJytLT1NXW19jZ2uHi4+Tl5ufo6erx8vP09fb3+Pn6/8QAHwEAAwEBAQEBAQEBAQAAAAAAAAECAwQFBgcICQoL/8QAtREAAgECBAQDBAcFBAQAAQJ3AAECAxEEBSExBhJBUQdhcRMiMoEIFEKRobHBCSMzUvAVYnLRChYkNOEl8RcYGRomJygpKjU2Nzg5OkNERUZHSElKU1RVVldYWVpjZGVmZ2hpanN0dXZ3eHl6goOEhYaHiImKkpOUlZaXmJmaoqOkpaanqKmqsrO0tba3uLm6wsPExcbHyMnK0tPU1dbX2Nna4uPk5ebn6Onq8vP09fb3+Pn6/9oADAMBAAIRAxEAPwDzkxlTgjB9OlIFweP51o6tM73jwuoX7OzIMDrg1Q3YxQA35uxpFeRHDg8j1qUgZ46U0rnrQBchuUnwOjDqCac+VNZzIAcipFvZEwjjeo/OgCyTSMQTTVmik5Vxn0NO2kgkdqYDTmig8daKANjxnp50/wAS3a4+SVvNX6H/AOvmsEKCK9E+JekzTalbzQRl2KMCB6DmvPRQAmwY6ml2D3paM8UhjNvzECkEYHalUjzGFOPtSAYY1z90Gl2AdCR9DS7u9N3FmwKYj1DwVp1nP4YgkmtYpJC75Z0BPWitn4e6aH8IWryMQXZjj2zRTAo/FSaa0srK4gco/mlSR6Fa8mHXPrXrPxcdRolmh+805I/KvJ8YJApAL2ooHSkJoGNX7+786fVZ3xKBUokBoAftBpVXBoyKtaZGk+o28UhwryqCfQZoBnu3hKA2/hiwiIwRCCfx5orUtI1ito0UYVQAB6CigDiPihp0uoWOnpFjcJmHP0ryORTHIyHGVODivZficjnwx50ZIaKVWBBwQOleMEk8nr60a3AM0vUUw7gcYpA+OCOaAGPGDKDSlCvSptjtghDQ8Mi8nA/HNAESsehqeBykgYHkcimiAHln/IU5UVDkZzQFz6H8P6gmq6HaXiH/AFkY3exHB/WiuR+E+ombTLvTnbJgk3oPZuv60UAbnjmDz/CV8oGcR7vyrwdsDIr6N1W3F1plxAeRIhU/iK8NMejpolzFOrrqUchCdfWhuwJXMZRlR3qJxg0+PKkilIzTESQy5XB7VLKAV4NUwSpq2jBlx3oAiU9c07rSsBmkoA7f4UzsnieaIH5Zbds/gR/jRVb4YE/8JimOnkPn9KKQHsMg3xsD3FeBeKrU2niS9jAwPNLD6Hmvfq8Y+JFv5Pit2A/1sat/T+lMDj3JBz6UsbbqkkjeM7ZEKkjPIqswMT5HSkBO6Z6daEfb1FCuGXtTiB0I4xTAkIDDIpp4FKowBij2oA6n4auV8ZW+P4o3H6UVD8PmKeM7LHcsP/HTRQM9sHNeT/FVTH4gtZQOTB/JjXqwOa8q+K0wfW7SEDJjgyfxP/1qAOKubqW9kVpcfKu0ADgD/JNQyxhkqVUwMmkl4U0kraCvcpKxjOO1WxhlGPSoCueKmQbUAFMB2TxmjNKTk0gxzQB0PgL/AJHKw/32/wDQTRS+Af8Akc7DP95v/QTRQM9qryj4kWNxP4mMsK7gtsrN+Gf8K9WBzXnHxPS6gkhu7dmWORPJlx+Y/rUu/QNOp56G79ajlO8cc05DuG3vUbExnBFMRHuIPSpUcHjpSFVfkHBpoXDYNMCTJzTj05poOAATnFOPGPegDf8AArEeMdOI7yEf+OmipPAcDS+LbEj+Bix+mDRQB7ODWN4h06LUbJoZl3RuMHjkH1rYz1pkiLIhRhwaBnz/AKrptxo+ovbTA/Kflbsw7EVC2JRnNet6/wCHbXUdsd3FuKElHBwfpXlF/azabfSW8sbIVY4DDqM8GgRVbdG1OLq2N3rUnEi9KjMRBHoaAFAXs3HalLbcbiPbFMMLbQQetOSPbgnkigD0H4X6czXs2ouvCrsTPr3orqvAkEC+HLZoCCpX5j/tZ5ooCx0NJmkzSbvagopaxcWtlps13eSCOKJclj1rwvX9dm1y+NzIxVEO2KP0H+NdP8UPExvdQXRbZsw2xzMR/E/p+FcE4Oc0tweiLUcuMVbDbwDWYBtjBJ5z09quWjZiIPQGmImb5RTE+ZuaSRu1IjBaBHpHwp1Vme+0pzwuJowfyP8ASiuR8IakdK8V2k5OEkfy5M/3W4/wopDPat1Z+p63Y6ZbSPcXUSOFJVCwyTjjiuIu9bvZ4WUXx8w9CDgVxl1Cbe5LSzGdtpYknPzfjSu2XZIzrmRri6kndizyuWYnuSaYEOMkVcYWgW3aIO7AZmV+hOe1QSSAuzMpXJ6AcU0QyuynpVy0G2LmqzOmO5p63OFAFAh8r/OaQNSeYhOT3ozGeOaYEkTESK4OSDkGii3CB8ZNFAzpP7Lthg/PtHvWPqiRxXPlxBtuByTW/daRe21s73N2IhkbIg+awWil1K+iji2b2G0RoMAY/qam9hsz921h6Ch1YcryDUt9ZS2V00EylXXqKZCdy7T/AA01rqiSLPHKg0bgP4KnaEEZFL5XHIpgVyw7LUiKx68CpNqqc4pCGb2FACA/wrRUkMZMqpjqcUUAdfNcaOY2kLiVuvzSEn8q5SVpTcGaNipzuBU4IrrLmw024i2KqRMedyrzWLe6RJaKWjcTJ6qOlSrFSve5izvNLIZJWaR26sxyTSRZJP0q0y7eGXFRkLj5Rg1RI0Hjk9qeWwucdqRVAOMd6fKFBwDxQBBgk5qQHjpSAYIzTiOc4oA1PDVqt74isoH+6ZAT+HP9KKueC7O5n8QW00MRKxtl3I4AxRQLQZqrGN12Er8o6cVd0cCRMONw2/xc0UULcb+ExtWAEwGBjdUEqKFXCjp6UUUMlFf+KlI4P1oooLQ8qvlg7RnPXFWLVVN3EpUEFhkY60UVS3I6HrmiQxRWiiONE4H3VAooopS3CGx//9k=\" style=\"max-width:none\">\n",
       "        <br>\n",
       "        <small>Index: 2</small><br>\n",
       "        <small>Distance: 0.1391</small><br>\n",
       "        <small>Hash: f8c10820632963cca58a7be014cbee89</small>\n",
       "        <small>(Mask)</small>\n",
       "    </div>\n",
       "    \n",
       "    <div style='text-align: center; border: 1px solid #ddd; padding: 5px;'>\n",
       "        <img src=\"data:image/jpeg;base64,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\" style=\"max-width:none\">\n",
       "        <br>\n",
       "        <small>Index: 3</small><br>\n",
       "        <small>Distance: 0.1667</small><br>\n",
       "        <small>Hash: c527e447118e7b4a7f3bd7d94862fb97</small>\n",
       "        <small>(Mask)</small>\n",
       "    </div>\n",
       "    \n",
       "    <div style='text-align: center; border: 1px solid #ddd; padding: 5px;'>\n",
       "        <img src=\"data:image/jpeg;base64,/9j/4AAQSkZJRgABAQAAAQABAAD/2wBDAAoHBwgHBgoICAgLCgoLDhgQDg0NDh0VFhEYIx8lJCIfIiEmKzcvJik0KSEiMEExNDk7Pj4+JS5ESUM8SDc9Pjv/2wBDAQoLCw4NDhwQEBw7KCIoOzs7Ozs7Ozs7Ozs7Ozs7Ozs7Ozs7Ozs7Ozs7Ozs7Ozs7Ozs7Ozs7Ozs7Ozs7Ozs7Ozv/wAARCABCAEgDASIAAhEBAxEB/8QAHwAAAQUBAQEBAQEAAAAAAAAAAAECAwQFBgcICQoL/8QAtRAAAgEDAwIEAwUFBAQAAAF9AQIDAAQRBRIhMUEGE1FhByJxFDKBkaEII0KxwRVS0fAkM2JyggkKFhcYGRolJicoKSo0NTY3ODk6Q0RFRkdISUpTVFVWV1hZWmNkZWZnaGlqc3R1dnd4eXqDhIWGh4iJipKTlJWWl5iZmqKjpKWmp6ipqrKztLW2t7i5usLDxMXGx8jJytLT1NXW19jZ2uHi4+Tl5ufo6erx8vP09fb3+Pn6/8QAHwEAAwEBAQEBAQEBAQAAAAAAAAECAwQFBgcICQoL/8QAtREAAgECBAQDBAcFBAQAAQJ3AAECAxEEBSExBhJBUQdhcRMiMoEIFEKRobHBCSMzUvAVYnLRChYkNOEl8RcYGRomJygpKjU2Nzg5OkNERUZHSElKU1RVVldYWVpjZGVmZ2hpanN0dXZ3eHl6goOEhYaHiImKkpOUlZaXmJmaoqOkpaanqKmqsrO0tba3uLm6wsPExcbHyMnK0tPU1dbX2Nna4uPk5ebn6Onq8vP09fb3+Pn6/9oADAMBAAIRAxEAPwDzpomU4ZSD6EYpuznjFaWrzu9y1u6hfs7MgwOvP/1qzycA4oGNKmmsp6GpjggEHtSYoAdBdmL5JTlexz0q7w0e5SCPUVnNGCDSJI9ucxnGO1Ai6Tjg0mcE1DHepJ/rBsJ6ntUvBHykMPY0wE60UEEDPrRQI1fGFg1h4lvEIwsjmRT7Hn+eawgue9d/8ULNkvre5A4ZWQ/gc/1rghQMQIR3pdvuadQKQxjLgDmmlN3anSdB9af2oAi8pcdKFjUfdyPcGpM+tJkChAHzjpI1FIrktwKKYj2P4iyx2FraXrwiRUnAK+oKkGvH5XDzOyrtVmJA9K9g+KqA+F1f+7cLj8jXjo7g0rdQHdaOtAooGMlG4Y705eUFMkOMHPSiN9wzSAeRmmshNO604UwsPs4RJcxR4++4FFbHhCwOoeJLOLHyq+9voOaKoR6B8WWZfDtsoPytcjP/AHya8j7g17X8RY4G8PxvcjMUdwrNgdMgj+Zrxm9MDXcrWy7YS52D2qb62HbqQilwaTPPWjNAyKYHYcVHHuCCrLDI4piAbORQIRWx3qTPvUZQdc0K2OtAHW/D26Fv4qtlfAE2Y+fUjj+QornrC4ktriOeMlXicOp9x0ooA9m+I3/IpXf1X/0MV4jnn8KKKroSyOT71CE7utFFSUiTtUbE880UUluAqAFjxVoqoThQPwooqiQPWiiimhn/2Q==\" style=\"max-width:none\">\n",
       "        <br>\n",
       "        <small>Index: 4</small><br>\n",
       "        <small>Distance: 0.2020</small><br>\n",
       "        <small>Hash: 58b0a579134b12ed6b528d383f6376e6</small>\n",
       "        <small>(Mask)</small>\n",
       "    </div>\n",
       "    \n",
       "    <div style='text-align: center; border: 1px solid #ddd; padding: 5px;'>\n",
       "        <img src=\"data:image/jpeg;base64,/9j/4AAQSkZJRgABAQAAAQABAAD/2wBDAAoHBwgHBgoICAgLCgoLDhgQDg0NDh0VFhEYIx8lJCIfIiEmKzcvJik0KSEiMEExNDk7Pj4+JS5ESUM8SDc9Pjv/2wBDAQoLCw4NDhwQEBw7KCIoOzs7Ozs7Ozs7Ozs7Ozs7Ozs7Ozs7Ozs7Ozs7Ozs7Ozs7Ozs7Ozs7Ozs7Ozs7Ozs7Ozv/wAARCADSAEYDASIAAhEBAxEB/8QAHwAAAQUBAQEBAQEAAAAAAAAAAAECAwQFBgcICQoL/8QAtRAAAgEDAwIEAwUFBAQAAAF9AQIDAAQRBRIhMUEGE1FhByJxFDKBkaEII0KxwRVS0fAkM2JyggkKFhcYGRolJicoKSo0NTY3ODk6Q0RFRkdISUpTVFVWV1hZWmNkZWZnaGlqc3R1dnd4eXqDhIWGh4iJipKTlJWWl5iZmqKjpKWmp6ipqrKztLW2t7i5usLDxMXGx8jJytLT1NXW19jZ2uHi4+Tl5ufo6erx8vP09fb3+Pn6/8QAHwEAAwEBAQEBAQEBAQAAAAAAAAECAwQFBgcICQoL/8QAtREAAgECBAQDBAcFBAQAAQJ3AAECAxEEBSExBhJBUQdhcRMiMoEIFEKRobHBCSMzUvAVYnLRChYkNOEl8RcYGRomJygpKjU2Nzg5OkNERUZHSElKU1RVVldYWVpjZGVmZ2hpanN0dXZ3eHl6goOEhYaHiImKkpOUlZaXmJmaoqOkpaanqKmqsrO0tba3uLm6wsPExcbHyMnK0tPU1dbX2Nna4uPk5ebn6Onq8vP09fb3+Pn6/9oADAMBAAIRAxEAPwCTw9pC6bZJEBlzy7eprpYIxvzx0qpCgZlSPoBzV6MAKCtefu7s9iyirIxPHNxLbeHLgRNgsApPoD1ryMA+tepfEK4VPDxTvI6ivL666Wxw4j4kSoo2ZNMKjJqeCN5YnKLuCDLewqLOea2scoxQCOgpCgxSrinEZ7UgEt7ZpmKoM8Zorr/h/oy6jdXUkygxxxhencn/AOtRTEdzAoVlTd8zDNXYmTOMgAVhmV1uIG7OKrtezR63NbycAIrx+471wI9tpHO/ETVFuL6CxjbIiG58evauQI4Jq9ryyjxBctKcl33KfaqhXg4rrgrRR5VZ3mzR0ZGNnqDg42QZP5is1QMH1q7p98lrYXsDIS1ygQEduc/0qko4zW0nokYJbjKenTrSY5NKgy2PU1BR7N4F0caXoq5AMkwDufr0FFb2lw+Tpdunfy1z+VFIEefjWbOaKDy51Zgcrz1qlrv2fUdkpuGtbiIYR92K4y8t/sl7LAMjypGT8jimzXM8yKkkrMifdBNZey7Hd9aurNCTzTT3TPPL5rDjdRnt60yP71SnhcVstDik7u4xenXjNITjgUDv7GmjmgQ7qTU9ige+gU9DIoP51XFTWz+VcxSZ+64P600B9FRKFiRR0CgUUluwkt43B4ZAf0oqRnhfiiwlg1i9uCB5Ul5Ii/Uc/wBawzkCul8dxzW/ie8idj5bSeai9vmAyf0rmyaEJixjnNSHGDTEp4z6UwGAdh0zTBxxUn4d6jxQAvenDORTcZNOTigR9AeH5vtWgWM2fvQLz+FFQeEuPCum5/54LRRYpHl/xGZ/+EtuQegVNv0xXKkV3nxO01k1RtQ3rhgi7e5681whxzSQmKnXmn8Z60xBkU/FMBMcj60wjmpDyR65ph5xQAwU5aQDmnoMsBjvTA9+8PxCPw/YIBgLAn8qKsaeuzTrZBwBEv8AKikNHm/xYH/Eys+fvQnP515/jHFegfFgf8TCxP8A0yb+defihAxRxxUgOaZ1FPHB4piEYfMtMqQ8kU2kAgAqW3TdcxKOrOoH51HWr4bgjn1+xSTlTMv86aA90gXZbxr6KB+lFP6cUVIzgPipbQPY21yz7ZoztQf3geteYCvUfitHnTbKT+7IR+leXqKaExRThSDGacAM570wA9RTTTjzimk80ALxWlosot9YsJegWdP51mDrViBsOjDqrAj8DQB9Be9FQ2snnWcMmfvIp/SipGcx8SbX7R4ZMgGTC4b+leRKK938RxRzaDdiVN6iMkr9BXhWOuKEA0jFKDzzSt7im4OaoQ7uKaRz0px7GjbigBoqRCQaZ9KcvWgD3bw9cLdaBYz9A0K/niiqvhAY8KaeP+mWaKljRrXUazW0kbjKupBHsa8I1W1Sx1a6tkO5I5CFPtXvfB4NeC6uxOsXZYcmZuD9aAKfbmkx3zUnBoqhERB4NKDk4NPfgCmknPAoAQAU8DvTVGKkjG9wgH3jgUAe3eGU8rw3p6dMQLRVrToRDp1vD0CRKP0oqWNFhz8jH0BrwPVJ3utUuJ3xueRicfWveZzi3lPojH9K8AuDm4cnux/nQgY1W5p/XvUQJ3VIKoQrdhimgcmnt0FN7mgAHFW9Ki87VLWPrulUfrVTFbPhOLzPEtkpH/LUGmI9oUbVAHYUUA0VBQjgMjKehGDXh/iHSxpd+Y1lWQSEtx1U5Iwa9xPSvI/iBpxs9ea4A+S4Xd+PQ0dQOW96cDyKbnnFKp55qhEh5ANJS9hTT1oAWuj8Cxeb4otvRSzfkK5oHJrqvh/c21v4iU3EojLxssZPQt6UAesCilA9qKkYhNc/4q0OPWbAxHCyLzG/91v8K3zUbgMpBGRQB4VqGm3WmzCO6iKMRx71VFdp8SYreCW2K589s9+q/wD664QTEHB6U1qIt5FRs3NCPu4pDx1pgKDT95UhgcEdCKizS7hkfSgD1HwJ4ra+gex1GXMkK7kkbqy5xg+/IorgdCsL67lk+xxu+0claKOUOY9wNUtR1C20y0a5u5RHGvc9z6YrDHj3TD1jkH5VzGv6/Y6vdyC4upWtlQtFDtxtf696hvQtI5nxFq0utaxLePkKxxGp/hXsKrSW1mNLjnE+66aTBj/urUZHHHWoyV6MMe9VYm4itxTvMGfmGaBFnlTxTCpXrk0xEwCuODQEIPSocMDxkVNEzH5W5oEesfDkwS+HvkRVkSQq59fSiovhrbMmhzSN0lmJX8ABRSY0eXknb1NMJ5P0oooAVvuZ96jb7tFFMBYP61JRRQADrTJCQeCaKKBHrfw1OfDAzz+9f+dFFFJlI//Z\" style=\"max-width:none\">\n",
       "        <br>\n",
       "        <small>Index: 5</small><br>\n",
       "        <small>Distance: 0.2249</small><br>\n",
       "        <small>Hash: a61fe441ff6dfcc697d898f6e7f9c325</small>\n",
       "        <small>(Mask)</small>\n",
       "    </div>\n",
       "    \n",
       "    <div style='text-align: center; border: 1px solid #ddd; padding: 5px;'>\n",
       "        <img src=\"data:image/jpeg;base64,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\" style=\"max-width:none\">\n",
       "        <br>\n",
       "        <small>Index: 6</small><br>\n",
       "        <small>Distance: 0.2316</small><br>\n",
       "        <small>Hash: 410efb7da7a747cf6d07e6a687e8bdf3</small>\n",
       "        <small>(Mask)</small>\n",
       "    </div>\n",
       "    \n",
       "    <div style='text-align: center; border: 1px solid #ddd; padding: 5px;'>\n",
       "        <img src=\"data:image/jpeg;base64,/9j/4AAQSkZJRgABAQAAAQABAAD/2wBDAAoHBwgHBgoICAgLCgoLDhgQDg0NDh0VFhEYIx8lJCIfIiEmKzcvJik0KSEiMEExNDk7Pj4+JS5ESUM8SDc9Pjv/2wBDAQoLCw4NDhwQEBw7KCIoOzs7Ozs7Ozs7Ozs7Ozs7Ozs7Ozs7Ozs7Ozs7Ozs7Ozs7Ozs7Ozs7Ozs7Ozs7Ozs7Ozv/wAARCADSAGADASIAAhEBAxEB/8QAHwAAAQUBAQEBAQEAAAAAAAAAAAECAwQFBgcICQoL/8QAtRAAAgEDAwIEAwUFBAQAAAF9AQIDAAQRBRIhMUEGE1FhByJxFDKBkaEII0KxwRVS0fAkM2JyggkKFhcYGRolJicoKSo0NTY3ODk6Q0RFRkdISUpTVFVWV1hZWmNkZWZnaGlqc3R1dnd4eXqDhIWGh4iJipKTlJWWl5iZmqKjpKWmp6ipqrKztLW2t7i5usLDxMXGx8jJytLT1NXW19jZ2uHi4+Tl5ufo6erx8vP09fb3+Pn6/8QAHwEAAwEBAQEBAQEBAQAAAAAAAAECAwQFBgcICQoL/8QAtREAAgECBAQDBAcFBAQAAQJ3AAECAxEEBSExBhJBUQdhcRMiMoEIFEKRobHBCSMzUvAVYnLRChYkNOEl8RcYGRomJygpKjU2Nzg5OkNERUZHSElKU1RVVldYWVpjZGVmZ2hpanN0dXZ3eHl6goOEhYaHiImKkpOUlZaXmJmaoqOkpaanqKmqsrO0tba3uLm6wsPExcbHyMnK0tPU1dbX2Nna4uPk5ebn6Onq8vP09fb3+Pn6/9oADAMBAAIRAxEAPwDy/T43BdwSAeD9K0jHHGgklIAYHaKqxMIUwCOnT1pDI0jc9uld8pxow5VuZRTk7s0LfVFs5N8FuAwB2knkH1FOm8QX1wqbmUPHxvxkn06+lZh68U0HDjPcVySqSk7s1SS0Q+4nlm+aRyx9arEYG4dqmk9KikYKjD2qLthYfG7FQc9atfbLkuGNxISBgEtnA9KowuCg5qdW465ou1sPRl5dc1COeOT7SztGu1d4zgU7+2ZJoDDcIpXsyDBH+NZedztg9KfjCe9UpyWzE0XC0bxjEgb1xT21e8MDW7zlkMXlAPyAvpVGJth3YBwadIV3fdBDDNdtOoqqtLcwlFx2IjmnJ1pGGHI9DQn3q8+9zpsOPDU2QHGQelOfOaQ/MMUCsMkYlQVxVZwx5JqwOVI7iopBjmgTGRK23gdetTY2IWJ57UkOPLFOPzyBewoAfCmI+e9SP92heBSPigY0D5CaTJU0o+6aack002ndCsSzrtnkXuGNNXrU1+pW9lBGPmqBeualbFyVpND2pgp7etR96ZIhG1gexqKX7pFTOCVNQTdM+tADojhBUsa4PJ56moYf9X+NTp0oBD84FNf1xQeBSP1xQDFH3aZ/FT19KZjBoAvazbtaavd27ctFIVP1FU161f19i3iDUSTz9pf+ZqgmciktCm7u45qZmntUZpki55q3olt9p8Q6dAVDh7lAVIzkZFUx96uv+GlgLzxjDIwBFtG0nPr0H86AMbxZpY0fxRf2irtj83zIx/styP51mLXefF6xMOuWV0FwssJTPup/wNcEDxQAvemsMtTl60nV6B7jh1pnenfxU3+KgRf1w/8AE/1D/r4k/wDQjVFava8NviDUAev2mT/0I1RU80DHmom6mpDUbdKBAvXNd98IVL+Jro9ltuf++hXn4OCTXpXwYh3X2p3GOkaJ+ZJ/pQFzR+MiD+y9Okx0nYZ/4D/9avJwa9t+Kmnm88IPMo+a0kWX8Oh/nXiOeKQx6dCTQo+YmgdOlKvSmFhP4qT+KjvSD71AGx4viMPi3VEx0uGI/HmsdTXSfEOLyvG+oDGNzK35qK5tevNADm96YelOYHOaYeD/AIUCGkDPFe2fCrSRYeGftTD95ev5h/3RwP6n8a8g0ix/tLWLOyPAuJlQn0BPNfRunWsdnZxW8K7Y4kCIPQAUDMvx1AZ/BepqOcQFvy5r58AG7OK+ltXt/tej3lvjPmwun5g181EFJCp4KnBpAPHegUL70UwY0daQdRSjuaWMbpFA7kCkB2PxVgEXjFpP+esCN+WR/SuMWvRfjFb7dWsLjH34WUn6H/69ecj7wpgPY8VHnipDg8UwjFAjpvh3pb6n4utmzhLX985+nT9cV70q7QB6V5N8HYVa/wBQl/jWNB+BJ/wr1ukMRh8pr5m1J86teMMAGd8Y/wB419NHofpXzJqC7dRuR/01f+ZoAYOlIaB0obrTAT15qW0XfewL6yKP1qHPFXtDi87XbCIDO64QY/4EKAPSfjJBmx024x92V1J+oz/SvKOhGK9m+LqBvCkT91uVx+RrxnvQA+mmncGmMOKBHpnwZQ/atUbtsjH45NerV5l8Gl/0bU29WQfoa9NpDA9K+dfGOnvpvivUICMAzGRPdW5H86+i6+dPF+pNqviq/uScqJTGg9FU4H8qAMkHjpQeaF6dKDTAb0ra8Gw+d4w0tMZ/0hT+XNYtdT8N4DN43sT/AM8w7/kpoEejfFSPf4LlP9yZD+teIDFe6fEtS/gi8/2WQ/8AjwrwsUFDqa44xmn0xulID0/4MSNu1SLHy4jbPvyK9TzXkXwev4odTvrFziW4jV4/fb1H6163QASOI42cnAVSSa+ZLqQS308g5DSM36177451M6X4O1CdTh2j8pD7tx/WvnxetAh46UtA6UGgBneux+F+7/hNrfb08mTP0xXHV3Pwoj3eLGf+5bN+pApgd78RJki8E3+7+MKo+pYV4T0NexfFi48vwtFFn/W3KjHsATXjtADh0ppFOHT2pp6UAbPgzUP7N8X6ZOThTMI2+jfL/WvoU9a+X45WhuI5VOGjYMPqDmvpm1n+0WcM/wDz0jVvzGaQziPi/cmPw3aW4b/XXOSPUBT/AI148D3r1H4ySf6PpSf7Uh/QV5cBimIk6jNDdKTNFADa9C+EEO7W72XsluB+bf8A1q8+616f8HocR6lcHoSiA/maAIfi9d5Gm2ee7yH9AP615tXYfFK587xUsIORbwKv0J5/rXHbcjNAC80GkU54NKemaQELj5819CeFLw3XhTTJc5JtkB+oGP6V8+N94Yr2v4Z3X2jwdBGTkwSPH+uR/OgEYHxgcmTSxjjbJ/SvNx6V6R8Xhl9LPtJ/SvN1OTxQDHdqQ0GjtTAOler/AAlYDQrzA5+0cn/gIryevUfhNIP7N1CPuJlbH1H/ANakOxw3jC7+2+K9RmByPOKA+y8f0rHXpTriUz3Mkp6u5Y/ic1HuwaYhzDnPeg8rS8Gk45oCxEeDXrXwicnQr1SeBc8D/gIryVuTXqXwh3LYam38PmoB+RoBCfF1f3WmP/tSD+VeaDHWvVfivD5miWc//PO4wfxB/wAK8p6UgA9cUppAeaWmAnT8a9E+E8h+0ajH2KI36mvO+td98KSw1O+G07DCuT6HNIEc/wCNNC/sLX5Yo1It5v3kR9j2/A1zpOOte3+N9Bg1rRZHYhJrZTJHIe2ByK8SZCrYNMVrCI/YjinsQBTMU3JHQcUD1DvmvX/htbfY/C/mtwbmUv8AgOB/KvKLCxutTukt7aIuzHnHb3Ne4adbrYadb2aY2wxhPyFJgjM+IKfaPCU5xkxOj/rj+tePGvctWs01PS7iykJCzJtyOorxK/tpbC/mtJBl4nKn3oGMA+Wg8U1Wzx0NOAFAgHrXrvw10sWnh4XhH7y7Ytn/AGRwK8jUbm25617Z4Fvxd+F7ZAoDW/7lse3f8jQBf1n/AJBV4P8Apg/8jXhF194UUUDZBS4HpRRQI674eAf2hcnHOwV6QtFFIpbCOeDXmXj9VGtRkKATHycdeaKKaEzlT1FONFFAh6/fFetfDX/kATf9dz/IUUUMD//Z\" style=\"max-width:none\">\n",
       "        <br>\n",
       "        <small>Index: 7</small><br>\n",
       "        <small>Distance: 0.2330</small><br>\n",
       "        <small>Hash: ff43b236839467c0fc126bb523236c0b</small>\n",
       "        <small>(Mask)</small>\n",
       "    </div>\n",
       "    \n",
       "    <div style='text-align: center; border: 1px solid #ddd; padding: 5px;'>\n",
       "        <img src=\"data:image/jpeg;base64,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\" style=\"max-width:none\">\n",
       "        <br>\n",
       "        <small>Index: 8</small><br>\n",
       "        <small>Distance: 0.2395</small><br>\n",
       "        <small>Hash: 6666956892e36909a91dff331d1778d1</small>\n",
       "        <small>(Mask)</small>\n",
       "    </div>\n",
       "    \n",
       "    <div style='text-align: center; border: 1px solid #ddd; padding: 5px;'>\n",
       "        <img src=\"data:image/jpeg;base64,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\" style=\"max-width:none\">\n",
       "        <br>\n",
       "        <small>Index: 9</small><br>\n",
       "        <small>Distance: 0.2442</small><br>\n",
       "        <small>Hash: a1d147c5e8e014f85ab89f7fbb1f9f46</small>\n",
       "        <small>(Mask)</small>\n",
       "    </div>\n",
       "    \n",
       "    <div style='text-align: center; border: 1px solid #ddd; padding: 5px;'>\n",
       "        <img src=\"data:image/jpeg;base64,/9j/4AAQSkZJRgABAQAAAQABAAD/2wBDAAoHBwgHBgoICAgLCgoLDhgQDg0NDh0VFhEYIx8lJCIfIiEmKzcvJik0KSEiMEExNDk7Pj4+JS5ESUM8SDc9Pjv/2wBDAQoLCw4NDhwQEBw7KCIoOzs7Ozs7Ozs7Ozs7Ozs7Ozs7Ozs7Ozs7Ozs7Ozs7Ozs7Ozs7Ozs7Ozs7Ozs7Ozs7Ozv/wAARCAB0ACwDASIAAhEBAxEB/8QAHwAAAQUBAQEBAQEAAAAAAAAAAAECAwQFBgcICQoL/8QAtRAAAgEDAwIEAwUFBAQAAAF9AQIDAAQRBRIhMUEGE1FhByJxFDKBkaEII0KxwRVS0fAkM2JyggkKFhcYGRolJicoKSo0NTY3ODk6Q0RFRkdISUpTVFVWV1hZWmNkZWZnaGlqc3R1dnd4eXqDhIWGh4iJipKTlJWWl5iZmqKjpKWmp6ipqrKztLW2t7i5usLDxMXGx8jJytLT1NXW19jZ2uHi4+Tl5ufo6erx8vP09fb3+Pn6/8QAHwEAAwEBAQEBAQEBAQAAAAAAAAECAwQFBgcICQoL/8QAtREAAgECBAQDBAcFBAQAAQJ3AAECAxEEBSExBhJBUQdhcRMiMoEIFEKRobHBCSMzUvAVYnLRChYkNOEl8RcYGRomJygpKjU2Nzg5OkNERUZHSElKU1RVVldYWVpjZGVmZ2hpanN0dXZ3eHl6goOEhYaHiImKkpOUlZaXmJmaoqOkpaanqKmqsrO0tba3uLm6wsPExcbHyMnK0tPU1dbX2Nna4uPk5ebn6Onq8vP09fb3+Pn6/9oADAMBAAIRAxEAPwDmPDuqmHVJ0vZDvuJDlnP8QJruYuf6V514msvsWuXsI+X9+XT2Bwf610fhLXPtkX2Wdx50fQn+IVhUjbU6aU7qx1iEDrTmOeaYuBiqup6tbaZbmSZwCRwvcmsTZjL+dIImeQgKO5rg7rxdfpcOsF5JFECdiqcDGar63rlxqsxLExx54UGqEOny3Ss8aMQDt4HtW8IW3OepUT0R1/xFs9l/DcjpKmD9R/8Arrj7W6e0uUnjJVlNeg/EeMNYWr9w7D9Aa83c4Y1rujFOx6OnimzGmid5Bv28rnnNcRqWpTapdNNMTj+Fc8AVnJknGeKlHBqIwUdTSVRyVgblgB616j4S0VLXQYjNGGkmYynPbOMD8gK8whBadRjvXt1qhitYowPuoB+lWzM5r4gJv0WNv7sv9DXmDfexXrfjGLzfD0xxnYQ39P615RIuGJpoRGinPapcYqOM/NUjdKALWiw/adXt4sZ3SAH6ZFe0jGK8p8D232jxDE3aMFz+WK9VzUsZneIUD6Fdg9oyf1zXkEww1ex60C2j3gH/ADxb+VeQTAEmmhFZOtPfOOKaAQTSkkjFMDtPhzbZmu7kjoojH48mu9Brk/h6qDQ5DkbmmOR3HSurzUjItRUPp9yp6GJh+hrxy4VkY8kH0r1rxBK0OiXTocHbj8yP8a8kugzylsk00BWLbeuSTSq4Pal2jZ1zSBcdBmmI67wBeSJq0tr/AMs5Ii2PcYr0EYrzDwdKLfXI3c7A6snPuK9K3mpGVteVZdHuo2IAKE59+1eW3cYCZTOK9F8S3G3SnXHLMBXnepSDAVaaAojlelORB1z+FIAQgpqEk496YjS07KSGX+50+tem20wmto5AfvKDXnOm6fc3rrFEu1M5dz0Feg28flW6Rr0UACpYyt4mi36Y7DqhDV5nMS8pJr1m/g863kiPRlIry69tntLuSJ1Pynr600IrkDFSWVs1xdoijqai5z0Nb/hmxlkuPOK4UdCe9MaOm0yxaCJVA6VsJE23pUdpA4+9WkkY21AEcyA5zXF+LrKFGS4UEOeD6GiimhM5ZIledVyQDjpXpGiWMENjDsU8gE5+lFFMb3NhFAAwKlA4oopAf//Z\" style=\"max-width:none\">\n",
       "        <br>\n",
       "        <small>Index: 10</small><br>\n",
       "        <small>Distance: 0.2448</small><br>\n",
       "        <small>Hash: eef17deb177de24107cb4a1078ebc4e2</small>\n",
       "        <small>(Mask)</small>\n",
       "    </div>\n",
       "    \n",
       "    <div style='text-align: center; border: 1px solid #ddd; padding: 5px;'>\n",
       "        <img src=\"data:image/jpeg;base64,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\" style=\"max-width:none\">\n",
       "        <br>\n",
       "        <small>Index: 11</small><br>\n",
       "        <small>Distance: 0.2492</small><br>\n",
       "        <small>Hash: d3d92db074a038bd1ab01896222b6fef</small>\n",
       "        <small>(Mask)</small>\n",
       "    </div>\n",
       "    \n",
       "    <div style='text-align: center; border: 1px solid #ddd; padding: 5px;'>\n",
       "        <img src=\"data:image/jpeg;base64,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\" style=\"max-width:none\">\n",
       "        <br>\n",
       "        <small>Index: 12</small><br>\n",
       "        <small>Distance: 0.2497</small><br>\n",
       "        <small>Hash: 5e839e9ba9f4245af0b98617301af101</small>\n",
       "        <small>(Mask)</small>\n",
       "    </div>\n",
       "    \n",
       "    <div style='text-align: center; border: 1px solid #ddd; padding: 5px;'>\n",
       "        <img src=\"data:image/jpeg;base64,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\" style=\"max-width:none\">\n",
       "        <br>\n",
       "        <small>Index: 13</small><br>\n",
       "        <small>Distance: 0.2499</small><br>\n",
       "        <small>Hash: ef4db136b95827e0a92ea6112afb1cf2</small>\n",
       "        <small>(Mask)</small>\n",
       "    </div>\n",
       "    \n",
       "    <div style='text-align: center; border: 1px solid #ddd; padding: 5px;'>\n",
       "        <img src=\"data:image/jpeg;base64,/9j/4AAQSkZJRgABAQAAAQABAAD/2wBDAAoHBwgHBgoICAgLCgoLDhgQDg0NDh0VFhEYIx8lJCIfIiEmKzcvJik0KSEiMEExNDk7Pj4+JS5ESUM8SDc9Pjv/2wBDAQoLCw4NDhwQEBw7KCIoOzs7Ozs7Ozs7Ozs7Ozs7Ozs7Ozs7Ozs7Ozs7Ozs7Ozs7Ozs7Ozs7Ozs7Ozs7Ozs7Ozv/wAARCADSAH4DASIAAhEBAxEB/8QAHwAAAQUBAQEBAQEAAAAAAAAAAAECAwQFBgcICQoL/8QAtRAAAgEDAwIEAwUFBAQAAAF9AQIDAAQRBRIhMUEGE1FhByJxFDKBkaEII0KxwRVS0fAkM2JyggkKFhcYGRolJicoKSo0NTY3ODk6Q0RFRkdISUpTVFVWV1hZWmNkZWZnaGlqc3R1dnd4eXqDhIWGh4iJipKTlJWWl5iZmqKjpKWmp6ipqrKztLW2t7i5usLDxMXGx8jJytLT1NXW19jZ2uHi4+Tl5ufo6erx8vP09fb3+Pn6/8QAHwEAAwEBAQEBAQEBAQAAAAAAAAECAwQFBgcICQoL/8QAtREAAgECBAQDBAcFBAQAAQJ3AAECAxEEBSExBhJBUQdhcRMiMoEIFEKRobHBCSMzUvAVYnLRChYkNOEl8RcYGRomJygpKjU2Nzg5OkNERUZHSElKU1RVVldYWVpjZGVmZ2hpanN0dXZ3eHl6goOEhYaHiImKkpOUlZaXmJmaoqOkpaanqKmqsrO0tba3uLm6wsPExcbHyMnK0tPU1dbX2Nna4uPk5ebn6Onq8vP09fb3+Pn6/9oADAMBAAIRAxEAPwDhfEEwuNduWHQPgVlsBmrV+wfUJ2HQyNj86rNTtbQblzO435vWnfMO2acgp1Ahokb+7+tIznn5cfjTi4AxTGOeKQDCzLzgU37Q/oKkZSFyarHrTAsrIxHOKf8AvCOwqsA3WpUmK8MMikBJmQelMMsg9PyqQsMAg8VHnJ6UAAlf0X8qkt8mdNxABYdqjp6ZAznvQNHb6bGLe+iaEhOOSe/NelaGS0UjFgc45HfivPdD0ma4aCd2JQgEAnOfwr0rTIfJtQPXmsYrU7a7ShY+eJSTM5PXcajPWnNnd15pp5rY4SRR8nFIQacv3OaXnHQGgBhGRz1pAPwp59T2pn+TQAkp7VVYfNU7ZJzV7XtIfTGtCVKi4t1k59e9MCgPuClC037qinkgAUCHhcgYprKwPSmjf/DkU9fM9zSGIq+tS4AQCgDPUUp5agD2/wAPaYiaTZsqADyVO89TkCugVQqhR0FUNBcSaBYOOA1un8q0amxTd9z5qmXa+B2pgPNWblcTyLjlXI/Wqp4NUSTg5QUHIFNiPUU5vagBM54JprDnrT8dOKYTzQAqDMqKehYV6P8AEvSQdAs7yNf+PfC/8BI/+sK85gP+kxkj+Mfzr3XxPYDUvC91bgcmHKj3AzSYHgqYeMg05Rj396iXKZB65qVdre1MQ8t6U5R60BRjinjgUDEPFCj5qQ/e6U5eBzQB7p4RJfwnpxP/ADwAraFYHgck+D9Pyf8Almf5mt+kxnztqSeXqN2n92Zx/wCPGqDf0rV10bde1Af9PEn/AKEay2GaYhI2wealz8xqv0NTZ+QN+dMBc009aceQMdKbj5qQE+nRmXUrZP70yj9RX0S6B4mU9CMYrwbwtb/aPFGnxf8ATdW/Ln+le+YpMD5316yOn67e2pHCTNj6ZyP0qiv8q7X4oaZ9m16O9UfLcpg/7w/+tXFdMVS2AsRNuHNPPB9qrxnmpj97rQAL1zS02l70gPb/AAK2fBunn/YI/wDHjXQiub8Atu8G2XtuH/jxroxSGeA+Jk2eJtSQ9rl/51lHHpW944i8nxjqII+9Ju/MCsH6UxDGTjjrREc/Ie9SYzTHXByvUUAAO1iD2pRy2e2aRxuAcUq89KAOq+Hdr9o8YW744hRnP5Y/rXs9eY/Ce13317dkfcRUB+pzXp1JjRxfxO08XPh37SB81u4b8Dwf514/jmvoLxHZ/b/D97bY5eJsfXHFeAOMNjHNCEIuBUp6A9KjxxU2AUFUIaKcOaQCnAetIZ7L8OmLeD7cH+GRx/49XUCuV+HLA+EYh3Erj9a6qkM8X+JcXleMJm/vxK36Vyi5PJFdx8V4tviG3kx/rLcc/QmuITlc+lMQpO0ZpN4p2ARTTGD3oAFAxim42t04p2xh9akiiaaeONRlnYKB6k0xHrPwzsfs3hwzsuGuZC34DgV2VUtJsxY6ZBbKMCNAtXakoR1Dxsp7jFeB+JLH+ztevLYDASQlfoeRXvteTfE+yEGuQ3QHE8fP1BoQM4lQCam/h5qIDDVLTENHtThQozSimI9a+Gb7vDLr/duG/kK7CuI+FzH+xLtfS4B/8dFdwKllI80+LsP/ACDrjH99P5GvNkbB+teu/FO0M/hyKcDPkTAn6Hj/AAryAgg00In7cU360RHPWn4GaAG/dGSa1fCVt9u8V2EZ6CQN+XNZDtub2FdX8NYPN8XRvjIiidj+WKAPYxxxTsUnelpDCuC+KlmZdKtbtR/qZNrfQj/EV3tYXjKz+2+GL2MDLLHuH1HNAHho6/jUpGTmoyPSpIjkFTVEj0XijHNKOKXGaBnqPwwTGhXLf3rj+Siu1rjvhoMeHJT63DfyFdiKljMLxrb/AGnwjqC4yViLD8Of6V4TjNe9+LZVg8K6k7dPs7D8TxXgpH8qaEOQYzThwpzTVxinkdPSmIi2n1rvPhTGDrF45HKwDn0ya4cjtXofwoj/AHmoS4/hRf50hnpIpe1Np2aQw7VDcxLPbyRMMq6lTU1NPWgD58voBa388AORHIyg/Q1DgqQwq9riBNbvQOnnv/6EaqDnANUiR+MnNL9aBkcUpFAz1b4cTI/hoxquDHMwb3zzXWg1wnwvcmxvkzwJFOPwNd2KkZyvxJuTB4RlQHmaRE/XP9K8aPWvUfixc7dOsbXu8jOfwGP615ceTTQhy9MU4HikHSlA4pgFenfCuILpN5J3aYD8h/8AXrzEivU/hcCNAuD63J/9BFIDtqBRRSGLTTS000AeGeJU8vxFqC+lw/8AOs5Dk4Ird8cQiLxbegfxFW/MCsNAM1S2JZJgilyaTNL2oGeh/C8/utQX3T+td/XnXwvf/SL+P1RT+p/xr0QUmCPLvitPv1m0gB/1cGcfUmuCBzXTfEG7Nz4vuh2hCxj8BXMA800BKvSlBpvSjrSAfivVPhj/AMi5L/18t/IV5VnmvWPhsu3wyT/enc/yoYHX0UmaM0hi0hoBpCeKAPIviGm3xbOf70aH9K5ocV1XxIK/8JPwefIXd7da5Qn0qkJknXFOzgc01SccU7NMR2fw0l261cR/34D+hFenCvKPh4+zxKg/vRODXqwqWNHi/j+AQ+L7w9PM2v8AmK5g/K1d78UbTy9Xt7sD/WxYJ9x/+uuEIBHuKYEicjrS1GhO3mnA9h1oAeBzXqHw51a1l0k6WDtuYWLEH+ME9RXl33frXQ+B1ZvFdlsJGCScdxik0CZ7Hnmgmm55opDHZozTM4pc5FAHlnxFtHi8RfaCDsnjXafcDBFciyjqDXsXizRV1nS3QACZPmib0b/69eQyBo3KsuCpww9DTQhkbc4qXNQ4AYHsafnNUI6LwPcrD4qs89HJT8wa9iFeJeFjDH4jsXnlWJFlBLscAV7YCGGQQQehqWNHnnxSnRjY2xjbcNz78cY6YrzooGr1b4k2X2jw8LpVy9s4bPseD/SvJVnHcYo6AOIRcgnJpCxxxhaXCMPlYZpCDimA3BPc16D8NNHcyyatKPlAMcXue5rz8H5lz0717xpFvDa6XbRQKFjESkY+lIC9RmkzQTikMKM0maTPegDg/H/imW3dtHsZCjEfv3HXn+EV59GxYlWOc9zWp4pLHxPqG7OfOPX07VkfdYGmkDZIUIPB60uCvUgUMcqcVAcnnBNMRMzZUAHOK6HQfG+p6JCYN32mHHypK33Pof6VzKxt6YqeNQozkGiwXPWfHeqQWfhy4gcq0tyPLRD79TXjbRlSSBkV0/iPUm1SU3EjZJkOFz0HYflXP59utJAyCMYOD0qQL6HFOZVUbsU3eoxlf1piHqC7BcZJ6Yr3WwUxadbRtkFIlBHpwK8q8GaU+o6zFN5X7i3YO5I49hXrO7tSY0P3e9Gaj3UbhSGPzSFuKZu4pCaAOB+IOhMJf7WgTKtxMB29DXBkMOQa91njjmiaORQ6sMFSOCK8s8U+HX0i6eeFCbNz8pH8HsaaEzm/MfOc08u23g0HA/hyPUUoP9wgUxDljPBJJrd8O+HZdcllVDsSJeX9/SufDPnBPNdh4G1uPSZLlbkgRyqCD7j/APXRewHP3XT/AD6VT70UUIYv8NQj7w+tFFAmeseCkRfDlvtUDJJOB15roh/Wiik9xrYcKQ0UUihtJRRQIY/WsDxcM+HrvPPyf1oooBnlKffWn4+Y0UVRPUcKuQ/cFFFIZ//Z\" style=\"max-width:none\">\n",
       "        <br>\n",
       "        <small>Index: 14</small><br>\n",
       "        <small>Distance: 0.2547</small><br>\n",
       "        <small>Hash: 04bcc07f149cac3f78fb0db02cbac539</small>\n",
       "        <small>(Mask)</small>\n",
       "    </div>\n",
       "    \n",
       "    <div style='text-align: center; border: 1px solid #ddd; padding: 5px;'>\n",
       "        <img src=\"data:image/jpeg;base64,/9j/4AAQSkZJRgABAQAAAQABAAD/2wBDAAoHBwgHBgoICAgLCgoLDhgQDg0NDh0VFhEYIx8lJCIfIiEmKzcvJik0KSEiMEExNDk7Pj4+JS5ESUM8SDc9Pjv/2wBDAQoLCw4NDhwQEBw7KCIoOzs7Ozs7Ozs7Ozs7Ozs7Ozs7Ozs7Ozs7Ozs7Ozs7Ozs7Ozs7Ozs7Ozs7Ozs7Ozs7Ozv/wAARCAA/AEgDASIAAhEBAxEB/8QAHwAAAQUBAQEBAQEAAAAAAAAAAAECAwQFBgcICQoL/8QAtRAAAgEDAwIEAwUFBAQAAAF9AQIDAAQRBRIhMUEGE1FhByJxFDKBkaEII0KxwRVS0fAkM2JyggkKFhcYGRolJicoKSo0NTY3ODk6Q0RFRkdISUpTVFVWV1hZWmNkZWZnaGlqc3R1dnd4eXqDhIWGh4iJipKTlJWWl5iZmqKjpKWmp6ipqrKztLW2t7i5usLDxMXGx8jJytLT1NXW19jZ2uHi4+Tl5ufo6erx8vP09fb3+Pn6/8QAHwEAAwEBAQEBAQEBAQAAAAAAAAECAwQFBgcICQoL/8QAtREAAgECBAQDBAcFBAQAAQJ3AAECAxEEBSExBhJBUQdhcRMiMoEIFEKRobHBCSMzUvAVYnLRChYkNOEl8RcYGRomJygpKjU2Nzg5OkNERUZHSElKU1RVVldYWVpjZGVmZ2hpanN0dXZ3eHl6goOEhYaHiImKkpOUlZaXmJmaoqOkpaanqKmqsrO0tba3uLm6wsPExcbHyMnK0tPU1dbX2Nna4uPk5ebn6Onq8vP09fb3+Pn6/9oADAMBAAIRAxEAPwDe+LE3l+EAn/PS4QfkCa8Nbg17F8UNRs71E0QyGOaEid3JG0DBGOvX2rzKx0u3ur2RXuPLjSTaGKHkf0oQGWvtVu0tLm9lCW1vJM4G7bGhY8fStawOk2l0wlikmR45FyBkjqAcfr2rS8HeLV8I6vcXN1pgdLqMLsT5SuOmDSd7aArHKPIkMhEhwR1FRJK08nlwoWJ79qt3yDV9XnktYPKE8rMkY52AnNdDo/h0W4G75m7ms51FBa7m9Kk6j8ihp2hGUh7hs/7Ira/sa3SPHkCtmCyEQ6dKjvJoraJpHIAHrXHKpJs9BU4xRy+qWdrY25kc49qKwta1NtSuSRkRL90etFdcIO2pw1Kkeb3TuPHV9ptzqs80eXkZmTdjr2/IAGuasnCkyeSMtzg5wCpzj8cU9rS6vLq5EZWVFcx+YSFB5z36VHJpV8ocm7gWOHCg/aAQWxnAweTWy0OZllYtRvEWzt9lurRlnVVEYIJJ5Y9se9ZN1Zqt8ILaT7QxABKksN2OecDPPtV+3M93pUjILi5m37Z493y7Bjbx1PJrp9E0QQAXVxGqzkDp/DgYOPrWc6nItTWnTdR6bEOh6ALKLMgBlb7x9PatyKEJn+VS7dnygc+1QXt5DYWzTTOFAHevPcnJ3Z6kYqCshLy6jtIGklcIAMkmvPta1qTUpiqZWAHgd2qPXNbm1SbAJWAHhc9fes8LwK7KVHl1e5w16/N7sdhvlgtRUq4oroOU2YYP7YvDCoZE++0jHnOOv1NaQ0OOK2e3EwaNySdyjOcVHN5ekK6xSB2Y5BBHzfSrVpdG6tUm6bhyPeuapOV7rY7KVKDVpblrQ9LSxyRJvLdABgD8K6AYVMHvWVbnZgnmrd1epaWzXEnIC8VySbk7s7IxjFaDL/UYtPhaaVlVQOM964DVtXuNWuCzkiIfdXNQ6lq0+r3ZeTIRc7VzxVdQBXZSo8ur3OCtX5nZbDGTilxjFSHB6Cm4AWug5hKKAKKBG03kea/lAR+VkEv/ABfLgnn3NT6Lcxvut/NDFWyGxjPGaqWEkSGZypnllj2jf90MSB/U0y12x3sUd1KsHlAjKR5OOT1HJ/GlUjzRsaUp8krnWo5Me0c81X1oltNaJpFUuNqhzgU2wvYZZ/KjfecBgduNwPQ+1UNfknvbnyrVA32cb2ycYz0rihB89mehUqL2bkjmZCBMYxs+Tj5BwadjNRAMHJkbJPPPJNTjpXezyxMYprA4pxPNBpDGEhetFKVyQKKBH//Z\" style=\"max-width:none\">\n",
       "        <br>\n",
       "        <small>Index: 15</small><br>\n",
       "        <small>Distance: 0.2549</small><br>\n",
       "        <small>Hash: 8edd928a21a572ed3525ba3a171b626b</small>\n",
       "        <small>(Mask)</small>\n",
       "    </div>\n",
       "    \n",
       "    <div style='text-align: center; border: 1px solid #ddd; padding: 5px;'>\n",
       "        <img src=\"data:image/jpeg;base64,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\" style=\"max-width:none\">\n",
       "        <br>\n",
       "        <small>Index: 16</small><br>\n",
       "        <small>Distance: 0.2562</small><br>\n",
       "        <small>Hash: a8f26e74c4a660659f4dffbac78a1231</small>\n",
       "        <small>(Mask)</small>\n",
       "    </div>\n",
       "    \n",
       "    <div style='text-align: center; border: 1px solid #ddd; padding: 5px;'>\n",
       "        <img src=\"data:image/jpeg;base64,/9j/4AAQSkZJRgABAQAAAQABAAD/2wBDAAoHBwgHBgoICAgLCgoLDhgQDg0NDh0VFhEYIx8lJCIfIiEmKzcvJik0KSEiMEExNDk7Pj4+JS5ESUM8SDc9Pjv/2wBDAQoLCw4NDhwQEBw7KCIoOzs7Ozs7Ozs7Ozs7Ozs7Ozs7Ozs7Ozs7Ozs7Ozs7Ozs7Ozs7Ozs7Ozs7Ozs7Ozs7Ozv/wAARCACFACsDASIAAhEBAxEB/8QAHwAAAQUBAQEBAQEAAAAAAAAAAAECAwQFBgcICQoL/8QAtRAAAgEDAwIEAwUFBAQAAAF9AQIDAAQRBRIhMUEGE1FhByJxFDKBkaEII0KxwRVS0fAkM2JyggkKFhcYGRolJicoKSo0NTY3ODk6Q0RFRkdISUpTVFVWV1hZWmNkZWZnaGlqc3R1dnd4eXqDhIWGh4iJipKTlJWWl5iZmqKjpKWmp6ipqrKztLW2t7i5usLDxMXGx8jJytLT1NXW19jZ2uHi4+Tl5ufo6erx8vP09fb3+Pn6/8QAHwEAAwEBAQEBAQEBAQAAAAAAAAECAwQFBgcICQoL/8QAtREAAgECBAQDBAcFBAQAAQJ3AAECAxEEBSExBhJBUQdhcRMiMoEIFEKRobHBCSMzUvAVYnLRChYkNOEl8RcYGRomJygpKjU2Nzg5OkNERUZHSElKU1RVVldYWVpjZGVmZ2hpanN0dXZ3eHl6goOEhYaHiImKkpOUlZaXmJmaoqOkpaanqKmqsrO0tba3uLm6wsPExcbHyMnK0tPU1dbX2Nna4uPk5ebn6Onq8vP09fb3+Pn6/9oADAMBAAIRAxEAPwDkNA1YJdSLK2BO27n1712lu6sAy8ivNb+2a1v7mD7rQzMoPsDXTeGdXMqCGVvnX171jONtTppTvozrsjbisvUZNjAn1rRLApnORXJ+KNS8mVY4z83es7N6GraSux+s6xHbW5jDAybeAK5aJ5ZIwwiDZ74qvLK8zmR2JY+teleHvDNsdBtGuI181o9xyBnkkj9DW0YqJzTm5M5/xzp32XWWuFX5LkB/xHBrnbS5a1uVkU4wf/113XxEj/cWkuO7L/KvPm68Ve5mtDuxrSfYDLvGNua4i9unu7h5ZCTTPMfaU3Hb6Z4qJgc1MY2LnNyLWmWwvdRgtzwssgU+2SBXtccapGqqMADAFeR+EofN8R2a4z+83H8Oa9fFNkHLeP4t+iI/9yUfqK81NeqeNE3eHZc87XU/rj+teWNwxzTENNNPWnE00nNMDqPh/B5mutMR/qoiR/L+temZNcL8OrfaLu4I7Ko/U13OaljMjxYnmeHLvB+6A35MK8nfk17Bryh9DvVI6wt/KvIZPvGmgIjwKb1Ipzc0g4IpiPSvAUezRHfHLyn+QFdRmuf8GBV8N2+05yzM2exz/wDqrezUjGXkXnWk0R/jjZf0rxmcbHYHqDXs1y2LaQ56IT+leNXXMpzTQiAZ6kUnQ1IVwKZg9aYHd/D+9ZoriyY5C4kX2zwf6V2O6uE+Hijz7yQ9dir+pruc+1SxkV9KsVlM7/dEZzXkFyCLjB45r1HxFMIdIlJ/iwK8wnbzZ2PcmmgZM1uoUEHtVWQANipxIDEFJO8VXcc8mmI7HwCNhul9Qpz+ddpk1yHgcf6PO/csoH6119SxnK+NLxhBDag/eyx/lXC8iTNdV4wctqgQ/wAMYH5mubaPnNNAxqkK2cUjtuOaCAOtHHpTEdf4JlAhkT3Dfzrs8VwHgx/9MlTtt/rXejoKllHC+MlI1POCP3Yx79a51fm5NejeKNEa/thPAMzRjgf3h6V560RjfaQQR1B6imtiSFk+bnikbhfanNukbbtycUgUuSDwBQM3PCEmzUQn/PUEZ+nNeiiM4HFcP4O0x5bwXRXEcQO33Nd/SYxzgMuDXL+IdDtbgNOMxyDuveiihbiZxE1t5MrDeSRxnGKu6Rpcd5cASOduegFFFWTc9J0+zhtLVI4lCgDtVjFFFZlH/9k=\" style=\"max-width:none\">\n",
       "        <br>\n",
       "        <small>Index: 17</small><br>\n",
       "        <small>Distance: 0.2568</small><br>\n",
       "        <small>Hash: f30e4a663e52e7861f176ac9b1124f1b</small>\n",
       "        <small>(Mask)</small>\n",
       "    </div>\n",
       "    \n",
       "    <div style='text-align: center; border: 1px solid #ddd; padding: 5px;'>\n",
       "        <img src=\"data:image/jpeg;base64,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\" style=\"max-width:none\">\n",
       "        <br>\n",
       "        <small>Index: 18</small><br>\n",
       "        <small>Distance: 0.2571</small><br>\n",
       "        <small>Hash: 4f88206fd69f3a182eaf43c138d1d89f</small>\n",
       "        <small>(Mask)</small>\n",
       "    </div>\n",
       "    \n",
       "    <div style='text-align: center; border: 1px solid #ddd; padding: 5px;'>\n",
       "        <img src=\"data:image/jpeg;base64,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\" style=\"max-width:none\">\n",
       "        <br>\n",
       "        <small>Index: 19</small><br>\n",
       "        <small>Distance: 0.2608</small><br>\n",
       "        <small>Hash: 905d6d17bb29657ac4486ed1e9d8d056</small>\n",
       "        <small>(Mask)</small>\n",
       "    </div>\n",
       "    \n",
       "    <div style='text-align: center; border: 1px solid #ddd; padding: 5px;'>\n",
       "        <img src=\"data:image/jpeg;base64,/9j/4AAQSkZJRgABAQAAAQABAAD/2wBDAAoHBwgHBgoICAgLCgoLDhgQDg0NDh0VFhEYIx8lJCIfIiEmKzcvJik0KSEiMEExNDk7Pj4+JS5ESUM8SDc9Pjv/2wBDAQoLCw4NDhwQEBw7KCIoOzs7Ozs7Ozs7Ozs7Ozs7Ozs7Ozs7Ozs7Ozs7Ozs7Ozs7Ozs7Ozs7Ozs7Ozs7Ozs7Ozv/wAARCABxAC8DASIAAhEBAxEB/8QAHwAAAQUBAQEBAQEAAAAAAAAAAAECAwQFBgcICQoL/8QAtRAAAgEDAwIEAwUFBAQAAAF9AQIDAAQRBRIhMUEGE1FhByJxFDKBkaEII0KxwRVS0fAkM2JyggkKFhcYGRolJicoKSo0NTY3ODk6Q0RFRkdISUpTVFVWV1hZWmNkZWZnaGlqc3R1dnd4eXqDhIWGh4iJipKTlJWWl5iZmqKjpKWmp6ipqrKztLW2t7i5usLDxMXGx8jJytLT1NXW19jZ2uHi4+Tl5ufo6erx8vP09fb3+Pn6/8QAHwEAAwEBAQEBAQEBAQAAAAAAAAECAwQFBgcICQoL/8QAtREAAgECBAQDBAcFBAQAAQJ3AAECAxEEBSExBhJBUQdhcRMiMoEIFEKRobHBCSMzUvAVYnLRChYkNOEl8RcYGRomJygpKjU2Nzg5OkNERUZHSElKU1RVVldYWVpjZGVmZ2hpanN0dXZ3eHl6goOEhYaHiImKkpOUlZaXmJmaoqOkpaanqKmqsrO0tba3uLm6wsPExcbHyMnK0tPU1dbX2Nna4uPk5ebn6Onq8vP09fb3+Pn6/9oADAMBAAIRAxEAPwDJ0G886LynJDxnaRW8ue1ca7mw8RXKg7QJmGPxNdTDcoLfzHfAAyTXHUjaR6VGfNHUuySgR8/Lisu9120s0Ybw7kdB61hal4gmuXeOA7Y84B7msY5Llj8zetVGlfVkTxCWkS7Jqt1cs8RkYRli4UHFe1aW0h0q0MxzIYE3E9ztFeI6XbNd6mkKjJkdUH4mvdYwFjUDoBgV0pJLQ4nJyd2eI+KQYfFF8o4IlJH481UfU7qe2Fu0h2DqB3rT8dqF8WXfvtP/AI6Kwk4Xg0WTBSa2Y7fg4p4qMZJ5qVR0OKZJ0/gO08zxAjsoxErSH69BXqw4AFee/DqHdd3kxH3UVR/OvQc0DPHvHo2+LbnPcL/6CKwQQB7V0XxEXb4pc+saH9K5vqKBMcOtPX7wqOpBwc0Aek/DqHbptzP/AH5cfkP/AK9dlXNeBY9nhqI/33YmujzSGjyv4lQlPEUcnaSFf0JFcouQa7n4nLG17ZMHBkCEFe+M8GuHyB1piYqjnmpM8H8qjBGacWPAAHWgD13wWMeGLX33fzNb1Y3haB7bw5Zxv97ZuP4nP8jWxSGeOeMLp7jxXeiZsGN9iewA4rCIYd8j1re8cxLF4vuNn/LQK5/KsJ2+amJ6huGKmtk3SISMDNRLtxmrERxJH0H1oA9p0pSmk2qsQSIl5/Crtect4m1J7KKKGVYUjQKCvJOPWt/wrr014TaXsm+Tqjnv6ip1Ltoch8RNg8RxFAAzQAt+Zrk3Pzn61reK7033ia8lByqN5a/QcVlTDJyOOKogQMM9atRFQ4ZjkCs/BPFWbZmZdmMmgZvWc6ygq3Q9Kv2V0LSfMb4bt7GueUujDbxVm3kLSDecntikMpXcRivbgOMv5jE/XNJJAxgEu3K4rb8W6ObDWXMWRFOd6+xPWsWZJo4QjE4PpT2FbqVRBuOexq1DA6uBFGXYjsKs6Xpl3qEix28Zfnr/AAj8a9G0Xw/Dp9uqsqySdWfFOwjhLXw7rF+w2W7Iv95uBXY6D4JgsSJ7xhcTY4H8K11EVsBjjFW0jA7UriscP49/494f941xl391P92iimOPU7bwh/yDvwrrIug+goopsmBYXtUtFFQWf//Z\" style=\"max-width:none\">\n",
       "        <br>\n",
       "        <small>Index: 20</small><br>\n",
       "        <small>Distance: 0.2647</small><br>\n",
       "        <small>Hash: a251e95b40ae7c17085b908a98ffcbb9</small>\n",
       "        <small>(Mask)</small>\n",
       "    </div>\n",
       "    \n",
       "    <div style='text-align: center; border: 1px solid #ddd; padding: 5px;'>\n",
       "        <img src=\"data:image/jpeg;base64,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\" style=\"max-width:none\">\n",
       "        <br>\n",
       "        <small>Index: 21</small><br>\n",
       "        <small>Distance: 0.2671</small><br>\n",
       "        <small>Hash: d749cc1d6b2fe588f18acacd5106246d</small>\n",
       "        <small>(Mask)</small>\n",
       "    </div>\n",
       "    \n",
       "    <div style='text-align: center; border: 1px solid #ddd; padding: 5px;'>\n",
       "        <img src=\"data:image/jpeg;base64,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\" style=\"max-width:none\">\n",
       "        <br>\n",
       "        <small>Index: 22</small><br>\n",
       "        <small>Distance: 0.2691</small><br>\n",
       "        <small>Hash: 495d406bec0da3fa88d6c572d51e76f0</small>\n",
       "        <small>(Mask)</small>\n",
       "    </div>\n",
       "    \n",
       "    <div style='text-align: center; border: 1px solid #ddd; padding: 5px;'>\n",
       "        <img src=\"data:image/jpeg;base64,/9j/4AAQSkZJRgABAQAAAQABAAD/2wBDAAoHBwgHBgoICAgLCgoLDhgQDg0NDh0VFhEYIx8lJCIfIiEmKzcvJik0KSEiMEExNDk7Pj4+JS5ESUM8SDc9Pjv/2wBDAQoLCw4NDhwQEBw7KCIoOzs7Ozs7Ozs7Ozs7Ozs7Ozs7Ozs7Ozs7Ozs7Ozs7Ozs7Ozs7Ozs7Ozs7Ozs7Ozs7Ozv/wAARCABxACwDASIAAhEBAxEB/8QAHwAAAQUBAQEBAQEAAAAAAAAAAAECAwQFBgcICQoL/8QAtRAAAgEDAwIEAwUFBAQAAAF9AQIDAAQRBRIhMUEGE1FhByJxFDKBkaEII0KxwRVS0fAkM2JyggkKFhcYGRolJicoKSo0NTY3ODk6Q0RFRkdISUpTVFVWV1hZWmNkZWZnaGlqc3R1dnd4eXqDhIWGh4iJipKTlJWWl5iZmqKjpKWmp6ipqrKztLW2t7i5usLDxMXGx8jJytLT1NXW19jZ2uHi4+Tl5ufo6erx8vP09fb3+Pn6/8QAHwEAAwEBAQEBAQEBAQAAAAAAAAECAwQFBgcICQoL/8QAtREAAgECBAQDBAcFBAQAAQJ3AAECAxEEBSExBhJBUQdhcRMiMoEIFEKRobHBCSMzUvAVYnLRChYkNOEl8RcYGRomJygpKjU2Nzg5OkNERUZHSElKU1RVVldYWVpjZGVmZ2hpanN0dXZ3eHl6goOEhYaHiImKkpOUlZaXmJmaoqOkpaanqKmqsrO0tba3uLm6wsPExcbHyMnK0tPU1dbX2Nna4uPk5ebn6Onq8vP09fb3+Pn6/9oADAMBAAIRAxEAPwCjoOsSatNczTnEjyFguegNdNCeOa81nabQNXlERP7iZkwe654z+Fd5o2qQ6laiWM/Ve4rnnGzOqnJNGoentTc4HFHLcVU1DUItPtmllOAOg9TWZqmR6lcx2sDSyEKAM81w0UNzqLTXKEhWlbHP4/1qPVtXm1W4JZtsIPC0lhdXscLJbjCB/QHnArenC2rOarUvojY8e6cYL37Yn3J8bv8AeHH+Fc/o+qz6XcrNGcr/ABL/AHq9D8Z2gudClYdYiHH8v615cOCQR0q7XWpkm09D1Gz12zu7Xz1kCgDJBPSuL1/VzqV4wRsQocL71ih3TIDEA9QD1oz2qI07O5pKo2rEqjLCvQfCekQHRFlmj3NLIz/QdP6V59HyRXq3hoFNAte2VJ/U1ozIn1SH7TptxFjO+Mgfka8dkG2Ug17U3IryLxBbfZNauIsYCuSPoaENlBhinA47UhP8qcKYiSIZYfWvW9FXGi2Y/wCmS15NAPmHtXrei4Oi2Z/6Yr/Kkxlg15349thHqizAf6yMZ/DP+Fei1x/jxIyLTccMwYflikgZwY6e9KvI6UFdjEelOjHBNUImhHP869c0yMxaXaR/3YUH6CvJIztU+pHWvYbPIs4cnJ2Ln8qTGL2rhvHFwtxqEMCN/wAe6Et7M3b8gPzrud3Feb+Lbfytan+ckyYfn0NJAc7JjzMKc460K46A00naxxxQRg1QixbJ5k6L6nHNeyxqEiVR2AFePWmFYN1NeuW8u+3jcZYMoORSYxrN1rg/F+2TVxxhljCn36mu4dgAea5TxZCjRJchTvU7SfakgOJnjUS5yaTOSBRO++bApx4APpVCL1qiBhmurstYls7cRK5C5yB6Vx8Em4DFbluslxArJGWCjaT70hnduowaxdetRPpsyjqFyPwrfkiyKoXUG5CCOtSB5MIz5pzUpTd8o547Vc1eyfT7+SPGVJypPpVWMyq24KMVdxE+lWxnu0iHUnHNekWNoltarGowOvSuW8Jac80pvJBwDhfrXcRwnYOKlsCy3Sqk3eiikUcN4v8A9en41jRf6o0UU2JbndeF/wDkFR10i/doooYlsf/Z\" style=\"max-width:none\">\n",
       "        <br>\n",
       "        <small>Index: 23</small><br>\n",
       "        <small>Distance: 0.2714</small><br>\n",
       "        <small>Hash: 47a443dd5c7d6a6a5bbd9c7c98e1ff7c</small>\n",
       "        <small>(Mask)</small>\n",
       "    </div>\n",
       "    \n",
       "    <div style='text-align: center; border: 1px solid #ddd; padding: 5px;'>\n",
       "        <img src=\"data:image/jpeg;base64,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\" style=\"max-width:none\">\n",
       "        <br>\n",
       "        <small>Index: 24</small><br>\n",
       "        <small>Distance: 0.2715</small><br>\n",
       "        <small>Hash: c0b85a444c7ba00d5a1ad0b21df83e0f</small>\n",
       "        <small>(Mask)</small>\n",
       "    </div>\n",
       "    \n",
       "    <div style='text-align: center; border: 1px solid #ddd; padding: 5px;'>\n",
       "        <img src=\"data:image/jpeg;base64,/9j/4AAQSkZJRgABAQAAAQABAAD/2wBDAAoHBwgHBgoICAgLCgoLDhgQDg0NDh0VFhEYIx8lJCIfIiEmKzcvJik0KSEiMEExNDk7Pj4+JS5ESUM8SDc9Pjv/2wBDAQoLCw4NDhwQEBw7KCIoOzs7Ozs7Ozs7Ozs7Ozs7Ozs7Ozs7Ozs7Ozs7Ozs7Ozs7Ozs7Ozs7Ozs7Ozs7Ozs7Ozv/wAARCACAAC4DASIAAhEBAxEB/8QAHwAAAQUBAQEBAQEAAAAAAAAAAAECAwQFBgcICQoL/8QAtRAAAgEDAwIEAwUFBAQAAAF9AQIDAAQRBRIhMUEGE1FhByJxFDKBkaEII0KxwRVS0fAkM2JyggkKFhcYGRolJicoKSo0NTY3ODk6Q0RFRkdISUpTVFVWV1hZWmNkZWZnaGlqc3R1dnd4eXqDhIWGh4iJipKTlJWWl5iZmqKjpKWmp6ipqrKztLW2t7i5usLDxMXGx8jJytLT1NXW19jZ2uHi4+Tl5ufo6erx8vP09fb3+Pn6/8QAHwEAAwEBAQEBAQEBAQAAAAAAAAECAwQFBgcICQoL/8QAtREAAgECBAQDBAcFBAQAAQJ3AAECAxEEBSExBhJBUQdhcRMiMoEIFEKRobHBCSMzUvAVYnLRChYkNOEl8RcYGRomJygpKjU2Nzg5OkNERUZHSElKU1RVVldYWVpjZGVmZ2hpanN0dXZ3eHl6goOEhYaHiImKkpOUlZaXmJmaoqOkpaanqKmqsrO0tba3uLm6wsPExcbHyMnK0tPU1dbX2Nna4uPk5ebn6Onq8vP09fb3+Pn6/9oADAMBAAIRAxEAPwDh5bibTrhRz33ZPvWzbavDcqoDkN3DVV8aWRstYkXHymRmH0PIrCiLIQy9qzlTUjenWlBnbxy/Kcmq13cbISfSqWnXxlhIJ+YVBqc+YiAeTXNyNOzO51E43Qvhuec+JrWSNiD9oVevYnn9K9sP615L4FsfO1y3cjiImQn6DA/UivWgRXZayPMbu7nmnxNtgLu2kx99CD9Qf/r1wUZxwa9L+J6f6NYvj+Jxn8Aa80XrTJZagkML5U8GprmQPj37VUBqQHLCk4pu5am0rHpHw7tQljNOR8zNgH6Cu1ziub8Dx+X4ejbH33Y/rXR5oJRxnxLXOkWrek39DXlo+ViPevVviN/yBIAf+ew/lXlUoIkNMGSjp7U9R8wqJGyMVNGMyKKBHr/hBSnhm0B7gn9TW1mszQIzDoVnGe0QP581o0ho434kybdLtQehlP8AKvM5hnB9q9O+JEayaFCxbDLONvvwc15g/I9hTQmJGauWy5nSqQ6ir1lg3cQP94UAe1WS7LGBemI1GPwqxmoo/wDVrj0FPzSGcT8S3Y2NomeC7H9K83VsjFemfEaLfpME3/POUg/iP/rV5hkq9NCZIvXmp4HKTox7MKZDGZGwBT5U2Yz60CPbrWQS2sUinIZAf0qcGszw5J53h6xcnnyVB/DitMUijlPHci/2OkTfxyDH+fxry2RdspB6g9K9Q8cwmTSI5P8AnnIM/jXnF5FtYtQhMktCE57mi7UgZbpVeM4xg81K7s0eGOaYHqPgefzfDMC5B8tiv9a6HdXnfw81MxXUunSN8so3pn+8Ov6fyr0LoKRRQ1K3ivLKW2lGVdcfSvKNWtXsw8MgO5G28+navW5gTXHeMtPEmnmdV+ZDyaYjhY2Gwcc1ICGUg1FEQFxUoUHpQIs6fdNYXsF1GcGNw34d69ktblLq2juI2ykihgfrXiyQs3Q13ngnVQtrJYXLgeUNyE+npSHude8ea5rxcGj0SU4zuIB9q6vbVe8sYb23eCZdyOMEUAeGSDy3O3p7UqPjkGus1zwLd2jtJZfv4vQdRXLy2csD7ZY3jPoy1VibotWlwp4bjNacD+SPMU4J449Kw4YxsbIJIHBroNE0yfU49oBwg9KRR//Z\" style=\"max-width:none\">\n",
       "        <br>\n",
       "        <small>Index: 25</small><br>\n",
       "        <small>Distance: 0.2749</small><br>\n",
       "        <small>Hash: 86012f76dc337c35cd1ece9718676001</small>\n",
       "        <small>(Mask)</small>\n",
       "    </div>\n",
       "    \n",
       "    <div style='text-align: center; border: 1px solid #ddd; padding: 5px;'>\n",
       "        <img src=\"data:image/jpeg;base64,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\" style=\"max-width:none\">\n",
       "        <br>\n",
       "        <small>Index: 26</small><br>\n",
       "        <small>Distance: 0.2766</small><br>\n",
       "        <small>Hash: a23a163639091a09f981ddab860bc662</small>\n",
       "        <small>(Mask)</small>\n",
       "    </div>\n",
       "    \n",
       "    <div style='text-align: center; border: 1px solid #ddd; padding: 5px;'>\n",
       "        <img src=\"data:image/jpeg;base64,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\" style=\"max-width:none\">\n",
       "        <br>\n",
       "        <small>Index: 27</small><br>\n",
       "        <small>Distance: 0.2774</small><br>\n",
       "        <small>Hash: 9acaae3f985bd4c3adedad04f2503a3b</small>\n",
       "        <small>(Mask)</small>\n",
       "    </div>\n",
       "    \n",
       "    <div style='text-align: center; border: 1px solid #ddd; padding: 5px;'>\n",
       "        <img src=\"data:image/jpeg;base64,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\" style=\"max-width:none\">\n",
       "        <br>\n",
       "        <small>Index: 28</small><br>\n",
       "        <small>Distance: 0.2810</small><br>\n",
       "        <small>Hash: 16c4d52cb5e9c91c1113106fdb15e78b</small>\n",
       "        <small>(Mask)</small>\n",
       "    </div>\n",
       "    \n",
       "    <div style='text-align: center; border: 1px solid #ddd; padding: 5px;'>\n",
       "        <img src=\"data:image/jpeg;base64,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\" style=\"max-width:none\">\n",
       "        <br>\n",
       "        <small>Index: 29</small><br>\n",
       "        <small>Distance: 0.2849</small><br>\n",
       "        <small>Hash: c7bc45d144c1a402be5941fabdcb3e8f</small>\n",
       "        <small>(Mask)</small>\n",
       "    </div>\n",
       "    \n",
       "    <div style='text-align: center; border: 1px solid #ddd; padding: 5px;'>\n",
       "        <img src=\"data:image/jpeg;base64,/9j/4AAQSkZJRgABAQAAAQABAAD/2wBDAAoHBwgHBgoICAgLCgoLDhgQDg0NDh0VFhEYIx8lJCIfIiEmKzcvJik0KSEiMEExNDk7Pj4+JS5ESUM8SDc9Pjv/2wBDAQoLCw4NDhwQEBw7KCIoOzs7Ozs7Ozs7Ozs7Ozs7Ozs7Ozs7Ozs7Ozs7Ozs7Ozs7Ozs7Ozs7Ozs7Ozs7Ozs7Ozv/wAARCABFACkDASIAAhEBAxEB/8QAHwAAAQUBAQEBAQEAAAAAAAAAAAECAwQFBgcICQoL/8QAtRAAAgEDAwIEAwUFBAQAAAF9AQIDAAQRBRIhMUEGE1FhByJxFDKBkaEII0KxwRVS0fAkM2JyggkKFhcYGRolJicoKSo0NTY3ODk6Q0RFRkdISUpTVFVWV1hZWmNkZWZnaGlqc3R1dnd4eXqDhIWGh4iJipKTlJWWl5iZmqKjpKWmp6ipqrKztLW2t7i5usLDxMXGx8jJytLT1NXW19jZ2uHi4+Tl5ufo6erx8vP09fb3+Pn6/8QAHwEAAwEBAQEBAQEBAQAAAAAAAAECAwQFBgcICQoL/8QAtREAAgECBAQDBAcFBAQAAQJ3AAECAxEEBSExBhJBUQdhcRMiMoEIFEKRobHBCSMzUvAVYnLRChYkNOEl8RcYGRomJygpKjU2Nzg5OkNERUZHSElKU1RVVldYWVpjZGVmZ2hpanN0dXZ3eHl6goOEhYaHiImKkpOUlZaXmJmaoqOkpaanqKmqsrO0tba3uLm6wsPExcbHyMnK0tPU1dbX2Nna4uPk5ebn6Onq8vP09fb3+Pn6/9oADAMBAAIRAxEAPwDktLvm07VZPtLH97IyOSckNmuzhlSQhlbIPSuW8Z6d9i1+8G3Ec0nnJjtu6/rmotA1treVba4b5M4VjXPVp31R2Yeql7rO6UnFI7DBz2qNJl8rOfxrnvEWtmJTbQN8x6nuKwim3ZHVOSirsqeINY82Y2ds3BPzMO1YXlJ6L+dJZQyXN4FQFnc4X3J6V6F/wg9v6j867IRUUedOo5u4vxHsQ1nDeDOUbYceh5H9a8yb5T9D1Fey+N4PN8NznH3CG/X/AOvXjkqkEgVZkbFp4ouIbPyGG9xwrHtWTNM80rSOSSTnJqBT8w45qV8ntUqKWqLlUlJWbOh8CwLP4ig3jIXLYPqAcV69t9lryz4dxbtfU/3Y2P6Y/rXq+0etMkzvEEP2jQryPGcxk/lz/SvELhdkjCvfJ4xLA6HowINeHanCYbyWMjlWIpoRnBRuGakbgUx/vCnNwOaAO3+GkYOqTSf3Yv5kV6Zkeorz34Yp815JjoFH8/8ACvQcCkMD0rx3xXAI9eu1HTzDXsNeVeOY/L8QznH3grfmKYHJOOlOPTmnSAEdRUbdhQI9I+GK/wCi3rf7SD9DXd8eorzr4Y3W2e6tGH30Dj8P/wBdeh8elIY7GK8y+ISL/banHJjXP5UUUIDi3QA8VEWbzOveiiqJOt+H+4eKYvmP+rfI/CvV9xooqWUf/9k=\" style=\"max-width:none\">\n",
       "        <br>\n",
       "        <small>Index: 30</small><br>\n",
       "        <small>Distance: 0.2869</small><br>\n",
       "        <small>Hash: 4377af0a1156006bd6b977484bd72ae5</small>\n",
       "        <small>(Mask)</small>\n",
       "    </div>\n",
       "    \n",
       "    <div style='text-align: center; border: 1px solid #ddd; padding: 5px;'>\n",
       "        <img src=\"data:image/jpeg;base64,/9j/4AAQSkZJRgABAQAAAQABAAD/2wBDAAoHBwgHBgoICAgLCgoLDhgQDg0NDh0VFhEYIx8lJCIfIiEmKzcvJik0KSEiMEExNDk7Pj4+JS5ESUM8SDc9Pjv/2wBDAQoLCw4NDhwQEBw7KCIoOzs7Ozs7Ozs7Ozs7Ozs7Ozs7Ozs7Ozs7Ozs7Ozs7Ozs7Ozs7Ozs7Ozs7Ozs7Ozs7Ozv/wAARCAB0ACcDASIAAhEBAxEB/8QAHwAAAQUBAQEBAQEAAAAAAAAAAAECAwQFBgcICQoL/8QAtRAAAgEDAwIEAwUFBAQAAAF9AQIDAAQRBRIhMUEGE1FhByJxFDKBkaEII0KxwRVS0fAkM2JyggkKFhcYGRolJicoKSo0NTY3ODk6Q0RFRkdISUpTVFVWV1hZWmNkZWZnaGlqc3R1dnd4eXqDhIWGh4iJipKTlJWWl5iZmqKjpKWmp6ipqrKztLW2t7i5usLDxMXGx8jJytLT1NXW19jZ2uHi4+Tl5ufo6erx8vP09fb3+Pn6/8QAHwEAAwEBAQEBAQEBAQAAAAAAAAECAwQFBgcICQoL/8QAtREAAgECBAQDBAcFBAQAAQJ3AAECAxEEBSExBhJBUQdhcRMiMoEIFEKRobHBCSMzUvAVYnLRChYkNOEl8RcYGRomJygpKjU2Nzg5OkNERUZHSElKU1RVVldYWVpjZGVmZ2hpanN0dXZ3eHl6goOEhYaHiImKkpOUlZaXmJmaoqOkpaanqKmqsrO0tba3uLm6wsPExcbHyMnK0tPU1dbX2Nna4uPk5ebn6Onq8vP09fb3+Pn6/9oADAMBAAIRAxEAPwDzdLp4j8rsh9VY5q0uq3yci7nGBtBEh6elZ0iknpz7CnIGwF6++elFkx8zRof2vfgj/TLn5en71uPpzxTW1i/K+Ub25K+nmN/jVLKLk7sZ9elOLhIynlD5iCGz06/40uVFc8u5cile6B86RpDuwC5z2oqOzJdWCjnOaKom9yJyA7KO1MAGMZ69fp6VNOP37D1aotueT3pCJLb7KLlPtIdoScOIzggeo9x1/CnXlk1jOY94ZGG5HH3ZFPRhUaoM8U5txABJIUYUE5wMk8fnQBNpauZMNjr07dDRU2m5+0YHX2+hooGVbj/XMfUZ/wA/nTcAD8KtRW6TrcMxOY7YSLj13Kv9arH7tAhFFKaVR8tIaBlrS8m8A9v6GipNEAbUV+h7+xooY0isLh4VITGJofLbPpkHj3+UVF1WnOfkjP8Asn+dNXlTQJCgYFIRThTSaAL+gKW1NAvoe2exoo0IgapGTjGDyR7Gii40UpBiGP6Go0Oc1I+DAp9CRUSH5jQIlppFO6UzdlsUAX9F/wCQpF9D/I0U7QhnV4hjOQ3b/ZNFJjRQb/j2b1DCoI/vdau3LxzNdNEm2Nn3KvoM9Koofnpi2J2OBTI87iRQ54/CliHFAF3TJBDfxuTgAH+RoqCFisoI6+1FJgOVR5cmO4qljbLir8Q+Rx7Gqcq8BgOlUxCN2qVOBUXUipgMCkMVTzxRSZwRRQBaj+VmAHY/yp9jYw3MJ8wt17GiimISXT4IZyq7iArHk+nSr+p6ba28BaJCpB65JzRRQJGFJ/rCueM0UUUij//Z\" style=\"max-width:none\">\n",
       "        <br>\n",
       "        <small>Index: 31</small><br>\n",
       "        <small>Distance: 0.2903</small><br>\n",
       "        <small>Hash: 4f6c88d8181bca59445010efea459707</small>\n",
       "        <small>(Mask)</small>\n",
       "    </div>\n",
       "    \n",
       "    <div style='text-align: center; border: 1px solid #ddd; padding: 5px;'>\n",
       "        <img src=\"data:image/jpeg;base64,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\" style=\"max-width:none\">\n",
       "        <br>\n",
       "        <small>Index: 32</small><br>\n",
       "        <small>Distance: 0.2947</small><br>\n",
       "        <small>Hash: 770d70fa5f6a2a33d379a3d67db376d8</small>\n",
       "        <small>(Mask)</small>\n",
       "    </div>\n",
       "    \n",
       "    <div style='text-align: center; border: 1px solid #ddd; padding: 5px;'>\n",
       "        <img src=\"data:image/jpeg;base64,/9j/4AAQSkZJRgABAQAAAQABAAD/2wBDAAoHBwgHBgoICAgLCgoLDhgQDg0NDh0VFhEYIx8lJCIfIiEmKzcvJik0KSEiMEExNDk7Pj4+JS5ESUM8SDc9Pjv/2wBDAQoLCw4NDhwQEBw7KCIoOzs7Ozs7Ozs7Ozs7Ozs7Ozs7Ozs7Ozs7Ozs7Ozs7Ozs7Ozs7Ozs7Ozs7Ozs7Ozs7Ozv/wAARCABHAD8DASIAAhEBAxEB/8QAHwAAAQUBAQEBAQEAAAAAAAAAAAECAwQFBgcICQoL/8QAtRAAAgEDAwIEAwUFBAQAAAF9AQIDAAQRBRIhMUEGE1FhByJxFDKBkaEII0KxwRVS0fAkM2JyggkKFhcYGRolJicoKSo0NTY3ODk6Q0RFRkdISUpTVFVWV1hZWmNkZWZnaGlqc3R1dnd4eXqDhIWGh4iJipKTlJWWl5iZmqKjpKWmp6ipqrKztLW2t7i5usLDxMXGx8jJytLT1NXW19jZ2uHi4+Tl5ufo6erx8vP09fb3+Pn6/8QAHwEAAwEBAQEBAQEBAQAAAAAAAAECAwQFBgcICQoL/8QAtREAAgECBAQDBAcFBAQAAQJ3AAECAxEEBSExBhJBUQdhcRMiMoEIFEKRobHBCSMzUvAVYnLRChYkNOEl8RcYGRomJygpKjU2Nzg5OkNERUZHSElKU1RVVldYWVpjZGVmZ2hpanN0dXZ3eHl6goOEhYaHiImKkpOUlZaXmJmaoqOkpaanqKmqsrO0tba3uLm6wsPExcbHyMnK0tPU1dbX2Nna4uPk5ebn6Onq8vP09fb3+Pn6/9oADAMBAAIRAxEAPwDuJJFjRnbhVBJPsBmvKdQ8QT3/AIhgvJGPlpMPKT+6uf54r1K4USQOjchlIP4ivFbi3f8AtVbQHD+cIwT65xUs0ie+WvzQqd1Tnj0qpppP2RMnkDB+tW2xQSY3ie5+yaBezZwREQPxGP61x/gjxJLJKulXblwR+5c8n12n9fyroPH7lfCtwB3ZQfpkV5NHezWJWe2cpMhyjAZIPrQlqPoet6r4r0rR7qK1uZWaaQgFIxuK5OMn0rbB4FeT+D/Dt1f6quqaijlFfcPM5Mjdvwr1Yf5xVtWJUk9iocEEHuMV5Fq8Mcfim62kqY7rcOffNerSzpBC8srBUQZZm6AV47rF/HqGq3N7BkRySEiiOrB7Htmg38F5pySo4GRyCeQas3eq2Nkha4uUXHbPNeFJqd5AgMczKD2Bpz6hPNjfISfrT9nqHMrHa+NfE9vq+ntp9pnaWBL+uK5Hw+dSub42mmywxzMCSZcdvTI/lVQStu5P41TW/m0/Uor22yGhfd/ve1VyJbEuTZ6Gmn+NLQiWLUbeZh/CSOfzWrH9teNYl2PpMDn+8On6HFbWga1p/iCxWe2K+YFHmR/xIf8ACtU28Wc4qLrsV7y6/keca5q914nvRpGlHbbE/vJP7wrjVtZLZp1yGjjl8s+ueef0r2Ow0uy0xGW2hVMnJIHNeU6zZHTtWvI2kzmUt+f/AOuqjYTuUjI6ABQPxp4zkDGWNQhgWGCTipd/fPSrJGvMsZIJ57mo4l81mZhlSOM06ZEmU4G1qLZGjIDnpVEvzNnwQtxZ+LrPy5GMMu5XA6YwTz+VexBhgV5T4JBbxDDt6Lub9DXqQNYzWppF6FORtua8m8XsZPEl0f8Aa/pXq8ucHuK8x8ZW5i1x5COJFDCiO45bGFGCKZJ161IjKRTXHrWpixi7icZNSyyhVA6sOwqPcFH16YrV0HQLjWLoEjbEv35McYqGUjS8B208uuLc4ZY4kJz254xXqKHisvTNNh0+Bbe2Tao59z9a144zgZqG7lojljDDGK858daXcSalHOmCnl46+9FFIq1zkjaOHxvGaJIWC4NFFOM3ewpQSRe0LQpdWvlgRtqH7zE9BXrGn6VHZ2scKY2oAM4xmiiqkyYo0o4lXpUwxRRUFn//2Q==\" style=\"max-width:none\">\n",
       "        <br>\n",
       "        <small>Index: 33</small><br>\n",
       "        <small>Distance: 0.2951</small><br>\n",
       "        <small>Hash: 57674e993b8d4e0eb6aac9e1e07ce332</small>\n",
       "        <small>(Mask)</small>\n",
       "    </div>\n",
       "    \n",
       "    <div style='text-align: center; border: 1px solid #ddd; padding: 5px;'>\n",
       "        <img src=\"data:image/jpeg;base64,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\" style=\"max-width:none\">\n",
       "        <br>\n",
       "        <small>Index: 34</small><br>\n",
       "        <small>Distance: 0.2954</small><br>\n",
       "        <small>Hash: 929f6b4a5b568c407bdbe16d3854d5fb</small>\n",
       "        <small>(Mask)</small>\n",
       "    </div>\n",
       "    \n",
       "    <div style='text-align: center; border: 1px solid #ddd; padding: 5px;'>\n",
       "        <img src=\"data:image/jpeg;base64,/9j/4AAQSkZJRgABAQAAAQABAAD/2wBDAAoHBwgHBgoICAgLCgoLDhgQDg0NDh0VFhEYIx8lJCIfIiEmKzcvJik0KSEiMEExNDk7Pj4+JS5ESUM8SDc9Pjv/2wBDAQoLCw4NDhwQEBw7KCIoOzs7Ozs7Ozs7Ozs7Ozs7Ozs7Ozs7Ozs7Ozs7Ozs7Ozs7Ozs7Ozs7Ozs7Ozs7Ozs7Ozv/wAARCAAuACkDASIAAhEBAxEB/8QAHwAAAQUBAQEBAQEAAAAAAAAAAAECAwQFBgcICQoL/8QAtRAAAgEDAwIEAwUFBAQAAAF9AQIDAAQRBRIhMUEGE1FhByJxFDKBkaEII0KxwRVS0fAkM2JyggkKFhcYGRolJicoKSo0NTY3ODk6Q0RFRkdISUpTVFVWV1hZWmNkZWZnaGlqc3R1dnd4eXqDhIWGh4iJipKTlJWWl5iZmqKjpKWmp6ipqrKztLW2t7i5usLDxMXGx8jJytLT1NXW19jZ2uHi4+Tl5ufo6erx8vP09fb3+Pn6/8QAHwEAAwEBAQEBAQEBAQAAAAAAAAECAwQFBgcICQoL/8QAtREAAgECBAQDBAcFBAQAAQJ3AAECAxEEBSExBhJBUQdhcRMiMoEIFEKRobHBCSMzUvAVYnLRChYkNOEl8RcYGRomJygpKjU2Nzg5OkNERUZHSElKU1RVVldYWVpjZGVmZ2hpanN0dXZ3eHl6goOEhYaHiImKkpOUlZaXmJmaoqOkpaanqKmqsrO0tba3uLm6wsPExcbHyMnK0tPU1dbX2Nna4uPk5ebn6Onq8vP09fb3+Pn6/9oADAMBAAIRAxEAPwDywdaeKjWpBQUIaSlNIBk0CLNizJdxspwQ3WvRf+EuvP7x/OuAtIljbfJ2xV3zpfU/nQBhYIPIxTx0q/q8aNqM7xAKrSNjHTrVEIQKAGmp7SAyPuIyqnmo1j3HHStK3jZzFaw8NIwVeOpJxQAtvbSX17HZWyGSWRscDpXov/CDW3qa1PDvhm10eBNkamYj5pCMmt3yB6fpT2Fqz5+aQrM6socbjkGk2257OvYDNdr4q8FLZ6j9otJlW3mO4o2cqc849q4yW12SyKGyEPU+lKzC6DdDGwMals8jdXR+BtMk1LxDFMwJitsSMf5D86xLHTJr6eONHRd7YBbPFeyeGPD0GhaeIY23yOd0kmMFvai3cLq9ka0ZI7VJu9qcFFLsFAz/2Q==\" style=\"max-width:none\">\n",
       "        <br>\n",
       "        <small>Index: 35</small><br>\n",
       "        <small>Distance: 0.2965</small><br>\n",
       "        <small>Hash: 682701edab87aefd2c4cb934821f36f8</small>\n",
       "        <small>(Mask)</small>\n",
       "    </div>\n",
       "    \n",
       "    <div style='text-align: center; border: 1px solid #ddd; padding: 5px;'>\n",
       "        <img src=\"data:image/jpeg;base64,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\" style=\"max-width:none\">\n",
       "        <br>\n",
       "        <small>Index: 36</small><br>\n",
       "        <small>Distance: 0.2966</small><br>\n",
       "        <small>Hash: b1f86cae559e8368b6c65a13c58297e1</small>\n",
       "        <small>(Mask)</small>\n",
       "    </div>\n",
       "    \n",
       "    <div style='text-align: center; border: 1px solid #ddd; padding: 5px;'>\n",
       "        <img src=\"data:image/jpeg;base64,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\" style=\"max-width:none\">\n",
       "        <br>\n",
       "        <small>Index: 37</small><br>\n",
       "        <small>Distance: 0.2978</small><br>\n",
       "        <small>Hash: 994dba056e91aa6f1f1b80ddfe236b08</small>\n",
       "        <small>(Mask)</small>\n",
       "    </div>\n",
       "    \n",
       "    <div style='text-align: center; border: 1px solid #ddd; padding: 5px;'>\n",
       "        <img src=\"data:image/jpeg;base64,/9j/4AAQSkZJRgABAQAAAQABAAD/2wBDAAoHBwgHBgoICAgLCgoLDhgQDg0NDh0VFhEYIx8lJCIfIiEmKzcvJik0KSEiMEExNDk7Pj4+JS5ESUM8SDc9Pjv/2wBDAQoLCw4NDhwQEBw7KCIoOzs7Ozs7Ozs7Ozs7Ozs7Ozs7Ozs7Ozs7Ozs7Ozs7Ozs7Ozs7Ozs7Ozs7Ozs7Ozs7Ozv/wAARCABUAC0DASIAAhEBAxEB/8QAHwAAAQUBAQEBAQEAAAAAAAAAAAECAwQFBgcICQoL/8QAtRAAAgEDAwIEAwUFBAQAAAF9AQIDAAQRBRIhMUEGE1FhByJxFDKBkaEII0KxwRVS0fAkM2JyggkKFhcYGRolJicoKSo0NTY3ODk6Q0RFRkdISUpTVFVWV1hZWmNkZWZnaGlqc3R1dnd4eXqDhIWGh4iJipKTlJWWl5iZmqKjpKWmp6ipqrKztLW2t7i5usLDxMXGx8jJytLT1NXW19jZ2uHi4+Tl5ufo6erx8vP09fb3+Pn6/8QAHwEAAwEBAQEBAQEBAQAAAAAAAAECAwQFBgcICQoL/8QAtREAAgECBAQDBAcFBAQAAQJ3AAECAxEEBSExBhJBUQdhcRMiMoEIFEKRobHBCSMzUvAVYnLRChYkNOEl8RcYGRomJygpKjU2Nzg5OkNERUZHSElKU1RVVldYWVpjZGVmZ2hpanN0dXZ3eHl6goOEhYaHiImKkpOUlZaXmJmaoqOkpaanqKmqsrO0tba3uLm6wsPExcbHyMnK0tPU1dbX2Nna4uPk5ebn6Onq8vP09fb3+Pn6/9oADAMBAAIRAxEAPwDzUf6wt7UeY2/IJUA5yDg5qsZcnGTUytuXB60AezfD3xUus6cNPuZc3lsuAT1kTsfw6Guyz6V85aFq0+jatFe27kPE+SPUdCPyr6D02+h1PT4L2A5jmQMPb1H4UwLWaKSjFIZ8up1qZTzUMdSA80CHkbX3Doa9Q+FGvZE2izPz/rYMn/vof1/OvMV5BBq7oupSaPq1vfREhoH3YHcdx+VAH0ZS1DaXUV7Zw3ULAxTIHQjuDzUtAz5dSndDTejEU4nigRMh5p7D5gw/GoozUq/MpFAHrnwt1o3mkS6ZI2ZLQ5jyf4D/AIH+Yru68H8D6udH8T2szPtjkbypTn+FuP0ODXvHSmCPl9xhqQ9KdIOaTtSAdFUynBqCLrUooAkOUlDA9ele9+ENW/tnw1aXRbdKF8uX/eXg/n1/GvBMFk9xXYeCvGC+HrW6gly0crq6exwc/wBKaA4hxkU3insCaZxSGIn3qmU1Cv3qmBoESxnBq/pjWMZlF5aNcdNm04x1z/T8qzh14r0X4f6xa2GmXEF5p5l/eBkkWLJIxyCcdqaBnmxFWILWOW38xic5I4oopIGV3QLJgVq6BpsGp6glvOXCE8lDg0UVSEz1bTfB2h6coaOyWVxzvm+Y/wCFdJbBYo9qIqr6AUUUmOOx/9k=\" style=\"max-width:none\">\n",
       "        <br>\n",
       "        <small>Index: 38</small><br>\n",
       "        <small>Distance: 0.2989</small><br>\n",
       "        <small>Hash: 08b1dcd31baf3e12b193a6b3934257c5</small>\n",
       "        <small>(Mask)</small>\n",
       "    </div>\n",
       "    \n",
       "    <div style='text-align: center; border: 1px solid #ddd; padding: 5px;'>\n",
       "        <img src=\"data:image/jpeg;base64,/9j/4AAQSkZJRgABAQAAAQABAAD/2wBDAAoHBwgHBgoICAgLCgoLDhgQDg0NDh0VFhEYIx8lJCIfIiEmKzcvJik0KSEiMEExNDk7Pj4+JS5ESUM8SDc9Pjv/2wBDAQoLCw4NDhwQEBw7KCIoOzs7Ozs7Ozs7Ozs7Ozs7Ozs7Ozs7Ozs7Ozs7Ozs7Ozs7Ozs7Ozs7Ozs7Ozs7Ozs7Ozv/wAARCABQADUDASIAAhEBAxEB/8QAHwAAAQUBAQEBAQEAAAAAAAAAAAECAwQFBgcICQoL/8QAtRAAAgEDAwIEAwUFBAQAAAF9AQIDAAQRBRIhMUEGE1FhByJxFDKBkaEII0KxwRVS0fAkM2JyggkKFhcYGRolJicoKSo0NTY3ODk6Q0RFRkdISUpTVFVWV1hZWmNkZWZnaGlqc3R1dnd4eXqDhIWGh4iJipKTlJWWl5iZmqKjpKWmp6ipqrKztLW2t7i5usLDxMXGx8jJytLT1NXW19jZ2uHi4+Tl5ufo6erx8vP09fb3+Pn6/8QAHwEAAwEBAQEBAQEBAQAAAAAAAAECAwQFBgcICQoL/8QAtREAAgECBAQDBAcFBAQAAQJ3AAECAxEEBSExBhJBUQdhcRMiMoEIFEKRobHBCSMzUvAVYnLRChYkNOEl8RcYGRomJygpKjU2Nzg5OkNERUZHSElKU1RVVldYWVpjZGVmZ2hpanN0dXZ3eHl6goOEhYaHiImKkpOUlZaXmJmaoqOkpaanqKmqsrO0tba3uLm6wsPExcbHyMnK0tPU1dbX2Nna4uPk5ebn6Onq8vP09fb3+Pn6/9oADAMBAAIRAxEAPwD0OlpMUuKYw70UZqK5uYrS2kuJ3CRRqWZj2FAyh4g1628P6a11PhnPEUfd2/w9a8b1nWb3XLt7i7lLMT8qjhUHoBU/ijxDL4g1V7gkiFTthQn7q/41hSS4BxSAaeCQaKgEhJOTRSuKx9LZopKKoBwOK82+JPiXdINEtZPlU5uCO57L9P8AEV2PijXY/D+iy3RIMzfJCp7sf6DrXhtxcSXE7zSuXeRizMe5NADGbP8A9eq8zU92wKgY5NIACFuaKsRodgopBY+j6XgA54FJXKfEHxB/ZGj/AGSB8XV2CoweVXuf6VQHB+OfEP8AbmtOsT5trfMcXofVvx/liuYY96UkZ61ExpANduabGC8gFIeTU9qgXc5oAscLxRUTtlvSilYLn0XNMlvC80rBERSzMewHWvCfEutSa7rU16xIjztiU/woOn+feu7+JniH7NbLo1u5Ek2Gnx2XsPxry4mm2A1jg81GxFOY0xqBDQCT9auY8uIKKrwJulGeg61LM3NAyNm5ophJzRQI2/EY1E63cyapE0dyz5YHsO2Pb0rJY179q+i6drNt5V9brJj7rfxL9DXnGs/DieF2fTLlZk5xHJw359D+OKegHCmm8E1dvtJv7CQrd2skJH95cA/iOKpqpZgoHJpATwjZCWPVqidsk1PLhRtHQcVWagbG0UlFAj//2Q==\" style=\"max-width:none\">\n",
       "        <br>\n",
       "        <small>Index: 39</small><br>\n",
       "        <small>Distance: 0.2993</small><br>\n",
       "        <small>Hash: 613b35e69c4647f6354d8a763b51a249</small>\n",
       "        <small>(Mask)</small>\n",
       "    </div>\n",
       "    \n",
       "    <div style='text-align: center; border: 1px solid #ddd; padding: 5px;'>\n",
       "        <img src=\"data:image/jpeg;base64,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\" style=\"max-width:none\">\n",
       "        <br>\n",
       "        <small>Index: 40</small><br>\n",
       "        <small>Distance: 0.2996</small><br>\n",
       "        <small>Hash: e784be862f741b105749bbc46fab2173</small>\n",
       "        <small>(Mask)</small>\n",
       "    </div>\n",
       "    \n",
       "    <div style='text-align: center; border: 1px solid #ddd; padding: 5px;'>\n",
       "        <img src=\"data:image/jpeg;base64,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\" style=\"max-width:none\">\n",
       "        <br>\n",
       "        <small>Index: 41</small><br>\n",
       "        <small>Distance: 0.3015</small><br>\n",
       "        <small>Hash: 5c39ba5d3b2da8d9b2f73446c1a7ce7d</small>\n",
       "        <small>(Mask)</small>\n",
       "    </div>\n",
       "    \n",
       "    <div style='text-align: center; border: 1px solid #ddd; padding: 5px;'>\n",
       "        <img src=\"data:image/jpeg;base64,/9j/4AAQSkZJRgABAQAAAQABAAD/2wBDAAoHBwgHBgoICAgLCgoLDhgQDg0NDh0VFhEYIx8lJCIfIiEmKzcvJik0KSEiMEExNDk7Pj4+JS5ESUM8SDc9Pjv/2wBDAQoLCw4NDhwQEBw7KCIoOzs7Ozs7Ozs7Ozs7Ozs7Ozs7Ozs7Ozs7Ozs7Ozs7Ozs7Ozs7Ozs7Ozs7Ozs7Ozs7Ozv/wAARCACEACwDASIAAhEBAxEB/8QAHwAAAQUBAQEBAQEAAAAAAAAAAAECAwQFBgcICQoL/8QAtRAAAgEDAwIEAwUFBAQAAAF9AQIDAAQRBRIhMUEGE1FhByJxFDKBkaEII0KxwRVS0fAkM2JyggkKFhcYGRolJicoKSo0NTY3ODk6Q0RFRkdISUpTVFVWV1hZWmNkZWZnaGlqc3R1dnd4eXqDhIWGh4iJipKTlJWWl5iZmqKjpKWmp6ipqrKztLW2t7i5usLDxMXGx8jJytLT1NXW19jZ2uHi4+Tl5ufo6erx8vP09fb3+Pn6/8QAHwEAAwEBAQEBAQEBAQAAAAAAAAECAwQFBgcICQoL/8QAtREAAgECBAQDBAcFBAQAAQJ3AAECAxEEBSExBhJBUQdhcRMiMoEIFEKRobHBCSMzUvAVYnLRChYkNOEl8RcYGRomJygpKjU2Nzg5OkNERUZHSElKU1RVVldYWVpjZGVmZ2hpanN0dXZ3eHl6goOEhYaHiImKkpOUlZaXmJmaoqOkpaanqKmqsrO0tba3uLm6wsPExcbHyMnK0tPU1dbX2Nna4uPk5ebn6Onq8vP09fb3+Pn6/9oADAMBAAIRAxEAPwDk4rhtI1+5tpztAYqfz4roWnWRVKke1Ynjy08jXxLji4iBJ9xwf5CszTdSkhxBIxKjofSspxvqjenPoz0CzIKj3q0+O1Z2lyCW2RgadqupR2Fq0jYz29zWJvcoa3qMdjbklvnYHaK5G1dpo2dkLHcckVHd3ct9cNPKxJPQeldr4L0eKbQBPKikyysy59OB/St4R5Uc058z0JPH1iJ7GK6GN8Lkfgf8ivOgdrZHUV6x4ohM2gXGOSoDfka8omGH4q0ZHX+GtSUWpjY4K+prL8Q6mb268pD+7T9TWNE7J91iv0NKTz1qVCzuaupeNiSIbmxXq/h+BYdCs0XOBEvT6ZryqE4YGvXNK3JpNoAP+WK/yqmZi38P2ixnhxnehA+pFeO3SbJmU8DNe0N0NeUeJLX7Nq1xHjA3kj6HkfpQgMpeDT6Yp6U80xE0HMgA9a9hs08uzhT+7GB+leQ2Kb7lF9WAr2NBhQKTAYTXm3jORJNamVRzGFDfXFekEjFeVa/Ju16+J7zMPy4pIZjjhql75NRk8ipQeaoRe0rB1K2GOPMX+devYzXkWkAtqlqPWZf5166DxUsaIeoryfxIQniG9A7zMa9XFeS+Js/8JBeE/wDPU/zpoDNz82akB9ajHWpduBmmIvaVIsWo28rfdSRWP5165knkYrxu2bbIM169aSeZZwuOcopz+FJjQ4mvMfF9vs8QXDYwGIb8wK9KY964XxvHi9WT+9GP50IGcvAoL81bmhCqCR16VTjyOlWhMzIVP3fSmIij4kC165YjFhABkDy1/kK8iUEOD716xpEwn0q2kHeMD8hikwJZGwK4PxpP5l8sY/hQZ/M13k2MGvPfGA26z7NGDSQzBTAqUMMdKYABSjmqEOJruvDGqJFo6xyNyjkD6VwZz36VpWUsiQFVzjd2pDPS5gcdK878Xvv1bIHKKFP8/wCteluuRXC+MdJkS6+2ov7uXAb2NJAcmSSoNOTk0xlaI4xnNP2NGdvrzVCHt6CrUEjRx7Qe9QwW8k0qxRqXdjgD1r0LSfCcENgi3Kb5Ty3t7UhnQFR0qte28U9u8cihlI5BooqUDPNdYsobS62RZCk9CazgoaQA0UVQlseg+FNKtIbcXKx5lI+83NdSAMdKKKTBH//Z\" style=\"max-width:none\">\n",
       "        <br>\n",
       "        <small>Index: 42</small><br>\n",
       "        <small>Distance: 0.3030</small><br>\n",
       "        <small>Hash: abc875443fab59e7054ea3aa372460bd</small>\n",
       "        <small>(Mask)</small>\n",
       "    </div>\n",
       "    \n",
       "    <div style='text-align: center; border: 1px solid #ddd; padding: 5px;'>\n",
       "        <img src=\"data:image/jpeg;base64,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\" style=\"max-width:none\">\n",
       "        <br>\n",
       "        <small>Index: 43</small><br>\n",
       "        <small>Distance: 0.3033</small><br>\n",
       "        <small>Hash: ae333b7e321ca8f8718f1644c89f03d0</small>\n",
       "        <small>(Mask)</small>\n",
       "    </div>\n",
       "    \n",
       "    <div style='text-align: center; border: 1px solid #ddd; padding: 5px;'>\n",
       "        <img src=\"data:image/jpeg;base64,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\" style=\"max-width:none\">\n",
       "        <br>\n",
       "        <small>Index: 44</small><br>\n",
       "        <small>Distance: 0.3034</small><br>\n",
       "        <small>Hash: cac789ce349f0fdd707cb554e7b2fd4b</small>\n",
       "        <small>(Mask)</small>\n",
       "    </div>\n",
       "    \n",
       "    <div style='text-align: center; border: 1px solid #ddd; padding: 5px;'>\n",
       "        <img src=\"data:image/jpeg;base64,/9j/4AAQSkZJRgABAQAAAQABAAD/2wBDAAoHBwgHBgoICAgLCgoLDhgQDg0NDh0VFhEYIx8lJCIfIiEmKzcvJik0KSEiMEExNDk7Pj4+JS5ESUM8SDc9Pjv/2wBDAQoLCw4NDhwQEBw7KCIoOzs7Ozs7Ozs7Ozs7Ozs7Ozs7Ozs7Ozs7Ozs7Ozs7Ozs7Ozs7Ozs7Ozs7Ozs7Ozs7Ozv/wAARCAAsADcDASIAAhEBAxEB/8QAHwAAAQUBAQEBAQEAAAAAAAAAAAECAwQFBgcICQoL/8QAtRAAAgEDAwIEAwUFBAQAAAF9AQIDAAQRBRIhMUEGE1FhByJxFDKBkaEII0KxwRVS0fAkM2JyggkKFhcYGRolJicoKSo0NTY3ODk6Q0RFRkdISUpTVFVWV1hZWmNkZWZnaGlqc3R1dnd4eXqDhIWGh4iJipKTlJWWl5iZmqKjpKWmp6ipqrKztLW2t7i5usLDxMXGx8jJytLT1NXW19jZ2uHi4+Tl5ufo6erx8vP09fb3+Pn6/8QAHwEAAwEBAQEBAQEBAQAAAAAAAAECAwQFBgcICQoL/8QAtREAAgECBAQDBAcFBAQAAQJ3AAECAxEEBSExBhJBUQdhcRMiMoEIFEKRobHBCSMzUvAVYnLRChYkNOEl8RcYGRomJygpKjU2Nzg5OkNERUZHSElKU1RVVldYWVpjZGVmZ2hpanN0dXZ3eHl6goOEhYaHiImKkpOUlZaXmJmaoqOkpaanqKmqsrO0tba3uLm6wsPExcbHyMnK0tPU1dbX2Nna4uPk5ebn6Onq8vP09fb3+Pn6/9oADAMBAAIRAxEAPwDtyKikdY1Z2ICqMkntUrVx/jHXxBA9hbP8zcSEdfpUFHG65qcl/qs90rlVLHZj0HSktNY1G3jVhcHb7qKoHJ6/pRlj8uflFNxT3BSktjQuPEl5KpWTY4/3cH9KpLfyzSYKjn3qnO3zADirFshWPePvHhR61KhFdCnUl3LUTySzsi5wOgXvRXReGtCkjf7VdR4BHyq3U+9FVoRc7DxNrQ0q02xn99LwvsO5rzG7laZy7sSzHknvXVeLp45tRZs5EY2D6jrXIzyxqSScn0oArkY5NNLKRwBmmPIWbgdaQsRxxmmAyOFricIoySa7/RtAgt1jldN0gHU84/CuW0GIPqttGFzukG416jbWnTI4xSYWEt7XPJGaK0UiwABRSA8m1i6ku76Ubwqrzz3JrEZRuODmtbUYFivZlUkjcevPeqIjUvjnmqQXuQgHHAqxZWE15MI4Inlc9gOPxrq/DfhrTr6RWuFkf23cV3tnptnYxhLa3SIDjKjk0Mm99jmvC/hD+ziLu8wZyOF7LXWLGBxjFSBFB6U4KM9Kkqw0IB1op+BRQM//2Q==\" style=\"max-width:none\">\n",
       "        <br>\n",
       "        <small>Index: 45</small><br>\n",
       "        <small>Distance: 0.3036</small><br>\n",
       "        <small>Hash: df0c1515932d873a923766ad243cab80</small>\n",
       "        <small>(Mask)</small>\n",
       "    </div>\n",
       "    \n",
       "    <div style='text-align: center; border: 1px solid #ddd; padding: 5px;'>\n",
       "        <img src=\"data:image/jpeg;base64,/9j/4AAQSkZJRgABAQAAAQABAAD/2wBDAAoHBwgHBgoICAgLCgoLDhgQDg0NDh0VFhEYIx8lJCIfIiEmKzcvJik0KSEiMEExNDk7Pj4+JS5ESUM8SDc9Pjv/2wBDAQoLCw4NDhwQEBw7KCIoOzs7Ozs7Ozs7Ozs7Ozs7Ozs7Ozs7Ozs7Ozs7Ozs7Ozs7Ozs7Ozs7Ozs7Ozs7Ozs7Ozv/wAARCADSAD8DASIAAhEBAxEB/8QAHwAAAQUBAQEBAQEAAAAAAAAAAAECAwQFBgcICQoL/8QAtRAAAgEDAwIEAwUFBAQAAAF9AQIDAAQRBRIhMUEGE1FhByJxFDKBkaEII0KxwRVS0fAkM2JyggkKFhcYGRolJicoKSo0NTY3ODk6Q0RFRkdISUpTVFVWV1hZWmNkZWZnaGlqc3R1dnd4eXqDhIWGh4iJipKTlJWWl5iZmqKjpKWmp6ipqrKztLW2t7i5usLDxMXGx8jJytLT1NXW19jZ2uHi4+Tl5ufo6erx8vP09fb3+Pn6/8QAHwEAAwEBAQEBAQEBAQAAAAAAAAECAwQFBgcICQoL/8QAtREAAgECBAQDBAcFBAQAAQJ3AAECAxEEBSExBhJBUQdhcRMiMoEIFEKRobHBCSMzUvAVYnLRChYkNOEl8RcYGRomJygpKjU2Nzg5OkNERUZHSElKU1RVVldYWVpjZGVmZ2hpanN0dXZ3eHl6goOEhYaHiImKkpOUlZaXmJmaoqOkpaanqKmqsrO0tba3uLm6wsPExcbHyMnK0tPU1dbX2Nna4uPk5ebn6Onq8vP09fb3+Pn6/9oADAMBAAIRAxEAPwDzi5KpNyQN1R+9P1KLzIcjgqazRJND64/MVjUp3d0dlKvyxsy/S1VjvEbhxg+tWFZW5BBrFprc64zjLYWiijFIojnXco+taFlO0CfMCRiqMo+T8at2zKYgX6DrXXS+E83EL94STpujdPUVibyDtPbjmt+QHJrDvo/Lumx0PIq5IxTsROisNyD6iowzIcq2KcrEGhhk5FZlp9iaO8YDEgzVpJ0ccEfjWbQOOhxUOmmbwryWjNOXmImksnEshgd9gPINU47h1+VskGmsecrkVdNNKxnXmpyTR0bjjNZWqR5CyenFazD5ao3ieZA6gds1szAxqKKKzGA5FKBxTN22msxJpWKuSkqOM5ptWbRkSRQwBHfNRTrtndewJpxJk9Tpf4Dmqrjgj1qz2IxUMowM1oIwZk2TMvvTKt6gmJFf1GKqVDAaajNSnpUZ60hksb9D6VYWzuLhTKoBBbHWqanaa6DQJEkR4ZQCM5FNbiLXc1HKMrUmc0yTla0Az72PfAfVeay625V+XB71hyKUkYehqGArdKipx5FJUgJVyzuHhyUPPtVTFS2zbJvYimgOlTlBQRnIqO3YPCreoBqTPXirArSjnFZN8myXdj71bLj1rOv498ee60mBmZo5oFHaoGB4pynuKZ0qaziM1wsYOM5/lTEbWnvutE9hirX6Vn6W3+jlf7rGr/vVIGI44qlOuVIPpV48iqsw5oAwnUo5HpSVYvECybvWq2akBR71qaNbBroydkXP51lZro9BUfZnfIyTigZTsj5N1NCeucitHqKzroeTqSS9n4Jq+v3etUhD88dKgmHFSimuMigDKvE3RnjpzWdWxMOSDWTIu2QikwG1Zt3O0qGI+hqtU0B+akBralGXtg4HKnNS20vmQKw7jmpHXfCynvVHTWKq8RP3TVAaAoPIpM0vXrQBSuBis27TDBvWta6AArPuk3RZ9OaQFGnxNtfnpTDQOtIDp175rPRfJ1F17MMirw681UvR5dzDN74NUBa4JpwNR8nmnKeKAGXABWqcmGXbirsgytU3FAGU42sV9KQVNdLtkyO9QVIHS9ahv03WxI6rzUoPFK4Dx7T34pgRRtuRSO4zT81Xsz+62nqpIqx2pjFPNVZV+arNQyjnNAjPvF+UH0qma0bpcxGs41IHQocrT1IK+9QxnK08HBqgK0Z8u5lX3zVlvUGqtz8l2rjowxVhTkDPekMcD602QZFKeB0pp5B4pgVpBlSKzJF2uRWuwz2rOuVxLkdDSYjUhOe9SHg1UtJMqvrVpj0NMZBfLmIN3U5qSI5XNLMu+NlPcVFA/wC7GR2pAWPvdzSn0NMV26etPEbKAzED69aLjUW9iFlLNtAqjeL0x2rRdlJwowPXvVS4XdkGkDstEKnE7gf3jVtugoopoQN0qvb9PxNFFDKRaXhcjrTCTk80UUluXL4UNFQydTRRTMj/2Q==\" style=\"max-width:none\">\n",
       "        <br>\n",
       "        <small>Index: 46</small><br>\n",
       "        <small>Distance: 0.3040</small><br>\n",
       "        <small>Hash: 2269cd4e5b334ef217d7aa7dfd776f5b</small>\n",
       "        <small>(Mask)</small>\n",
       "    </div>\n",
       "    \n",
       "    <div style='text-align: center; border: 1px solid #ddd; padding: 5px;'>\n",
       "        <img src=\"data:image/jpeg;base64,/9j/4AAQSkZJRgABAQAAAQABAAD/2wBDAAoHBwgHBgoICAgLCgoLDhgQDg0NDh0VFhEYIx8lJCIfIiEmKzcvJik0KSEiMEExNDk7Pj4+JS5ESUM8SDc9Pjv/2wBDAQoLCw4NDhwQEBw7KCIoOzs7Ozs7Ozs7Ozs7Ozs7Ozs7Ozs7Ozs7Ozs7Ozs7Ozs7Ozs7Ozs7Ozs7Ozs7Ozs7Ozv/wAARCAAiAJYDASIAAhEBAxEB/8QAHwAAAQUBAQEBAQEAAAAAAAAAAAECAwQFBgcICQoL/8QAtRAAAgEDAwIEAwUFBAQAAAF9AQIDAAQRBRIhMUEGE1FhByJxFDKBkaEII0KxwRVS0fAkM2JyggkKFhcYGRolJicoKSo0NTY3ODk6Q0RFRkdISUpTVFVWV1hZWmNkZWZnaGlqc3R1dnd4eXqDhIWGh4iJipKTlJWWl5iZmqKjpKWmp6ipqrKztLW2t7i5usLDxMXGx8jJytLT1NXW19jZ2uHi4+Tl5ufo6erx8vP09fb3+Pn6/8QAHwEAAwEBAQEBAQEBAQAAAAAAAAECAwQFBgcICQoL/8QAtREAAgECBAQDBAcFBAQAAQJ3AAECAxEEBSExBhJBUQdhcRMiMoEIFEKRobHBCSMzUvAVYnLRChYkNOEl8RcYGRomJygpKjU2Nzg5OkNERUZHSElKU1RVVldYWVpjZGVmZ2hpanN0dXZ3eHl6goOEhYaHiImKkpOUlZaXmJmaoqOkpaanqKmqsrO0tba3uLm6wsPExcbHyMnK0tPU1dbX2Nna4uPk5ebn6Onq8vP09fb3+Pn6/9oADAMBAAIRAxEAPwD0fHtSgU7HvS7femMb+NA+tOC0u2gBvNJz60/HvRigBhJ9ao6tqP8AZWmy3jRtL5YGEBxkk469q0MGsrxFfDTtJlnMAnyQoRvu8+vtSA5K/wDHuotZu9pbLbsBnewD4/WvNblvOleZss8jFnYnqTyf1rrdVIvbOSWGwSJ2/wCeJBX34z0+grl2Q+c7bFUMfur0H50kNkAbKquMYGBg16p8KXI0S9Xni5B/8dFeZlAGxjGBXqnw1t/K8OPIAcyzseenAAqiTsgxpwY00KTTwKQwy1LkjvRijFAC7jSbjRtoxQAm80UEUUAJgUYp231pfpTAaBS4p2KXAoAZgUYp2B6UbfagBhFMkgWZCkihkbqGGQanxjtRgmgDDm8J6PLK0ptAGP8AdYgA+oA6GmL4Q0UcmwiY/wB5xuJ+ua39tLtNAWMSPwto0f3dNteueYga1I4EiQJGqqo4CqMAVNtpwWgLEYX2pdp9akIpMUgG4ox+FOApaAGbfejaKfik20AN2+9FOxRQAylFFFMBaDRRQAo6U6iigBD1ooooAUUhoooGApT1oopCEpRRRQAdqKKKACiiigBKKKKAP//Z\" style=\"max-width:none\">\n",
       "        <br>\n",
       "        <small>Index: 47</small><br>\n",
       "        <small>Distance: 0.3075</small><br>\n",
       "        <small>Hash: a24d876ed8b77986cbbedf18a3ef6ded</small>\n",
       "        <small>(Mask)</small>\n",
       "    </div>\n",
       "    \n",
       "    <div style='text-align: center; border: 1px solid #ddd; padding: 5px;'>\n",
       "        <img src=\"data:image/jpeg;base64,/9j/4AAQSkZJRgABAQAAAQABAAD/2wBDAAoHBwgHBgoICAgLCgoLDhgQDg0NDh0VFhEYIx8lJCIfIiEmKzcvJik0KSEiMEExNDk7Pj4+JS5ESUM8SDc9Pjv/2wBDAQoLCw4NDhwQEBw7KCIoOzs7Ozs7Ozs7Ozs7Ozs7Ozs7Ozs7Ozs7Ozs7Ozs7Ozs7Ozs7Ozs7Ozs7Ozs7Ozs7Ozv/wAARCAB/AC4DASIAAhEBAxEB/8QAHwAAAQUBAQEBAQEAAAAAAAAAAAECAwQFBgcICQoL/8QAtRAAAgEDAwIEAwUFBAQAAAF9AQIDAAQRBRIhMUEGE1FhByJxFDKBkaEII0KxwRVS0fAkM2JyggkKFhcYGRolJicoKSo0NTY3ODk6Q0RFRkdISUpTVFVWV1hZWmNkZWZnaGlqc3R1dnd4eXqDhIWGh4iJipKTlJWWl5iZmqKjpKWmp6ipqrKztLW2t7i5usLDxMXGx8jJytLT1NXW19jZ2uHi4+Tl5ufo6erx8vP09fb3+Pn6/8QAHwEAAwEBAQEBAQEBAQAAAAAAAAECAwQFBgcICQoL/8QAtREAAgECBAQDBAcFBAQAAQJ3AAECAxEEBSExBhJBUQdhcRMiMoEIFEKRobHBCSMzUvAVYnLRChYkNOEl8RcYGRomJygpKjU2Nzg5OkNERUZHSElKU1RVVldYWVpjZGVmZ2hpanN0dXZ3eHl6goOEhYaHiImKkpOUlZaXmJmaoqOkpaanqKmqsrO0tba3uLm6wsPExcbHyMnK0tPU1dbX2Nna4uPk5ebn6Onq8vP09fb3+Pn6/9oADAMBAAIRAxEAPwD0PNeGeJ5ZI/F968krMyzkDJ6DPSvca8P8ewNB4rvD/ecNn6jNJq5SdmatndFoxz1qea+SGPc7YrC027AtcueQKoXt491IeTtHArlVPmZ3yrckbl2811xuS3yoP8Wax3kkk+YsxY96HAA65NPijaQ4HYV0Rgo7HHOrKe59D15R8TbPbrSTdpYxn6jivVs1wXxPtw1lbXA/hYqfxH/1qtGbPNULxxbM0pOFAA+tOAx75pnelYLt7jW6Vr+G7L7bdyD0jz+orHeun8EY+2z5/wCeX9RTEewmuW+IUAm8NO2PuOp/p/WuorH8VwfaPDd4npHuH4c0hni6gZOPrSsMDNNwckZpSSBTERScV1HgRQb2fIz+6P8AMVysldr8OYfMvblvSL+ooGj1GqOsp5mjXiesLfyq7mq2orv065X+9Ew/Q0gPCmzub1zTWJAp8n+sb60jAjqDmmBCw+Wu1+Hmo22nzXH2g7Q6cN9COP1rjHxV+zDCMbDg4oA9ypsi7o2U9CCKXNBOQaQHg9/GYdQnizwkjL+Rpj7ioJNT6oG/ta4VzlvNbJ980s0GEUjuKYik3FaGko08jR9guf1qg4wTXQeEI4DdytMcL5ZA+uRQCPXSaZJIscTO5wqgkn0p5rn/ABlfGz0GRFbDTnyx9O/6UhnmF0Vl1KaTIO5iRT5J18sKe1VmU+Z160kmANvemIglYM1adi/kp8pwSOazYUEswHpzV6BWaaQDPFA0e2TSpDE0sjBVUZJrzHxVrDand4U/ukPyj+tdB4u1Z3mOnwkhU/1h9TXE3HX1NIZUYc5zzVediBU8hxVaUlyBTJH2St8z9+31rs/CujYWS4uo8K4wgPU+9ReF9Cha1juZk3sTwD0rtIYNq4FA0cTrN4hmkncjdKxPH1rnJ7wsxAAArT1lHh1N45F4QkDnI61jtEzyHjJNKzC5CzE9M0saHdnGTWrp3h6+1GQLEigHuzCu50TwLa2RWW8bz5hzt/hFVYm4/wALWcyaNAJVKk5PPXBNdHHCFWpEiVFCqMADgU/bUlH/2Q==\" style=\"max-width:none\">\n",
       "        <br>\n",
       "        <small>Index: 48</small><br>\n",
       "        <small>Distance: 0.3095</small><br>\n",
       "        <small>Hash: 4f94967a3099adf47d435b275186d5f4</small>\n",
       "        <small>(Mask)</small>\n",
       "    </div>\n",
       "    \n",
       "    <div style='text-align: center; border: 1px solid #ddd; padding: 5px;'>\n",
       "        <img src=\"data:image/jpeg;base64,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\" style=\"max-width:none\">\n",
       "        <br>\n",
       "        <small>Index: 49</small><br>\n",
       "        <small>Distance: 0.3125</small><br>\n",
       "        <small>Hash: 7f7508f2f00872769bf483477113c5a0</small>\n",
       "        <small>(Mask)</small>\n",
       "    </div>\n",
       "    </div>"
      ],
      "text/plain": [
       "<IPython.core.display.HTML object>"
      ]
     },
     "metadata": {},
     "output_type": "display_data"
    }
   ],
   "source": [
    "# Extract data for plot\n",
    "indices = list(range(len(results)))\n",
    "distances = [dist for _, dist in results]\n",
    "\n",
    "# Create scatter plot with simpler hover text\n",
    "fig = go.Figure(data=go.Scatter(\n",
    "    x=indices,\n",
    "    y=distances,\n",
    "    mode='lines+markers',\n",
    "    marker=dict(size=8),\n",
    "    text=[f'Index: {i}<br>Hash: {hash_val}<br>Distance: {dist:.4f}' \n",
    "          for i, (hash_val, dist) in enumerate(results)],\n",
    "    hovertemplate='%{text}<extra></extra>'\n",
    "))\n",
    "\n",
    "fig.update_layout(\n",
    "    title='Image Similarity Plot',\n",
    "    xaxis_title='Index',\n",
    "    yaxis_title='Distance',\n",
    "    width=800,\n",
    "    height=400,\n",
    "    showlegend=False\n",
    ")\n",
    "\n",
    "# Display plot\n",
    "fig.show()\n",
    "\n",
    "# Create grid of thumbnails below the plot\n",
    "html = ['<div style=\"display: flex; flex-wrap: wrap; gap: 10px;\">']\n",
    "\n",
    "for i, (hash_val, dist) in enumerate(results):\n",
    "    source = get_hash_source(hash_val)\n",
    "    if source is None:\n",
    "        continue\n",
    "\n",
    "    img_html = get_image_html(source, size=(150, 210))\n",
    "    item_html = f\"\"\"\n",
    "    <div style='text-align: center; border: 1px solid #ddd; padding: 5px;'>\n",
    "        {img_html}\n",
    "        <br>\n",
    "        <small>Index: {i}</small><br>\n",
    "        <small>Distance: {dist:.4f}</small><br>\n",
    "        <small>Hash: {hash_val}</small>\n",
    "        <small>{'(Mask)' if source['type'] == 'mask' else ''}</small>\n",
    "    </div>\n",
    "    \"\"\"\n",
    "    html.append(item_html)\n",
    "\n",
    "html.append('</div>')\n",
    "display(HTML(''.join(html)))"
   ]
  }
 ],
 "metadata": {
  "kernelspec": {
   "display_name": ".venv",
   "language": "python",
   "name": "python3"
  },
  "language_info": {
   "codemirror_mode": {
    "name": "ipython",
    "version": 3
   },
   "file_extension": ".py",
   "mimetype": "text/x-python",
   "name": "python",
   "nbconvert_exporter": "python",
   "pygments_lexer": "ipython3",
   "version": "3.11.9"
  }
 },
 "nbformat": 4,
 "nbformat_minor": 2
}
