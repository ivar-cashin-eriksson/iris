{
 "cells": [
  {
   "cell_type": "code",
   "execution_count": 1,
   "metadata": {},
   "outputs": [],
   "source": [
    "import os\n",
    "os.environ['KMP_DUPLICATE_LIB_OK']='TRUE'"
   ]
  },
  {
   "cell_type": "code",
   "execution_count": 2,
   "metadata": {},
   "outputs": [],
   "source": [
    "import sys\n",
    "sys.path.append(r'c:\\Users\\ice\\projects\\iris')\n",
    "\n",
    "from PIL import Image\n",
    "from tqdm.notebook import tqdm\n",
    "import plotly.graph_objects as go\n",
    "from IPython.display import display, HTML\n",
    "import base64\n",
    "from io import BytesIO\n",
    "\n",
    "from iris.config.data_pipeline_config_manager import DataPipelineConfigManager\n",
    "from iris.config.embedding_pipeline_config_manager import EmbeddingPipelineConfigManager\n",
    "from iris.data_pipeline.mongodb_manager import MongoDBManager\n",
    "from iris.data_pipeline.qdrant_manager import QdrantManager\n",
    "from iris.embedding_pipeline.embedding_handler import EmbeddingHandler"
   ]
  },
  {
   "cell_type": "code",
   "execution_count": 3,
   "metadata": {},
   "outputs": [],
   "source": [
    "# Initialize configuration managers\n",
    "data_config = DataPipelineConfigManager()\n",
    "embedding_config = EmbeddingPipelineConfigManager()\n",
    "\n",
    "shop_config = data_config.shop_config\n",
    "mongodb_config = data_config.mongodb_config\n",
    "qdrant_config = data_config.qdrant_config\n",
    "\n",
    "# Create managers\n",
    "mongodb_manager = MongoDBManager(mongodb_config)\n",
    "qdrant_manager = QdrantManager(qdrant_config)\n",
    "\n",
    "# Initialize the EmbeddingHandler\n",
    "embedding_handler = EmbeddingHandler(embedding_config.clip_config)"
   ]
  },
  {
   "cell_type": "code",
   "execution_count": 5,
   "metadata": {},
   "outputs": [
    {
     "data": {
      "application/vnd.jupyter.widget-view+json": {
       "model_id": "79cb20da872143469bfc3a130dac43b4",
       "version_major": 2,
       "version_minor": 0
      },
      "text/plain": [
       "Processing images:   0%|          | 0/366 [00:00<?, ?it/s]"
      ]
     },
     "metadata": {},
     "output_type": "display_data"
    },
    {
     "name": "stdout",
     "output_type": "stream",
     "text": [
      "Complete! Database created in Qdrant\n"
     ]
    }
   ],
   "source": [
    "# Convert cursor to list since it can only be iterated once\n",
    "image_dataset = list(mongodb_manager.get_collection(\n",
    "    mongodb_manager.mongodb_config.image_metadata_collection\n",
    ").find())\n",
    "\n",
    "# Create Qdrant collection for embeddings\n",
    "collection_name = qdrant_config.image_collection\n",
    "vector_size = 512  # CLIP embedding size\n",
    "\n",
    "with qdrant_manager as qm:\n",
    "    qm.create_collection(collection_name, vector_size, recreate=True)\n",
    "    \n",
    "    # Add a progress bar with total count\n",
    "    for i, image_data in enumerate(tqdm(image_dataset, desc=\"Processing images\", total=len(image_dataset))):\n",
    "        # Process main image\n",
    "        with Image.open(image_data['local_path']).convert(\"RGBA\") as img:\n",
    "            width, height = img.size  # Get image dimensions\n",
    "\n",
    "            # Get embedding and add to Qdrant\n",
    "            embedding = embedding_handler.get_augmented_embedding(img)\n",
    "            qm.upsert_points(\n",
    "                collection_name,\n",
    "                vectors=[embedding],\n",
    "                payloads=[{\"type\": \"full_image\", \"image_hash\": image_data['image_hash'], \"local_path\": image_data['local_path']}],\n",
    "                ids=[i]\n",
    "            )\n",
    "            \n",
    "            # Process localizations if they exist\n",
    "            if 'localizations' in image_data:\n",
    "                for j, localization in enumerate(image_data['localizations']):\n",
    "                    # Get bounding box from original image\n",
    "                    bbox = localization['bbox']  # [x, y, width, height]\n",
    "                    bbox_img = img.crop((\n",
    "                        bbox[0] * width, \n",
    "                        bbox[1] * height, \n",
    "                        (bbox[0] + bbox[2]) * width, \n",
    "                        (bbox[1] + bbox[3]) * height\n",
    "                    ))\n",
    "                    \n",
    "                    # Get embedding and add to Qdrant\n",
    "                    localization_embedding = embedding_handler.get_augmented_embedding(bbox_img)\n",
    "                    qm.upsert_points(\n",
    "                        collection_name,\n",
    "                        vectors=[localization_embedding],\n",
    "                        payloads=[{\n",
    "                            \"type\": \"localization\",\n",
    "                            \"localization_hash\": localization['localization_hash'],\n",
    "                            \"parent_image_hash\": image_data['image_hash'],\n",
    "                            \"local_path\": image_data['local_path'],\n",
    "                            \"bbox\": bbox\n",
    "                        }],\n",
    "                        ids=[i * 1000 + j + 1]  # Ensure unique IDs\n",
    "                    )\n",
    "\n",
    "print(\"Complete! Database created in Qdrant\")"
   ]
  },
  {
   "cell_type": "code",
   "execution_count": 8,
   "metadata": {},
   "outputs": [
    {
     "name": "stdout",
     "output_type": "stream",
     "text": [
      "Found 50 similar images\n"
     ]
    }
   ],
   "source": [
    "# Get example image embedding\n",
    "query_hash = 'f1543c1b359945d75e695710d0006c9b'\n",
    "query_image_data = next(img for img in image_dataset if img['image_hash'] == query_hash)\n",
    "\n",
    "with Image.open(query_image_data['local_path']).convert(\"RGBA\") as img:\n",
    "    query_embedding = embedding_handler.get_augmented_embedding(img)\n",
    "\n",
    "# Search for nearest neighbors\n",
    "with qdrant_manager as qm:\n",
    "    results = qm.search_points(qdrant_config.image_collection, query_embedding, limit=50)\n",
    "print(\"Found\", len(results), \"similar images\")"
   ]
  },
  {
   "cell_type": "code",
   "execution_count": 9,
   "metadata": {},
   "outputs": [],
   "source": [
    "def get_image_html(result, size=(100, 140)):\n",
    "    \"\"\"Create HTML img tag for a search result\"\"\"\n",
    "    with Image.open(result.payload['local_path']) as img:\n",
    "        if result.payload['type'] == 'localization':\n",
    "            bbox = result.payload['bbox']\n",
    "            width, height = img.size\n",
    "            img = img.crop((\n",
    "                bbox[0] * width,\n",
    "                bbox[1] * height,\n",
    "                (bbox[0] + bbox[2]) * width,\n",
    "                (bbox[1] + bbox[3]) * height\n",
    "            ))\n",
    "        \n",
    "        img.thumbnail(size)\n",
    "        buffered = BytesIO()\n",
    "        img.save(buffered, format='JPEG', quality=70)\n",
    "        img_b64 = base64.b64encode(buffered.getvalue()).decode()\n",
    "        return f'<img src=\"data:image/jpeg;base64,{img_b64}\" style=\"max-width:none\">'"
   ]
  },
  {
   "cell_type": "code",
   "execution_count": 10,
   "metadata": {},
   "outputs": [
    {
     "data": {
      "application/vnd.plotly.v1+json": {
       "config": {
        "plotlyServerURL": "https://plot.ly"
       },
       "data": [
        {
         "hovertemplate": "%{text}<extra></extra>",
         "marker": {
          "size": 8
         },
         "mode": "lines+markers",
         "text": [
          "Index: 0<br>ID: 243<br>Distance: 0.0214<br>Type: full_image",
          "Index: 1<br>ID: 242<br>Distance: 0.1212<br>Type: full_image",
          "Index: 2<br>ID: 244<br>Distance: 0.1647<br>Type: full_image",
          "Index: 3<br>ID: 241<br>Distance: 0.1656<br>Type: full_image",
          "Index: 4<br>ID: 240<br>Distance: 0.2012<br>Type: full_image",
          "Index: 5<br>ID: 245<br>Distance: 0.2161<br>Type: full_image",
          "Index: 6<br>ID: 78002<br>Distance: 0.2770<br>Type: localization",
          "Index: 7<br>ID: 291001<br>Distance: 0.3109<br>Type: localization",
          "Index: 8<br>ID: 80001<br>Distance: 0.3118<br>Type: localization",
          "Index: 9<br>ID: 79002<br>Distance: 0.3277<br>Type: localization",
          "Index: 10<br>ID: 245001<br>Distance: 0.3348<br>Type: localization",
          "Index: 11<br>ID: 133002<br>Distance: 0.3884<br>Type: localization",
          "Index: 12<br>ID: 133003<br>Distance: 0.4008<br>Type: localization",
          "Index: 13<br>ID: 289001<br>Distance: 0.4008<br>Type: localization",
          "Index: 14<br>ID: 236<br>Distance: 0.4011<br>Type: full_image",
          "Index: 15<br>ID: 290004<br>Distance: 0.4035<br>Type: localization",
          "Index: 16<br>ID: 79001<br>Distance: 0.4105<br>Type: localization",
          "Index: 17<br>ID: 290002<br>Distance: 0.4128<br>Type: localization",
          "Index: 18<br>ID: 218001<br>Distance: 0.4132<br>Type: localization",
          "Index: 19<br>ID: 198002<br>Distance: 0.4143<br>Type: localization",
          "Index: 20<br>ID: 236001<br>Distance: 0.4145<br>Type: localization",
          "Index: 21<br>ID: 100001<br>Distance: 0.4171<br>Type: localization",
          "Index: 22<br>ID: 204<br>Distance: 0.4178<br>Type: full_image",
          "Index: 23<br>ID: 78001<br>Distance: 0.4197<br>Type: localization",
          "Index: 24<br>ID: 203001<br>Distance: 0.4200<br>Type: localization",
          "Index: 25<br>ID: 124003<br>Distance: 0.4205<br>Type: localization",
          "Index: 26<br>ID: 176001<br>Distance: 0.4221<br>Type: localization",
          "Index: 27<br>ID: 236002<br>Distance: 0.4231<br>Type: localization",
          "Index: 28<br>ID: 205002<br>Distance: 0.4257<br>Type: localization",
          "Index: 29<br>ID: 149003<br>Distance: 0.4257<br>Type: localization",
          "Index: 30<br>ID: 186001<br>Distance: 0.4258<br>Type: localization",
          "Index: 31<br>ID: 218<br>Distance: 0.4269<br>Type: full_image",
          "Index: 32<br>ID: 291004<br>Distance: 0.4294<br>Type: localization",
          "Index: 33<br>ID: 79<br>Distance: 0.4298<br>Type: full_image",
          "Index: 34<br>ID: 306002<br>Distance: 0.4306<br>Type: localization",
          "Index: 35<br>ID: 23002<br>Distance: 0.4329<br>Type: localization",
          "Index: 36<br>ID: 273002<br>Distance: 0.4338<br>Type: localization",
          "Index: 37<br>ID: 202003<br>Distance: 0.4344<br>Type: localization",
          "Index: 38<br>ID: 239001<br>Distance: 0.4346<br>Type: localization",
          "Index: 39<br>ID: 80002<br>Distance: 0.4358<br>Type: localization",
          "Index: 40<br>ID: 62003<br>Distance: 0.4361<br>Type: localization",
          "Index: 41<br>ID: 309003<br>Distance: 0.4363<br>Type: localization",
          "Index: 42<br>ID: 216001<br>Distance: 0.4366<br>Type: localization",
          "Index: 43<br>ID: 198<br>Distance: 0.4367<br>Type: full_image",
          "Index: 44<br>ID: 132003<br>Distance: 0.4368<br>Type: localization",
          "Index: 45<br>ID: 350002<br>Distance: 0.4370<br>Type: localization",
          "Index: 46<br>ID: 101002<br>Distance: 0.4378<br>Type: localization",
          "Index: 47<br>ID: 70003<br>Distance: 0.4378<br>Type: localization",
          "Index: 48<br>ID: 211001<br>Distance: 0.4384<br>Type: localization",
          "Index: 49<br>ID: 170002<br>Distance: 0.4387<br>Type: localization"
         ],
         "type": "scatter",
         "x": [
          0,
          1,
          2,
          3,
          4,
          5,
          6,
          7,
          8,
          9,
          10,
          11,
          12,
          13,
          14,
          15,
          16,
          17,
          18,
          19,
          20,
          21,
          22,
          23,
          24,
          25,
          26,
          27,
          28,
          29,
          30,
          31,
          32,
          33,
          34,
          35,
          36,
          37,
          38,
          39,
          40,
          41,
          42,
          43,
          44,
          45,
          46,
          47,
          48,
          49
         ],
         "y": [
          0.021431899999999948,
          0.12120509999999995,
          0.16471314000000004,
          0.16558479999999998,
          0.20119319999999996,
          0.21606550000000002,
          0.27700066999999995,
          0.3109225,
          0.31176364,
          0.32770646000000003,
          0.33477866999999994,
          0.38838090000000003,
          0.40083579999999996,
          0.40084547000000004,
          0.40112406,
          0.40352494000000005,
          0.4104922,
          0.41275173,
          0.41316926,
          0.41431946,
          0.4145299,
          0.41707970000000005,
          0.4178088,
          0.41970587000000004,
          0.42002976000000003,
          0.42049766,
          0.42214655999999995,
          0.4231081,
          0.42568195,
          0.42573315,
          0.42580280000000004,
          0.42687124,
          0.42944324,
          0.42983294000000005,
          0.43055003999999997,
          0.43291866999999995,
          0.43381590000000003,
          0.4344279,
          0.43457330000000005,
          0.43576645999999997,
          0.43607706,
          0.43634740000000005,
          0.43655323999999995,
          0.4366825,
          0.43680030000000003,
          0.4369826,
          0.43775463000000003,
          0.43783665000000005,
          0.43835424999999995,
          0.43873070000000003
         ]
        }
       ],
       "layout": {
        "height": 400,
        "showlegend": false,
        "template": {
         "data": {
          "bar": [
           {
            "error_x": {
             "color": "#2a3f5f"
            },
            "error_y": {
             "color": "#2a3f5f"
            },
            "marker": {
             "line": {
              "color": "#E5ECF6",
              "width": 0.5
             },
             "pattern": {
              "fillmode": "overlay",
              "size": 10,
              "solidity": 0.2
             }
            },
            "type": "bar"
           }
          ],
          "barpolar": [
           {
            "marker": {
             "line": {
              "color": "#E5ECF6",
              "width": 0.5
             },
             "pattern": {
              "fillmode": "overlay",
              "size": 10,
              "solidity": 0.2
             }
            },
            "type": "barpolar"
           }
          ],
          "carpet": [
           {
            "aaxis": {
             "endlinecolor": "#2a3f5f",
             "gridcolor": "white",
             "linecolor": "white",
             "minorgridcolor": "white",
             "startlinecolor": "#2a3f5f"
            },
            "baxis": {
             "endlinecolor": "#2a3f5f",
             "gridcolor": "white",
             "linecolor": "white",
             "minorgridcolor": "white",
             "startlinecolor": "#2a3f5f"
            },
            "type": "carpet"
           }
          ],
          "choropleth": [
           {
            "colorbar": {
             "outlinewidth": 0,
             "ticks": ""
            },
            "type": "choropleth"
           }
          ],
          "contour": [
           {
            "colorbar": {
             "outlinewidth": 0,
             "ticks": ""
            },
            "colorscale": [
             [
              0,
              "#0d0887"
             ],
             [
              0.1111111111111111,
              "#46039f"
             ],
             [
              0.2222222222222222,
              "#7201a8"
             ],
             [
              0.3333333333333333,
              "#9c179e"
             ],
             [
              0.4444444444444444,
              "#bd3786"
             ],
             [
              0.5555555555555556,
              "#d8576b"
             ],
             [
              0.6666666666666666,
              "#ed7953"
             ],
             [
              0.7777777777777778,
              "#fb9f3a"
             ],
             [
              0.8888888888888888,
              "#fdca26"
             ],
             [
              1,
              "#f0f921"
             ]
            ],
            "type": "contour"
           }
          ],
          "contourcarpet": [
           {
            "colorbar": {
             "outlinewidth": 0,
             "ticks": ""
            },
            "type": "contourcarpet"
           }
          ],
          "heatmap": [
           {
            "colorbar": {
             "outlinewidth": 0,
             "ticks": ""
            },
            "colorscale": [
             [
              0,
              "#0d0887"
             ],
             [
              0.1111111111111111,
              "#46039f"
             ],
             [
              0.2222222222222222,
              "#7201a8"
             ],
             [
              0.3333333333333333,
              "#9c179e"
             ],
             [
              0.4444444444444444,
              "#bd3786"
             ],
             [
              0.5555555555555556,
              "#d8576b"
             ],
             [
              0.6666666666666666,
              "#ed7953"
             ],
             [
              0.7777777777777778,
              "#fb9f3a"
             ],
             [
              0.8888888888888888,
              "#fdca26"
             ],
             [
              1,
              "#f0f921"
             ]
            ],
            "type": "heatmap"
           }
          ],
          "histogram": [
           {
            "marker": {
             "pattern": {
              "fillmode": "overlay",
              "size": 10,
              "solidity": 0.2
             }
            },
            "type": "histogram"
           }
          ],
          "histogram2d": [
           {
            "colorbar": {
             "outlinewidth": 0,
             "ticks": ""
            },
            "colorscale": [
             [
              0,
              "#0d0887"
             ],
             [
              0.1111111111111111,
              "#46039f"
             ],
             [
              0.2222222222222222,
              "#7201a8"
             ],
             [
              0.3333333333333333,
              "#9c179e"
             ],
             [
              0.4444444444444444,
              "#bd3786"
             ],
             [
              0.5555555555555556,
              "#d8576b"
             ],
             [
              0.6666666666666666,
              "#ed7953"
             ],
             [
              0.7777777777777778,
              "#fb9f3a"
             ],
             [
              0.8888888888888888,
              "#fdca26"
             ],
             [
              1,
              "#f0f921"
             ]
            ],
            "type": "histogram2d"
           }
          ],
          "histogram2dcontour": [
           {
            "colorbar": {
             "outlinewidth": 0,
             "ticks": ""
            },
            "colorscale": [
             [
              0,
              "#0d0887"
             ],
             [
              0.1111111111111111,
              "#46039f"
             ],
             [
              0.2222222222222222,
              "#7201a8"
             ],
             [
              0.3333333333333333,
              "#9c179e"
             ],
             [
              0.4444444444444444,
              "#bd3786"
             ],
             [
              0.5555555555555556,
              "#d8576b"
             ],
             [
              0.6666666666666666,
              "#ed7953"
             ],
             [
              0.7777777777777778,
              "#fb9f3a"
             ],
             [
              0.8888888888888888,
              "#fdca26"
             ],
             [
              1,
              "#f0f921"
             ]
            ],
            "type": "histogram2dcontour"
           }
          ],
          "mesh3d": [
           {
            "colorbar": {
             "outlinewidth": 0,
             "ticks": ""
            },
            "type": "mesh3d"
           }
          ],
          "parcoords": [
           {
            "line": {
             "colorbar": {
              "outlinewidth": 0,
              "ticks": ""
             }
            },
            "type": "parcoords"
           }
          ],
          "pie": [
           {
            "automargin": true,
            "type": "pie"
           }
          ],
          "scatter": [
           {
            "fillpattern": {
             "fillmode": "overlay",
             "size": 10,
             "solidity": 0.2
            },
            "type": "scatter"
           }
          ],
          "scatter3d": [
           {
            "line": {
             "colorbar": {
              "outlinewidth": 0,
              "ticks": ""
             }
            },
            "marker": {
             "colorbar": {
              "outlinewidth": 0,
              "ticks": ""
             }
            },
            "type": "scatter3d"
           }
          ],
          "scattercarpet": [
           {
            "marker": {
             "colorbar": {
              "outlinewidth": 0,
              "ticks": ""
             }
            },
            "type": "scattercarpet"
           }
          ],
          "scattergeo": [
           {
            "marker": {
             "colorbar": {
              "outlinewidth": 0,
              "ticks": ""
             }
            },
            "type": "scattergeo"
           }
          ],
          "scattergl": [
           {
            "marker": {
             "colorbar": {
              "outlinewidth": 0,
              "ticks": ""
             }
            },
            "type": "scattergl"
           }
          ],
          "scattermap": [
           {
            "marker": {
             "colorbar": {
              "outlinewidth": 0,
              "ticks": ""
             }
            },
            "type": "scattermap"
           }
          ],
          "scattermapbox": [
           {
            "marker": {
             "colorbar": {
              "outlinewidth": 0,
              "ticks": ""
             }
            },
            "type": "scattermapbox"
           }
          ],
          "scatterpolar": [
           {
            "marker": {
             "colorbar": {
              "outlinewidth": 0,
              "ticks": ""
             }
            },
            "type": "scatterpolar"
           }
          ],
          "scatterpolargl": [
           {
            "marker": {
             "colorbar": {
              "outlinewidth": 0,
              "ticks": ""
             }
            },
            "type": "scatterpolargl"
           }
          ],
          "scatterternary": [
           {
            "marker": {
             "colorbar": {
              "outlinewidth": 0,
              "ticks": ""
             }
            },
            "type": "scatterternary"
           }
          ],
          "surface": [
           {
            "colorbar": {
             "outlinewidth": 0,
             "ticks": ""
            },
            "colorscale": [
             [
              0,
              "#0d0887"
             ],
             [
              0.1111111111111111,
              "#46039f"
             ],
             [
              0.2222222222222222,
              "#7201a8"
             ],
             [
              0.3333333333333333,
              "#9c179e"
             ],
             [
              0.4444444444444444,
              "#bd3786"
             ],
             [
              0.5555555555555556,
              "#d8576b"
             ],
             [
              0.6666666666666666,
              "#ed7953"
             ],
             [
              0.7777777777777778,
              "#fb9f3a"
             ],
             [
              0.8888888888888888,
              "#fdca26"
             ],
             [
              1,
              "#f0f921"
             ]
            ],
            "type": "surface"
           }
          ],
          "table": [
           {
            "cells": {
             "fill": {
              "color": "#EBF0F8"
             },
             "line": {
              "color": "white"
             }
            },
            "header": {
             "fill": {
              "color": "#C8D4E3"
             },
             "line": {
              "color": "white"
             }
            },
            "type": "table"
           }
          ]
         },
         "layout": {
          "annotationdefaults": {
           "arrowcolor": "#2a3f5f",
           "arrowhead": 0,
           "arrowwidth": 1
          },
          "autotypenumbers": "strict",
          "coloraxis": {
           "colorbar": {
            "outlinewidth": 0,
            "ticks": ""
           }
          },
          "colorscale": {
           "diverging": [
            [
             0,
             "#8e0152"
            ],
            [
             0.1,
             "#c51b7d"
            ],
            [
             0.2,
             "#de77ae"
            ],
            [
             0.3,
             "#f1b6da"
            ],
            [
             0.4,
             "#fde0ef"
            ],
            [
             0.5,
             "#f7f7f7"
            ],
            [
             0.6,
             "#e6f5d0"
            ],
            [
             0.7,
             "#b8e186"
            ],
            [
             0.8,
             "#7fbc41"
            ],
            [
             0.9,
             "#4d9221"
            ],
            [
             1,
             "#276419"
            ]
           ],
           "sequential": [
            [
             0,
             "#0d0887"
            ],
            [
             0.1111111111111111,
             "#46039f"
            ],
            [
             0.2222222222222222,
             "#7201a8"
            ],
            [
             0.3333333333333333,
             "#9c179e"
            ],
            [
             0.4444444444444444,
             "#bd3786"
            ],
            [
             0.5555555555555556,
             "#d8576b"
            ],
            [
             0.6666666666666666,
             "#ed7953"
            ],
            [
             0.7777777777777778,
             "#fb9f3a"
            ],
            [
             0.8888888888888888,
             "#fdca26"
            ],
            [
             1,
             "#f0f921"
            ]
           ],
           "sequentialminus": [
            [
             0,
             "#0d0887"
            ],
            [
             0.1111111111111111,
             "#46039f"
            ],
            [
             0.2222222222222222,
             "#7201a8"
            ],
            [
             0.3333333333333333,
             "#9c179e"
            ],
            [
             0.4444444444444444,
             "#bd3786"
            ],
            [
             0.5555555555555556,
             "#d8576b"
            ],
            [
             0.6666666666666666,
             "#ed7953"
            ],
            [
             0.7777777777777778,
             "#fb9f3a"
            ],
            [
             0.8888888888888888,
             "#fdca26"
            ],
            [
             1,
             "#f0f921"
            ]
           ]
          },
          "colorway": [
           "#636efa",
           "#EF553B",
           "#00cc96",
           "#ab63fa",
           "#FFA15A",
           "#19d3f3",
           "#FF6692",
           "#B6E880",
           "#FF97FF",
           "#FECB52"
          ],
          "font": {
           "color": "#2a3f5f"
          },
          "geo": {
           "bgcolor": "white",
           "lakecolor": "white",
           "landcolor": "#E5ECF6",
           "showlakes": true,
           "showland": true,
           "subunitcolor": "white"
          },
          "hoverlabel": {
           "align": "left"
          },
          "hovermode": "closest",
          "mapbox": {
           "style": "light"
          },
          "paper_bgcolor": "white",
          "plot_bgcolor": "#E5ECF6",
          "polar": {
           "angularaxis": {
            "gridcolor": "white",
            "linecolor": "white",
            "ticks": ""
           },
           "bgcolor": "#E5ECF6",
           "radialaxis": {
            "gridcolor": "white",
            "linecolor": "white",
            "ticks": ""
           }
          },
          "scene": {
           "xaxis": {
            "backgroundcolor": "#E5ECF6",
            "gridcolor": "white",
            "gridwidth": 2,
            "linecolor": "white",
            "showbackground": true,
            "ticks": "",
            "zerolinecolor": "white"
           },
           "yaxis": {
            "backgroundcolor": "#E5ECF6",
            "gridcolor": "white",
            "gridwidth": 2,
            "linecolor": "white",
            "showbackground": true,
            "ticks": "",
            "zerolinecolor": "white"
           },
           "zaxis": {
            "backgroundcolor": "#E5ECF6",
            "gridcolor": "white",
            "gridwidth": 2,
            "linecolor": "white",
            "showbackground": true,
            "ticks": "",
            "zerolinecolor": "white"
           }
          },
          "shapedefaults": {
           "line": {
            "color": "#2a3f5f"
           }
          },
          "ternary": {
           "aaxis": {
            "gridcolor": "white",
            "linecolor": "white",
            "ticks": ""
           },
           "baxis": {
            "gridcolor": "white",
            "linecolor": "white",
            "ticks": ""
           },
           "bgcolor": "#E5ECF6",
           "caxis": {
            "gridcolor": "white",
            "linecolor": "white",
            "ticks": ""
           }
          },
          "title": {
           "x": 0.05
          },
          "xaxis": {
           "automargin": true,
           "gridcolor": "white",
           "linecolor": "white",
           "ticks": "",
           "title": {
            "standoff": 15
           },
           "zerolinecolor": "white",
           "zerolinewidth": 2
          },
          "yaxis": {
           "automargin": true,
           "gridcolor": "white",
           "linecolor": "white",
           "ticks": "",
           "title": {
            "standoff": 15
           },
           "zerolinecolor": "white",
           "zerolinewidth": 2
          }
         }
        },
        "title": {
         "text": "Image Similarity Plot"
        },
        "width": 800,
        "xaxis": {
         "title": {
          "text": "Index"
         }
        },
        "yaxis": {
         "title": {
          "text": "Distance"
         }
        }
       }
      }
     },
     "metadata": {},
     "output_type": "display_data"
    },
    {
     "data": {
      "text/html": [
       "<div style=\"display: flex; flex-wrap: wrap; gap: 10px;\">\n",
       "    <div style='text-align: center; border: 1px solid #ddd; padding: 5px;'>\n",
       "        <img src=\"data:image/jpeg;base64,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\" style=\"max-width:none\">\n",
       "        <br>\n",
       "        <small>Index: 0</small><br>\n",
       "        <small>Distance: 0.0214</small><br>\n",
       "        <small>ID: 243</small><br>\n",
       "        <small>Type: full_image</small>\n",
       "    </div>\n",
       "    \n",
       "    <div style='text-align: center; border: 1px solid #ddd; padding: 5px;'>\n",
       "        <img src=\"data:image/jpeg;base64,/9j/4AAQSkZJRgABAQAAAQABAAD/2wBDAAoHBwgHBgoICAgLCgoLDhgQDg0NDh0VFhEYIx8lJCIfIiEmKzcvJik0KSEiMEExNDk7Pj4+JS5ESUM8SDc9Pjv/2wBDAQoLCw4NDhwQEBw7KCIoOzs7Ozs7Ozs7Ozs7Ozs7Ozs7Ozs7Ozs7Ozs7Ozs7Ozs7Ozs7Ozs7Ozs7Ozs7Ozs7Ozv/wAARCADSAJYDASIAAhEBAxEB/8QAHwAAAQUBAQEBAQEAAAAAAAAAAAECAwQFBgcICQoL/8QAtRAAAgEDAwIEAwUFBAQAAAF9AQIDAAQRBRIhMUEGE1FhByJxFDKBkaEII0KxwRVS0fAkM2JyggkKFhcYGRolJicoKSo0NTY3ODk6Q0RFRkdISUpTVFVWV1hZWmNkZWZnaGlqc3R1dnd4eXqDhIWGh4iJipKTlJWWl5iZmqKjpKWmp6ipqrKztLW2t7i5usLDxMXGx8jJytLT1NXW19jZ2uHi4+Tl5ufo6erx8vP09fb3+Pn6/8QAHwEAAwEBAQEBAQEBAQAAAAAAAAECAwQFBgcICQoL/8QAtREAAgECBAQDBAcFBAQAAQJ3AAECAxEEBSExBhJBUQdhcRMiMoEIFEKRobHBCSMzUvAVYnLRChYkNOEl8RcYGRomJygpKjU2Nzg5OkNERUZHSElKU1RVVldYWVpjZGVmZ2hpanN0dXZ3eHl6goOEhYaHiImKkpOUlZaXmJmaoqOkpaanqKmqsrO0tba3uLm6wsPExcbHyMnK0tPU1dbX2Nna4uPk5ebn6Onq8vP09fb3+Pn6/9oADAMBAAIRAxEAPwD2ClFNpwoGOopKKAFpaSigBaKKKAFopKKAFopKKBC0UlFAC0lFFAwoopKACig0UAR0tJRQIdS02loAWlpKKAFopKM0AOopM0ZoAWikzRQAtFJRQAtFRySxwxtJK6xooyzMcAfjXGat8R4Bc/YPD1q2p3bHAYA+WD7d2/lRew0m9jtWYKpZiAB1JPSoUvrSWTyo7uB3/urICfyzXIWvh3WNaIuPFGoOyZyLGBtqD64/z71Zv/BOhXMY8m2+zSr9ySFiCD61m5otQ7s6yivP18S6x4OkNnrEEmo2pH+j3KH5voT/AI0VakhOMux3lLSUtMgKWkpaAFzRmkpaACloooAKKKKAFopKy9Z8RaZoMW69uAJCMpCvLv8AQUAX7m7t7OEy3M6Qxj+J2wK5PVPiXpNmsiWcUt3KB8v8CE/U8/pXIyHxF4z1hriGGRYjlVL5WOJD2z/hzXX6F4K07Ryk9xturoch3+6h/wBlf69ahzNORdTCXSvEnjl1n1aZrLTs7liC4yPZe/1aux0jQdM0K38qwtwpI+eQ8u31NWLjUrK0B8+6jjAGfmas2fxdoEBw+oRvjrtBb+QrJu+5fobLMc8dPam4JPHFcpc/EjR4MiGK4m9CFCj9Tn9K57VfixLBExt7BRk4G5tx/pRdBys9L8tTw5D+xGaK8efxdrt/tkN88QIyFjAUUVPMiuVntopaSiuo5haWkooAWlzSUUALmikozigBagvL210+2a4u50giXqznA/8Ar1iXvipZbptP0KD+0bwcO4OIYfdm/oKzr1LTSCup67c/2lqPPlIRhIz6InQfU81LkkUotlq/13UL63aSyK6VYY+a+uxh2HqiHp9TXIHXtJsp2k0+wa8uifmvr8l2J9QP/wBVUNY1q91+6HmlmQH5Il5C/wCP1qK10a+umVYYDk9Ce1c8qrexvGCRcufFerz5D3jRr2SL5B+nNZlxrV6y4a5mP+9Ix/TNdTZeAHZAbu82Z6qgyfzqa78GaJp8JkuLqY4GeSAPxrJ8xa5Tzm5v7hiAWYljgAdSaUsUQByWfvznmuhj8OPqsry6VbnylO3z5Tgt7KOw/X+VS/8ACCXy4ElxEhP8KfMxpFaI5dIXlJZyQP1rP1aBpZoEjHAOT6KPeu21jQLfw/pwm1C9WPP+rhj5kkP9B71ylnaX3iDUEs7GAszdEHRR6sauEW3cltWIHvHChIGZVHcDk/8A1qK9j8MeCtP8P2mJUS7u5B+9ldcj6KD0FFa6LoZ8x2FLSUV0HOLmlpBRQAtFNkkSKNpJHVEUZLMcAVhX+palqKmHRlEEZ4a9mXAA/wBhT1+tJtLcaTexZ1rxRpOgqwvbkCYKCIUGXbPTArmwuu+Mj5l4z6VpDcrbxnEsw/2j2FXbPwpp1jOby4Z7+9PzNPcndz64rS1PVLbRdOlvro8Jwqjq7dgKzc+xoopFO/vNP8JaQsdvCiE8QwoMbj6n19ya8782/wDEGqFAzTSyHk9gP6Cq97qV/wCI9UxkyTTNtVR0Qegr0TRNItvDtgFABuGGZHxlmPoPasX7xp8JWtdHg0Ow27VaeT5cgcsfStjT7YQx7mA8xuvtWfc3UVvJ9pvJAJP4IxyQPp61lT61qmsSG00qEqvRmB4X/eb+gqW0hpNm3rPiWy0eMqz+bP2iQ859/SsK20vUfEkwvdZZoLQHMdsvBb6/5zV7TPDtppri6vHF3eHncw+VT7Crup6rZ6ZbG41K6W2i7KT87+wHWjV7hdLYtRhY41t7SMKiDACjAFYXiHxdpvhlGiRlvdTYcRKchPdj2HtXH678QL/U2+w6PG9nbv8AKCgzNJ+XSpvD3w2u71hday7WsDHcYs5kf/ePatFG25Jj2Gna5461l5ncyEn97cP9yIeg/oB/9evXNA8PWHhuyFtZp87f6yZvvSH3/wAKsWFlbaZapbWkKwwRjARR/nJqQPv5KkegobEWPMDf6thkcEmio1B64yT2opXGaVFFFdRzi0E4BPpSZozQBwvhfxXF4j1G7XUMLOkmbWB/uhB6Duw711TuW74+vauB8ceHFtrttZ0iN0wd0qocANn7w9Pet7wjrb6vou+4H+kQNslUHO4+o+v86wl3NlsdBJLHbxPLM6pHGu52Y4AA75rx/wAW+J31/UgEYpaQkiFDwT/tH3P6VseO/FbX2dKsZP3CH964P32H8P0H6n6Vyuk2ay3KyOucck9zWcnYuK6nZ+ErC20a0Oo3zhJ5F+RcZYD2FW73xBcXD7LOIxhjgMfmkb6DtVS3spLob3xBAOrtwMfXvTZvFWh6LmKwRr+5xgmLkfi3+FSk3oh6Iv2Xh6a5Pn6nIyIeTEG+Zv8AeP8AhVnUPEui6BCLYTRoVGBDCNzfkP61weo+K9b1qb7NCzjecC2shlvoWrR0j4b6hdFZdUnWxibkxxfNK31btWippbkuVyPU/iHfTP5OmQC3L8BmHmTH6DoKg07wVr/iK4F7qckltG3WW4O6Qj2HavQtJ8OaPosQFjZoGB+aVhucn1zWsOFOThR/KnzJbCMfQfC2k6Av+iQb58fNPLy5P17VtMQoBYZJ6CojMu7ZH129fSkG4gMcDvmpGKS8gI4LZ/KpeFGM846ioWkAyVIVT39aaZAq47DoPakBOXIPI4Pt3orOluV3fMx+in+dFFwOmopKK6znIL+/tdMtHu7yYRQx9WNeX+KfibLcP5OkM0EKHPmfxOf8PavRNf0601LTjFewCeINkqSeM8Z4+tePeLfA9xpMb3ums1zZDl0PLxD19xSb6FJHQaR8QbXVNOuLTVgkM/kuFf8Agl4PHsT+Vcpo3iW4stGvLS0DK904AccFVGc49zn8K5+OMNtAP3xkkdh/9er8XZIl56Csn2Rqu7LCpxlyM44HQCr9vrMdjHi0t1nlA+/IPkX/ABqKw0e61OURWFtJey5wzD5Yk+rd67HSvh1BGyS63OLpxyLeMYjX/Gp5Ir4iua+xxwfW/E84jTz785+5H8sKfU9K6jSPhvuVJNau8L1+y2vA/E9TXc29pFaRCC2hSFF+6qLjH+fwqRh5at8wQ9cdTn6Uc/YmxXsdL07SYBFY2sdugHG0c/n/APrqyxTG5mwKhLE7uDntnk04BuGYgcdai4CyXAjiJjQM47HimBZpiQ7YBPp1/CpFeKPLAZ9zTXkZuMAL69j/AI/rQMPljGRlm7+lMld2bAOMdRTAxXOScE/xd/pUUk5AwO3YUAPkn/eYxyq8k9KrPOcEkn+tMZy/HYd+1AjCfMRn2oAiYMwBPAP60U5pMHrzRS5h2OzzRSUV2HMMmOIm4yCMVzsitFKyMNy+/celdKQGXBrH1C2ZfmXqO3qKiauhxep414w0WPQdZDwJstLwl1A6Iw6r/UfWq2iS26alE95EJLUOPMjJ+8v4fniu+8baX/a3hqYom6a1PnRcc8dR+Wa82s5lEXnL2Hp0pR1RbZ7xBHDFaolpGiQEDYIlAUD8OP50rv5Y3M3PoO9cX4B8SyX1kdLmcF7XmMN1aP0/A/piut5zxjGMc/pWL0ZotRxkkZcfdGegoEZI54Gc8+lPAx90c4yTTXYdGYtnpx/n/PepAXdtGVHQdTSNMM5PJ64P9B1/z1ph+Zue36U9doGQAAOTj1pgCoSN33Qeu7k/5/OkdgmcEE9yTk1zviTxja6NlMNNOwyIk6D6muGTxvrl3qSzBlEIOPIC/Lj+f41Si3sLbc9MluVZiMnA6VGzbiAOPbvWfp9zHf2qzRSEKSNwJGQfQ1aEqx/KpAJGc5pPQZPnZgk5bstNMhxluvbvUIbg56571FPOkCmSWQKB/EetIB0jngf1optvpN7q484yPZQfwcfO/ufQUVoqTJ9od3RRRXQYBTJYxKhU07NITQBztyq2900TqMMMkHoR0/z9a8d1zTj4f164sSCLecl4Cem084/Cvb9dtGntBNCMzQHeoH8Q7r+Iri/FGjR+I9EKxf8AH1CPMtpD3/2TWT91lrVHB6ZdTaRqMF/bqRJEcnngjuPxFewWWoQX9pDeW7q0Uoyq4zj1B9SP6da8De+nCNE+5XU7WB7Guw+G+vm2vJNLnlwk/wA8RPZh1H4gfpSqRurlxdtD1fDkLlwBnkD/AD/jSMybeTjjnn+ZrPm1FI0CqcnpgH8qotLNcNudjj+6KxKNO41GGEcEMfas6bUpnQiNWAPQYxxTEh2ZZjwOOe/vUj7EHABc80DPO/HUUkd7bTnKlkIB7HB/+vWXFqMYs8xoFl6OP611nju1M+kpOPmaCTJx2B4/niuF02BZ75LdztEp25HYkcH863i9DOW5qeH/ABLJpOphpGJtpDtlXrgev1H+NempLE0YkXBDLkOO49vbpXi91aS2l28EqlXQ4Ir0LwG1zrdp/Z4lEf2Qcyk5YIegA/MZ+lKUebVDUraHRmfMwhhRppm+7Ev8yewrX0/w+qyC6vyJ7gcqv8Ef0H9av6fplrp8Wy3jCk/ec8s31NXwtXGCRDlcaFwKKfgUVZJYzS0lFAgpCaKQ0ANYZBFc1d2v2O6IVf3TsTjtz1FdKap39sLiAjHNRJXRSdjxr4jeHBaXP9t2gJhmOJ1A+63Zvxrjra4e3njnhOHRgyn3Fe63llFf2MllcrlCCrj+8PSvFdZ0ebQdXlsZOU+9E/8AeXtUxfRlnq2kXsWrabBeJgh1GQONrdx+dXgFGAASf5V5r4H1mTTtUFpIx+zXR24P8L9j/SvSCzKdq9R3rKUbMtO458FixbHGMConLbBgHaO5NBIX7xzx1qEsT8zEgep7UrDKuqwJdaXcwMMl4mx9cZ/pXAaTp0zX0M6oSsbh8DvivRYLe51UmK0GyAnD3DdPcL6mui07QrLT7fyYIRhhhmblm/Gt4RdjKUtTyrxJYSXsR1ARgNHw4A/h9fwql4S10+HtehuzkwH93Oo7oev5dfwr1G/0VLd2IQNC/BBHFeYeJdAfRrvfGCbWU5jb09jTWmgPU94gljmiSWJ1eORQyMvIIPQ1KK8o+HHjA2kyaHfyfuJGxbyMf9Wx/h+h/Q16sDVkDqKKKAJaKKKBCUlLSUhiGmmnGmmgDI1G1KN5qdD1rh/HXh+K+0xrmOP/AEiH51cdx3B/KvTHQOpVhkGuf1a1CQSwyAmNlO0gZ49KiS6opPoeHWwMYWVeGUgg+hr1W0vI7zTbe5DY81QxPof/ANdcTD4bvGLqYjGu44LDHGa7DQdC1KOwjtkHlRqSfNfryc8Cicb7DjKxZkmQMsewySHlI1GWJq9aaA1yRNqXI6rbqflX6+prV0/SbexX92mXP3pG5ZvxrQWPFOMEhOTZBFAsaBUUKo4AAwBU6jFPC0ba0IGvGkqFHGQa5/WNEhuLaS3uI/Mt5B17qfX2NdHikZQwIIyD2NJq40zwTXNBudBvdrZaFjmKUDg/4GvTvAvjKPWrRLC9kC6hEMAsf9cB3Hv6j8a1NW0KG9tnhaISwv1jPUe4rzXVPBt9p1wZtNZpVU5C5xIn+P4VO25Vr7HtAory7SfiLqmmxfZtVtTcsgwrOdj/AInHNFVcmx6tRRRSAKSiigBDSU40lADTUU8KToUkXINTUhFMDNi0q2hk8wJubsW5xVsRipttGKAGBMUuKfijFADcUYp2KMUANxSEU/FGKYERWoZraKcYkjVvqKtYpNtIDGn0CynOWjP44P8AOitnbRRZBdk1JilopAFJS0lMApKWigBMUYpaKAG4op2KSgBMUuKKKACjFLSUwCkxS0UAJijFLRQAlFLRQA6iiipASiiigAooooAKDRRQAUUUUAHaiiigApKKKYBRRRQAUUUUAFFFFAH/2Q==\" style=\"max-width:none\">\n",
       "        <br>\n",
       "        <small>Index: 1</small><br>\n",
       "        <small>Distance: 0.1212</small><br>\n",
       "        <small>ID: 242</small><br>\n",
       "        <small>Type: full_image</small>\n",
       "    </div>\n",
       "    \n",
       "    <div style='text-align: center; border: 1px solid #ddd; padding: 5px;'>\n",
       "        <img src=\"data:image/jpeg;base64,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\" style=\"max-width:none\">\n",
       "        <br>\n",
       "        <small>Index: 2</small><br>\n",
       "        <small>Distance: 0.1647</small><br>\n",
       "        <small>ID: 244</small><br>\n",
       "        <small>Type: full_image</small>\n",
       "    </div>\n",
       "    \n",
       "    <div style='text-align: center; border: 1px solid #ddd; padding: 5px;'>\n",
       "        <img src=\"data:image/jpeg;base64,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\" style=\"max-width:none\">\n",
       "        <br>\n",
       "        <small>Index: 3</small><br>\n",
       "        <small>Distance: 0.1656</small><br>\n",
       "        <small>ID: 241</small><br>\n",
       "        <small>Type: full_image</small>\n",
       "    </div>\n",
       "    \n",
       "    <div style='text-align: center; border: 1px solid #ddd; padding: 5px;'>\n",
       "        <img src=\"data:image/jpeg;base64,/9j/4AAQSkZJRgABAQAAAQABAAD/2wBDAAoHBwgHBgoICAgLCgoLDhgQDg0NDh0VFhEYIx8lJCIfIiEmKzcvJik0KSEiMEExNDk7Pj4+JS5ESUM8SDc9Pjv/2wBDAQoLCw4NDhwQEBw7KCIoOzs7Ozs7Ozs7Ozs7Ozs7Ozs7Ozs7Ozs7Ozs7Ozs7Ozs7Ozs7Ozs7Ozs7Ozs7Ozs7Ozv/wAARCADSAJYDASIAAhEBAxEB/8QAHwAAAQUBAQEBAQEAAAAAAAAAAAECAwQFBgcICQoL/8QAtRAAAgEDAwIEAwUFBAQAAAF9AQIDAAQRBRIhMUEGE1FhByJxFDKBkaEII0KxwRVS0fAkM2JyggkKFhcYGRolJicoKSo0NTY3ODk6Q0RFRkdISUpTVFVWV1hZWmNkZWZnaGlqc3R1dnd4eXqDhIWGh4iJipKTlJWWl5iZmqKjpKWmp6ipqrKztLW2t7i5usLDxMXGx8jJytLT1NXW19jZ2uHi4+Tl5ufo6erx8vP09fb3+Pn6/8QAHwEAAwEBAQEBAQEBAQAAAAAAAAECAwQFBgcICQoL/8QAtREAAgECBAQDBAcFBAQAAQJ3AAECAxEEBSExBhJBUQdhcRMiMoEIFEKRobHBCSMzUvAVYnLRChYkNOEl8RcYGRomJygpKjU2Nzg5OkNERUZHSElKU1RVVldYWVpjZGVmZ2hpanN0dXZ3eHl6goOEhYaHiImKkpOUlZaXmJmaoqOkpaanqKmqsrO0tba3uLm6wsPExcbHyMnK0tPU1dbX2Nna4uPk5ebn6Onq8vP09fb3+Pn6/9oADAMBAAIRAxEAPwD2aiiigAooooAKKKKACiiigAooooAKKKKACiiigAooooAKKKKACiiigAooooAKKKKACiiigAooooAKKKKACiiigAooooAKKKKACiiigAooooAKKKKACiiigAooooAKKKKACiiigAooooAKKKKACiiigAooooAKKKKACiiigAooooAKKKKACiiigAooooAKKKKACiiigAooooAKKKKACikNFAC0UlLQAUUUUAFFFFABRRRQAUUVm6l4h0bR/wDkI6pa2x/uySgN+XWgDSorn7Lx34V1GcQW2uWjSHorNsz9N2K1G1O2/wCWTiY4/wCWZBH50m0h2ZcqtLqFlA22a8gjb0eQA/zqlNeyyjBOxT29fauU8WaLHe6PPHp8EMd7jepCAF8dVz6ms/axvYvkZ6ArK6hlIZTyCDwaWvAPD/izW/BkltKZHutPmzvgZiVBBwyjP3XFe46PrFlrumQ6jp8okglHHqp7gjsRWidyGrF6kJoJppNMQuaKaTRQA6lpKUUALRSUUALRSZoLADJ4AoASSRIo2kkYKiAszHoAK43UPit4XtEYW1zJezDjy4oyOfcsBisP4h/ESy+zvommTeaZDtuLiM/Ko/ug9/c15nZ3WmW96bjUNPe7Vf4Ul2Z+vrSbKSOt1Xxr4y8XSta6PHJaW5422uQcf7Uh/piotJ+Fc00guNcuWdm5MUT8n6sf6fnXTeHfGXh3UVjt7eQWT9FhmUJn6EcV07SoOfun1NYSqSNFFHGv8ONKjT/R7XymH8YkYsP1rjNR/tPw7rX2WC5lWTrFIjcn24617BJMCvBwPU964HxnYn7ZY6igY+TcLuYjtmlGTvqVY1PCfjhtcUWF6Vjv0HBHAmA7/Wupiikftj3NeU+NdJXQtYivbKdIpHbeqK2GUjncB6V02m+IPEXiyzX7EYNPhUbJrr77s2BnavaplG6vEE7aMXW9HsrzxNJosbqRqcBnZR1gnXo/tuHB9ayvhprlx4a8XyaBfEpDeSeUyN0SYfdP49PyrsdI0Cy0XdMhaW5k/wBbPKd0jnvzXnfxJDW/iqG9tx5ckkKOGHHzqTz+gq6ctbEzV0fQRptUdE1JdY0Kx1FcYuYFkOOxI5/XNXTXQYhRSGigB+aM03NGaAH5oqC4nFvbvMVLbBnaOp9q8r8X+MvFdtcrCyJYQOSY3tzuDY7Fuufbik2Ox6rLdwQ/fkGfQcms2/uvt0Elp5f7mZSj7u6ngivIx8Q/E18YbTS7OGW5xhmEe53x1OOgrpdB8XX1xdrpWtwC2vyNyEcLJ7YHf6GsZSmaKKNpvDukxWwt0sbVVUYCLCMV5j4x0FNKvftFtHsgkONo/gb0r1VvNkGGzsPXHyisvWdCXVdOmgcgAg8+h7Gs4ys9S2ro8itNHkvLRrq1+ZY2xIvdTXQ6P4r1HQgIZmNxEP8AlnKeVHse1ZGh6nL4a1uZXj+0RtmN40YEMR0IPTrXSXHhzWPEj+fdQW2lwgZWMLuc/U9q2b77EJdjpIfG/ht7H7WZpXn6fZ9hMmfQDv8AWsrVpvEHiO1mcWkelaekZc+f80sgUZ6fw9K5S78C6tZ3Ie1cvg5VhkEfiK6PSLTxNcQPaajeE2zrsbcAzEem7qKz5YrVFJsujwrpN14aa8iR5bq5txIbi4bfISRnGT0rP+GEzRWuo25Of3iMB6ZBB/lXY2tusNrFaou2NFCAe2K4b4fubPxTqemy8fKwA90b/A0lrF3B7o9DVWck9c9vSuN+KGnb9Ftb9fv28uxsf3W/+uB+ddo0mBgDisHxhBLqHh+a0iUvLK8axoO7bhUQvzIp7G18KZmk+H9krf8ALOSVB9N5P9a6/NYnhLSDoHhmz05iDJGpaQjuxOT/ADrZzXacw6ikooAWlzSZpKAK+pRmbT5kHUrkfgc/0ritY0e11y2kt7oMoIIRgfuH+8K7xsMpU9CMVylzG0Ny8R7Gsqi2ZcDxT/TvDeuMC5jurKXG4dG9D9CK9D1C1j8WaRbapYMsNwD5kbp1jcdR+dVvHmgrfWf9pwqftFuuJAB/rI/8R1/OsL4f60bHWhpTy5t7vlM9A+OMfXp+VTLVcy3RSdnZnVJq/i2RBGdItRMvHnSSllJ9QtRv4b1rWz/xO9akMPUwQDYn6V1TywwDJADd/eoZLzJ2ovSsFJ9EaW7nlvjjw5DoEtq1krLDICMHsw9/xrvtB1L+0PD9lcud0jxgOf8AaHB/lWP8Qbd7rw407KSbeVXz7Hj+tQfDe6S40Se2c/NbzZUezDP881q9YXZGzOwDF/u4+goACgA9+woLkYCLx3x2pAQBwRmsyxxODkVwEINn8WHK5CyuSf8AgSZP613MkojQu7AKOrMcViWnh+41DxPLrZxGnSEMOcbcZx+dXCL1IkzeecJjOTnoBySfatHSbZmlWe4jAdfuDrt/+vTrLSo4TvOWc9WbkmtWKIKOlawgkRKVyynSnimLxTwa1IFopKKAFozSUGgBGPFc94gj+z3EN4B+7kIil9j/AAt/T8RW+TVHUrRL+yltnOBIuM+h7H8DzSaurDTsc8wDqUZQwI6HvXjniLT5PD3iRlgBRA4mtiewznH4HivXYHlRvKnG2VTtYds1yPxI07z9LjvlIL2r8jHVW4P9Kwg7Oxo9rnR6ZcrqdjBfI2RMgb6cc/kc1dyikEj5vzrifhxfs1ldWLnKwsJEHseo/MfrXZ7zjjis5Rs7Fp9SPVoBqGlXVm3/AC1iZR9ccV5/8OLhoNZubRuPNi6e6n/65r0ESc5Qfga4fQNMu4/GN1ewW7PCksoB6A5yOtaQWjRMnrc7xpCOV5+vAqKOWWc7bePzT0L9EH49/wAKs22kyXBD3bBh/wA81+6Pr61uW9mkagBcYpxp9yXPsZNrooZhLcMZXHIz0H0FbMFssY6VYSMAVKFrVKxFxqpUgFAFOFUIUU6m0tADs0Ug6UUALSGlpDQAxqifpUxFRstAGPqmni4QyRjEo/8AHq5PxHEbvwzqEbDDiJs8egz/AErvnQ1zXiPw7JqVvKtvcNbtMu2XaMhx9PX3rNwu7lKVjynwHctba+qkHbNCyn69R/KvQ2uAMRje0h5CLy3/ANaquj+BIrCYTGaQyAYyPlwK62y0iG2XCIAO/HWhwu7jUrIxIdKurwYmPlRnrGh5P1P+FbdlpUduiqqBQOgA4FaUcAUcCpgntVpJbEt3Io4Ao4FTCMCnBcU4CmIaFFOApaOKAClopRQAUUtGKAFooFFACUGiigBCKQilpKAGlRUTID1FTGmkZoAriFQeAKkC4p5FGKAAClFLRQAUUZooAWlpoFL0oAWlFAoFAC0tJS0ALRQKKAGUUUUAFJRRQAlFLRQA2ilpAOetABSYNOxRQAmBS0UuKACiiloAKUUgp1ABS0UUALRQDRQBHRRRQAUlLRQAlFFLQAlJ3p1FACUmKdSUAGKWiloAb3paXFFABS0mKcKADApRRilFABRS0UAQiiiigAo7UUUAFFFFACHrS0UUAFFFFAAKKKKAFFLRRQAClFFFACindxRRSAWiiimB/9k=\" style=\"max-width:none\">\n",
       "        <br>\n",
       "        <small>Index: 4</small><br>\n",
       "        <small>Distance: 0.2012</small><br>\n",
       "        <small>ID: 240</small><br>\n",
       "        <small>Type: full_image</small>\n",
       "    </div>\n",
       "    \n",
       "    <div style='text-align: center; border: 1px solid #ddd; padding: 5px;'>\n",
       "        <img src=\"data:image/jpeg;base64,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\" style=\"max-width:none\">\n",
       "        <br>\n",
       "        <small>Index: 5</small><br>\n",
       "        <small>Distance: 0.2161</small><br>\n",
       "        <small>ID: 245</small><br>\n",
       "        <small>Type: full_image</small>\n",
       "    </div>\n",
       "    \n",
       "    <div style='text-align: center; border: 1px solid #ddd; padding: 5px;'>\n",
       "        <img src=\"data:image/jpeg;base64,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\" style=\"max-width:none\">\n",
       "        <br>\n",
       "        <small>Index: 6</small><br>\n",
       "        <small>Distance: 0.2770</small><br>\n",
       "        <small>ID: 78002</small><br>\n",
       "        <small>Type: localization</small>\n",
       "    </div>\n",
       "    \n",
       "    <div style='text-align: center; border: 1px solid #ddd; padding: 5px;'>\n",
       "        <img src=\"data:image/jpeg;base64,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\" style=\"max-width:none\">\n",
       "        <br>\n",
       "        <small>Index: 7</small><br>\n",
       "        <small>Distance: 0.3109</small><br>\n",
       "        <small>ID: 291001</small><br>\n",
       "        <small>Type: localization</small>\n",
       "    </div>\n",
       "    \n",
       "    <div style='text-align: center; border: 1px solid #ddd; padding: 5px;'>\n",
       "        <img src=\"data:image/jpeg;base64,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\" style=\"max-width:none\">\n",
       "        <br>\n",
       "        <small>Index: 8</small><br>\n",
       "        <small>Distance: 0.3118</small><br>\n",
       "        <small>ID: 80001</small><br>\n",
       "        <small>Type: localization</small>\n",
       "    </div>\n",
       "    \n",
       "    <div style='text-align: center; border: 1px solid #ddd; padding: 5px;'>\n",
       "        <img src=\"data:image/jpeg;base64,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\" style=\"max-width:none\">\n",
       "        <br>\n",
       "        <small>Index: 9</small><br>\n",
       "        <small>Distance: 0.3277</small><br>\n",
       "        <small>ID: 79002</small><br>\n",
       "        <small>Type: localization</small>\n",
       "    </div>\n",
       "    \n",
       "    <div style='text-align: center; border: 1px solid #ddd; padding: 5px;'>\n",
       "        <img src=\"data:image/jpeg;base64,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\" style=\"max-width:none\">\n",
       "        <br>\n",
       "        <small>Index: 10</small><br>\n",
       "        <small>Distance: 0.3348</small><br>\n",
       "        <small>ID: 245001</small><br>\n",
       "        <small>Type: localization</small>\n",
       "    </div>\n",
       "    \n",
       "    <div style='text-align: center; border: 1px solid #ddd; padding: 5px;'>\n",
       "        <img src=\"data:image/jpeg;base64,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\" style=\"max-width:none\">\n",
       "        <br>\n",
       "        <small>Index: 11</small><br>\n",
       "        <small>Distance: 0.3884</small><br>\n",
       "        <small>ID: 133002</small><br>\n",
       "        <small>Type: localization</small>\n",
       "    </div>\n",
       "    \n",
       "    <div style='text-align: center; border: 1px solid #ddd; padding: 5px;'>\n",
       "        <img src=\"data:image/jpeg;base64,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\" style=\"max-width:none\">\n",
       "        <br>\n",
       "        <small>Index: 12</small><br>\n",
       "        <small>Distance: 0.4008</small><br>\n",
       "        <small>ID: 133003</small><br>\n",
       "        <small>Type: localization</small>\n",
       "    </div>\n",
       "    \n",
       "    <div style='text-align: center; border: 1px solid #ddd; padding: 5px;'>\n",
       "        <img src=\"data:image/jpeg;base64,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\" style=\"max-width:none\">\n",
       "        <br>\n",
       "        <small>Index: 13</small><br>\n",
       "        <small>Distance: 0.4008</small><br>\n",
       "        <small>ID: 289001</small><br>\n",
       "        <small>Type: localization</small>\n",
       "    </div>\n",
       "    \n",
       "    <div style='text-align: center; border: 1px solid #ddd; padding: 5px;'>\n",
       "        <img src=\"data:image/jpeg;base64,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\" style=\"max-width:none\">\n",
       "        <br>\n",
       "        <small>Index: 14</small><br>\n",
       "        <small>Distance: 0.4011</small><br>\n",
       "        <small>ID: 236</small><br>\n",
       "        <small>Type: full_image</small>\n",
       "    </div>\n",
       "    \n",
       "    <div style='text-align: center; border: 1px solid #ddd; padding: 5px;'>\n",
       "        <img src=\"data:image/jpeg;base64,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\" style=\"max-width:none\">\n",
       "        <br>\n",
       "        <small>Index: 15</small><br>\n",
       "        <small>Distance: 0.4035</small><br>\n",
       "        <small>ID: 290004</small><br>\n",
       "        <small>Type: localization</small>\n",
       "    </div>\n",
       "    \n",
       "    <div style='text-align: center; border: 1px solid #ddd; padding: 5px;'>\n",
       "        <img src=\"data:image/jpeg;base64,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\" style=\"max-width:none\">\n",
       "        <br>\n",
       "        <small>Index: 16</small><br>\n",
       "        <small>Distance: 0.4105</small><br>\n",
       "        <small>ID: 79001</small><br>\n",
       "        <small>Type: localization</small>\n",
       "    </div>\n",
       "    \n",
       "    <div style='text-align: center; border: 1px solid #ddd; padding: 5px;'>\n",
       "        <img src=\"data:image/jpeg;base64,/9j/4AAQSkZJRgABAQAAAQABAAD/2wBDAAoHBwgHBgoICAgLCgoLDhgQDg0NDh0VFhEYIx8lJCIfIiEmKzcvJik0KSEiMEExNDk7Pj4+JS5ESUM8SDc9Pjv/2wBDAQoLCw4NDhwQEBw7KCIoOzs7Ozs7Ozs7Ozs7Ozs7Ozs7Ozs7Ozs7Ozs7Ozs7Ozs7Ozs7Ozs7Ozs7Ozs7Ozs7Ozv/wAARCABdAEUDASIAAhEBAxEB/8QAHwAAAQUBAQEBAQEAAAAAAAAAAAECAwQFBgcICQoL/8QAtRAAAgEDAwIEAwUFBAQAAAF9AQIDAAQRBRIhMUEGE1FhByJxFDKBkaEII0KxwRVS0fAkM2JyggkKFhcYGRolJicoKSo0NTY3ODk6Q0RFRkdISUpTVFVWV1hZWmNkZWZnaGlqc3R1dnd4eXqDhIWGh4iJipKTlJWWl5iZmqKjpKWmp6ipqrKztLW2t7i5usLDxMXGx8jJytLT1NXW19jZ2uHi4+Tl5ufo6erx8vP09fb3+Pn6/8QAHwEAAwEBAQEBAQEBAQAAAAAAAAECAwQFBgcICQoL/8QAtREAAgECBAQDBAcFBAQAAQJ3AAECAxEEBSExBhJBUQdhcRMiMoEIFEKRobHBCSMzUvAVYnLRChYkNOEl8RcYGRomJygpKjU2Nzg5OkNERUZHSElKU1RVVldYWVpjZGVmZ2hpanN0dXZ3eHl6goOEhYaHiImKkpOUlZaXmJmaoqOkpaanqKmqsrO0tba3uLm6wsPExcbHyMnK0tPU1dbX2Nna4uPk5ebn6Onq8vP09fb3+Pn6/9oADAMBAAIRAxEAPwDsKSsTV9avLKNpILaMwocPJI3T3wKxv+E6tkm8uS73ZONyxfL+FQ2Ulc7M9MCq7Ag81jx6s97EJba5WVTz8h5A9xUEt9MW2tI349KnnK5TdJGMnFcN8SpXeGxt0BYEs5xzzwB/OtU3BbPzA/RjVWQKxyye1LnDkM/4cD7Ol88/7ots27+M9c10N5Kq3uYHjl387Sc9qzAFUjC0kTAM4J2gAn5eucf/AFqunJuViZxSjclvIJn2mO0K5Zi2COpPtRVqOG5niVkuw4wDlhnsP8KK7lNrT/M5OW5oTQi5tJbd+RIpU/jXk0n7uR43GSjEHtjFeu/x4HevKdbj8jXL1DxiZv1NedDc7WdP4W0zybi2v4rglZFKuhH1H866KaH5zhsc5wRXPeFroPpig/eift+ddC12k4zG67x1Qnaf161nJu5aRWMGB0U/QVE0OOqEH2OavyHfEoSBg3dsgio2UgcxH8sUAUPLIPLfgRVWCdotbWFSGLxjapOAT/k1pscfwkEe1cprd0YtXEyMVMe0jt2rSm/euRNaWOst/K8xlubNnYIuCoznrzx60VFDeukSyQyB/NG45HIHQDiivRT0OFmyeCD6V5j4kQnxFfZ/56Z/SvTSMivP/EsO3xDdHH3lVv0xXnR3O5lzwWm63uVOMqynn8a6ZrXzAcgH2xXN+Dzia5TeV+UGuowDk+afzrOfxFx2My90hpirQy+UwyOnFQrpWoKmBqLDHTGf8a2QI/7x/OkJixgEmmpySsHKjNt4LyBG828kmz0JPSuO1+ZhqkoLZIOOtd2zIATsf6V5/rbb9XuFxjDZ5HP0q4Nt3JkdRCry6dZtHESfJGdg/wA+9FXPD7NLpEDx3CRnywrK3bHpRXfGdkjilG7OgP3sVw/jB1g1tf8AbgGfzrum/wBYT6GuA8d5GsW5/wCmGP1NcEfiOx7EnhOUPqciZC7oz2zXWbABzKw+iiuH8HSMNcVR3Rv5V3pL4z8ufTFRU+I0jsRqV6eY5/GgsduMucn1oZtoyWI+gqMuT0ZjUDGsGP8AC2M155rz7dYuAV6PnOa795JB/Aa8910k6vcEj+Ktaa1IkdL4baa50ZAkSN5bsMtjpwf8aKb4TC/2Sd7EfvD/AA57CiuuMnY5pLU7iYFZXGO9cJ4+X/TLN8clGB/Ou9uuJifUVwfj5x9ps0B5CMxH4iuVfEb9DN8I7v7ehC8khu/sa9BIlHA2/iRXn3hDP9vxkDoGP6GvQmLEdh9BUVPiLjsNKOUAMqj6UgiA6yM1IzMBjcR+OKbwOSSeO5qChHVFBwGPua8z14htYujnH7wivR5WAHJFeaaod+pXDZzmRv51rTM5nX+E1dtGGzj94c0Uzw7iPR4vmK5J6d+aK157GbidzfDGG9K848bPv1eJf7sP9a9NuFDJg+lebeIYWn1BpZXBIBUALjgUre9cL6FTwmrLqxkAJ2of8K7fe7dE7etc34Yt0jaaRc5AC10IJJ6ms5/Eax2A+Z3x+dMO9vQVLsyfvUfZwT941NmO6KsjMEPzAYHtXnNz+8uHPqxOfxr097GOSNkLMNwxkVmDwtpsXzFXYg9zWsFYiTIdHiWLSbcMeq5xRWukESIqKgCqMAUVNmCkj//Z\" style=\"max-width:none\">\n",
       "        <br>\n",
       "        <small>Index: 17</small><br>\n",
       "        <small>Distance: 0.4128</small><br>\n",
       "        <small>ID: 290002</small><br>\n",
       "        <small>Type: localization</small>\n",
       "    </div>\n",
       "    \n",
       "    <div style='text-align: center; border: 1px solid #ddd; padding: 5px;'>\n",
       "        <img src=\"data:image/jpeg;base64,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\" style=\"max-width:none\">\n",
       "        <br>\n",
       "        <small>Index: 18</small><br>\n",
       "        <small>Distance: 0.4132</small><br>\n",
       "        <small>ID: 218001</small><br>\n",
       "        <small>Type: localization</small>\n",
       "    </div>\n",
       "    \n",
       "    <div style='text-align: center; border: 1px solid #ddd; padding: 5px;'>\n",
       "        <img src=\"data:image/jpeg;base64,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\" style=\"max-width:none\">\n",
       "        <br>\n",
       "        <small>Index: 19</small><br>\n",
       "        <small>Distance: 0.4143</small><br>\n",
       "        <small>ID: 198002</small><br>\n",
       "        <small>Type: localization</small>\n",
       "    </div>\n",
       "    \n",
       "    <div style='text-align: center; border: 1px solid #ddd; padding: 5px;'>\n",
       "        <img src=\"data:image/jpeg;base64,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\" style=\"max-width:none\">\n",
       "        <br>\n",
       "        <small>Index: 20</small><br>\n",
       "        <small>Distance: 0.4145</small><br>\n",
       "        <small>ID: 236001</small><br>\n",
       "        <small>Type: localization</small>\n",
       "    </div>\n",
       "    \n",
       "    <div style='text-align: center; border: 1px solid #ddd; padding: 5px;'>\n",
       "        <img src=\"data:image/jpeg;base64,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\" style=\"max-width:none\">\n",
       "        <br>\n",
       "        <small>Index: 21</small><br>\n",
       "        <small>Distance: 0.4171</small><br>\n",
       "        <small>ID: 100001</small><br>\n",
       "        <small>Type: localization</small>\n",
       "    </div>\n",
       "    \n",
       "    <div style='text-align: center; border: 1px solid #ddd; padding: 5px;'>\n",
       "        <img src=\"data:image/jpeg;base64,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\" style=\"max-width:none\">\n",
       "        <br>\n",
       "        <small>Index: 22</small><br>\n",
       "        <small>Distance: 0.4178</small><br>\n",
       "        <small>ID: 204</small><br>\n",
       "        <small>Type: full_image</small>\n",
       "    </div>\n",
       "    \n",
       "    <div style='text-align: center; border: 1px solid #ddd; padding: 5px;'>\n",
       "        <img src=\"data:image/jpeg;base64,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\" style=\"max-width:none\">\n",
       "        <br>\n",
       "        <small>Index: 23</small><br>\n",
       "        <small>Distance: 0.4197</small><br>\n",
       "        <small>ID: 78001</small><br>\n",
       "        <small>Type: localization</small>\n",
       "    </div>\n",
       "    \n",
       "    <div style='text-align: center; border: 1px solid #ddd; padding: 5px;'>\n",
       "        <img src=\"data:image/jpeg;base64,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\" style=\"max-width:none\">\n",
       "        <br>\n",
       "        <small>Index: 24</small><br>\n",
       "        <small>Distance: 0.4200</small><br>\n",
       "        <small>ID: 203001</small><br>\n",
       "        <small>Type: localization</small>\n",
       "    </div>\n",
       "    \n",
       "    <div style='text-align: center; border: 1px solid #ddd; padding: 5px;'>\n",
       "        <img src=\"data:image/jpeg;base64,/9j/4AAQSkZJRgABAQAAAQABAAD/2wBDAAoHBwgHBgoICAgLCgoLDhgQDg0NDh0VFhEYIx8lJCIfIiEmKzcvJik0KSEiMEExNDk7Pj4+JS5ESUM8SDc9Pjv/2wBDAQoLCw4NDhwQEBw7KCIoOzs7Ozs7Ozs7Ozs7Ozs7Ozs7Ozs7Ozs7Ozs7Ozs7Ozs7Ozs7Ozs7Ozs7Ozs7Ozs7Ozv/wAARCABrAH8DASIAAhEBAxEB/8QAHwAAAQUBAQEBAQEAAAAAAAAAAAECAwQFBgcICQoL/8QAtRAAAgEDAwIEAwUFBAQAAAF9AQIDAAQRBRIhMUEGE1FhByJxFDKBkaEII0KxwRVS0fAkM2JyggkKFhcYGRolJicoKSo0NTY3ODk6Q0RFRkdISUpTVFVWV1hZWmNkZWZnaGlqc3R1dnd4eXqDhIWGh4iJipKTlJWWl5iZmqKjpKWmp6ipqrKztLW2t7i5usLDxMXGx8jJytLT1NXW19jZ2uHi4+Tl5ufo6erx8vP09fb3+Pn6/8QAHwEAAwEBAQEBAQEBAQAAAAAAAAECAwQFBgcICQoL/8QAtREAAgECBAQDBAcFBAQAAQJ3AAECAxEEBSExBhJBUQdhcRMiMoEIFEKRobHBCSMzUvAVYnLRChYkNOEl8RcYGRomJygpKjU2Nzg5OkNERUZHSElKU1RVVldYWVpjZGVmZ2hpanN0dXZ3eHl6goOEhYaHiImKkpOUlZaXmJmaoqOkpaanqKmqsrO0tba3uLm6wsPExcbHyMnK0tPU1dbX2Nna4uPk5ebn6Onq8vP09fb3+Pn6/9oADAMBAAIRAxEAPwDuvGF/Lpvhe9uodhdVAG/pywH9a8mv/GVzdQQIIQssYzI3944IB9uteg/FGZovCqgEgPOoIzjPBOP5V46GZYSuANxB6c/TNXGbitCZQU90dn4J8U2OnXE7alIyTzSF/O6rjgY9a9XF5bXtmXgnjlGP4GBr5ybkYPf0qSK5nt+YZpIt2eEYjgjmobbZokrHs1su68lZSCpbgg5BrUC8Zrhvh/qqSae1ox/eRMTyeoNdwjbl9K82d1NnrQ1ggBz3qOdTtPFKwKPuHA71NJiWLI4NStUN6GD5sVnI5lkSJWOcswGad/bumxSCN9Qt1YjODIKzPGOlNfaRJtGZI/nUf0/LNeV/Lu5DDB/Gt6VNSW5jWquD2PaU13S5wTHqFucHH+sApVvrSdzHDcxSMOoRwTXi+8YyTwfWnRSvG6tG5DDoVOCK0eHXcxWKa3R7O43LmsLV1LJtUZzxgVyGneLtUsgFeQzxA/clOTj69a6S31WLWLDzkASXo0YOStYSpSi1fY64V4zTtuXNLtf7JgCTSj/SMlcdAfSvQNDTZpUY3ZOTn65ryjxDqtrb2qxw3B+1h0fyhyMg5z7VrfDfxHcXHiKe1uXZku0LAZ4VlHb8K9io4qKijwIKTm5y6mp45sH1yeKzVyqxMAc9FyMswHr0FeTXUHlTvGxyY2I969U1rU0077VcSXEbSK7DYxy27qB9MivK5pXuJ5JpCMu25sDuamooqKtuVSlJyd9iLHqo4ppXA6c9PpUh5B680zJ+bnpxyKxN2bngqcw+IolBwHBX+v8ASvXrX94gOeRXiOi3H2bWLaXONkgz+Ne0Wb4UEHqK466949HDP93YtSEE4Iyad0UUjfMaXGFNYpGrKl7Gsi/h0rxnxDYCx1m4iXIQNvXHoea9juCTz1FecePbQC8huFAyylSSfT/9daUnaZnXhek/I5LBOGIxnoPSjaecYJ7npikCYxjOPXNLt2gg557EV3HmCk46ghR096ntruW1m3QSmN8ZJHFRL2weQO9CjKYwOT19aQ763Q5meV2mdyXf5i3rXUfDwK3i623FhhXPA6/Ia5c5CkKMd63vB880OvxzQMElVGIJ+mP5GqiruyJk7K7JPHe0+MNQ8sY5GRnvgZrnxkqOMEit7xqzHxbfsVA2vjGPQCueDkjHPzetJlINrevWnl0FqytHmUsCHzjAwcj+VMPyuAfTg570g5X5gPcUAKCy/Ue9eueGNQXU9EhkLDzFXawHYivIDk5DAZ789q6zwLqjWmovZOR5cwyvPcVhWjeN+x1YefLK3c9RjYFR7DvTi3zY9aorL8yjHWrv3ugziuNM7WrFaYANjNcT44t/M07zFYZifIJ967qZQBkj865nxVbC50uUKM/LwPWmnaSY7c0Wjy1Y2wgXGG+6Ae/T8KcY5AhJQ/I3zNnpmgxoJDGHB2rnc4I5x0/OmYbYMA4Y9n6n3r0zxWSOpLbREQpGQvc/T1phHAAGB0FTxyXMb+ZG0geMY9dopPNYRLHhSu7d8y47etAyJeGOQcDnrW34WgebWE27sKrMxHbjH9axizFwwQcnIC11XgVVM11Of4UVfz//AFVdJXmjKq7QZB46WWXxLdXXkGJHfC7v4sDGfxxmudwfr3re8Z30t/4kuXmXaEIULnjGM1g7SVJxyOp9qiSs7GkXdXEZVwc845pCvGN33uenSn4B+U5OaHQ5IIIzx9KRZF8p+fPXg8UkNzNa3Ec0bASIcj2qdleMBtpIK8VVdCARnczdz2pbiTd7o9g0XU4dV0uO5iYZI5Hoe4rbgcsgywPFeTeD9ZOm34t3+W3uMLz2b1r1C0lHlhc5YV5848krHrU5+0hcvTpvj9TWPfxmWFlZeOgxWwpBXFVJ4vXvUsqDszxXWITb6jPHnlZOp9KprnJXHynn3zXV+ONP8i7W8UYRxh+O9csrYC8BmPSu+nLmimeZWhy1GhUckBuRng81MZWAUbgQgx81RbV+7tIHUkUoKEFskDsMVoZIXBJ5UqfUGug8L3eoxTS2mnWyTyTAM2ewFYIOW4ZTkc13/wAONOkEl1qJIC7fJUZ78E/0qk2ndCaTVmc14mtHg1iSRzuSf5lb+lZG7dhc4HvXQeLtSn+1yaddW6x7Jy4bPOCAOPY9a5x2XGeeeKdRpyuiKaajZjVkz8u0sQcZzSkjJyPu+9KoVC2BnA7ikC7wVJODzUFj5VMTFCCx6cHiq7n5gBnp3GalL8BsEE9AT0qLOSQDjHU0DuBGBjJBHQ7cYr0vwjrQ1CxUSOBPDhJM9/Q15s7MVIDE7+x7/Wr2jai2lXqXG5jjCsvZh3zWVWHOjehV5JeR7XEQQDjNLKpZskdKoaVdrd2yOjblYAhvWtMrletcR3vRnO+K7CO40K6+QMQmRx3ryXy13H5tuAcMR09q9xvoRJbMG6H1rx/XNMk03VJbdgfvZQ9iDXRQlZ2ObExvFSMxUV+AThvfvUhRuvQDgDHANMPDc4J7DpTuij5ioJz1zXUcQKjMwXaCScAjua9Q+G9nc2z3tndgo2VIQ9uM5/IiuD8N2wu9dtEZl2h93ucc/wBK9PtRIl8jLhTzk5xng45raFNSi2YVKnLJI8+1fw/fahpMniKZ9zTOWMZPIjPAxWZrdhFpBtbV5G82SBXk9mP+cfhXrWqaZCLKKxJHloY8AdwpBx+leReIbxdS126nYgqG2J9B/n9alW5Wy23zpIp70PKAswHBJ60E9fkGR93BqFVwwKkDn17UoaTOAw69+wrM0FZQQBtbnnOaYMZL/Nz2pTI5GTj5qQOVxhV+X3oJJB8uFycLz0pGIIHXk0wM20rt5btu6U/cQckE8YHNBR2XgXxEYJ10u4YhGP7st29q9LhcNHnHGe9eAK7RMjqGDKcjB5z61674L1o61pG2Rv38XyuPU+tctWFndHdRqcy5WdJMquNhG7vXHeM9F+16a86r++gBZT6juK7JTg89qguo1mRkK5BrHZ3RturM8GBxtOD7kj+VOwpXgkAdvWun13wje2jSXdmpmg3ElAMsn4d/wrl2dVO2RcHuc13RkpK6PNnBwdmSwXMtrOJbeQxyL0YV6B8Pbi+1nUmhvdRzBDGW8s/efPf6CvOV2kjgkHvXofwv00tqs9+5OyJPLXI6k+/4frVptbGbinubVlpV29rFqOqXj3F9fDI5wkKkDhR/WuP1PwFqUEsrWRW5h6qCRuNd/Zsz6Zou45zaIf8AxwVYqpaRSFHWTPHbrw/qthH511ZPHGCMsV4rOZWyeAPqK9Z8Xf8AIt3HuKpWtlatAga3jOUXOVHoKcIc5E58h5kA2eNnt8vSneW/90Ed/kPNen/YbVXBW3jGD/dFT+REAv7pP++RWvsUupk8Q+x5QwZTgque2RjFN+TkfLjuc16udPs5nJktYmJPdRVSfQdKaVs2MXPXAxSdHzBYjujzNsZB2jI4AJ7V2nwyjkGpXMqEhAihueCT/wDqqWbQtMS2k22ijDccn/GtjwDbQwJfLEm0eZ61hWpuMTrwtVTmjrmYbgB2NKRnqajIG4VJ3rzz0yARD5lI4rjfE/g+zuba4vrRPKukXcQOj49q7hQM1m3xIlwOhGD+dCbjqh8qnozyGx0q/wBQY/ZLaWXGMhV4Fez+CtH/ALI0aO3m/wBccvJjoCe38qyNCRU1q4RFCqucAcCuv04DDfQV2wnzI4K1L2crXP/Z\" style=\"max-width:none\">\n",
       "        <br>\n",
       "        <small>Index: 25</small><br>\n",
       "        <small>Distance: 0.4205</small><br>\n",
       "        <small>ID: 124003</small><br>\n",
       "        <small>Type: localization</small>\n",
       "    </div>\n",
       "    \n",
       "    <div style='text-align: center; border: 1px solid #ddd; padding: 5px;'>\n",
       "        <img src=\"data:image/jpeg;base64,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\" style=\"max-width:none\">\n",
       "        <br>\n",
       "        <small>Index: 26</small><br>\n",
       "        <small>Distance: 0.4221</small><br>\n",
       "        <small>ID: 176001</small><br>\n",
       "        <small>Type: localization</small>\n",
       "    </div>\n",
       "    \n",
       "    <div style='text-align: center; border: 1px solid #ddd; padding: 5px;'>\n",
       "        <img src=\"data:image/jpeg;base64,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\" style=\"max-width:none\">\n",
       "        <br>\n",
       "        <small>Index: 27</small><br>\n",
       "        <small>Distance: 0.4231</small><br>\n",
       "        <small>ID: 236002</small><br>\n",
       "        <small>Type: localization</small>\n",
       "    </div>\n",
       "    \n",
       "    <div style='text-align: center; border: 1px solid #ddd; padding: 5px;'>\n",
       "        <img src=\"data:image/jpeg;base64,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\" style=\"max-width:none\">\n",
       "        <br>\n",
       "        <small>Index: 28</small><br>\n",
       "        <small>Distance: 0.4257</small><br>\n",
       "        <small>ID: 205002</small><br>\n",
       "        <small>Type: localization</small>\n",
       "    </div>\n",
       "    \n",
       "    <div style='text-align: center; border: 1px solid #ddd; padding: 5px;'>\n",
       "        <img src=\"data:image/jpeg;base64,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\" style=\"max-width:none\">\n",
       "        <br>\n",
       "        <small>Index: 29</small><br>\n",
       "        <small>Distance: 0.4257</small><br>\n",
       "        <small>ID: 149003</small><br>\n",
       "        <small>Type: localization</small>\n",
       "    </div>\n",
       "    \n",
       "    <div style='text-align: center; border: 1px solid #ddd; padding: 5px;'>\n",
       "        <img src=\"data:image/jpeg;base64,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\" style=\"max-width:none\">\n",
       "        <br>\n",
       "        <small>Index: 30</small><br>\n",
       "        <small>Distance: 0.4258</small><br>\n",
       "        <small>ID: 186001</small><br>\n",
       "        <small>Type: localization</small>\n",
       "    </div>\n",
       "    \n",
       "    <div style='text-align: center; border: 1px solid #ddd; padding: 5px;'>\n",
       "        <img src=\"data:image/jpeg;base64,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\" style=\"max-width:none\">\n",
       "        <br>\n",
       "        <small>Index: 31</small><br>\n",
       "        <small>Distance: 0.4269</small><br>\n",
       "        <small>ID: 218</small><br>\n",
       "        <small>Type: full_image</small>\n",
       "    </div>\n",
       "    \n",
       "    <div style='text-align: center; border: 1px solid #ddd; padding: 5px;'>\n",
       "        <img src=\"data:image/jpeg;base64,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\" style=\"max-width:none\">\n",
       "        <br>\n",
       "        <small>Index: 32</small><br>\n",
       "        <small>Distance: 0.4294</small><br>\n",
       "        <small>ID: 291004</small><br>\n",
       "        <small>Type: localization</small>\n",
       "    </div>\n",
       "    \n",
       "    <div style='text-align: center; border: 1px solid #ddd; padding: 5px;'>\n",
       "        <img src=\"data:image/jpeg;base64,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\" style=\"max-width:none\">\n",
       "        <br>\n",
       "        <small>Index: 33</small><br>\n",
       "        <small>Distance: 0.4298</small><br>\n",
       "        <small>ID: 79</small><br>\n",
       "        <small>Type: full_image</small>\n",
       "    </div>\n",
       "    \n",
       "    <div style='text-align: center; border: 1px solid #ddd; padding: 5px;'>\n",
       "        <img src=\"data:image/jpeg;base64,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\" style=\"max-width:none\">\n",
       "        <br>\n",
       "        <small>Index: 34</small><br>\n",
       "        <small>Distance: 0.4306</small><br>\n",
       "        <small>ID: 306002</small><br>\n",
       "        <small>Type: localization</small>\n",
       "    </div>\n",
       "    \n",
       "    <div style='text-align: center; border: 1px solid #ddd; padding: 5px;'>\n",
       "        <img src=\"data:image/jpeg;base64,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\" style=\"max-width:none\">\n",
       "        <br>\n",
       "        <small>Index: 35</small><br>\n",
       "        <small>Distance: 0.4329</small><br>\n",
       "        <small>ID: 23002</small><br>\n",
       "        <small>Type: localization</small>\n",
       "    </div>\n",
       "    \n",
       "    <div style='text-align: center; border: 1px solid #ddd; padding: 5px;'>\n",
       "        <img src=\"data:image/jpeg;base64,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\" style=\"max-width:none\">\n",
       "        <br>\n",
       "        <small>Index: 36</small><br>\n",
       "        <small>Distance: 0.4338</small><br>\n",
       "        <small>ID: 273002</small><br>\n",
       "        <small>Type: localization</small>\n",
       "    </div>\n",
       "    \n",
       "    <div style='text-align: center; border: 1px solid #ddd; padding: 5px;'>\n",
       "        <img src=\"data:image/jpeg;base64,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\" style=\"max-width:none\">\n",
       "        <br>\n",
       "        <small>Index: 37</small><br>\n",
       "        <small>Distance: 0.4344</small><br>\n",
       "        <small>ID: 202003</small><br>\n",
       "        <small>Type: localization</small>\n",
       "    </div>\n",
       "    \n",
       "    <div style='text-align: center; border: 1px solid #ddd; padding: 5px;'>\n",
       "        <img src=\"data:image/jpeg;base64,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\" style=\"max-width:none\">\n",
       "        <br>\n",
       "        <small>Index: 38</small><br>\n",
       "        <small>Distance: 0.4346</small><br>\n",
       "        <small>ID: 239001</small><br>\n",
       "        <small>Type: localization</small>\n",
       "    </div>\n",
       "    \n",
       "    <div style='text-align: center; border: 1px solid #ddd; padding: 5px;'>\n",
       "        <img src=\"data:image/jpeg;base64,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\" style=\"max-width:none\">\n",
       "        <br>\n",
       "        <small>Index: 39</small><br>\n",
       "        <small>Distance: 0.4358</small><br>\n",
       "        <small>ID: 80002</small><br>\n",
       "        <small>Type: localization</small>\n",
       "    </div>\n",
       "    \n",
       "    <div style='text-align: center; border: 1px solid #ddd; padding: 5px;'>\n",
       "        <img src=\"data:image/jpeg;base64,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\" style=\"max-width:none\">\n",
       "        <br>\n",
       "        <small>Index: 40</small><br>\n",
       "        <small>Distance: 0.4361</small><br>\n",
       "        <small>ID: 62003</small><br>\n",
       "        <small>Type: localization</small>\n",
       "    </div>\n",
       "    \n",
       "    <div style='text-align: center; border: 1px solid #ddd; padding: 5px;'>\n",
       "        <img src=\"data:image/jpeg;base64,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\" style=\"max-width:none\">\n",
       "        <br>\n",
       "        <small>Index: 41</small><br>\n",
       "        <small>Distance: 0.4363</small><br>\n",
       "        <small>ID: 309003</small><br>\n",
       "        <small>Type: localization</small>\n",
       "    </div>\n",
       "    \n",
       "    <div style='text-align: center; border: 1px solid #ddd; padding: 5px;'>\n",
       "        <img src=\"data:image/jpeg;base64,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\" style=\"max-width:none\">\n",
       "        <br>\n",
       "        <small>Index: 42</small><br>\n",
       "        <small>Distance: 0.4366</small><br>\n",
       "        <small>ID: 216001</small><br>\n",
       "        <small>Type: localization</small>\n",
       "    </div>\n",
       "    \n",
       "    <div style='text-align: center; border: 1px solid #ddd; padding: 5px;'>\n",
       "        <img src=\"data:image/jpeg;base64,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\" style=\"max-width:none\">\n",
       "        <br>\n",
       "        <small>Index: 43</small><br>\n",
       "        <small>Distance: 0.4367</small><br>\n",
       "        <small>ID: 198</small><br>\n",
       "        <small>Type: full_image</small>\n",
       "    </div>\n",
       "    \n",
       "    <div style='text-align: center; border: 1px solid #ddd; padding: 5px;'>\n",
       "        <img src=\"data:image/jpeg;base64,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\" style=\"max-width:none\">\n",
       "        <br>\n",
       "        <small>Index: 44</small><br>\n",
       "        <small>Distance: 0.4368</small><br>\n",
       "        <small>ID: 132003</small><br>\n",
       "        <small>Type: localization</small>\n",
       "    </div>\n",
       "    \n",
       "    <div style='text-align: center; border: 1px solid #ddd; padding: 5px;'>\n",
       "        <img src=\"data:image/jpeg;base64,/9j/4AAQSkZJRgABAQAAAQABAAD/2wBDAAoHBwgHBgoICAgLCgoLDhgQDg0NDh0VFhEYIx8lJCIfIiEmKzcvJik0KSEiMEExNDk7Pj4+JS5ESUM8SDc9Pjv/2wBDAQoLCw4NDhwQEBw7KCIoOzs7Ozs7Ozs7Ozs7Ozs7Ozs7Ozs7Ozs7Ozs7Ozs7Ozs7Ozs7Ozs7Ozs7Ozs7Ozs7Ozv/wAARCABLAG0DASIAAhEBAxEB/8QAHwAAAQUBAQEBAQEAAAAAAAAAAAECAwQFBgcICQoL/8QAtRAAAgEDAwIEAwUFBAQAAAF9AQIDAAQRBRIhMUEGE1FhByJxFDKBkaEII0KxwRVS0fAkM2JyggkKFhcYGRolJicoKSo0NTY3ODk6Q0RFRkdISUpTVFVWV1hZWmNkZWZnaGlqc3R1dnd4eXqDhIWGh4iJipKTlJWWl5iZmqKjpKWmp6ipqrKztLW2t7i5usLDxMXGx8jJytLT1NXW19jZ2uHi4+Tl5ufo6erx8vP09fb3+Pn6/8QAHwEAAwEBAQEBAQEBAQAAAAAAAAECAwQFBgcICQoL/8QAtREAAgECBAQDBAcFBAQAAQJ3AAECAxEEBSExBhJBUQdhcRMiMoEIFEKRobHBCSMzUvAVYnLRChYkNOEl8RcYGRomJygpKjU2Nzg5OkNERUZHSElKU1RVVldYWVpjZGVmZ2hpanN0dXZ3eHl6goOEhYaHiImKkpOUlZaXmJmaoqOkpaanqKmqsrO0tba3uLm6wsPExcbHyMnK0tPU1dbX2Nna4uPk5ebn6Onq8vP09fb3+Pn6/9oADAMBAAIRAxEAPwDtbV/LuinZua1lzjrXGeK9Wk0WG0uoz/y3G8eq+lb+leINO1KBXguUORyu4ZH4VN0XZtXRsAHpWTrOo2mnyW6XMoRp5NqE9M4NaHnxnnePzrzj4k6lDPJZ2sUilomZ2wenHFDYkduPrS4zXPaJqFvc6XbvM08km3DcsQMfpWqTGCn2bPmEjgenvU85fIXRRRil/CtCBvJPSkiijkm/eRJIo/vLnFQ3r3EcW+BI2K8tvOOO9cx4R8R3F94nvY55P3cq5jTPTBxgfhU31sPl0ueiIAFCgYFP6DpTIzkZyPxpztsUs5CqOpPAFMkoai+VWPP3jUHas7/hILPUdaltbaTzlt4wS6AkFiecfpVzz1H3kkH1Wp5kVys5TxfFa3ejstsDJJE+5gAScYNebqWgf925UjuDivap7ZUtHRVRV2n5VGM8Vxt34Usrly6loSf4kPB/Csp1Y07KZtCnKpdwOYj1a7WMoZnYHuzt/jVCd2eTONzE/ma7OHwGrqGGoEA/7HP860bfwnp2myq4Vp5QMh5O34VnLEU0ro0VGo3Zmj4Ttng0CFJEBc5Zsjua3duRhUC8+lVNLH7hx6Gr9b0pc8FIwqR5ZtC9aSgUGtTMr6irPp1wqMQ3ltjHrivEobm4tb1pYZWilVjgqcEV7Zfvss5SOu3FcBfeFYL2582CYwyMfmUjIJrnqVYwkoyN6dOUlzRGWnjjWYoCGvXLDplFNZOpeItW1Qlbm+ldP7gOB+QrYHgS8WTZ9rhx645qzbeDbWJw1zO8xB+6BgVEq9JatlxpVW9ESfD+12i5kGVyAAQSM12hiU87Wb3LGqdhBFa+SIECIMphff8A+vitXH1raEo1I81jCacXYy9TvRCnlIfmb730rPUKQFHKfWo74ltRlB5wQP0qKAYJwT8x6V5uJlzSafQ9LDx5Y3Rs2qD7MoBOOf5027wGXn+GpIBtiUegqO6TdHnGSP5VzWWxtfW4/TJM+YuMcg5rRzxWXpuTI+fQVo9K9jDP90jy8Qv3jHZpCab+NNJrcwI76TFnIfQZrHtoxIRJ/EzDFal3zbSA9NprO09W3KB90HdXn4xapnfhH7rNHb+8BxzVby/lYnpk1dHT3qrcjGcDjr1rz3qjsTI7efkpjjIKn3FbUZWRAy8giufcAjch6YrVjma2QBlJVgCuP1r0sLP3bdjgxMVe5x+pzS2XiOQSkiKcAgnp0A/nWrZR7pQSOBzV3VtNgv4dkyBtpyp7g+tYWk6xBbj7PdOVZTgORkHHrU4qlrzI1w1Vtcp1EaDHvUcjYO31qumsWBjOLpMj3qCXVrOM7g7SeyqTXna30OtFuxUpLKexxWhisrQ7v7es0pG0iTbt9BgVsBccV7dBWpo8mtrNkZFIRxU3lk9qRkIrYyKF0CYXHqp/lVXTEzDvIwSMVoTKcHisW31e2iupLR32MjkDI4NcWLXupnZhm7tG2AMYqCZAyEetNW4jYZE0f/fQqvPqtrApDzKSPQ5rzFud1mZup3b2NoYwR5jnC47D/GunsN4sLcSLhxGu7I74rn9LtotXvnvZlJ8ogIh6D611AQAV6+Gp8kb9zzsRPmlZdCKaHIPFea6paSWOqzxsGX94SvHBB5r1bAJ5FUr6wtLy3b7RAsm3oT2rolHmVjnhPkdzzSK6uF+VX/MCknnuX+VpW98HFdPNpVkj5WDb9GP+NWtP0mwkfdJbK5B/iJNYfV9TqWJRV8EwSrb3JIbYzjaT3PeusSL1p0UUcUYSNFRQOgGKl/iNbpWVjmlLmdyPbTWU1N3owKZJSljbHFeaX0k0Or3WM/61vlYe9erMB6VzPiXTrRgLgwL5rKcsMgmonDmia0qnJI5SPUHK8xoO3SonuZGOAFQegFPRFyRgdK0tHsLW4mHnRB+e5NcyoHXKrZXNnwbC/wBjmkYNh5BgnvxXUCPjk0QRRwxKkaBVC8AVLXWlZWOCUuZ3P//Z\" style=\"max-width:none\">\n",
       "        <br>\n",
       "        <small>Index: 45</small><br>\n",
       "        <small>Distance: 0.4370</small><br>\n",
       "        <small>ID: 350002</small><br>\n",
       "        <small>Type: localization</small>\n",
       "    </div>\n",
       "    \n",
       "    <div style='text-align: center; border: 1px solid #ddd; padding: 5px;'>\n",
       "        <img src=\"data:image/jpeg;base64,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\" style=\"max-width:none\">\n",
       "        <br>\n",
       "        <small>Index: 46</small><br>\n",
       "        <small>Distance: 0.4378</small><br>\n",
       "        <small>ID: 101002</small><br>\n",
       "        <small>Type: localization</small>\n",
       "    </div>\n",
       "    \n",
       "    <div style='text-align: center; border: 1px solid #ddd; padding: 5px;'>\n",
       "        <img src=\"data:image/jpeg;base64,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\" style=\"max-width:none\">\n",
       "        <br>\n",
       "        <small>Index: 47</small><br>\n",
       "        <small>Distance: 0.4378</small><br>\n",
       "        <small>ID: 70003</small><br>\n",
       "        <small>Type: localization</small>\n",
       "    </div>\n",
       "    \n",
       "    <div style='text-align: center; border: 1px solid #ddd; padding: 5px;'>\n",
       "        <img src=\"data:image/jpeg;base64,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\" style=\"max-width:none\">\n",
       "        <br>\n",
       "        <small>Index: 48</small><br>\n",
       "        <small>Distance: 0.4384</small><br>\n",
       "        <small>ID: 211001</small><br>\n",
       "        <small>Type: localization</small>\n",
       "    </div>\n",
       "    \n",
       "    <div style='text-align: center; border: 1px solid #ddd; padding: 5px;'>\n",
       "        <img src=\"data:image/jpeg;base64,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\" style=\"max-width:none\">\n",
       "        <br>\n",
       "        <small>Index: 49</small><br>\n",
       "        <small>Distance: 0.4387</small><br>\n",
       "        <small>ID: 170002</small><br>\n",
       "        <small>Type: localization</small>\n",
       "    </div>\n",
       "    </div>"
      ],
      "text/plain": [
       "<IPython.core.display.HTML object>"
      ]
     },
     "metadata": {},
     "output_type": "display_data"
    }
   ],
   "source": [
    "# Extract data for plot\n",
    "indices = list(range(len(results)))\n",
    "distances = [1 - result.score for result in results]  # Convert cosine similarity to distance\n",
    "\n",
    "# Create scatter plot with simpler hover text\n",
    "fig = go.Figure(data=go.Scatter(\n",
    "    x=indices,\n",
    "    y=distances,\n",
    "    mode='lines+markers',\n",
    "    marker=dict(size=8),\n",
    "    text=[f'Index: {i}<br>ID: {result.id}<br>Distance: {1-result.score:.4f}<br>Type: {result.payload[\"type\"]}' \n",
    "          for i, result in enumerate(results)],\n",
    "    hovertemplate='%{text}<extra></extra>'\n",
    "))\n",
    "\n",
    "fig.update_layout(\n",
    "    title='Image Similarity Plot',\n",
    "    xaxis_title='Index',\n",
    "    yaxis_title='Distance',\n",
    "    width=800,\n",
    "    height=400,\n",
    "    showlegend=False\n",
    ")\n",
    "\n",
    "# Display plot\n",
    "fig.show()\n",
    "\n",
    "# Create grid of thumbnails below the plot\n",
    "html = ['<div style=\"display: flex; flex-wrap: wrap; gap: 10px;\">']\n",
    "\n",
    "for i, result in enumerate(results):\n",
    "    img_html = get_image_html(result, size=(150, 210))\n",
    "    item_html = f\"\"\"\n",
    "    <div style='text-align: center; border: 1px solid #ddd; padding: 5px;'>\n",
    "        {img_html}\n",
    "        <br>\n",
    "        <small>Index: {i}</small><br>\n",
    "        <small>Distance: {1-result.score:.4f}</small><br>\n",
    "        <small>ID: {result.id}</small><br>\n",
    "        <small>Type: {result.payload['type']}</small>\n",
    "    </div>\n",
    "    \"\"\"\n",
    "    html.append(item_html)\n",
    "\n",
    "html.append('</div>')\n",
    "display(HTML(''.join(html)))"
   ]
  }
 ],
 "metadata": {
  "kernelspec": {
   "display_name": ".venv",
   "language": "python",
   "name": "python3"
  },
  "language_info": {
   "codemirror_mode": {
    "name": "ipython",
    "version": 3
   },
   "file_extension": ".py",
   "mimetype": "text/x-python",
   "name": "python",
   "nbconvert_exporter": "python",
   "pygments_lexer": "ipython3",
   "version": "3.11.9"
  }
 },
 "nbformat": 4,
 "nbformat_minor": 2
}
