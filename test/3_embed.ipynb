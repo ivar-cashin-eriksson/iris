{
 "cells": [
  {
   "cell_type": "code",
   "execution_count": 21,
   "metadata": {},
   "outputs": [],
   "source": [
    "import os\n",
    "os.environ['KMP_DUPLICATE_LIB_OK']='TRUE'"
   ]
  },
  {
   "cell_type": "code",
   "execution_count": 22,
   "metadata": {},
   "outputs": [],
   "source": [
    "import sys\n",
    "sys.path.append(r'c:\\Users\\ice\\projects\\iris')\n",
    "\n",
    "from PIL import Image\n",
    "from tqdm.notebook import tqdm\n",
    "import plotly.graph_objects as go\n",
    "from IPython.display import display, HTML\n",
    "import base64\n",
    "from io import BytesIO\n",
    "\n",
    "from iris.config.data_pipeline_config_manager import DataPipelineConfigManager\n",
    "from iris.config.embedding_pipeline_config_manager import EmbeddingPipelineConfigManager\n",
    "from iris.data_pipeline.mongodb_manager import MongoDBManager\n",
    "from iris.data_pipeline.qdrant_manager import QdrantManager\n",
    "from iris.embedding_pipeline.embedding_handler import EmbeddingHandler"
   ]
  },
  {
   "cell_type": "code",
   "execution_count": 23,
   "metadata": {},
   "outputs": [],
   "source": [
    "# Initialize configuration managers\n",
    "data_config = DataPipelineConfigManager()\n",
    "embedding_config = EmbeddingPipelineConfigManager()\n",
    "\n",
    "shop_config = data_config.shop_config\n",
    "mongodb_config = data_config.mongodb_config\n",
    "qdrant_config = data_config.qdrant_config\n",
    "\n",
    "# Create managers\n",
    "mongodb_manager = MongoDBManager(mongodb_config)\n",
    "qdrant_manager = QdrantManager(qdrant_config)\n",
    "\n",
    "# Initialize the EmbeddingHandler\n",
    "embedding_handler = EmbeddingHandler(embedding_config.clip_config)"
   ]
  },
  {
   "cell_type": "code",
   "execution_count": null,
   "metadata": {},
   "outputs": [
    {
     "data": {
      "application/vnd.jupyter.widget-view+json": {
       "model_id": "a9a41fd2c6ca41f598160db7c607f909",
       "version_major": 2,
       "version_minor": 0
      },
      "text/plain": [
       "Processing images:   0%|          | 0/366 [00:00<?, ?it/s]"
      ]
     },
     "metadata": {},
     "output_type": "display_data"
    },
    {
     "ename": "KeyboardInterrupt",
     "evalue": "",
     "output_type": "error",
     "traceback": [
      "\u001b[31m---------------------------------------------------------------------------\u001b[39m",
      "\u001b[31mKeyboardInterrupt\u001b[39m                         Traceback (most recent call last)",
      "\u001b[36mCell\u001b[39m\u001b[36m \u001b[39m\u001b[32mIn[24]\u001b[39m\u001b[32m, line 21\u001b[39m\n\u001b[32m     19\u001b[39m \u001b[38;5;66;03m# Get embedding and add to Qdrant\u001b[39;00m\n\u001b[32m     20\u001b[39m embedding = embedding_handler.get_augmented_embedding(img)\n\u001b[32m---> \u001b[39m\u001b[32m21\u001b[39m \u001b[43mqm\u001b[49m\u001b[43m.\u001b[49m\u001b[43mupsert_points\u001b[49m\u001b[43m(\u001b[49m\n\u001b[32m     22\u001b[39m \u001b[43m    \u001b[49m\u001b[43mcollection_name\u001b[49m\u001b[43m,\u001b[49m\n\u001b[32m     23\u001b[39m \u001b[43m    \u001b[49m\u001b[43mvectors\u001b[49m\u001b[43m=\u001b[49m\u001b[43m[\u001b[49m\u001b[43membedding\u001b[49m\u001b[43m]\u001b[49m\u001b[43m,\u001b[49m\n\u001b[32m     24\u001b[39m \u001b[43m    \u001b[49m\u001b[43mpayloads\u001b[49m\u001b[43m=\u001b[49m\u001b[43m[\u001b[49m\u001b[43m{\u001b[49m\u001b[33;43m\"\u001b[39;49m\u001b[33;43mtype\u001b[39;49m\u001b[33;43m\"\u001b[39;49m\u001b[43m:\u001b[49m\u001b[43m \u001b[49m\u001b[33;43m\"\u001b[39;49m\u001b[33;43mfull_image\u001b[39;49m\u001b[33;43m\"\u001b[39;49m\u001b[43m,\u001b[49m\u001b[43m \u001b[49m\u001b[33;43m\"\u001b[39;49m\u001b[33;43mimage_hash\u001b[39;49m\u001b[33;43m\"\u001b[39;49m\u001b[43m:\u001b[49m\u001b[43m \u001b[49m\u001b[43mimage_data\u001b[49m\u001b[43m[\u001b[49m\u001b[33;43m'\u001b[39;49m\u001b[33;43mimage_hash\u001b[39;49m\u001b[33;43m'\u001b[39;49m\u001b[43m]\u001b[49m\u001b[43m,\u001b[49m\u001b[43m \u001b[49m\u001b[33;43m\"\u001b[39;49m\u001b[33;43mlocal_path\u001b[39;49m\u001b[33;43m\"\u001b[39;49m\u001b[43m:\u001b[49m\u001b[43m \u001b[49m\u001b[43mimage_data\u001b[49m\u001b[43m[\u001b[49m\u001b[33;43m'\u001b[39;49m\u001b[33;43mlocal_path\u001b[39;49m\u001b[33;43m'\u001b[39;49m\u001b[43m]\u001b[49m\u001b[43m}\u001b[49m\u001b[43m]\u001b[49m\u001b[43m,\u001b[49m\n\u001b[32m     25\u001b[39m \u001b[43m    \u001b[49m\u001b[43mids\u001b[49m\u001b[43m=\u001b[49m\u001b[43m[\u001b[49m\u001b[43mi\u001b[49m\u001b[43m]\u001b[49m\n\u001b[32m     26\u001b[39m \u001b[43m\u001b[49m\u001b[43m)\u001b[49m\n\u001b[32m     28\u001b[39m \u001b[38;5;66;03m# Process localizations if they exist\u001b[39;00m\n\u001b[32m     29\u001b[39m \u001b[38;5;28;01mif\u001b[39;00m \u001b[33m'\u001b[39m\u001b[33mlocalizations\u001b[39m\u001b[33m'\u001b[39m \u001b[38;5;129;01min\u001b[39;00m image_data:\n",
      "\u001b[36mFile \u001b[39m\u001b[32mc:\\Users\\ice\\projects\\iris\\iris\\data_pipeline\\qdrant_manager.py:102\u001b[39m, in \u001b[36mQdrantManager.upsert_points\u001b[39m\u001b[34m(self, collection_name, vectors, payloads, ids)\u001b[39m\n\u001b[32m     99\u001b[39m     \u001b[38;5;28;01mexcept\u001b[39;00m UnexpectedResponse:\n\u001b[32m    100\u001b[39m         \u001b[38;5;28;01mreturn\u001b[39;00m \u001b[38;5;28;01mFalse\u001b[39;00m\n\u001b[32m--> \u001b[39m\u001b[32m102\u001b[39m \u001b[38;5;28;01mdef\u001b[39;00m\u001b[38;5;250m \u001b[39m\u001b[34mupsert_points\u001b[39m(\n\u001b[32m    103\u001b[39m     \u001b[38;5;28mself\u001b[39m,\n\u001b[32m    104\u001b[39m     collection_name: \u001b[38;5;28mstr\u001b[39m,\n\u001b[32m    105\u001b[39m     vectors: Sequence[VectorType],\n\u001b[32m    106\u001b[39m     payloads: Sequence[PayloadType],\n\u001b[32m    107\u001b[39m     ids: Sequence[\u001b[38;5;28mint\u001b[39m] | \u001b[38;5;28;01mNone\u001b[39;00m = \u001b[38;5;28;01mNone\u001b[39;00m\n\u001b[32m    108\u001b[39m ) -> \u001b[38;5;28mbool\u001b[39m:\n\u001b[32m    109\u001b[39m \u001b[38;5;250m    \u001b[39m\u001b[33;03m\"\"\"\u001b[39;00m\n\u001b[32m    110\u001b[39m \u001b[33;03m    Insert or update points in a collection.\u001b[39;00m\n\u001b[32m    111\u001b[39m \n\u001b[32m   (...)\u001b[39m\u001b[32m    119\u001b[39m \u001b[33;03m        bool: True if operation was successful\u001b[39;00m\n\u001b[32m    120\u001b[39m \u001b[33;03m    \"\"\"\u001b[39;00m\n\u001b[32m    121\u001b[39m     \u001b[38;5;28;01mtry\u001b[39;00m:\n",
      "\u001b[31mKeyboardInterrupt\u001b[39m: "
     ]
    }
   ],
   "source": [
    "# Convert cursor to list since it can only be iterated once\n",
    "image_dataset = list(mongodb_manager.get_collection(\n",
    "    mongodb_manager.config.image_metadata_collection\n",
    ").find())\n",
    "\n",
    "# Create Qdrant collection for embeddings\n",
    "collection_name = qdrant_config.image_collection\n",
    "vector_size = 512  # CLIP embedding size\n",
    "\n",
    "with qdrant_manager as qm:\n",
    "    qm.create_collection(collection_name, vector_size, recreate=True)\n",
    "    \n",
    "    # Add a progress bar with total count\n",
    "    for i, image_data in enumerate(tqdm(image_dataset, desc=\"Processing images\", total=len(image_dataset))):\n",
    "        # Process main image\n",
    "        with Image.open(image_data['local_path']).convert(\"RGBA\") as img:\n",
    "            width, height = img.size  # Get image dimensions\n",
    "\n",
    "            # Get embedding and add to Qdrant\n",
    "            embedding = embedding_handler.get_augmented_embedding(img)\n",
    "            qm.upsert_points(\n",
    "                collection_name,\n",
    "                vectors=[embedding],\n",
    "                payloads=[{\"type\": \"full_image\", \"image_hash\": image_data['hash'], \"local_path\": image_data['local_path']}],\n",
    "                ids=[i]\n",
    "            )\n",
    "            \n",
    "            # Process localizations if they exist\n",
    "            if 'localizations' in image_data:\n",
    "                for j, localization in enumerate(image_data['localizations']):\n",
    "                    # Get bounding box from original image\n",
    "                    bbox = localization['bbox']  # [x, y, width, height]\n",
    "                    bbox_img = img.crop((\n",
    "                        bbox[0] * width, \n",
    "                        bbox[1] * height, \n",
    "                        (bbox[0] + bbox[2]) * width, \n",
    "                        (bbox[1] + bbox[3]) * height\n",
    "                    ))\n",
    "                    \n",
    "                    # Get embedding and add to Qdrant\n",
    "                    localization_embedding = embedding_handler.get_augmented_embedding(bbox_img)\n",
    "                    qm.upsert_points(\n",
    "                        collection_name,\n",
    "                        vectors=[localization_embedding],\n",
    "                        payloads=[{\n",
    "                            \"type\": \"localization\",\n",
    "                            \"localization_hash\": localization['hash'],\n",
    "                            \"parent_image_hash\": image_data['hash'],\n",
    "                            \"local_path\": image_data['local_path'],\n",
    "                            \"bbox\": bbox\n",
    "                        }],\n",
    "                        ids=[i * 1000 + j + 1]  # Ensure unique IDs\n",
    "                    )\n",
    "\n",
    "print(\"Complete! Database created in Qdrant\")"
   ]
  },
  {
   "cell_type": "code",
   "execution_count": null,
   "metadata": {},
   "outputs": [],
   "source": [
    "# Get example image embedding\n",
    "query_hash = 'f1543c1b359945d75e695710d0006c9b'\n",
    "query_image_data = next(img for img in image_dataset if img['hash'] == query_hash)\n",
    "\n",
    "with Image.open(query_image_data['local_path']).convert(\"RGBA\") as img:\n",
    "    query_embedding = embedding_handler.get_augmented_embedding(img)\n",
    "\n",
    "# Search for nearest neighbors\n",
    "with qdrant_manager as qm:\n",
    "    results = qm.search_points(qdrant_config.image_collection, query_embedding, limit=50)\n",
    "print(\"Found\", len(results), \"similar images\")"
   ]
  },
  {
   "cell_type": "code",
   "execution_count": null,
   "metadata": {},
   "outputs": [],
   "source": [
    "def get_image_html(result, size=(100, 140)):\n",
    "    \"\"\"Create HTML img tag for a search result\"\"\"\n",
    "    with Image.open(result.payload['local_path']) as img:\n",
    "        if result.payload['type'] == 'localization':\n",
    "            bbox = result.payload['bbox']\n",
    "            width, height = img.size\n",
    "            img = img.crop((\n",
    "                bbox[0] * width,\n",
    "                bbox[1] * height,\n",
    "                (bbox[0] + bbox[2]) * width,\n",
    "                (bbox[1] + bbox[3]) * height\n",
    "            ))\n",
    "        \n",
    "        img.thumbnail(size)\n",
    "        buffered = BytesIO()\n",
    "        img.save(buffered, format='JPEG', quality=70)\n",
    "        img_b64 = base64.b64encode(buffered.getvalue()).decode()\n",
    "        return f'<img src=\"data:image/jpeg;base64,{img_b64}\" style=\"max-width:none\">'"
   ]
  },
  {
   "cell_type": "code",
   "execution_count": null,
   "metadata": {},
   "outputs": [],
   "source": [
    "# Extract data for plot\n",
    "indices = list(range(len(results)))\n",
    "distances = [1 - result.score for result in results]  # Convert cosine similarity to distance\n",
    "\n",
    "# Create scatter plot with simpler hover text\n",
    "fig = go.Figure(data=go.Scatter(\n",
    "    x=indices,\n",
    "    y=distances,\n",
    "    mode='lines+markers',\n",
    "    marker=dict(size=8),\n",
    "    text=[f'Index: {i}<br>ID: {result.id}<br>Distance: {1-result.score:.4f}<br>Type: {result.payload[\"type\"]}' \n",
    "          for i, result in enumerate(results)],\n",
    "    hovertemplate='%{text}<extra></extra>'\n",
    "))\n",
    "\n",
    "fig.update_layout(\n",
    "    title='Image Similarity Plot',\n",
    "    xaxis_title='Index',\n",
    "    yaxis_title='Distance',\n",
    "    width=800,\n",
    "    height=400,\n",
    "    showlegend=False\n",
    ")\n",
    "\n",
    "# Display plot\n",
    "fig.show()\n",
    "\n",
    "# Create grid of thumbnails below the plot\n",
    "html = ['<div style=\"display: flex; flex-wrap: wrap; gap: 10px;\">']\n",
    "\n",
    "for i, result in enumerate(results):\n",
    "    img_html = get_image_html(result, size=(150, 210))\n",
    "    item_html = f\"\"\"\n",
    "    <div style='text-align: center; border: 1px solid #ddd; padding: 5px;'>\n",
    "        {img_html}\n",
    "        <br>\n",
    "        <small>Index: {i}</small><br>\n",
    "        <small>Distance: {1-result.score:.4f}</small><br>\n",
    "        <small>ID: {result.id}</small><br>\n",
    "        <small>Type: {result.payload['type']}</small>\n",
    "    </div>\n",
    "    \"\"\"\n",
    "    html.append(item_html)\n",
    "\n",
    "html.append('</div>')\n",
    "display(HTML(''.join(html)))"
   ]
  }
 ],
 "metadata": {
  "kernelspec": {
   "display_name": ".venv",
   "language": "python",
   "name": "python3"
  },
  "language_info": {
   "codemirror_mode": {
    "name": "ipython",
    "version": 3
   },
   "file_extension": ".py",
   "mimetype": "text/x-python",
   "name": "python",
   "nbconvert_exporter": "python",
   "pygments_lexer": "ipython3",
   "version": "3.11.9"
  }
 },
 "nbformat": 4,
 "nbformat_minor": 2
}
