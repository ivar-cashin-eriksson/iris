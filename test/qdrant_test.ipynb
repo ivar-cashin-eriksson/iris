{
 "cells": [
  {
   "cell_type": "code",
   "execution_count": 1,
   "id": "b93bc203",
   "metadata": {},
   "outputs": [
    {
     "name": "stdout",
     "output_type": "stream",
     "text": [
      "Requirement already satisfied: qdrant-client in c:\\users\\ice\\projects\\iris\\.venv\\lib\\site-packages (1.14.2)\n",
      "Requirement already satisfied: grpcio>=1.41.0 in c:\\users\\ice\\projects\\iris\\.venv\\lib\\site-packages (from qdrant-client) (1.71.0)\n",
      "Requirement already satisfied: httpx>=0.20.0 in c:\\users\\ice\\projects\\iris\\.venv\\lib\\site-packages (from httpx[http2]>=0.20.0->qdrant-client) (0.28.1)\n",
      "Requirement already satisfied: numpy>=1.21 in c:\\users\\ice\\projects\\iris\\.venv\\lib\\site-packages (from qdrant-client) (2.2.4)\n",
      "Requirement already satisfied: portalocker<3.0.0,>=2.7.0 in c:\\users\\ice\\projects\\iris\\.venv\\lib\\site-packages (from qdrant-client) (2.10.1)\n",
      "Requirement already satisfied: protobuf>=3.20.0 in c:\\users\\ice\\projects\\iris\\.venv\\lib\\site-packages (from qdrant-client) (6.30.2)\n",
      "Requirement already satisfied: pydantic!=2.0.*,!=2.1.*,!=2.2.0,>=1.10.8 in c:\\users\\ice\\projects\\iris\\.venv\\lib\\site-packages (from qdrant-client) (2.11.3)\n",
      "Requirement already satisfied: urllib3<3,>=1.26.14 in c:\\users\\ice\\projects\\iris\\.venv\\lib\\site-packages (from qdrant-client) (2.3.0)\n",
      "Requirement already satisfied: anyio in c:\\users\\ice\\projects\\iris\\.venv\\lib\\site-packages (from httpx>=0.20.0->httpx[http2]>=0.20.0->qdrant-client) (4.9.0)\n",
      "Requirement already satisfied: certifi in c:\\users\\ice\\projects\\iris\\.venv\\lib\\site-packages (from httpx>=0.20.0->httpx[http2]>=0.20.0->qdrant-client) (2025.1.31)\n",
      "Requirement already satisfied: httpcore==1.* in c:\\users\\ice\\projects\\iris\\.venv\\lib\\site-packages (from httpx>=0.20.0->httpx[http2]>=0.20.0->qdrant-client) (1.0.9)\n",
      "Requirement already satisfied: idna in c:\\users\\ice\\projects\\iris\\.venv\\lib\\site-packages (from httpx>=0.20.0->httpx[http2]>=0.20.0->qdrant-client) (3.10)\n",
      "Requirement already satisfied: h11>=0.16 in c:\\users\\ice\\projects\\iris\\.venv\\lib\\site-packages (from httpcore==1.*->httpx>=0.20.0->httpx[http2]>=0.20.0->qdrant-client) (0.16.0)\n",
      "Requirement already satisfied: h2<5,>=3 in c:\\users\\ice\\projects\\iris\\.venv\\lib\\site-packages (from httpx[http2]>=0.20.0->qdrant-client) (4.2.0)\n",
      "Requirement already satisfied: pywin32>=226 in c:\\users\\ice\\projects\\iris\\.venv\\lib\\site-packages (from portalocker<3.0.0,>=2.7.0->qdrant-client) (310)\n",
      "Requirement already satisfied: annotated-types>=0.6.0 in c:\\users\\ice\\projects\\iris\\.venv\\lib\\site-packages (from pydantic!=2.0.*,!=2.1.*,!=2.2.0,>=1.10.8->qdrant-client) (0.7.0)\n",
      "Requirement already satisfied: pydantic-core==2.33.1 in c:\\users\\ice\\projects\\iris\\.venv\\lib\\site-packages (from pydantic!=2.0.*,!=2.1.*,!=2.2.0,>=1.10.8->qdrant-client) (2.33.1)\n",
      "Requirement already satisfied: typing-extensions>=4.12.2 in c:\\users\\ice\\projects\\iris\\.venv\\lib\\site-packages (from pydantic!=2.0.*,!=2.1.*,!=2.2.0,>=1.10.8->qdrant-client) (4.13.0)\n",
      "Requirement already satisfied: typing-inspection>=0.4.0 in c:\\users\\ice\\projects\\iris\\.venv\\lib\\site-packages (from pydantic!=2.0.*,!=2.1.*,!=2.2.0,>=1.10.8->qdrant-client) (0.4.0)\n",
      "Requirement already satisfied: hyperframe<7,>=6.1 in c:\\users\\ice\\projects\\iris\\.venv\\lib\\site-packages (from h2<5,>=3->httpx[http2]>=0.20.0->qdrant-client) (6.1.0)\n",
      "Requirement already satisfied: hpack<5,>=4.1 in c:\\users\\ice\\projects\\iris\\.venv\\lib\\site-packages (from h2<5,>=3->httpx[http2]>=0.20.0->qdrant-client) (4.1.0)\n",
      "Requirement already satisfied: sniffio>=1.1 in c:\\users\\ice\\projects\\iris\\.venv\\lib\\site-packages (from anyio->httpx>=0.20.0->httpx[http2]>=0.20.0->qdrant-client) (1.3.1)\n",
      "Note: you may need to restart the kernel to use updated packages.\n"
     ]
    },
    {
     "name": "stderr",
     "output_type": "stream",
     "text": [
      "\n",
      "[notice] A new release of pip is available: 24.0 -> 25.1.1\n",
      "[notice] To update, run: python.exe -m pip install --upgrade pip\n"
     ]
    }
   ],
   "source": [
    "%pip install qdrant-client"
   ]
  },
  {
   "cell_type": "code",
   "execution_count": 2,
   "id": "18790ace",
   "metadata": {},
   "outputs": [],
   "source": [
    "import sys\n",
    "sys.path.append(r'c:\\Users\\ice\\projects\\iris')\n",
    "\n",
    "import numpy as np\n",
    "from iris.config.data_pipeline_config_manager import DataPipelineConfigManager\n",
    "from iris.data_pipeline.qdrant_manager import QdrantManager\n",
    "from qdrant_client.models import Distance"
   ]
  },
  {
   "cell_type": "code",
   "execution_count": 3,
   "id": "687ac3f8",
   "metadata": {},
   "outputs": [
    {
     "name": "stdout",
     "output_type": "stream",
     "text": [
      "Available collections: ['iris_dev_nikolaj_storm_texts', 'iris_dev_nikolaj_storm_images']\n"
     ]
    }
   ],
   "source": [
    "# Initialize config and manager\n",
    "qdrant_config = DataPipelineConfigManager().qdrant_config\n",
    "qdrant_manager = QdrantManager(qdrant_config)\n",
    "\n",
    "# Connect using context manager\n",
    "with qdrant_manager as qm:\n",
    "    print(\"Available collections:\", qm.get_collections())"
   ]
  },
  {
   "cell_type": "code",
   "execution_count": 4,
   "id": "cf7bc37b",
   "metadata": {},
   "outputs": [
    {
     "name": "stdout",
     "output_type": "stream",
     "text": [
      "Collections after insertion: ['iris_dev_nikolaj_storm_texts', 'iris_dev_nikolaj_storm_images']\n"
     ]
    }
   ],
   "source": [
    "# Create sample vectors\n",
    "def create_sample_vectors(vector_size: int, count: int):\n",
    "    vectors = [np.random.rand(vector_size).astype(np.float32) for _ in range(count)]\n",
    "    return vectors\n",
    "\n",
    "# Create collections with sample data\n",
    "with qdrant_manager as qm:\n",
    "    # Image vectors (typically 512 dimensions for CLIP)\n",
    "    image_vectors = create_sample_vectors(vector_size=512, count=3)\n",
    "    image_payloads = [\n",
    "        {\"source\": \"sample1.jpg\", \"category\": \"dress\"},\n",
    "        {\"source\": \"sample2.jpg\", \"category\": \"shirt\"},\n",
    "        {\"source\": \"sample3.jpg\", \"category\": \"pants\"}\n",
    "    ]\n",
    "    \n",
    "    # Text vectors (same dimensionality as images for CLIP)\n",
    "    text_vectors = create_sample_vectors(vector_size=512, count=2)\n",
    "    text_payloads = [\n",
    "        {\"text\": \"A beautiful summer dress\", \"type\": \"description\"},\n",
    "        {\"text\": \"Elegant evening wear\", \"type\": \"description\"}\n",
    "    ]\n",
    "    \n",
    "    # Create or recreate collections\n",
    "    qm.create_collection(qdrant_config.image_collection, 512, Distance.COSINE, recreate=True)\n",
    "    qm.create_collection(qdrant_config.text_collection, 512, Distance.COSINE, recreate=True)\n",
    "    \n",
    "    # Insert vectors\n",
    "    qm.upsert_points(qdrant_config.image_collection, image_vectors, image_payloads)\n",
    "    qm.upsert_points(qdrant_config.text_collection, text_vectors, text_payloads)\n",
    "    \n",
    "    print(\"Collections after insertion:\", qm.get_collections())"
   ]
  },
  {
   "cell_type": "code",
   "execution_count": 7,
   "id": "32eed446",
   "metadata": {},
   "outputs": [
    {
     "name": "stdout",
     "output_type": "stream",
     "text": [
      "Searching image collection:\n",
      "Image 0: score=0.767, category=dress\n",
      "Image 1: score=0.762, category=shirt\n",
      "\n",
      "Searching text collection:\n",
      "Image 0: score=0.767, category=dress\n",
      "Image 1: score=0.762, category=shirt\n",
      "\n",
      "Searching text collection:\n",
      "Text 1: score=0.755, text='Elegant evening wear'\n",
      "Text 0: score=0.735, text='A beautiful summer dress'\n",
      "Text 1: score=0.755, text='Elegant evening wear'\n",
      "Text 0: score=0.735, text='A beautiful summer dress'\n",
      "\n",
      "Closest image match details:\n",
      "ID: 0\n",
      "Source: sample1.jpg\n",
      "Vector shape: (512,)\n",
      "\n",
      "Closest image match details:\n",
      "ID: 0\n",
      "Source: sample1.jpg\n",
      "Vector shape: (512,)\n"
     ]
    }
   ],
   "source": [
    "# Search examples\n",
    "with qdrant_manager as qm:\n",
    "    # Search in image collection using random query vector\n",
    "    query_vector = np.random.rand(512).astype(np.float32)  # Same size as our collection vectors\n",
    "    \n",
    "    # Search images\n",
    "    print(\"Searching image collection:\")\n",
    "    image_results = qm.search_points(qdrant_config.image_collection, query_vector, limit=2)\n",
    "    for result in image_results:\n",
    "        print(f\"Image {result.id}: score={result.score:.3f}, category={result.payload['category']}\")\n",
    "    \n",
    "    # Search texts\n",
    "    print(\"\\nSearching text collection:\")\n",
    "    text_results = qm.search_points(qdrant_config.text_collection, query_vector, limit=2)\n",
    "    for result in text_results:\n",
    "        print(f\"Text {result.id}: score={result.score:.3f}, text='{result.payload['text']}'\")\n",
    "\n",
    "    # Retrieve full vector data for closest match\n",
    "    if image_results:\n",
    "        closest_match = qm.retrieve_points(qdrant_config.image_collection, [image_results[0].id])[0]\n",
    "        print(f\"\\nClosest image match details:\")\n",
    "        print(f\"ID: {closest_match.id}\")\n",
    "        print(f\"Source: {closest_match.payload['source']}\")\n",
    "        print(f\"Vector shape: {np.array(closest_match.vector).shape}\")"
   ]
  },
  {
   "cell_type": "markdown",
   "id": "0c71f9b3",
   "metadata": {},
   "source": [
    "# Accessing Qdrant Cloud GUI\n",
    "You can view and interact with your vectors through the Qdrant Cloud Console:\n",
    "1. Go to https://cloud.qdrant.io/\n",
    "2. Login with your credentials\n",
    "3. Select your cluster\n",
    "4. Navigate to the \"Collections\" tab to see your `test_collection`"
   ]
  },
  {
   "cell_type": "code",
   "execution_count": 6,
   "id": "ccbcad33",
   "metadata": {},
   "outputs": [
    {
     "name": "stdout",
     "output_type": "stream",
     "text": [
      "View your vectors in Qdrant Dashboard:\n",
      "https://faa8f550-ff00-4890-b04e-1151b28d57a4.eu-west-2-0.aws.cloud.qdrant.io:6333/dashboard\n",
      "\n",
      "Current connection URL:\n",
      "https://faa8f550-ff00-4890-b04e-1151b28d57a4.eu-west-2-0.aws.cloud.qdrant.io:6333\n"
     ]
    }
   ],
   "source": [
    "# Print direct URL to Qdrant dashboard\n",
    "dashboard_url = f\"{qdrant_config.url}/dashboard\"\n",
    "print(f\"View your vectors in Qdrant Dashboard:\\n{dashboard_url}\")\n",
    "\n",
    "# For reference, also print the full connection URL\n",
    "print(f\"\\nCurrent connection URL:\\n{qdrant_config.url}\")"
   ]
  }
 ],
 "metadata": {
  "kernelspec": {
   "display_name": ".venv",
   "language": "python",
   "name": "python3"
  },
  "language_info": {
   "codemirror_mode": {
    "name": "ipython",
    "version": 3
   },
   "file_extension": ".py",
   "mimetype": "text/x-python",
   "name": "python",
   "nbconvert_exporter": "python",
   "pygments_lexer": "ipython3",
   "version": "3.11.9"
  }
 },
 "nbformat": 4,
 "nbformat_minor": 5
}
