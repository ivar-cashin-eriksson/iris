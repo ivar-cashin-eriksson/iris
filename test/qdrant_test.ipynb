{
 "cells": [
  {
   "cell_type": "code",
   "execution_count": null,
   "id": "b93bc203",
   "metadata": {},
   "outputs": [],
   "source": [
    "%pip install qdrant-client"
   ]
  },
  {
   "cell_type": "code",
   "execution_count": null,
   "id": "18790ace",
   "metadata": {},
   "outputs": [],
   "source": [
    "import sys\n",
    "sys.path.append(r'c:\\Users\\ice\\projects\\iris')\n",
    "\n",
    "from qdrant_client import QdrantClient\n",
    "from qdrant_client.models import Distance, VectorParams, PointStruct\n",
    "import numpy as np\n",
    "\n",
    "from iris.config.data_pipeline_config_manager import DataPipelineConfigManager"
   ]
  },
  {
   "cell_type": "code",
   "execution_count": 2,
   "id": "687ac3f8",
   "metadata": {},
   "outputs": [],
   "source": [
    "data_config = DataPipelineConfigManager()\n",
    "qdrant_config = data_config.qdrant_config"
   ]
  },
  {
   "cell_type": "code",
   "execution_count": null,
   "id": "0cfe6bb1",
   "metadata": {},
   "outputs": [
    {
     "name": "stdout",
     "output_type": "stream",
     "text": [
      "Successfully connected to Qdrant Cloud!\n",
      "Available collections: collections=[]\n"
     ]
    }
   ],
   "source": [
    "# Connect to Qdrant Cloud\n",
    "client = QdrantClient(\n",
    "    url=qdrant_config.url,\n",
    "    api_key=qdrant_config.api_key\n",
    ")\n",
    "\n",
    "# Test connection\n",
    "try:\n",
    "    collections = client.get_collections()\n",
    "    print(\"Successfully connected to Qdrant Cloud!\")\n",
    "    print(\"Available collections:\", collections)\n",
    "except Exception as e:\n",
    "    print(\"Connection failed:\", str(e))"
   ]
  },
  {
   "cell_type": "code",
   "execution_count": 6,
   "id": "cf7bc37b",
   "metadata": {},
   "outputs": [
    {
     "name": "stderr",
     "output_type": "stream",
     "text": [
      "C:\\Users\\ice\\AppData\\Local\\Temp\\ipykernel_22828\\1141237782.py:6: DeprecationWarning: `recreate_collection` method is deprecated and will be removed in the future. Use `collection_exists` to check collection existence and `create_collection` instead.\n",
      "  client.recreate_collection(\n"
     ]
    },
    {
     "data": {
      "text/plain": [
       "True"
      ]
     },
     "execution_count": 6,
     "metadata": {},
     "output_type": "execute_result"
    }
   ],
   "source": [
    "# Create a test collection\n",
    "collection_name = \"test_collection\"\n",
    "vector_size = 4  # Using small vectors for demonstration\n",
    "\n",
    "# Create collection if it doesn't exist\n",
    "client.recreate_collection(\n",
    "    collection_name=collection_name,\n",
    "    vectors_config=VectorParams(size=vector_size, distance=Distance.COSINE),\n",
    ")"
   ]
  },
  {
   "cell_type": "code",
   "execution_count": 7,
   "id": "3c54e1f2",
   "metadata": {},
   "outputs": [
    {
     "data": {
      "text/plain": [
       "UpdateResult(operation_id=0, status=<UpdateStatus.COMPLETED: 'completed'>)"
      ]
     },
     "execution_count": 7,
     "metadata": {},
     "output_type": "execute_result"
    }
   ],
   "source": [
    "# Create some sample points\n",
    "vectors = [\n",
    "    np.random.rand(vector_size) for _ in range(3)\n",
    "]\n",
    "payloads = [\n",
    "    {\"description\": \"First point\"},\n",
    "    {\"description\": \"Second point\"},\n",
    "    {\"description\": \"Third point\"}\n",
    "]\n",
    "\n",
    "# Upload points\n",
    "points = [\n",
    "    PointStruct(\n",
    "        id=idx,\n",
    "        vector=vector.tolist(),\n",
    "        payload=payload\n",
    "    )\n",
    "    for idx, (vector, payload) in enumerate(zip(vectors, payloads))\n",
    "]\n",
    "\n",
    "client.upsert(\n",
    "    collection_name=collection_name,\n",
    "    points=points\n",
    ")"
   ]
  },
  {
   "cell_type": "code",
   "execution_count": 8,
   "id": "32eed446",
   "metadata": {},
   "outputs": [
    {
     "name": "stdout",
     "output_type": "stream",
     "text": [
      "Search results:\n",
      "Point 1: score=0.8209628, payload={'description': 'Second point'}\n",
      "Point 0: score=0.6575983, payload={'description': 'First point'}\n"
     ]
    },
    {
     "name": "stderr",
     "output_type": "stream",
     "text": [
      "C:\\Users\\ice\\AppData\\Local\\Temp\\ipykernel_22828\\992534649.py:3: DeprecationWarning: `search` method is deprecated and will be removed in the future. Use `query_points` instead.\n",
      "  search_results = client.search(\n"
     ]
    }
   ],
   "source": [
    "# Perform a search\n",
    "search_vector = np.random.rand(vector_size)\n",
    "search_results = client.search(\n",
    "    collection_name=collection_name,\n",
    "    query_vector=search_vector,\n",
    "    limit=2\n",
    ")\n",
    "\n",
    "print(\"Search results:\")\n",
    "for result in search_results:\n",
    "    print(f\"Point {result.id}: score={result.score}, payload={result.payload}\")"
   ]
  },
  {
   "cell_type": "code",
   "execution_count": 12,
   "id": "075d9426",
   "metadata": {},
   "outputs": [
    {
     "name": "stdout",
     "output_type": "stream",
     "text": [
      "Retrieved point 1:\n",
      "Vector: [0.4674162, 0.40356088, 0.46604568, 0.6336104]\n",
      "Payload: {'description': 'Second point'}\n"
     ]
    }
   ],
   "source": [
    "# Fetch a specific vector by ID\n",
    "point_id = 1  # Get the second point we inserted\n",
    "retrieved_point = client.retrieve(\n",
    "    collection_name=collection_name,\n",
    "    ids=[point_id],\n",
    "    with_vectors=True  # Include the actual vector data\n",
    ")\n",
    "\n",
    "if retrieved_point:\n",
    "    point = retrieved_point[0]\n",
    "    print(f\"Retrieved point {point_id}:\")\n",
    "    print(f\"Vector: {point.vector}\")\n",
    "    print(f\"Payload: {point.payload}\")\n",
    "else:\n",
    "    print(f\"No point found with ID {point_id}\")"
   ]
  },
  {
   "cell_type": "markdown",
   "id": "0c71f9b3",
   "metadata": {},
   "source": [
    "# Accessing Qdrant Cloud GUI\n",
    "You can view and interact with your vectors through the Qdrant Cloud Console:\n",
    "1. Go to https://cloud.qdrant.io/\n",
    "2. Login with your credentials\n",
    "3. Select your cluster\n",
    "4. Navigate to the \"Collections\" tab to see your `test_collection`"
   ]
  },
  {
   "cell_type": "code",
   "execution_count": 11,
   "id": "ccbcad33",
   "metadata": {},
   "outputs": [
    {
     "name": "stdout",
     "output_type": "stream",
     "text": [
      "View your vectors in Qdrant Dashboard:\n",
      "https://faa8f550-ff00-4890-b04e-1151b28d57a4.eu-west-2-0.aws.cloud.qdrant.io:6333/dashboard\n",
      "\n",
      "Current connection URL:\n",
      "https://faa8f550-ff00-4890-b04e-1151b28d57a4.eu-west-2-0.aws.cloud.qdrant.io:6333\n"
     ]
    }
   ],
   "source": [
    "# Print direct URL to Qdrant dashboard\n",
    "dashboard_url = f\"{qdrant_config.url}/dashboard\"\n",
    "print(f\"View your vectors in Qdrant Dashboard:\\n{dashboard_url}\")\n",
    "\n",
    "# For reference, also print the full connection URL\n",
    "print(f\"\\nCurrent connection URL:\\n{qdrant_config.url}\")"
   ]
  }
 ],
 "metadata": {
  "kernelspec": {
   "display_name": ".venv",
   "language": "python",
   "name": "python3"
  },
  "language_info": {
   "codemirror_mode": {
    "name": "ipython",
    "version": 3
   },
   "file_extension": ".py",
   "mimetype": "text/x-python",
   "name": "python",
   "nbconvert_exporter": "python",
   "pygments_lexer": "ipython3",
   "version": "3.11.9"
  }
 },
 "nbformat": 4,
 "nbformat_minor": 5
}
