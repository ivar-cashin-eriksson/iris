{
 "cells": [
  {
   "cell_type": "code",
   "execution_count": null,
   "id": "b93bc203",
   "metadata": {},
   "outputs": [],
   "source": [
    "%pip install qdrant-client"
   ]
  },
  {
   "cell_type": "code",
   "execution_count": null,
   "id": "18790ace",
   "metadata": {},
   "outputs": [],
   "source": [
    "import sys\n",
    "sys.path.append(r'c:\\Users\\ice\\projects\\iris')\n",
    "\n",
    "from qdrant_client import QdrantClient\n",
    "from qdrant_client.models import Distance, VectorParams, PointStruct\n",
    "import numpy as np\n",
    "\n",
    "from iris.config.data_pipeline_config_manager import DataPipelineConfigManager"
   ]
  },
  {
   "cell_type": "code",
   "execution_count": null,
   "id": "687ac3f8",
   "metadata": {},
   "outputs": [],
   "source": [
    "data_config = DataPipelineConfigManager()\n",
    "qdrant_config = data_config.qdrant_config"
   ]
  },
  {
   "cell_type": "code",
   "execution_count": null,
   "id": "0cfe6bb1",
   "metadata": {},
   "outputs": [],
   "source": [
    "# Connect to Qdrant Cloud\n",
    "client = QdrantClient(\n",
    "    url=qdrant_config.url,\n",
    "    api_key=qdrant_config.api_key\n",
    ")\n",
    "\n",
    "# Test connection\n",
    "try:\n",
    "    collections = client.get_collections()\n",
    "    print(\"Successfully connected to Qdrant Cloud!\")\n",
    "    print(\"Available collections:\", collections)\n",
    "except Exception as e:\n",
    "    print(\"Connection failed:\", str(e))"
   ]
  },
  {
   "cell_type": "code",
   "execution_count": null,
   "id": "cf7bc37b",
   "metadata": {},
   "outputs": [],
   "source": [
    "# Create a test collection\n",
    "collection_name = \"test_collection\"\n",
    "vector_size = 4  # Using small vectors for demonstration\n",
    "\n",
    "# Create collection if it doesn't exist\n",
    "client.recreate_collection(\n",
    "    collection_name=collection_name,\n",
    "    vectors_config=VectorParams(size=vector_size, distance=Distance.COSINE),\n",
    ")"
   ]
  },
  {
   "cell_type": "code",
   "execution_count": null,
   "id": "3c54e1f2",
   "metadata": {},
   "outputs": [],
   "source": [
    "# Create some sample points\n",
    "vectors = [\n",
    "    np.random.rand(vector_size) for _ in range(3)\n",
    "]\n",
    "payloads = [\n",
    "    {\"description\": \"First point\"},\n",
    "    {\"description\": \"Second point\"},\n",
    "    {\"description\": \"Third point\"}\n",
    "]\n",
    "\n",
    "# Upload points\n",
    "points = [\n",
    "    PointStruct(\n",
    "        id=idx,\n",
    "        vector=vector.tolist(),\n",
    "        payload=payload\n",
    "    )\n",
    "    for idx, (vector, payload) in enumerate(zip(vectors, payloads))\n",
    "]\n",
    "\n",
    "client.upsert(\n",
    "    collection_name=collection_name,\n",
    "    points=points\n",
    ")"
   ]
  },
  {
   "cell_type": "code",
   "execution_count": null,
   "id": "32eed446",
   "metadata": {},
   "outputs": [],
   "source": [
    "# Perform a search\n",
    "search_vector = np.random.rand(vector_size)\n",
    "search_results = client.search(\n",
    "    collection_name=collection_name,\n",
    "    query_vector=search_vector,\n",
    "    limit=2\n",
    ")\n",
    "\n",
    "print(\"Search results:\")\n",
    "for result in search_results:\n",
    "    print(f\"Point {result.id}: score={result.score}, payload={result.payload}\")"
   ]
  },
  {
   "cell_type": "code",
   "execution_count": null,
   "id": "075d9426",
   "metadata": {},
   "outputs": [],
   "source": [
    "# Fetch a specific vector by ID\n",
    "point_id = 1  # Get the second point we inserted\n",
    "retrieved_point = client.retrieve(\n",
    "    collection_name=collection_name,\n",
    "    ids=[point_id],\n",
    "    with_vectors=True  # Include the actual vector data\n",
    ")\n",
    "\n",
    "if retrieved_point:\n",
    "    point = retrieved_point[0]\n",
    "    print(f\"Retrieved point {point_id}:\")\n",
    "    print(f\"Vector: {point.vector}\")\n",
    "    print(f\"Payload: {point.payload}\")\n",
    "else:\n",
    "    print(f\"No point found with ID {point_id}\")"
   ]
  },
  {
   "cell_type": "markdown",
   "id": "0c71f9b3",
   "metadata": {},
   "source": [
    "# Accessing Qdrant Cloud GUI\n",
    "You can view and interact with your vectors through the Qdrant Cloud Console:\n",
    "1. Go to https://cloud.qdrant.io/\n",
    "2. Login with your credentials\n",
    "3. Select your cluster\n",
    "4. Navigate to the \"Collections\" tab to see your `test_collection`"
   ]
  },
  {
   "cell_type": "code",
   "execution_count": null,
   "id": "ccbcad33",
   "metadata": {},
   "outputs": [],
   "source": [
    "# Print direct URL to Qdrant dashboard\n",
    "dashboard_url = f\"{qdrant_config.url}/dashboard\"\n",
    "print(f\"View your vectors in Qdrant Dashboard:\\n{dashboard_url}\")\n",
    "\n",
    "# For reference, also print the full connection URL\n",
    "print(f\"\\nCurrent connection URL:\\n{qdrant_config.url}\")"
   ]
  }
 ],
 "metadata": {
  "kernelspec": {
   "display_name": ".venv",
   "language": "python",
   "name": "python3"
  },
  "language_info": {
   "codemirror_mode": {
    "name": "ipython",
    "version": 3
   },
   "file_extension": ".py",
   "mimetype": "text/x-python",
   "name": "python",
   "nbconvert_exporter": "python",
   "pygments_lexer": "ipython3",
   "version": "3.11.9"
  }
 },
 "nbformat": 4,
 "nbformat_minor": 5
}
