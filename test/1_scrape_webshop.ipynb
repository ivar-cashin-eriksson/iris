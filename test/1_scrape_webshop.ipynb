{
 "cells": [
  {
   "cell_type": "markdown",
   "metadata": {},
   "source": [
    "# Data Pipeline for Web Shop Scraping\n",
    "\n",
    "This notebook demonstrates a data pipeline for scraping product information and images from a web shop.\n",
    "\n",
    "It uses custom modules for:\n",
    "- Configuration management\n",
    "- MongoDB interaction\n",
    "- Image storage\n",
    "- Product handling\n",
    "- Web scraping\n",
    "\n",
    "**Workflow:**\n",
    "1. Import necessary modules and set up the Python path.\n",
    "2. Initialize configuration managers and pipeline components.\n",
    "3. Scrape products and images, render images, and store results in MongoDB."
   ]
  },
  {
   "cell_type": "code",
   "execution_count": null,
   "metadata": {},
   "outputs": [],
   "source": [
    "import sys\n",
    "sys.path.append(r'c:\\Users\\ice\\projects\\iris')\n",
    "\n",
    "from iris.config.data_pipeline_config_manager import DataPipelineConfigManager\n",
    "from iris.data_pipeline.mongodb_manager import MongoDBManager\n",
    "from iris.data_pipeline.image_store_manager import ImageStoreManager\n",
    "from iris.data_pipeline.product_handler import ProductHandler\n",
    "from iris.data_pipeline.web_shop_scraper import WebShopScraper"
   ]
  },
  {
   "cell_type": "code",
   "execution_count": null,
   "metadata": {},
   "outputs": [],
   "source": [
    "# Initialize configuration manager\n",
    "config_manager = DataPipelineConfigManager() \n",
    "shop_config = config_manager.shop_config\n",
    "mongodb_config = config_manager.mongodb_config\n",
    "image_store_config = config_manager.image_store_config\n",
    "\n",
    "# Initialize MongoDB and image store manager with configurations\n",
    "mongodb_manager = MongoDBManager(mongodb_config)\n",
    "image_store_manager = ImageStoreManager(image_store_config)\n",
    "\n",
    "# Initialize \n",
    "web_shop_scraper = WebShopScraper(\n",
    "    shop_config=shop_config,\n",
    "    product_handler=ProductHandler(shop_config=shop_config),\n",
    ")"
   ]
  },
  {
   "cell_type": "code",
   "execution_count": null,
   "metadata": {},
   "outputs": [],
   "source": [
    "# Start scraping\n",
    "with mongodb_manager as db:\n",
    "    for product, images in web_shop_scraper.scrape():\n",
    "\n",
    "        print(f\"Scraped product: {product.title}, Images: {len(images)}\")\n",
    "\n",
    "        for image in images:\n",
    "            pil_image = image.render(image_store_manager)\n",
    "\n",
    "        db.upsert(db.config.product_collection, product)\n",
    "        db.upsert(db.config.image_metadata_collection, images)"
   ]
  }
 ],
 "metadata": {
  "kernelspec": {
   "display_name": ".venv",
   "language": "python",
   "name": "python3"
  },
  "language_info": {
   "codemirror_mode": {
    "name": "ipython",
    "version": 3
   },
   "file_extension": ".py",
   "mimetype": "text/x-python",
   "name": "python",
   "nbconvert_exporter": "python",
   "pygments_lexer": "ipython3",
   "version": "3.11.9"
  }
 },
 "nbformat": 4,
 "nbformat_minor": 2
}
