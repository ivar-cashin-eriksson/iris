{
 "cells": [
  {
   "cell_type": "code",
   "execution_count": 1,
   "metadata": {},
   "outputs": [],
   "source": [
    "import sys\n",
    "sys.path.append('c:\\\\Users\\\\ice\\\\projects\\\\iris')\n",
    "\n",
    "from iris.config.config_manager import ConfigManager"
   ]
  },
  {
   "cell_type": "code",
   "execution_count": 3,
   "metadata": {},
   "outputs": [
    {
     "data": {
      "text/plain": [
       "ShopConfig(base_url='https://pasnormalstudios.com/dk', image_selectors={'carousel': 'body > main > div > div > div:nth-child(1) > section.block-wrapper.page-offset-notification.relative.bg-\\\\[\\\\#f1f1f1\\\\].lg\\\\:h-screen.lg\\\\:pt-0 > div.relative.transition-all.lg\\\\:h-screen > div.relative.hidden.lg\\\\:block.h-full'}, metadata_selectors={'title': 'body > main > div > div > div:nth-child(1) > section.block-wrapper.space-y-5.lg\\\\:hidden > div > div > div.text-xl.font-medium.leading-5', 'price': 'body > main > div > div > div:nth-child(1) > section.block-wrapper.space-y-5.lg\\\\:hidden > div > div > div.hidden.md\\\\:block > div > div > button > div > div', 'color': 'body > main > div > div > div:nth-child(1) > section.block-wrapper.space-y-5.lg\\\\:hidden > div > div > button > div > div.flex.items-center.gap-1 > span', 'num_colorways': 'body > main > div > div > div:nth-child(1) > section.block-wrapper.space-y-5.lg\\\\:hidden > div > div > button > div > div.text-\\\\[9px\\\\].uppercase.opacity-70 > span:nth-child(1)', 'description': 'body > main > div > div > div:nth-child(1) > section.block-wrapper.space-y-5.lg\\\\:hidden > div > div > div:nth-child(4) > div > div > p', 'made_in': '#radix-\\\\:r7d\\\\: > div.flex.h-full.w-full.flex-col.border-t.px-5.pt-6.md\\\\:px-8 > div.py-12.md\\\\:py-10 > div.flex.w-full.items-center.justify-start.border-t.border-gray-light.py-6 > div > div.flex.w-56.text-xl.font-medium.md\\\\:text-2xl > div', 'product_details': '#radix-\\\\:r7d\\\\: > div.flex.h-full.w-full.flex-col.border-t.px-5.pt-6.md\\\\:px-8 > div.py-12.md\\\\:py-10 > div.flex.w-full.items-center.justify-start.border-y.border-gray-light.py-6 > div > div.flex.w-56.text-xs.leading-4'}, scraper_config=ScraperConfig(user_agent='Mozilla/5.0 (Windows NT 10.0; Win64; x64) AppleWebKit/537.36 (KHTML, like Gecko) Chrome/120.0.0.0 Safari/537.36', rate_limit=0.5, max_retries=3, timeout=30, image_selectors={'image_selector': 'img'}, wait_for_selector='img', pagination_link=\"a[rel='next']\", product_link=\"a[href*='/products/']\", category_link=\"a[href*='/collections/']\"))"
      ]
     },
     "execution_count": 3,
     "metadata": {},
     "output_type": "execute_result"
    }
   ],
   "source": [
    "config_mngr = ConfigManager()\n",
    "config_mngr.shop_configs['pas_normal_studios']\n"
   ]
  }
 ],
 "metadata": {
  "kernelspec": {
   "display_name": ".venv",
   "language": "python",
   "name": "python3"
  },
  "language_info": {
   "codemirror_mode": {
    "name": "ipython",
    "version": 3
   },
   "file_extension": ".py",
   "mimetype": "text/x-python",
   "name": "python",
   "nbconvert_exporter": "python",
   "pygments_lexer": "ipython3",
   "version": "3.11.9"
  }
 },
 "nbformat": 4,
 "nbformat_minor": 2
}
