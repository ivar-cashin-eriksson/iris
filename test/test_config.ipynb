{
 "cells": [
  {
   "cell_type": "code",
   "execution_count": 1,
   "metadata": {},
   "outputs": [],
   "source": [
    "import sys\n",
    "sys.path.append('c:\\\\Users\\\\ice\\\\projects\\\\iris')"
   ]
  },
  {
   "cell_type": "code",
   "execution_count": 2,
   "metadata": {},
   "outputs": [],
   "source": [
    "from iris.config.config_manager import ConfigManager"
   ]
  },
  {
   "cell_type": "code",
   "execution_count": 9,
   "metadata": {},
   "outputs": [
    {
     "ename": "TypeError",
     "evalue": "ShopConfig.__init__() got an unexpected keyword argument 'test'",
     "output_type": "error",
     "traceback": [
      "\u001b[31m---------------------------------------------------------------------------\u001b[39m",
      "\u001b[31mTypeError\u001b[39m                                 Traceback (most recent call last)",
      "\u001b[36mCell\u001b[39m\u001b[36m \u001b[39m\u001b[32mIn[9]\u001b[39m\u001b[32m, line 1\u001b[39m\n\u001b[32m----> \u001b[39m\u001b[32m1\u001b[39m config_mngr = \u001b[43mConfigManager\u001b[49m\u001b[43m(\u001b[49m\u001b[43m)\u001b[49m\n\u001b[32m      2\u001b[39m config_mngr.shop_configs.items()\n",
      "\u001b[36mFile \u001b[39m\u001b[32mc:\\Users\\ice\\projects\\iris\\iris\\config\\config_manager.py:70\u001b[39m, in \u001b[36mConfigManager.__init__\u001b[39m\u001b[34m(self, config_dir)\u001b[39m\n\u001b[32m     67\u001b[39m \u001b[38;5;28mself\u001b[39m.shop_configs: Dict[\u001b[38;5;28mstr\u001b[39m, ShopConfig] = {}\n\u001b[32m     69\u001b[39m \u001b[38;5;66;03m# Load configurations\u001b[39;00m\n\u001b[32m---> \u001b[39m\u001b[32m70\u001b[39m \u001b[38;5;28;43mself\u001b[39;49m\u001b[43m.\u001b[49m\u001b[43m_load_all_configs\u001b[49m\u001b[43m(\u001b[49m\u001b[43m)\u001b[49m\n",
      "\u001b[36mFile \u001b[39m\u001b[32mc:\\Users\\ice\\projects\\iris\\iris\\config\\config_manager.py:94\u001b[39m, in \u001b[36mConfigManager._load_all_configs\u001b[39m\u001b[34m(self)\u001b[39m\n\u001b[32m     92\u001b[39m shop_name = shop_config_path.stem\n\u001b[32m     93\u001b[39m shop_config_data = \u001b[38;5;28mself\u001b[39m._load_toml(shop_config_path)\n\u001b[32m---> \u001b[39m\u001b[32m94\u001b[39m \u001b[38;5;28mself\u001b[39m.shop_configs[shop_name] = \u001b[38;5;28;43mself\u001b[39;49m\u001b[43m.\u001b[49m\u001b[43m_create_shop_config\u001b[49m\u001b[43m(\u001b[49m\u001b[43mshop_config_data\u001b[49m\u001b[43m)\u001b[49m\n",
      "\u001b[36mFile \u001b[39m\u001b[32mc:\\Users\\ice\\projects\\iris\\iris\\config\\config_manager.py:121\u001b[39m, in \u001b[36mConfigManager._create_shop_config\u001b[39m\u001b[34m(self, data)\u001b[39m\n\u001b[32m    115\u001b[39m scraper_config = \u001b[38;5;28mself\u001b[39m._create_scraper_config(\n\u001b[32m    116\u001b[39m     \u001b[38;5;28mself\u001b[39m.scraper_config.\u001b[34m__dict__\u001b[39m.copy(), \n\u001b[32m    117\u001b[39m     scraper_overrides\n\u001b[32m    118\u001b[39m )   \n\u001b[32m    120\u001b[39m \u001b[38;5;66;03m# Make ShopConfig\u001b[39;00m\n\u001b[32m--> \u001b[39m\u001b[32m121\u001b[39m \u001b[38;5;28;01mreturn\u001b[39;00m \u001b[43mShopConfig\u001b[49m\u001b[43m(\u001b[49m\u001b[43m*\u001b[49m\u001b[43m*\u001b[49m\u001b[43mdata\u001b[49m\u001b[43m,\u001b[49m\u001b[43m \u001b[49m\u001b[43mscraper_config\u001b[49m\u001b[43m=\u001b[49m\u001b[43mscraper_config\u001b[49m\u001b[43m)\u001b[49m\n",
      "\u001b[31mTypeError\u001b[39m: ShopConfig.__init__() got an unexpected keyword argument 'test'"
     ]
    }
   ],
   "source": [
    "config_mngr = ConfigManager()\n",
    "config_mngr.shop_configs.items()\n"
   ]
  }
 ],
 "metadata": {
  "kernelspec": {
   "display_name": ".venv",
   "language": "python",
   "name": "python3"
  },
  "language_info": {
   "codemirror_mode": {
    "name": "ipython",
    "version": 3
   },
   "file_extension": ".py",
   "mimetype": "text/x-python",
   "name": "python",
   "nbconvert_exporter": "python",
   "pygments_lexer": "ipython3",
   "version": "3.11.9"
  }
 },
 "nbformat": 4,
 "nbformat_minor": 2
}
