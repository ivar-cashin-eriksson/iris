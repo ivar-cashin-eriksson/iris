{
 "cells": [
  {
   "cell_type": "code",
   "execution_count": null,
   "id": "7db2a4e2",
   "metadata": {},
   "outputs": [],
   "source": [
    "%pip install YOLO"
   ]
  },
  {
   "cell_type": "code",
   "execution_count": null,
   "id": "9d8f56b3",
   "metadata": {},
   "outputs": [],
   "source": [
    "%matplotlib inline\n",
    "\n",
    "import matplotlib.pyplot as plt\n",
    "from ultralytics import YOLO\n",
    "import cv2\n",
    "from PIL import Image\n",
    "import numpy as np\n",
    "from pathlib import Path\n",
    "\n",
    "from iris.config.localization_pipeline_config_manager import LocalizationPipelineConfigManager\n",
    "from iris.config.data_pipeline_config_manager import DataPipelineConfigManager\n",
    "from iris.data_pipeline.mongodb_manager import MongoDBManager"
   ]
  },
  {
   "cell_type": "code",
   "execution_count": null,
   "id": "554c6655",
   "metadata": {},
   "outputs": [],
   "source": [
    "# load pre-trained model\n",
    "detection_model = YOLO(\"../checkpoints/detect/train/weights/best.pt\")"
   ]
  },
  {
   "cell_type": "code",
   "execution_count": null,
   "id": "957f5d84",
   "metadata": {},
   "outputs": [],
   "source": [
    "# Initialize configuration managers\n",
    "localization_config = LocalizationPipelineConfigManager()\n",
    "data_config = DataPipelineConfigManager()\n",
    "shop_config = data_config.shop_configs[\"pas_normal_studios\"]  # Select shop\n",
    "mongodb_config = data_config.mongodb_config\n",
    "\n",
    "# Create MongoDB manager\n",
    "mongodb_manager = MongoDBManager(shop_config, mongodb_config)"
   ]
  },
  {
   "cell_type": "code",
   "execution_count": null,
   "id": "e91b5b1d",
   "metadata": {},
   "outputs": [],
   "source": [
    "image_metadata = mongodb_manager.get_collection(mongodb_config.image_metadata_collection)\n",
    "test_images = list(image_metadata.aggregate([{ \"$sample\": { \"size\": 1 } }]))\n",
    "\n",
    "for image_data in test_images:\n",
    "    image_path = Path(image_data['local_path'])\n",
    "    # Load image in BGR format\n",
    "    image = cv2.imread(str(image_path))\n",
    "    if image is None:\n",
    "        print(f\"Could not load image: {image_path}\")\n",
    "        continue\n",
    "\n",
    "    # Run prediction (YOLO expects BGR format)\n",
    "    results = detection_model.predict(\n",
    "        source=image,  # Pass BGR image directly\n",
    "        conf=0.3,\n",
    "        save=False,\n",
    "        line_thickness=2,\n",
    "        hide_labels=False\n",
    "    )\n",
    "\n",
    "    # Plot results\n",
    "    plt.figure(figsize=(20,10))\n",
    "    plt.axis('off')\n",
    "    annotated_frame = results[0].plot()  # Returns BGR image\n",
    "    plt.imshow(annotated_frame[...,::-1])  # Convert BGR to RGB using array slicing\n",
    "    plt.title(f\"Predictions for {image_path.name}\")\n",
    "    plt.show()"
   ]
  },
  {
   "cell_type": "code",
   "execution_count": null,
   "id": "2f4254b8",
   "metadata": {},
   "outputs": [],
   "source": [
    "results = detection_model.predict(\n",
    "        source=image,  # Pass BGR image directly\n",
    "        conf=0.3,\n",
    "        save=False,\n",
    "        line_thickness=2,\n",
    "        hide_labels=False\n",
    "    )"
   ]
  },
  {
   "cell_type": "code",
   "execution_count": null,
   "id": "2ddd9770",
   "metadata": {},
   "outputs": [],
   "source": [
    "results[0].boxes.xywhn"
   ]
  },
  {
   "cell_type": "code",
   "execution_count": null,
   "id": "e91552f8",
   "metadata": {},
   "outputs": [],
   "source": [
    "results[0].boxes.xyxyn"
   ]
  }
 ],
 "metadata": {
  "kernelspec": {
   "display_name": ".venv",
   "language": "python",
   "name": "python3"
  },
  "language_info": {
   "codemirror_mode": {
    "name": "ipython",
    "version": 3
   },
   "file_extension": ".py",
   "mimetype": "text/x-python",
   "name": "python",
   "nbconvert_exporter": "python",
   "pygments_lexer": "ipython3",
   "version": "3.11.9"
  }
 },
 "nbformat": 4,
 "nbformat_minor": 5
}
