{
 "cells": [
  {
   "cell_type": "code",
   "execution_count": 1,
   "id": "ebc21980",
   "metadata": {},
   "outputs": [],
   "source": [
    "import os\n",
    "os.environ['KMP_DUPLICATE_LIB_OK']='TRUE'"
   ]
  },
  {
   "cell_type": "code",
   "execution_count": 2,
   "id": "9435894f",
   "metadata": {},
   "outputs": [],
   "source": [
    "import sys\n",
    "sys.path.append(r'c:\\Users\\ice\\projects\\iris')\n",
    "\n",
    "from PIL import Image\n",
    "import plotly.graph_objects as go\n",
    "from IPython.display import display, HTML\n",
    "import base64\n",
    "from io import BytesIO\n",
    "\n",
    "from iris.utils.data_utils import display_product_summary\n",
    "from iris.config.data_pipeline_config_manager import DataPipelineConfigManager\n",
    "from iris.config.embedding_pipeline_config_manager import EmbeddingPipelineConfigManager\n",
    "from iris.data_pipeline.mongodb_manager import MongoDBManager\n",
    "from iris.embedding_pipeline.embedding_handler import EmbeddingHandler\n",
    "from iris.embedding_pipeline.embedding_database import EmbeddingDatabase"
   ]
  },
  {
   "cell_type": "code",
   "execution_count": 3,
   "id": "ba59e8bf",
   "metadata": {},
   "outputs": [],
   "source": [
    "# Initialize configuration managers\n",
    "data_config = DataPipelineConfigManager()\n",
    "embedding_config = EmbeddingPipelineConfigManager()\n",
    "\n",
    "shop_config = data_config.shop_configs[\"nikolaj_storm\"]  # Select shop\n",
    "mongodb_config = data_config.mongodb_config\n",
    "\n",
    "# Create MongoDB manager\n",
    "mongodb_manager = MongoDBManager(shop_config, mongodb_config)\n",
    "\n",
    "# Initialize the EmbeddingHandler and Database\n",
    "embedding_handler = EmbeddingHandler(embedding_config.clip_config)\n",
    "embedding_db = EmbeddingDatabase(embedding_config.database_config, shop_config)\n",
    "embedding_db.load()"
   ]
  },
  {
   "cell_type": "code",
   "execution_count": 4,
   "id": "37f0ae0b",
   "metadata": {},
   "outputs": [],
   "source": [
    "# Convert cursor to list since it can only be iterated once\n",
    "image_dataset = list(mongodb_manager.get_collection(\n",
    "    mongodb_manager.mongodb_config.image_metadata_collection\n",
    ").find())"
   ]
  },
  {
   "cell_type": "code",
   "execution_count": 5,
   "id": "4865024f",
   "metadata": {},
   "outputs": [
    {
     "name": "stdout",
     "output_type": "stream",
     "text": [
      "Nearest neighbors for query hash 3068271dd98042007498c8ee1a4604dc : [('3068271dd98042007498c8ee1a4604dc', np.float32(0.0)), ('1beed0b36b23787418077082c8aaebc0', np.float32(0.04849722)), ('35545aa75006fd75fcc319b4e8101c62', np.float32(0.09309691)), ('d9c2c03d6d11bef798c4f39db53662ab', np.float32(0.10483335)), ('f8ec0ae6c24a85c447de21281a744f25', np.float32(0.10573311)), ('5db2628dbed833a2cacc87794c4f5ff1', np.float32(0.11085871)), ('96910e8d326a336156f6e41b073eaa14', np.float32(0.11358859)), ('e29199bdaf5b6c1e3387111a84c6f3f0', np.float32(0.115426436)), ('099b46b74e1aaf909fab35ab6bd12557', np.float32(0.11767364)), ('40ac3a71895fd38c6be161a5cfe17a90', np.float32(0.1250219)), ('72ca0e5f335685e6417b0bd050975e90', np.float32(0.12611161)), ('ba29578fadacd32b111bd808d86975ca', np.float32(0.13341409)), ('2f0153d141e4fc668c6c7ee4c360b322', np.float32(0.13439974)), ('16cd0bb97e51fff62153899466f1efd3', np.float32(0.13580829)), ('00d81a74570ffb3658120ef06143d9a6', np.float32(0.13817692)), ('dfa63e5946535c0b59b0761dd6692af2', np.float32(0.13944232)), ('6636c68de3351bac44d9399896409c3a', np.float32(0.1429111)), ('a0664dd79706ebf14e90fa028795e1d3', np.float32(0.14553943)), ('c3164d18fcf24f6588a2b4247f802428', np.float32(0.14852922)), ('97f553a05b62667ff52db4d125d457e6', np.float32(0.14912347)), ('ac8da30ed972365f089b403325cc7e74', np.float32(0.15164548)), ('1a82cac4d5d70f67ffb47d1dbc033aed', np.float32(0.15481262)), ('53816225186bfeb5c05ad252bdd33fd2', np.float32(0.155126)), ('36d0b680e91fd5ac2b337557d23236e2', np.float32(0.15562788)), ('3d03d0a1a6f23fa139a1273a13b37b65', np.float32(0.15589648)), ('51682c7f3a90c48c4e1560968a073e0e', np.float32(0.16048568)), ('8d93a9427bb3855c2a6469b9a385ce18', np.float32(0.1642533)), ('37abebc683c1d63e41c986d39aa36fb4', np.float32(0.16453066)), ('0f18d3d02fe799b0aa91f9482b797ec8', np.float32(0.1652303)), ('acfad9849be9db699dafd843c0bba466', np.float32(0.16715527)), ('47d9eb6f58a4f472c0d0f2c8d81f62d5', np.float32(0.16846822)), ('b0bdb85c3ede421871b0e31127eec954', np.float32(0.16854039)), ('03c1f2828b28db9fbb3c3aa4178de6c3', np.float32(0.17164096)), ('0fc38debebd1bdb4c5144388e365f731', np.float32(0.17177148)), ('93b2fe54f2a9d115412842f9aa219fb5', np.float32(0.17215969)), ('a255456fc8c534fddc614bb207ef318e', np.float32(0.17468801)), ('fae380cc6a21e6964391927068ae7766', np.float32(0.17662415)), ('bc0db17915c608f5bbb5ccfe70ede63f', np.float32(0.17677583)), ('ec0232086f2d802ac6725752a82610ab', np.float32(0.17717382)), ('5725ed37cf5266bb628d76921b8d623f', np.float32(0.17741036)), ('0c8a3f87307eaa259986462dea32c049', np.float32(0.17793839)), ('9930e12ec9974ab08fb0f282e31de0a7', np.float32(0.17817357)), ('a6e5125c2d5f63e5eb776c5b72a01dea', np.float32(0.17848715)), ('af3bf62722cefbcb1bea423e72032372', np.float32(0.1785382)), ('749cb64a888ba0a0b4080ad34496f168', np.float32(0.1799813)), ('a9e0eccf84074676fa82cf8b9b2bf445', np.float32(0.18009153)), ('fe9552e29e785407a3f3fb48f74ba93f', np.float32(0.18066809)), ('9d92ccb5da1fdabeacc034c5f5ce963d', np.float32(0.18107612)), ('23c04315875a2b5a79a728ca6f44aa08', np.float32(0.1821056)), ('1c4d72b86547fb2d7f68b7ae7fedb6fe', np.float32(0.18359578))]\n"
     ]
    }
   ],
   "source": [
    "# Get the query hash's index and embedding\n",
    "query_hash = '3068271dd98042007498c8ee1a4604dc'\n",
    "\n",
    "# Find index of the query hash in the database\n",
    "hash_index = embedding_db.ids.index(query_hash)\n",
    "query_embedding = embedding_db.embeddings[hash_index]\n",
    "\n",
    "# Search for nearest neighbors\n",
    "results = embedding_db.search(query_embedding, k=50)\n",
    "print(\"Nearest neighbors for query hash\", query_hash, \":\", results)"
   ]
  },
  {
   "cell_type": "code",
   "execution_count": 22,
   "id": "b3fcea54",
   "metadata": {},
   "outputs": [],
   "source": [
    "def get_hash_source(hash_val):\n",
    "    \"\"\"Get source data for a hash (either image path or localization data)\"\"\"\n",
    "    # First check if it's a regular image hash\n",
    "    for data in image_dataset:\n",
    "        if data['image_hash'] == hash_val:\n",
    "            return {'type': 'image', 'image_data': data}\n",
    "        # Then check if it's a localization hash\n",
    "        if 'localizations' in data:\n",
    "            for localization in data['localizations']:\n",
    "                if localization['localization_hash'] == hash_val:\n",
    "                    return {'type': 'localization', 'localization_data': localization, 'parent_image': data}\n",
    "    return None\n",
    "\n",
    "def get_image_html(source, size=(100, 140)):\n",
    "    \"\"\"Create HTML img tag for either an image path or localization data\"\"\"\n",
    "    if source['type'] == 'image':\n",
    "        image_data = source['image_data']\n",
    "        with Image.open(image_data['local_path']) as img:\n",
    "            img.thumbnail(size)\n",
    "            buffered = BytesIO()\n",
    "            img.save(buffered, format='JPEG', quality=70)\n",
    "            img_b64 = base64.b64encode(buffered.getvalue()).decode()\n",
    "            return f'<img src=\"data:image/jpeg;base64,{img_b64}\" style=\"max-width:none\">'\n",
    "    else:  # localization\n",
    "        localization_data = source['localization_data']\n",
    "        parent_data = source['parent_image']\n",
    "        \n",
    "        # Get bounding box from original image\n",
    "        with Image.open(parent_data['local_path']) as img:\n",
    "            # Convert relative bbox coordinates to absolute pixels\n",
    "            width, height = img.size\n",
    "            bbox = localization_data['bbox']  # [x, y, width, height] in relative coords\n",
    "            abs_bbox = [\n",
    "                int(bbox[0] * width),      # x\n",
    "                int(bbox[1] * height),     # y\n",
    "                int(bbox[2] * width),      # width\n",
    "                int(bbox[3] * height)      # height\n",
    "            ]\n",
    "            bbox_img = img.crop((\n",
    "                abs_bbox[0],\n",
    "                abs_bbox[1], \n",
    "                abs_bbox[0] + abs_bbox[2], \n",
    "                abs_bbox[1] + abs_bbox[3]\n",
    "            ))\n",
    "            bbox_img.thumbnail(size)\n",
    "            \n",
    "            buffered = BytesIO()\n",
    "            bbox_img.save(buffered, format='JPEG', quality=70)\n",
    "            img_b64 = base64.b64encode(buffered.getvalue()).decode()\n",
    "            return f'<img src=\"data:image/jpeg;base64,{img_b64}\" style=\"max-width:none\">'"
   ]
  },
  {
   "cell_type": "code",
   "execution_count": 23,
   "id": "acba858a",
   "metadata": {},
   "outputs": [
    {
     "name": "stdout",
     "output_type": "stream",
     "text": [
      "Suggested cutoff at index 5 (distance: 0.1109)\n"
     ]
    },
    {
     "data": {
      "application/vnd.plotly.v1+json": {
       "config": {
        "plotlyServerURL": "https://plot.ly"
       },
       "data": [
        {
         "line": {
          "color": "blue"
         },
         "name": "Distances",
         "type": "scatter",
         "x": [
          0,
          1,
          2,
          3,
          4,
          5,
          6,
          7,
          8,
          9,
          10,
          11,
          12,
          13,
          14,
          15,
          16,
          17,
          18,
          19,
          20,
          21,
          22,
          23,
          24,
          25,
          26,
          27,
          28,
          29,
          30,
          31,
          32,
          33,
          34,
          35,
          36,
          37,
          38,
          39,
          40,
          41,
          42,
          43,
          44,
          45,
          46,
          47,
          48,
          49
         ],
         "y": [
          0,
          0.048497218638658524,
          0.09309691190719604,
          0.10483334958553314,
          0.10573311150074005,
          0.11085870862007141,
          0.11358858644962311,
          0.1154264360666275,
          0.11767364293336868,
          0.12502190470695496,
          0.12611161172389984,
          0.13341408967971802,
          0.13439974188804626,
          0.1358082890510559,
          0.13817691802978516,
          0.1394423246383667,
          0.14291110634803772,
          0.14553943276405334,
          0.14852921664714813,
          0.14912347495555878,
          0.1516454815864563,
          0.15481261909008026,
          0.15512600541114807,
          0.15562787652015686,
          0.15589648485183716,
          0.16048568487167358,
          0.16425329446792603,
          0.1645306646823883,
          0.16523030400276184,
          0.16715526580810547,
          0.16846822202205658,
          0.16854038834571838,
          0.17164096236228943,
          0.17177148163318634,
          0.17215968668460846,
          0.17468801140785217,
          0.1766241490840912,
          0.17677582800388336,
          0.17717382311820984,
          0.17741036415100098,
          0.17793838679790497,
          0.17817357182502747,
          0.1784871518611908,
          0.17853820323944092,
          0.1799813061952591,
          0.18009153008460999,
          0.18066808581352234,
          0.18107612431049347,
          0.18210560083389282,
          0.18359577655792236
         ]
        },
        {
         "line": {
          "color": "red",
          "dash": "dash"
         },
         "name": "Smoothed",
         "type": "scatter",
         "x": [
          0,
          1,
          2,
          3,
          4,
          5,
          6,
          7,
          8,
          9,
          10,
          11,
          12,
          13,
          14,
          15,
          16,
          17,
          18,
          19,
          20,
          21,
          22,
          23,
          24,
          25,
          26,
          27,
          28,
          29,
          30,
          31,
          32,
          33,
          34,
          35,
          36,
          37,
          38,
          39,
          40,
          41,
          42,
          43,
          44,
          45,
          46,
          47,
          48,
          49
         ],
         "y": {
          "bdata": "p/mSOyWDRT2hfKY9xWDUPXTj4j1yWOM9ZHvmPQ/p7T1bg/M9fG78PcwHAz4I9gY+EIMJPm3ICz6ODg0+RGYPPqxPEj6e5BQ+7EwXPkiYGT7vuxs+v3wdPgiSHj7qbh8+iEYhPr0JJD4hpyY+a9ooPmQGKj70pio+ZTMsPha2LT65pC4+s8UvPsxlMT4KpDI+Oio0Pvg2NT4cjjU+db41PoQlNj7oVTY+6Mc2PkxBNz7B3Dc+UW04PqH8OD60yTk+1LI6PgK4Oz4=",
          "dtype": "f4"
         }
        }
       ],
       "layout": {
        "annotations": [
         {
          "showarrow": false,
          "text": "Cutoff at 5",
          "x": 5,
          "xanchor": "left",
          "xref": "x",
          "y": 1,
          "yanchor": "top",
          "yref": "y domain"
         }
        ],
        "height": 500,
        "shapes": [
         {
          "line": {
           "color": "green",
           "dash": "dash"
          },
          "type": "line",
          "x0": 5,
          "x1": 5,
          "xref": "x",
          "y0": 0,
          "y1": 1,
          "yref": "y domain"
         }
        ],
        "showlegend": true,
        "template": {
         "data": {
          "bar": [
           {
            "error_x": {
             "color": "#2a3f5f"
            },
            "error_y": {
             "color": "#2a3f5f"
            },
            "marker": {
             "line": {
              "color": "#E5ECF6",
              "width": 0.5
             },
             "pattern": {
              "fillmode": "overlay",
              "size": 10,
              "solidity": 0.2
             }
            },
            "type": "bar"
           }
          ],
          "barpolar": [
           {
            "marker": {
             "line": {
              "color": "#E5ECF6",
              "width": 0.5
             },
             "pattern": {
              "fillmode": "overlay",
              "size": 10,
              "solidity": 0.2
             }
            },
            "type": "barpolar"
           }
          ],
          "carpet": [
           {
            "aaxis": {
             "endlinecolor": "#2a3f5f",
             "gridcolor": "white",
             "linecolor": "white",
             "minorgridcolor": "white",
             "startlinecolor": "#2a3f5f"
            },
            "baxis": {
             "endlinecolor": "#2a3f5f",
             "gridcolor": "white",
             "linecolor": "white",
             "minorgridcolor": "white",
             "startlinecolor": "#2a3f5f"
            },
            "type": "carpet"
           }
          ],
          "choropleth": [
           {
            "colorbar": {
             "outlinewidth": 0,
             "ticks": ""
            },
            "type": "choropleth"
           }
          ],
          "contour": [
           {
            "colorbar": {
             "outlinewidth": 0,
             "ticks": ""
            },
            "colorscale": [
             [
              0,
              "#0d0887"
             ],
             [
              0.1111111111111111,
              "#46039f"
             ],
             [
              0.2222222222222222,
              "#7201a8"
             ],
             [
              0.3333333333333333,
              "#9c179e"
             ],
             [
              0.4444444444444444,
              "#bd3786"
             ],
             [
              0.5555555555555556,
              "#d8576b"
             ],
             [
              0.6666666666666666,
              "#ed7953"
             ],
             [
              0.7777777777777778,
              "#fb9f3a"
             ],
             [
              0.8888888888888888,
              "#fdca26"
             ],
             [
              1,
              "#f0f921"
             ]
            ],
            "type": "contour"
           }
          ],
          "contourcarpet": [
           {
            "colorbar": {
             "outlinewidth": 0,
             "ticks": ""
            },
            "type": "contourcarpet"
           }
          ],
          "heatmap": [
           {
            "colorbar": {
             "outlinewidth": 0,
             "ticks": ""
            },
            "colorscale": [
             [
              0,
              "#0d0887"
             ],
             [
              0.1111111111111111,
              "#46039f"
             ],
             [
              0.2222222222222222,
              "#7201a8"
             ],
             [
              0.3333333333333333,
              "#9c179e"
             ],
             [
              0.4444444444444444,
              "#bd3786"
             ],
             [
              0.5555555555555556,
              "#d8576b"
             ],
             [
              0.6666666666666666,
              "#ed7953"
             ],
             [
              0.7777777777777778,
              "#fb9f3a"
             ],
             [
              0.8888888888888888,
              "#fdca26"
             ],
             [
              1,
              "#f0f921"
             ]
            ],
            "type": "heatmap"
           }
          ],
          "histogram": [
           {
            "marker": {
             "pattern": {
              "fillmode": "overlay",
              "size": 10,
              "solidity": 0.2
             }
            },
            "type": "histogram"
           }
          ],
          "histogram2d": [
           {
            "colorbar": {
             "outlinewidth": 0,
             "ticks": ""
            },
            "colorscale": [
             [
              0,
              "#0d0887"
             ],
             [
              0.1111111111111111,
              "#46039f"
             ],
             [
              0.2222222222222222,
              "#7201a8"
             ],
             [
              0.3333333333333333,
              "#9c179e"
             ],
             [
              0.4444444444444444,
              "#bd3786"
             ],
             [
              0.5555555555555556,
              "#d8576b"
             ],
             [
              0.6666666666666666,
              "#ed7953"
             ],
             [
              0.7777777777777778,
              "#fb9f3a"
             ],
             [
              0.8888888888888888,
              "#fdca26"
             ],
             [
              1,
              "#f0f921"
             ]
            ],
            "type": "histogram2d"
           }
          ],
          "histogram2dcontour": [
           {
            "colorbar": {
             "outlinewidth": 0,
             "ticks": ""
            },
            "colorscale": [
             [
              0,
              "#0d0887"
             ],
             [
              0.1111111111111111,
              "#46039f"
             ],
             [
              0.2222222222222222,
              "#7201a8"
             ],
             [
              0.3333333333333333,
              "#9c179e"
             ],
             [
              0.4444444444444444,
              "#bd3786"
             ],
             [
              0.5555555555555556,
              "#d8576b"
             ],
             [
              0.6666666666666666,
              "#ed7953"
             ],
             [
              0.7777777777777778,
              "#fb9f3a"
             ],
             [
              0.8888888888888888,
              "#fdca26"
             ],
             [
              1,
              "#f0f921"
             ]
            ],
            "type": "histogram2dcontour"
           }
          ],
          "mesh3d": [
           {
            "colorbar": {
             "outlinewidth": 0,
             "ticks": ""
            },
            "type": "mesh3d"
           }
          ],
          "parcoords": [
           {
            "line": {
             "colorbar": {
              "outlinewidth": 0,
              "ticks": ""
             }
            },
            "type": "parcoords"
           }
          ],
          "pie": [
           {
            "automargin": true,
            "type": "pie"
           }
          ],
          "scatter": [
           {
            "fillpattern": {
             "fillmode": "overlay",
             "size": 10,
             "solidity": 0.2
            },
            "type": "scatter"
           }
          ],
          "scatter3d": [
           {
            "line": {
             "colorbar": {
              "outlinewidth": 0,
              "ticks": ""
             }
            },
            "marker": {
             "colorbar": {
              "outlinewidth": 0,
              "ticks": ""
             }
            },
            "type": "scatter3d"
           }
          ],
          "scattercarpet": [
           {
            "marker": {
             "colorbar": {
              "outlinewidth": 0,
              "ticks": ""
             }
            },
            "type": "scattercarpet"
           }
          ],
          "scattergeo": [
           {
            "marker": {
             "colorbar": {
              "outlinewidth": 0,
              "ticks": ""
             }
            },
            "type": "scattergeo"
           }
          ],
          "scattergl": [
           {
            "marker": {
             "colorbar": {
              "outlinewidth": 0,
              "ticks": ""
             }
            },
            "type": "scattergl"
           }
          ],
          "scattermap": [
           {
            "marker": {
             "colorbar": {
              "outlinewidth": 0,
              "ticks": ""
             }
            },
            "type": "scattermap"
           }
          ],
          "scattermapbox": [
           {
            "marker": {
             "colorbar": {
              "outlinewidth": 0,
              "ticks": ""
             }
            },
            "type": "scattermapbox"
           }
          ],
          "scatterpolar": [
           {
            "marker": {
             "colorbar": {
              "outlinewidth": 0,
              "ticks": ""
             }
            },
            "type": "scatterpolar"
           }
          ],
          "scatterpolargl": [
           {
            "marker": {
             "colorbar": {
              "outlinewidth": 0,
              "ticks": ""
             }
            },
            "type": "scatterpolargl"
           }
          ],
          "scatterternary": [
           {
            "marker": {
             "colorbar": {
              "outlinewidth": 0,
              "ticks": ""
             }
            },
            "type": "scatterternary"
           }
          ],
          "surface": [
           {
            "colorbar": {
             "outlinewidth": 0,
             "ticks": ""
            },
            "colorscale": [
             [
              0,
              "#0d0887"
             ],
             [
              0.1111111111111111,
              "#46039f"
             ],
             [
              0.2222222222222222,
              "#7201a8"
             ],
             [
              0.3333333333333333,
              "#9c179e"
             ],
             [
              0.4444444444444444,
              "#bd3786"
             ],
             [
              0.5555555555555556,
              "#d8576b"
             ],
             [
              0.6666666666666666,
              "#ed7953"
             ],
             [
              0.7777777777777778,
              "#fb9f3a"
             ],
             [
              0.8888888888888888,
              "#fdca26"
             ],
             [
              1,
              "#f0f921"
             ]
            ],
            "type": "surface"
           }
          ],
          "table": [
           {
            "cells": {
             "fill": {
              "color": "#EBF0F8"
             },
             "line": {
              "color": "white"
             }
            },
            "header": {
             "fill": {
              "color": "#C8D4E3"
             },
             "line": {
              "color": "white"
             }
            },
            "type": "table"
           }
          ]
         },
         "layout": {
          "annotationdefaults": {
           "arrowcolor": "#2a3f5f",
           "arrowhead": 0,
           "arrowwidth": 1
          },
          "autotypenumbers": "strict",
          "coloraxis": {
           "colorbar": {
            "outlinewidth": 0,
            "ticks": ""
           }
          },
          "colorscale": {
           "diverging": [
            [
             0,
             "#8e0152"
            ],
            [
             0.1,
             "#c51b7d"
            ],
            [
             0.2,
             "#de77ae"
            ],
            [
             0.3,
             "#f1b6da"
            ],
            [
             0.4,
             "#fde0ef"
            ],
            [
             0.5,
             "#f7f7f7"
            ],
            [
             0.6,
             "#e6f5d0"
            ],
            [
             0.7,
             "#b8e186"
            ],
            [
             0.8,
             "#7fbc41"
            ],
            [
             0.9,
             "#4d9221"
            ],
            [
             1,
             "#276419"
            ]
           ],
           "sequential": [
            [
             0,
             "#0d0887"
            ],
            [
             0.1111111111111111,
             "#46039f"
            ],
            [
             0.2222222222222222,
             "#7201a8"
            ],
            [
             0.3333333333333333,
             "#9c179e"
            ],
            [
             0.4444444444444444,
             "#bd3786"
            ],
            [
             0.5555555555555556,
             "#d8576b"
            ],
            [
             0.6666666666666666,
             "#ed7953"
            ],
            [
             0.7777777777777778,
             "#fb9f3a"
            ],
            [
             0.8888888888888888,
             "#fdca26"
            ],
            [
             1,
             "#f0f921"
            ]
           ],
           "sequentialminus": [
            [
             0,
             "#0d0887"
            ],
            [
             0.1111111111111111,
             "#46039f"
            ],
            [
             0.2222222222222222,
             "#7201a8"
            ],
            [
             0.3333333333333333,
             "#9c179e"
            ],
            [
             0.4444444444444444,
             "#bd3786"
            ],
            [
             0.5555555555555556,
             "#d8576b"
            ],
            [
             0.6666666666666666,
             "#ed7953"
            ],
            [
             0.7777777777777778,
             "#fb9f3a"
            ],
            [
             0.8888888888888888,
             "#fdca26"
            ],
            [
             1,
             "#f0f921"
            ]
           ]
          },
          "colorway": [
           "#636efa",
           "#EF553B",
           "#00cc96",
           "#ab63fa",
           "#FFA15A",
           "#19d3f3",
           "#FF6692",
           "#B6E880",
           "#FF97FF",
           "#FECB52"
          ],
          "font": {
           "color": "#2a3f5f"
          },
          "geo": {
           "bgcolor": "white",
           "lakecolor": "white",
           "landcolor": "#E5ECF6",
           "showlakes": true,
           "showland": true,
           "subunitcolor": "white"
          },
          "hoverlabel": {
           "align": "left"
          },
          "hovermode": "closest",
          "mapbox": {
           "style": "light"
          },
          "paper_bgcolor": "white",
          "plot_bgcolor": "#E5ECF6",
          "polar": {
           "angularaxis": {
            "gridcolor": "white",
            "linecolor": "white",
            "ticks": ""
           },
           "bgcolor": "#E5ECF6",
           "radialaxis": {
            "gridcolor": "white",
            "linecolor": "white",
            "ticks": ""
           }
          },
          "scene": {
           "xaxis": {
            "backgroundcolor": "#E5ECF6",
            "gridcolor": "white",
            "gridwidth": 2,
            "linecolor": "white",
            "showbackground": true,
            "ticks": "",
            "zerolinecolor": "white"
           },
           "yaxis": {
            "backgroundcolor": "#E5ECF6",
            "gridcolor": "white",
            "gridwidth": 2,
            "linecolor": "white",
            "showbackground": true,
            "ticks": "",
            "zerolinecolor": "white"
           },
           "zaxis": {
            "backgroundcolor": "#E5ECF6",
            "gridcolor": "white",
            "gridwidth": 2,
            "linecolor": "white",
            "showbackground": true,
            "ticks": "",
            "zerolinecolor": "white"
           }
          },
          "shapedefaults": {
           "line": {
            "color": "#2a3f5f"
           }
          },
          "ternary": {
           "aaxis": {
            "gridcolor": "white",
            "linecolor": "white",
            "ticks": ""
           },
           "baxis": {
            "gridcolor": "white",
            "linecolor": "white",
            "ticks": ""
           },
           "bgcolor": "#E5ECF6",
           "caxis": {
            "gridcolor": "white",
            "linecolor": "white",
            "ticks": ""
           }
          },
          "title": {
           "x": 0.05
          },
          "xaxis": {
           "automargin": true,
           "gridcolor": "white",
           "linecolor": "white",
           "ticks": "",
           "title": {
            "standoff": 15
           },
           "zerolinecolor": "white",
           "zerolinewidth": 2
          },
          "yaxis": {
           "automargin": true,
           "gridcolor": "white",
           "linecolor": "white",
           "ticks": "",
           "title": {
            "standoff": 15
           },
           "zerolinecolor": "white",
           "zerolinewidth": 2
          }
         }
        },
        "title": {
         "text": "Distance Distribution with Cutoff"
        },
        "width": 1000,
        "xaxis": {
         "title": {
          "text": "Index"
         }
        },
        "yaxis": {
         "title": {
          "text": "Distance"
         }
        }
       }
      }
     },
     "metadata": {},
     "output_type": "display_data"
    },
    {
     "data": {
      "text/html": [
       "<div style=\"display: flex; flex-wrap: wrap; gap: 10px;\">\n",
       "    <div style='text-align: center; border: 1px solid #ddd; padding: 5px;'>\n",
       "        <img src=\"data:image/jpeg;base64,/9j/4AAQSkZJRgABAQAAAQABAAD/2wBDAAoHBwgHBgoICAgLCgoLDhgQDg0NDh0VFhEYIx8lJCIfIiEmKzcvJik0KSEiMEExNDk7Pj4+JS5ESUM8SDc9Pjv/2wBDAQoLCw4NDhwQEBw7KCIoOzs7Ozs7Ozs7Ozs7Ozs7Ozs7Ozs7Ozs7Ozs7Ozs7Ozs7Ozs7Ozs7Ozs7Ozs7Ozs7Ozv/wAARCAA/AGQDASIAAhEBAxEB/8QAHwAAAQUBAQEBAQEAAAAAAAAAAAECAwQFBgcICQoL/8QAtRAAAgEDAwIEAwUFBAQAAAF9AQIDAAQRBRIhMUEGE1FhByJxFDKBkaEII0KxwRVS0fAkM2JyggkKFhcYGRolJicoKSo0NTY3ODk6Q0RFRkdISUpTVFVWV1hZWmNkZWZnaGlqc3R1dnd4eXqDhIWGh4iJipKTlJWWl5iZmqKjpKWmp6ipqrKztLW2t7i5usLDxMXGx8jJytLT1NXW19jZ2uHi4+Tl5ufo6erx8vP09fb3+Pn6/8QAHwEAAwEBAQEBAQEBAQAAAAAAAAECAwQFBgcICQoL/8QAtREAAgECBAQDBAcFBAQAAQJ3AAECAxEEBSExBhJBUQdhcRMiMoEIFEKRobHBCSMzUvAVYnLRChYkNOEl8RcYGRomJygpKjU2Nzg5OkNERUZHSElKU1RVVldYWVpjZGVmZ2hpanN0dXZ3eHl6goOEhYaHiImKkpOUlZaXmJmaoqOkpaanqKmqsrO0tba3uLm6wsPExcbHyMnK0tPU1dbX2Nna4uPk5ebn6Onq8vP09fb3+Pn6/9oADAMBAAIRAxEAPwDvya8a8U+KdS1DU5oGmaK3SQqsSnAGDjn1r2LPrXhfiJDB4gv0I5Ezfzz/AFq4JN6hJtLQ7HRoEk022YRK7GPlmiJOfrWPr91cWWon7LcvEAB8sbEAH6Vi2OoXqgJFcvGB0APSlvHnkdnlm8xm6setVGGt2TKppoeheA/FV1q8kun3reZJEm9Je5HcGu1rzj4XWRE97esONojX+Zr0TdWckk9CottXY4mkJpm4VT1DV7HS0D3tykCtwu48n8KkqxU8T+IF8P6Z9oCh5pG2RKehPqa4zRPFWsalqwaa4UIVOVACjpU3j/VdP1bSbZrG8jmaOU5VTyMj0rj9M1O40+XzLcDf05rSMU4siUnF2PTbvX9Ut7R5opcsozg7WH6VX0Hx39t1BbbUUSNpPlSVTxn0Ncfd+IdQuLVopo4/m74waz7BDc30MSkIzOBnPTmnGmrahKp2Pdgxopq8KB14orIs4Pxj40m0u5+waa8Zk2/vJOpQ+g968zurprm5aWUlnZssx5JPrXf2nhd18Szy3tqs9qWZ/OZvu856VweoNBNqNzJCCI2kYp24zxWsUuhEmyESMD8j8+gNSC7JTa/UdTio1gLDK446U05yVYfMB+daWIvc9O+F8gaxvQG5DqcZ9jXcE15p8Ltv2+/ZsiVYlGO2M16MZPesJbmq2Hlq45khv/HN/wDbEjlS0hXy1l+6oIGT+tdbuzXnmpeGdY1TUbu7luY0Z2KqoJG5QeM4oiDM7xpd6TNLFFpkcAlQnzZIFwp9veuV8zbkN1HIxW94nsL/AEqG1huBB5bAlRAmAp9z3Nc8FQ9RyfzraN7Gbt0La3kg5zvGOhpkc+6cEkquecdarlQhyocfhT45drguu4VQjttA8cXemacbZ/NnAkJRickLxgc0UmkeDLjVtMhvUuI0SUZVSpziisXy3LUmdN4xvI7LRJlDlJbkeWmD+deTNCQcBc+/Wuk8U6u+r6nIwY+TCSkY9qwijZ3CqirbinqxsVtL0Ibb69KY9uUkDb+n8NT/ALwjBJFQsDlsnlR1rS+hHU7/AOG9si2t5eADfJIEz7AV22a868HWesadJDMoIgnbEkbf3fX616Erbuc1zy3NlsPJoAGOQDS4ppOD1pDOe8dWa3Hhmbao3IykH8a8oMckQyy4+gr13xbIP+EavBn+AfzFeVAzKcEkZ5Fa03oZzWpXMjEdvxNSQQkzoSBtyCTjtUhEpOSv47aeFcHLZK9/atLmZ7VpbW8ml2zWy/uTGNu0YxRXJ+FtejtNGWCRs7XO36cUVztO5utji5o0Z2ETqQGIqBYAxJ3YNbeo+Gp7C6kKEOuSQc4IFZhtZ14CY/EUpTlfQqKhbVjTY3Ei9Rj1zWn4a0qK41KQygSrEoyCMjNUotJvrvCRnaD6tXdeFfDH9l27NLJullwWx0Aq+fQhxVzUtYTxgdK0UiwKfHCsYwBUnFQURlagmBAq3TGAPUUAcx4ijNxpFzF6rn8q4CSPy13blIB4wa9R1Wz+0WU0S8M6FQfqK8tl024sWZXG4jjOafM0tASTeo7IUAnnPWrK2gkUMpBBH6VQDN3zTvJklI8tiCewOKmFSSepU4R+yXLWzkKOEcBVcjrRW7oXha7fTvMeRVLuWAznjAorbmOezP/Z\" style=\"max-width:none\">\n",
       "        <br>\n",
       "        <small style=''>Index: 0</small><br>\n",
       "        <small style=''>Distance: 0.0000</small><br>\n",
       "        <small style=''>Hash: 3068271dd98042007498c8ee1a4604dc</small>\n",
       "        <small style=''>(Localization)</small>\n",
       "    </div>\n",
       "    \n",
       "    <div style='text-align: center; border: 1px solid #ddd; padding: 5px;'>\n",
       "        <img src=\"data:image/jpeg;base64,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\" style=\"max-width:none\">\n",
       "        <br>\n",
       "        <small style=''>Index: 1</small><br>\n",
       "        <small style=''>Distance: 0.0485</small><br>\n",
       "        <small style=''>Hash: 1beed0b36b23787418077082c8aaebc0</small>\n",
       "        <small style=''>(Localization)</small>\n",
       "    </div>\n",
       "    \n",
       "    <div style='text-align: center; border: 1px solid #ddd; padding: 5px;'>\n",
       "        <img src=\"data:image/jpeg;base64,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\" style=\"max-width:none\">\n",
       "        <br>\n",
       "        <small style=''>Index: 2</small><br>\n",
       "        <small style=''>Distance: 0.0931</small><br>\n",
       "        <small style=''>Hash: 35545aa75006fd75fcc319b4e8101c62</small>\n",
       "        <small style=''>(Localization)</small>\n",
       "    </div>\n",
       "    \n",
       "    <div style='text-align: center; border: 1px solid #ddd; padding: 5px;'>\n",
       "        <img src=\"data:image/jpeg;base64,/9j/4AAQSkZJRgABAQAAAQABAAD/2wBDAAoHBwgHBgoICAgLCgoLDhgQDg0NDh0VFhEYIx8lJCIfIiEmKzcvJik0KSEiMEExNDk7Pj4+JS5ESUM8SDc9Pjv/2wBDAQoLCw4NDhwQEBw7KCIoOzs7Ozs7Ozs7Ozs7Ozs7Ozs7Ozs7Ozs7Ozs7Ozs7Ozs7Ozs7Ozs7Ozs7Ozs7Ozs7Ozv/wAARCAAzAGQDASIAAhEBAxEB/8QAHwAAAQUBAQEBAQEAAAAAAAAAAAECAwQFBgcICQoL/8QAtRAAAgEDAwIEAwUFBAQAAAF9AQIDAAQRBRIhMUEGE1FhByJxFDKBkaEII0KxwRVS0fAkM2JyggkKFhcYGRolJicoKSo0NTY3ODk6Q0RFRkdISUpTVFVWV1hZWmNkZWZnaGlqc3R1dnd4eXqDhIWGh4iJipKTlJWWl5iZmqKjpKWmp6ipqrKztLW2t7i5usLDxMXGx8jJytLT1NXW19jZ2uHi4+Tl5ufo6erx8vP09fb3+Pn6/8QAHwEAAwEBAQEBAQEBAQAAAAAAAAECAwQFBgcICQoL/8QAtREAAgECBAQDBAcFBAQAAQJ3AAECAxEEBSExBhJBUQdhcRMiMoEIFEKRobHBCSMzUvAVYnLRChYkNOEl8RcYGRomJygpKjU2Nzg5OkNERUZHSElKU1RVVldYWVpjZGVmZ2hpanN0dXZ3eHl6goOEhYaHiImKkpOUlZaXmJmaoqOkpaanqKmqsrO0tba3uLm6wsPExcbHyMnK0tPU1dbX2Nna4uPk5ebn6Onq8vP09fb3+Pn6/9oADAMBAAIRAxEAPwD0gCqmr30emaVc3sh4iQke57VaziuD+KWs+RpSacjfNMdzjPbtSNDzS61Vru5klIyWJJyah+3YOSvFU0PzHIpcGtPaS7kJI7jwBqip4igC8eaCjA+9ev8AavnvTbqTTSt1CcTKRsPoa9t0TWo9Y0eC8Q5Zlw/sw6/rUSk5PUpKyNUvimGTmoGkzQCSakZzPxEvRDoccZbHmSjI+leUNervOFJAr0H4mXUTi2tAQ0iAuwB6Z6V5gxIatI1JRVkRJJ7mgt+mc4K1618OL5b7Q3iHWB8Z9c14sTxXonwm1QQX89g5wJxlR7j/ACacqkpKzBRW6PVdtFL5gorMoqXd3HZW0lxMcLGM/X2rxTxNPdaxqUt3KAAx+UZ6DsK7b4ga+sIOnxjd5eHk9yegrzg6wZmKLD7cUDKJt2jOCcU0KByTx61JOsruSyEe1ILhI1wybh70E2J5QBbx7W+UZP1r0/4ayiTw26nqk7fqAa80htJdQmgtrSIl3wAg7GvWvC2jf2HpaWm4NIx3SMB1NAXN7aO1PVRj8Kekfy80j8CgZ5J46b/ip78Z5AQDP0rkCgBx2rqPHVxaHxRctuLfdVsdNwHNc1LJE4/d/lQDQzyi3QVqeH7iTTNUguRlQjgkj61nQSKrZc4H0rQjvLYkKGO7txQJbnu8cizRJKhyrqGBorg9E8ZxWGmpa3YLNGcIc/w4H9c0Uh6nG67qD3epXcsxIeWRuvpnAH5VkxYRsgqD7Vra/YXdrq1yksLKPNYgkcEZzWUVOfuj8qYrpk7TuVKk5Bqi0IL5I4+tT49qaYwedpxSHc3vBgJ8S2gQk4JJP4GvY7SHPJFec/DvQbiW9OoPEVijUqpI+8T/AExXqkUWxAMUxCFcCs/U5/stjcTgZMUTOB9BmtNhWfqcHnWU0eM70ZfzFAzwG/ZryVpZCXdmLMc8kmm2iiMH5Rk+tPu4PKndGRlZWIPtTY1HGC1AMlkVHXAj/Ko4IAkgYrgDuTUpQYwWb6VFhfM5BoEWyBIdzNzRUtvavLCGjhZ19QCaKBXPadW0+0uYyZrdHI7kVxl/pVijHbbIKKKpEszzpdixGbZK3NE0LS3kBayibB4yM0UUyTuLeKOGIJGgRR0AGKlooqDYU0x1BU5FFFIDzvxjplkbp5fs6h25LDjNcd9lgD/c/U0UVfQz6jvssJblP1NaWm6ZZyzqJIAwz3JoopClsel6VYWkFhGkVuiL6AUUUUhrY//Z\" style=\"max-width:none\">\n",
       "        <br>\n",
       "        <small style=''>Index: 3</small><br>\n",
       "        <small style=''>Distance: 0.1048</small><br>\n",
       "        <small style=''>Hash: d9c2c03d6d11bef798c4f39db53662ab</small>\n",
       "        <small style=''>(Localization)</small>\n",
       "    </div>\n",
       "    \n",
       "    <div style='text-align: center; border: 1px solid #ddd; padding: 5px;'>\n",
       "        <img src=\"data:image/jpeg;base64,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\" style=\"max-width:none\">\n",
       "        <br>\n",
       "        <small style=''>Index: 4</small><br>\n",
       "        <small style=''>Distance: 0.1057</small><br>\n",
       "        <small style=''>Hash: f8ec0ae6c24a85c447de21281a744f25</small>\n",
       "        <small style=''>(Localization)</small>\n",
       "    </div>\n",
       "    \n",
       "    <div style='text-align: center; border: 1px solid #ddd; padding: 5px;'>\n",
       "        <img src=\"data:image/jpeg;base64,/9j/4AAQSkZJRgABAQAAAQABAAD/2wBDAAoHBwgHBgoICAgLCgoLDhgQDg0NDh0VFhEYIx8lJCIfIiEmKzcvJik0KSEiMEExNDk7Pj4+JS5ESUM8SDc9Pjv/2wBDAQoLCw4NDhwQEBw7KCIoOzs7Ozs7Ozs7Ozs7Ozs7Ozs7Ozs7Ozs7Ozs7Ozs7Ozs7Ozs7Ozs7Ozs7Ozs7Ozs7Ozv/wAARCAAvAGQDASIAAhEBAxEB/8QAHwAAAQUBAQEBAQEAAAAAAAAAAAECAwQFBgcICQoL/8QAtRAAAgEDAwIEAwUFBAQAAAF9AQIDAAQRBRIhMUEGE1FhByJxFDKBkaEII0KxwRVS0fAkM2JyggkKFhcYGRolJicoKSo0NTY3ODk6Q0RFRkdISUpTVFVWV1hZWmNkZWZnaGlqc3R1dnd4eXqDhIWGh4iJipKTlJWWl5iZmqKjpKWmp6ipqrKztLW2t7i5usLDxMXGx8jJytLT1NXW19jZ2uHi4+Tl5ufo6erx8vP09fb3+Pn6/8QAHwEAAwEBAQEBAQEBAQAAAAAAAAECAwQFBgcICQoL/8QAtREAAgECBAQDBAcFBAQAAQJ3AAECAxEEBSExBhJBUQdhcRMiMoEIFEKRobHBCSMzUvAVYnLRChYkNOEl8RcYGRomJygpKjU2Nzg5OkNERUZHSElKU1RVVldYWVpjZGVmZ2hpanN0dXZ3eHl6goOEhYaHiImKkpOUlZaXmJmaoqOkpaanqKmqsrO0tba3uLm6wsPExcbHyMnK0tPU1dbX2Nna4uPk5ebn6Onq8vP09fb3+Pn6/9oADAMBAAIRAxEAPwD0YHNcH8UNbSysbewU5aY7mA9B0ruC4VSxOAOp9K8K8d6x/bHiGaRDmOM7E+goTsy3sZYvQVzt/Wpra+HmqCpBz1FZq5KVZskzcKDmr9rPuRZH0Jpc5udJtZ8j54lP6VM7EHrXEfDnW5bq0udPlyfIbejE9j2rsmbNZ7mghc+tKpJpoGTUqpgUhGN4vuvsnhm6fO0uAg/GvGJLyIycEnHoK9M+JGpRrZxaWpBeTMrj0A4H615LICrkelaRqOKshSRoR30StySPqK9k8B366h4ZiIAzExQ4rwo9K9N+E2phYrrT3PXEij3705VHJWYoqzPTKKiMuKKzLOc8aaqdO0d4omAnuAVU5xgdzXjNxZtvLswJPpXS+L9ekvtTmmiYPHG5SPPYCuaS8nuyUEYJoQMr7AOAc1ZstqzYOd2DioHhkiO90OKltromUrtGADzQI7X4Zsw1e84OwxDPtzXpiLvOBXKeBNPtLbQ4riD5pJ+ZHPXI7V2cC8UgBYgB0prjFTnpVaUkCmM8v+IT58TKSeFtRj8zXCMo3E5zk9a7v4jz2g1SMEFpUhxJg9ieB/OuFeaKXhFINJAxvlFugre8J3kmka1b3ByEDAN9D1rDhbYcuCBV+K8iZgihs/ypko99VgyhgRg8j6UVyXhnxNCNHWK7nVZIWKcnqOMfzopFHlc7NypUkZ6jrUCME6Fh+FdL4g8J3mmXshDK8TElTkZxWE1pOrfMP1FMm6IpJSylS2R71FEFVsZzz2FTGJ92MCtDSNAvNVvUigVRk8sSABRYLo9M8BRFPDdvu/iZm/WuvQYGAKo6NpkemafDbJyIlC59a0hikMYRxVeYYHNWzjFRTRh1xTA8I8WSs/iLUPNPJmIGfTsKxrdfKk3ADPtXW+PdLks9eklYKUuPnU5/OuWVMH7gpA0TOS68qvTrUcKpFIH+UfjmpTGFAyufxqPbhx8gxQLYtLkjgk+9FdTofhKfUtNS6YqgYnaMjpRRYOY//9k=\" style=\"max-width:none\">\n",
       "        <br>\n",
       "        <small style='color: red;'>❌ Index: 5</small><br>\n",
       "        <small style='color: red;'>Distance: 0.1109</small><br>\n",
       "        <small style='color: red;'>Hash: 5db2628dbed833a2cacc87794c4f5ff1</small>\n",
       "        <small style='color: red;'>(Localization)</small>\n",
       "    </div>\n",
       "    \n",
       "    <div style='text-align: center; border: 1px solid #ddd; padding: 5px;'>\n",
       "        <img src=\"data:image/jpeg;base64,/9j/4AAQSkZJRgABAQAAAQABAAD/2wBDAAoHBwgHBgoICAgLCgoLDhgQDg0NDh0VFhEYIx8lJCIfIiEmKzcvJik0KSEiMEExNDk7Pj4+JS5ESUM8SDc9Pjv/2wBDAQoLCw4NDhwQEBw7KCIoOzs7Ozs7Ozs7Ozs7Ozs7Ozs7Ozs7Ozs7Ozs7Ozs7Ozs7Ozs7Ozs7Ozs7Ozs7Ozs7Ozv/wAARCAAuAGQDASIAAhEBAxEB/8QAHwAAAQUBAQEBAQEAAAAAAAAAAAECAwQFBgcICQoL/8QAtRAAAgEDAwIEAwUFBAQAAAF9AQIDAAQRBRIhMUEGE1FhByJxFDKBkaEII0KxwRVS0fAkM2JyggkKFhcYGRolJicoKSo0NTY3ODk6Q0RFRkdISUpTVFVWV1hZWmNkZWZnaGlqc3R1dnd4eXqDhIWGh4iJipKTlJWWl5iZmqKjpKWmp6ipqrKztLW2t7i5usLDxMXGx8jJytLT1NXW19jZ2uHi4+Tl5ufo6erx8vP09fb3+Pn6/8QAHwEAAwEBAQEBAQEBAQAAAAAAAAECAwQFBgcICQoL/8QAtREAAgECBAQDBAcFBAQAAQJ3AAECAxEEBSExBhJBUQdhcRMiMoEIFEKRobHBCSMzUvAVYnLRChYkNOEl8RcYGRomJygpKjU2Nzg5OkNERUZHSElKU1RVVldYWVpjZGVmZ2hpanN0dXZ3eHl6goOEhYaHiImKkpOUlZaXmJmaoqOkpaanqKmqsrO0tba3uLm6wsPExcbHyMnK0tPU1dbX2Nna4uPk5ebn6Onq8vP09fb3+Pn6/9oADAMBAAIRAxEAPwD0bNcp8RNZXTPD/lbvnuW2gDrjvXU5rx34nawNQ1oWsbbo7YbePXvSvYs5hr9WJITGakhvo2bawIrOAOwVNbRlpQOa19rInlR714TvBe+G7SQnJVNh/DitYtxXmPw+8SGHUjpMjfuJRiIejj/GvRmf0NZXuWPZ+KZuz0qM5NPVSO1AFbVJ/s2lXU5ONkTH9K8Nu7xDMcEsc5r2fxZJFH4auxIcF1CqPU5rw28BEpA7VUJuOxMkWE1Bd3IIr1T4Z38d1pU8AAzHIDn1yP8A61eNDOa734W6oLTV5LSRsJcLj/gXaqlUk1Zkpa3PXsiimeYtFZlmP4k1gaVprtGR58mVjB/nXi2oWkssrSyPuJOSa6Pxp4kmvNQc2+PLiYon0H+Ncwtxd3cZ3EAUkD2sVDGAdoOTVmzwJG6hgpxmoJIpLZstjNSWtyzK4ZeowKYkaHh6b7N4isZBzidcn8a9uBz0rzjwR4WDvHq1yd3zZhQdPTJr0y3hOMmgdxyR55IpxwtTYAqGTigDj/iNJt0e2OeBPn/x015LMMszdcn869H+JOrpFFDYKgdv9a3t2H9a84E73eVWICgbRGsYc8VpaWslleRzDgg9R2qgscsBy0easw3zO4Tyx9aCbM94s7hbmzinUhhIgbINFee6H4xGmWBtZNzhXJU9cDA/rmikM4i5dnbBAYD3qND/ALJrf1jwxJp148XnI4B4PNZR050z8y/nTsTcqSneMHP5UkP3sKPxNWPsz78bhXQ+FvCL6xdjzZ0SJTlgM5IosF0jvvBtuyeHrJSP4M/mc11CjA4qKzs47SBIogAqgAD2qztoKGFaglGBmre2oZI9wNAHiHjWSVvEt75m4jfhfYY4rBh+XkZ59RXbfEDRmj1Y3iyLtnA+XuCK5BYmUgbsjNFhNiM2R1b8BTFIRuFYn3q00ZwAGwKSKwkllAV1645zSG2KgYrkKPxorvtI8CwPp6PczbpG5yo4op2Iuf/Z\" style=\"max-width:none\">\n",
       "        <br>\n",
       "        <small style='color: red;'>❌ Index: 6</small><br>\n",
       "        <small style='color: red;'>Distance: 0.1136</small><br>\n",
       "        <small style='color: red;'>Hash: 96910e8d326a336156f6e41b073eaa14</small>\n",
       "        <small style='color: red;'>(Localization)</small>\n",
       "    </div>\n",
       "    \n",
       "    <div style='text-align: center; border: 1px solid #ddd; padding: 5px;'>\n",
       "        <img src=\"data:image/jpeg;base64,/9j/4AAQSkZJRgABAQAAAQABAAD/2wBDAAoHBwgHBgoICAgLCgoLDhgQDg0NDh0VFhEYIx8lJCIfIiEmKzcvJik0KSEiMEExNDk7Pj4+JS5ESUM8SDc9Pjv/2wBDAQoLCw4NDhwQEBw7KCIoOzs7Ozs7Ozs7Ozs7Ozs7Ozs7Ozs7Ozs7Ozs7Ozs7Ozs7Ozs7Ozs7Ozs7Ozs7Ozs7Ozv/wAARCAArAGQDASIAAhEBAxEB/8QAHwAAAQUBAQEBAQEAAAAAAAAAAAECAwQFBgcICQoL/8QAtRAAAgEDAwIEAwUFBAQAAAF9AQIDAAQRBRIhMUEGE1FhByJxFDKBkaEII0KxwRVS0fAkM2JyggkKFhcYGRolJicoKSo0NTY3ODk6Q0RFRkdISUpTVFVWV1hZWmNkZWZnaGlqc3R1dnd4eXqDhIWGh4iJipKTlJWWl5iZmqKjpKWmp6ipqrKztLW2t7i5usLDxMXGx8jJytLT1NXW19jZ2uHi4+Tl5ufo6erx8vP09fb3+Pn6/8QAHwEAAwEBAQEBAQEBAQAAAAAAAAECAwQFBgcICQoL/8QAtREAAgECBAQDBAcFBAQAAQJ3AAECAxEEBSExBhJBUQdhcRMiMoEIFEKRobHBCSMzUvAVYnLRChYkNOEl8RcYGRomJygpKjU2Nzg5OkNERUZHSElKU1RVVldYWVpjZGVmZ2hpanN0dXZ3eHl6goOEhYaHiImKkpOUlZaXmJmaoqOkpaanqKmqsrO0tba3uLm6wsPExcbHyMnK0tPU1dbX2Nna4uPk5ebn6Onq8vP09fb3+Pn6/9oADAMBAAIRAxEAPwD0KmXM8drbS3EpwkSlmPsKcTzXGfEbXhY6QdPif99cfex2X/69I0PNtZ11tU1S4unXl3J5PQdqppern5lx9KpgEkk0qKSQMVp7SSIsj1b4Y6gJEurIcg/vFP6Gu9PHUV4doOuS+H9RgkhOAGBm46r3H5V7Sl0lxCksRykihlPsamUru5SVkSM9Rl896Rsk0KnNSADOC3pzXiOuXyS6pcyE5LSseB717Rqd1Fp+lXN1KQFjjJwTjJ7D868H1EYnbHUkmrjNx2E1cVb2MMBhhXqfwz1CO70u5t0A3RSBiR3yP/rV46M55ru/hZqItNaktXOFuUx+I5FOVRtWYktT17FFRmVfeis7lFPVtQj0uxkuXGSBhV9TXj+tyNqVzJc3EpZ2OTk1ufEPXZLm9exil/dW+F+Xu3fP8q4SBSxPmyuaAY2URhtqZzTrdSJVBXI9aSeJI8GNi1JavKm4k9RjFAtx7tmTOckmvbvDsnm+HrBj1+zpnPsMV5/4V8HJqYj1C7YPAc7YhwSQe59K9Ts7fyo1AQAAYAHagCVI+5pzALUuO2Kjl6UDOW+ID48KTgd5E/8AQq8ivPnlZ+frivU/iDexwaF9nfBe4kAUemOSf8+teTPc3EspQgYJ9KAYxUDnFamkGWwvIrmNuUYNVD7M6HcrqT6VNBd3IcJtGCfSglHvFncreWkVzGcrIoYUV5ppHi+fSrP7MoLqGLLntnHH55ooKsc9r5L65eZDZE7/AMzWcpI7n8a9Q8Y6XYtctKbZN7DlhxmuFmtIFJxGB+Jp8pHNrYyHyVPT8aWFHYhRzk4AA61b8mPcfl/Wu18AaVYzXfnyWyvInKlsnFFh8yR1nhTTJLPRLSKRNrLHkj3PNdCBgUqjAwKd2pFCAD1pkgyKeaTFAHmPxPiYPZSA4ADL7dq89QEvnC5+tev/ABEt4ZNDLugLRvlT6V5OUXPSgXUUAkfd/WmZKNwEBqfaPL6U1kXcOKQE0e8pncKK7fwvpVjPoqSS26u5Y5JJoqrGfOf/2Q==\" style=\"max-width:none\">\n",
       "        <br>\n",
       "        <small style='color: red;'>❌ Index: 7</small><br>\n",
       "        <small style='color: red;'>Distance: 0.1154</small><br>\n",
       "        <small style='color: red;'>Hash: e29199bdaf5b6c1e3387111a84c6f3f0</small>\n",
       "        <small style='color: red;'>(Localization)</small>\n",
       "    </div>\n",
       "    \n",
       "    <div style='text-align: center; border: 1px solid #ddd; padding: 5px;'>\n",
       "        <img src=\"data:image/jpeg;base64,/9j/4AAQSkZJRgABAQAAAQABAAD/2wBDAAoHBwgHBgoICAgLCgoLDhgQDg0NDh0VFhEYIx8lJCIfIiEmKzcvJik0KSEiMEExNDk7Pj4+JS5ESUM8SDc9Pjv/2wBDAQoLCw4NDhwQEBw7KCIoOzs7Ozs7Ozs7Ozs7Ozs7Ozs7Ozs7Ozs7Ozs7Ozs7Ozs7Ozs7Ozs7Ozs7Ozs7Ozs7Ozv/wAARCAAuAGQDASIAAhEBAxEB/8QAHwAAAQUBAQEBAQEAAAAAAAAAAAECAwQFBgcICQoL/8QAtRAAAgEDAwIEAwUFBAQAAAF9AQIDAAQRBRIhMUEGE1FhByJxFDKBkaEII0KxwRVS0fAkM2JyggkKFhcYGRolJicoKSo0NTY3ODk6Q0RFRkdISUpTVFVWV1hZWmNkZWZnaGlqc3R1dnd4eXqDhIWGh4iJipKTlJWWl5iZmqKjpKWmp6ipqrKztLW2t7i5usLDxMXGx8jJytLT1NXW19jZ2uHi4+Tl5ufo6erx8vP09fb3+Pn6/8QAHwEAAwEBAQEBAQEBAQAAAAAAAAECAwQFBgcICQoL/8QAtREAAgECBAQDBAcFBAQAAQJ3AAECAxEEBSExBhJBUQdhcRMiMoEIFEKRobHBCSMzUvAVYnLRChYkNOEl8RcYGRomJygpKjU2Nzg5OkNERUZHSElKU1RVVldYWVpjZGVmZ2hpanN0dXZ3eHl6goOEhYaHiImKkpOUlZaXmJmaoqOkpaanqKmqsrO0tba3uLm6wsPExcbHyMnK0tPU1dbX2Nna4uPk5ebn6Onq8vP09fb3+Pn6/9oADAMBAAIRAxEAPwD0wGsTxjqg0jw1d3IOHK7E+p4/xrYzivL/AIsa0JGh0qNsiP55MHv2pFnBnU2kZm2D8aF1AhssmR7VRjHBp6Kd4HrWntJ9ybI9h+GGpLcadPalh8j7kB689a7dsYrwTTNWm0bU7aaA/wCoIZl/veoP4V7kk/nwpKvAdQw/EVDk27sq2g9nxTQxJpoDE1IqGkMzfEk/2bw3fTc8REfnxXhU18/mHaoAz3r134hai1po8NmoP+lyYJ9hyf6V45coROw9KqMpLRCaTJRfyjkhTXqnwq1Vr2wurVjjymDAZ6Z615CegzXWfDjVv7L8RorNtinGxvx6U3OTVmyUlc9xoqIuTRUFFDWdSj0rTZbl8bgMID3bsK8S1iCW/upLmabe7kseK7D4ia/K109jbtxb4z7sRXAx3d9dZVmAHqaBvYqtGqHbu59KkhTEyBlPJHI7Us1pNAfMfHNNtbqQXIzjaOtDJuTTY88kdS1e66E0h0SyEqlZBAgYHscCvOfA3hy21S4k1C6PmLA2BCRxnGcmvVLWPAHHAoHclROKVvl71KRUUgFAHA/E45h0x8cLK2fyFeYTDLM+0jJ7969N+JWoJDaW9iArSu3m8/wgcD9f5V5d9qnmk8tlHJx0pDYKquQDxV+1tjDIsyOQVOQarLZzxneMHHvSpdXW8IPx4pko900HV4dR0eCdpVEm3a4Jx8w60V5CL2WJQsczKMcgHvRSHcj8QSytq94H+Ymd8889TWWp2/wsPxrtPF/hN7bVZbhJ1KTMXwc5Ge1cs+nOnJdfwp2FdFZ3yuOcVFEAG4UmrPkMDjcK19C8My6vfJCs6RqTyxyTRYXNY7P4aWzDSZ3YEb5vzwK9BjQIuKpaNpEGkafFa24+VB19T3NaHagYECopFyOKlpCOKBnkXxMjkXW4pAMhoAMfQmuGjBD7grg17J488NjVLJbqOURywA/eHBHpXlUlg8MhBcZHpRYTZECSP4j+FMPynOxie2TVxbc7MBualh0aW8cKJVBJ6nNFgvYrr5jjdsFFdvp3w+D2avNenc3Py9KKLE8yP//Z\" style=\"max-width:none\">\n",
       "        <br>\n",
       "        <small style='color: red;'>❌ Index: 8</small><br>\n",
       "        <small style='color: red;'>Distance: 0.1177</small><br>\n",
       "        <small style='color: red;'>Hash: 099b46b74e1aaf909fab35ab6bd12557</small>\n",
       "        <small style='color: red;'>(Localization)</small>\n",
       "    </div>\n",
       "    \n",
       "    <div style='text-align: center; border: 1px solid #ddd; padding: 5px;'>\n",
       "        <img src=\"data:image/jpeg;base64,/9j/4AAQSkZJRgABAQAAAQABAAD/2wBDAAoHBwgHBgoICAgLCgoLDhgQDg0NDh0VFhEYIx8lJCIfIiEmKzcvJik0KSEiMEExNDk7Pj4+JS5ESUM8SDc9Pjv/2wBDAQoLCw4NDhwQEBw7KCIoOzs7Ozs7Ozs7Ozs7Ozs7Ozs7Ozs7Ozs7Ozs7Ozs7Ozs7Ozs7Ozs7Ozs7Ozs7Ozs7Ozv/wAARCAArAGQDASIAAhEBAxEB/8QAHwAAAQUBAQEBAQEAAAAAAAAAAAECAwQFBgcICQoL/8QAtRAAAgEDAwIEAwUFBAQAAAF9AQIDAAQRBRIhMUEGE1FhByJxFDKBkaEII0KxwRVS0fAkM2JyggkKFhcYGRolJicoKSo0NTY3ODk6Q0RFRkdISUpTVFVWV1hZWmNkZWZnaGlqc3R1dnd4eXqDhIWGh4iJipKTlJWWl5iZmqKjpKWmp6ipqrKztLW2t7i5usLDxMXGx8jJytLT1NXW19jZ2uHi4+Tl5ufo6erx8vP09fb3+Pn6/8QAHwEAAwEBAQEBAQEBAQAAAAAAAAECAwQFBgcICQoL/8QAtREAAgECBAQDBAcFBAQAAQJ3AAECAxEEBSExBhJBUQdhcRMiMoEIFEKRobHBCSMzUvAVYnLRChYkNOEl8RcYGRomJygpKjU2Nzg5OkNERUZHSElKU1RVVldYWVpjZGVmZ2hpanN0dXZ3eHl6goOEhYaHiImKkpOUlZaXmJmaoqOkpaanqKmqsrO0tba3uLm6wsPExcbHyMnK0tPU1dbX2Nna4uPk5ebn6Onq8vP09fb3+Pn6/9oADAMBAAIRAxEAPwD0hzUTnAJPFKze9cz4v15dPsWtoWzcSjHH8IpDOJ8a+I7jU797aOT/AEWJzsUDqfU1x0s8ivjNXbliXLN1rOf5pCapNoT1LNpOWuY1Zc5YV7nYXMVzaRyQuHUqBwc4PpXg0GYgZOh6L9a7/wCGeoymS5sHbMe3zVz1Bzg0Sk3uNWPQSaUU0mgEGkB5t8SrlV1mCMZLCAZ/M1xi3Bz0FdF45vft+vT4TH2ciIe4HeuYAw3NWpu1ibK5saPqr6fqMFwEz5bhsZ617fp17FqNjFdw/ckXIHce1eBRLhwe1enfD3VN0Elg7fd+dM/rUyk3uNI7sHiimBveipGZuqajHptm87tgj7gPc15Zqeqx3FxJJLKWZjk1f8b600+syQI3yQL5eO2epNceMF97DOaAC6uVdsJVfbkfLjd6GrMxiZMhAD9arohL7uwpiHvwozjIrqvh5FcJqktyqHyRGUZj0yf/ANVU/DOh2+sTSm43FYsYAOM16PY2UVtGscEaoi9AooYIuhyRQZCo605UIFQzKccUhnkviBnXXr/cmGaXODWTIpU54/Ct/wAZXAn1uVEUL5ShCR1J61z0YLsAx4poTLtptkONtdDoskunX8NzEfunkeormRGsQyjMDV3Tr10fDN06UMaPboLhbiFJY2BRxkH1orgdC8Xx6bp32adWYrIxUj0P/wBfNFSOxzfie1uI9cu2mjZd8rMOOCM1jYwK9r1extbhczQI59xXF6hpFgCcWqD6Zq0jNyscMwyKI0ZmC8nJ4A710B0+0348kfma7Dwxo2nRjzltI946MecfnTtYXMQ+DNCms9O8y4Qo8zbtp6gdq62OEKMAVMqqOgp+BioNCAx8VBNFlTV7ApjKD2oA8c8Y27Q+IJ2bI3gN9eKwQMNmvUPHNlbSaes7wqZFOA3cV5qygEYFVYVxueKEYhutOAGat2UMckqq65BNFhN2NLTNP+12vmcn5scD2FFel6HYWsGlRJFAirjOAO9FSHMf/9k=\" style=\"max-width:none\">\n",
       "        <br>\n",
       "        <small style='color: red;'>❌ Index: 9</small><br>\n",
       "        <small style='color: red;'>Distance: 0.1250</small><br>\n",
       "        <small style='color: red;'>Hash: 40ac3a71895fd38c6be161a5cfe17a90</small>\n",
       "        <small style='color: red;'>(Localization)</small>\n",
       "    </div>\n",
       "    \n",
       "    <div style='text-align: center; border: 1px solid #ddd; padding: 5px;'>\n",
       "        <img src=\"data:image/jpeg;base64,/9j/4AAQSkZJRgABAQAAAQABAAD/2wBDAAoHBwgHBgoICAgLCgoLDhgQDg0NDh0VFhEYIx8lJCIfIiEmKzcvJik0KSEiMEExNDk7Pj4+JS5ESUM8SDc9Pjv/2wBDAQoLCw4NDhwQEBw7KCIoOzs7Ozs7Ozs7Ozs7Ozs7Ozs7Ozs7Ozs7Ozs7Ozs7Ozs7Ozs7Ozs7Ozs7Ozs7Ozs7Ozv/wAARCAAsAGQDASIAAhEBAxEB/8QAHwAAAQUBAQEBAQEAAAAAAAAAAAECAwQFBgcICQoL/8QAtRAAAgEDAwIEAwUFBAQAAAF9AQIDAAQRBRIhMUEGE1FhByJxFDKBkaEII0KxwRVS0fAkM2JyggkKFhcYGRolJicoKSo0NTY3ODk6Q0RFRkdISUpTVFVWV1hZWmNkZWZnaGlqc3R1dnd4eXqDhIWGh4iJipKTlJWWl5iZmqKjpKWmp6ipqrKztLW2t7i5usLDxMXGx8jJytLT1NXW19jZ2uHi4+Tl5ufo6erx8vP09fb3+Pn6/8QAHwEAAwEBAQEBAQEBAQAAAAAAAAECAwQFBgcICQoL/8QAtREAAgECBAQDBAcFBAQAAQJ3AAECAxEEBSExBhJBUQdhcRMiMoEIFEKRobHBCSMzUvAVYnLRChYkNOEl8RcYGRomJygpKjU2Nzg5OkNERUZHSElKU1RVVldYWVpjZGVmZ2hpanN0dXZ3eHl6goOEhYaHiImKkpOUlZaXmJmaoqOkpaanqKmqsrO0tba3uLm6wsPExcbHyMnK0tPU1dbX2Nna4uPk5ebn6Onq8vP09fb3+Pn6/9oADAMBAAIRAxEAPwDttc1iLSLMsTumcERp6n1ryfW7ie7vPNuJC8hGSTWv4g1kXnie6AkykZ8uL046/rmudmlMk8iseS2RWtB++VP4SufpzT4zsKk84OaeUzUZ+UlvSu1mJ7hpF5Fe6XbzxuGDRgcevQ1cAFedfDvVXMt5pxOUTEin0J4I/lXfrN8vWvMOgmOBTWYDmoTN71WvbnyrSaT+5Gx/SgR5Fq7K2qXJXoZmI/OqJGWqxITJKW65JNRtGd+T3r00nZHOKhcRuyEgjHeuk8O+LrzS7lLe9dpbYnDbuSnuK5i5lEMWB1Y9KVroPEuR8w71x4i3MbU27HusLrPCssLI8bjIb1ory3RvG11o1j9jRfMRWJUk9M44ornLMPVoGg1q8T+5M3881mXdwXcODhhXf+PNFht4pNWjLK7sodex9682kbdISQevUU9mT0LsV8fLO5Pn7cVSuriZ5B84AB6Cm4O7O4/lTGUZztLH36VbnJ6Nisj0L4cQyebd3ZXCuAob1PU16CG45rgvhrcSyW11bufljKsoHbOc/wAq72ONmHFQVcCayvE9wbXw3fzDqISPz4/rW0IcDmuB+JmrCK3h0uKUqz/PJ9OwNAHFWt9E4+fIb0xT576OP3J6CsiMspwF3U4liPmU8966PrE0rEciJ97XFx8xwq9T/SpJ3KgAHA/U1WjOOM8egq3BZ3F2223heVz2UZNc7bb1KdkEbsU6UV2mj/D6W509Jr2XyZWOfLPVR70U7Bc6jx5Yy3Phm4ESFihVyB6A814vIrCSvpSRVdCrqGUjBBHBFcdr3gfQ2Vp47doXY5PltgflTSuKUrbnkC9KifJPWu+HhDTWm2lp8f7w/wAK3NL+H+gu2+SOaTHZpOP0FHIzP2iuYvwtt5S14dh2kKM9s16fFCUUZ61Hp+n2mmwi3s7dIYwOijrVsdKRqiCVDg4rxz4iSGTxRMpAISNBj8M/1r2lgMV5L8S7GG31hbmPdvmQFsnjjikO5wyIuc9D7U5lA7mnBRuPJ4pp5NBPUanfAAr1b4e6Ts0X7TLFteVyVJHJXtXBeF9NttT8Q2tpchmic/MAcZr3W2tYbWFIoUCogCqPQUw6ipCFUCip8UUhn//Z\" style=\"max-width:none\">\n",
       "        <br>\n",
       "        <small style='color: red;'>❌ Index: 10</small><br>\n",
       "        <small style='color: red;'>Distance: 0.1261</small><br>\n",
       "        <small style='color: red;'>Hash: 72ca0e5f335685e6417b0bd050975e90</small>\n",
       "        <small style='color: red;'>(Localization)</small>\n",
       "    </div>\n",
       "    \n",
       "    <div style='text-align: center; border: 1px solid #ddd; padding: 5px;'>\n",
       "        <img src=\"data:image/jpeg;base64,/9j/4AAQSkZJRgABAQAAAQABAAD/2wBDAAoHBwgHBgoICAgLCgoLDhgQDg0NDh0VFhEYIx8lJCIfIiEmKzcvJik0KSEiMEExNDk7Pj4+JS5ESUM8SDc9Pjv/2wBDAQoLCw4NDhwQEBw7KCIoOzs7Ozs7Ozs7Ozs7Ozs7Ozs7Ozs7Ozs7Ozs7Ozs7Ozs7Ozs7Ozs7Ozs7Ozs7Ozs7Ozv/wAARCABIADcDASIAAhEBAxEB/8QAHwAAAQUBAQEBAQEAAAAAAAAAAAECAwQFBgcICQoL/8QAtRAAAgEDAwIEAwUFBAQAAAF9AQIDAAQRBRIhMUEGE1FhByJxFDKBkaEII0KxwRVS0fAkM2JyggkKFhcYGRolJicoKSo0NTY3ODk6Q0RFRkdISUpTVFVWV1hZWmNkZWZnaGlqc3R1dnd4eXqDhIWGh4iJipKTlJWWl5iZmqKjpKWmp6ipqrKztLW2t7i5usLDxMXGx8jJytLT1NXW19jZ2uHi4+Tl5ufo6erx8vP09fb3+Pn6/8QAHwEAAwEBAQEBAQEBAQAAAAAAAAECAwQFBgcICQoL/8QAtREAAgECBAQDBAcFBAQAAQJ3AAECAxEEBSExBhJBUQdhcRMiMoEIFEKRobHBCSMzUvAVYnLRChYkNOEl8RcYGRomJygpKjU2Nzg5OkNERUZHSElKU1RVVldYWVpjZGVmZ2hpanN0dXZ3eHl6goOEhYaHiImKkpOUlZaXmJmaoqOkpaanqKmqsrO0tba3uLm6wsPExcbHyMnK0tPU1dbX2Nna4uPk5ebn6Onq8vP09fb3+Pn6/9oADAMBAAIRAxEAPwDu3kSNdzuqr6k4FZVvq1tceIJrGBg7RxhnYHIznpXDlG8WTanqWoXUqwWm5YIIjjoCef0pPAsvleIxHn/WRH+hoehasetQnIHFStjHQVWt27VO5+XIqRHAfEDUrqyvrBrWZonUs3HfpWvovie0v9GS8u5orZ1OyQOwA3D0zXM/Ep8X9kT02t/MViaPaaRJbXN9qwbyYMBVD7Q57j19KEO+h6lYarY6mGNjdRzhTg7GziiuL+HVszXWoaokPkQ3B2wxg8YzmiqasIwfEFrqmjateSWSywW1wCX2ncpB659P/r1B4RvTB4gt7qXCx5IJJ9RXR/EjU47TTVso2/e3R+YZ6KK4aIBbeMplSB61VuYm7R7tZ3CSEFCCDV2VwIyfQV4dYa/qVmSILqQbR61duPGOs3EBRrtwp4xUuDuVdGv8Q2junttkqiSNmyPQVz/hzTLDVb9Yb25OQ3yQ9FkP1rNlklmLPK5LZzz3rT8O+Hf7Ys7pkkaGeBgYpB2Jz+nFWo2RDdz1aytI7KBYolVQBgAdBRXGaP4wudMf+zNfhkMkQwswGSw/r9aKizL9Dz/V9VuNb1OW+nHU4UdlA6Cn28imPacDFSaxYLYXs9oikCJjjPU1Qt4XLlmJAPatraGd9S4rrHISVLAjpUskkbIuAVAOeajTy1Lbjz2p+InwMr19aQyOa4VF3Ywx6ZrsfhhPvGoRt1JRseo5ri5rI3MxCcPkYz0r1PwpoiaLp4U4M0gBdsc5olsCepa1nQbXVogkycqflZfvCitTcO9FZpsbimeSeKGdPE9z5iHEhBUn0x/9asOSd1JArv8AxhpAvLM3aL+/gGcjuK8+fDHPHviqiJhGWdsk5p8gPXvSRjBqRl3j0qyNS3ocjS6pBG3OXHP4167FJkAV5d4Ts2m1pHA4jBJr0yJcAVnLc0jsWw2aKETNFSMr3VkrowPII5FeR67pkmm6lLbkHaG+U4xkUUVUSWZylwchSacPMJ5BFFFU2Skdf4Cjd7254ONg/nXoUNuwHJooqHuWi2iAUUUVJR//2Q==\" style=\"max-width:none\">\n",
       "        <br>\n",
       "        <small style='color: red;'>❌ Index: 11</small><br>\n",
       "        <small style='color: red;'>Distance: 0.1334</small><br>\n",
       "        <small style='color: red;'>Hash: ba29578fadacd32b111bd808d86975ca</small>\n",
       "        <small style='color: red;'>(Localization)</small>\n",
       "    </div>\n",
       "    \n",
       "    <div style='text-align: center; border: 1px solid #ddd; padding: 5px;'>\n",
       "        <img src=\"data:image/jpeg;base64,/9j/4AAQSkZJRgABAQAAAQABAAD/2wBDAAoHBwgHBgoICAgLCgoLDhgQDg0NDh0VFhEYIx8lJCIfIiEmKzcvJik0KSEiMEExNDk7Pj4+JS5ESUM8SDc9Pjv/2wBDAQoLCw4NDhwQEBw7KCIoOzs7Ozs7Ozs7Ozs7Ozs7Ozs7Ozs7Ozs7Ozs7Ozs7Ozs7Ozs7Ozs7Ozs7Ozs7Ozs7Ozv/wAARCAArAGQDASIAAhEBAxEB/8QAHwAAAQUBAQEBAQEAAAAAAAAAAAECAwQFBgcICQoL/8QAtRAAAgEDAwIEAwUFBAQAAAF9AQIDAAQRBRIhMUEGE1FhByJxFDKBkaEII0KxwRVS0fAkM2JyggkKFhcYGRolJicoKSo0NTY3ODk6Q0RFRkdISUpTVFVWV1hZWmNkZWZnaGlqc3R1dnd4eXqDhIWGh4iJipKTlJWWl5iZmqKjpKWmp6ipqrKztLW2t7i5usLDxMXGx8jJytLT1NXW19jZ2uHi4+Tl5ufo6erx8vP09fb3+Pn6/8QAHwEAAwEBAQEBAQEBAQAAAAAAAAECAwQFBgcICQoL/8QAtREAAgECBAQDBAcFBAQAAQJ3AAECAxEEBSExBhJBUQdhcRMiMoEIFEKRobHBCSMzUvAVYnLRChYkNOEl8RcYGRomJygpKjU2Nzg5OkNERUZHSElKU1RVVldYWVpjZGVmZ2hpanN0dXZ3eHl6goOEhYaHiImKkpOUlZaXmJmaoqOkpaanqKmqsrO0tba3uLm6wsPExcbHyMnK0tPU1dbX2Nna4uPk5ebn6Onq8vP09fb3+Pn6/9oADAMBAAIRAxEAPwD0AntVa9uo7O1luJPuxqWPvUzNzXEeOtbGz+zYGz3lI/QVJRxniDW5tX1OS5kUKOir/dFY5uGz0FTSjgtVQAk5rRSZLO5+HBR9WnkP3ki4H416PurxTS9Ql0q8gliJUqwdwD94eleyW8y3FvHMvAkUMAfcZqZSbeo0tB5PNSKajI5pwPFIDkviOVXTbRyRxIR+lebmdd3HSuy+Id+l3eR2Cc/Zl3N9T/8AWrhSCDjFaRm0rITWpraXfJbXkUpzhXDH8DXttpdw3trHcQOHjkGQRXgkY5Br0n4f6puhfT5G6fNHk/mKmcnLcaR3NFNB4oqBmNruqrptkxDgSsMIP615he3Ucrs7yBiTkn1q14o1lr3V7ggkIp8tAT0Arn1wW3Nz7E00gGTShnIUcURoQ6kANzzTphHj5VwaZEpVs560xD3O6XjueK9h0aVv7JtFcEMIVBB69K47wr4etpoI7+ZDI7cqrdF5613EMZGKTAsZzSGQKDk0YIqKYNjIpAeW+JpvM8VXjHOC2P0ArDcBssoIFdf44s4Ekhugu2aQ4OOhArjndy5yeDVICe3IY4rc0qSawu4rqEnKEH61gxQ4G8SEH0qzbXssUoBc7c0MEe22l2lzaxzp0kUNRXm9t4ovbKLyoJAEzkA80VBWhg6xazw6hOJoyhLsRke9UAvtXtGq6faXCkzW6OfUiuOv9KsVY4tkH0zWqVzNuxw7DNSW1tJcTLFGjO7HAUV0qaXZGQAwAj6muz0XSrC0hEkFrGjn+IDmhxsiVO7HaHpr2OnQQP8AeRQD9a1guB0p6gYHFPwKzNSHGajkTIq0APSmsox0oEcD49tmNpBLg4VyM+ma4HBzzg17Zq1tBcWUkc0auhQ5Brx+/hjiu5ERdqhjgVS2FfUrKTijPOaUU9VBbpQBLFIdg5/Oiuo0fS7GawDyW6s248nNFOwuY//Z\" style=\"max-width:none\">\n",
       "        <br>\n",
       "        <small style='color: red;'>❌ Index: 12</small><br>\n",
       "        <small style='color: red;'>Distance: 0.1344</small><br>\n",
       "        <small style='color: red;'>Hash: 2f0153d141e4fc668c6c7ee4c360b322</small>\n",
       "        <small style='color: red;'>(Localization)</small>\n",
       "    </div>\n",
       "    \n",
       "    <div style='text-align: center; border: 1px solid #ddd; padding: 5px;'>\n",
       "        <img src=\"data:image/jpeg;base64,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\" style=\"max-width:none\">\n",
       "        <br>\n",
       "        <small style='color: red;'>❌ Index: 13</small><br>\n",
       "        <small style='color: red;'>Distance: 0.1358</small><br>\n",
       "        <small style='color: red;'>Hash: 16cd0bb97e51fff62153899466f1efd3</small>\n",
       "        <small style='color: red;'>(Localization)</small>\n",
       "    </div>\n",
       "    \n",
       "    <div style='text-align: center; border: 1px solid #ddd; padding: 5px;'>\n",
       "        <img src=\"data:image/jpeg;base64,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\" style=\"max-width:none\">\n",
       "        <br>\n",
       "        <small style='color: red;'>❌ Index: 14</small><br>\n",
       "        <small style='color: red;'>Distance: 0.1382</small><br>\n",
       "        <small style='color: red;'>Hash: 00d81a74570ffb3658120ef06143d9a6</small>\n",
       "        <small style='color: red;'>(Localization)</small>\n",
       "    </div>\n",
       "    \n",
       "    <div style='text-align: center; border: 1px solid #ddd; padding: 5px;'>\n",
       "        <img src=\"data:image/jpeg;base64,/9j/4AAQSkZJRgABAQAAAQABAAD/2wBDAAoHBwgHBgoICAgLCgoLDhgQDg0NDh0VFhEYIx8lJCIfIiEmKzcvJik0KSEiMEExNDk7Pj4+JS5ESUM8SDc9Pjv/2wBDAQoLCw4NDhwQEBw7KCIoOzs7Ozs7Ozs7Ozs7Ozs7Ozs7Ozs7Ozs7Ozs7Ozs7Ozs7Ozs7Ozs7Ozs7Ozs7Ozs7Ozv/wAARCAAxAGQDASIAAhEBAxEB/8QAHwAAAQUBAQEBAQEAAAAAAAAAAAECAwQFBgcICQoL/8QAtRAAAgEDAwIEAwUFBAQAAAF9AQIDAAQRBRIhMUEGE1FhByJxFDKBkaEII0KxwRVS0fAkM2JyggkKFhcYGRolJicoKSo0NTY3ODk6Q0RFRkdISUpTVFVWV1hZWmNkZWZnaGlqc3R1dnd4eXqDhIWGh4iJipKTlJWWl5iZmqKjpKWmp6ipqrKztLW2t7i5usLDxMXGx8jJytLT1NXW19jZ2uHi4+Tl5ufo6erx8vP09fb3+Pn6/8QAHwEAAwEBAQEBAQEBAQAAAAAAAAECAwQFBgcICQoL/8QAtREAAgECBAQDBAcFBAQAAQJ3AAECAxEEBSExBhJBUQdhcRMiMoEIFEKRobHBCSMzUvAVYnLRChYkNOEl8RcYGRomJygpKjU2Nzg5OkNERUZHSElKU1RVVldYWVpjZGVmZ2hpanN0dXZ3eHl6goOEhYaHiImKkpOUlZaXmJmaoqOkpaanqKmqsrO0tba3uLm6wsPExcbHyMnK0tPU1dbX2Nna4uPk5ebn6Onq8vP09fb3+Pn6/9oADAMBAAIRAxEAPwDstclWDRLyRughb+VeLSyu4VSxIXoM9K9U8a38Ueiz2YYGWZRxn7oz1rykg44rpobMU9x8ZxXp/gK/W40NbUyAywsfl77TyP615aPlWtTT9SuNMKXltJskhIOP7w9DVVvhCnuezinDkVT0/UIdSsYbuE/JMgYe1WC5ArjNR+cUhbmoy5xTS/NAij4hvjY6HdTrywTaPqeP6147IP3jfWvVPF8ijw5chu4AH1yK8qbO88V14fRMynuLGcOvXrXs+mXKXOn28isGzGucHODivFk4I571p2OqX2l3hubSUgKRuXOQfqKK+yY4bnsNFUtI1e11XTo7tZFjLcMjHlW7iiuS5pZnmWs6u2pXd/NyFaQFM/3RwKx0TzVyvI9qXWWNpqN1CAQFkYHP1rLiuWiY7XwD1Fa06nJuTJXNCXbEMyHaPeq09x8q4Jw3OB+lU7h/N/iJPardnZXN/NFBbQtI546dPc+goqVefQUVY9R+H8jnwzEJD0kcLn0zXUebxWNoOnHS9Kgs85ZF+Yjue9ayxE9axLuBkJoyTzUohApGTFMDlfHUxTSIUzgPNj9Ca8+2kk8V1PxMvwgsraOQeYpMjL6en9a42K/LLl0wfbvXTRqRirSIlFtloIEGTwBTLe6LO/dWqjNetJlduB2HrTlcLDsU89yO9TWqKWiCKsaUd95a7Q7Lz0UmispS4HHAormsaXLniaTf4hvi3H79v5//AFqzAu7kYP1rtPFngnVE1S4vLaAzwSuXBTkjPqK5n+x9RjODYz5/65mqsRcosMd8fhXWfDpQ+uOMk/uT1+orETQdXuGCx6dcMT/0zNeg+AvB9/pc8l7fp5JdNqRn731PpRqNNHYW9vnmrYjAHSnpGEGAKkC0DK5HtUMlXCtVrmNvLYqMkCgDwrxRfyalrt1PIMjzCq47AcCslAcfeNW75HF1LvBVt53A9uahTG33oQmRkH1Jq9p9pLeXMdtCmZHOAKptnNdn8O9Gnu9UF+yMIYAcNjhm6Y/CgRatPhy8kO+5u9shPRBwBRXpyQALyKKAsSH7v41Xf75+tFFUthsmj+6KkXpRRUsURw6U4dKKKCgPQUyToaKKAPFPHH/IxTf75rmj1NFFDJjsH8Ve1eAP+Rag+poop9A6nTiiiikM/9k=\" style=\"max-width:none\">\n",
       "        <br>\n",
       "        <small style='color: red;'>❌ Index: 15</small><br>\n",
       "        <small style='color: red;'>Distance: 0.1394</small><br>\n",
       "        <small style='color: red;'>Hash: dfa63e5946535c0b59b0761dd6692af2</small>\n",
       "        <small style='color: red;'>(Localization)</small>\n",
       "    </div>\n",
       "    \n",
       "    <div style='text-align: center; border: 1px solid #ddd; padding: 5px;'>\n",
       "        <img src=\"data:image/jpeg;base64,/9j/4AAQSkZJRgABAQAAAQABAAD/2wBDAAoHBwgHBgoICAgLCgoLDhgQDg0NDh0VFhEYIx8lJCIfIiEmKzcvJik0KSEiMEExNDk7Pj4+JS5ESUM8SDc9Pjv/2wBDAQoLCw4NDhwQEBw7KCIoOzs7Ozs7Ozs7Ozs7Ozs7Ozs7Ozs7Ozs7Ozs7Ozs7Ozs7Ozs7Ozs7Ozs7Ozs7Ozs7Ozv/wAARCAA0AGQDASIAAhEBAxEB/8QAHwAAAQUBAQEBAQEAAAAAAAAAAAECAwQFBgcICQoL/8QAtRAAAgEDAwIEAwUFBAQAAAF9AQIDAAQRBRIhMUEGE1FhByJxFDKBkaEII0KxwRVS0fAkM2JyggkKFhcYGRolJicoKSo0NTY3ODk6Q0RFRkdISUpTVFVWV1hZWmNkZWZnaGlqc3R1dnd4eXqDhIWGh4iJipKTlJWWl5iZmqKjpKWmp6ipqrKztLW2t7i5usLDxMXGx8jJytLT1NXW19jZ2uHi4+Tl5ufo6erx8vP09fb3+Pn6/8QAHwEAAwEBAQEBAQEBAQAAAAAAAAECAwQFBgcICQoL/8QAtREAAgECBAQDBAcFBAQAAQJ3AAECAxEEBSExBhJBUQdhcRMiMoEIFEKRobHBCSMzUvAVYnLRChYkNOEl8RcYGRomJygpKjU2Nzg5OkNERUZHSElKU1RVVldYWVpjZGVmZ2hpanN0dXZ3eHl6goOEhYaHiImKkpOUlZaXmJmaoqOkpaanqKmqsrO0tba3uLm6wsPExcbHyMnK0tPU1dbX2Nna4uPk5ebn6Onq8vP09fb3+Pn6/9oADAMBAAIRAxEAPwDyc+lJgVpeJNLk0bWZrcqQhO6M+qms1CCM+nagBVBHOa2/Dfia58OaisifvLd/9bEe49R6GsMuxPApCGJHBoGnY+iLa6iu7aO4hbdHKoZSO4NTB65D4dXbz+FkSQkmGRkGfTr/AFrqg1AybfSFs1HvpC3NAHjXjy2+y+KrkgYEm1/zFc6oGQa9A+J9golg1AMAzfuyp7157yrZwcGgRITyaVCc5qPJY+1XtJs11HVba0eQRJK4G40CO48KeFobzQ0ubhPmlckZ9O1Fd9Y2sdnZRW6LhY1AA9KKdwscd4/0iG90lrwlUkt+Qx7j0rywRZOQSK7T4g6vNcal/ZisVggAJH95iK5CPhcUhke0gfM5/ClyOwpzjPNNIoEer/DtCnhdWPG6VyK6nfWD4UiNt4Zso8YJj3H8ea19xoKJjJj60wynNRZ5ozmgDz/4n3bPc2VpnhFaQ/jxXCq54FdZ8RGLeIVXssK/1rlFxu5oEx5YdBSRSvDcpLG2HRgwI7EUwoc805I8EGgR7/YXJu9Pt7jvLErHHuKK8y0Xx9eaVpkdm0CziPhWZsEDsKKRRH8QrcrrEdyFwsiAZ9xXKKeea9f8RaCmq2TRMuGHKt3Brya7tJLK7kt5lwyMQfemT1I8Z56UgXdIo7E4p4AI9M1LYW7XGoQRKCxaQDAHvQB7NYRiKyhjUYCxgD8qsbfSmwQvtAzgCrIjAoKIAhNGABVjaKikUgUAeY/EWEJrcMwP+shA/I1yYQEV2nxHH76ybHZufyrjV6UCGgEZ70ooP6UBckAcmgRNFbSypuRSRmiu78OeFRJo8ct15iSSEttHYdqKYjvnAI5FZOoaJpt+xe4tI3fH3sc0UUhszU8G6IX/AOPU/TdWtY6BpenuHtrREfH3sZNFFV0IjuaQAzThRRUmouBTWAxRRQI4j4jWsTaRFMQd6ScfjXnC8cUUUCYh+90712ngXRrK8drmeMu6NhQTwPwoopol7HpUcSBAAuBRRRUln//Z\" style=\"max-width:none\">\n",
       "        <br>\n",
       "        <small style='color: red;'>❌ Index: 16</small><br>\n",
       "        <small style='color: red;'>Distance: 0.1429</small><br>\n",
       "        <small style='color: red;'>Hash: 6636c68de3351bac44d9399896409c3a</small>\n",
       "        <small style='color: red;'>(Localization)</small>\n",
       "    </div>\n",
       "    \n",
       "    <div style='text-align: center; border: 1px solid #ddd; padding: 5px;'>\n",
       "        <img src=\"data:image/jpeg;base64,/9j/4AAQSkZJRgABAQAAAQABAAD/2wBDAAoHBwgHBgoICAgLCgoLDhgQDg0NDh0VFhEYIx8lJCIfIiEmKzcvJik0KSEiMEExNDk7Pj4+JS5ESUM8SDc9Pjv/2wBDAQoLCw4NDhwQEBw7KCIoOzs7Ozs7Ozs7Ozs7Ozs7Ozs7Ozs7Ozs7Ozs7Ozs7Ozs7Ozs7Ozs7Ozs7Ozs7Ozs7Ozv/wAARCAAsAGQDASIAAhEBAxEB/8QAHwAAAQUBAQEBAQEAAAAAAAAAAAECAwQFBgcICQoL/8QAtRAAAgEDAwIEAwUFBAQAAAF9AQIDAAQRBRIhMUEGE1FhByJxFDKBkaEII0KxwRVS0fAkM2JyggkKFhcYGRolJicoKSo0NTY3ODk6Q0RFRkdISUpTVFVWV1hZWmNkZWZnaGlqc3R1dnd4eXqDhIWGh4iJipKTlJWWl5iZmqKjpKWmp6ipqrKztLW2t7i5usLDxMXGx8jJytLT1NXW19jZ2uHi4+Tl5ufo6erx8vP09fb3+Pn6/8QAHwEAAwEBAQEBAQEBAQAAAAAAAAECAwQFBgcICQoL/8QAtREAAgECBAQDBAcFBAQAAQJ3AAECAxEEBSExBhJBUQdhcRMiMoEIFEKRobHBCSMzUvAVYnLRChYkNOEl8RcYGRomJygpKjU2Nzg5OkNERUZHSElKU1RVVldYWVpjZGVmZ2hpanN0dXZ3eHl6goOEhYaHiImKkpOUlZaXmJmaoqOkpaanqKmqsrO0tba3uLm6wsPExcbHyMnK0tPU1dbX2Nna4uPk5ebn6Onq8vP09fb3+Pn6/9oADAMBAAIRAxEAPwD0uuK+JOux6dpSWYb95cHoPSuydwilmOAOc14V491n+2PEEjIxMUXyJ9BSTs9CzKa/GchavaTqSR38Ei5DI4PP1rDxkAVbsVAkLkfc5rX20upCij6LtZhPaxyjo6g1ITiuL+H3iJ9S017SckywHg/7PauuLE1lc0FZuaZv5pMZ9acq5oEGMrmvFPFV/Gdcujkt+8I4r2q5mS2tZJZCAiKSSa8B15xJqEsi9HckfTNVGbi9BNXRGL9OPlIr074X6lFcwXNsPvKQ1eRdq6z4bar/AGb4jRHbEc42NVSqyasxKKue44opvmjt0orO5RyvjTV2s9Pa0hbbNMCCfQV4/eWOxy7MTk5ya2fFuuXWoai80b4GcKPasNFmuY/3kwBPY0kDKoQM2FOcVbhUCB8grng5qtKrWzYHJ7EVatC9yiQOcF2AzTEdj8MZHXVLlcfIU6+leoopauf8M6Bb6NZIkKgu4Bd+5rpok2jpQACPApCMVL1qN+mKBmT4kf8A4kF4B/zyNeGXnzykjPHFexeNNSXT9DlBwXm+RQa8YkvJZpTH5YGaXUHsQhQ5wKu2UD288c6nlSDVcWssbb+D+NPjvLjcI9oApknvej3qX2lwXAcHcgz9aK8s03xHLp1oLdXOAc8UVNyrHMzszPywOPWmqxHYV1GuaHZWt7IkQcKCeM1hyWsa9M8e9VYnmuUXy3UZq/okD3Go28ar1kHA+tMjto3bB3fnXpXgPw/p8cf2zyy03Ysc4osDlqdjZw7YlB7CrgHpSqoUDAp1BQ3bxUbrxxUuaQ9KBHmnxPWQx2jDoCRXmqo2/O05r2Xx9ZQ3OjlpAco2VIryNoVVjjP50gbEGdvQmoydrjC8/WrewCMdaRLaOSQZz+FAXFjV2XOKK7/QfDenS6WjyIzMScktRTsRzn//2Q==\" style=\"max-width:none\">\n",
       "        <br>\n",
       "        <small style='color: red;'>❌ Index: 17</small><br>\n",
       "        <small style='color: red;'>Distance: 0.1455</small><br>\n",
       "        <small style='color: red;'>Hash: a0664dd79706ebf14e90fa028795e1d3</small>\n",
       "        <small style='color: red;'>(Localization)</small>\n",
       "    </div>\n",
       "    \n",
       "    <div style='text-align: center; border: 1px solid #ddd; padding: 5px;'>\n",
       "        <img src=\"data:image/jpeg;base64,/9j/4AAQSkZJRgABAQAAAQABAAD/2wBDAAoHBwgHBgoICAgLCgoLDhgQDg0NDh0VFhEYIx8lJCIfIiEmKzcvJik0KSEiMEExNDk7Pj4+JS5ESUM8SDc9Pjv/2wBDAQoLCw4NDhwQEBw7KCIoOzs7Ozs7Ozs7Ozs7Ozs7Ozs7Ozs7Ozs7Ozs7Ozs7Ozs7Ozs7Ozs7Ozs7Ozs7Ozs7Ozv/wAARCAAzAGQDASIAAhEBAxEB/8QAHwAAAQUBAQEBAQEAAAAAAAAAAAECAwQFBgcICQoL/8QAtRAAAgEDAwIEAwUFBAQAAAF9AQIDAAQRBRIhMUEGE1FhByJxFDKBkaEII0KxwRVS0fAkM2JyggkKFhcYGRolJicoKSo0NTY3ODk6Q0RFRkdISUpTVFVWV1hZWmNkZWZnaGlqc3R1dnd4eXqDhIWGh4iJipKTlJWWl5iZmqKjpKWmp6ipqrKztLW2t7i5usLDxMXGx8jJytLT1NXW19jZ2uHi4+Tl5ufo6erx8vP09fb3+Pn6/8QAHwEAAwEBAQEBAQEBAQAAAAAAAAECAwQFBgcICQoL/8QAtREAAgECBAQDBAcFBAQAAQJ3AAECAxEEBSExBhJBUQdhcRMiMoEIFEKRobHBCSMzUvAVYnLRChYkNOEl8RcYGRomJygpKjU2Nzg5OkNERUZHSElKU1RVVldYWVpjZGVmZ2hpanN0dXZ3eHl6goOEhYaHiImKkpOUlZaXmJmaoqOkpaanqKmqsrO0tba3uLm6wsPExcbHyMnK0tPU1dbX2Nna4uPk5ebn6Onq8vP09fb3+Pn6/9oADAMBAAIRAxEAPwDG8YyvJ4rvy5yVl2j2AHFYi8c+lbnjqMw+L77/AGyrfmorDGGUEdKRQhbLV7V4SiEPhfT1AxmEMfqea8VwB1r27w5PBP4fsXtn3RiFVB9wMEfnQBrilzUYagvQA4msTxbPbQeGr5ro/u2iKgdyx6frWsWrzX4matJLew6UhxFEokcerHp+Q/nQNHGp83U01zk0kTYQjvnFIxxmmIjkO0qQcEcg17d4P1r+3fD0FyzZmT93MP8AaHf8Rg14dI2cc16V8JPMFrqWT8m9MD3wf/rUAei0UgNFIDw/xXfnUvEV5OyhQr+WoHovArIjGw5yMHqKuajFJBqF1DMMSCVtwb61TKn+5n6UALIC33eld58M9TkSa40uQkoy+bH/ALJHB/pXAgAHrj2FemfD/Q2tLU6pOAJLhcRr/dT/AOvQB2hNNLGikNAATXl/xEsXh11bsglLiMYPuvBH8vzr1Daaw/Fmh/25o7QpgXER3wn39PxoA8dDhcjacU1iG6MPxpXDxyNHKpR1OCD2PvTWRu+CKAIyh3ZJBHtXq/wttxFoFxcd5rjH4Af/AF68p2bSMDH0r1j4ayF/DLJg/up2H54NDdkC3O2yKKpysu4Zm8s46A0VHOjTkZxPjTw2b9ftcMf+mRrhto/1wH9a89RXQkHPHBB7V7xfQb4iwQMV7HvWJf6b4fuZolvLbfPN0DRgOT9cjNVexFr7Hmmg2C6hrdrbMhdGkG8Adu9e0RRCKMIihVUYAHYVj6Nb6VHLJFp9m0bxPtY7QOfc9/zNb6oR1oTuDVhgQk08RipAuKXBpiItoxUTrVgiopF9KAueJeLyn/CV34AC4kxj1OBWE4Yn7xr0LxH4Mk1LxDNcWt9AplIZ45W2lTjt61asPhWBtkvbqSZOu2EBQf8AgRNF0OzZ57p2l3mq3a21nC80jeg4A9Sewr2jwzpC6Josdjbr5zjLTTE4TcevPf8ACn6dpNnYRi1sbeJUH3ghyuf9purn26VqizLAea5f2PAH0HQVDbloikuXVmfLDE8hZ4/tLd3zgfQe1Fa6whRhQAKKXIHOxKoX2lWN5IpuLZZCv3c54ooraO5m9ieysbWyjItoEi3HnaOtWVGaKKTBbDu1JRRQMSkI4oooA4TxdPLa61IIHKCWAK4HcZrptEt45PDUMkm52CN99yR1PYnFFFZz2LXQ1LZVECkAA4qYUUVZAtFFFAH/2Q==\" style=\"max-width:none\">\n",
       "        <br>\n",
       "        <small style='color: red;'>❌ Index: 18</small><br>\n",
       "        <small style='color: red;'>Distance: 0.1485</small><br>\n",
       "        <small style='color: red;'>Hash: c3164d18fcf24f6588a2b4247f802428</small>\n",
       "        <small style='color: red;'>(Localization)</small>\n",
       "    </div>\n",
       "    \n",
       "    <div style='text-align: center; border: 1px solid #ddd; padding: 5px;'>\n",
       "        <img src=\"data:image/jpeg;base64,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\" style=\"max-width:none\">\n",
       "        <br>\n",
       "        <small style='color: red;'>❌ Index: 19</small><br>\n",
       "        <small style='color: red;'>Distance: 0.1491</small><br>\n",
       "        <small style='color: red;'>Hash: 97f553a05b62667ff52db4d125d457e6</small>\n",
       "        <small style='color: red;'>(Localization)</small>\n",
       "    </div>\n",
       "    \n",
       "    <div style='text-align: center; border: 1px solid #ddd; padding: 5px;'>\n",
       "        <img src=\"data:image/jpeg;base64,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\" style=\"max-width:none\">\n",
       "        <br>\n",
       "        <small style='color: red;'>❌ Index: 20</small><br>\n",
       "        <small style='color: red;'>Distance: 0.1516</small><br>\n",
       "        <small style='color: red;'>Hash: ac8da30ed972365f089b403325cc7e74</small>\n",
       "        <small style='color: red;'>(Localization)</small>\n",
       "    </div>\n",
       "    \n",
       "    <div style='text-align: center; border: 1px solid #ddd; padding: 5px;'>\n",
       "        <img src=\"data:image/jpeg;base64,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\" style=\"max-width:none\">\n",
       "        <br>\n",
       "        <small style='color: red;'>❌ Index: 21</small><br>\n",
       "        <small style='color: red;'>Distance: 0.1548</small><br>\n",
       "        <small style='color: red;'>Hash: 1a82cac4d5d70f67ffb47d1dbc033aed</small>\n",
       "        <small style='color: red;'>(Localization)</small>\n",
       "    </div>\n",
       "    \n",
       "    <div style='text-align: center; border: 1px solid #ddd; padding: 5px;'>\n",
       "        <img src=\"data:image/jpeg;base64,/9j/4AAQSkZJRgABAQAAAQABAAD/2wBDAAoHBwgHBgoICAgLCgoLDhgQDg0NDh0VFhEYIx8lJCIfIiEmKzcvJik0KSEiMEExNDk7Pj4+JS5ESUM8SDc9Pjv/2wBDAQoLCw4NDhwQEBw7KCIoOzs7Ozs7Ozs7Ozs7Ozs7Ozs7Ozs7Ozs7Ozs7Ozs7Ozs7Ozs7Ozs7Ozs7Ozs7Ozs7Ozv/wAARCAAdAGQDASIAAhEBAxEB/8QAHwAAAQUBAQEBAQEAAAAAAAAAAAECAwQFBgcICQoL/8QAtRAAAgEDAwIEAwUFBAQAAAF9AQIDAAQRBRIhMUEGE1FhByJxFDKBkaEII0KxwRVS0fAkM2JyggkKFhcYGRolJicoKSo0NTY3ODk6Q0RFRkdISUpTVFVWV1hZWmNkZWZnaGlqc3R1dnd4eXqDhIWGh4iJipKTlJWWl5iZmqKjpKWmp6ipqrKztLW2t7i5usLDxMXGx8jJytLT1NXW19jZ2uHi4+Tl5ufo6erx8vP09fb3+Pn6/8QAHwEAAwEBAQEBAQEBAQAAAAAAAAECAwQFBgcICQoL/8QAtREAAgECBAQDBAcFBAQAAQJ3AAECAxEEBSExBhJBUQdhcRMiMoEIFEKRobHBCSMzUvAVYnLRChYkNOEl8RcYGRomJygpKjU2Nzg5OkNERUZHSElKU1RVVldYWVpjZGVmZ2hpanN0dXZ3eHl6goOEhYaHiImKkpOUlZaXmJmaoqOkpaanqKmqsrO0tba3uLm6wsPExcbHyMnK0tPU1dbX2Nna4uPk5ebn6Onq8vP09fb3+Pn6/9oADAMBAAIRAxEAPwDnFiRbK32lWTOWUHP51qaMTa31x9pOyO4iLx7v7yjgD8D0rKtH+xQ5lVWRufmOSTgcfzrY06W41W5imtraP7LHMrGVjycc4UdvSuqdlBLqZx3uU1a3hgeBIzC6n51dcMvqSPf1qsZIiw3rFyo2s5+Ugf1rS1x/O12WVEizFEIpMqCSWH9B3qppkZmeU24iTGAfNX923p9COtOnLQJocjxtagBSqSklM4LMf612Ojtu0m1OMZiX+VcbsVXkj3bpEclmxjBHXHoK7bR40GlWojOU8pdpznjFRWexUEWaz9WhM1lIo6j5h+FamyoZotyMPUYrDzLPLWYtMJWQh3c4HTAzx+P+Faw8q11Ow+2KJMMfMm6qWPT8jWbct5d28BPzQuUJbjpWtOLWax2vskJXMmCeFzk59K6UlyXMupY1+KNNYiaXl2hGwds5OfxrDvjttLgqcv5ePY81o7EfRy6JNOgukEPmscso9D6dap3FsVs55jHmKJScsfu9Tj6Hipg3ZlStcq6VrtzpdisEZwGJcg+vT+lFZEVveXoMsdu8i5xlF4HtRXPqXdHS6gtvDrL6dcuEkiwYpHPDA/1rV0G5XQ3W2vJCbbPySHG1D1wSOx7GoPiTpUXlQamrESA+Uwx94dRXCpc3ESgRzyKB2DHFaObasyUlc7jxV9lOqwT2+JJLhOURsB/7rcdetUktLpQvn28xQ8LlshT1yQKzvCFr9u8Q2wkkOI8sM89O1eqrZxY6URk0DSbOALTShixjYqdpZ05ce9dj4ZbOiQpu3+VlMgY71Yl0ezlfc8Sk/Sr1raw20QjhQIo7AYqpyTQRTTDBNMkBANWSOKjcVkUeZa5pmNWuJJFIDsSPQnt+tUzbsqxNcTN+8nCylMhdmAOa7/V9Jt7v94SySAcMpwa8z1uW+sL2WyF9I8WCvIAyvofWtudctrGdtTu/Et5a2GkW7ptBSUHaeAVwR+NcvoTSeJ9X+wzbksQDLKin72Oma5UvJMR5krOQMAsc16j8P9Hhs9I+2qxaW75JI+6B2rLmZbtsdFZaXbWFstvaQrFEOQoFFXgOOtFK47H/2Q==\" style=\"max-width:none\">\n",
       "        <br>\n",
       "        <small style='color: red;'>❌ Index: 22</small><br>\n",
       "        <small style='color: red;'>Distance: 0.1551</small><br>\n",
       "        <small style='color: red;'>Hash: 53816225186bfeb5c05ad252bdd33fd2</small>\n",
       "        <small style='color: red;'>(Localization)</small>\n",
       "    </div>\n",
       "    \n",
       "    <div style='text-align: center; border: 1px solid #ddd; padding: 5px;'>\n",
       "        <img src=\"data:image/jpeg;base64,/9j/4AAQSkZJRgABAQAAAQABAAD/2wBDAAoHBwgHBgoICAgLCgoLDhgQDg0NDh0VFhEYIx8lJCIfIiEmKzcvJik0KSEiMEExNDk7Pj4+JS5ESUM8SDc9Pjv/2wBDAQoLCw4NDhwQEBw7KCIoOzs7Ozs7Ozs7Ozs7Ozs7Ozs7Ozs7Ozs7Ozs7Ozs7Ozs7Ozs7Ozs7Ozs7Ozs7Ozs7Ozv/wAARCAAoAGQDASIAAhEBAxEB/8QAHwAAAQUBAQEBAQEAAAAAAAAAAAECAwQFBgcICQoL/8QAtRAAAgEDAwIEAwUFBAQAAAF9AQIDAAQRBRIhMUEGE1FhByJxFDKBkaEII0KxwRVS0fAkM2JyggkKFhcYGRolJicoKSo0NTY3ODk6Q0RFRkdISUpTVFVWV1hZWmNkZWZnaGlqc3R1dnd4eXqDhIWGh4iJipKTlJWWl5iZmqKjpKWmp6ipqrKztLW2t7i5usLDxMXGx8jJytLT1NXW19jZ2uHi4+Tl5ufo6erx8vP09fb3+Pn6/8QAHwEAAwEBAQEBAQEBAQAAAAAAAAECAwQFBgcICQoL/8QAtREAAgECBAQDBAcFBAQAAQJ3AAECAxEEBSExBhJBUQdhcRMiMoEIFEKRobHBCSMzUvAVYnLRChYkNOEl8RcYGRomJygpKjU2Nzg5OkNERUZHSElKU1RVVldYWVpjZGVmZ2hpanN0dXZ3eHl6goOEhYaHiImKkpOUlZaXmJmaoqOkpaanqKmqsrO0tba3uLm6wsPExcbHyMnK0tPU1dbX2Nna4uPk5ebn6Onq8vP09fb3+Pn6/9oADAMBAAIRAxEAPwD0EgV478Q9NstP1iVrYgGYBjGP4T3/ADr1jVL+LTbGS5kx8owq+p7CvDvENzNeXslxcuC0jE8dqRTMIZ65NCl94wc0/KA4zTo1AkXdxk9aYieKAGeFJWAV2GWHYZ5r3OwiitrKKK3AESoAmOmMV4fP/rsn6CvaNFl83RLJ/wC9Av8AKpGaW4964zx34Zk1VV1CzXdcRLh0/vr/AI12AORUc4PkSnHRCf0pjseCnKthhgqcEHqKXeuOoqS5j3rJLn5i5/nVVQuOeKZJNkHvXqHwrRBpV6xjAcyj5vUYrysYzwa734cat9mvzZyNhJ+B6bqTBHqYbjgCilUcdqKRR5z498RsblrOEZW2OGPq2Oa8/lmm1NgNmCPSrmo3Ms80jS5ZncsxzyT3qmjBf7wpoTKslhLENzLxS28n75UKhl71ckk3Jgk496rIqK/v7UXFY19H0O512/KR/JCvLyEdBXrum2YgtoreMYSNAq/hXHfDiHdFeSMOCygfrXo1vGFQcUhjBCFWq1yMxumOGUj860ivHSs++GyCR16qpI/KmB4Vq1t/Z91PazctHIV4NZS7nPyjNaV85uJpGlbMjMS2e5zTbRBESRjmhC3KQjcHkba3tHu4rd49jESqwYEVXk+YchfxpkASKTdlR9KGNbnuGi6kur6XFdbcPyrjPRh1ory7T9Zv7K3Mdq7bCxY4PeikUR614U1KwvJN0TOmSQy9DWT/AGddryYn/KiiqsZKTvYY1rcdDE//AHzU9nol/e3Cx29q7se+3A/Oiiiw2z1zwn4cOi6asUpzK53vj19K6MJ7UUUikKV4qrcwb42HqKKKBnh2uaTcafqU0M0BBDnaSOCKoIhHBTHvRRQybkxiwv3QaasUhkGEB+goopAdroHhu7utMWZotm5jgNwccUUUUBc//9k=\" style=\"max-width:none\">\n",
       "        <br>\n",
       "        <small style='color: red;'>❌ Index: 23</small><br>\n",
       "        <small style='color: red;'>Distance: 0.1556</small><br>\n",
       "        <small style='color: red;'>Hash: 36d0b680e91fd5ac2b337557d23236e2</small>\n",
       "        <small style='color: red;'>(Localization)</small>\n",
       "    </div>\n",
       "    \n",
       "    <div style='text-align: center; border: 1px solid #ddd; padding: 5px;'>\n",
       "        <img src=\"data:image/jpeg;base64,/9j/4AAQSkZJRgABAQAAAQABAAD/2wBDAAoHBwgHBgoICAgLCgoLDhgQDg0NDh0VFhEYIx8lJCIfIiEmKzcvJik0KSEiMEExNDk7Pj4+JS5ESUM8SDc9Pjv/2wBDAQoLCw4NDhwQEBw7KCIoOzs7Ozs7Ozs7Ozs7Ozs7Ozs7Ozs7Ozs7Ozs7Ozs7Ozs7Ozs7Ozs7Ozs7Ozs7Ozs7Ozv/wAARCAAsAGQDASIAAhEBAxEB/8QAHwAAAQUBAQEBAQEAAAAAAAAAAAECAwQFBgcICQoL/8QAtRAAAgEDAwIEAwUFBAQAAAF9AQIDAAQRBRIhMUEGE1FhByJxFDKBkaEII0KxwRVS0fAkM2JyggkKFhcYGRolJicoKSo0NTY3ODk6Q0RFRkdISUpTVFVWV1hZWmNkZWZnaGlqc3R1dnd4eXqDhIWGh4iJipKTlJWWl5iZmqKjpKWmp6ipqrKztLW2t7i5usLDxMXGx8jJytLT1NXW19jZ2uHi4+Tl5ufo6erx8vP09fb3+Pn6/8QAHwEAAwEBAQEBAQEBAQAAAAAAAAECAwQFBgcICQoL/8QAtREAAgECBAQDBAcFBAQAAQJ3AAECAxEEBSExBhJBUQdhcRMiMoEIFEKRobHBCSMzUvAVYnLRChYkNOEl8RcYGRomJygpKjU2Nzg5OkNERUZHSElKU1RVVldYWVpjZGVmZ2hpanN0dXZ3eHl6goOEhYaHiImKkpOUlZaXmJmaoqOkpaanqKmqsrO0tba3uLm6wsPExcbHyMnK0tPU1dbX2Nna4uPk5ebn6Onq8vP09fb3+Pn6/9oADAMBAAIRAxEAPwDvdV1S30mzNxOc9kQdWNeV+ItTu9SbzrlydzfKnZR7VpeLdZN34klthJmK3AjT0z/FXN3dwZLgo3THFXS+NXLl8JUxTk5BoC5NGMZAr0DnPY/B0yzeF7Ir/ApQ/ga2/euC+HeqqbWfTy3zI3mL7jof1ruBJkV5sviZ0LYkNMJpjSioZbgRxs56KCTUjPKPFzrJ4kvSp482sRvmI5q3fzG6vZZmOTI5b9agZORXpQVopHO9yS3LAuUJBCnBzXSeHfF13p1xHb3ztLbMQDu5KZ7g+lcxJKLeFjnluBTjcrJbqSPmXvXLiLXRpT2PcEdJI1dHVlYZBHORRXnOh+OW0jThZyR+cEYlCew44/PNFc5djmdcjaPXr1Tk4nbnuOc1nXcxYBgcOveu88Z+GmWefV4HAUqDIhHf1rzi5fdJ6Z70bMC7a3qudr4QjuehqK7viinykJJ7+lVF3g/LtNJJub7zBa19rPuTZHcfDUtLfTXBBG2Hb+Zr0sScda8q+HN95OrvZgEpOhOSe4r1EKSKyKHNJ71m65dm10W9uP7kLEflWl5Zz0rh/iTqot7SHTEYq0x3yY/u9h+f8qTGtzhbTUI2wJVIYjjirM19FGMdW9BWLGWVuAGp7M5PzIa6FXmlYy5UWGla5uBk/KvJ9BUk0rINowo/U1Ui474HpVqO3luOIonkf0UZNYttvUuyQ5JNy520V2Oi+AZ7rTknvH8iRzkIw5A7ZopWFzHdeJrZ5tAvo0UljC2AO5xmvCZQVb057ivpN0VlIIyDXlHjnw5p+nXhltldPNOSueAT6U7XBuxwaYI5FI4xnirRiQYwKb5KM2Dmklcb7mx4CLHxRb+mG4/CvZ7eHK5IrkPh/wCHdPgtxqIR2n24BY8D6Cu7UcU2rCTuV5IsDIFeQ/EdzL4mK9khVcfr/WvZ2UEV5f8AEzTLeK8S9TcJZVAbng0rXHex50qKWORinsqr6mnFQGzSHkc0ANTvivVPh7pQXR/tMsOHlkJRiOStcB4a0+DUdctba4DGKSQBgDjIzXvFnaQWlskMEYREAVQOwFO2lxbuwqQBVAFFWKKQz//Z\" style=\"max-width:none\">\n",
       "        <br>\n",
       "        <small style='color: red;'>❌ Index: 24</small><br>\n",
       "        <small style='color: red;'>Distance: 0.1559</small><br>\n",
       "        <small style='color: red;'>Hash: 3d03d0a1a6f23fa139a1273a13b37b65</small>\n",
       "        <small style='color: red;'>(Localization)</small>\n",
       "    </div>\n",
       "    \n",
       "    <div style='text-align: center; border: 1px solid #ddd; padding: 5px;'>\n",
       "        <img src=\"data:image/jpeg;base64,/9j/4AAQSkZJRgABAQAAAQABAAD/2wBDAAoHBwgHBgoICAgLCgoLDhgQDg0NDh0VFhEYIx8lJCIfIiEmKzcvJik0KSEiMEExNDk7Pj4+JS5ESUM8SDc9Pjv/2wBDAQoLCw4NDhwQEBw7KCIoOzs7Ozs7Ozs7Ozs7Ozs7Ozs7Ozs7Ozs7Ozs7Ozs7Ozs7Ozs7Ozs7Ozs7Ozs7Ozs7Ozv/wAARCAAhAGQDASIAAhEBAxEB/8QAHwAAAQUBAQEBAQEAAAAAAAAAAAECAwQFBgcICQoL/8QAtRAAAgEDAwIEAwUFBAQAAAF9AQIDAAQRBRIhMUEGE1FhByJxFDKBkaEII0KxwRVS0fAkM2JyggkKFhcYGRolJicoKSo0NTY3ODk6Q0RFRkdISUpTVFVWV1hZWmNkZWZnaGlqc3R1dnd4eXqDhIWGh4iJipKTlJWWl5iZmqKjpKWmp6ipqrKztLW2t7i5usLDxMXGx8jJytLT1NXW19jZ2uHi4+Tl5ufo6erx8vP09fb3+Pn6/8QAHwEAAwEBAQEBAQEBAQAAAAAAAAECAwQFBgcICQoL/8QAtREAAgECBAQDBAcFBAQAAQJ3AAECAxEEBSExBhJBUQdhcRMiMoEIFEKRobHBCSMzUvAVYnLRChYkNOEl8RcYGRomJygpKjU2Nzg5OkNERUZHSElKU1RVVldYWVpjZGVmZ2hpanN0dXZ3eHl6goOEhYaHiImKkpOUlZaXmJmaoqOkpaanqKmqsrO0tba3uLm6wsPExcbHyMnK0tPU1dbX2Nna4uPk5ebn6Onq8vP09fb3+Pn6/9oADAMBAAIRAxEAPwD041G1PasPxNry6Fp3nIFedziNG6H1NIZwnxVvWk1O0sARshi8w/7zHH8hWF4I0+PUfFFtFMm+NA0jKehwOP1xWdqdzNf6hLc3MrSTSHLMf5V1vw1+z22pytOyrNcJshBPJxyfz/pTEehwafawSGSK3jRj1KqAatFacozUwTikMgVKa6ZGCM1a2ACs/V7+LS9OnvZQSsS5wO57D86APEdajS31u9iiUCNJ3VR6AE1ueALSC+19hOisI4WYKRkN0H9a5y9aSa7lmk+9K5Y89yc1b0a/n0XUob6FhuQ8jsQeoNV0JPcoI1iQIihVA4AGKsrWVourW+sWKXMBGejpnlT6VrJUlDxRS0UAY+ta5baNaefcMAW4RfU15R4i15tUuTM8hduigdFHtU/jPUJ77xBcJISI4W2IhzgAd/xrBkYuoUjp7UJBchij3MWfJH8zV3S5ZItYtZY9zOsqkbevUcVPoelyanqUVukbMmcyEdl7/SvTtK8OafpfzwWyK/8AePJ/M0yTbjlzzUwlFVQMdqdk1JROZRXBfEy/kFtaWaPhJGZ3HrjGP5mu2JOKztT0ex1aMLe26y7funoV+hoA8U5x1pMleB0PavR7n4dae7Aw3E8Y7g4aub1/wdd6UBLAHuID1ZVyU+tUSUdG8Q3eiTLJbuSD1UHt6Gu8074m2cgVb61kiJ4LryPyry4AqemCKm812TaxyBRYdz6Bt7qG6gSeCRZI3GVZTkEUV47o9zr8FjtsEk8ksSOO9FFmF0WvG3/Iblrmj1FFFUSj0H4e/wDIOn/367FelFFRIcdhwo7UUUihDSHpRRQA09Kjf7p+lFFMDybxT/yF5/rWZa/64fWiitOpnHY9S0b/AJBsdFFFQM//2Q==\" style=\"max-width:none\">\n",
       "        <br>\n",
       "        <small style='color: red;'>❌ Index: 25</small><br>\n",
       "        <small style='color: red;'>Distance: 0.1605</small><br>\n",
       "        <small style='color: red;'>Hash: 51682c7f3a90c48c4e1560968a073e0e</small>\n",
       "        <small style='color: red;'>(Localization)</small>\n",
       "    </div>\n",
       "    \n",
       "    <div style='text-align: center; border: 1px solid #ddd; padding: 5px;'>\n",
       "        <img src=\"data:image/jpeg;base64,/9j/4AAQSkZJRgABAQAAAQABAAD/2wBDAAoHBwgHBgoICAgLCgoLDhgQDg0NDh0VFhEYIx8lJCIfIiEmKzcvJik0KSEiMEExNDk7Pj4+JS5ESUM8SDc9Pjv/2wBDAQoLCw4NDhwQEBw7KCIoOzs7Ozs7Ozs7Ozs7Ozs7Ozs7Ozs7Ozs7Ozs7Ozs7Ozs7Ozs7Ozs7Ozs7Ozs7Ozs7Ozv/wAARCAAoAGQDASIAAhEBAxEB/8QAHwAAAQUBAQEBAQEAAAAAAAAAAAECAwQFBgcICQoL/8QAtRAAAgEDAwIEAwUFBAQAAAF9AQIDAAQRBRIhMUEGE1FhByJxFDKBkaEII0KxwRVS0fAkM2JyggkKFhcYGRolJicoKSo0NTY3ODk6Q0RFRkdISUpTVFVWV1hZWmNkZWZnaGlqc3R1dnd4eXqDhIWGh4iJipKTlJWWl5iZmqKjpKWmp6ipqrKztLW2t7i5usLDxMXGx8jJytLT1NXW19jZ2uHi4+Tl5ufo6erx8vP09fb3+Pn6/8QAHwEAAwEBAQEBAQEBAQAAAAAAAAECAwQFBgcICQoL/8QAtREAAgECBAQDBAcFBAQAAQJ3AAECAxEEBSExBhJBUQdhcRMiMoEIFEKRobHBCSMzUvAVYnLRChYkNOEl8RcYGRomJygpKjU2Nzg5OkNERUZHSElKU1RVVldYWVpjZGVmZ2hpanN0dXZ3eHl6goOEhYaHiImKkpOUlZaXmJmaoqOkpaanqKmqsrO0tba3uLm6wsPExcbHyMnK0tPU1dbX2Nna4uPk5ebn6Onq8vP09fb3+Pn6/9oADAMBAAIRAxEAPwDoPFeu+Wz6ZbvtYLmd/QHtXmEq4kYZzzWpqGozXWt6g8vBldhj0xwP0FZUbiTj+IcGujDtXaCewiDBJzV/TtTk0uRbuBirxOGGO/qD9apsu3J6D1NVZrgPC3l4YAgCtq0ko2IitT3mxv4r+ziuojlJUDr+NWC1cx4HDp4Usg5OcHGewycV0JY4rgNiTdTS1REkmkw2OtABNcpbwvLIwVEUsxPYV4vfy/aLyeUf8tHLfma9G8cXclp4dkVP+W7rET6A9f5V5orCUAjrnBrqw1rsiewnIIFX7JZFCyQyFJUbeuPaq4iHWlSYm7AQ4VB1revZQ1IhuesaL4lsrzTIpbqeOKcDbIrHHI70V5DNfK0h28AcD3orzjfQv+LLWTTtauSVIEjmRD/eBrmvtDCbeH2mu4+KBxqlqMYAhJ/WuEUgjGc/UU1oyWS3NwZly7k+w6VJo1kb+8itBII/NkC7n4AquQQeMD6Cruh8azaHJJ85Ov1FDv1A9t02zSwsIbWL7kSBRnvV4IxHSkhj3dKtqmKQFcR96QrgGrZXNQyLgUxnJePIll8MXBLBTGVcZ7kGvHobiSGUlH6nkdq9P+J8zR6TbRK23zJST74H/wBevLShLZIH4GhNrYGtC9JfzFNqkBj1NMguWBPcsMfhVUxjOcN+dPh644FOU5S3ZKSWxZMYJyWx9KK9W0XwvpZ0a1eWzjkeSMOzOuTkiipsO7JPHPhCfXoIp7LaZ4QRsY43D615lceFNZtJCsmnz8HshP8AKiiqSuS2xi+HdYmICabcH/tma6Xwt8PdVfUYbq/i+ywxsHO4/Mcc4xRRTsJNnrSRhFwBUm33ooqSxcU1kDA0UUhnBfErRby9sraa2haVIWYuEGSM98fhXlUkTI/QgjggjFFFAriPk8YNXNF0e71bUI7W2hdi7AMwXIUdyaKKZLZ77aWS29pFD2jUKPwFFFFIo//Z\" style=\"max-width:none\">\n",
       "        <br>\n",
       "        <small style='color: red;'>❌ Index: 26</small><br>\n",
       "        <small style='color: red;'>Distance: 0.1643</small><br>\n",
       "        <small style='color: red;'>Hash: 8d93a9427bb3855c2a6469b9a385ce18</small>\n",
       "        <small style='color: red;'>(Localization)</small>\n",
       "    </div>\n",
       "    \n",
       "    <div style='text-align: center; border: 1px solid #ddd; padding: 5px;'>\n",
       "        <img src=\"data:image/jpeg;base64,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\" style=\"max-width:none\">\n",
       "        <br>\n",
       "        <small style='color: red;'>❌ Index: 27</small><br>\n",
       "        <small style='color: red;'>Distance: 0.1645</small><br>\n",
       "        <small style='color: red;'>Hash: 37abebc683c1d63e41c986d39aa36fb4</small>\n",
       "        <small style='color: red;'>(Localization)</small>\n",
       "    </div>\n",
       "    \n",
       "    <div style='text-align: center; border: 1px solid #ddd; padding: 5px;'>\n",
       "        <img src=\"data:image/jpeg;base64,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\" style=\"max-width:none\">\n",
       "        <br>\n",
       "        <small style='color: red;'>❌ Index: 28</small><br>\n",
       "        <small style='color: red;'>Distance: 0.1652</small><br>\n",
       "        <small style='color: red;'>Hash: 0f18d3d02fe799b0aa91f9482b797ec8</small>\n",
       "        <small style='color: red;'>(Localization)</small>\n",
       "    </div>\n",
       "    \n",
       "    <div style='text-align: center; border: 1px solid #ddd; padding: 5px;'>\n",
       "        <img src=\"data:image/jpeg;base64,/9j/4AAQSkZJRgABAQAAAQABAAD/2wBDAAoHBwgHBgoICAgLCgoLDhgQDg0NDh0VFhEYIx8lJCIfIiEmKzcvJik0KSEiMEExNDk7Pj4+JS5ESUM8SDc9Pjv/2wBDAQoLCw4NDhwQEBw7KCIoOzs7Ozs7Ozs7Ozs7Ozs7Ozs7Ozs7Ozs7Ozs7Ozs7Ozs7Ozs7Ozs7Ozs7Ozs7Ozs7Ozv/wAARCAAgAGQDASIAAhEBAxEB/8QAHwAAAQUBAQEBAQEAAAAAAAAAAAECAwQFBgcICQoL/8QAtRAAAgEDAwIEAwUFBAQAAAF9AQIDAAQRBRIhMUEGE1FhByJxFDKBkaEII0KxwRVS0fAkM2JyggkKFhcYGRolJicoKSo0NTY3ODk6Q0RFRkdISUpTVFVWV1hZWmNkZWZnaGlqc3R1dnd4eXqDhIWGh4iJipKTlJWWl5iZmqKjpKWmp6ipqrKztLW2t7i5usLDxMXGx8jJytLT1NXW19jZ2uHi4+Tl5ufo6erx8vP09fb3+Pn6/8QAHwEAAwEBAQEBAQEBAQAAAAAAAAECAwQFBgcICQoL/8QAtREAAgECBAQDBAcFBAQAAQJ3AAECAxEEBSExBhJBUQdhcRMiMoEIFEKRobHBCSMzUvAVYnLRChYkNOEl8RcYGRomJygpKjU2Nzg5OkNERUZHSElKU1RVVldYWVpjZGVmZ2hpanN0dXZ3eHl6goOEhYaHiImKkpOUlZaXmJmaoqOkpaanqKmqsrO0tba3uLm6wsPExcbHyMnK0tPU1dbX2Nna4uPk5ebn6Onq8vP09fb3+Pn6/9oADAMBAAIRAxEAPwD0TdXj3jfXjqutOIx+5hHlpk9cdT+Nei+JtU/s3SJSh/fSjZGP5mvHruNvMLt35oi2ndDZUSd/M2gDrXtvhREg8M2KpjBiDHB7nk14naIGuRnGCa9K+HF9JNp11bM5KxS5QHtnk/rTlOTVmJI7gyVGzU3NLjNSUGa4Xx5rHmTrpkTqViG6TB5LHoPwH867eV/Kidz/AAqTXhN7czXN9LcyOWkkcszeppxdncT2GtcJuIBzV/RNbu9JvxcWzhXHByMgj0NZTqHOejfzpEyD1+YdBWkpuRKVj3rSdVh1fT47qE/eHzr/AHW7ir2a8b8O+I5tKnzHLgH76Ho1emaV4jsNURVWVY5j/wAs2PX6Vi9C99jZ60UZooEeT+LPEj3t/L5RDRRMUjHsO9czLJLdR/PIq+wFSajbTwXkscqMhViMGqvOKoTC3co+CoIUfrXpngfTBY6b9pEm57oBjjoB2FeaQRSSyiONSzMcAKMk17NoFhJaaXbQyAho4wCPekxmomcc1IMYoC4HSlxSGQzxiWNkblWGCK8/1X4dfMz6fdYGOI5Rnn616LtprRgjpTEeL3nhXVbCFpZ4RsXrtbOPesVgc8HBFe8XFlFcxNHIu5HBBB7159rPw7u4naTTWWePOfLc4Zf8adxWOJjADjeCRVgSmGRXgdl2nIwasTaDqlvJtk0+dSP9g0+DQdSuGASzl/EYp2FdHc6N8QUbT1GoBfPQ7dwyNwwOaKxrPwDqEluGkby2P8NFTYfMf//Z\" style=\"max-width:none\">\n",
       "        <br>\n",
       "        <small style='color: red;'>❌ Index: 29</small><br>\n",
       "        <small style='color: red;'>Distance: 0.1672</small><br>\n",
       "        <small style='color: red;'>Hash: acfad9849be9db699dafd843c0bba466</small>\n",
       "        <small style='color: red;'>(Localization)</small>\n",
       "    </div>\n",
       "    \n",
       "    <div style='text-align: center; border: 1px solid #ddd; padding: 5px;'>\n",
       "        <img src=\"data:image/jpeg;base64,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\" style=\"max-width:none\">\n",
       "        <br>\n",
       "        <small style='color: red;'>❌ Index: 30</small><br>\n",
       "        <small style='color: red;'>Distance: 0.1685</small><br>\n",
       "        <small style='color: red;'>Hash: 47d9eb6f58a4f472c0d0f2c8d81f62d5</small>\n",
       "        <small style='color: red;'>(Localization)</small>\n",
       "    </div>\n",
       "    \n",
       "    <div style='text-align: center; border: 1px solid #ddd; padding: 5px;'>\n",
       "        <img src=\"data:image/jpeg;base64,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\" style=\"max-width:none\">\n",
       "        <br>\n",
       "        <small style='color: red;'>❌ Index: 31</small><br>\n",
       "        <small style='color: red;'>Distance: 0.1685</small><br>\n",
       "        <small style='color: red;'>Hash: b0bdb85c3ede421871b0e31127eec954</small>\n",
       "        <small style='color: red;'>(Localization)</small>\n",
       "    </div>\n",
       "    \n",
       "    <div style='text-align: center; border: 1px solid #ddd; padding: 5px;'>\n",
       "        <img src=\"data:image/jpeg;base64,/9j/4AAQSkZJRgABAQAAAQABAAD/2wBDAAoHBwgHBgoICAgLCgoLDhgQDg0NDh0VFhEYIx8lJCIfIiEmKzcvJik0KSEiMEExNDk7Pj4+JS5ESUM8SDc9Pjv/2wBDAQoLCw4NDhwQEBw7KCIoOzs7Ozs7Ozs7Ozs7Ozs7Ozs7Ozs7Ozs7Ozs7Ozs7Ozs7Ozs7Ozs7Ozs7Ozs7Ozs7Ozv/wAARCAAzAGQDASIAAhEBAxEB/8QAHwAAAQUBAQEBAQEAAAAAAAAAAAECAwQFBgcICQoL/8QAtRAAAgEDAwIEAwUFBAQAAAF9AQIDAAQRBRIhMUEGE1FhByJxFDKBkaEII0KxwRVS0fAkM2JyggkKFhcYGRolJicoKSo0NTY3ODk6Q0RFRkdISUpTVFVWV1hZWmNkZWZnaGlqc3R1dnd4eXqDhIWGh4iJipKTlJWWl5iZmqKjpKWmp6ipqrKztLW2t7i5usLDxMXGx8jJytLT1NXW19jZ2uHi4+Tl5ufo6erx8vP09fb3+Pn6/8QAHwEAAwEBAQEBAQEBAQAAAAAAAAECAwQFBgcICQoL/8QAtREAAgECBAQDBAcFBAQAAQJ3AAECAxEEBSExBhJBUQdhcRMiMoEIFEKRobHBCSMzUvAVYnLRChYkNOEl8RcYGRomJygpKjU2Nzg5OkNERUZHSElKU1RVVldYWVpjZGVmZ2hpanN0dXZ3eHl6goOEhYaHiImKkpOUlZaXmJmaoqOkpaanqKmqsrO0tba3uLm6wsPExcbHyMnK0tPU1dbX2Nna4uPk5ebn6Onq8vP09fb3+Pn6/9oADAMBAAIRAxEAPwD1DdRmowaXNIs4fx/Bq0N9BqGnRTNEIdsrxLuA5zyK5KPXNUvWEJm5dgvC4Oa9rjsY1mE6lkbqwB4P1rlde0GK48V2l/DDFFFbIZruTG0EA/L9Twa1hKD0khc01szesLYWdhBbL/yzQKfc1ZzUSyB1V0IZWGQR3FLurMZIWppcVGWppakA6bEkTIRwRivNX1u3tLqS1uw6mBymVGRwa9HzmvJvE1pI/i65tLdC8k0oCIO5bH+NaU6cKjtIaqSp6o24NZ0+/u4LO2DySSyqoyuO9eiRqERVHQDFcNovge68P6lbajqN1bBI8sVUnIOOOcc12Vjf2uo24uLK4SeIkjehyMiplCENIO4OpKesi1RSbjRUkkW7mnxjfIADz1xTFUs2KuwxBE55oYyRV2rgnn1rnfFhmXR5LaBWMt3IsWVGQAfU9v8A69dCzAcVQuIzJN5jvlUHyL6H1pJ2dyXqQ2sf2WzhgJz5carn6DFOZ+abyaUIT2plDS3NA5qQIBRjHagCnqlw9npVzcRf6yOMlfrWF/ZUN14w0HXUwv2uJmlT/bVMgj8/0rppkWaF4nAKupBBo0W1ig0+G3yZGt8oGcDcvrVc1kS1qXtQs0u7Zo2zh1K5HbIrn/B+jyaH4ehsp/8AXB3Z8+pP+GK6j7y7SetU7gbH6YHbFQtNB9QxRUG8+popgXorcKuSAae2EHFVI7i4xteAfVX4qQksOeKnUBskwZ8DPFIVLD0pwVV6CinYBgjA7Uu2nUUwGbaaUzUtGKBlcx4qaN9gxTtoprKQCRSYFpTjvUdwqyL7+uKjgmP3W6jvVkAOOopCM3bRVqSEbzzRTuAdqB0oopjENFFFABR3oooAKBRRQAdqWiigQ1+F3Dr61IjHA5ooqWMhmmkWTAb9KKKKkZ//2Q==\" style=\"max-width:none\">\n",
       "        <br>\n",
       "        <small style='color: red;'>❌ Index: 32</small><br>\n",
       "        <small style='color: red;'>Distance: 0.1716</small><br>\n",
       "        <small style='color: red;'>Hash: 03c1f2828b28db9fbb3c3aa4178de6c3</small>\n",
       "        <small style='color: red;'>(Localization)</small>\n",
       "    </div>\n",
       "    \n",
       "    <div style='text-align: center; border: 1px solid #ddd; padding: 5px;'>\n",
       "        <img src=\"data:image/jpeg;base64,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\" style=\"max-width:none\">\n",
       "        <br>\n",
       "        <small style='color: red;'>❌ Index: 33</small><br>\n",
       "        <small style='color: red;'>Distance: 0.1718</small><br>\n",
       "        <small style='color: red;'>Hash: 0fc38debebd1bdb4c5144388e365f731</small>\n",
       "        <small style='color: red;'>(Localization)</small>\n",
       "    </div>\n",
       "    \n",
       "    <div style='text-align: center; border: 1px solid #ddd; padding: 5px;'>\n",
       "        <img src=\"data:image/jpeg;base64,/9j/4AAQSkZJRgABAQAAAQABAAD/2wBDAAoHBwgHBgoICAgLCgoLDhgQDg0NDh0VFhEYIx8lJCIfIiEmKzcvJik0KSEiMEExNDk7Pj4+JS5ESUM8SDc9Pjv/2wBDAQoLCw4NDhwQEBw7KCIoOzs7Ozs7Ozs7Ozs7Ozs7Ozs7Ozs7Ozs7Ozs7Ozs7Ozs7Ozs7Ozs7Ozs7Ozs7Ozs7Ozv/wAARCAAtAGQDASIAAhEBAxEB/8QAHwAAAQUBAQEBAQEAAAAAAAAAAAECAwQFBgcICQoL/8QAtRAAAgEDAwIEAwUFBAQAAAF9AQIDAAQRBRIhMUEGE1FhByJxFDKBkaEII0KxwRVS0fAkM2JyggkKFhcYGRolJicoKSo0NTY3ODk6Q0RFRkdISUpTVFVWV1hZWmNkZWZnaGlqc3R1dnd4eXqDhIWGh4iJipKTlJWWl5iZmqKjpKWmp6ipqrKztLW2t7i5usLDxMXGx8jJytLT1NXW19jZ2uHi4+Tl5ufo6erx8vP09fb3+Pn6/8QAHwEAAwEBAQEBAQEBAQAAAAAAAAECAwQFBgcICQoL/8QAtREAAgECBAQDBAcFBAQAAQJ3AAECAxEEBSExBhJBUQdhcRMiMoEIFEKRobHBCSMzUvAVYnLRChYkNOEl8RcYGRomJygpKjU2Nzg5OkNERUZHSElKU1RVVldYWVpjZGVmZ2hpanN0dXZ3eHl6goOEhYaHiImKkpOUlZaXmJmaoqOkpaanqKmqsrO0tba3uLm6wsPExcbHyMnK0tPU1dbX2Nna4uPk5ebn6Onq8vP09fb3+Pn6/9oADAMBAAIRAxEAPwDb8Wa+8jtp1m/yof3zg+navNpCS7Fu5rRS9aTT3kDFpOd+epNUGIchh0PNdWFe4qiIlzuAAro/CWspourefKMxuAkh9AT1rA2YOQaa7hI2z/ECT+Fb1fgZEdGe+rIrAFSCDyDSk1zXgy+kvfDNnLKdzhShPrg4reMleabkpamk1GXqNnPrQByHxGkU29mvG4Mx/CvPhwxrrfHtz5mqxQhs7IskemTXKohIOK9Ch8CMZbhECDnpk1pWV5eaRqIvrdsbW+YDoR6GqUUYXlu3NEF20qygn5WJNRibcqHT3PaNM1GHVLCO7hIw45B/hPcUV47b6/eWUflWszKhOTg9T0/pRXAbWKCObfIbOH4qol2IZNjZK54I7VueM9Mi0bUzbQljGyB1B6iuVJJ5UhvrVxk4O6JeqNea6jRMr85IzgGs+O7luJ2V14ZcAY6VFvk27cKPxot38m4R1Ys6nIx0Bq5VZSVmJJI9v8K2b2OgWkEg2uqZK+hNbWeKztFna80m1uW4aWJWbHrWokRNZoojwTTSuOas+XgVBcOsMTyMcBFLH6CgR5R8QLj7P4nUAZBhXdjrWRDeQFAyk+4x0qjrl++q6rcXhOGkcnaT0FUleQDGz8a1p1pQVkKUUzUutSSRWVAQo6n19qaJNtqEDfMRlsd/as3J4yuPetDTraS9uYreEbpJDgZqZzlN3Y0kkMTeV+9t9qK9H0z4dQLZj7bNvlJz8owAPSiosK7Mf4owOusW8m07WhwD9DzXBjk8qK+gfEXhyy8Q2fk3IKNH8ySL1WvJdZ8LRaXeGBbgyDGclMf1p2b2E5JbnNkAdMUwFt+BwPatyDQluGCeeVyeu3P9a7Pw98NtPkYXN3dSzAf8swoUH9TRyslTV7I6bwhGz+G7DIPEQ610SrgYpsEEVvCsUKBEQBVUdhU1I0GFeKyNdbydGvZP7sD/AMq2cVBd2sV5bSW0y5SVSjfQ0AfOEqZ5ZQTnrQiqRnJrpfFPhuLRb544rhpEJ4DLyK57ytp4NDTQJp7ELAA8Cuo8A2z3Pii2KjiIF2+gH/1xWDDaCaVVLYyfSvZvBPha00XTftCOZppxlnZQMD0FFhXV7HQJH8o4oqx06UUDP//Z\" style=\"max-width:none\">\n",
       "        <br>\n",
       "        <small style='color: red;'>❌ Index: 34</small><br>\n",
       "        <small style='color: red;'>Distance: 0.1722</small><br>\n",
       "        <small style='color: red;'>Hash: 93b2fe54f2a9d115412842f9aa219fb5</small>\n",
       "        <small style='color: red;'>(Localization)</small>\n",
       "    </div>\n",
       "    \n",
       "    <div style='text-align: center; border: 1px solid #ddd; padding: 5px;'>\n",
       "        <img src=\"data:image/jpeg;base64,/9j/4AAQSkZJRgABAQAAAQABAAD/2wBDAAoHBwgHBgoICAgLCgoLDhgQDg0NDh0VFhEYIx8lJCIfIiEmKzcvJik0KSEiMEExNDk7Pj4+JS5ESUM8SDc9Pjv/2wBDAQoLCw4NDhwQEBw7KCIoOzs7Ozs7Ozs7Ozs7Ozs7Ozs7Ozs7Ozs7Ozs7Ozs7Ozs7Ozs7Ozs7Ozs7Ozs7Ozs7Ozv/wAARCAArADYDASIAAhEBAxEB/8QAHwAAAQUBAQEBAQEAAAAAAAAAAAECAwQFBgcICQoL/8QAtRAAAgEDAwIEAwUFBAQAAAF9AQIDAAQRBRIhMUEGE1FhByJxFDKBkaEII0KxwRVS0fAkM2JyggkKFhcYGRolJicoKSo0NTY3ODk6Q0RFRkdISUpTVFVWV1hZWmNkZWZnaGlqc3R1dnd4eXqDhIWGh4iJipKTlJWWl5iZmqKjpKWmp6ipqrKztLW2t7i5usLDxMXGx8jJytLT1NXW19jZ2uHi4+Tl5ufo6erx8vP09fb3+Pn6/8QAHwEAAwEBAQEBAQEBAQAAAAAAAAECAwQFBgcICQoL/8QAtREAAgECBAQDBAcFBAQAAQJ3AAECAxEEBSExBhJBUQdhcRMiMoEIFEKRobHBCSMzUvAVYnLRChYkNOEl8RcYGRomJygpKjU2Nzg5OkNERUZHSElKU1RVVldYWVpjZGVmZ2hpanN0dXZ3eHl6goOEhYaHiImKkpOUlZaXmJmaoqOkpaanqKmqsrO0tba3uLm6wsPExcbHyMnK0tPU1dbX2Nna4uPk5ebn6Onq8vP09fb3+Pn6/9oADAMBAAIRAxEAPwD0g0yRlVCzHCgZJPQCnHpXD+NvEbCGTTrJuoxLIG/SgpHC+NdUjv8AWppYPlUHAI4yBXM/bbiM5EhP1qzeKxkO481Qk6U02iWka1nrCthJfkb17GrzSxycjAJ9O9c9bReZIPTNSyEmQlCQo4HNbRrNaMylSTOitLeO4lKPcJEQuctRWFazGN9+4k7cZNFJ4iRSoRtqe6+LdbTRdJZ9w82T5UHceprx278QRSSMAmTk81p+OddGpa7ciKXdEh8tAemB6fU5NciqDdkqv4Vga3EupnlkZ+earrvHJPHvWkzqYdpjXPriqTJuancRYtwFjZx1I4psjEYHfFLGNoGe3avSfBXhywvNJivbq1SSVnYhm9M0LcTOb8O+CrzV43kuA1rCBlGYfeNFeww2qqgUAYAwB6UU9BWZ4Df7muHLpzk9eoqqAPQivVvE2jac107G0jyTkkcVwuoWVtCT5cQXn1NNxsSql3YxjkDg1GVYnO6rRRc9KERSw471Ni2xbO0kubiOGBGklcgKMdTXuXh7SjpWjW1o+C8afNj16msbwPpNhb2H2qK2QTHHznJP6114A2/jVNWFGXNqAwKKVQKKRR//2Q==\" style=\"max-width:none\">\n",
       "        <br>\n",
       "        <small style='color: red;'>❌ Index: 35</small><br>\n",
       "        <small style='color: red;'>Distance: 0.1747</small><br>\n",
       "        <small style='color: red;'>Hash: a255456fc8c534fddc614bb207ef318e</small>\n",
       "        <small style='color: red;'>(Localization)</small>\n",
       "    </div>\n",
       "    \n",
       "    <div style='text-align: center; border: 1px solid #ddd; padding: 5px;'>\n",
       "        <img src=\"data:image/jpeg;base64,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\" style=\"max-width:none\">\n",
       "        <br>\n",
       "        <small style='color: red;'>❌ Index: 36</small><br>\n",
       "        <small style='color: red;'>Distance: 0.1766</small><br>\n",
       "        <small style='color: red;'>Hash: fae380cc6a21e6964391927068ae7766</small>\n",
       "        <small style='color: red;'>(Localization)</small>\n",
       "    </div>\n",
       "    \n",
       "    <div style='text-align: center; border: 1px solid #ddd; padding: 5px;'>\n",
       "        <img src=\"data:image/jpeg;base64,/9j/4AAQSkZJRgABAQAAAQABAAD/2wBDAAoHBwgHBgoICAgLCgoLDhgQDg0NDh0VFhEYIx8lJCIfIiEmKzcvJik0KSEiMEExNDk7Pj4+JS5ESUM8SDc9Pjv/2wBDAQoLCw4NDhwQEBw7KCIoOzs7Ozs7Ozs7Ozs7Ozs7Ozs7Ozs7Ozs7Ozs7Ozs7Ozs7Ozs7Ozs7Ozs7Ozs7Ozs7Ozv/wAARCAAwAGQDASIAAhEBAxEB/8QAHwAAAQUBAQEBAQEAAAAAAAAAAAECAwQFBgcICQoL/8QAtRAAAgEDAwIEAwUFBAQAAAF9AQIDAAQRBRIhMUEGE1FhByJxFDKBkaEII0KxwRVS0fAkM2JyggkKFhcYGRolJicoKSo0NTY3ODk6Q0RFRkdISUpTVFVWV1hZWmNkZWZnaGlqc3R1dnd4eXqDhIWGh4iJipKTlJWWl5iZmqKjpKWmp6ipqrKztLW2t7i5usLDxMXGx8jJytLT1NXW19jZ2uHi4+Tl5ufo6erx8vP09fb3+Pn6/8QAHwEAAwEBAQEBAQEBAQAAAAAAAAECAwQFBgcICQoL/8QAtREAAgECBAQDBAcFBAQAAQJ3AAECAxEEBSExBhJBUQdhcRMiMoEIFEKRobHBCSMzUvAVYnLRChYkNOEl8RcYGRomJygpKjU2Nzg5OkNERUZHSElKU1RVVldYWVpjZGVmZ2hpanN0dXZ3eHl6goOEhYaHiImKkpOUlZaXmJmaoqOkpaanqKmqsrO0tba3uLm6wsPExcbHyMnK0tPU1dbX2Nna4uPk5ebn6Onq8vP09fb3+Pn6/9oADAMBAAIRAxEAPwDmfHNssPiy9EZGGYPx2JAzXPbG3ZxXU/EOzGn+JXkUEJdKJB9ehrmNwkGAwFACZx1P4CjzOeFIFJggcip9Ot1vNRtrVm2iaRULemTTEel/DS0eLR7i6dcC4kATPcKP8TXaVWsrSKxtI7WFdscShVFT1JSFNGabmms21Sw7CgDgfiPqunME09V8y7jbcWXpF7H6+lcEcgZxkGnXkr3N3NNKxZ5HLMT65psTfJt9KaEwVux9K0dG1h9D1OG/iiWRoyfkfoQRg1lvIwOAaRS7e/1pgez6f470K8tFmluhaueGil6g/wBaK8eWMbeaKVmO51fxL1G31DUre1gIY2yHe49T2/SuI2kHkYrT1GXzrguBjIGaqgZ600JkePQ4rQ0OF7jXLKONdzeehGPY5NZ5LjjAz9K77wDoU0cg1a6XYCpEK45Of4qAPQi1Jv8Aeo92aCTUjHlqRm4pm6m5oA8p8Y6C+k6o8sSn7LOSyEfwnuK5ss69K9t1Oyg1KzktbhQUcY9x7ivI9Z019H1KS0dg4ABVwOoPSmIoK7Ee/wBKeqMQNzfhTfm6Ede4oCHPU4piOs0LwbNrGnC8WURqzEKPUDvRTtB8UXOjaaLRF3qGLDJ6ZopczDlMO9tni+SVGjcdmGDVEfSu++IWmyq0F4kZKYKOQOh7Vwqrg8igZG30xXrXhq6W70S1kU5xGFPsRxXlDr6CvS/A8Mp0CLcjKN7YyOooYHTKOKeFJpyR4HNSBcUhkXlGmNGRVqkKg0AZ8oOMYrz3x7botxbz4PmMpU/QdP516XJDmuF8e6VezC2mggeSNAwYoM7aAZwCkjgUq8sM9Kk8uRCdyEfUVLbWN3eTrHbW8krMeAq5qtSdDqdK8Kz31gl0XRFk5Ue1FdxoumzWWj2ttNgSRxgN9aKVx28z/9k=\" style=\"max-width:none\">\n",
       "        <br>\n",
       "        <small style='color: red;'>❌ Index: 37</small><br>\n",
       "        <small style='color: red;'>Distance: 0.1768</small><br>\n",
       "        <small style='color: red;'>Hash: bc0db17915c608f5bbb5ccfe70ede63f</small>\n",
       "        <small style='color: red;'>(Localization)</small>\n",
       "    </div>\n",
       "    \n",
       "    <div style='text-align: center; border: 1px solid #ddd; padding: 5px;'>\n",
       "        <img src=\"data:image/jpeg;base64,/9j/4AAQSkZJRgABAQAAAQABAAD/2wBDAAoHBwgHBgoICAgLCgoLDhgQDg0NDh0VFhEYIx8lJCIfIiEmKzcvJik0KSEiMEExNDk7Pj4+JS5ESUM8SDc9Pjv/2wBDAQoLCw4NDhwQEBw7KCIoOzs7Ozs7Ozs7Ozs7Ozs7Ozs7Ozs7Ozs7Ozs7Ozs7Ozs7Ozs7Ozs7Ozs7Ozs7Ozs7Ozv/wAARCAAqAGQDASIAAhEBAxEB/8QAHwAAAQUBAQEBAQEAAAAAAAAAAAECAwQFBgcICQoL/8QAtRAAAgEDAwIEAwUFBAQAAAF9AQIDAAQRBRIhMUEGE1FhByJxFDKBkaEII0KxwRVS0fAkM2JyggkKFhcYGRolJicoKSo0NTY3ODk6Q0RFRkdISUpTVFVWV1hZWmNkZWZnaGlqc3R1dnd4eXqDhIWGh4iJipKTlJWWl5iZmqKjpKWmp6ipqrKztLW2t7i5usLDxMXGx8jJytLT1NXW19jZ2uHi4+Tl5ufo6erx8vP09fb3+Pn6/8QAHwEAAwEBAQEBAQEBAQAAAAAAAAECAwQFBgcICQoL/8QAtREAAgECBAQDBAcFBAQAAQJ3AAECAxEEBSExBhJBUQdhcRMiMoEIFEKRobHBCSMzUvAVYnLRChYkNOEl8RcYGRomJygpKjU2Nzg5OkNERUZHSElKU1RVVldYWVpjZGVmZ2hpanN0dXZ3eHl6goOEhYaHiImKkpOUlZaXmJmaoqOkpaanqKmqsrO0tba3uLm6wsPExcbHyMnK0tPU1dbX2Nna4uPk5ebn6Onq8vP09fb3+Pn6/9oADAMBAAIRAxEAPwD0XeK4r4p2a3HhlLreQbWUEKOjbuK681wfxT1ARaTa6eG+aeXew9VUf4mkUeVjafatFrG3XRkvvt0ZnaUobYD5lGPvVQIXGCCCe9Wf7PujpR1DYDbeZ5W/cMhvpSfqCPSPhHYiOwv9RbGZJBEp9gMn+degSNXmfwjvHVtQsmb5NqyKPfOD/SvR3YUwGM3NMJ96U03rQBInWvIfiJfjUPGLwRY/0aNYcju3U/qcV6+gxXh3jCyay8WahHJn55TID6huR/OgDJuFMErQyABlPODkfnW14Q8WSeFdTe5jt/PilTZJHuxkZzkH1qlqmjPpcFnLLPbyi7i81VikDFR6N6Gs7bjpx9aE7oNj6R0TWLfXdJg1G0DCOYH5W6qQcEGiuZ+GIaPwbES5O+aRgPTnH9KKAOlIyQByTUd/4e03WLcW+oWiXBOcEj5k9wat28bI28Rk8cHrV+BwMYj2nGOEOf1pA9TyXxP8JJrSJrnQ5XuFU/NbyY3gex7/AErgtT0qbR7o2dwy+cufMRTnY2ehr6Su7gRgsTjHYHp9feuWGi6TLqMmp/2ZC9zI24zS88+oFO4kmcf8NdFvLRrjU7iF4opUEcW4Y385Jx6cV3+aNrk5Z93oAMAU8RjvSGM5PbNOVTUoQClK0wI92K4P4maK15Zw6nbwlngysxUc7OxP0/rXestQSdNpVWU8MrdCKBng+naVe6nJ5dlaS3LjqI0Jrr7P4TeILnH2lre0HXDvuYfgK9Q0Sw07SIX+w2yQeY/mSKg6jp/KtkFCRlgcjIYc5ouRZnMeHtAm8PaNFppk85oyxZ14BJOaK6VljJ6j8aKRRjWvijTg/lTyGB+n7wY/WtCTUoGTckyMO22Qc1lSwxOx3Ro3PdQaks7aBXysMYPsoosx3RJNI938qrhO/vQsIQDAFTmmmiwDNtHtTz0FMNABmiilFACYqNoiwqeg0AV4ZDBN85256HtWtGY2TcwQY9qxr8kWrMDhh0I6iue1K7uQoUXEoHpvNTJ2KUeY7otB/sfpRXl7XVxuP7+T/vs0UuYrkR//2Q==\" style=\"max-width:none\">\n",
       "        <br>\n",
       "        <small style='color: red;'>❌ Index: 38</small><br>\n",
       "        <small style='color: red;'>Distance: 0.1772</small><br>\n",
       "        <small style='color: red;'>Hash: ec0232086f2d802ac6725752a82610ab</small>\n",
       "        <small style='color: red;'>(Localization)</small>\n",
       "    </div>\n",
       "    \n",
       "    <div style='text-align: center; border: 1px solid #ddd; padding: 5px;'>\n",
       "        <img src=\"data:image/jpeg;base64,/9j/4AAQSkZJRgABAQAAAQABAAD/2wBDAAoHBwgHBgoICAgLCgoLDhgQDg0NDh0VFhEYIx8lJCIfIiEmKzcvJik0KSEiMEExNDk7Pj4+JS5ESUM8SDc9Pjv/2wBDAQoLCw4NDhwQEBw7KCIoOzs7Ozs7Ozs7Ozs7Ozs7Ozs7Ozs7Ozs7Ozs7Ozs7Ozs7Ozs7Ozs7Ozs7Ozs7Ozs7Ozv/wAARCAAyAGQDASIAAhEBAxEB/8QAHwAAAQUBAQEBAQEAAAAAAAAAAAECAwQFBgcICQoL/8QAtRAAAgEDAwIEAwUFBAQAAAF9AQIDAAQRBRIhMUEGE1FhByJxFDKBkaEII0KxwRVS0fAkM2JyggkKFhcYGRolJicoKSo0NTY3ODk6Q0RFRkdISUpTVFVWV1hZWmNkZWZnaGlqc3R1dnd4eXqDhIWGh4iJipKTlJWWl5iZmqKjpKWmp6ipqrKztLW2t7i5usLDxMXGx8jJytLT1NXW19jZ2uHi4+Tl5ufo6erx8vP09fb3+Pn6/8QAHwEAAwEBAQEBAQEBAQAAAAAAAAECAwQFBgcICQoL/8QAtREAAgECBAQDBAcFBAQAAQJ3AAECAxEEBSExBhJBUQdhcRMiMoEIFEKRobHBCSMzUvAVYnLRChYkNOEl8RcYGRomJygpKjU2Nzg5OkNERUZHSElKU1RVVldYWVpjZGVmZ2hpanN0dXZ3eHl6goOEhYaHiImKkpOUlZaXmJmaoqOkpaanqKmqsrO0tba3uLm6wsPExcbHyMnK0tPU1dbX2Nna4uPk5ebn6Onq8vP09fb3+Pn6/9oADAMBAAIRAxEAPwD0YmkPSkpM0jQ4b4kNPZiyv7ZirEtEx7HuP61wT63qE2d0uMjHCivZ9Tsf7Rt/Ke0gu4s5aOUfyPY1xvif4dQ2mnNqWkmRHADPaMd/U4wp69+9awdN/EtSXKa2ehveA4TF4Yhlfl53aQk9+cf0rpd1Zeg25stGtLKQBJ4IVEiZ5Un1rRzUS30GhzGmFqQkUwnmpAyvFUJufDd6ozuWPeuOxXn+leTxa9fwYCSA4GPmXNezXKia3kiPIkQrj14ryfwloEfiHxILGdmWCMM8u3gkA4x7ZJrWmoNPmQnKUfhZteBLq51TXZJ7l9wghJGBgAk4/wAa9EBxXPaxaWXgnT7q90nT1BWMb90jEHB4z+daOhX8mq6Ja38saxvPHuKKcgVEmnrFaBdv4tzSFFNFFQBNketAPpTTmpYYDIw3A4Bz1xTKJ7aIqAQOgpl0WaRFKHaG/D1/mBVggLgE5HvVa7laKFmSMysBwo7moFc5LQZp77xNq17km3JESHsdp4x/nvXSE4qnZ2i6dEyBEDysZJNgwu4+gqYuTWjdxR2HM9M35ppUtS7MUijI8QTzWq2N1ESFhuVL49On9asaRoosfG2pajHBstrqGMq4xtLk5bH5A/jVq4t0u4Gt5FDK4wQehrUsmLW0ZaMx8Y2HtQ3pYlrUTWtOg1LTZ7ScZjnQo2Bk8jqPeqFpaLYWkNmnCwRqg4x0GK3EAK7RwKz7qPy5OM49SSalaAQ0UnPpRVAW44S7Z6AVaVWUdRVe2vYGTaJYyRwRnmnvMG6YqWxsWWTC8kD1qs0hYZPFEkLTEZJUD9acsKoOBRYRXMZds449aeIFHXmp8UDrVDIvLA7UhiBqYgUYxQBVMRU5qWOQ5C+9S4zUUkWR8px9KTAuq2ccZ9abOpkBBAqvbyso2vnIq4jqw5qQMwoykqe1FXJEBfIAop3ArtBCzgtEhPqVFThQowAAPaiiqYgpKKKBiHrQOlFFABRRRQAtKKKKAGyAbM1RllkWMkSMPoaKKmQ0YklzOZWzPIef75oooqBn/9k=\" style=\"max-width:none\">\n",
       "        <br>\n",
       "        <small style='color: red;'>❌ Index: 39</small><br>\n",
       "        <small style='color: red;'>Distance: 0.1774</small><br>\n",
       "        <small style='color: red;'>Hash: 5725ed37cf5266bb628d76921b8d623f</small>\n",
       "        <small style='color: red;'>(Localization)</small>\n",
       "    </div>\n",
       "    \n",
       "    <div style='text-align: center; border: 1px solid #ddd; padding: 5px;'>\n",
       "        <img src=\"data:image/jpeg;base64,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\" style=\"max-width:none\">\n",
       "        <br>\n",
       "        <small style='color: red;'>❌ Index: 40</small><br>\n",
       "        <small style='color: red;'>Distance: 0.1779</small><br>\n",
       "        <small style='color: red;'>Hash: 0c8a3f87307eaa259986462dea32c049</small>\n",
       "        <small style='color: red;'>(Localization)</small>\n",
       "    </div>\n",
       "    \n",
       "    <div style='text-align: center; border: 1px solid #ddd; padding: 5px;'>\n",
       "        <img src=\"data:image/jpeg;base64,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\" style=\"max-width:none\">\n",
       "        <br>\n",
       "        <small style='color: red;'>❌ Index: 41</small><br>\n",
       "        <small style='color: red;'>Distance: 0.1782</small><br>\n",
       "        <small style='color: red;'>Hash: 9930e12ec9974ab08fb0f282e31de0a7</small>\n",
       "        <small style='color: red;'>(Localization)</small>\n",
       "    </div>\n",
       "    \n",
       "    <div style='text-align: center; border: 1px solid #ddd; padding: 5px;'>\n",
       "        <img src=\"data:image/jpeg;base64,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\" style=\"max-width:none\">\n",
       "        <br>\n",
       "        <small style='color: red;'>❌ Index: 42</small><br>\n",
       "        <small style='color: red;'>Distance: 0.1785</small><br>\n",
       "        <small style='color: red;'>Hash: a6e5125c2d5f63e5eb776c5b72a01dea</small>\n",
       "        <small style='color: red;'>(Localization)</small>\n",
       "    </div>\n",
       "    \n",
       "    <div style='text-align: center; border: 1px solid #ddd; padding: 5px;'>\n",
       "        <img src=\"data:image/jpeg;base64,/9j/4AAQSkZJRgABAQAAAQABAAD/2wBDAAoHBwgHBgoICAgLCgoLDhgQDg0NDh0VFhEYIx8lJCIfIiEmKzcvJik0KSEiMEExNDk7Pj4+JS5ESUM8SDc9Pjv/2wBDAQoLCw4NDhwQEBw7KCIoOzs7Ozs7Ozs7Ozs7Ozs7Ozs7Ozs7Ozs7Ozs7Ozs7Ozs7Ozs7Ozs7Ozs7Ozs7Ozs7Ozv/wAARCAAnAGQDASIAAhEBAxEB/8QAHwAAAQUBAQEBAQEAAAAAAAAAAAECAwQFBgcICQoL/8QAtRAAAgEDAwIEAwUFBAQAAAF9AQIDAAQRBRIhMUEGE1FhByJxFDKBkaEII0KxwRVS0fAkM2JyggkKFhcYGRolJicoKSo0NTY3ODk6Q0RFRkdISUpTVFVWV1hZWmNkZWZnaGlqc3R1dnd4eXqDhIWGh4iJipKTlJWWl5iZmqKjpKWmp6ipqrKztLW2t7i5usLDxMXGx8jJytLT1NXW19jZ2uHi4+Tl5ufo6erx8vP09fb3+Pn6/8QAHwEAAwEBAQEBAQEBAQAAAAAAAAECAwQFBgcICQoL/8QAtREAAgECBAQDBAcFBAQAAQJ3AAECAxEEBSExBhJBUQdhcRMiMoEIFEKRobHBCSMzUvAVYnLRChYkNOEl8RcYGRomJygpKjU2Nzg5OkNERUZHSElKU1RVVldYWVpjZGVmZ2hpanN0dXZ3eHl6goOEhYaHiImKkpOUlZaXmJmaoqOkpaanqKmqsrO0tba3uLm6wsPExcbHyMnK0tPU1dbX2Nna4uPk5ebn6Onq8vP09fb3+Pn6/9oADAMBAAIRAxEAPwDzjVLiSfVLuaVSskkzMwPUEmq6kE4DVqeLNSTVvEl9fwqBE8pCYGMqOAfxxmsgFeMNz9KQyRkcH5ea9N+E3iGR2m0K4ydoMsBP8I/iX9c/nXl+SuP3h59K9H+GPhe7W7tvETzqtuVkVYxnc38PPbFA7nq9G6oy2KQvQMk3Um6otxNJJJ5cTyNkhFLHHXgZoA8e+LMLReLo584WW1Uj8CRXD7+fu5+tbHirxFP4k1eS8nVlT7sMefuJ2FYpJIG1fwoRLGSAgAHvX0voLW0mg2DWbq8H2dAhU5GAAK+awhCl25IOPpXZ/D/xldeHZJrSSF7qzk+cxhsGM9yufbt3pgj3HaKKZDcRzwRzRnKSKGU+xopDPmiQNBO6MPmUkHuM1CTlvlwBjrXVeMvDE+hag0pw1vO7GJgefoR+Nc1tGcgY/CgBiABgVySDnJ719F6a4bTbYqgj3RKdgGNuRnGK8O8L2UF74js4LogRtJkg9GI5A/GvdYeFA9KARL1o5p6oWqUIAOlAEIQ5p+OMdM+lPIqNiRQM+efEmmT6P4gubO6yzLIWDf31JyD+NZoIU5UDrmvYviVZafJof26e3DXUbBIZAcEZ7H1HtXkMMDKr5j3scYYHGKBMYsRcM3mKoz0PeprJ3t8ujNtf5Tg4zzRbxoJAZgWA7VI2+WRVVSecKij+QoFY7fTfiBd6daC3jjBQHIB/h4HA/wA96Kr6T8OdW1CwW5mZLUuciOUHdj1PpRRYLo7Px/4bu9ZsIHsype3YllY4yCPX8K87XwrqhYKIVz/10FFFOwm7Gzonw/1V9QgnleKGONw5IbJ4OeK9YjhVR05oooHEmApcGiikMCtRtHmiigDzP4qSTbrG14EOGkPuen8v5152UAoooASGFpZ1iRQzOwVRnqa9w8KeFLbRtKgWWCI3ZG6WQAE7vY+1FFHQR0gjGOlFFFMZ/9k=\" style=\"max-width:none\">\n",
       "        <br>\n",
       "        <small style='color: red;'>❌ Index: 43</small><br>\n",
       "        <small style='color: red;'>Distance: 0.1785</small><br>\n",
       "        <small style='color: red;'>Hash: af3bf62722cefbcb1bea423e72032372</small>\n",
       "        <small style='color: red;'>(Localization)</small>\n",
       "    </div>\n",
       "    \n",
       "    <div style='text-align: center; border: 1px solid #ddd; padding: 5px;'>\n",
       "        <img src=\"data:image/jpeg;base64,/9j/4AAQSkZJRgABAQAAAQABAAD/2wBDAAoHBwgHBgoICAgLCgoLDhgQDg0NDh0VFhEYIx8lJCIfIiEmKzcvJik0KSEiMEExNDk7Pj4+JS5ESUM8SDc9Pjv/2wBDAQoLCw4NDhwQEBw7KCIoOzs7Ozs7Ozs7Ozs7Ozs7Ozs7Ozs7Ozs7Ozs7Ozs7Ozs7Ozs7Ozs7Ozs7Ozs7Ozs7Ozv/wAARCAAvAGQDASIAAhEBAxEB/8QAHwAAAQUBAQEBAQEAAAAAAAAAAAECAwQFBgcICQoL/8QAtRAAAgEDAwIEAwUFBAQAAAF9AQIDAAQRBRIhMUEGE1FhByJxFDKBkaEII0KxwRVS0fAkM2JyggkKFhcYGRolJicoKSo0NTY3ODk6Q0RFRkdISUpTVFVWV1hZWmNkZWZnaGlqc3R1dnd4eXqDhIWGh4iJipKTlJWWl5iZmqKjpKWmp6ipqrKztLW2t7i5usLDxMXGx8jJytLT1NXW19jZ2uHi4+Tl5ufo6erx8vP09fb3+Pn6/8QAHwEAAwEBAQEBAQEBAQAAAAAAAAECAwQFBgcICQoL/8QAtREAAgECBAQDBAcFBAQAAQJ3AAECAxEEBSExBhJBUQdhcRMiMoEIFEKRobHBCSMzUvAVYnLRChYkNOEl8RcYGRomJygpKjU2Nzg5OkNERUZHSElKU1RVVldYWVpjZGVmZ2hpanN0dXZ3eHl6goOEhYaHiImKkpOUlZaXmJmaoqOkpaanqKmqsrO0tba3uLm6wsPExcbHyMnK0tPU1dbX2Nna4uPk5ebn6Onq8vP09fb3+Pn6/9oADAMBAAIRAxEAPwD02sbxdqy6L4burof6wrsjHua2DxXlfxX1xZpY9LhfKw8yY/vUFnBtqUsrMxApq37qeVBqnGDg96cFJIxV+0n3Jsj0j4Z6oE1WSN5fLilXaQxwC3avVGYCvnaO4e08lYmKsCJOPUdK900TUH1PRLO8fG+aIM2Ome/61Dk5O7GloaLPSb6ZSqOaQziPifeLBZWcZydzM2Pwry1r9ix2x4+tdf8AELVP7Q1q4tl3bLPEYB9e5/z6Vwp+8eatVJJWRLSLyagUYFkz9K9z8Eag2peFbWZzuZQUJ+nSvn9vSvUvhPq5+zz6Y7c/fQH9aHOUlZgkkem0VDuJoqBmdr+rLpGmSTjBlPyxg9zXiOqwS3dw88s293JZjjqa674geIpJb6W3gwY7Vtg9zjk1wqX93eZQIOB1oH0KrRLHxuoUCMjeDg06W2mibfLGfxohuWMyoQCoPNAia6wJCF68c+lezeCRKnhWySVSrBSQD6Ekj9K4HwX4dt9bv3urpt0duQTDj7+emfbivW7W3CKqooVVGAB0FAE6pkZpGO2p9uBVeYZFAHiPiltviPVt/wAuZj17VzuFVR6fSut+IE1mniGdoYwzBFEvPVv84rk2uFuPlSMhu1ACrBvPBre8MXE+i6vBdA/KrDcPbvWFCzwtudCavQamHmWMRdTQCPoKKRJokkRsq4DA0V59oHjOLTtO+yXLFjG5CH/ZwP8A69FA7Hn1/PJJK/m7iWYksOue9VY2Cnhj+Vb+veGr7TNQkUkOuSVYMOlYpt5UPz4oFe4yaVpF2s+R71XjCAnufYVYKNu6CrmmaNd6ldrBbIu9j1LAAUCujuvhjbt9nvZcfedV/If/AF69HjUqorJ8M6DHoWlx2wIZ/vSN6sa3AtAxuKhmHGasY5qORNykUAfPviIn+2r5Zj8xnfJPfms62URPuBX8DXW+PdHmsdemlIUxXDb1P8xXLomDyi80ATPIzrgkYx3qGLZFKH3KD7Dk1P5QWMEopJppjkZxtVaALKMrjO3PuaK6PRvCF9qGnrcFkjDEgAnPFFKwuZH/2Q==\" style=\"max-width:none\">\n",
       "        <br>\n",
       "        <small style='color: red;'>❌ Index: 44</small><br>\n",
       "        <small style='color: red;'>Distance: 0.1800</small><br>\n",
       "        <small style='color: red;'>Hash: 749cb64a888ba0a0b4080ad34496f168</small>\n",
       "        <small style='color: red;'>(Localization)</small>\n",
       "    </div>\n",
       "    \n",
       "    <div style='text-align: center; border: 1px solid #ddd; padding: 5px;'>\n",
       "        <img src=\"data:image/jpeg;base64,/9j/4AAQSkZJRgABAQAAAQABAAD/2wBDAAoHBwgHBgoICAgLCgoLDhgQDg0NDh0VFhEYIx8lJCIfIiEmKzcvJik0KSEiMEExNDk7Pj4+JS5ESUM8SDc9Pjv/2wBDAQoLCw4NDhwQEBw7KCIoOzs7Ozs7Ozs7Ozs7Ozs7Ozs7Ozs7Ozs7Ozs7Ozs7Ozs7Ozs7Ozs7Ozs7Ozs7Ozs7Ozv/wAARCAAYAGQDASIAAhEBAxEB/8QAHwAAAQUBAQEBAQEAAAAAAAAAAAECAwQFBgcICQoL/8QAtRAAAgEDAwIEAwUFBAQAAAF9AQIDAAQRBRIhMUEGE1FhByJxFDKBkaEII0KxwRVS0fAkM2JyggkKFhcYGRolJicoKSo0NTY3ODk6Q0RFRkdISUpTVFVWV1hZWmNkZWZnaGlqc3R1dnd4eXqDhIWGh4iJipKTlJWWl5iZmqKjpKWmp6ipqrKztLW2t7i5usLDxMXGx8jJytLT1NXW19jZ2uHi4+Tl5ufo6erx8vP09fb3+Pn6/8QAHwEAAwEBAQEBAQEBAQAAAAAAAAECAwQFBgcICQoL/8QAtREAAgECBAQDBAcFBAQAAQJ3AAECAxEEBSExBhJBUQdhcRMiMoEIFEKRobHBCSMzUvAVYnLRChYkNOEl8RcYGRomJygpKjU2Nzg5OkNERUZHSElKU1RVVldYWVpjZGVmZ2hpanN0dXZ3eHl6goOEhYaHiImKkpOUlZaXmJmaoqOkpaanqKmqsrO0tba3uLm6wsPExcbHyMnK0tPU1dbX2Nna4uPk5ebn6Onq8vP09fb3+Pn6/9oADAMBAAIRAxEAPwB/xOgYQ2d6TmKMsjLnueRx+FeaTajarny7fJ9eldn8R9egvL37AshCWpIPoX7/AJdK86cMT0+XPWtFUaVkTKCbuzsvBtjBrurRRShY0X5yh6uB2FexxqqKFUAKBgAV5D8N4ZW8QQzRDdHDG/mN6ZGB+tewIQ1JyctyoxS2FxmjbUgAoNSUUNTvF0/TLq8YZEETPj1wK8E/tHMzPIp3McnHc17zrWnjVtJubAyGMTxlN4GcV5defC/WIWH2ea3nXP8AeKkD8aak1sTJJ7nLPqjgfu48H1NVZLtpwBLyR3rox8PvELbt9sibfVwd30xWDqGlXel3P2e8gaGTrhu49QaJSk9xKKWx1fhj4h32hWqWt4v2m2/5Zhj8yj2PpXZ2XxT0GdlW5EtsScZI3AflXjIUqQeePUZqZpC8QUovHcDFQXc+lIZY7iFJoXWSNxuVlOQRRXhWj+INd0yx+zWMsxhDEjaCQDxRTDQytYWVdUuUmzvEz53DnOaqMSU2npRRQI7r4WW8j6ndzBT5awhT6ZJ/+tXqyLtHSiimhkgJooooATaDTTGPWiigBPJHrVa80ey1CPy7u1inU9pFBoooEYNx8NvDk7FhZvET/wA85CAPwqOL4Y6BG+7y5m9mkoooCx0FpoFhZW4hgt1VB2xRRRQFkf/Z\" style=\"max-width:none\">\n",
       "        <br>\n",
       "        <small style='color: red;'>❌ Index: 45</small><br>\n",
       "        <small style='color: red;'>Distance: 0.1801</small><br>\n",
       "        <small style='color: red;'>Hash: a9e0eccf84074676fa82cf8b9b2bf445</small>\n",
       "        <small style='color: red;'>(Localization)</small>\n",
       "    </div>\n",
       "    \n",
       "    <div style='text-align: center; border: 1px solid #ddd; padding: 5px;'>\n",
       "        <img src=\"data:image/jpeg;base64,/9j/4AAQSkZJRgABAQAAAQABAAD/2wBDAAoHBwgHBgoICAgLCgoLDhgQDg0NDh0VFhEYIx8lJCIfIiEmKzcvJik0KSEiMEExNDk7Pj4+JS5ESUM8SDc9Pjv/2wBDAQoLCw4NDhwQEBw7KCIoOzs7Ozs7Ozs7Ozs7Ozs7Ozs7Ozs7Ozs7Ozs7Ozs7Ozs7Ozs7Ozs7Ozs7Ozs7Ozs7Ozv/wAARCAAzAGQDASIAAhEBAxEB/8QAHwAAAQUBAQEBAQEAAAAAAAAAAAECAwQFBgcICQoL/8QAtRAAAgEDAwIEAwUFBAQAAAF9AQIDAAQRBRIhMUEGE1FhByJxFDKBkaEII0KxwRVS0fAkM2JyggkKFhcYGRolJicoKSo0NTY3ODk6Q0RFRkdISUpTVFVWV1hZWmNkZWZnaGlqc3R1dnd4eXqDhIWGh4iJipKTlJWWl5iZmqKjpKWmp6ipqrKztLW2t7i5usLDxMXGx8jJytLT1NXW19jZ2uHi4+Tl5ufo6erx8vP09fb3+Pn6/8QAHwEAAwEBAQEBAQEBAQAAAAAAAAECAwQFBgcICQoL/8QAtREAAgECBAQDBAcFBAQAAQJ3AAECAxEEBSExBhJBUQdhcRMiMoEIFEKRobHBCSMzUvAVYnLRChYkNOEl8RcYGRomJygpKjU2Nzg5OkNERUZHSElKU1RVVldYWVpjZGVmZ2hpanN0dXZ3eHl6goOEhYaHiImKkpOUlZaXmJmaoqOkpaanqKmqsrO0tba3uLm6wsPExcbHyMnK0tPU1dbX2Nna4uPk5ebn6Onq8vP09fb3+Pn6/9oADAMBAAIRAxEAPwDs7mGS5kcxsA0fABHFZ0dujXgiupUiJ6F/u1rTLMpdoGCs+OorDaO5jvTLPKk2ARtYZU/hUjOlSys7KBrqR1YIMmRjwPpWBqupz6giCBXSAtgDGM+5qdLQSgQqwUMM7Y84B9cHIqpc/abeZ0mfzGxgSAc4+lIDVtoxBAqL2HJHepc1l6eHVN63AZAcFGGDWjnNNAPzUU86wQtI3bp9adnmoL+Bp7Uxp1yDTAbYzyRoZQHLM27gVK+vMiZAYA9CIyaom9vLODIkSQAYAZelJp6XOpWBuLuaXljiOIlQB+HWpAux39ksLbfMZypALgjmqul6i8arbsEG0/OxNVzaWiOQsapJn77sx/mcUfZplnUGTfuPqDQB0ysGUMOhGaKYpCqF9BiimBGx4rGisp55WKrwWOcnBrUmlCYGeT3zjaPWltQAoaM7sfxdmoYy1ZRWtpaN8wV8fMWGK5jU5997uB6DHFbl3E8luXik2GMkunBDjHKnPrXN2LjUrwz+WscLDKqvU/X8qSQi/YRHeZTnHQVo5pqrhcAdKXaaoBwpw6U0KaeOBQBn6oipb7xxuOCPWn6LfwwxLHKwTYMKB1NT3UKXERjfj0I7Vk6dE6XB0+KRWuoBuad0yAC3I+pH8qTA270Q3ilxA2R1OKoWkRF4FyDt5IB6ema11bapA3EHjI/pVCdXhuHuIyrbVG5MYbAPJ9xipGX88UUxGEiB1OQwyKKoRTexied5JlMpfsxyq+2Kn+dBgM/NYur+J9M0yDesiXUsh4ijbB+pPapPD/iXTNXdooYvsk68iKaQnd7q39KB2Zfvbpl065JXkRnleM9qp6bFFbWixQopc8naOF/GtS7eOO2Y3Doin7xPGait4PlDAYB6UIB6ITUwjA60qrtGKWmITaKaygc4qSmkcUAV3JxwOaoxCFNUe6QASPDiRfXBGM1ovGSKpjZHc/O6hsdGOMigZaS4kfBX5R6KKgurGG4mSSdX81OFkQlHAP0ovdRtdMspLm7miWNASq5+ZvQAetc1pfj2wub8W9xZ/Yo34EhlLjP+16fWku6Cx0tvb3lohjSQTJnKlxhgPQ0VKt9ZooC3cBB5z5g5oouHKzj/ABLpVgJ2cWyBm5JHGa5tLO3D8IR9GNFFbLYxejZ23hbTrSRfOki8x1xguxbH5murwB0FFFRLcuDugwKMDFFFQUGOaCBRRTGNIGazdbsra7s2E8KyBQSM9qKKFuTLY8t1CzgWVgEOATj5jUNpZ27ygNHkZ9TRRWxkm7HomkaPpw09P9Ej/EZooorM2SVj/9k=\" style=\"max-width:none\">\n",
       "        <br>\n",
       "        <small style='color: red;'>❌ Index: 46</small><br>\n",
       "        <small style='color: red;'>Distance: 0.1807</small><br>\n",
       "        <small style='color: red;'>Hash: fe9552e29e785407a3f3fb48f74ba93f</small>\n",
       "        <small style='color: red;'>(Localization)</small>\n",
       "    </div>\n",
       "    \n",
       "    <div style='text-align: center; border: 1px solid #ddd; padding: 5px;'>\n",
       "        <img src=\"data:image/jpeg;base64,/9j/4AAQSkZJRgABAQAAAQABAAD/2wBDAAoHBwgHBgoICAgLCgoLDhgQDg0NDh0VFhEYIx8lJCIfIiEmKzcvJik0KSEiMEExNDk7Pj4+JS5ESUM8SDc9Pjv/2wBDAQoLCw4NDhwQEBw7KCIoOzs7Ozs7Ozs7Ozs7Ozs7Ozs7Ozs7Ozs7Ozs7Ozs7Ozs7Ozs7Ozs7Ozs7Ozs7Ozs7Ozv/wAARCAAjAGQDASIAAhEBAxEB/8QAHwAAAQUBAQEBAQEAAAAAAAAAAAECAwQFBgcICQoL/8QAtRAAAgEDAwIEAwUFBAQAAAF9AQIDAAQRBRIhMUEGE1FhByJxFDKBkaEII0KxwRVS0fAkM2JyggkKFhcYGRolJicoKSo0NTY3ODk6Q0RFRkdISUpTVFVWV1hZWmNkZWZnaGlqc3R1dnd4eXqDhIWGh4iJipKTlJWWl5iZmqKjpKWmp6ipqrKztLW2t7i5usLDxMXGx8jJytLT1NXW19jZ2uHi4+Tl5ufo6erx8vP09fb3+Pn6/8QAHwEAAwEBAQEBAQEBAQAAAAAAAAECAwQFBgcICQoL/8QAtREAAgECBAQDBAcFBAQAAQJ3AAECAxEEBSExBhJBUQdhcRMiMoEIFEKRobHBCSMzUvAVYnLRChYkNOEl8RcYGRomJygpKjU2Nzg5OkNERUZHSElKU1RVVldYWVpjZGVmZ2hpanN0dXZ3eHl6goOEhYaHiImKkpOUlZaXmJmaoqOkpaanqKmqsrO0tba3uLm6wsPExcbHyMnK0tPU1dbX2Nna4uPk5ebn6Onq8vP09fb3+Pn6/9oADAMBAAIRAxEAPwDmfifq8Wp+KGhtwpSyTyi4H336tz7dPwrjFZcc5B9Kt6kDDqdyu/zcTN84/i561WZixyMZz1NAxcA/NuwK3/CXhy78Qalts5FjFsVkeRjjAz2Hc8VhIFPU7jXt3w8SAeErSWKJUkYMJGC4LkMeT60hnWb/AHpC9RZpM0DJd9Q3l3FY2U15OSIoIzI+OuAM08L6027h+0WM8HlpJ5kbKEf7rZHQ+1AHz9r2sy65q09/cs2ZG+Veyr2H4CqG7uAT6VLcQmK8linj8t0chkA+6R2oQiPHyjPrQIjCHAd+gr0/4YeMGbGg6hKAqgm1kY4+qH+leZlXKY2Fl65xxVnTvLScmaMuNvA6c0AmfSOcUVx+j+MNPt9Kt4L2c+bHGFzktuAHXP8AnpRRcZ5d4q8NXmh37maPdC7kxSjow6/nXP7QfavafiNoN7qmlwPZRGVoJCWRRyQR2rzEaDqSttNhOD6bKZJn2Nq15fQ24IUyuFBPAGT1r3vSbOLTtPgs4F2xwoFFeQ2PhTXLi4j8iwlU5BDsNoHvXtttassKCU5cKN2PWkCBQW6CpViwM1KsYUcCnYoGQlRjpTSanKVFJGRyKBnmXxJ8NWKB9cWTy5XO14h/y1bHBHv6153bovkSuzKr5ACsOo5zg9q9D+J+oGS5tdNT/lmDK/1PA/TNcKowuCB+IoER26SykIjbF709kjjCouWx95j3pUHJ5xXbaB8OZdVtIb27ujDFKAwRFyxX6npQBx6PIV+UHAor3PTfDGl6ZZLbQWyFRyS6hmJ9STRQF2ap6VHtXP3R+VFFAD1Ax0pR1oooAdS4FFFABQQMUUUAcJ4+0uylZLp7dTNtxvyQSK81uIY0J2rjB9aKKp7E9TX8H2Frfa/DFdQrKnXa2cZr2uNFRQqqAoGAB2oopAtyQCiiikUf/9k=\" style=\"max-width:none\">\n",
       "        <br>\n",
       "        <small style='color: red;'>❌ Index: 47</small><br>\n",
       "        <small style='color: red;'>Distance: 0.1811</small><br>\n",
       "        <small style='color: red;'>Hash: 9d92ccb5da1fdabeacc034c5f5ce963d</small>\n",
       "        <small style='color: red;'>(Localization)</small>\n",
       "    </div>\n",
       "    \n",
       "    <div style='text-align: center; border: 1px solid #ddd; padding: 5px;'>\n",
       "        <img src=\"data:image/jpeg;base64,/9j/4AAQSkZJRgABAQAAAQABAAD/2wBDAAoHBwgHBgoICAgLCgoLDhgQDg0NDh0VFhEYIx8lJCIfIiEmKzcvJik0KSEiMEExNDk7Pj4+JS5ESUM8SDc9Pjv/2wBDAQoLCw4NDhwQEBw7KCIoOzs7Ozs7Ozs7Ozs7Ozs7Ozs7Ozs7Ozs7Ozs7Ozs7Ozs7Ozs7Ozs7Ozs7Ozs7Ozs7Ozv/wAARCAAnAGQDASIAAhEBAxEB/8QAHwAAAQUBAQEBAQEAAAAAAAAAAAECAwQFBgcICQoL/8QAtRAAAgEDAwIEAwUFBAQAAAF9AQIDAAQRBRIhMUEGE1FhByJxFDKBkaEII0KxwRVS0fAkM2JyggkKFhcYGRolJicoKSo0NTY3ODk6Q0RFRkdISUpTVFVWV1hZWmNkZWZnaGlqc3R1dnd4eXqDhIWGh4iJipKTlJWWl5iZmqKjpKWmp6ipqrKztLW2t7i5usLDxMXGx8jJytLT1NXW19jZ2uHi4+Tl5ufo6erx8vP09fb3+Pn6/8QAHwEAAwEBAQEBAQEBAQAAAAAAAAECAwQFBgcICQoL/8QAtREAAgECBAQDBAcFBAQAAQJ3AAECAxEEBSExBhJBUQdhcRMiMoEIFEKRobHBCSMzUvAVYnLRChYkNOEl8RcYGRomJygpKjU2Nzg5OkNERUZHSElKU1RVVldYWVpjZGVmZ2hpanN0dXZ3eHl6goOEhYaHiImKkpOUlZaXmJmaoqOkpaanqKmqsrO0tba3uLm6wsPExcbHyMnK0tPU1dbX2Nna4uPk5ebn6Onq8vP09fb3+Pn6/9oADAMBAAIRAxEAPwD0LJry34garePrhij+eG3+RQP4Tjk/59K9QNeQeMZzB4lvoklaPe24kHg1UdxsdYeKIL/yI72PytSg+WG5fpKOysex9D+Brq49TWC4kkS0a1uhABEoI2vJnGMDrnP4Vwdg8EgeC4URyZDLM/VfX8MV2nh6yMuuLFPcJP8AYgWVo23K3GBg9+taX6t6kWv0Oq0KwbTNKit3bdJy8jerHk1o7vemBqOtZGgu7NJniijHFAHJ+PrRG0yK9C/vIZQA2cYz/wDXxXCu1vJqJu5LZpbaXJiG7Hzdwcd/avU/Edi9/wCH7y3iXMhjJQepHIrxlDdWsLKpKZYbo3+62PY+lVHVWZL0Jllt1dSVIYD/AFakksexruPA2uE6oloY1j89NrAAjJUZBx27iuDJ+zTRm8tYYi2A3kAgrnoT2z9K6zwJA0viSJiDuhjZ2zznjGc/U1TvqhKx6rvoqPOe1FZlmL4i1yPRLEyYDTvkRIfX1PtXh+sXUlxeyzzyl5pG3MSe9aHi/X5te1qWYSssKMViUcYUHisOWNCgYZLd8nNIGXtLvy1wsV0wWMkBpD/d9/Wuk8G6k0fjCzgSYtG4ZGIPDZU4/kK5XTbVry6htAeZXC8e5r13wv4IstDf7QN09zjHmv2HsO1O7asTazOqXntTwh70qIRxTwKChgX2o+lSYppAoAjY14bruoGXxJqCtGmxbh1TbwBg4r3CToa8l8c+FP7Oml1a2kHkyyZkjbqrE9vbNGwGBeeJbi4Cp9kttyJs3sCxPpnnrW58PtffTdU/0xQYZcoXVfuZOfyzXFT5aThQM1btrm4siDDIDnrlc0OTYklc+jVIIBByD0NFeeaJ8RorfSYIb23eSWNdu5D1FFK47GRqXwv1GGVmtbmOVM8bzg1l/wDCvdfdwgghPPXzRRRTsRJtHX+EvhxJpd2l/qcsbyx8xwx9AfUnvXfrHtHAFFFBQ4KaXn0oooGHNIaKKAGEZrF8S6L/AG1otxZKQjuMox6ZHIzRRQB4pe6LdadeNBcxhWQ84fP8qi+xzSN+7QY9N1FFFibmxZ+FtXng8yKKPaT3kAooop2Qrs//2Q==\" style=\"max-width:none\">\n",
       "        <br>\n",
       "        <small style='color: red;'>❌ Index: 48</small><br>\n",
       "        <small style='color: red;'>Distance: 0.1821</small><br>\n",
       "        <small style='color: red;'>Hash: 23c04315875a2b5a79a728ca6f44aa08</small>\n",
       "        <small style='color: red;'>(Localization)</small>\n",
       "    </div>\n",
       "    \n",
       "    <div style='text-align: center; border: 1px solid #ddd; padding: 5px;'>\n",
       "        <img src=\"data:image/jpeg;base64,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\" style=\"max-width:none\">\n",
       "        <br>\n",
       "        <small style='color: red;'>❌ Index: 49</small><br>\n",
       "        <small style='color: red;'>Distance: 0.1836</small><br>\n",
       "        <small style='color: red;'>Hash: 1c4d72b86547fb2d7f68b7ae7fedb6fe</small>\n",
       "        <small style='color: red;'>(Localization)</small>\n",
       "    </div>\n",
       "    </div>"
      ],
      "text/plain": [
       "<IPython.core.display.HTML object>"
      ]
     },
     "metadata": {},
     "output_type": "display_data"
    }
   ],
   "source": [
    "import numpy as np\n",
    "from scipy.signal import savgol_filter\n",
    "\n",
    "def find_distance_cutoff(distances, window=7, poly=2, base_std_multiplier=2.0, min_points=5):\n",
    "    \"\"\"Find cutoff point where distances start deviating significantly from the local trend.\n",
    "\n",
    "    Args:\n",
    "        distances: List of distances from nearest neighbor search\n",
    "        window: Window size for smoothing (must be odd)\n",
    "        poly: Polynomial order for smoothing\n",
    "        base_std_multiplier: How many standard deviations to use for threshold\n",
    "        min_points: Minimum number of points to return\n",
    "\n",
    "    Returns:\n",
    "        index: Cutoff index\n",
    "    \"\"\"\n",
    "    distances = np.array(distances)\n",
    "    \n",
    "    # First smooth the distances to reduce noise\n",
    "    smoothed = savgol_filter(distances, window, poly)\n",
    "    \n",
    "    # Calculate rolling statistics\n",
    "    rolling_mean = [np.mean(smoothed[max(0, i-window):i+1]) \n",
    "                   for i in range(len(smoothed))]\n",
    "    rolling_std = [np.std(smoothed[max(0, i-window):i+1])\n",
    "                  for i in range(len(smoothed))]\n",
    "    \n",
    "    # Get baseline statistics from first few points\n",
    "    base_mean = np.mean(smoothed[:min_points])\n",
    "    base_std = np.std(smoothed[:min_points])\n",
    "    \n",
    "    # Find where distance exceeds mean + std threshold\n",
    "    threshold = base_mean + (base_std * base_std_multiplier)\n",
    "\n",
    "    # Look for consistent deviation\n",
    "    cutoff_candidates = []\n",
    "    for i in range(min_points, len(smoothed)):\n",
    "        # Check if point and next few points exceed threshold\n",
    "        if (smoothed[i] > threshold and\n",
    "            smoothed[i] > rolling_mean[i] + rolling_std[i] * base_std_multiplier):\n",
    "            cutoff_candidates.append(i)\n",
    "            if len(cutoff_candidates) >= 3:  # Require multiple points above threshold\n",
    "                return cutoff_candidates[0]\n",
    "    \n",
    "    # If no clear cutoff found, return minimum valid size\n",
    "    return min_points\n",
    "\n",
    "# Get distances from your results\n",
    "distances = [dist for _, dist in results]\n",
    "cutoff_idx = find_distance_cutoff(distances)\n",
    "\n",
    "# Plot results\n",
    "print(f\"Suggested cutoff at index {cutoff_idx} (distance: {distances[cutoff_idx]:.4f})\")\n",
    "\n",
    "fig = go.Figure()\n",
    "\n",
    "# Original distances\n",
    "fig.add_trace(go.Scatter(\n",
    "    x=list(range(len(distances))),\n",
    "    y=distances,\n",
    "    name='Distances',\n",
    "    line=dict(color='blue')\n",
    "))\n",
    "\n",
    "# Add smoothed trace\n",
    "smoothed = savgol_filter(distances, 7, 2)\n",
    "fig.add_trace(go.Scatter(\n",
    "    x=list(range(len(smoothed))),\n",
    "    y=smoothed,\n",
    "    name='Smoothed',\n",
    "    line=dict(color='red', dash='dash')\n",
    "))\n",
    "\n",
    "# Highlight cutoff\n",
    "fig.add_vline(\n",
    "    x=cutoff_idx,\n",
    "    line_dash=\"dash\",\n",
    "    line_color=\"green\",\n",
    "    annotation_text=f\"Cutoff at {cutoff_idx}\"\n",
    ")\n",
    "\n",
    "fig.update_layout(\n",
    "    title='Distance Distribution with Cutoff',\n",
    "    xaxis_title='Index',\n",
    "    yaxis_title='Distance',\n",
    "    width=1000,\n",
    "    height=500,\n",
    "    showlegend=True\n",
    ")\n",
    "\n",
    "fig.show()\n",
    "\n",
    "# Show all images, with cutoff ones in red\n",
    "html = ['<div style=\"display: flex; flex-wrap: wrap; gap: 10px;\">']\n",
    "\n",
    "for i, (hash_val, dist) in enumerate(results):\n",
    "    source = get_hash_source(hash_val)\n",
    "    if source is None:\n",
    "        continue\n",
    "\n",
    "    img_html = get_image_html(source)\n",
    "    # Add red text and ❌ for items after cutoff\n",
    "    text_color = 'color: red;' if i >= cutoff_idx else ''\n",
    "    cutoff_marker = '❌ ' if i >= cutoff_idx else ''\n",
    "    item_html = f\"\"\"\n",
    "    <div style='text-align: center; border: 1px solid #ddd; padding: 5px;'>\n",
    "        {img_html}\n",
    "        <br>\n",
    "        <small style='{text_color}'>{cutoff_marker}Index: {i}</small><br>\n",
    "        <small style='{text_color}'>Distance: {dist:.4f}</small><br>\n",
    "        <small style='{text_color}'>Hash: {hash_val}</small>\n",
    "        <small style='{text_color}'>{'(Localization)' if source['type'] == 'localization' else ''}</small>\n",
    "    </div>\n",
    "    \"\"\"\n",
    "    html.append(item_html)\n",
    "\n",
    "html.append('</div>')\n",
    "display(HTML(''.join(html)))"
   ]
  },
  {
   "cell_type": "code",
   "execution_count": 24,
   "id": "0a0a01c6",
   "metadata": {},
   "outputs": [
    {
     "data": {
      "application/vnd.plotly.v1+json": {
       "config": {
        "plotlyServerURL": "https://plot.ly"
       },
       "data": [
        {
         "marker": {
          "color": [
           "lightblue",
           "lightblue",
           "lightblue",
           "lightblue",
           "lightblue",
           "lightblue",
           "lightblue",
           "lightblue",
           "lightblue",
           "lightblue",
           "red",
           "lightblue",
           "lightblue",
           "lightblue",
           "lightblue",
           "lightblue",
           "lightblue",
           "lightblue",
           "lightblue",
           "lightblue",
           "lightblue",
           "lightblue",
           "lightblue",
           "lightblue",
           "lightblue",
           "lightblue",
           "lightblue",
           "lightblue",
           "lightblue",
           "lightblue",
           "lightblue",
           "lightblue",
           "lightblue",
           "lightblue",
           "lightblue",
           "lightblue",
           "lightblue",
           "lightblue"
          ]
         },
         "text": [
          "35.35",
          "15.95",
          "15.83",
          "14.89",
          "14.80",
          "14.36",
          "12.40",
          "11.78",
          "11.73",
          "11.36",
          "10.74",
          "9.46",
          "9.02",
          "8.50",
          "8.00",
          "7.44",
          "6.73",
          "6.71",
          "6.59",
          "6.45",
          "6.43",
          "6.23",
          "5.98",
          "5.93",
          "5.83",
          "5.82",
          "5.66",
          "5.64",
          "5.64",
          "5.62",
          "5.61",
          "5.60",
          "5.60",
          "5.55",
          "5.53",
          "5.52",
          "5.49",
          "5.45"
         ],
         "textposition": "auto",
         "type": "bar",
         "x": [
          "90s Boxer – Upstormed",
          "Gordito Tee – Sample",
          "Danny Jacket",
          "Track Jacket",
          "Yumbo Shirt",
          "Suarez Shirt – Restormed",
          "Holy T-shirt – The Holy F",
          "Coach Jacket",
          "Chaco Jeans",
          "Squall Top – Upstormed",
          "90s Boxer – Upstormed (b2e8cd...)",
          "Diabolo Vest – Sample",
          "Rodeo Sweat",
          "90s Mesh Boxer – Upstormed",
          "Suarezito Shirt",
          "City LS Tee",
          "Storm x Seuba – Longsleeve Tee",
          "Milo Shorts",
          "Diablo Vest",
          "Gordito Tee",
          "Base Tee",
          "Gordito Tee (28b17e...)",
          "Milo Shorts (332791...)",
          "Typhoon Shirt",
          "Petra Shirt – Upstormed",
          "Tornado Boxer",
          "Limon Shirt",
          "Limon Shirt – Restormed",
          "Safari Shorts – Upstormed",
          "Limon Shirt (ede1f7...)",
          "Scandal Brief",
          "Storm x Seuba – Merch Tee",
          "Gordito Tee – Upstormed",
          "Chacola Pants",
          "Gordito Tee (7b3885...)",
          "Work bag – Upstormed",
          "Chaco Pants",
          "Diablo Vest (44ea00...)"
         ],
         "y": [
          35.35176467895508,
          15.953330039978027,
          15.834824562072754,
          14.891744613647461,
          14.800363540649414,
          14.360574722290039,
          12.395182609558105,
          11.776580810546875,
          11.73470687866211,
          11.364628791809082,
          10.741379737854004,
          9.457685470581055,
          9.02040958404541,
          8.498007774353027,
          7.998534679412842,
          7.440435409545898,
          6.73263692855835,
          6.705807209014893,
          6.5942840576171875,
          6.446331024169922,
          6.425542831420898,
          6.231046676635742,
          5.982426166534424,
          5.933260917663574,
          5.826081275939941,
          5.821654319763184,
          5.661707878112793,
          5.6441426277160645,
          5.636617660522461,
          5.619891166687012,
          5.612473011016846,
          5.6026129722595215,
          5.601010799407959,
          5.552700996398926,
          5.5349812507629395,
          5.52250862121582,
          5.491289138793945,
          5.446718692779541
         ]
        }
       ],
       "layout": {
        "height": 500,
        "showlegend": false,
        "template": {
         "data": {
          "bar": [
           {
            "error_x": {
             "color": "#2a3f5f"
            },
            "error_y": {
             "color": "#2a3f5f"
            },
            "marker": {
             "line": {
              "color": "#E5ECF6",
              "width": 0.5
             },
             "pattern": {
              "fillmode": "overlay",
              "size": 10,
              "solidity": 0.2
             }
            },
            "type": "bar"
           }
          ],
          "barpolar": [
           {
            "marker": {
             "line": {
              "color": "#E5ECF6",
              "width": 0.5
             },
             "pattern": {
              "fillmode": "overlay",
              "size": 10,
              "solidity": 0.2
             }
            },
            "type": "barpolar"
           }
          ],
          "carpet": [
           {
            "aaxis": {
             "endlinecolor": "#2a3f5f",
             "gridcolor": "white",
             "linecolor": "white",
             "minorgridcolor": "white",
             "startlinecolor": "#2a3f5f"
            },
            "baxis": {
             "endlinecolor": "#2a3f5f",
             "gridcolor": "white",
             "linecolor": "white",
             "minorgridcolor": "white",
             "startlinecolor": "#2a3f5f"
            },
            "type": "carpet"
           }
          ],
          "choropleth": [
           {
            "colorbar": {
             "outlinewidth": 0,
             "ticks": ""
            },
            "type": "choropleth"
           }
          ],
          "contour": [
           {
            "colorbar": {
             "outlinewidth": 0,
             "ticks": ""
            },
            "colorscale": [
             [
              0,
              "#0d0887"
             ],
             [
              0.1111111111111111,
              "#46039f"
             ],
             [
              0.2222222222222222,
              "#7201a8"
             ],
             [
              0.3333333333333333,
              "#9c179e"
             ],
             [
              0.4444444444444444,
              "#bd3786"
             ],
             [
              0.5555555555555556,
              "#d8576b"
             ],
             [
              0.6666666666666666,
              "#ed7953"
             ],
             [
              0.7777777777777778,
              "#fb9f3a"
             ],
             [
              0.8888888888888888,
              "#fdca26"
             ],
             [
              1,
              "#f0f921"
             ]
            ],
            "type": "contour"
           }
          ],
          "contourcarpet": [
           {
            "colorbar": {
             "outlinewidth": 0,
             "ticks": ""
            },
            "type": "contourcarpet"
           }
          ],
          "heatmap": [
           {
            "colorbar": {
             "outlinewidth": 0,
             "ticks": ""
            },
            "colorscale": [
             [
              0,
              "#0d0887"
             ],
             [
              0.1111111111111111,
              "#46039f"
             ],
             [
              0.2222222222222222,
              "#7201a8"
             ],
             [
              0.3333333333333333,
              "#9c179e"
             ],
             [
              0.4444444444444444,
              "#bd3786"
             ],
             [
              0.5555555555555556,
              "#d8576b"
             ],
             [
              0.6666666666666666,
              "#ed7953"
             ],
             [
              0.7777777777777778,
              "#fb9f3a"
             ],
             [
              0.8888888888888888,
              "#fdca26"
             ],
             [
              1,
              "#f0f921"
             ]
            ],
            "type": "heatmap"
           }
          ],
          "histogram": [
           {
            "marker": {
             "pattern": {
              "fillmode": "overlay",
              "size": 10,
              "solidity": 0.2
             }
            },
            "type": "histogram"
           }
          ],
          "histogram2d": [
           {
            "colorbar": {
             "outlinewidth": 0,
             "ticks": ""
            },
            "colorscale": [
             [
              0,
              "#0d0887"
             ],
             [
              0.1111111111111111,
              "#46039f"
             ],
             [
              0.2222222222222222,
              "#7201a8"
             ],
             [
              0.3333333333333333,
              "#9c179e"
             ],
             [
              0.4444444444444444,
              "#bd3786"
             ],
             [
              0.5555555555555556,
              "#d8576b"
             ],
             [
              0.6666666666666666,
              "#ed7953"
             ],
             [
              0.7777777777777778,
              "#fb9f3a"
             ],
             [
              0.8888888888888888,
              "#fdca26"
             ],
             [
              1,
              "#f0f921"
             ]
            ],
            "type": "histogram2d"
           }
          ],
          "histogram2dcontour": [
           {
            "colorbar": {
             "outlinewidth": 0,
             "ticks": ""
            },
            "colorscale": [
             [
              0,
              "#0d0887"
             ],
             [
              0.1111111111111111,
              "#46039f"
             ],
             [
              0.2222222222222222,
              "#7201a8"
             ],
             [
              0.3333333333333333,
              "#9c179e"
             ],
             [
              0.4444444444444444,
              "#bd3786"
             ],
             [
              0.5555555555555556,
              "#d8576b"
             ],
             [
              0.6666666666666666,
              "#ed7953"
             ],
             [
              0.7777777777777778,
              "#fb9f3a"
             ],
             [
              0.8888888888888888,
              "#fdca26"
             ],
             [
              1,
              "#f0f921"
             ]
            ],
            "type": "histogram2dcontour"
           }
          ],
          "mesh3d": [
           {
            "colorbar": {
             "outlinewidth": 0,
             "ticks": ""
            },
            "type": "mesh3d"
           }
          ],
          "parcoords": [
           {
            "line": {
             "colorbar": {
              "outlinewidth": 0,
              "ticks": ""
             }
            },
            "type": "parcoords"
           }
          ],
          "pie": [
           {
            "automargin": true,
            "type": "pie"
           }
          ],
          "scatter": [
           {
            "fillpattern": {
             "fillmode": "overlay",
             "size": 10,
             "solidity": 0.2
            },
            "type": "scatter"
           }
          ],
          "scatter3d": [
           {
            "line": {
             "colorbar": {
              "outlinewidth": 0,
              "ticks": ""
             }
            },
            "marker": {
             "colorbar": {
              "outlinewidth": 0,
              "ticks": ""
             }
            },
            "type": "scatter3d"
           }
          ],
          "scattercarpet": [
           {
            "marker": {
             "colorbar": {
              "outlinewidth": 0,
              "ticks": ""
             }
            },
            "type": "scattercarpet"
           }
          ],
          "scattergeo": [
           {
            "marker": {
             "colorbar": {
              "outlinewidth": 0,
              "ticks": ""
             }
            },
            "type": "scattergeo"
           }
          ],
          "scattergl": [
           {
            "marker": {
             "colorbar": {
              "outlinewidth": 0,
              "ticks": ""
             }
            },
            "type": "scattergl"
           }
          ],
          "scattermap": [
           {
            "marker": {
             "colorbar": {
              "outlinewidth": 0,
              "ticks": ""
             }
            },
            "type": "scattermap"
           }
          ],
          "scattermapbox": [
           {
            "marker": {
             "colorbar": {
              "outlinewidth": 0,
              "ticks": ""
             }
            },
            "type": "scattermapbox"
           }
          ],
          "scatterpolar": [
           {
            "marker": {
             "colorbar": {
              "outlinewidth": 0,
              "ticks": ""
             }
            },
            "type": "scatterpolar"
           }
          ],
          "scatterpolargl": [
           {
            "marker": {
             "colorbar": {
              "outlinewidth": 0,
              "ticks": ""
             }
            },
            "type": "scatterpolargl"
           }
          ],
          "scatterternary": [
           {
            "marker": {
             "colorbar": {
              "outlinewidth": 0,
              "ticks": ""
             }
            },
            "type": "scatterternary"
           }
          ],
          "surface": [
           {
            "colorbar": {
             "outlinewidth": 0,
             "ticks": ""
            },
            "colorscale": [
             [
              0,
              "#0d0887"
             ],
             [
              0.1111111111111111,
              "#46039f"
             ],
             [
              0.2222222222222222,
              "#7201a8"
             ],
             [
              0.3333333333333333,
              "#9c179e"
             ],
             [
              0.4444444444444444,
              "#bd3786"
             ],
             [
              0.5555555555555556,
              "#d8576b"
             ],
             [
              0.6666666666666666,
              "#ed7953"
             ],
             [
              0.7777777777777778,
              "#fb9f3a"
             ],
             [
              0.8888888888888888,
              "#fdca26"
             ],
             [
              1,
              "#f0f921"
             ]
            ],
            "type": "surface"
           }
          ],
          "table": [
           {
            "cells": {
             "fill": {
              "color": "#EBF0F8"
             },
             "line": {
              "color": "white"
             }
            },
            "header": {
             "fill": {
              "color": "#C8D4E3"
             },
             "line": {
              "color": "white"
             }
            },
            "type": "table"
           }
          ]
         },
         "layout": {
          "annotationdefaults": {
           "arrowcolor": "#2a3f5f",
           "arrowhead": 0,
           "arrowwidth": 1
          },
          "autotypenumbers": "strict",
          "coloraxis": {
           "colorbar": {
            "outlinewidth": 0,
            "ticks": ""
           }
          },
          "colorscale": {
           "diverging": [
            [
             0,
             "#8e0152"
            ],
            [
             0.1,
             "#c51b7d"
            ],
            [
             0.2,
             "#de77ae"
            ],
            [
             0.3,
             "#f1b6da"
            ],
            [
             0.4,
             "#fde0ef"
            ],
            [
             0.5,
             "#f7f7f7"
            ],
            [
             0.6,
             "#e6f5d0"
            ],
            [
             0.7,
             "#b8e186"
            ],
            [
             0.8,
             "#7fbc41"
            ],
            [
             0.9,
             "#4d9221"
            ],
            [
             1,
             "#276419"
            ]
           ],
           "sequential": [
            [
             0,
             "#0d0887"
            ],
            [
             0.1111111111111111,
             "#46039f"
            ],
            [
             0.2222222222222222,
             "#7201a8"
            ],
            [
             0.3333333333333333,
             "#9c179e"
            ],
            [
             0.4444444444444444,
             "#bd3786"
            ],
            [
             0.5555555555555556,
             "#d8576b"
            ],
            [
             0.6666666666666666,
             "#ed7953"
            ],
            [
             0.7777777777777778,
             "#fb9f3a"
            ],
            [
             0.8888888888888888,
             "#fdca26"
            ],
            [
             1,
             "#f0f921"
            ]
           ],
           "sequentialminus": [
            [
             0,
             "#0d0887"
            ],
            [
             0.1111111111111111,
             "#46039f"
            ],
            [
             0.2222222222222222,
             "#7201a8"
            ],
            [
             0.3333333333333333,
             "#9c179e"
            ],
            [
             0.4444444444444444,
             "#bd3786"
            ],
            [
             0.5555555555555556,
             "#d8576b"
            ],
            [
             0.6666666666666666,
             "#ed7953"
            ],
            [
             0.7777777777777778,
             "#fb9f3a"
            ],
            [
             0.8888888888888888,
             "#fdca26"
            ],
            [
             1,
             "#f0f921"
            ]
           ]
          },
          "colorway": [
           "#636efa",
           "#EF553B",
           "#00cc96",
           "#ab63fa",
           "#FFA15A",
           "#19d3f3",
           "#FF6692",
           "#B6E880",
           "#FF97FF",
           "#FECB52"
          ],
          "font": {
           "color": "#2a3f5f"
          },
          "geo": {
           "bgcolor": "white",
           "lakecolor": "white",
           "landcolor": "#E5ECF6",
           "showlakes": true,
           "showland": true,
           "subunitcolor": "white"
          },
          "hoverlabel": {
           "align": "left"
          },
          "hovermode": "closest",
          "mapbox": {
           "style": "light"
          },
          "paper_bgcolor": "white",
          "plot_bgcolor": "#E5ECF6",
          "polar": {
           "angularaxis": {
            "gridcolor": "white",
            "linecolor": "white",
            "ticks": ""
           },
           "bgcolor": "#E5ECF6",
           "radialaxis": {
            "gridcolor": "white",
            "linecolor": "white",
            "ticks": ""
           }
          },
          "scene": {
           "xaxis": {
            "backgroundcolor": "#E5ECF6",
            "gridcolor": "white",
            "gridwidth": 2,
            "linecolor": "white",
            "showbackground": true,
            "ticks": "",
            "zerolinecolor": "white"
           },
           "yaxis": {
            "backgroundcolor": "#E5ECF6",
            "gridcolor": "white",
            "gridwidth": 2,
            "linecolor": "white",
            "showbackground": true,
            "ticks": "",
            "zerolinecolor": "white"
           },
           "zaxis": {
            "backgroundcolor": "#E5ECF6",
            "gridcolor": "white",
            "gridwidth": 2,
            "linecolor": "white",
            "showbackground": true,
            "ticks": "",
            "zerolinecolor": "white"
           }
          },
          "shapedefaults": {
           "line": {
            "color": "#2a3f5f"
           }
          },
          "ternary": {
           "aaxis": {
            "gridcolor": "white",
            "linecolor": "white",
            "ticks": ""
           },
           "baxis": {
            "gridcolor": "white",
            "linecolor": "white",
            "ticks": ""
           },
           "bgcolor": "#E5ECF6",
           "caxis": {
            "gridcolor": "white",
            "linecolor": "white",
            "ticks": ""
           }
          },
          "title": {
           "x": 0.05
          },
          "xaxis": {
           "automargin": true,
           "gridcolor": "white",
           "linecolor": "white",
           "ticks": "",
           "title": {
            "standoff": 15
           },
           "zerolinecolor": "white",
           "zerolinewidth": 2
          },
          "yaxis": {
           "automargin": true,
           "gridcolor": "white",
           "linecolor": "white",
           "ticks": "",
           "title": {
            "standoff": 15
           },
           "zerolinecolor": "white",
           "zerolinewidth": 2
          }
         }
        },
        "title": {
         "text": "Product Relevance Scores (Red = Query Product)"
        },
        "width": 800,
        "xaxis": {
         "showgrid": true,
         "tickangle": 45,
         "title": {
          "text": "Product Title"
         }
        },
        "yaxis": {
         "title": {
          "text": "Score"
         }
        }
       }
      }
     },
     "metadata": {},
     "output_type": "display_data"
    },
    {
     "name": "stdout",
     "output_type": "stream",
     "text": [
      "Related products (in order of relevance):\n",
      "--------------------------------------------------\n",
      "Top Product: 90s Boxer – Upstormed (Score: 35.35)\n"
     ]
    },
    {
     "data": {
      "text/html": [
       "\n",
       "    <div style=\"\n",
       "        background-color: white;\n",
       "        padding: 20px;\n",
       "        border-radius: 5px;\n",
       "        max-width: 1000px;\n",
       "        margin: 0 auto;\n",
       "        font-family: sans-serif;\n",
       "        color: black;\n",
       "    \">\n",
       "        <h2 style=\"text-align: center; margin-bottom: 20px; color: black;\">90s Boxer – Upstormed</h2>\n",
       "        \n",
       "    <div style=\"\n",
       "        display: grid;\n",
       "        grid-template-columns: repeat(3, 1fr);\n",
       "        gap: 10px;\n",
       "        margin-bottom: 20px;\n",
       "    \">\n",
       "        \n",
       "        <div style=\"text-align: center;\">\n",
       "            <img src=\"data:image/png;base64,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\" style=\"max-width: 100%; height: auto;\">\n",
       "            <div style=\"font-size: 10px; color: #666;\">f45555d1683f0ba1bdb259af2889dc46</div>\n",
       "        </div>\n",
       "        \n",
       "        <div style=\"text-align: center;\">\n",
       "            <img src=\"data:image/png;base64,iVBORw0KGgoAAAANSUhEUgAAANYAAAEsCAIAAAAw/9qyAAAKMWlDQ1BJQ0MgUHJvZmlsZQAAeJydlndUU9kWh8+9N71QkhCKlNBraFICSA29SJEuKjEJEErAkAAiNkRUcERRkaYIMijggKNDkbEiioUBUbHrBBlE1HFwFBuWSWStGd+8ee/Nm98f935rn73P3Wfvfda6AJD8gwXCTFgJgAyhWBTh58WIjYtnYAcBDPAAA2wA4HCzs0IW+EYCmQJ82IxsmRP4F726DiD5+yrTP4zBAP+flLlZIjEAUJiM5/L42VwZF8k4PVecJbdPyZi2NE3OMErOIlmCMlaTc/IsW3z2mWUPOfMyhDwZy3PO4mXw5Nwn4405Er6MkWAZF+cI+LkyviZjg3RJhkDGb+SxGXxONgAoktwu5nNTZGwtY5IoMoIt43kA4EjJX/DSL1jMzxPLD8XOzFouEiSniBkmXFOGjZMTi+HPz03ni8XMMA43jSPiMdiZGVkc4XIAZs/8WRR5bRmyIjvYODk4MG0tbb4o1H9d/JuS93aWXoR/7hlEH/jD9ld+mQ0AsKZltdn6h21pFQBd6wFQu/2HzWAvAIqyvnUOfXEeunxeUsTiLGcrq9zcXEsBn2spL+jv+p8Of0NffM9Svt3v5WF485M4knQxQ143bmZ6pkTEyM7icPkM5p+H+B8H/nUeFhH8JL6IL5RFRMumTCBMlrVbyBOIBZlChkD4n5r4D8P+pNm5lona+BHQllgCpSEaQH4eACgqESAJe2Qr0O99C8ZHA/nNi9GZmJ37z4L+fVe4TP7IFiR/jmNHRDK4ElHO7Jr8WgI0IABFQAPqQBvoAxPABLbAEbgAD+ADAkEoiARxYDHgghSQAUQgFxSAtaAYlIKtYCeoBnWgETSDNnAYdIFj4DQ4By6By2AE3AFSMA6egCnwCsxAEISFyBAVUod0IEPIHLKFWJAb5AMFQxFQHJQIJUNCSAIVQOugUqgcqobqoWboW+godBq6AA1Dt6BRaBL6FXoHIzAJpsFasBFsBbNgTzgIjoQXwcnwMjgfLoK3wJVwA3wQ7oRPw5fgEVgKP4GnEYAQETqiizARFsJGQpF4JAkRIauQEqQCaUDakB6kH7mKSJGnyFsUBkVFMVBMlAvKHxWF4qKWoVahNqOqUQdQnag+1FXUKGoK9RFNRmuizdHO6AB0LDoZnYsuRlegm9Ad6LPoEfQ4+hUGg6FjjDGOGH9MHCYVswKzGbMb0445hRnGjGGmsVisOtYc64oNxXKwYmwxtgp7EHsSewU7jn2DI+J0cLY4X1w8TogrxFXgWnAncFdwE7gZvBLeEO+MD8Xz8MvxZfhGfA9+CD+OnyEoE4wJroRIQiphLaGS0EY4S7hLeEEkEvWITsRwooC4hlhJPEQ8TxwlviVRSGYkNimBJCFtIe0nnSLdIr0gk8lGZA9yPFlM3kJuJp8h3ye/UaAqWCoEKPAUVivUKHQqXFF4pohXNFT0VFysmK9YoXhEcUjxqRJeyUiJrcRRWqVUo3RU6YbStDJV2UY5VDlDebNyi/IF5UcULMWI4kPhUYoo+yhnKGNUhKpPZVO51HXURupZ6jgNQzOmBdBSaaW0b2iDtCkVioqdSrRKnkqNynEVKR2hG9ED6On0Mvph+nX6O1UtVU9Vvuom1TbVK6qv1eaoeajx1UrU2tVG1N6pM9R91NPUt6l3qd/TQGmYaYRr5Grs0Tir8XQObY7LHO6ckjmH59zWhDXNNCM0V2ju0xzQnNbS1vLTytKq0jqj9VSbru2hnaq9Q/uE9qQOVcdNR6CzQ+ekzmOGCsOTkc6oZPQxpnQ1df11Jbr1uoO6M3rGelF6hXrtevf0Cfos/ST9Hfq9+lMGOgYhBgUGrQa3DfGGLMMUw12G/YavjYyNYow2GHUZPTJWMw4wzjduNb5rQjZxN1lm0mByzRRjyjJNM91tetkMNrM3SzGrMRsyh80dzAXmu82HLdAWThZCiwaLG0wS05OZw2xljlrSLYMtCy27LJ9ZGVjFW22z6rf6aG1vnW7daH3HhmITaFNo02Pzq62ZLde2xvbaXPJc37mr53bPfW5nbse322N3055qH2K/wb7X/oODo4PIoc1h0tHAMdGx1vEGi8YKY21mnXdCO3k5rXY65vTW2cFZ7HzY+RcXpkuaS4vLo3nG8/jzGueNueq5clzrXaVuDLdEt71uUnddd457g/sDD30PnkeTx4SnqWeq50HPZ17WXiKvDq/XbGf2SvYpb8Tbz7vEe9CH4hPlU+1z31fPN9m31XfKz95vhd8pf7R/kP82/xsBWgHcgOaAqUDHwJWBfUGkoAVB1UEPgs2CRcE9IXBIYMj2kLvzDecL53eFgtCA0O2h98KMw5aFfR+OCQ8Lrwl/GGETURDRv4C6YMmClgWvIr0iyyLvRJlESaJ6oxWjE6Kbo1/HeMeUx0hjrWJXxl6K04gTxHXHY+Oj45vipxf6LNy5cDzBPqE44foi40V5iy4s1licvvj4EsUlnCVHEtGJMYktie85oZwGzvTSgKW1S6e4bO4u7hOeB28Hb5Lvyi/nTyS5JpUnPUp2Td6ePJninlKR8lTAFlQLnqf6p9alvk4LTduf9ik9Jr09A5eRmHFUSBGmCfsytTPzMoezzLOKs6TLnJftXDYlChI1ZUPZi7K7xTTZz9SAxESyXjKa45ZTk/MmNzr3SJ5ynjBvYLnZ8k3LJ/J9879egVrBXdFboFuwtmB0pefK+lXQqqWrelfrry5aPb7Gb82BtYS1aWt/KLQuLC98uS5mXU+RVtGaorH1futbixWKRcU3NrhsqNuI2ijYOLhp7qaqTR9LeCUXS61LK0rfb+ZuvviVzVeVX33akrRlsMyhbM9WzFbh1uvb3LcdKFcuzy8f2x6yvXMHY0fJjpc7l+y8UGFXUbeLsEuyS1oZXNldZVC1tep9dUr1SI1XTXutZu2m2te7ebuv7PHY01anVVda926vYO/Ner/6zgajhop9mH05+x42Rjf2f836urlJo6m06cN+4X7pgYgDfc2Ozc0tmi1lrXCrpHXyYMLBy994f9Pdxmyrb6e3lx4ChySHHn+b+O31w0GHe4+wjrR9Z/hdbQe1o6QT6lzeOdWV0iXtjusePhp4tLfHpafje8vv9x/TPVZzXOV42QnCiaITn07mn5w+lXXq6enk02O9S3rvnIk9c60vvG/wbNDZ8+d8z53p9+w/ed71/LELzheOXmRd7LrkcKlzwH6g4wf7HzoGHQY7hxyHui87Xe4Znjd84or7ldNXva+euxZw7dLI/JHh61HXb95IuCG9ybv56Fb6ree3c27P3FlzF3235J7SvYr7mvcbfjT9sV3qID0+6j068GDBgztj3LEnP2X/9H686CH5YcWEzkTzI9tHxyZ9Jy8/Xvh4/EnWk5mnxT8r/1z7zOTZd794/DIwFTs1/lz0/NOvm1+ov9j/0u5l73TY9P1XGa9mXpe8UX9z4C3rbf+7mHcTM7nvse8rP5h+6PkY9PHup4xPn34D94Tz+6TMXDkAAQAASURBVHicpP15sGfZfR+G3XvO3X7rW3vvnu6eAQaDwQ5iIQBRJESKUkRasZb4D5dT5biSslJJ2RWnKuVUWalSqZJyOZXEjqwkTmyVo5KsSDIpkSIpSiRBEgRAYAgMBpgZzGC27um933v9lt96t3NO6rucc8+9v997PaAvHoevf+937z3L93yXz3cLX/r2d4IgCMNQBHiFQRgIo+GTMAyNUSYw9nfDXwlD+sUYY8JQCBGGodJGBKEMRBDqIIQ/aWMC+KYIglCYQIiAHiCEwF+EDhS8Dh8XNn+C1wVBoANt8A3wuYFX4Ls1/UKvpmHAF0IRwnfgC0H7gqfAOOB/8C94vAzhOfhXrUUQSCm9AcPD3X/h2Th3QX/DedvFCpSBz9wU+BYcZBiGmp5pr84yupnSRZ/7X5D4ffqeoe/D/vD6w8PxttaOBCqAb9H47HMCSX+u7W7CrPi1gVsvrTVM09uCztX5vPMdrXnW3tIFOoDVBwrA1XBb7E858l5gx+xGh+9hwvFeSb+4h/La4eLwn5Gw3IbgU+zDgCRUGEp4GT045GXgpcEhIunBD33HfYhfM/g2b/5hoLSWTAmtFYHjQVOzQ+ssHQ2aaY6/1VAD0FVDQt3NwK+t2aoPctHtpr22/n9br/O+Y7yd5hG0vs9U6t3Hx87+i69aa+Idbsqd/XUz9cfcOSSdNaEvwa/uAXCo3e63puzuakgwRGINQgNc0J4N+9LW8XX07j6ECQg8aprHQi/234b/xkHgw4EK7ZRNoAUyFloIfjLSnwnxf45D4HoCXVmORSstRSiM8F/o9qlNeY7qm+/BS+GheGYs1ds9a4jMWzvTnEvvCz/R5VF50Pmlu8H2MFsKoE+Z/ba+CUOBkwiMDwSZY0Uoltr7YUJgUT7zdovvT7ZzHla/4C4pJb/OGG1vov8P4gnkpF7LSiMgOVxJkGtCIBnCxtPduCWwQb4IaF6PRG1PJHJP3BwgKaBjT4YIqXEVQVbT2oVBqIjm7RPsw+kfMpC0aiYwyihL8XZNva0SgQBBLHAxHdsOUSQrZSwrdGsBrIT2FGYKU9V4IGAKyG5VoHQAugjcZFkd8FSS3XSGLON0VMiyAC5YCTrE0hJ+RyJ3+Z/BFbHzIeZhUDK6vcSfUAegM+CyoaDwnuORhUIac4oD6VWN4OGlCEJYiBW25P6L5NAm8ZUz499O34etByJk9spL3wgxj8XifyM3KNS9cHMNKF9wA2yBsMTYHDl6U3fsWiMp2f81AyWdDRQXImLLplG/82bCJMjcx24ujMmqaDgKPhnevaRxwH2sOJGo5rGiYGAN0g4O50YPhCfRdICKgZmC/gtLwfPwmF9AOiDeY2dv/2qlDNJ4I/VZV/MOmNuJFiEGfJejKn953ZLhjsA5FCgQOvRhx+M4vVXveV3DADg9j8Gtny/l3V44TWONVrBWNWn/CY41rwGupxWb9AVtdQBgBUEQeZosal+Wfphc7NL4qoSnH3ryjg4u/tcuV7M/jhBP4+pubxQPnSbEVMVH2jsGHd2FBDcecpgC7BAp741micylLY7oc6cxgHarwXpBDkHU1v6yBnZi71ovj/BbVs1qSxx/ml0BJzwShH3pKhKWiPn/6Hea7FoB2iIIFrb8NY0Ccc3XLM2dqpKeMnj/C8SF3EXvcvTXnTVOJ7LbiwyUZsimBU4URHL3wo0g5mHHBHttmRrzKbuOjid62ps/pY7S6BRpJCDmVx7jaKbqVOyWhd42KRoJhayDVD0w2jUzOf9c2G/CMCVLOlYarCGJmoBTGGixQJa3D4N/PIjreuaRZ8q0tsqR4Prdbf4/nXPH6tZbr63L6jNE3E6IdV+xYnmsbtqqFb+qCZBa3/mOOyECLztlGFrk1CyYi5B0XhTuPIoltqh5JkxVAqgbOIUIhQZWCZPzZYVTceB9uG2KpwLPl6zWoHykScKbUHmTBpRFQntoyWD/7EFo5m8CU8PT3b6iVYEUTyYFrkMohPRoq0b6Q00qlAJAD14Iy9ssHRNDhUui8opqCR5aBA5Ishuw7WspJKi+YCb5UA5+V7NYEAKXifYgEKBn4v+0E6Z0dEC4agPwEiFBjYByKj7iPGAWdzjl6RI5UEQoIIfhTPsE4QNhRB8rhCVwGIBh+fTnQ0htvAKXdJ2K1cJS8Dt0TyOI/QvZYecPThQ3p7x9Ak5ZCdZsGmCmw6VOu1rywo7GfyPtk5Msa6EEEIrWmEB6Qr66Mn53l1UlLewIZMV2TIEqogReqoOwEkCaIXwW1GFYI8zEJrmvZDntZ63dHK6ssWOoZy/P6vifzgvPfFpjC3rIi/2QMVS32g1225bp7lrFm1bJ170lcqfJsTGHDALDaOSCQ5voTOAIYDOc6rg6EAYTrN4PBw6ZHyl6a9e4wV/aa+Qm48l30yhe/mxpOCQ60eDTkRAN+EKT1U+VRGSXsvFsgiANRJwmOgnrICxKXWoFUiOSPSkzZVRVLFQB5jfazcQq4a00Nm82nUEG9E08Tk5w8/KtrKo9JI3U64i54E91uUd1VtJZBlqjie1R5yqQ3t4vD6/weKT/OrcOUQCSilQMBCusXkgKjFW3aDm6O41qO0B6uNm8diSpGjIJSYKQIere3ehMJPgcc6SHgIxuiB4tLPts+xtY2BKlPMhD/AqLS2+qoRUliKiwQ4FJxKq9hDuSILe3SqPrQJdBGAWBSZMkS5JZrb9368F3Xn/7h++/sz85qE9mcRSPNjfPXTj/kWc/9Jnnbrxw+fxQinq5yOs6iLQMJK4J2VSeUwTMHdHhLtrAMjqcpVkNb8/c0pE66H+4yrrai0DE3XWlrNXt+J9ak4oDJ9hCFKdhmWuPwdq/OteIT5QRwQGEUpLyzweAwGFvJbr4OpIg0gZvf7PIHiTFILJDVWAq+kzx4cCOZkEbnQiphCiHDXWaIbAeNFetT8XtCoo2GjsPgynRGf/Ni1n1lGFlRJWNtopC5KK+fTR9/Z23f+9r//qlr399uf8grBdCB3EotDGVDkppRBqNzj3z8c/+zJ/72S985YufeWbcS4q61DLXdYyHYB3HpQHwpeH0I9rYWmQPD2ouR0v4j7bK5e93Q53WZDzN1llDwbBsrFXb1fofJOubKTkqccT68ne+16jbzQh0exrk2GgN1GoDbBO4gZJvl8ZLbLOFTaAWZ99mOTbO119K/BXMke6ZJpiSCL99Ip2TtwOFkI1izXwGe+l9xKlDsBRQYAc6FKFSSobiSVH/yh9+47uv/FBV+v57P967956ZnvRjEUexMFIHQWEUws0qNoGsA2XKaV0Uva0rH/3EL/21v/I//pmf3Yj17rCvliXLYnsRkM4HKuRtIKcSjWktJ/OUKo9uT9nXVXbom+E+uzoN+bOijxfQx3Sa77TF91oC9Z9PJoi/X5YEv/1dp2RZP4DD0xnExSVjg6NNgqElQRLixEU8TNXSIsHF1q4Al4GlBDy4lgRJSbQDhYf74AveQF8GfCVcBRctFrqqNbKiT1zSDYT1A14sHaIeotVc1//Z3/m7//Qf/sMhRjPIKI6TxJhIBzWIfy2MqWujY+TJoDGLsMIpxCZUi7zsDzef/fDmxs7f+l//jc989NmiKoWMnb0mbNyDPQgBQSxrqWfV4PB1qtXvrEpA/5k/IQniaNtxFcEpGLtPVWslu7OCOwwbBDGACQheNOcLtkkArCFBJbT2bIPeOaQXuBIr+sAPLNkJdDeDZDHk0kJeY2fSEJu/fArhEn8x0HBlfMdT0ZHOLUDgY+5MqRqjZoDWYDxsmpLpAsoghp/gwBuy5tth3BrI0MwnJ29856VRoLPBAOAi/GZtCrBRjEAkxcgwpDGjawZxC5iyiAb9yFTFOz/68Xz+2x965ks/9R/nx090GEh3gEmtsjp2yGhHo210EPsVBtPS69cSUIdiOkik74JbpUsHvXZIZ41TcQUS8vlcJ+JmLR5Of2VQpnOS0K3VmifKOEtiHbsJLwL57ITt9NYoH0gmFtl3H/G6tL/qLH8C5/wZrIuqYt/92i0hVg2ngjXV5u1umaSG11RR+ubt9ythwjiulQoMWNzE7VhQWo8NMVVeMftYrSGAS8bxxnD8gx++8sNb7968dEUWJcSEtUmktZfBWdfaPXL3rk7W7dqqL8RdbhO7a7hu9Xze3Pmvu9FBEz5VrFUG3Njo99Y4Ou8myKMZpRPW9vK/LyXzF14g5yrtLidbLy6Oo3njusl37Pm1a9SMZ+0L7WzB9+bJjc4XgM8FRibhe/t7/6f/63++d/9BHIiNXj+OY141AODhCtGDJ8ipZi+BVMjauzGqroUJ3vzhq3/zb/3tvdkslE2QXOeloR2NH2W1OseOKtZZGbbovaUgJuSzpc6l7dV52lqHx2k06t7rKLUT2dD5go/g0mjBdaFDzT8EWLSlNdKKRr8FeUEwsgqv7lhBOpEIZpylxeeR2EkJ17BZQptQhxq3DriKJPc78BKJUhIEY6DBOSFD6V7XXNpo4FDg1HGnBUMuQXxDqAvaR+Dm8c8M0Qfqme4HQxjBJ1EHOpLxb/zzX338xo9KE2RxvLs9Iu8GW/zA38Gi9zyEdodC7weMblWbOsvkay/9yX/zX/09HcWhVqAf4PpKiC6j+AnjSLL5IcXUBpAiD4YgSxMqiEjzvM/2aDUBNW4pVh3HHfLt/N5VabwxdL6zlqBX/X6OHN3i+4qTT5cNzdJsOYShe/5QhXYn1UZKtwfUUZaBI9AcFPIfb6k5nBiJxpI+mImgqdvlg/1qwTvty7mx24yjgTqIZskM4hX0J9U6qXx6Eh2VYfj5Z678xQ9dHheT0aB/PC2KogiDIKFoQuZX+ExC+KS0K9Yssf+eQZr81j/71e+89CfZYFgrRiWJdugXpdT6CXpPIxgB4jhtnIvPTvyXrspH98+z+dlp4v7sWz74tUqI7nUNCRLfUkrR9No8c72U/CDvlVKCwGoZcvAPFNxMxxRORz9nHzV8Kv8XXS3rvtAof+Qdaa5VMmlZmqFWdfncxd3/5V/42f/gz3w50MWT2VSGYRqJvpCS/bb4HCkCGXqL1xqIA5arWomgzhfH/90/+seLKhAy0ap2ED2xl9DTnLqDZJkagigwkdBSaNCJO+xkdU4OjvYvx1zOWN5VvfA0CetPdi1vW33y6sMtz/OC17UCTFxIjBXl4aLaY0hO2+gphspb7yKCwCA2pzQiro6oX6NKGky4YL+FN0SnaHJIHrpMSHKzy6Txu/NMzFnR6hBYRdLfl0f2x4sFhdFpY2oFLo1iMnn03jvp7mDzmXOmLrfiKI60xGwYYtm03HBM4f9CfAmzcFgpXi8MrkHqUrVK4/hPXvr2n7z83TRLARQkTdIOWHgqPCKpFqixx7IdH94liA5VNbqdS8SwKH5HqjIK0MD2vJQdFctReYfsVtmQex2JnQ59uACZ5mRZx11r4dwGupNFngR6FOAV5Aeh4AmWvO5tKoTAGOsqQ1qkFQdYEX0JnMACZMY4YaPJNkTkAZT4HIgebSyYhvIaHoAwEEX2cIw2KltSiMgaSax22MnS+0FZ1Br4PipzVRIf7++Pqirpbfz40aPFfF7WpS6rfLY8yfO6FRaFlg3iSBDVa6yKiD8IESLxk2cxDJfzk3/1r36DhgpmDN5iNUO8cLVZLjgHnPX1sNZoXUFGGyesVrU9K1gQFLN3dOFAdsbAP0A51orcMx0qcbxzrbXaxSB5rIwy+bTbQk48A4h+aXJHcCH4b81SO6HS0Cd9kezBJnbXRjP558OqMuvRmT/1ZWfl+Ulbf/aOrDMJnbDg3wkatlGoEEAmpF7W+7dv331wZ/rWgZyV1wbDd46ntYZwmFKEIo3jKLHeLsuqPLbi64AN/omviuP45Ze++/Dhg4vnztdltQbM0yB/OFXAW+Qm3pAi2oRQmAXnkKYOHTST9UKE12iB9jjzsWc0wThkoxMy02GE3dCkTpZQ21+w+nlHkW0EfFdHsiu4Rntqvt/deN86cyzyNGjqT3s1247WYlserzt2Pttn29mOE2QorrIU8v7Dx//gN3/ljddevzoYvHBt+/r57SiKe4lMUxlGCOpohYwFAlpBnmKuCRlmKIn5cnvmUI5Iyof3H7z6wx/KJKYsnu6UjI1HbEWnN/HRzfFGZuwIxcNl3UtR1RYiEhAR6SNH/pPhr/jT1kQZg+vopn7mpU8qvLNt+iMO3qYEHxprwUCwOF6UItitFKBK/BkpFLwIFLcSUYoUSkUhILiDHRhW/+URW/XLPwAQImodE47XagwexbVsIv6tX7jx+Pp4GSuRyH2VqGDwYSgUPAMAJnJP49MjS1ugSMDwYVwGIBhektaGBIFM4q9/84+++41vfOnDN0KZnr+03X/7/kYv3cxCXdUHhapkXJug1MLEUoVaVToQdQTIEVIKwte06FKSRwEWQoEfBUaf54s7d+6HIlCmAi8KMj3h4cOE0Vk6wyVFXRojDWGdEVfndW4dM6ed0LLhkYNdIgbvQaeOpIA+QFGFaGXS90lcY8SKhixr6xv1OdmqmwRzxPjVQBWIYyh0FpFHFDM/mFj9MfhMtDmyeJSbQNW2CoWRO6h1n2axrpOJ/KYOau2DTE5a2RyiRmT4HGX1dUhEqP8xwXf1lRbkZpHYlUfwrGkclzayr1y6tjsY7hu9tXP55tb2hswvjzc/dvPmxY1xYFQkRCaDpCxFpYQMezoSGJ3TUn8aDRUoDOxoJJ8wDIuypBgfcj75/Ft4INcZMJ4nlE6xatF35ejYl87+SrZ0uGY72qv7gS5/zdu3nP6Ajn7JDNafF59ml4rucVHL59asAqkTq0ghMNEVnuwtjdsMtt7snc1JaDldnD0VCmmkwJ/TjgSTnT1F7vx03J1kRdR19YUvfuVzX/5KL47yx/v5svzSFz//C88/26sngalMrw+gSmg2YtmPxCBQvcV8rirA9Bw6YPUAl5hCOF6tFFVrwCi1xqRdC3MYB7JYonTLfuqW+rdbLm+NvBaj7e6Xe+fKc+gIPV2B94IIPfNhvf9szSvwisBGw8XhJcQHM6xgM5s6BKQhCpXYF1kpOFx0fxGOg/KADAaWBWghdh2ODkRBYcloNEtpPgVdWdCySdERQ3abW5DOElsTmUVc8xywyvl9oVbSGCXE0aOHd95/56iubw7HKp/tXr36b/2bf20+eXzr0cHhN1+e9dOlqtM0vpHJn71y9ebuxX/06mu/vXeUJn3Alykt2qbp07pUgRnKeHfQ258foX8J3TGOO+EcBAcUwlFxs/VPCSx4y/xflTiNFshLaoUXKYhWzjbU2RIa4M/RkDZkSU4DAsUmaSuiu8U77DpbxKyx9ogM7OjX0G37CQxQMYjElhfujYvJX32EF+thdWXUIe0POc0cgbUzqjwSaewzGAghGw4ifIokwF2ieJz1g6RFJ80QE4X8ZHKgPzw54KAMRZilxeP9/uP7v/ixF3ZkEqdRFAtVleFovPPsR849cyMejLM4fSZLP7Mp//zHL33yxRtf+dzH/uZf+uWPxXGucoXRbBKCuCm+gyEaqXQu6n//P/4P/+2//JfHdbnVi13BF294oa/9OHzKB6patrZFl9rixhotbZiQVKu2oGspZBZa813m7PhZkz7kD8M+UIJTy+eoPsjojcT7paMGdNOXVhn+U3wV9mpqODDs3IQhcKze6VzdaQAszlgONPFUp4zhrIH5Z52BwJZ9xN8BlhNF+eRk+fpr/bAOrp3/bFlsbvWSXipjEacR0FUspaouJvLf+NLnnj/fz4SZHi7uqPzi1Yt/5fkPv//mj5aBiED5t+akTTutQ/Plj36iOFxc+8Qn/nf/2//N5z/3+aquqMYQyNkG6zSOQdFUV9XBZgv9sNyG69hEa/tlDhZGrtzxOa3f4jbt+HK1RVgrFLxOQLX4XMt2xsvH1Vs1ZTpjOi0z5dTLGz2HGVLurhO3Z9/tolhdIn5TDGLdBYPThKms/Tvi4V5ONMEWls24q5LGFLP5mz/eMHko5XFttgajjY3BcDROslQmSZL1tjaHL1wcfejjH/nqX/pqHYRhaeY//G5gUp2lP/XJj3z88OjlB0eVBBtdSkAYIKuOcn1rMxHy9cMDc7/48z/7M+evXi+KgnAQO+uAN9Flzj1tjTmfo60dctkQ1GvZyLVLCVrROgHqrzw/iwbC72mZLN4mrdu4DxDXc5q+DiSoQo0YP5cDW+uK4e/TKcdiYeCyCyF4xqEk6NSDCzAQEjZWpaUqM/bhnMVGJdvc0lJ8NRj5NtIU4R7WBzGiBi4InuHBoPKJ8EbUaC2N8oFBNPRPzlaht3pLQ9xantx6Sxw9UGlW5ao8yfuDZDjaGGRDCHWOUxWaNBt99ct/ZuvSBT3eNHX91v03l7XaieKiyLevXv7MC8/98NG3dJTVlQad0EFxJkii6PsvffvVV17+6pe/sjXoFVUeZ4lTi8FKEyhR0WfCw6YgfrfkdhfcNqg2aEC76Ec6EGvvPKH11xWacBY0lrpDh6yAzGgmUCdSbMofH4YVtGXVcHS0vZZHMugYnHm5qDJfkVpzsWZjS4K0V82NuPOhB4g2l3eLEGAtyaZOU/tyk2SLu+N1ftoFDt8oWj5+XL791kaoVTHLj54Io9LRAOsjhKCkIKZYKzHavCCjnjHh4uj43nd+GM2UVrU8nvWS8DMv3Dg3SAJduyIBfhWL0WBgyurk8LDX64EaKKVbSd/aVViJSPn5IB/s8tE+h+ycBiM87VFetNTp/OxUE+GUqxOd0IaBPFvyjBlaEGTde71oBeL/HqLf5r2+yX7K7Z2pAtdlM/GUQXZIsBXG8JSL3SNah3G4ULO3fvyGqVQQ1mkc9eI0DiXUR4ijui4X88lsOSshmisSJlw+3r+xufPsxz8WLsrpYjIXZmc02h2PCWKXeDkmR8CWMMHzzz6XpInSyoAzNlhVkowLoLDm7VpiWrMDHuzsF937oAvR8oXYf9pQNzdOPxbQc+Z9oGsVg4QSHB5OJwQdeeSxVE0CjVP8m4WvuOyGjQaggm8QPGyTcZoCLC5Sr11glGIOyeh1s1aBopBVl8jLQf8uIgFzzDgFnSIWbFwouFvwvzAA9OCghIdSJIrVPncbhwQAV3WqNNCLUEr3tzZv/PxfPBht/84ffePh/qEcJHEMjAreVKu6KpQqIqXy5bwMdRWK3va5neefH27u9OI4T01va1gGwaLU6BCDAQshogh9Y6gqlMbEWfqJj36MFtIIBaa4RSKCRjh4P20s0P2345n1qc2zdWEJcDGezgW7VI6hnU5vd+NC3JRLkJDfjBKE/BgIn2X68E2DjnkXYn7Ne5uYOwogon326dd7UBPYZcOEO+VOvZPVQRPB8cNpys1X1saqs1riJZihuecCI/wfiMShGg2YtOGrDR5fsTiZn/HEQISplIgvPB9ef/7bdx/mSos4kmkkk0gbVeTzWlV1pUQkg0BHoVbL3ARhWRdPbt86rpbjZ54dnLv2xt1H08VCQgKWiYDyaMXJDje6WNy4cvHjH31eiKjXx7BDSwstGgrOCtzvcJHOJy3aIuXZpl2u3tLeotZDfDL16Abcs1Rfz6mrtLAURPVURGWtLUJvok+tM6cBjVvFGH8yo/jMa5VU/QIlZ0uQVWSLv+sVFz7tvTZOsaFCxmLw80gEi+O9jX4sRXX/4DGYq5EMYhEYnReL+XwmZJyOh6PNkQhVXczLYn50tHeyPNn40I2NqzePTpav/fhtEUeh4uR/ErQImEFEdRzKP/8Lv7B98XycpFGceFoi20aBXYozeJUP6fuEtTb+A06kOGsZT1su93Z/0x3afNoK+4aFI1zfrXzGSaBPPTUL1SlyZFmwsonlWbUuvBBRCkVdja1eM3lSAWxIoPMCMV9YYQfMrdBDjz/tV/BO2HBrfyebLwFghxZNR7ThH+taHx9Nzl+4+me/8gsPHzyo6rpWpijzuq610cvlolZGi6AsiyrPhVKj0fDiszd3X/hwdvFcEOugmkVqnoogiiKQWaDI4IMp10FGykTv339ciSRL+yKQGNPgYDz2Z3xA1c0n3NZm+Ao0hRHZY7BKVd0QB6dKWomxsnMO9/aU7cb6XDPIU531qzOiON+GwaBeReGk6DqgKIfWfK3UQG2RVhtdTmA5QBAKlQs+9QiyfIZkXK6yRpIUFUsAepy66QAcLt8HOZKICnnnqTlgFstouAKG1VLCFIUkuUjVxnLCW+uyVPNpbeTlyzcujwfzxTRfFvPF7Gg2nc3ny3xxPNmfT4+lUUFdKV2p0IgsDZM0MJEWerQ5/OmPPX++H0Pwq1IUXkLhn7hFOunFf/hH33zr3VtZNrQBWRQThUWPQ84GWFmlBrlYZf0uFLyT6EOlLGpTK8OtDPxnrsYr2NWzIexhCIX1mhLoTD2MG1n5S+KDY3HXKXx+kbgOFsNURHaP//xVzoHB+taN6dHfGbJyPdnZpDLvHaEw/NOJkHC2LQ/dH4/HAla1IlcwuUEoMJLevdPfKgf001tkEmX9JIE2F+Xl61eLKp/PZ/tP9g6OD2aLxfHRydHh/uN7d8pyXoWllkqpQlUFVnaLVQma43PPXL95bvvyqC+VWuZ5rZtYFYDZQjGbTX/7t3/bxKHCqEQSPx3VQrehnI7Y/eAL/tQ96pC1LS6OK2NLyJx6L5KdsyWa9fc2rqM5nD0eHoP/gdtRAhSs+v+nvxx/8t/qoufdofQ34LSxetuzBo5fvaWT99mxrtxkoyjZ3rmQjja2P/TcLB0eLKqiKsO6MnV5PJvuzWcPD08m0/xwns9KSK0pS10VWA3YqECWS1FcuLz1b/zM525uZj1TJkFVVTkzAFTLVF33e/2v/9Effe8Hr6T9TNW1O9irwzNtXa2DqH2Q66m73uJ/bGU7tHkFSmtfoFl4EK/Da9ag3B8kDW2tjxi4ArvF0D/bVGBpTdKPNwEBisMCkxBQdQSxydUD1hSSOSmX9FYfvmPjl4IUmgk4w6iJVLWoARbCJ/gb4RgOeKZa/yxNWHGxO9EyzD26t+/SGtxqYRj38jguj442Bn3ZS+ollHeTAFopoXW1KKu+0oOgrhXkWEDgQ2hUHdQq6o+2z29+8RPX+v30R/f233h8VOYySiPQTWiM0hwdP/nVX/nVz33yE6jWQoYYBXMq64FwhflR9bB8QbhcpCb4z5UOX5tnTsmKjnJXfc1N/LOryu5tCFd6doGo1jtCG2dN/YYGusLHC8pnNd17jhsEtBUhPyMiPmt8xAQArVpGTyVtUK107VyUTuqvAJmrx5optoOb+2qfrc+7zua3b++o9oT/rbfF7C8UvJxkyXQ6e/zg0W4cTE4W0UDPFtVsmkfSbA56O4ONUEpVllVZlnkeI2QtTQ0JH8jsBhsbn/vkJ6/uHN68+N726++89Wh2XFcm6kOqYKBrVWdp/PU//IMfvPrXP/upT+SLhTO1gnZ660/qdVjFoinHT1DDizbs0tIFvZe1MZ31fuTVV3d+h5B1W3ijxbydbe7dg61jUP3Az9aHKbi7VoGizghaXyAa8becD/fTRAnjhU3x7hW4weqT64rkra4I/dYqV7fOWGMGo3Xa74le+vjgiRr1ch1FyzJfVlWtxuNMxJGJwGoqy2oxm0MVCBlBYxVRhwADJpUukjQd7mxfSQZiqII42Xj74Zt7T24f52GSUeiaEMHk+PCf/tpvffKTn/aPSLDu8gC4P821NtS8Q1iOn3Ve00jYp73FUV5Hz/kgFzEbpzyeQoLrPDB+lK/b1s4hw3FQO6+G+9rMaiZH+w9bYJALkVJJRc/j5GVrUkjkCvlZ5u94rUdw2IuN4Hb6iBNimlXwljIvit1zu+evX/vRK9/b7m1EooqTKItTY+pIaKPC0camVvVscjLMhibBUseQvxQpoWUSiTgDKK4yw3iwG2U7w95ltVXk+7eODnV/kCWxMGG/1/va137vr//Vf/OnPv6RYrl0rvQALwaVeLEIuVlTvrtV291jfj7VNjjBKvtoYmHIqG1qgfqr0b1cEalVSmpLYfe5+x2jOTlYiYE321cL+2vAv/0GYHwBusFuk1NUWnSxYlVlQFL4uVw6yjXIaHA4WlAXB6QwAw3/4fVmIXPL+9B5R6z6iEpmM3/4i9JKhlQ2zb6W6Q2TlVAXcdGptE70XadCYwCPCJVOo/hn/8Jf3tm9tHxyUMyOA51vbe8kaTqbHNY1hHTBwa0UGMXgLShR1YMHRlmia6OrQkbBYDi8sjtalrOTKv/pv/ZXbj24/au/+fvTSSDiftxPFoe3/v5/9w8/8bf/VlMaMWiwCTtnLK3XAAar9NAtmdURAsriCY2ixvnM8I+m1D0Jca8CcYu8vM8ooIfxDdKxbX2ojs3kiLLRENZVt2JewnUpPS5oM9ZpJtCjAcyJxpnZPEkKQXo0EaO1iRwm5zL0vYWzpbRcLx3HJ9H6fkq03KphYUvy0e0tC4P+G5EeTVRnu0KtewsUZIpk3OsNhzuXv/BzvxgbpcoKGosmUSjCYv/++698WxXFeGOzWhaqrnRdGJNoXYsogmBWMJ8xWkoESZYMx6NnVH53Mk1G/b/xH/3vv/LTX/361373nbd/nJtg6/rln76yExSLQEYdKWx89swFB88CBzqCr2NKdxHBFQ7mcc2nS3srlIgpMB9pd3Hq8uPVD92XV7NCPUFsn46wlcZoUw6lX6kdxM+Cyri2LYd3JprC6I4uIQDC2ryUGEAFK7zlMD8RCdINHB/lYw2OTxCro3roVhw0i+I/2fqvq3pRFkWlIxGlWqig0qEQye6zg0t7y4e3tgIZRrGuq7quDJQzqKXRMhScFwygAJRblVmqk8HmeOv9N95+9KXpx778M5/5whePJkdZlO1evTrY3l0si1XOE7ZJ5zSZuHYdTlsxK47XqHY/KdDjq48k0FfpvvN8P3iHkFDHcQHEoHwuvLz0KnBvQoIsFFeD6qlQgg3LVeCPNw0FGa7CiAgT8FrZcfZhFLBim+qQlwKhB66ECrVB/NJ3GHZDP65hsYeZQcox1vWjgWGDXT8LED6R1I7T3qLRKsQfqOCL5V+aDHZXRQmkHkjzoKqKUIUxZEuLMKgDVUHhu6AudT44f6WszBxCtoDnQxwrVrqrlSrLPAhVURTLvJzM8pNpOTdxrertUV/nJ2+/+lKh8qO8DsfberSRh8lkqSBVCJLxJJluoYex+bu+uq8+nLS6/fY0GvcD2AdlkdoFh3MF9hTrdp0QQ0oKphudnO3qzRqrfTtuQnGs9OPZQP6omlgvdHm45Hn3auaCHVbUNiPW2VM2sN53YK9Abj5ZIjoI1XfXN4HpkHAnQdVVrqBjTaFX5K2jG6wu3wJ0uOfJuvE4u4RT97lELCEL4De0QWOw6oOtndnOhenioBerRMKKVZUqy7oXp4VWB/uPpyfH57Y2Mqj1pnVUpeMsCargyvjorTdOPvyx/rnLcp6XcZlHcRqnkFWNL4XSHGaNVfFUFrWKtPtJiS2whiWYm76P6DLy4AN27vkw+VOqyTQD5XtOHa2fU0c138m1GFADcqvLeoUaXLRa+wiuOaM2oo98NW7cZ3iTECmkwqReObm2e6CzxO20LMv5XWU/S6auMZVfkqdRR1rgYqvZROebaZqOR6M0Sekm8m1IMLNMKePt514olC6LHBktN1aua3X7vQf5rLq8vTOUUQylgZM4GwwGo0GabQ/6G2H+6EevhrUyCdRUWC4XZbHwNbSwTUatka2Tbs1E/OApXyy6R9keUvwVDiXpPq3LettlKk/bTXJndUJC125rE9DudrFFFcgFHRdGz7otT+4NzH/uKpzh4GDHLztE2SkVQI1bmXZOVyOYeHgEHviOCAyrIzbzAku1d0xvGwNmkSSbpoBumHYFJi5dEkXD8bjX61dlqXSNvBBunS3m8/ki3dzJLlzV929L7DcShLJW4d6t95ezw+euX4yj6O37+2/ce/jyG7eUiD517fJzF4e9odgMw8P9O8tHt8bXr9fLWqiqznOd9riYdzvz39BaWcXLJQW73bK7iNYbRoz62qHV2BAKpYaP9G10mbekU7tElU9wNjbZvqtj5ThnCQF7iIp0PVjtPXWFE+hAgGvIVj5xX2NBzCnpGBxLNdUshNOIuYbbOw+6tW4hZ3bV9m53xNOwr7bQvk/dbeLrPISxLrS7sdBJk/JKeUAO8GrKM1BArSt242OwCAWQKe80D7cDQRDGaZr0eq6gnQmDKM0CiJ6uBldvHDy+VwujqzrScu/xk1TpG1euvP5w9tt/8tL33nzn3t7JcraMTPU7WXLzyuZnn7/52RvXzvXLgztvbD//6f7AxFDkMsVyHmyiG1+KWSzd4QtdTkAVO1c8TmuUMF4kZ1xjcQG7zWtxAc/p6gnQDgqBPTE6RH/21WLznkPWvyIn4LjsInpim3z+NlriV/JvJN0pFSF8jySHfvELTh3rWuUDbE0MNkaCbpQnK2NOzU3sLK5bBTaKVi7ml4oLVNOWxWmWDcbF8iAebQTnL5SLaZDqanG4FOrBbPlrv/bHL71ye3Y4U6aooygdZJmWRa3ffPfovbvzb1x8+DMfe+aTzw2qR+9d/OTn86qKRSxBoT9L2zOeXe9/QnV9JCVOUI+p01fSR0CcRWuXoiXleYNIlJxSzbIzPPcn35u8epdvlHTac/pfi+xboVMB9F4jIxGYJRFEUzeELmRINB9mkOyUPNMj5CwbpxmszuoM5RfMcGg76EJc1z2ldUt3vZwKjtViqeTGyhNozLAZFk0y8N44TmQcKyOG2+fkdJLn6qAwf/Dqa9/5xg8v94K/8cmrF89tH0wXb7/78I9vPXpohE5lLIWpi/fv373zeP+P37j384fqf3b1uc3NHVXVIRRtdec+6C6Fl1PSDMmTs1R5vdV7ydN/OoR7BoLT9eDZt5/xZT8K0Kpvp97Dtc6s/t1hMfw6+v0H331l1eCg1sD4JbDaRBjTgFm02y43tulLM1BfWK8OC1KnAPR2Skmr4s5aZYIuZcfjx0i6r1GYCYlmViFESBBMpw5kc69vDZyChpCAgxY3Sp0cn5zMptXBO+H9e3/04/f/5Te+/aEk+OUvfPSj168MtjaiYU8ZrY4nr7357j/5zut/fOvxIoixeJ0OhIQ4bBH+4i//0n/6n/ztLINwB4V+ARlABOEZm82cA4J1FKWSQZXkleKqK7isBwp6f+WGtFZSG6VA8yfc17Y39+sudBpGrN0dv+otwXbu1U4LXOV/rsM1aUFNsNZaidacRe9I2fao9If1tvNa17VNM7YtDldo1N8Jd+6hRbT3Dl8fdR/6Y0BLjPqEncUpW2zGe2/rO/g1KWWv3w/U8nG28U++8Vvf/s63//KnPvzv/tKXs92NSoeqqooKygjq0cbHPv+Jv3nj+ks/ePW//eZbr58sg0iYWiUxaDu//qu/lpvoP/1P/g8bvbSuS2o8aVYU4k5Tav+vay3KjgBxUPBau9ALj0GQAoLRTwUx1qzV6uf+AnqPOS2Jfe3VdHk446vOfrSgItuaq7nTnYhZ/yG8EPY/3VGvzNaB+36/iY6G0SmRxh7MdtvmU2Z06pRbZVjtme730mSw+fd/9V9/83d/59/7yof+p7/4U0sdHO5P5scnGiq8GWEUNEOspdja/DNf/eLf/ne++pee24yMCiNQdQIRbG/0/uBf/Mb/6j/6D99+eAfgb2KB5nRMamWBCOQ4Yzqr7jJ3derrtVbgbI2mDV19EN9MRwtfU9Cn8/3XX3lt3Ya1bhCC3PSO62B1zjbQZFtscgoZF093UBan6zCg7VleawDtVv1D5gpsINoqHVj/w7HDpnQqpbwgGbmgVW8ijL+QkWSLiLsw4FWVFGQlvEml8fD/+F/+5z/4tf/ff/Dnf/oTH32mlslI9kvIcypAEsnQQFZzGIWxCkUQmawu9g6O/s6vfv0P3nlURklYKxnLLO4dTE++8rM/+3/7z/7P/SzFpG3Dr/a3xNM3eFYu7IXwdjvchjW2i/52xLTfQou0FNphFrieOFpVJVcNlxaT8x13a6nQFlVxI6cHUXlcaojFCuOqseL/EMq4Sp/tlkGOybfTPtyOEte0zSH8GlGrR2QlMcemcQFDgSdAMDIl7Xr2BobTUNslH4uxCTqdd1A7hTPZfx3qUOkg2fiVf/aPLvzopf/if/HXv/yVT/XHW5ujUTRKBuPN8faoN0zi2ESgIYPrLY6gylZuxHhr83/+Fz/36cujWgkpY6WMCs3WaHj7jXeODo6SOLHleILO67ttdHzu0IqXaw7PqhbbzNKqZY3I6qhPp8z9A2Eu9r/iFNtolTp9IMx0whRsZm33sslEEGrA67CiDp86RCed0ej2ttwz1trvdcpsy5i1z6F2xB3h0SyWt2qNhe620CsCyYgiIquu8JT/QFIXlFZp1n/9lZfE+6/9W7/0c+n2yERpmggTVtjkXYleP1KJLqu6KssKal9DtSdlZGiKWp3fHf/bX/2pg19/6U5eg2tS1VJG2lTTyaEx17j6Fl7E5H0+4HK4WvpWe6U623S6a4on2KnLsQb/WpFIa9d5tYKRP54Ws1zZwVUV1laBgo/W6hk8JpxfkzvqeyP8MhSWfzbJxQTAciOSdtoIB89iI+qOhtfRL73feTug9wwAeF0ypd/s4Wu4DI2myVzmYg3dJEh/2jowcdR7fHhw/6Xf/pmbl4JxlsZpfxiJDZn0e2EaRb0kSjMIq9EQyCGTGKrciwA1vTCORR4kz1/a/aVPXEkg6EFWlYpkNKnjX/2dP65RQTSNB82usRsAVY60luMaOrAqxxmUZ6U8p2Pb2AzXln7tbncv/xVn++4cBfvG6Nm8FB3zgJJADLBvWDiVHP8FbfiCQFFarvAokjtU8w85nl3zOCwSj3nkYJxiuE13rEB8nD/jv9pXCjvqCAfzgHRsACcHvmsNCR1Q1wPysiKoZ4BN0ClNBhAWm7ZsZSB1rYGrJcUgagFIVgnxW//4H1wI6nQ8yJJUpKnGwnYKcjgjBRXQatADIzAvaUBRGCYyhrZnMophLfSnX7z52UsbpipDEeuqyjau/dHL9269cyeJZE3ggi91qSEPMciV/ENfP+MycF7xNf9qLzU3smy8+14NoJYEZ+94q2zD2ss/Nu7qqARAPw1w0hI1LXWfOl8iLt0at1dw21qilqWwosb1EJrvAAfoHGWfpm2vzNUT7+IfPT9mmyYcCWLpGLI/qAZyc4vXPNuvFwc6b9tU9JUVf0G94YRlrUbjza/97u/+4Jt/cP7cbhBKKFsEQWpYpYMXAztgQEo65MvHgYhD+BHw71iKWMSxjsV4lP7cx5+9lATS1LFRo+rJwbvf/+Y3/0gkvU4VstVR8aythX6acbCWwXRops231hCrfz31r6ugR6f38Wlz8b9Af6LwGUiiXyVBfCh+ieqUuCNkh7fm0U10QdtEsq1hPmiG9mmgCSHPFH6wuj6NBfIUr5HHSxr6cwOrlY6i+P6Dh//Pv/v/uL417qVg7mJTE60hSIx0Wavr0GigEo1UIqxB58AjHco4SKUcBEJ84pnzX3nuoqkLFSah1lksv/Ptb59MphFBNu3hrS2TsHo9lQQ7fPGDmBcf5GoJ2RUSXD3qq6/uMGDhhW/ahkSeEc0pZqh02dBV6QJI0YuioflvyP81guJAYQ9QBnfrjoD4QGxFQxIJFmJzMA1edaAU/YSQkkF/agZNpeiI+diLxH1takdP4FEgGwh0XQx0NbZAKz8IOvziWLyGdaiu46GEKgh/9+/8ndtvvXrz8iUD8USUaWEMZ6kmYJEDWhWLKJJRCBV+pQilCKFvoq5MqYO6NmUIZTpj0Ys+8bGL1zeivC5UUPeG27f241vvP0ogQ6p1MPxUSDsYbusHY2jr6/7J8V1hHWMRVSKYKAeb2twA/1FM9K04kC4E6x7e6pVO5VaQilxq1So79KlRYsUW7oVgm8F2m1y6fjXWlGy3UuKTKqn7krVekaA9SJ/NFKTUD16ZkyyTVhEdb62dqG3oj0obeCg/tRSF/6Fe2DHzW9vmFQAm5i0l1OwYDAb/+Df+1a/+03/2Cy9cuXShp8MKSgNi7zdOJ2V4CYrVcGMFWC/YJyxyCW2KMTBViVCncZxE8bXNrc9cvzKQJq+XdaQnVfTKa+80bclOaZ/OnXlWtPoO7LLWF9WUfH26+8N71ypavaKae12JYHlpC07zDncGbBuhKvAQEljXGUenF/cqUa97KKpDgcS2bKDv0+ewHwGwCqhN7caHmW30s/aCSj8UtbNqvhCwTAYPTgYa4FBbMu8FuEgsy/yaKT79dZbeEq6qqqqXZbfv3v9v/qv/8tlN8Yuf+tggSsJI4ngJSSV7BdVWZt/4IQTPwWAwDEJLAU5YkAowoyCWcpAkVzeHl/pZtDxJ1UG4vPPdb/7OdDoD8/kUX39bhHkHzOuh1wkg6Nz7E8vfdVgb3b8WwbEByGx0uBGuUa/bVgvtEP3JaVQt3d9X1zqt2n26xBpFIOA8HJhCF7zSXyv1d92qePiI+57x6mtxYjEDCvRfr3Yq9nOrNWoJFmJsqnU1bSZbS8ldahHcxlrWKEXYwQBOIB1K+Q/+8a+c3Hrjr33hhXM7u0BR0I3T1Q1kwysUERwuoLpEyJhyqeIogQpuYK9jh1WtsF6IjNPUJPF4BIa10qIGctVvvPGjd955N00zLofZJMC6teRaeNQ/1getsawnqRoN08LvWjisVbi7WWUPC3erantMr9PRCXZrTJqmFTX5mbhdPMU5uEDFVpcv1xHFXgbVIDcg6Mxj4/WZbaw9Un4L0EYz4+KnBHMAVEeKB/3YjregxfuOYwYTMe0IGCeoKVy7DemDhgxrTDXk0AhgcIeqEePvwMwxttnLAKK6qwSpUQKE5/9AHIZ7dNtYO/gWUApyFR2YJEveu3P3N3/tX3z+ufOffu5GqZZBBAhMqGvQp7CrHIf0homRsQkjbQSkukLuFL0E9gPORQ257mDqgcRO4igZDpJeX4D4WUz7UZzr8Ss//D7Kbd4u10HSuc64dCI3F6ISdw7LECDwIZXbQ5vtgjfhSDhLWzvZkSB1nsStCWoTQG60X9qrUSgZBKHKvg0tW42QIkpxo1wlPhssTLez9uldSILww1I7+MDXKmmu/pWHvmoo+7Py1osbG3tYtMfSzlRhmlLpDdR+msLpeKS7NHAq+PH6KYOpkfZG337pu/ro0c998oVBJqFEDiB90m1gA0xhHVV6IWqFUSBjwMEgRQ2S60AQcxgIrE0swlgEuiqVMmE+jVQuoujWrVuos7Kd3xrtafN2vApYSW2Cuu1hditOpR8JEbSfNbAgL7XlB8xZ17yOsDQr+i3/a8lJu7ONa8CPYrGjbY/O8sWWg24t5tSdFxlTNiygszQNjf5k5n/LTe8STp+qQzfhaGd+zUYkrIRl0dsaAjVxJA4Oj3/9X/zG1c3BCxe3eokMBbDcIgfPW5Ra9wwsLSawNqVLABqEPdeQ4FqpuixLU9VRAighuT5lGKhAPlkGZVkFcT8L58F0b39/O18uoa6X57laE43WnrWdAYodFimra0DQdevzTmVcbxmf7mv1X03lEDroTAvndcQq0WpZ9YN7Smpk40b5HrR0vKNjC9eS/CK1AITROipjWIhCkrl7AacSozwhkKHxCCNKAIHJqL1JV4ZfIyZCDgwA4mBMLXuItocrV7A9REviHUrbdKf5EG0m+33J6pen6/TS/r/43X/9/e999y9+6NyoF4t+mhxL6LYJlacxsziAgYWh1CCXNIpOMLu5rRwKKFUrVRdVBaZN3E9gIlWtTCiipKrVZFnVJpAaYKOolyxmE1VXcZZpVaHGF4dQ/hp3hG0vQvW7sDLaoiH0HWPysZ2FsXMQfQlDUiNccPgrbkezjrDgtnIq3tvSu7Sp+WuY+sjvR16BEfI1MlLO+3biCAVgKwCAyrRg0kkjA10MAGEupzYAc3TnxcV8IPPKiUNsweWwhjavbl8+9TjPqM8Y131/DQbhPulE/Lq7sLgfu1JW750v8t/4F/9cqzrOEhmFaRCOkmxZVSRIQPKBikUtMVjlx3EAYoMTqKlOstbBcjaLwVmMrBFaLUL/7IfT2eF8CuSqNda0DkpTF7qOEOSkLByuQMIruX4iK1NuaqRYjxjX4OWNsDHYHmIWrGJwvpXt25f+N0l8WHc9qdxdpwu+pxVoss7FAH9ybGnNvNbO9QME+HizCjBx3prSHwTup7Gybu5zSz/cwFuLtQ8840/uFZ3DgHUjVdbr/eCHr776/Zd7afL4pFDBQKtwNOpJXZd5Ab5frAfB2dC4ftQHBfpDIQtHzgzEpSqjFmUGFbeslWdMpfRb94+nFXBfyGOHHjiml6QRGvZkM7m2q80yPi1E1CIjEqprKzLT4MePSV+NV11dtK4DsOmY0V5br8rFevO543Reh18231+pKUOjxiYn/iFw/JNUC0wJdY+F7Wgm7Kwf7GrfUkUIMKCAejdia64SKIOiE4tG4vS5qTwGRbkEBdebysXhELt3OhlDF+C0ce5m6tqDcoRcHDwxehCVUVPa/N4f/N5iPh0Nhu/uHd06yr+0Ncx1GQVaVaUyVR3EkCBiFJYTgSR3qheCNcsBCjS1qqHmuamKIoqjwXAcGhHHsoBCovpwmv/o7iF5jgDjgVKtwdZwHEcxVBvD+lEgT31e7mIo7AYTGuavmd0lVpOa/s+8ddAmECIVbUtIq8Y1OR8+52uwXo83OeUetoa9mk0SIDspWb90yTrNwP0nN249/I2Fsk/CpOPBgq7QOIl5iwA1w1sjJm14lN8p2NYWAmnmPgR3AlNE024JESPcXipibsfh2odQLjDV0Ode66RiUn9hG6ljuxVYjmdtpE7aAJGxjKKT2eS7L39XxqAsTrX+l999tayDDOeTLyuqe2S0UapCfyV31yG2RUgjL3Igy6qQmQwAsklA6QPsRH737bsPjmaJJCQTDMxKKSWxTpqtr0h1fRpvqQ2rauEJxH7tQaZADK6jiCCvDWdzc4SoH4u5okLITYS8nV29rKHsJyg5o4lDpmxMiF1cr/3HCvtcxfjcW1poCNvdXjhLe1SruqCPvzRBLqszatAssAn4Z71NQ9H5iLxaBNH7GlMjLzi3dSCMmJtH0A93KnDVTOy4Gu7uzPpKqSiJ7z+4/+DBg0iCgh/F8bd+fOc3fnArTAelViVAzaCEw6Pxv2ALAYoWQZsEijMy2AMWfdHwwDihzhVGQymPRyf5v/7B7TKMMIEUyE1rXWuQ2FDl2uM5qzKuha47QqT2Eg1ltnb3NKF7hjBejSRYSwM/0eVDjOvxZvxOB5SxVrfVau2OtwjZM1a6NGot9XX1eN0rnPiwLtrW5LktDCJvVtVxe2QFEKkprpCxJbJ2uo8r0rnGNLGPgQxRpaSUd+7cmc/naZJoZaJQ5SL++7//0vZ2/7ndfpWXlVoonSiQswqKXEoYBxA9R9saBQYonIlaQ/ZIHEdYzFPFpqwC8Wtff/mNhycmyqp6Cc1rceChMQmGRoAR68LK2ZKAgbVSKqGEKIkz/rMtUsogtr8FHGOycsDRviYXQ1OTpoFa1tcRWLuTZ15kvrVxpfWKO3656Y+NEQwR/sCZph/k41AZDVM2uJRCc0CwEhh+2CovSalMnRHYQaAsph/LPzjuBn8RsNbwQ3o14jYEuYPnQ4PjC5YQ3eO2eX2rvznFJbS2h6u8YZV8L62JT6dE/fL46BjyzJFqSwPFn46Wxf/917716oN5FoemKjWEHECkVgUtbiDKRutSQ0wPmKHAFGm6sCYY4AKakY6y5A+/9+Y//dabWohAFci4efFc7XxjFQ5ULYIQzIraL40Hsb0Udw58HhYNQCXPcQrtC8k8cryHGtnA+nkhoRhyBph8WGuCtVH7dPzFOUjItAeRxYlGTT4a97NgIe3FDwDkQ4GnXgkhnyxPwTvZcrbqFm+uz4QdzIaRchTjdObFirrXv75rRXnWzIpfvJMGunpjMwcXXuDB912AvV1L2R9lC0HFcAdHDVhbMdRxfG82+//8y68/WmiIt6grUxWmLgJTBWVp6pJTYkjjhhswvEyHlYm1FCoUW0n87dce/Be/9p1pWYHlazVe2E5tkihaLpdVVbX5AogmiAHD2qH+BtI2+Ivgjf8DOgOsOseQCpCLU7b9YBS32h2TtgNukPvHe/gHgrg7ly+eLXOi2Li2okENWC2NPuWy7Vh9y9xLmm2Mo5ah1J5qN0FmVfHxqxk1DMNbgjPACKd0UPqMUmpjczNNUzuAIDAQCZjE2fE8P5otTJIWQVXWS1lX4WIZVCUGRjpGhTwKOJeRBgKVTGiS/vg3v//e3/6Hv3FvUgqZELOkBAbItqvqQAfz+byqKhfsA5YNMG0steBbimh20VnzV8wtZhMTcPZlFWz8f1gUFgmdbLuVLejSUxMt394RXwCuMhTf2FjZBa+4m9XMoM45wiENq0MOzPUeaK2xfBiZWmEAzXP4cQ4RRN85yiEb+QcQCXwHHubc2E17Ek8d4ZK81ofNogErGQJhU6FsepAtC9OpMu0WAgUtqP4QTQllWLEsW6NuYgQqus+UUlcuXhr0erPZXEQSGtMoiF6IA4FmRRwZoepKybAuCuyUI6DzAxAMym5Aa5RSlVZVZQoZ6yTp//e//9Lf/Y1vHS+qGB1w0AtMQUl4UsuhRkeaqlrVdQ1GDG85677W3+/SYshfAngZgBY2pqHjVkbnBfsMnaDg7HcKikFfJtK3+1/36oggBisw6JOCJRWoM27XqBgcK178BGeNe+EsWFQXaUagMuRpaLayFoE6Lsa5QYFx11z2Oav3FiH03DotfkZZOdSRHN/M6An3UT5VlNtQeMbqsIQgxnU3EAMPhHo9WJylK4ksb3B8EbswW2OGX+WwwVBUZXn+/PlrV6+9/vrr2H0YKkag0VpjJcvQlHUVFnUQVmBAQHB3GCRBkOHzlAmqwECNDlVXdVUcT8u/97vf/J2XXl6GaRrFijy5DnJDEAfq4GCEoqCiddbDTpiaH/XUWp7GRXAax7Mfk4gg54r7Lls7rg9ha7k6G+H+aIFGYAGew8B7oSfQ+GbrvqeMD9vlg9ScrmsDz58FK9dNeo3lb0eRBEG81tJvauA5DReJDwtzrpfjBAaBht640q3UXlt8xotQcr6gToERkv0uxHxtlVWnVCVJ8vGPf5wLGWITaAwFjDVAd2hmYLcHVVbwCxxYEejIpg5CRTjgLgpylt68s/fff+vVZdQPja6BmxpVK/JbaUy0g+cDIbIXq72+1IO6qxzz7lkXWTsPbM0WeI9rbZt9kmV1K9DJ6k67W0j4+Jhi643eeiqlmuApF87oqKOtOIEYRYaARg+B67ZbsL3fdiHz6lMS6uy6MvqURN5hEnYKDC5XkY2Prnt8a3X46NtCC14pRQwWZdFpKwERs7QYhmdzdIB4b6G9dfC0aXKxaQVG2LPP3pRRBL9DVwu0vCF8grwLYEqC0Q78XBodAWWZUggKmBXg1leAOisFpnQqtYQ4FslQvE8lqGxEAvSDLMuiKHKNM9iEp++vKk+IANiSvU9R+wim4cJ+zXq7oBWrSq6P9Frb9sZjjN3voDXduFua53M1PSYfprwOFwJDzaJSNvAB4y6tPeCqh0CsKIXMh0GEkJUNL/UVwXZZMWkwHAOL+9ICQ6NE8vF5CjDGt1Z4akKIm/EqvvOucOtDcIThH+CxEO2HdCut5l7X9WonXEglRjbsNemz5fk46ADwnlLVWzubSZaUJYSYUNaBgnACXZe10bXE+rkCOinhmEHHqGtAA3UQ1FJo+CZ4m9VsMqtriKom+rPSj8NpaIuoWe1oOIrjWCmu0dMoUt4yNmeJpkY07UUhtMmBacIpiWhwYZkxDCtuMAIkGWUVgE6cmFtDQuLIhCay9tW4xqEHWRQ+5szBiByyirtA/IoQzxYJNpZX+6TSfyllF8ckEPqCrcQqBi5WlOew9kLds4lPoSMI8BRWtvNHLENw6cNkV5raYw4cej5sM0SGA1aiOXyW7Lk7rQPbmyB4MpwSjXuDFc+zOIqXeSWpxCdMTQLZKnABR5GA7OAwwjgtFUNviDgIagriJsgKgl+UOVmWUoZGqxojg2HnEON0y8xFY41JszSCdJPm0K4qPWy2I5v0bfxV4eN+Py1Wwwd6VjfNDzJwCFeLyPghDMCuvKLZBkfnTgpbmUbJZs2jKExhzVOwgRtZHI2XENt9Efzp4YUt66lhh/QcV2SyZahjDEOr9BEYueDtB6a9omlgDIEGwnW1iPGmhgQbF1wDknmCGAzQTr9jIAtCO616GkXgz7AGELU4IzTEgIUsauyhbu1RSDIxENEK8hRBFgzBCMKwqKon0yXb4jaIo7XTdqhhEI5GI+CGNiLrjNgfl6LbmBZnOkLXXlQRilsQuqqhbey2I0M6G8pjsIvZVq+9OdrpNJghP4TDE9yHYBH7QLG731anYMWV0CBHjC6IzUePHC+0KSD8NrLnyf7jKawcQMpjwHA8kLQdTc6AjwTDUfDfGDUDWSPgFcO0PT9iHJeRiMGCbRj70+ETBHJgOgRwKHSRyCRKIxGJIIfDRkkrRiQm6EcYKg0BwCCRwzCO4L0xpUygjaVMXdaFEpXO8/pongM8GMQSBB02hCWBYGUTlreExdnYHIsohAx321u5GWHLMnApL/6yuGPf6F4I2lBgPSi4lOWEbINAXYTVYMaejUd6Bad7Ye0yLsmK4toLWFzlLytFPKzKH8LWNE0D26ggltxpAuOjtSatGx5oEVa0nxa7+kGgec8CO/07FujraJY2dteuFD+PlV7C9dtrxEvU3LJaxdvDr6gZlZRRlmaIVBNejRVIMYY5QfBURhRZYQIRKYjyCaGZEQp08omCNA/M0XR5NFtiIAJozzQ26NqH6gtxDsi1i6EN3XA4wCrFFtVrSzfe4FbYO68JZgdb71w3J8EiCiv7yYpie4vXX1ay+et2Wmqw5T4eR2zvVgfJcZYoLtG6ltjsZ+ZvY6st1GmaqsJdNuafgO4fXOAjt9p42rUiRlsajx+quEZk0wnEW6DNEz3B66bSCGJCajyxGEXRfLEo8pxgEaiLEAa1MlESyQQLy0LXwxByijlxCdgwslLgkblWtarCUN0/OjkpK8jstPTnYyfuRAkh+lnv5jPXAwU6BoNv7sj5YE2ra7a/sKCAegDDqddqxJNPgqsgWcMf21b5WiV1bVwtqNIWWTnjooGc1RIbX+IEqkX7WkO0rgxcb5uy5zqCOFbDHUEawH31LbYhg6VocKi7ho+WgNqVBa0s4a1yajhrxGvYgAaomV0QRBG0AYBHCnF4dFTWVRxBaCp46ECTU1KEWexql0PKcIg2eASByhA8CGUIAfwDx6Y26v6TI1WFMgrxIaTpwYWIF0wUXLN4Msej0ZXLlwH4Btd7tywVbrAN+vUywsD5hwouFSRxy2dJolkQTzWyrhTPYGgUMr/TPT66ST923hG+aU0KpS+d2Yh1bX1PIUEOmGXSQgedT8gdNg0xQi4M0m65Vth9HqzsJmkULX8TaCwY4kECNoCFKqlR32sv7YiXm4L8PLwKkxQt+6KFIFilqZ3VrK+13920sUUdyKd2ZQkOaUDJa9eOPkX08cHDB1Vdx0mC7kmMLQl1T6Z9manQRIGi4q4cHBxCT0Eb/YTldGpd1ObJyTxQWkhVYiJH49VFHYsKEUdCaqV2z++ORkM4uEIS1uxLGJsUbLemITML0+JWWPWejz6Yc165c652QtafDQ7mh1M5AOyF20huXF3FumJbW/Rp3KO/TmVzciVgMD0Ht/iUyvQDL4UzTyymywUZC1xDuriIApIetIF+qbxGVhFxOfPeMCkE65QWLfZCBzwbeo4oAcfxVVKoc2A9JZ7x0eyW9ZlymRjcEz8t3OpMGHzkKfXCYmNa6bt37/prTWBKDxcZwwElVAyEOHs2HWA1uK+V0bXWdXg8ze8/mehIQNY7a5MWZECFmhrXxEkSRdGFCxd6fXi83zmj5e1YJ12Z5my7TF9cUnKjDVC3nAnNeqdq2y5zKKoo+o4daHbHcF4WxsWhOZDxzAgVt/O+82Pt1jtNiyLX/EK/jbxbSzNc5QDu5E6KhKnxeQQQQwCLaF2srFDJUIuotnRKJzv8uA8ppEMN/Di20+bPR4EqT6ERSk1HXVynNzsaEs+IPhVCVFX15MkTfztpRUQMnTMlGoa1NlIFULTDVrTmKDFVg2NEiAfHk/cPjzEEjwo0NMSEhIwuFiGTJBZCXL1yFXDpWgEe5NnrT9XtvJ1seJ59XWPQWOGAR5IbS1vVlytZCgVpOY0506BaVnOlUEU7NHnmLlgnsueMOg1m4kXGyE8GZZrFItjFfttmC/Ft2PkOGRteVLCD0GlpYifXPAnrsj6wNTUqMpBa11Hx3CSs+EDQwUPIqZsfjoNQGD9HWHi2IWa5kl3CeSmEmzixS/+xPWC5l6SUsiiL6XwGXFIKjHxmJVcJEJSRSaBSETypBu8wwDkVVC/SgVJFAH3cjS6mj/aPZssKKtpYH25LjIZhFZgMECaTxvL6M9cEuFBwSLayjZUHOEDO0l1j86I+A95rUnoq8K9wByCC37BdPegTrlsvbhzVZUUJqEFVAScPsT2qzEQqOWYFWKptuLEPBHYYMBkArgxYR9/3u98g92vKQQUBL0H3bK2h8BWvAz2EGOr6SIL2jbgKXBySFWL7wBbrXr3LG5M/c3K6kJVCC03aOy0ol+IE07gbmNPh80CgWAGtrmsXzGw1Rxt4CzFFIsZyqnjSI3SNgL2C31SYZqfuH02KSokYIbG2SHLcBRPzzWg0unjxIg0A8JrGJ+RC0E5vrtUsv///eDGJf7luho26gk7mxuALQwIO/WY73V22mW4fsKiLP4y2mbKePOgx3YIe1O3oaXO3t2D2GYGuZ4iOxjvCnlKHCnhSzxsDj6+NDrizb/NBmp6lDj6l3SaKsU12WofKdQ9wyCCr00gZSZx0EGzkDVgJE+NnwLRROpRGQSUXDGsPIc9BAWusilrdOZzUgUy8J3SCWbAAIUQaXrx4cXNzs1M7Gi4EjykX0I+XWXdRousaqe0dZ/9PRoSgKVpNsgumdJxYjd7Z+oQTD1ZH0wGu/TWkPPm1txjTavrA24POg1arbO8G2i23BgygUEEn+zWWkjZL2NNL3Ks4YpQKVkCiMOocFA/rZsKAnmtA7B9TtMabYTfP5/wmyE9je80zJq3TrFlH8FmjaiEj2e/3MCRJaA3qHEaSAoOqa/Q5RBFjS8gqsYosF9OELI2qmC7y+wdHXZOCSIWlI6xUnELX7evPPDPaGNdaY4BsgyJRshZ+W3thUc0srDaHld8oc3VN+6AQs1vs+9G37zp3Yj2WplWYb0O4373x+8YK1lKy+GbLePee4//CDVi77gz7C8ixtdC0N6VV3sYkZ5+EwRc0eV8sOD2oieRrbYnVmqkiBglorovhWWe+rGaXtS+Um/l7Y7NjIOyCvQveLVzlxPuUIgliGY9HY6QnRE9IawUpaSoILA0DqOAPIdWID0VU9aGqlxpKWYJtuX84PZ7lrj93sw2gn4Kpzq0xwjBLex978cUIHxhQIUWnbxCRE1ru9tgLCLXhulY17myqXWIWx6zSsTHoW8p+gMzqFvsk6P3FGljtVV37BMeMiAu05JtjiCjku4L4g7RuawXcrkR/O3fhKcGpHqQHvRvI+qdAonZjz/YtXJjTy6g4Q12g9JxONg25ZR2KwvXKeb4wip2dHex2ydYwhPtHMq9KiJjGUGpS6rF8IaW0GfC8gSoIpbceHU1PljUiGnaCbQUjDEIAHY05d/7czZs3tdGJcwRTPKjFU2gDFRlLbWFIyyuRk7l0zbUr4KpiOHHRKmzQxA1292WttdF+OBpLXkbcqh7/gZKqECbqVnxv9VDoYt88sPZIoRIXsTE7E1f2pmvIdS5qE285Jpfv9ThZi1GRyWZzg5+OWfjNcr2SNJzIvKL0gEJ55fJl1oes/gZzwJMvI/KtIyKITApSSSCGBxLS67qs6vp4Dh05ZYSxCauvwP/GEbRAfP7557e2thiuMyQ2qNdri1/g+eyeM0woJkXCMyufshS8iRwYC9IU3bNkizeZKxzf4N/lXR/MPnDftmd79U8uXYvmwM1guz5yKH3qzp91AduQtzXWg+VffCz4iy2/i50ZFAembwoT2XBEt5odEUCHDNAjSmx3qKrLLEFJ1xI6hLpj1korHxSJ2Io24nakkHJmmrh69WqWZVjuhQdlTJAIkcrEaBVBgyUJGA3B5lpDxJYuA1PXdalMPa0gcjqAKF3/QOIItIlCCe2chBwm2fMf+XCaJe0IeN2BMOlmOqIY+WOtA/BMkxke+oHllPMLhlGjjLT8lK60OoOUtpIX9QgnXxfkBCJ/bcwZfL8FSteQZgfK6HwokMd1uJujCqLQhgQ92vLDFNYxed90t8jIeqv2KdY7iB/XPKjz/NWoNV5ZqxCeosc0QW9+UBl7mNdNh8pEK6UuXLiwu7P76OHDKMGwcNQO0iTpJ7EJIi0hkgsiTKF4YImFqQNdV5RnVSs9zXOwgNDb5oxhOyw8clhVa2d767lnb0LgTZSs1SX8WTcwhWXdXnPmlXvXrDZbvmt2BME/cpCcodL429pEVrfl1WnXWqpo1DB7tGzTgZYR5/CspsvZ6nQbNtUOXfTf4X9oPWxt8eTqAbQBpHaji6ZkLP4LXTte8GV7zuS1Dby+FXYrvX90pDw9fGM0vnrpsq5ra8MaXVfnhsl2GiRBzYWxIW8TiphD6YAAc0UqFVMDjEpLIyXUMGixXgcd0X7feObKhd0dUIEQTA7XcRG3aNxnz30HDQn709htq4BIK0zB21+3AlRDohNOu34Y7Viy1SbUncuPOliN927dwoCrj7p5VMRT9uu22eKYGkxCWGhXdtjpvFQVtBm9rS3UmZNTpV3/ogYgJLLnubjPeTSYqKYoO8qV+bInhEQ2yys3KVtvBS0kaLjHo7BFHakGHTwx68XnLuxChLaNmw0CcWVrc5CmJoiguQ0EqaralMQ6JCyfVEEoo1hKiLxUpo6h+Ku1aLhLBPyvDnQaRIEMr964kWR98BBRyz6JJAsVBHi/PYaBXN1BVKsWvp0YJqmQ6oEfUFE4p7i0ORmvGGUWW4WesywFuwo9PkLJGqjwWBCikwvREaSNnF0Ba7qoISaasyBeR/gMiqxmflI0LB5hK+Mo/hh5K4E6tDYuc8sldHXes05S06JB2G1Dux7KwbSBM3VxdUikPkLe5EE2VUudFLdBYDZ2l/l9FMfnLpyrtUqg7AoUDsxkeOPCdtzrB3ECoHIY1kUFkUJgymOAtwgjESldU9C3Ckxl7RkMF7TaM7rgokhEsUx7vTTrWR4vLAq4TrB6qvaZF6nCLbuZIg4cTbZWnAS6Izy7aFSbx9diW3zOuZitE3t179bqXS6CpPM5l5ReG7Lq18luToOHyaEpx65GTGLzXRktkMDxJ5eV2LgxOpqpm63nCGkhlLS0zT9XDVtuGnpGcVzvLS14DJcDRNPO9k4aJzA7mSilttLwI5d3RRqZGMphQZRQVUPzUgURqlpBBDVUN1oU1bJc5jnKVshpog2m0s6ka1FS3s7O7keefz6KI7AKMYdLP62U75/u4tj99sOtJkfGh0/1HNnvkkKseGctq/McX7HrKHlrERnmRCvqII3T847YwFHr2CaLxhIesTcSTpQXh6keftA56Wjd6rAELnh6SYf42uNkpmTZN9M9cX4+hE5kE/jXasvoDI6mwAQ1kGlvD7NRf28og+nSpUtZv1cWRRgFpTYfunT+0lY/iACSDkRY1xUluoK7Dp6qVFWXRamX1cky35vOIcVS1ciCKdGLnIUwHSlFWZY3b16/fv0Gzd/VxBSAyTfxO804W8v4QTCRTkHkZr7tDcGyWMihLWVYGUpqAMnvpp7tGstj9ZO1NS1a/NcNEb+GZA1UEUG+OV64T9jYBf7rPbExoWiEAtxTLPOoxS1ZziQKWetiNQJvVM7w9gbns3rbsxnrWnCNEciKpLogXIKOLTK3BkZjTChE4EECklU+AKNEVQ3rfThJ3Sj1WBXAhUv4BBqF8Wg4imJZlGEUVInQn7u2M+qnIk4iGUA9hECBd4/MeAkF0uBJGvTB944n9yd5IkMDjRzJUMJoGepbC52LId5nPBz2+704jlmbEKTyIKhixSGEQ/NgvfPp41pezq/dW67r4khxNQuT4AJGc6yktkCB07hc6yFb2+f0ruFnG8V8qi1LQoqhSF+/fQLcHn0Ak4i/7Jif85FgTX1YC+g2uHpQvCLQq0Nts2WmVlcLCdffJhvjmfElMjIhzKBrP5YC6BH55CJMrgsWsSM2UwhvaztzkYWHvX5v0O/PZssq0M8Ooo8/swsNk6IEqnuQYQ5mRABlYiKo76pKU6piUlSv3nl8UlZJlAR1UNmiRP5hM4EZDQef/vSn4zh22agaLGsO8HFbZ6miu5buH12XP9NRy8BdMTFPvfymSw07JDPqFNfCqh/ljM21v7uKGq5euFNRPNDiKYNdQSabqL9T7nD4QWcCp9vzTaNrEAWQ74duVA+s4cAc51izyDbZ/wTE+GtBM0SGxEUPnVTotBxSSl28ePHqtaumqIJaffTclavnLogYm1xjoyXuuBZB39gwkjKO60DPl/PjvLq9NzGgBQaVLTBBz3ftveIoTpI0TbmCh1V7w05/NlqhLuRpCxgTiLYm6uR/gDK5Sk+t8Ll1T34qKNP5KxIdlv3EApiuHiQXrcYC29hfDXztFAWCVUQxGcd1+PUZBvUdhoIBgI9hJ+JAYxtOUrH8aGHuuundDrlO3Ke+seGbSqD4NOCvGPhOBSi42Aj3QcbSLtizEBQ0Nzbf0MG84KaLKrbDRGjBwgyQe44+BRDlgPZiEVSjkyTZ3d6pQx0HwXNXz/XTNBRRGAmMwIIK2UbEgUhF1BMyDWVU1mWZm8m8fDSZQcE2sFAwvwgakAL1eQVg9cnJ8bdfeknGSSAF9Gfw4uANtSLDUrJoJkNjY1d/1tdaATnBbiYNgk0FVZmcGDrGCrWK6qhSn7AgpE5j7A2gd/neVir6QD3ZSC2ENgJIEmdTnv+hVd4YzaO67SgkKWoGTOAmSBF/oJPzii3tYsdd1eKWTPFjWRh8OuWAkfOHan+4bgCNed2uSGTfbSvJNVWUWh7xZuIf7Ow3gOqZ3hrMEw+jKN7c2lRGbw9Hz1zYwMBkxMml1WbJyEUMDYKVF7UJxcP54tFsTj5fCJ/Eoq2Bwpbe6M4Nw6Cq6+2trRdf/Dh4+RRGZdsQGMPnpzO29RaoX0/PrZjWRmLBYlt7AMsat57QkuZUxszvFOfEIp/TD1DI1F9eN04qGerEDis8TsHgsHrvXlfu3GcknRe0gMdWPoQJNXQ/pxmui68EMcRtVWysPK2tTXT6QFTkxnZa4MZTrw+iEoGBgUjVwcETpcJzm4PdcWwikK1aYTPOUILxhoYuNnOtyryuS61C/d7+3qwOMglwDTA0bSD8uoYQBoh2QaaudZj2hjeefRbyECiLbwXJP+1adX4Q43R/xbOMPLhx33FABv4/V2StRS52Z/Fp5MlgCz6sTw+DP3uQHQTNxyJIcep47cEcQUa1ChHbYop+n3j7IIsGEyvAvBA7C6ogaqFCrh5EAfs8YSBa21aMkhzYImsyz7G0+TqfoHMSkNFHopzqwHJQGjMPMu24Mwbbwa3wB+f9cU+GxHUIJkg//pEX/uVv/eYzG4NhkgGrECKIoJQRF1ySAKBgWZywrOpCFcu6vPX4IJZRGKURyGsdRhDaBRHVvYEMRF0qVQexKNM0/sOvv/S5z35RhAVplhrVu3UbSpU3WklHK5fFcTwYy0toJAWEBZlficCSHRU1wcRkG6DP8ea2qYnVTN1CnaX5eRAyq7N2GLzEuE1oqrOWCf9AIAJdQygRfFsZa3NTRjk+0DU0oROHtImhmKBqUOIaC1qcAPulwLzFSDgL1nHOB7+FChGw96SxTNmTxiZeC/Ck1sYMLDWNMLFmqcOhyDfGB41SyK0PkIM9yfylY8R+FA1d+YwQ9cXrH965/OKF8TCOoZ4JIaNWnVGYMSRMlZuqKstC6/Awj6bx9pXLgzhO+5sXirrSUP1ODWRYZb1Ii0TGOpCVmgZB/Nadg++/+tpnP/2hogigJ6OurG1OiUVuI8lcwhAgSOVe11+3Rbs2zZsFO3tGrZerYUbOGrN1nRj6wYRr7jVO3YBsD51WKtJpgqj9IVV/p41sHDR0NiBtzzoBiSr8ylpP571tUx+7NRPUZP9KLfDsQcS+l84ot/e6OnSsW7YsU+urajySzQwpAtkhLF74KoPq1ISbX8Y6TXM73cWhEpZf2nlhZ8o60mn91p6+cvMru+ceqmBpzGYUYJ8QoP06hHxOyEMTQuR5kS9yLczduVoMLyTZoBelUipp0jq7VoXozM5PZJCfFEuZJGk2kHpcq+L//ff+63//3/33vvhTH1nOC7QszlrtD6h5dGV0W61yXvq1D7NFajpSfqXk87oXnQFKu8fzJxCBi+xPYlIMY09wWxOyenaYK9dKxOIELo0K+RDxFKBuRpi82VGKITFGS4XUSxZIrWqco34EDdPTaSNxEJKXT+Hf6/B9hy809zaN5RvTmC4YqUzMcl48uv2jtL69k/TioB9GEOIHbbEjbPAUQjUPVS/LvMjni8Do0piHszgevBilsi4eqOlemm1E1VFu5oE0gzRU00UmRJr2g2JRq3fUMl9sf+y//vV3dy7uPHPugoLOEafO1Ctdtcbka7QOT/dqYMiV0IQz1hOxXudz4o/XLvyqO9F3sZ79FopNJIiNq/4RK/G/5ObWzARLqVAuOgW7+kE4ANoZKDtKCDXNFmqOogcfNz+GUqseG8OmBpgNrEHMYdVAG0MBoEzEbXBsMBKrDdgHBEAj28iFVVBsUUEnDA6ZgBKA+B0skh6CrdD0urFsmIq7WQAJ/MFQnRJ9ON/+/g/f21s8O9rcigMViEikUJAySkKopiUqXZfFrCqWRVEUujZCT2bLt+/dMsvXguWt2NR5OMjLIlZ7waNXahUvdJnIIBvdFEmUL96X8XZv80PZcPf+cf5P/8k/UaKmQhs4GGyzjcAWolj4A9VnENZpwKYGFnHB3RR5RV1T/Gm6QonK1PSDKJtC9aIhTdR3If6bgCoUv9wJwgYfYZYCQE4VdQYBNB0ULAnlnRAywizmNZdPqeQoJ7UJmk5RQ6NTmsGeiq37OclrzgjXywaLA30bLfp2z3SN7vySFNZv+AESDvxZud8axzGzC0gNgrRfCrdh5aMZz8qj4jh6tPfwt7/2ejy+vrXRH6QyShJwydXQ8ZqqZGjYxRobNZTG6FzJ96diIjbL8QvRM18qs90o2hmMLpjN63l8vqzNSAzmujLnLqjBjXRwKdx8vti6nB691a/uv/Tqk++/dr/fSyvokf0Um92su1reWwfZkufXloBf2SxaJex04XGcFs14W08mCnIrCa0uPL+APzw6F2tH7u+vzwJ8iKhLJc1AVgj5qVyd6/yD8hRDbWE/1ci7fBuqvaatsZ59uRa6bv1dUA4fBmhBAz+tIjTrnk+PiqLkW3/8yns//rbY+9aWejDoxWGUQP1WI6oK8BVwCKraGF3VZV3ndZGfzOu3TkZFnQxnd6qDV6vpO1mxDyDwcnK+n+j9H8S1iep6+d7Xkr1vpbHQ0V48vxtqkyRP9ObVX/nn/2yxmGE1j0Z6rmchFk/zt95fQ7fGLfTPIwK6XAsG228Mo3rt15nNdqnHNmmzVWZokb3nr8bgta6Os8r/nRz05DOmsleNDoFmMpilBNmjmMUKZbZJxqru6JV94Xi5Dm2toTDqq8Zsi89Scxfj6TZ8wwJL7S0gK4vCNKk3A7bLBDQIakArkM9UJQtpsYlyY7OJpb4Qi2L5/dsHVX+zL6PNuAdFSk0BOmACSR5QhxgeDxFaga5LBaDL3jR/89G9PL8lNrbE+Lnhuc+MPvpLweBmOT0UW9fL4aen139RXPnSYPixPAyD/jBKPml0Fpx7QYye29rcfuut9779x9/Jshi7OHm7giNHPRt/MIEASiJxy3qaC1UAwd0Be526AlmDF1xbhE42bJEEPgEU4Op29YwbY4BKiDTwHklJkscYBkftb7FtE9Ex7A6xW4vj0B5Zd6L1hvNjmVngfLAbA3qtmI7bjZCsadn56RpErlPFGobPbqmGQB3fah9cWxXYglCrTcDXO1+8t7koGHLN0XI7BYjDoh3S6d3HKIYIsiQ9fnL06O3XdwfjgTQbo56Msl4aiySGngTUFBTXpa7rotJSZkVdvHKo9e5PBdFOXiRx1AvKk6jYDxf3ko3LOr04jFW6PMkXb2tp+hf/okxSsbhdHb1X7r8ZHr0fPvruuN/79uuPjpa1hioODc7grTivgOsd7jk5KOsVKj0gbdBPY5YBNdHJ5CKFVFLRFQvoSmd7Kv1q3u31xsARLx7M5ZbaOD3Lle32+D/+hTFEzFY4eLEb4de81S9+j1ZBNxSxLUbPuGwL61bkjydyWqPkTJHTfTbdiwje0rEvy2jUWAof+iit3glGUWBiKd55/+EkF0mU9oXuIU4AlVKFBscXWfYm0iXG3kBpQXP3OH91b14s71fFEzF7Xx59bzu4Myjvi+WT6vg9Mb8t9Hvx4z/YlIPi0fdnk1dEnI7ELB2MI5EtJ4dlECe7L77xxv0//uYfjVMBHT3t7N1PZxor3jD4DzcOh+TG2m837p1JT9fyOFx3JWwNjLU2AH+l6Wa19s9tic//VPADAYFN/jr9Cdrj4JNgA8BIbdsZwEtQEndGuTru0//WvRynfuo31zgDT/ki/T8Io8LIB8gmwpbnaF0jM8R9ZPtn1QmLNdGjGqzm2/uT/rWf7e18eFvo1CxklED3TfK74PpAb6+qBoNJKbWcf/fWfh7qONN11Kv7V0I5DLduLm/8Yn3up8X4hrh4M3rul2fbN+PnvlDFoYyv5JVIBuejj/w7ef+5OB2ZwWU9uDpT5mvf/M7RCWiijfPdNfZ2XISdbdYZ0qwThmJjTeL20mJdrdWKeDbRaXUZLQcmEmz0z9YOnrkdtF9deWhjNNy33OmAsslI0xHYeyxnPNUNkZQwlHC2EJPxdS9XjoQSZZDl26oUfiKSN39ypREjbXo/szHUHE33fGtW8H8oI6gVVodQAQa/040wBxXUOqzJq+AcRDgXCv3QocBiMVCSA7y+WD3PaBmrfHrn1e/qIxVsJVeGPSFqahMTqgjMR0jLVJUpg6CqKq2D+P2TJ+8c9tObvzw3Irk/76kqy+cqTcTJj/tmfyq2Ih0O+zvTSRkeP+rH/WJ+kkd5VuzFRdEL9srqeH4wiw9fTfrnHj6Q3/3eyz/31Z+u5gUmeframJ0sq+OATkGPIHJRuUAEVFWxvQsclijC2kXQOYrjArx8au6AIALoGtVqRkKeI+xOgLmVrEIiNMS9DqijnWdK8wrTLb6655XOZgjZcUUKmsPTwx5k7KPZtrNaJ23dIWisayZq7lp46vnAEbhF5eR1T3XozMouDVsPtuGV8/rQALklUFNvxeZ6kd3RKCXICtkb5Heb5zaOUMtmNi8PFmFZVslscW6jFnESZnGQxCaWEdQ/kHkFfZ0Ili3L5bfee//uot6Y/zA43A+re3V4RaYDs6j6yaSqq970TSHGwfHDUXgSpc+lIqwOvy/S4ZPt6ztRsrn17HTzxd78gZk+rMfn86OHX/v6Nz7/hU/HMoLyNAho2TAlX25SFUDKo3fHtSVYHbC1Cu17BECGnq0cuIJ4+KTT0eS8PJt1qldbx/LzuFvfWqkQhzFIHJPF7mN/nqdFLNLest+40+OyTXzuN+eQ8bpbOZa52jiFS5ux3sAmBxTKtWAS+KddUVtLl7ZgNaMTrCy7CitrxqjrfpLcejw90tvhRrqVHA+ik1j2sSu1jEJRlhXUghRS1dDTUNXlg8eTd2cXRulh+eS2zIPhxc/ufuKXhnF8sHyytXt9cPsPJr2r0fnrY53nj78e7zxXzipdvFyOPpLr/qAyg+GOLEszP4572WLxeJBs3n/05N133/30Jz65yOe+BGwcBxg4qaiAlD3CfDSbNbOwK/uoKNWyOdsWTOTCbj6sY4kD3ViuEhITzPo9XcW2iAl5Hm6K0T+1PK4j5Yj6qXC+pc0s9YQ6l8/ppLHwvgLMbntO+EadN1xWhyloz2oZ9ovYgZuhY1egE9gzxE0hCood5MjnQuE5zVLYwqR2CbBhDZvR3qSRntm0dLYNGvxgStah0HHvvTuvTu6/fP7itQ+JJ3Eq40zG0BBbyjjEUvlQOKbMp3le18fT7z86mcs0TpZ5eDEPDnZGaRbu64O3B2oaiMmgJyeJXJRPzlXzYvNmfXKnVz3Y7Q3y8p15Vch8IOpDUxxV89sivgb1ueI43/qpP3r57oeevymDGForkivMq66Kg+f+TrZyV4uHoW+DRAYtEiTAg8sKT6UNqPM6sSFBIs1xK1ayTy0OgQ4kLh/Q8BHXrrHDBS2baI4C5frQh0xIngx1lYkpUgErWzc9PFzle/foUwP6XbUr1gDoleAO4pw/p9gxB7PxML4dDd4LnGdTjxYhIvI+WyXc1lHl/D2uzbMueIRG77gFF/inUlotvIDWHU6iCM384UNpqmqwvLsbTrIo7qW9tDcKowwyRMAtGdZlpSrZN/rOo4MfPyjk4p4wsh8E5zbP97O8Pni7nO9Xx/er+dtBvFHsvde/9dvzk9dMuUj0stffjM5/RGQ3NsM4ksOJTLUM081nVf/mTFXVYJjK/svf++P3br2ZZbFrScpBQbZrG/nbubsqT8NSYaM6sn+c1tCe7SY2iliATYvibPvOMvq+D98Hsyp53Sa2qmr7D/IEMXeS67js0A7xkzgZPvIFaEdXW1E7rF3CEVFot2MmU7dTDxMMnK+mYRf9C9AqTTqxSxqzSC3V+aPQ47OsbgvfWDCSdGextgkc30AmM+ZWVgdHR5HUO5vnkmzSS6GMFljEMqpNAA40pXSpRBXM8+Jf/vjRQX1p8/qXdLxR7L8yuPSC3PpIuf9ydPGXwtmD4PLNZPTcYLKc3dsbnPtSb3QuzPqmKEstike3UjU/VqFcjgZhrYp7Wb+cHy9ms+/1RHSkk69/5+2PPv+iEJEJa87qYXUIq1dwBxyHtlLuOoUJOm1ovTrkX441NB4At974LgzTaqnpFtlqErJWWWCHRlcpsmlA7o8FuaQL1iJZiyP4010Qy4kNY9kycPgOOVTWhP1wzgD04cR2PazbwWcYZ09U5co82kWyLY3cqfHgA0fA9DxuXtCx0ylqjSRPKHSxDO4/esNUy2fN4U4WhMmOkSnQgVDAAnWI9du01PnL793+8dEyHEwHsciS+VI90nliDsteWU0PXo7nJ2lazw7elMV7lYiK4wmw0pPDan4rqFJ9/Hi5PFDTuZGvLsYXEl3MTt4P+z05zathEg8uv/za/bsPHj9z6UoJxbH83H4b7d6ZaJPawBmY66KUedU8SuiQyLoiBLYOCEkmii2x42noj96+1q3vL7jvxO6QJpap1RFrpqDfE9Tu95w4BbJukxd/QpWaGkbWGgpapC0nCprlzClB1+aYryAERxRAxsD/miRXt9aNHGIGAe9kLx9qlLaRBAUocOBb437l4CJeemixNFkelNXO87vR1Y2FSCOAo6MklH1jYqDUelmUEJqwfzL7ze+9Xcrd7f642H953I+2RBWWM128P13Ok0yoIA4ffCc89+JyHKnHi+PHPzD68WjzWiZ2qjQLLmzP918Ti2PZu5he/HktSllPg6oy5lYYBr3F3VlRv/HG3WevXIMWslyeg0rmY5AvDR7iFl0KJJeZp5mTNm2bkjo3Bq0VYfINAfn+aGpTYFkiiWx6I2pEWLbfmgl27Ztac6zD+RUK/OAXzC4gQmYHSstMRrHF5d+oQfAqxXVEMA2antJxTrvQQLsgDdXzVO0nXptJx5MwcIdlAhtlvum+xqSCNaIKmdiV84yLFGyP/txjofVPmBxOikW5+DOb/QsDlaSR6MUmkXGchTKqyjovy6rI68J858e335wNd57/chjVm9d/Ojd7wa3f2r3+l6dG9B78cdTvmfiFau+fJb2LO/GL1Xgugq1DcX587guiWm725cHe21m8JdI7Wsty/jgo94JiXwspiiOlRBhBcvKd27eC4MsrIcgoCjxTzi6Al/+LwBPteXOfy4Vob6hfQYWIw/4T/MBuo52q10HQrKVhdfd14E5TUItLmrC93bWjcRM4McxW5zh9E9vT6LQJZbyH/Kjd5XNzbQbns2gaigNkHap5drsb6idCLYyfkgTVWNrcHNlaS6C3ainy2XSnmlzfiFNoMJylchjFcRhD8cBA1WYhdBk83D/5zq0jo01fPckGOyJ4LJSJtz89rx5O7r+xkUldppMnvz8Mq2hxL5OPluXkpDwRwSy/Pytmd/qjUTDNi5P9UIyqcr+6/SjdGNfJTrp8UtZBnY6TzcsjYUTasxkLq9Nl66QV2IK/UA8iSyK+8PVrOrcWw5EUJvNyGKiLo2vWzG8I0KKB1q500RkP+Vu5t+VxJegignR+jjBmCAZvtY4ayz997k0Z4a6BjHu3sqE0zVQBaIXq7xhIYZVOhI/RlGI+ig8ENZiD99t+59UThv8Pw4cQeeIQI3br8U3QapDvJQOFPgal05a2hf9EInhypDajaKNnahPG0kRRlsq+EVFtVD6HAOmiyP/kvUeHchzJvfL47fFmpO7ehkCwdKO++/44ysp5FcrjXrodbfz07Oi94XAj6+8U5fRw/+1MFKPzzy8XeyLeLXrpaOMjeXGc7L8WXvizWTKIDn9UlSe9eCAgmmIRqhrDeRnSs7ArT5tPZqPOct8eaLRDVSNsNAPRoqMtUkYwp9lFtLnwL9ZhIK8UjyWlnFrblXQhux0UpkydWjx/hNVtmqwJSj+DG1jNsxgnQt58lij+CAotei3GGoySVcj16VvU/Yi3t00o8DGXj3YcrdXRykqLFdvIHovTJO+a6HB7PNggdOgjSXlbywuT55vnd6hZBXo6eXx1pIZxorSIRRhGNRQSDCUULKrqQJrbh/s/VEmRjXa2L8VbS3nxC/ne62GgioufLfJ6a2NXT6bxYLyc3Rqml4tkKx1dKqIf7WwG5skFuX2lN99LrnyxiM5nr/+3iVicG49KcanSB2by5lwdRcFSLp9oaHEntL7AtYbcf1eutQzfmX9rs10hp6IpNNfeStfouS3n3C8up8KC4YRoNcndHmdtbuSuRI0zgLcNK8WHponJgEd5xd1atSgbq2ftKjQE13aytdLF/ZL2fDyIurtp0shRsURhu+5Wp0Zily5tdUOMuGA2SykEbn78Riov4G2pK51bq8BMD64lc1OHWqaQHpJkymhRFCYvtNDH08PvPtnMNz8ai/3J0SvPpc8Zlavje0EyHst8M0317I5OomlelpP7aTqNY1nNFok6XkwrUT2e7x/0RZ7fXxalrvbvA2gaVMfHJ1lpgsFG3OsX4XbdHyXZuJ4dqQr8pp0z2i5iy+k4Pscgu6G7cR4VOvHqq+8dKXmKvuMtNq4kdmYlOMt+6F7nHRq7fWBJ+QOj73ODSEaDReRzFefScbveyWRrvwAuYuCtgfoeTNJOaFVdPdqWA40JohnmCvH5L21J+Ya+eYesY74TdGQLW6I61WEuVR1cHPTHo0EtwCkSRamI+1GSzstlkeflfPnWncPXj4JwEKonh9XsVlxshIswGfQOFkW49/qgPzCVktNJJjIhRscHt8fmbnTxE5Ho12EZJLuzx++F566fjzaEOpqI5Pzlv1AUD/KTl9IsmGe7vSxO66Kc3Bfz2/lyNlu8WBlF9WuZj3eMCV/XYwyB7T/2eK6DkbFcC+tVlriZJaxWs/AphomCHcoNoMOcpJv14ZMB64TYvddZARyhQGgmVhSDtEd00LF5zGoCAsL2Ju5H1Y4nQI2E2npQYYDTAmSInCigzTJ76t7ZpVq/BmAHOFhFPjv3kpaB4+E0aWtTw+cKuyfjpJAdYAkLepqUsjIqVctaQXZrP0riuB8gIo1pgklRnXzj/pOpvLhdzavFQbr5jBo/k1368pP0dn8Z6mDSv/YVU9fRojpeTAuxiNJYqjC59DPTvfc2n/2CqWQq/mBRFYvhi9lYb+9P1fEbvUG60xsvTh6F+o7QvboCVblMe7XKq0oHdY1tIm24OlGJ7WzLQWe0SthNDadIcoDhtG6dXbC4+A5yS9qTrAHLXUkeslvc4l722RaXRo0UM+k9Y4WGQFYFACwCaMSdAgjWhDdSZjTTMToT1lVZ9eFNijtZN8qzLVYH39gR2NiPp3L8My8/6HWNy8gJ38a7aJEAynEgR441m0QUqclJvDiCYvqy1+tvxYNRlGaLxazK58JE33zr9gN9M916cTb95mBjazqfiPAof/Kj4OGrcfaCSqrl/deCyVvp+GZ4Mk3kXEwfiTBdPPyenP5YiFLOy8HeG6UxplrojbCun8xOqg2ZFotHMg5KKBfcE/1+2h9rKeYPFtjUTmBzFbIkmsqIvKrEK3iyjG6yTLGqmIO9LErnrVNL5FFJ7J8sX8zia64CbnMvszBbqdQC6hj5xYRK3iqP2eHta7ov+W9dy9i57fQpYRTrSIRLRjC+/gFnfMoqnN2s18GWq8PwJ0FbI2R0/PhhOD8WQRDJNMtG6XhTxFhzUZt37t75xlvvmY04mPyon5eTxZOoFMMgMPOprPvR8mGUm/nRu/3N/lE+SZdv57VO4lFuTnr5wAyvL6t9VeVylBXLZFk+3FiMTHq+N9io67mML9RBnGVSx/1MFMH8oM5ncTkb9vpRktVlZVuAA6TM8LHbe6t1EJDl0nR89KStQ3M9CV4f91+bTfKTbwJBwuim8ooF+s6YRt612UHrKfZ/0EiSJuSNGCuCEoYHZw6q1FuAG79LkI31q9iWOLbyeFcjRO7TGEX0QEjKUjbQnEoCcolf29qenkMdQawhRu+j+BpPF+maZi0ICesf2FwH9jJw5xdjZLl3X4JBE/YGqegn8Xinnk2VMXVefPPB9Hjzxbiemrpfbn/4ZPZauvWhYHitjEUx/sXFoz/ZvvjpsD7YOv+cTi/N978/OLy3HG6Nn/ygf+lLebYRh2U1KfS4TB/fCspJHdfLYtIbXM6K98JwWlWhXhZiFtRBEWbDJB3pCiJrIfSbHUGQqMtbju2SMKbEJoFjywPG8qlnp2WWaC5EVBePNB5bzJBSikj/43r/Tsmx0AF1jmao1RE/DohiGaEkPzU6trEibN5SV2gqgYyFEzQiJ46vAYPH8Ssyw/Hmdrlzz8HSqkDwP/w6Le6w1X6oAXc4Z8LlOuEBUV6XwJZ2fLYywLe0GD+ZXSoQYZUviv3HmZDzSARp2ts4F4bRfFkGdf72ndkfBs9Xm6Nh+SQ895yoH2+c+3B//Iw+uZNE1fawP00H4eTtOJjo/aNAjHU+iyITHb6Rl9Pk+I0siYOqHixrU8s0f78sFlVRy+njOJxGw74OKmHqWI+SzPSyzWS0W88OKxmNt89D02NIzO8UsmxEKYSyW4i6VcrXrgFDnvRtXGSiEUtmXXhhBYs+VUqRFgOdELww7JYtzTAhCyt8GoccUPX1rghDfdDTBV0QmjViTwNlztjvVjnolhBfIz99Tdgigg3WaCFoUm+dtxvPLg3bz9ahP3qv9jpNdj/EHMdSRMny8HB5tD9IZALtHSJgHsXcLCZH89nv3X4cHFdi/vt1FGzKajzeUsuHUh+LzUEdBvrur8vk6jwKx+XRPLymijtbk73y/CdFMJLDjULF5ck0lDGsebo52g2hT0SaPDl4u8p20t2b2+c2l/ndemlUcBSoqZg8rspl1N/d3TkfqKoJBnQqRGudOcKPYgGbwAuvmzCrgBiFQRobU0zT7rPrq7S+4aZq1NpLaxKMPhGfaia2cTQEYTFAjiQtwCn4vsjZPlSMkmLxrJ7LnSHsEJt+eVRMiwres6OaGDIz3lV1kIofYloDHxLIdeCoAi8oDXoB21w7LsPVVEtCqYItWqlFIckmZnMNWECvAJuDqjY4FRhWEA0shOWTyfG+LBZxNhpnG+PhNhTQL/JA19OHy3fuv6nKTPSe7aV1ph6kQlTTMojOy/Nf0oOrk/v/l2Tz+ZPRTv34W5c2Pz2UyWz+r+T563HeV/mD5NxNUx6EyfbieBaOrpzs/XBZi+DJ4/r4qD+aiX6k1eHk3itJoKIsm+gwGGfD8c6jhwe9qIywHAp5B6CaCm8ydtlgurN2hI2OcVoH8kYuVUK197j8vO21QhoU+cDYQYWeMFcwGVswN5y1RdMW6uM2CFx+lSxj3mIgBwwbIXzC7yjILao5fM4yFNwU6BnkvsSlRpm0W3FQNurUsloCi0gZZKZvxcGp1REpnNaxQ5KwLecK2VnuE+/sunly/ThUIzzdmlFblxgPxEpRHtQB2rswkUkZEYX54V4aBFAGutdLNgZhmohYJKPxVN01w+eK4GI8vFqnc3n5uopFFb0dxeNEShHk+vxH69nj6PDVaHw+XNybzPZNsEgO34l0XM4ParOny+Pe1ocH5eTo9o/i49cndVKpXM6nebgxGJ/Mp++ExVGY9sIw3RxuZ71hXcWxnA+HAwVqXGnX0J55h21g1AzZJV0e1iwy39Fsg8OHbXB92yy0lXKt+6ADh3VRWMD1uKGRD5DT+xgnoUh8b2cxdxj+oaDOD/We5lt8UAZq27i4Kvsh9+ElykEsA5LQ7Ob7wQ1nCe2mN5BfJ9im4bmQaf6qxZl88N2OkXPMMJTf2obugLaVJs807hr7QgpVL4K9J0mcBWkvTJMgFjJJVR2Gcbo7GI2W7x7nb4bzNwZXrw/01vTdV+rZG2I0yu8vgqwnha7LaQ/y78xk8m5c1fH2p3SULg5fH/UumMmTOErrRTVTVdQbVItz2/F2XSsVHaaZjIfXgrnJ+oGONsIoq5ZHQXi8XJhIqO3dAbT2/MmvFRLkhXHrY//t7+zq1fIFdOjPfw6FtUJ2Zfv7jFesinJbaoDpiFRIWz7SkWBTB9h39nluDDcfureBz8+YVTMBKu3VQCqetkNSGUI2XBgfPde5aoDa6LRjXR3k9J7XhjvjYcCIh+Eb6jLHDvz2UsVRtLf/sHryeNwbZcmmMUJXoamNVKHUYT+N8uJ+Vacb2bU02szjeCkHRl4NZLzsnR9f/IR592tmfHOp6mzjUjzuq9pkFz8dlwd5YMzmx4u7X+/tXjc7L4T5Mqwjk324Wmr95FWT7OSmmtahSUU5mWq1CFUmQ7kxuj7bf+3c9tZmb2xq6kps18gbc6cfGCd1WrjL+S3cdrodcn45TPDphPd26MQCKBZQJL2oi6oQpIBFPpxY4yI1VC+r09rcNp5tbrdBJFBMjXKlMNslIqZIhg8+umkaSPkzkMYYsMHvrFhbqrMZq0uXawK6cHhc+cFFcKAu6KSto08CYlzsGt6loSAYRjcSaVLrEeL9rjUOg1UeMI56oiu1TxVY4FKhPLx9S6iTaPSMCYsQGgWHIo6iQAZxoqLQhEmdXMy2L8jhZn/7+uP9ST6MdXU4vPJxnSTm+J1YLkohdVarQsksyO89ic1iM8zKvR/Wi7fKkzpQ03Q5P8j3dGkKqMq6rA8fp/2hjoty+tCYIu7txsNLicx0Far+1fPP3Mh6idY1eUW4JTbVo4a0dFRtMb3SxsVhjBauthUDsAtuvyg4QxsN5VwZRCEfFTRSoP6GkIDMVXYJ7rE9Xxh2M1jTiPEy+h21/hqriCNXwZYwuPhYcQ+JHGm9CZ1ALdMamo3fB+YFIZunhUavXg49gnqjKJSpNTWHrLnOP84bYe/yP7fMjyGXTokPTxfuKDotoLE5FjxH9zmaUAybu+Pui3j0KEbRyfF+9e4757Mt2h2Ao2EHlEnjupSLus56ybk4Hog81TP17rd7hw+nxXFsFvLeS2GY93u7k9lM6zKO1CC7WJSTKlUmy8LI5JO3TLwpejfKxX4lsnHvxjJ/WMXnVKUisawHV+X5L8T190xwv5Y9uTxUiZpWQVmU2xs3ZZICmOZVJPPYDp8eWi9uEE7OB4zv8htk+ovJ8B3jgswy2nWnW9qef69vZft7ypsHIfYgl1qP8lbcVUN1UBH/zXJh9L0ZbMPSMp7dBJpal9Z2cAEXTO1I1BBnj+Az45Xsi7Nz8O0pNwFffaGCR0SLXuWuZuaW8zWExOqCh4R5woJjI9qaYTMJar10/MZb/XwSjHYjdJxrGVZ5ES8XQX+oA5EvysU8n8b5pXM3RNyr4h0dH4fice/8h+T1n6uX7/QGHy3zZbyYieFlee6qEVVPDKt6lgeBXBynvfOLbCwjEV/+s/VkodS3g96G3r8lo6uJCas734wjI2QvqCahFHE6rOLL6vj9c5tJahJosuiSuL2tdYdQYw9Ul5OAJhhl0NI3XVED3ixIh0WXn0cK3cTtDv016FUrEq8VOELb5Po7OJrxoOVuXL3V8y3WxMBLuxNnQyjkYLY2gfP1UHQjpr3xUyAJitsD82hc0hDpEvRgr5wrRvOiTYfueK5M7k+YaJToVLpy8A1iaE+tZ3NZ2YG5Z9Rbh46WV2YZU2rrMJLFdHnyzls7SSKlNlDwE3o8QSm7sgzSQGgzmy326n506QtzfaDyw+2bv3T3wb1BEmZaBYuHkc6DxSM1L2Ij0vKkuPduEtdBtt3Pl5Velos7KtCLk9tZGIWLk2B2GJzcGfdHpeqZ8sgsJmp8Xsit0BwO4vNmtJlGhaqi7WsfunD9o+AAUVWNvZ4dxoAJxSi7MHOaUnsxt5+DVF2hGBsk6ZAK6vSJwL5dCqzHTCoj1rsFlhsh0gX/U0HFu2n7REALHUstraAE30ZhPQ/eopBeCK9AYndwhK134BvjeNi8JM5OZBSqCr7p7pUr9WBJi9SQV4MNDm4/Z1NS23GIVHPI2hlcp4L1Vc8ms/KUHGusbHiQtVc8zgl9jlan3Dg2AZtqC1gFTWTR/qP3q9lRsrOJXioB9VjBXZyEMsVorvpgvleU+4PZj3vl8Si4WNz619H8YH5wvMhEcvjqQMvZ3ruzk3kk+ovNx9v9C3J2EG2panKcDC8Gg2fN5N1otFv2L4f5tK4OhxeeXT45mfZ6Sm3GmxfTy5+PyrKoDgMp69nhuB8dHX13sLV7efznaqy63nGj45JQrCOpwaiy+T1+10kwrxiID16xyWJdnXahEaXCwsmNwCOiBUQWNTcg0LZQcchOO+nIuSIsYtz8pfFU+YBxtJYDtWMgupcrI7RWj3RZ6I1T2R+3Y8eu5jVWJiJ71j83njZJtT6bJiJ2hBaUWdcpCFEbG9HB6f2hwB5o0zvv9XQttZYBNPGKJFROSJKejBIRmLwqbj2cK7Ftenp5+fNS5fm9P6jr7XB4banz7dqMr3zqXu+ZcP9xpUcmmcTnPybV3mD3ucOHbwWjS+VibzF9cPXSL08e/0AFi/H1v1qY8uDR/3eQfUTrSFeL4ODlup7I/GQRHgSDgRh8qDgxH756PuvHtTExlNI8o/MRFUi2bTQaeKPZGlZjqAvZ6u64NpGcNeGWsa03N8vIRQOQX5xaFrqVtQmaqmVtjqHwUWhVw6Y/QeB+mz6aMHCX0wSouhcUy41WqdRQMzcsvUkC2EsGoDF6xoNt1urccXTOVunZU0bR2OfBWZPFaUirx4AqtLogNr5AbRJxfjIr3r+zHaWBCuIkFXEKs6xqbPmmVVUdPz68N6vk5g0TXzh/7efLgx9kqirrZ47mD7fNg2h0fTq4kixVLzop87lc1Kq4K6NqOtnT4qg4mSV1EZST4/3fDUol58el+o1KybFa5gcvF4XuD0bR9Kg8ud/f/ZiGisiLxeJxFPVv3PyQSHoRtPmsbdZ6oxdxoC3OhdpEUlfyNdTQoDEeUmNrUXjOeladcSUR6KWgvKajquOetuOkK2nZJVOPKTQQuLu58XBwPx/PT0yCLwKo22l7WObI4nf8JYt9uJ48oGuBv68FR0E0inXv2UxXdPixHY4kxMqNVxuqUSlXDF7bhYVUY6hFRinuDc9GZc9XH2xoCFV+wxIMtt04+RKDWJ68e88cH9ZhKJIhmM+VUYkIj0+guMioJ8r83u3b7z9+OB5G6VLPH35rHIky6Sf3vrGznMpxXBx/X6mj5PHd4MnDADoxnitPlmlvqMq3dLgpArGsTHrpyxD3KoJ69m2jsmH/OXX5sqlTNbkVjs7Vcrsu/zDuxfPj+7osInUhFtMrYygvE0ETr0bNbYp8EvthQJWLc1CYCVKVhwdSVpCFyugzSAwkPYQ8K+wigYADok8GC1sci3207FNnoqRoHQeBsU1hYxc5oN9oBX16mffYjoeQZoYNBlohJnAjC2JbD60bTLCWm1NxHVesmHQCV/GXzwOSnhAWHG7ZYNamWPkEB+DASFtridbZmTvr7fcWfNN5Mo1ZGS1lWE1OwrLIVZntnqunuRE63smq6TSTaTgeR2X++t3HJ9FOP6jVch4K8/DJnUpnSse9wZa6/nNl8fp4/Oyk3ljOlyK5riOpk610+8OHxbsbO8+Genu6eBSnvUjnUbXQR/1o/PEn1SJJE5NeiPa+L0xey0mY9OfTaZj0ZLJd6O1LV8TuuW0KeqOufW5WLtnMO2f4A2Xl2W/eUcS6pm5niZxTACXZWlbauf+0mOVGU2LHtf9nJ225NlLLB9Z+J5CgMx5Xo6q6O4mXzVBrDG8AU6AeAsKnbTzFxpA1psYqGbn2ca4Hi42VaBW4PSOCo5WQ33YyWZuNGKeMo14eCF0bpcO6KoQqs1FSFZCvHpv8+ODR+/Mw3b7QG/XPvfBXSz1//Po3Nm/8fLYz1MVkUMz0xqWlqaQ+zOaTWD9ZBpO6Motwr9/bjo/vnTz+uqimqr+VBGWgdFjk1eH3ekUYJjqef6ecHQs16GVyLrfSNMvGUT17VOjZzUsfH2R9KmHiUo1cRrYPzpFVaKWkV7fWeTItI3ChXk2KWZu9cGczsEHOarrJUSAtWYN8rAslttS5zl/ZP2w7Z3U0rgj62hMCDm0SoGGkjYSgwwdWI2pvSgdY3xMTDli3cAeRDRQqK2OrF8BoSowTkNyXzioNHA5oO/6woQGIFwQ8Ms/DLXHmt/UXcFAHxcg4WneJ2Y4i0YoG9B+a4nAwJlSJCZKwJ2MdFXm+DJIIanbILFjWYa+OhLzz4OBP3nnTRKKqN4OTl57celfNHpX7r4Q6ydV+MX2/t/F8ePADNZ3E53fDYtmrVWqKqpjrMKzKw6o8isZXwjiq481g77YaXp+Ve/3xR0XxbmCq5PIX4+puXkyi7eeMuhNOZmY5HfcHz17dhMbbUnY8iZ5p6AGljC0Tcgad4rjYre1Bif4TUt0AJaGwGtbBMZvTcgKhtHIQL0UV4VswwtfGLFPCV+Nx4N7OTrZQtXr0zNnAHr+Whu2DCXVdSZHz8woomiKCpn74OWQyIG6EA7V+HtYbXN1FMlOo6Ce5fSzteyEFnFKNZikXC/MIvznllACAE6I2psheQaTj6q8Cy5TZY2O9GptHr2OBDWRDdVcVlv5YLmeb/ayKTSglHCltxHg0MRVQQxguVVAokSs9HjyzLKOpWvbPfXrr/DOmPOyFo93tG8PeBbW8u3Hzz6VFNX38PVPPVNIPzv9UHkeDwVjuLNPedv3ke8no8nQR6XQ7zJNwvDt78L6UPRmVi/lRvZgtH/+RTOTmxouFXlx9Znd7ZyeCfscUWtbMoXEteEvB+WK8f2sUJ4vVranm4T2qkaSY983Rwa6g4Bp5syrjrbZKFigUBObGOCsD8i0VnJYNWUBo2r9jRRV0FNMNpV2jjtnPoegla4Q23Z89Ts3hcEVMiMkhSIqqrtU8OlCRM+ntJy2djxwzuHbrBsWrwpp7XZWbaZorFcZJ0kvNfBn2B6afFPm8ni62d3e2tjceHx9vbpxL0429ZRmm0gTDOB0uZw/zmRhdvBH34jBNnzy6M19U9cndjayfxTu9UajnKlJhfqBTlc8P3w3KZVn1ZbGcldPQLJaLo2VVpMFOsvmxKr+VKZX0w/pkf3v3UtaTSRJzjMiaxW9tCvWbh4/UGgGK/RNgWZD9dPU8F3/ERGPrnFLHZAxrBpYGmStUY9xuNOHga7bbskfe3nUgnbWm8XdrP9hOW6D3g4+YG7VT0VxAa1sKricF+Iy5kFJn/zsHEdMI1comqBMN4rZ94NRtdJMQT/VABGbUBAXxLJyEZesHS4FZvYcTQZr8CTdaYO6sLMNr6qAKy6KXZqquFsvFeHs0P5nVVZ4MMnV0Uh/PhiLI6kUolKxm1cNbZb4vl7mphpNpMZ8fDMxE3b4rQlOoUu7dTsuqDsfLsq73X93ee5xc/HwwPlc/eWPZ61fpJbP/g42tj07FrI7i4fhZER3N1bFOY5Mv4mpiwuHJ8cNBPx4NB1kKVWyg0ZCNHaAJ2CyS1sHCtA+vAyT5uwjVAkwFwRobluLaezRr3/zCj6V6rKBgoSuPap072daQEUf/kvHrZ3MzT6NuIkwQBNgxl7FuBjSj7Dup6zE8lvrR4bP4wBEMyaIfa4lhcCLDQ3b7GxaFRdr8MCGnbjIMyEvhrSJoaRgQzW5s8ukB1mWVP3IzgquAzKTGxGk6Ydk6bhSixtvhOZfJtKR8BUKEQh0qndfVfFlWJVTOl7Kscj0/DITYm0z7j+8PxsMPnb9w//YDmZ4sp3HS/0T/8gui1y8efyfQi+VkLj/8xUhWphwngy9PDm9D5ySZZ71nioPf37z4pYUUcmM2KxfZ6PJUfCvWc5GGcTXX82W1POyHWTm7X82P4ig+EoMbvY3+KBltbvayKACFlRR2v+4p7wJaabaAD4egoOsM/i1RGwN2QroX2xlN5GnbVnA4Gq4LlnVz2w7iEjVBupHaLjU1CFhrxHh76ynAbo026t2hx2xPeNYTvodUeSYMNB1AQWSLuEMk/qlzk24Iv+3z9jVCb5ou8owdb94B5G83YTI2otyCpbQEpMm2IEMOIibhgE7JNpDUgEjuhHD+HDZdF0rGGzvHk9eENHVRB8siyIty/6Ankh/cvZONeh/d3f0Ln/vUDx89qjY+c1yJIPxuNn+swk3d25Qm64d12b8+O/zOYPd6YIp0eb822kT9SN6LN28Wey8XJw+iwSjVqXj4e8JEVb4nqpksal3ltamrpQiCxXBjaxoMRltXjZlIVWyNR0nW9+vV+uvYKam2+k8Pi2YacbBwBy4+7WrWtkk8Ovv73dvty3yjGGwfZx3aiAGLhDQ8CgwPjMBj/taK4Wnm0HmT/R21Smtvt31EbkiuEV0TSd4BfRrC6l5EZ40FtwaUacw1+26/rmMzMGTkiFfUweDylcMkGkFX10U9XZiqvn/r7vWbz25f3Hnp7Xeeu3rz+WH6+evn3j16I52qqtovi2ie7weL4ySsy61xff+3AlUs5zNz/FhN3lfxhtaVOknK0TAWu1F/K5C9VJd5cjG99pm6Oomj8yYpy9lxL4iq6q5IrkZS9o9vpXGxkMG5rQtbW5sWsF2Bq7y6+L4O7ZGCLeBt76DatPznNjpzBqrlfGtn05+jVJ/KVy/RuNZswRD2N+PtjEfie/GHS1y6vnPWSmLdst1smqMDOc8a6RVrmWIzPVtajL6EGjEZGRb4ppgE21DUTdiCDjw0Kr8hSRck8YqpMp6B4nBsq2o0i9Q4WrxxC1gN8NAElS7loJ9fvLi5t1dl84PDR/1xdnQCicNf+eTn//7v/P6vvvTHv/DszT/z7MWD2ydFer5Mrqqw0pvPLfXDJJgmo2vhxZ9KKlUVs3T4okjfV/FlPXuz0JEQj+vznzThThglaaFG/f50cTB9eKL7WZSMo7oytVFSmsW9epACWDWdyNFW1h/0+33qscFqhBddDGYWAlVQx802HIDGmMhg+BPXRJgOG64PJG46XQybidoH2i2m+AMORiXyIjDM0j5pXATW2iXHdo22njrq4ni/LZOFDlqkD9w6SGpwlgr1p0Y/jbZkhG4IHehWyGqH1fu2g+P59uPmZFibwMKJXk0Titelvsskgm1EbbDOOnYvYs/muoO4xlPuWzBOzjtBbKOJQBPUga5MFVw6P3l0Pw7NfDbbvXz1qKgfHzy5duHyZz7+wv/rd78WB8kzH72xjIonJ4f17GAYZX15b5mlOvn0cvkDGf3SMjiI8mXW3xpvPe7XJ6ZMw2pq1Ik6eC+W94pyHimjk91ATUfz95Ii1cmGXjwsdZT2BjI7n25mi/gIxVF1aXOURgmGzKEtsm5uTJbe4thagK0I0+YUojbid1l34PMpdm2zlasLS8RH/3RuCEwZ8iwV+jJpc8R3QRds0o1XVDXv+S5e0CpUTq65g8g/2DWqMVF9KrQRB03cmlfQzadacoFDsJGr7+G8RuivJEUPUqiaqvzN7SRSqXEX1Wjyp+daQflvbOW9Y1cSZcoy29w5uXw1+PEkXOaTo8lG1rv9/nvV8uRjg/4vfPgj//DWO5+ON8N0u5y/pWORhWK+97aI0q2LVRZMg8e/kyg1r2fqZBHO5sJs6PJYFsKMtmStKlUnydBALslOGD0TROeDZBALUSs9jHrzMIvi3bh8LJZlHSyGg3j7whWoZwG+Q5el2tmhbiiU7XxJrMgKBGfDsSpMoSBORlvK4/2xT+oucbNiVH169QutIjKM8djPrdFhY4pPNS/cA6jxO1imUNqJbUlyKiCabYuvQs8j8l2Eilt+NDvNjSsIg8fwSIynBBQGTHTXpZQMZ8vesV5Eo+hQ9ijJIsxERfZP/egJ05dBDLGVwMJt/9iWxo2sH/ksuaTJOUIj4kx4rJVhoH8T3JS98GL06U8uxun3337NTGbXRhtv3r71pJz/2Refubp5497GzXktpEr64ytlmsrN62kYzSePy/6LWmwtDt+W4rnBxf+Jjq9oeT7vPX+o61wPVTYqk0G4+bF8dHHryrNJ/SSSVVEe10/e1fmDsDqs935YPf7WcnHLDCIltzc2Lw83B5GBJBgcm1eK1k6NT7IHqhC/Z6STZCY4HrCpMvQMxPVldwCmEuE6MGCFIANU3iCPbJvcIcwEpCTX+7WD4LAjxHshNAALoVsawPQReAUIQYoupkavFMiDZSGIQRFNWomHoU8JFlxTmMrONOtkqA7Rd0x5Q6ikkTucI2LaJ8jxJ4vtNPYyFPNy67ka5GMhA/qFeaaEUDPI1gESpLpefPYIJGqKm3MTeHAqNq8gWdOS7HYPMYwmlHFkwiAul70bH37roP6D9757X5/8lU/cHBT6d358+/y5i2X/3LmbX31458cmvVNO7w56SS4DtXGjqqZmdCk498VAPdra2np8/FZVF6HJzVL1hIqqyeLxkSzLbHknGG4c3NrXk/eEGQTF3aUxUXTx5Hg/TkfLcLCxcTFazAuxHyTZeJDJQBoRQLiygx581aizZK5TLvBzUsIw2sXeTDeAmohgqQWP7VK4ch3r7AlWwcmx5ol+9j+BGhq1g4VJObOhysh3W4KI1HhXD5Puxb4AuC0SRgkNwGw1XOLhrC0gzeGf/Hri62ryU0AXkKkFjTkccDWnfcWb5EQ3AngNpbZrhmHHcfqD3yCZ4HWKZfKiS7wF9baR6TsMw14G16KuAykOp4d5P/rW/r3Ru/Oezv7w4RO9v+xffHb34F+Vd1+pyjzuXzWb5/L9N4fhE2Wq4uRelcXb2cXlk3ezo/dms1qrMkuTtHduVi6SbFRH5+5Pj3d6F4Raiq2PFuW0Nz8sBs+X6iDe+blMVtXe97MynhzdiUW62X+2N+hDVBOtlc/XaeqrohBXAwMarBFhgwtbc7dChxfKUwFpcdcbv+SbsMndbs9IJcTPsNKXDaMDx78NOmyr9b4Qd/icx1hBxEG9L6wIbaNbnaFp7XPXPIw60ZPesW7YWF7CRfRbRY3IizzfTP32C5yV0IzP8i/6hXvhQGSvq5aKhUJhhLXkcGFChVhz7bpFmECpdD0WkWj0Q5NlvdFotFjMtaqVCpJQ1ONrv34PoqgH5z+mQxHXx+Xi/Cy5Hg0X6WCzimUmNkXxBHSTx2+Vo2h65UvGPK5UNQrFbLG/PP8JkVzs1/OqH1eTvXo20sMX+/VjEfZN//L8ybtJUhZ7j1W5ONZRtXh/sQzU5nNaxNvndrM0hXLzfodRnzhWdXjeBmY/lMTIXbHxbhALoLlQj9wGlmvor7Pwvk3j6ox6q4koNHtOmT+xboCYNPbFcnqhq/LdjLtVpYBmRIoZMx0JFfch9lQicI1F0/iIKODKYWxbamFOkIamt1JGXgC1zR1E15+L07HllBQ9x2jgkNRSF+NIsYtGBzxpBokePlfiDVWPBstkI43jmMhbZW91zfdwPaFNclOghKU8cod+f5z0j6tZHshs2NuRWU/tjEpj6kqFiUnLJNt4UTx5d6QfVI9+1N/YTuO4CEURbWSbHxmc/0qy+8xsbnSvni3fCdQkmB0W4mFmtC6CzXn+5OjBRO2FcSzSKDS6H/eK5UktN2ZVEY3OC/2RWAa1yoOyOLfVS5MEE1oYl+7EsFFmOEIIzrKjDFx0I6F6a6tNYh4gh3qgN9IjZQ+gcsTdFDpv0be1R6H5aDMK6y9grxixWGyIDGAf424Sy83ZfDenG+GJMQKSfF0ArO+5aWL83UXMiDAY373Ihwlj17zD6akWlMy8Bn8mqIgzGqzHZC1M2gHAaRC2DiOyNGK4OEmuQuy6VWKkdMs52DKQLUKvTZqmOzsX9ov7i5PHxeRJaKRWqirLIItGvVD2+vcefVdM35GLWTkv4/Ldj5w7d/Hihfuq/NHxW5M9fa5My8cPsyRWdVmIuHrwku5t6SqXl27MjTZJrHWiejtFtpHGURFPdHwhU2WoJqYqo+IgCYtKV8P+6PzmAAwL4FvYvcKSoO8pUZDggiBpExOAx7ejMja0y/6hVVdCB3b5ICh052tNUib54iisZx2a499ORORlD7MdRTkDWreTONumum/5srfN0m8TDmk6nSCsstEdEpq3zmuORiuYRf4KtiLJiN9b2Y8wF1EfcX5OQ6QyTlzNyNUAaGbqLx+HHRoNkckbo/FyJw8Gg6Lej8N6tpjpOkyi4URfubx5Iyjqo+re9sXhR1948Udf/5qpqsuxPreZDM3RyZPvq+NksHlNph+tRjqLNoa3vxFe/EJ4fDvv9VScD4NFMtqWqagWByYeltVRrKpw9l5fGFWGQTEx2TDtb2W9jTjtSykUxMg1lYSco4JRdW7Q08hmUj98H4PdK/r/kiF9L8OwnU9uN/pUn1P3m6sfcgwitwlcjWPvPJLsyMaqtzGf2O+Jmj7YaTsmSSBa435l8xvBenJgc0VUqs2A8pECF6ncC31IYR+4bAYSdbFACb855AZxFj40JqgdmO557VjvQIIlw8gVMbEs2UUSUYtPF1NjI8bsSUHYAMYOSXRCBrvnLuzuXn3wsNCqlCqD1KbNi9Hw0snDH5wsDvv99Kd/9pc3Lly+9epL88XBfqUuBPqrz16ow+hwVj0pDh8svq5Uasafyrc2ju5+o1flg3PX6upgNt8v67KUplpM6t7OaHBlsXwSTqZF0jNyKMKZCfvF8qGa71XFZ5MoLlTJPZixfalXxgArq8oI8xhsY0I8vFTJlCN9Wb9qQmPokHJUC6MEnFCHIUtN4wJLtV7JKWfBEMqBefKkV7ZMDa2gi28AwfCgB3GQklMBGwJmrAPqsbPd7tkM6A/ym8E6MW//0QDgDov2UkNbf251t2k/kNg2ue9cnTXvmBDR1n7FOy8YgmsIu2AZrtng9dmz4bQt0IcprpVqShKDaFoLHSRBMMqkKQ5DU5aLaRFG1ZNJ7+idQhSbF5753Cd/amezX8/2trYuzSb7dVmFdRqocGPc3xwFN+r6E2GwrMWTycv7pXkvmTzI9d3733/mhV8wS72cL012wWSXku1nJ0Ee9i9KsRXUxzLql8WRDqpY9udz2EZBoU7ggGuSdN0J9KyIRuwCPoBxwLaUoKVBnjjUf2YEip/W4AEd1mQ3wBORbUoIoREpPLFTHs81WUSStFXe2gE+/sPAJF/XMJ2C0dZU3D/t8p6LhdW4l8xpRRsaMw0piUMgEXz2fHF2lVf5vhX9pGe6qqA+m2yrzMQquhKk0QWZMol3QqaQyfqpjMJ7t2/vPzlMt59J1fbG7sbzX/j5a5d3M1EqU1UmuHr56jsP3loURRQMVa0CbaowTNLxZpzsCHX+/LlPaTEp5g9my9cf7pXhNMmqg3i0X/dklKbVca/em+UqKJXSh6AD1IdCDKJoM95Jd8+fq6HlgwFPqUVQ/Kk1gVVNjBIdaKykYQv6+EHOyI6wNgKv2Klb6fEa794GDuQ0OVpy54rhbDUqRtWE6pBj1z2n2QVOfPGKu9FXWDrh5636gitMpcVXOrg9/2IJw0LbjermCL8T69Fy7lmqtdXZOvoyV4xyvTacT8CBXvbZ9kyDiOfBIEk6KNtWr8P/KgGZAmk6fP/u/mSZDjafHWWRyPRBGU5f+eFrf/j2aDwO0nEk40wEh/N52QcnAzCMWmdxFKpFmKZBnI3SpArqftz/yDB6bpzM8717w+DW0dHb+48hH37jerqxXUTLeVmmyW6KyaxJuv1o7/Yzl65uDzeUApCPmjk2Rn9TnNSWkrGb4pBUUq8a4dRAn3ZdSe745xHRn1aFFvIfrCNTWl1QnNZForOB0bCYVVyD/79r2tpmDcI1xmkKeliiZjWAw1QpopbfycFklkowTNVr5lAbqOeijILkFk5I8i0jR7WgPqJSIhQV4sYAaAY8ORGBq3m6BXagPjuGydnRmhJHGUss4QvKilUKbaUVLIThbZrW5uaVC3/2K5975WH+8LhYLu8nRR6Gk3jvttbx0eDG/hNt6nx72K+iC3vLSaUATKqqMojCOI4CU0VhFEiTyCCKTFUlJhODOP1wb+PyxvRTl+tv3itePemLS1+O8zI5/FEdLurc9ML+4ngvLKaf+eT1NG4Oua1wQp5FdNGybcG7w7FCraIFjLAynoeADOgYlvFILowO3j9aQADDoGki/MnmNDb14ByKjATKTVzxLZSJgXCa9c3Y2BSIyHE07xrWNlG3RlEFC1doi3AVDCuTIqgCozhYC1AiDNCy2+bgTggLkBCe5SLQuBCdjfXnNXKQQLdVEz+wEc3NAbQmtCuT6jnWWsfG+hwhYwwXlDasyZfjXwKoI9tgOMwj15h3IkgCU/cH0f/oz335y8v84WJ+uF8/OZH7T348338wOTqcn/xY50AZpRhVpv/weP9wlveTwShJoJlRHEUygiyvCmoRCjCygySIQEGPoDjIRmB+edN89mDy7vKlHxfF4uBVHSS16J3vD3V+8Oy13RvXLtV1Ecd9q/5SGg36PayU4lA3j0BOQfsawAZtPiyT0pQ/gY4Rqx5hJ388JyoVxW/tXQOu+JYvgpUOpOCvcI3Rxk9IgrhpUn5apIwLFgTNv1EpbHEOjORzcQYdHcXBNB4m3I6i6Uzb+aA9y7dRCzgVhDuUtVYNxkMfNiJ4nfOAMwVtDSe7m2uuKkI5UFXLjSTc7W2Z3QpSgqqfnimzd7w/PT5eLMpyWc3y5d58kr9z/GC6HA6KNI+A7WU9OOgxlMBaLhZxFIkojeM4kKbKCxmqMBuPpPjoxvjZ6fFnRssfidFrD4r3wiDcuPpMenRpM41DIaOsPThiMDrkypx+yShr2J5yoXbIXyMSdAaZ+0IT9MBhrm59nDYPUGun6KPf3bDRlCB4n8IDPS5DWVUc8NKGZ09BeejtVHHfJeOxlWPpgN6ITgggcoW4vDPSKb6DdYmIB0TZv4QdYPkYrL+uTUVgHkoIAaa8IWDGliJDA8x64pwXxIXT+iodUy12hZRhIJ2tA8i4sya5hxZ0QrOnqJm5oLJiSRqIqFSVNpXWZYjxt70kuHnpQnTlKrOF0EQifP2VZ1/7nd+YT2ZFKLI0xviTOozDoFK6hiaecVQrqKojgzgwaapMJUSkoLlnNk4Hnzq3c0Eem/cfFgdqdzsbJlk87McRZAHbsCiuqgPMzxXoRD2KQrMkhhBRfhl1O/fkGm08xq6COx1OKcXG2SaAtKPYf5DELLwCi97C7cpag7BvSEiu6CSYnHw3om5c4UsDuIF9XVuExbcoquaBVIubjPncMDXKdAQzm8pbIB001XE6LmdrDTll33c0gEcOKuPisWqS+ZtvCuyNKDxogC5C9hnlZ6+zNZkcsu/snUZ8Uwn3LtdbB5/a5BnH/MmFuoKeQlCSiCR4HrSuVW2CSGoJcGhtdF5Wy0W1XNTFosqXpqxuXL+WbG7uz+d5XS3rslgsTAF9C6F/VRxX0LsQyklhW7teHCaJFokKzaJWdaWlXuoikMUnt4Zifne2mGTZeDjelSImXaJbCrKpu8LoB1KANlho3s2zbeG5BVljPVDbo9aXcdU5idMT96T72bA6vJeyKz1Ux0aWkJN1jS1D9gc4qqn7MMbYcq3wRnYxr2zCFDwqbGQpIfPOrvXiBRR9UcpQmMhxLHoIundtZQU0OPAx8DUiX6NrKOlH7Rztmx3I6JrVOkj97GYs/kXArtcrnuorrLmdQrcHo5GQslgsiqIoyxL8bRQeSX1D8b2RlJWus9FgdO3aox/uXdMqrspFmfRSEShTB7XSqtfLsK9sWVe63x+KMJJJWOZQO6kqq7paKl3Ml8tEiCvjLBHlxsbmeLjhSmyYUySstQEIDaWl8JWTdUhss6DW3et96Ol/bPzZX7ipIEoVql+KYaNt8IvZp2h1yPHH7rt2mOVQoQT+tLFJ6SKcuFNruvFI+D21/XG7RWvCCJpZE5NG680i2S4mwqUwORWCYz34OZQRZyPVGkSVc1LtS/whuS5+TdiEK2TmJmQ3kuqEuAWFp0ZSbIzHYryhja6ruqjLsijrolS6qlRd17VWCmqMaMBOrl65/uB7fzIrik09qI0udG2q0tS61GUYR2kchfVSl0UpjE77aTqKe9KUSkZAxBJquSZlYHoiHfUg9gaTKCoO+yFScMNyq4nDtVowsy8218g1ZSEpL0azk7XpHgMLQH2rudZ9Axw6c5CARr/FJlCbDW+2vdmCIBIgVrE3IHe+cSq3MyitnQrOHRcbxbvvxbjAIW+UCUunGAtgixm33WU8dyZDmrJXcN2SCPadbXJXQAewweVYhhBXHo4HZaoGTtuDshtoo6ElT4EJFLvIGdGUgGMdx9BL0cfiESSiKFeaYiOPcbpgMfMRBT2SSL+m1ohJGsVJHA6GMAZo5MeN4IBSynI2m128eDnoZcfL5cWyLheLeSBU2csy2e/FUJ+3NCZXolTLapKoMov7mJtTxTIsa1UUVS+OZkdLGQTQni5CvygagQG1JnBdblzOs83kxx2ROB53hLifuduTjvj1+hTR+hCU2uCChLbZ/HRn6rKyjgndvOCUQWH1IKq+j4uOrixuc2MJyJosnIBsh9FIV8t7OBOEFIOGBC1r6Vrv/j9XP2yj3vZ8cstHKFTkbvIVCYvAOKbd6EOcgNdYyu1wqw92ebKAcSW7NSRfYP+sfdcgbQ55gApcVOcYdZokjpVSvZ3NjcvPPLnz9vFsFiejSBYa6nOl/VAHpdJxwrHGGtLX6mIGsdlBWNRKRlJI7Dwa6EjVpihlEMZCWhv2A1wsOJo4htOksFteX1FmU6zhUlwPoBMa4sE965M+XOhrYwZ5ctgGKfqmBRdFOEOVAhL0AzTOuPynrD6uU2rSSVHPmYsZB2RgexPG+Utb2xxdT1YOWxORQmDs00/vE3nKhclB1gvq9HF/Lg5rYFwNGSS1eEd4CnYoTdNRf3Dl0rU33nxt/+Q4i2EScZxWuprOKwi1EtC1RBgZikgXYSUqGWdKlcV8sZjPs14vV+GsPoD7wlDXNXIaRTFaNLanz8RbvVM1yOaMd/++umssTLDLgUN8zzgVvtnEW9N6GisGNkKFReUZ9EcvxX7ELJqtS7Gph8XW0Yotyg5EjEzuWgzcQIwZu89beJtdPAiGQGNTQy5pBCWeWJUJ68YLBZNSCLkIsOjhs9qz2n21uzHnfQjXizHjinVYPgNceVBPrNkPC0gSRVIzD3xOFEW9NBtsD4xRR/M8Tae6LqsyG/fTNEtneRmEwag/TNMsyXqqNFnar8Jgni/rqp5NFlUkSl2HwiRpNOhlppipMIhhRzVDUdTKxZZps0ohu7YUtohh0WFryxpYIvZiuoo8dmvZmqYPO4kgrB5pWxsIBQ+hia6dhA4rGBglM3FRl0DCspMA5ZXEAGRcXnyaK1nUwBFcoh7uaYehcJZUpwednYBH7xyd1+4U4tPcurCzrn/Z/4Lj/OhcYZWNNFTCU5xvxx6HtpSnHHvOcmfXVBP/29QFsQiDDV2g1Hcb2u1V/mFvZHeQnZFHUiZZurF7LsoGxpSHk2WRV+lskWZyd2urHyf9JBO1KKq5DlTc6y+LkxwqJ82Xy0UtgkqpSAig434vCMPp0X5d5kkvO0PPcb5Kvxefl0bZDQ5aeYKXw0s1105Vq5pAhGYl1gj6pnzj2p7Fp4PPZ1zw1/WRMl5wou0Q4Ol8yMYafWvl3aTM+obaGvWRCz44/5Ll2HRkWSVvbnHPoSzuGILrAoDl/FAlZ31bG7kFTbS1haZaAB1K+tOKQ50nCG1zI9Hf2o4HAzHP67I4LBfDOM2XIgojMeyLQEOqqYzg3IuwrKtQq2K2WC5zo4N+ki6rKk0ThbGPKl9U+SLo9SktobMplAPsSv3x/Bm39jfJb+XSMAKnLLKIsGtwtpBtbEcLvpzyFbekpwFJbVuiKWqz7vuUe8qIuZPCVswzr+D4eOI9gL9bKJ+dOZ2SJTYdUxP27cjUVaLGIDQskefMIBtgQ61FJcSUcvKDfS9lQuAz2YJTKMMjhD8pspgTn60GwRoJpyc37kQAzAl+oEIz1gpBr88pOjGz/Cja2tgZnb+ole5FEQThyqDfT4O8LIplocvSlEVY9UajwXiciFgG8SDtCaBFncQxxm3LqlKhEVFRmaIwCIQbXGHcAVxDbyNbug3IMooRJ5OHarRAPCl6gcG9SlYHqU7oJ0HN2mvMRmoVQ89Wh2FU16MSwvOQBXA4ultAZgeY4M0Ogzbl2fW0jwLFGvKW6Q+OAVmVFcRx5NX09WiZgi6oQIaVnxagtgaHZZErACaVbDtVUjTqP4V1eZotRvNRgRVKKOQQGCf22TWnFSowkmAKikKicVsDyCmFnZc33heeFbySPpGoYq6nvzAMkjDeyIai35+U1WDQPzccjQeJCFRPhwYSPLWJdTaII22qeb48mccJ9BARQVDU9aIoEAQRkDAmIl3Vqii92qOmKYa2IjFYFjfjsYWQCRdklcsqNey1A1tHQZRK4xdhB7HjcE+1xV2invV6WVRIY7oaVwxZ1ZdaxxhhJ9+Gb59zODXrBTF3hKMKkc1erreIve0kiI3e5EJr199C43DllIkQcX4t1ycNx9M4aZI00doyCAsD2n4k/qFcO8EG7GRwaEWvbUsbNMtVkqYXrlx79INsli83ZNAPkixKwjCcl2W1KHWvZ1SwXBRxlIbGVKrQgYnSXqDLqlZhCnERUN/Z1KU2ZbEUgaldrsy6pjJt9dptcIsjsOPLU+KgEjAtIKtLjb1og64soVvgYlXx8wuxuRAsh2l4OsG6aEIPaeYGZm026X+36cruYdbNINyEHRbt6QsOgmoYfcdu95O82lXJPPzGhelT0yFoUYiJi67AaFc48hrSCloI3tExowBIxK3BB6cscSMRuKiIGzt9bkPCoL0xON7On7swSAZZkF/Y3BgMUiiKFScnVSmAhZpZWdQyHshYJHEyjMvpVCk9GAyjNJ2Vi16vV89yI8IoCnVVULURuhxW528CmVFB+6LMVCsWeSvcX7nQArJ2jqbjUuac7ONOtqcXd7IeaR8pRMor6u/hYY36TaGNtqxFZ6jNLLqE4a1zGETKqAiasNkSmV2CdbVgWIBCwAzGikWcd8heMqpmCm0uuYMJaTesdfgqQhs+QOKGGBxMRIVHOdex1eegUAMqa+wh5MRqUHXwuGuFADi+36Yha3SRw8ekITF8YG1DKk/j6sojdoi4D89cEDk6ZQyeoEySpEkWx8IIpYQMdJ6LJBJGD5OIasUDwFQvlYmCdFBX5uTgMF+W/SiRMuglYiKCMjRbaa82ZWQKrC9aOyqgDCbExXnbmqZDLZWmQT2cQkfoF+dyS+yWqJ21gkXPuBmCnR4VjmpihEFcIqVCJGkIbcGxNB+zPxs7xxkEqAPAWyWYVlgvGoG8JkHEDw+155ywCOpQqbyvCfIUWSDZBUfZQCAnZNmkoMYBfHyb7/sYDdI8T74TfbpWHK9aoCsHiR11djPWIjWWCK3q4zXe4CMEmPCZCLwHgLPjjEQyzA4xvFjG/fFWOOzLosgrFcVZEssolhvxeFGWZVGoohgNh72dfphki+kkzwspI21MEidRHGWJ1plKhCgX9WJWiDDWwdKCRDwAt+a44BKLQnG0t3MnddZcUTG1DmTtB5NaYeEimtC33zQB9tmERUPXloHj/IGz0Waf+DwwaM0t+Dll6NmiDe5yDgwHIzemk0fZTgqTXs/fRB7O9RPXFAFpxkHgDof22Iv1F3Yx2oNuY4DpwPlWNn4RyjZgLzUn1j1bmYvreK5kEiQra+iNAaxvRIFtkSRSFSo13tnduXRV1BB+kMUyjmSaJUmWxLHIi2UZhLWMi6IEmS3j7e2dKIqiOIaeSgoWK47CUqkojvbvv6uWx+gZMv5SE82R/MFCZUw9fhKTO4Tc2Qodj1yIzAtZ71w+6Acyp41LWJ8eAh02lN9fM/ynS5ldo964FA5H9B2lnLZ79cLopDBQQinUTQC4okoc1FO2AUUDFYBPVEE1GmDWDPDSU2A2ULuaCmySzoGNKGj/KAyypu5kNueP5EYND7aJ+VRiGnOOEKKGqmHI9cnoYLiFJb4HtTuC5tUxhmAAAR3OnC3Iy0erzERucTdaOAs/IeDhTjO3OoPhVONhf+fGhyqRLZfLZVHmRakrHYdhtaziIE3TvuwNgv6mTNMwNEmv3x8M+0mK3amU0GESJolMszSb3701ufuekRKnCusH2DUEgjbHINA1gBrc2wbXZUVo8N5TLRavepqPj1BRFqoQCXGemO7efAEQLdLxrbuEAmctToTl1XyM0rJJPKIMGFn66zBIjHhlGqG/+25Soix0kXl+i6Z4kYvsDrtATOiDdXxknQLPQBxpYlYa0uuxDRPN0Gpm1n3RnBvPueLyl7lmgj2pDeZiDys5oyCjCggdP6aqkU6RxQG74+sqdzoWQxeBnUSj9uRZ9g+Bk1JEQp6/+ky2sT0tiv35bF5WyphFWcyqvJb1fHoiq3IUBaaYh0GwAMedDCNEvkIdSxlHsRRG6TLW5e03Xq7qPAiCJJAQfu4izTxWZ9e/UcpW9RbL4mx8EK2S9y1XeLWJZGtLJzbbLD8GWI07iaFSQiTZehhxNXDPssrtBaW7VW3NAfaI9TLffocnSCOFkdIAdcApBOAKTn1TbsO+WUDcC1b5t3LTc5l3BtAsEDFw9BnEJgTnAUaIRVLE2NMB3sMilcspo+FBHe9B1cUDDnkBErOe1+WCoBItwN/NOWV4rpouK1a4h/AEeDg9p7VehJn74qnzDhTq0uhga+fcxpWrhQ6iON4ab8kgKks12tqUWaKMmk0nk/3Hi+OJUbJcVlGaDTe3jRG1rhTEseMGSzBsDh+8nz/Zl4CEVuE6qnJL4chsVZluNsL+xZ2k9VuyOjEnD3yqtdl6/Je2qe5LWA/n6e57C+BsALWujKaIIQoXIN2J2ve4VH0v+pH+hBlZEEWO42IE0bO4VydJofNNwxDLWGxFHM/n48IpPQDLcQIu7Oa7Mr1ZA7gMciziojuU5khFMlGD9pqKtVAepw/ZCq1uGi1oncQchPqn2c6Hnjdp7/LuhXPjzSxJYsji1KGSW9vnk96oULIy8nhykvWyjZ2d/nCYRJHSUOa6qEtV60hmvWwQLReH774ZSlF703H8mWM9Gi7IEXwddbBDFja03S7TGm+u8zm16GMFD+dite0uBrx1lAyCiiwGnaCyYlVHzmy3gaUNX3cgZXvkDq2kfnkcoMetfMjlw7VjyW2DVb/gU0oLsLyWTJu1JMiWQQBFaEMNgS7ElVHTp4ALd6/WpgLAmYvL+gRHvJDrwtgats4GB36JqBeG0mDVHRe+z9Hm3JQUnkNxr74I9vgl/A5eDfYNWKWKlXENkF8kBxfO9XbOhYGSEaQM1fDMOpZBGseRCFVdxoP+5oXt0c4oShMZCSl0P+1FMZjXSRZlkZGx6YXl0a03FvMpFNFrNjioMStMUckVWgooq6FAQfUKuzhjk9ge7zWqZaipo5epccY5raZRQhgoIH9qe+vwkaSRgzyCqv/NhkJHaXRpQoIwjsnBNQDo8D9RxXTWJdUhaR0FhjZXirudHTvYzMZL7HC6YNuG8r/Papz1ZKzFwBkht3gyGwc2boC6hHJq/uogSVvjmsWOF/AhbhIDvZwJuKh6kEuuWyt/vaRGir6M+r0k7UXh5sbJ8aPBJJJxPEiTKJZJ0pMyypdlodVYlZvjzcpA4L8SJsyiJE8yEevQpEmM2Rd1mqb7+/vzvYe9GyNsvkRkwA3o6Uy6YbjRdNK0aSPw9FD6MO8gYGf0/dP20k6Z845tPzp/U05DXpzqZ8tKM7xi09obtGH1CSufNNEWvE2nvtizPLBoYdMwyfOjMGDS1vH5Rpsrhywer7X+kjaMwFYMLZCvfa4b4Rptnd7uZErnLRYV8kV/d738EFEkxzCNk2y4Mbz4zP29k/0nx/PlcrmYV8UyyeJIgpZiwnB6vJ/PZomQCTBU8JhJITIRISobR2GmSmm01MVytv8Y2rL6Y2s0AFeNtAFBWieW94stDQeLWsCagK2zibABBX2GciYJkvsAURM/+47RhqYY+Np3tXdHGVN7uSNIHfavjZ+Acugkgti0LGGoqFss6IQNOkhPp6DjiNqzILRmQuiXjTXZMXqBpAl1uQErE9KKqWobdcLl6FSPoK0ywYRMmE9ogpqXj1OZXbVwFz+BrgFGq1G6UtvYMKTWHWuZPi5l4+DGNW3ZW3Ga9pOst3X+qDdeFmVcQ1Z8DUWQwMejsIByWanlfJpmiamTsA51CfGqMAQTzBbznY3NXhLPZkVo1OzJQVhHQoAwtyqcO0iOMohKKJaCmZbPL0j/8k1N22+V2wiSg4SxQQpEx3xjKtKFGhkp+swOXSEYIkWKNmVx7SOqiPXY8uscBYvuLHvbem7mix1HWKdTazPyJpjU/kIkZQWfZyUxHmJlB9/VROyxYGaSdq9qqf8WgnEMDFNMuIYSyQBbZtk/A61H2RhP9gqsTLCDUTm2tybAwmGHMoqH/cHG9s7trHdweJht9IuySuMkghLIYjQY8H4GYQV5eTlG6heQj2xULOViORkOIhHUga4ypfOjg7Io4gz6NfCuekfOBV50fLi+6LRGQNdoYIME2w13drfrZ7fG1yoBkBzC9yOnYI1zje+k0TqxoXYTUrrmm60l9fMgWxOwe2OEhDJzYPqENf+0MLzOc6mht0IWxQOFrDluGIVFh9xX6dcOftQyA5mzuh92hGAVBx9VPnWeHwCaWHmvtZjWrQn+RcZJNtgaR7sXZrU+mS1OJnM4zUL2s14vyUypF/O8MmFVm6JYlstpOVvqug61SkRY1/XJZFYrI9MsiPT8aG95ckQv7rgr7O+8PV0dat3++gaW+6jzVxfU76jcVrlks2xFXGKB8gYiXb+mgLRhrKeHajxFB6BLGKiIBSLZQ2ub/dBQl75UuqY6X7xn7f3D/xDC10qpdKHzFK9oc0g9PYOlAsE77eGibkMp5a7XqyeOW+W824ZeY/Gt7EdXF6RfBegC6JhoEEFsGUOtuttbieYfxNUOs8HG5atV1lss8tmsnEyms8lJGOhlsah1laZxr5eB0jjajqKeqXVY5b0Y9RMVVLWBgjKxVHGcL6eL6QQiA1BrdQtsF5Z71RME4B8XKO1hq/OsJUeIybCtIhn4cCLEeii9Hz/XbFWZdv4y0tbacUa0Ne2RuC809RhOuSIAQViJsr2jKFyVZsGJSqhdUayuU5W5qwm2q+G4RvrcQh6cNkfYtPOg8MhYY7PoIGiQvOwRPoFVXUvZzYqsrtFK6y/7OZN2U221o2UTD8aIONTggoqd4+ia5F3EVAFLGSiSIG5LDpPB7oWLb2W9bHKQxcNFVRodqKouVRnJRKLbCxKi4zQbRdVyuVgeR2GiIYpG1HUJNc+0yUSvLssacBmJGVVMJgwP2EE6qBk5pa+J0dleY9VhULXhwmi2WRV4Hd3fm0hYsmox5sjmXDoGCY0LeFQWe7E5P3Z0INigg1egGpe+Z9ysNiNpafYYL3gGw2xHN3BCMzfrsmA3vRBebwMLqJ4Q/9lW6AL8lahWyoQ4GWQxIskj5bsDTaN0JUQRNpeMHazabmdcVklqtKhOwizOEOwi8Fu0uwuwfrlelwHSErEcb272t3fz6VEihcySWVmI2VxEsijLdDCKYohmhWwSIaL+RrCYQZ6nLgOty1LP5/N+JBNhpK4WTx5i1QF3OFdn4WtL/v6Tut36Ms/LL8q8ZmN9Q9gdyzWzdb0hwE5Ey8wW2rNja+RGQ2fNiru61rbQD363xQi6qezrB9xGjMKGcOkuamHn1eK1eeuYJQe32qQHioIk4mLR4PoBeTvMi0QINNRAUDR5HmoDDz3tIhWrQSbXpNcyGo89at2HNlRubUtpqgkhZX84uHDx2uPb70EnNSjWG1WVKvMiN3mSBunU9MKNZVDKOBFRGIuwrJZGlnECudtVUWqRasDrq+OT/aoqOdS5jb9YdXn9ZBmuXBe6YsXLuv4H3uIw6O62YuVqwq5sWQ/H2JxSxMRHLNl6QtztNg+16UgGuUHe8yPbpoJqAsHykgjxI71YhrKSLhinwEXAF5CGhGkGkHSKPhcAX7QxNZlJWOsNuCMW3acsOHKhkWZH5MpeFrcimOyL7nDu4kTJPqyw+tqhv14e8dFvmMqOfmHKS8GnM3xlDXMoIQIuCWYPrFAias38mGpE0XoA7BSL4Wi8s3v5gYyLapYFG4P+MKyDfpJJCDrSeVkEyyISaRxDRFZvczNe5svZVBe5CmKR9nppf1EUUshyOVOqjmTKxYm1xlILxjWEg35tXtC8PSZsGvARgpRfyGLhjaJmQ+RSaggOq6TbkAasrOZ8AYq66vjRLrbJJUtiCg/wgUPavhZ+suI44FPkhYg7sibO8v+v7Eufrsuuus7Ze5/hDs/0vv12J00P6UzdQEM0kZJRQwGFBaWAA4LyxU+WH/wT/KRfFRVRS8qiHD4oxSAgZYBChBAChAQMVNLpTkin5+53fIZ77xn2YK1p733Ovc9LvITup5/n3nPPsPbaa/3Wb/3WVNaILRmyj1lGE4sW+xFXfNLZb7m9JTORA+zUfc8fM0CCEWnHxxxt1tbz//0iL0ElFiIs7K/5BJHKJL6cEznLcgCjbpqTWzfUctWdb26o0HeXZ8enpdFrfdOHoLU2TX1yfOwD2NeqPtr6UFXtYqGGztrRetBVqlWhnaXZ87hLYC+TqFFNL2F6/dnTwXY6LKYiYfram0B0/Pxo7NLEx0QcL/oznuxCLOakgnLgNPJCQx725T2Ws8shG5uOxObgjvEIcYFs7xIHsO/IHwZrKKT3pW4r/jIAIKfI+0G3n270ge67r0blbRbzTi4t/+pDoQ9TKUQZcnaQPGySC1fVYlEfn20f3K60Llxwg13UTd20oO3TVFVd9/3OQ5eSC8EobZp2AYzQTdd1u3FYFx40Ri3UW/nqcNiILJjpuTGeciC7jFku9llLFnntLcJLyQJkErCiX0+3Wkq+BI44eG/zroz9mgr9EsUm5x+Pv4mTOMnRUWcebATZTZdEWFZOFMbkXhnU3BS6IFQgoDWMoyjq6oApZDQ7jiD0OOkYW3olz+TkNtpZajVnDJMVIeJ64C1DKs/EKtwvMVFwAp4PKW64m/DSyuaXAHccR54SuZN/S00PdOMmWaoqy7qqmtWibCtT60XbLNqFt6ODsWB9s2ihhAR26ksNtOp+uwmFb5u6G8ayMBeb3Xq3WS5PrGlBiwbZqHxLUO2UcZI8IsyMYxKd8wnhf6ASAFtz3Moy10eugz0b7/to2RIbxV1bjFvmJE8nQ8UHE/8zY45OQMH9D2Y9a1MviGk/2/6kdYCJQgQOZPgSoxf0cQo2iSBNZU3Mn2lABk+L5YPTF1G0L8kVY3350hGSoyQx0iAXGa9a88aKzU2ytVIiO5uPhdeAd4hUckmic+JoUVbFgWA/1vFk+4gTfPM8L5nkGhrX16EGDsy239q+u9Go4/aWt0F7j0Ofi7ZdjCFo0ysNkqxts1gtx/PtBiLiSgdjrHO0NugJgoA1354DQdWhcCQ1VdIpTvc+aeSlQyJGuF87jrQO2WopjEL5ZuhNYTRjlo5cG39P7tMccsl/wwPA8shg7/3zF5xiTNnwRNEOZoMxZN+jVl+Kl8E6kXkqfsXR1O7YVJPlFnKQbAJZCkP550MYIdRo5W4e3GfjxpFn7rKssa7mMPScAOzy8dkWA6qEVWN0DYlwPxaLtlmtQUO7qtvFwjvnrK1D6YZBa6PqRVn3dlTj6JaL8uaNY12oqiwaVYQGanoQQWsB4eVWH3yuD5HmEC1KgprIrPmB0QOOQ69z3IQPK3iKBN8s1h3v+2zide7z9kPV/ODXR7HwSl4wwe64VcovExYlgdoUK0zrBxGPTL1akGEcZ0DOjHBUUtuOQOw0n81McBJay7kRNJ/6SiEGYIn0GbA3uyPsQkiHHelu5DPzaWyC3WQ3Lb/YWeoGkuHaOAuiBbQYm0VTN3WpnHUd6db5EcaTVJUBfXRtNBREVF2X7QjCmAEQlbFdHRcq1oj//NefGxNP9m78TRzUm6/D+W0nlccSCCaM5AD0QWHcgdwx94hfZS3u4FUkmsJsIydwH0XWoFYh4iIldPtmfWV4DrCvyYWMDKlRNRGXHMqh0pZtOQ/A7yZ8iOY90BXj1Qr/Rfpkpww/MS8MNHEgCtHGyNzns+ljesuzAmBNY7lZFnyMOHGXdpiN0uSSPBzkQ8VbFfc+OIF+AIcTyjA6Pdii1s52RdmYagWC2uj6AZyC9khjdQfdXx5mlmzs2ARrYaKOBmQcR/zmkp4zKcEYP0XqJFNa5jlT+gHeRgdBv0fywrNJvNSoJQ+NZPY01hpAdDuqPh+kbuQWnKOGD7G8feufm2C8NuqBjL4A/wybqTyDA8ti5lDlHYxI5oNe9z5IGFccCh6cg5wStEnpEHuLLMWEJFwns3HTCJ75ecUWHFK7nYztkx8OkzYO3UZcMEq7q13fdWVlRhisaPreQq1ZjyYobVypTakMNcoDVwv13YypVWGc61Daw7mgTWWMQdD0eobpw/ey+Mr018STpNtKIw0nj5+u9aAg5kMYHrNvmR1w38hmb55nxLOrSiUskkIWdhjZNk2myubUpRe0ymYrAN4oQ4TB84gqRv7d2dmz/i5eG5zAzFYzTq9YP2/4vB1jtoP5T7ycyfNiZcvogCn8l7/GPq05O+aacFuSd+d0U6+Pjnrna6VhWmeAFsnQ26bUpu4K1Ra6qhQwSPwAOkag5x+qRbNqqmEohuCCtaDIgDs5wDYUOu8/9VnINTOabJegYndWScLudN5SDnmoBCzMaRxzJ7Nv9xNvKgn4QS8Yt9000kQuZ26C/AGYOY8tepQW4EIx5LNFfopcCz5dGA8Wgw06GLB7kLJKzUTYbZJw870UidmRNGIyTsOahTV0ZnzXIEu2NL4OcB7So4gQBRgj6hdiZ5y44xj20ViH+d3ZT0HSfRH3HKNDCmJpEk0FTs55N5bNyvui77anp8cQfhBhN0DsYuGEYacvdGnqqmkWl6Pb7ZytmuXRDVB5B/OkstTDlJlnFpBUEESyA3oAM3ldgr0Ib4ufjmSZlErD7cZsSBRpiSCC6AYVebHL5ND30i/TRhyBHGpMye9i1niA2RKCMrMnkaYGIK+WZcRwk2D0LiOBSjQI1IQMUs5QJVKuxV1YiMopxMn8OdFh2MNROkyiIlrrvCIsWZs0TOF+kUr7ET2WyDXLS+bZyUMTzKzLmBpD+WvlS+hbVAlDc5xr60ZXla6rAkJ5a3Q5DIMJZbVqvbd2GOLAKmCcF7ZUxaJtTdePvhyVadZHlamokHbQyc2e0Wx1TM9b0N1MEPPA9XNKjG+e3JQIZcjTpGeIeG6kLMzC03gyyQZSOnt4m84+PtU7ii+Ai4lbgN6GVVUPcaIQWTzAoqXDKGUI3sMG5ZmnmdwQCbRj2jsJHVI1CQn+DkoInIOIU6T1R8xW6D6+ph34wIuw+z+/7sL7LzPo5DIlOLZhvOh1PxrvVFFcXVwOXTcOHcwsgcjWEQ8KcJy6Kgo32L4srHMdZMhtTSS5/YBp/+nkdYiDLw+MgMM1sSjPwvJOX20m+7DgZP5WdidoQklB9PD7WQYtP670GQnyhyEataUcpGuQ5SjciMXlzNZoIl2y9KL0Q7Ctw2+5epMtDjg29JRITS+7bCHGpqoJTsGIVLsoPZNxVzNqZnLVcg18FcKCTefBKU78RQrf+XwUDP4cdWUGay/77oHtdsZ3yu52HSqP6XEcYL4NdqwSI5UCBlC/RK318+1VtVwdHZ96Z+UCD6zzw88vdRtOHVyGic1eWTyTPa3J7Kz07JLPl9PeT4T3gVL6ID7yvO/zQM5OuRJXL/YqzalZBId1IU1jr31QPgJ1Mzw/auDN1XNjFzKhHpENn18ukHfylYAcDzpXm4+h4sQhwP8MjB5Dojhg3Qp0VxBHZT0YbIPCfmRk5WAYQ4RcplvLlFVOixERiRmU/A9ZRQU0xvMcXqoBMWcSPu5DaGq1Pjt1dWMW9cnJUW2MH2CWDtiH8y2oyQCGhZRjcIcw5YH4sEpd9v2mKFc3zmroRkZ1rGl1MX8oM01l/APMDcD+3EiqzUpxhzLQ/NnReDiWm8EHgBQHfg8IaMtIaGQ+wV8P7PtTtxShB8pcc0w1T0HSz7jLMjS9Z4XC/JOWsxx5T8XH5OqIYzf3/9Kiy7eVvzeT2th/RWD8sCPg+DYOaMiHbU9WR2TO4gW66UVxkyO+j4uD8wcP9CfITx0ru8lfucUAvhQYVkE3zbJDKRvt9dVFp1WxWje6qbwpRx9qD82aFjBHDxmLD0O3GwbbW2+DGqzW7XGzXMJMPly0D+e4pyuCdgebOCWCJhJGKL0gU8s4BJTExxqTiYeUOvJEJF8b+V/z3x800Pw/KZo6kBHHdFxBcJ1+ua95Gsdj02wvqTQc1NOk/4TWcYSyr9UWl2dwXUq4J8oB3xFRlXyH5TmhZQEGcPBo9JFw6Nnjpkl5EKC7jm9XxMVRVxQGy3u9WtSmLr3ageJgVTam0PB+BLTcaLfKBRBZgKFtfuh7YLM4142+613XF2VzRNdMZvIQXGNyH0j4E2zOoNQ5D+kkZHEWbdDVXQeaHG6Pz7bL/J37LPzr7G//r7N6I3sQMkEpRVCpgJwHNwTEuWc0aR7wK9Q4iPWDaKH544thYnS6ceAJloZhslYav85tIpEAAr+U8coTFaxpJsWcQvSrIlOO4nKsncpFDpy3i1dEQS1BjxEjIy1RTKxdTI0l7cb1Fx9PIsmzySJFVB2vbrSrVTleNc2RVkVjqmUDzVA4MBeQEOsBLywVTJlVRnlvgh5H5R50Xf3o448+8aRBxdqsFBufXz5PkF14tA2o6MEqsTTCmEJXeESZxczQEGF+sIbdQxxexlNJMrsR00AOMOEuhEHit4goBVWfoJUua+TN4cBkiwRNy5aa58x8xsSIpj86meET9zJZtJMLPogaTFAPqntPwfd4AjN5aunZxoCYsS1xy5yNTk8eDEUjhRjWD/2KBFdwLHZSHZk9p2tfB1mNUXHQA5gM01/rxg4Xfbc7Wi11EXRTDf3orjZarXAUdFl4KA+rshzc6GB2dnDejuP45LufuHl21iiZK379eWTBXpZXCTwU3/TnZjEJbZG8Jy91ZIeKZb89DEgCEi57CZOPyhYQ7OJyjvSC+QVk8QCtZN6IxbAmoBS7CSnRoqikR+mqnEgcD/2wACL9LPHK3jIlj0PDpfJP0awlamwj6pREvZRQ7E12iEmVgMqQfCL1vUBFzVR4PShPc91r+jYxelW2q2VZL5w2i6PF2elpaUc3jt1uV9cLZYy1Y1to0HehDi/rnbW77dZZoGgVShemdKBzeXi89N4JxCWXgQ9ASnzYDp49dRqTGbOOSXIwNUG9F/nwy3NHWTRIiT7FXNNBM2zyIXBmyrTxQ3q2ykXsDAX8ZCIdJkqc9oku1qTlNl47qSDmIrNxM8uMLxvlMFlzmUumQl/iDTGKKBJjqX1YWozTSZBQn+xijBDx+3nDncUxae/Lj5LD1eRiy1LZ4Ku2Lup170Nd6TCOu+12t+ms8yXI+xpVGGgiRtEYj7xAj7b3zr3zoTQnj75L13WcOn7dYqB0fGolcbOQbhjYj2cf5417ogqACrNUKt7XIIyhThKcJcxgJsgg2kCxPVzmrHFpl/aug045dp/RioKmXdrghaNFGWvKXhnSgyIKx1gYHwIpD8IdqlGIbm7uQWULli6hbCMm/ac8vJXQRDTqIjaU7jeRiiNNi0NX1BIkARM5NldrcjEQ5HY7iJmohQpLQ+APEFRHoQChZEZwbka5IJyQDDabHQPhxKJpj08fvf/Oi2Uo7WB3XecNVOAWdTPuhuBDbzu1aL0Nw9iFotj1/b3zzd3z7dHJu249/lSjK4jqUpCTMr+Z+5lumrJUYDgA3f+kNYPv5DOfyEdJu5OMBxMhsixenPnLbDhE4k7jhxjWYGHgyCRgGpL07qZNcn+DZWNmUGZGB48aalwcw/GP2cpjco8sA3pyqX0pviKeOc2jJ2+YwZUxQ8okqfmFVL8JvkoK1NwekD2q2DuolAIiVeFioj0DwA+mgcn0453K1B7o3fRXUwAHIXhQnLjY9aP2tlBLUy2aeuj6cmnqqgp+BNlo76q6HYZhxBU8DnZhTNs2oIqAYw+iKNbB08ifnHh0pKbzyky7anQwsXQkMOhh7kv8LH2QKqKJT3DNO9PGkOq6/F4oiuC5HPy66cQ4sPXUR3wN8ChpDjJDpM4GGALsKThsQ+YpTEwwaS7O0ex95xwTIEofKFdiXDS/fg3aNun4iXcU52kAh5TvkcPWDTwBHKHBfDOWjeK5kvjskMKU+56MmDMZ95OuIDaBuxLGthSLug/h/uWVPj4tFXCvYM91rva+RL03ABeNggEQg3e9HXZDN9qTtlksQM6IuIeZrOBhK4lqV1NBTtnPrsmxKKd8yGuGlVgLfM1ogozJ771m3P2J8bDy0dyF76PrtN0Dk572Q0R92bo9ZgUAJWDB2IPoB115nkDQP5BfiMtRXFrMuNN+mjFJAcbN1hMwI2VwOum4pzxPGDRxb4VTYF1lvkIcWQNOWgc46WBlvjClzmREoNXAbLE0ZQ73CWwcZg3f5GY4/o0IuOzO6Kiob5oGk8Bfm6Y9fuSsdJWHNGRTq2ooVbtoIWxv6t7bo2bZXV0pZW3lQ9GFsry63IyDXR6fqqoKBu+MjEnKLYO+g0LdWUaZFjb23OH+MCciCQuTp4xPPo4FH7rNFNjOaifRiGccjpmHztHi+IhF4ZXv3sEPyi/hEwZ1e6PsGv8/OwA+Lqc1syU4eZbZapDjzGHpGLCKUaZtnWqWOZ6+t8ji+5OtgFued+EkQlJ2eKp9gfBSHoJ8Nblw1vkjUCpvbywbB3z8Qq1vnNmquthcLpVeHrW6rnZuVFoDuQ1ZC/1muzhurbXBumEcb/fj6pn3Pv11X99UdRydFcGzWepNs+ETEDA1wfwHGdHD95o+j85+EizTTyJGM7kDs111Nhp3hlfP6h9T/PJhljd7GYzh6H3JY0cThIcnhz4IIOVZhbDkYzdJesmdSdGY7LwokiOioPR0c71UuVoGRckD0aLg+FREbmbRh4xbw18zdxineKRnK+55j8mZUJ+MxkmdtpieclkQpCxDoayvqjroWteLZrGoq2rRtJfbK6WNgh52td1elo2uF6vN5fkAo7SH0/e877nv+N5Hb95CKsakLLbfnIbJRtIKn8byswCRN4eY7dNfZw0AdFvItRB9POdW5dHezMjyaC1LnCOigmX6xA2YvGbHmZogVBQofpVEFf4PpNwQB5Y9l3LtPeIt9fbicoGklYA9iQJFmkPGGk6RenoD3gROSvlR8xbsUfd82lztoTeSZrfTUFIUgYUPsQIe2xwYFuy5CJGWZZAeP5lPRKLWcrPiVoJxPiP96O9pdgvgy4oqdNhhyUJVGKXYUNQmGGXq4dKXozMLf3l+31q7rupw1Q11oZtqtT6ygxv70Y2AGz7y1OOPPXKr0u0sQ8zvD7t0CnGu2cXE8fAA3hJG2omboLlnh+J7LobFDRT1dPYNZS91yPeuKK7CskH4SypH4cMiwxalmf1tTfIk+MEIbETjfzn0zqfPx5VD4zwYJ8puRHxPvsjIb041gCdnI1ZFMtncLp1nW2J5MMomRplsSNS0zp2jOb5FnBd6ZpbKjFmLba4MMckfuVqTkTzpMeW8HjgNsFyMnCRf8SjBs1o2qgne2MthW/ZlVerKqMGNxVguFi20+FkHJjiOu24cvF4fnZkGjm1MNfN8+Y1yqJk8G1OTvSYZXtpD4uPK8uh9ByYPOFy3C+/zoqcPnQCypMmepKe45WnuCmfOm0yQWtkxQsfZxwQ95ABEIsWgqI9kqSkmyBBpyAmmy6W8jpYcf8O8GCQd8TGxkoDV3yTAn0omeNgS91N4Dy5TSuIoZRSUG7Nf+C8W7JdPp1lR2SXEXnDOBHlr5ruPOWsYycnGFnmxErOqSrd5sLl75zFTLat6WS2qGrKrLvjlYlEp40ZvNYiwmrbqLi66oB+7+Ziqa839kZ4E8gW1jxge1+Aw4zjoCGdRL7nM7CbLH6it57oIfhYJHOzv3DPHhJAfiGF4k8ks/RDkQuOyAISjKDtaHl32BBZOX5wGhOQXEk9OHjbL2NMeHRfN5CwnlirvYd8b5fnTyWc3Bb09yyZhj5WHnnEBILF2hMosNI03KjdMkxsF/epo73T6TICicj9ROOPAeV6POKOQqkewGCE2DaFYVfr2K1/+yX/+b+49uFs8frOxY1DhVnm2XC2MMUfrYzfuFqbpXXBjp1Vpy1A1zdFibUJbqcq5kbQApJQFULmj1qoS0nVsgFWkejR7fnk5SuQYeXx1/C3b4jW8uPxx7Gcb+dPP30O0Hul4nFRHBcmS3FM65vMa4Iw5C01bMNWLwGdaRtlbkZ0A7kojq9wVo3MU9k1AVPkngXZ8TlnOAYFURpfKMjU+CN1x/lsa/5a25rSaiGqAbUMBkcgJeVEoCQY6c4HISUuRY1x8kVw6EVrhmsjeaRNxwQE4B79QoKqJZuh8XxY1xDzAkeCCKPpsICQE63/qP/30HXPyl//W997549/duM0Tpm2X7ViMQzka3yDkUjjfh9rURWhMuHf1wNudVhr9vWY+PaR9ELNCGO5hfh60E2BXM4Z36UnnSX1mbBQ0T7rg9jMJwU34SR3U5Zil2NPYHcOexCdi37HvOD2N5SpKL7W3fayD/YyHQZWEBE7gjTyqkzIO42dTJJMOPWNZRvwlKzzshwZ7we/DE/h8A8XlxwVF+fZYTeK22TiZByt5PAIgm0CZJEFSlVxydio+8cdBINY3dVkUtbV+sD0TnoJvqualV17+zItf+fs/9g+ef/Z9u+e/7vYbLxW377rC6tIO3Xmh+8L5wUNjp99e3t35t+6FbX1mjk5DVTnvAK7Eb3feEWmaS9ZSFJa1OjfBKaUPmEQ0iO2aOcJ5ohrraQf23HgrcnLhZJFPzWh/sxZfUEzJBnGM94EvNemZYOs//zn5Q8w/UOMa1CvnCoeJtDyF3HJXh1IJGTz6cMubdnNPPoXvzFIc6vandJsaBmBsFuzNwM7ju0bLC1J7XHXkABIENElIcSoSEdYpNsVxGvANL37yU+taP/m1z5njs531doBRck2rxt1u2SyevXlS3nnxmQ/+hec//Pxut/HDEHa78eqy3G27e3dxmYRx15Vl9e7nzz70xOOnJ6sw9lhkL0QqWcauxQ2Bsh3xXg8dERVLxpOS5sxoaNOMZclsSWdZYFyNFBJN+8hmGOF+wTd+7/7vZxDmntw5rwu6IfyoZfgGdafm8pUzRiAlIhNwNb8FWKoZJ0LDnKkg9hHxp6kwxewVqxoiSUMCKJwbGK7zYzAYSgdiqi6K+uI2HPP6udYnnTXNGiEBVdqrSyBGgGlrVfW7q5/6hY+9+pUvf+SJJ/7qhz/07PPPnT3zdHm8LDcXv/1Lv3x1+8FP/rv/2A+3/8k/+6c3Ts5WzVIdHcMAWOBOYw8r2I93vjDQ11fcu/sW7PtQcwqFbYNyGsa2UdCUaWRhlTz2Wk6Bw7jO0yRU2WTjZ7l9nZwfWRF4AmgRSEaAkRUGkUzcxoI78E2J+kQYaBqLPs/ccc+VQ8+TmKkVRkfIc9DlAGCCvPIcOAvKjrEFX1IEho6QEGGtJQp4vk1g5hGhZr4j2dcjjyN79PhP6jbKVgPdqkl8k6w2mjvIuMUPyoKm8jTpy7C+R9xksXcpu2kC3U7QFmJfg6SMqGFjCyLnZmCg3/X93//JP3nxU5//3G//z99a/tyvf+Cs+dBz73Xj+LO/8du+PX311VcfOV3d37pOKW1HaGEfQbyfOq9LpSrIgEBkrOuH3eXmxumt3abTdTBHobT1CG3ufYKPpqsv3p24M2ayM2yFeM6oGpBFZpSjZGsc4n1O4ngYNCtY5A8OjwHkLAHC0h6aP6u5M87EX/L3Z/v1xPvS86S1YUQQPZJxpHoRK3V4EOC4oSFHcldewEgNqqlAgifGMxRS6i40MkQ0om2xyiVlM/nMt2iO0v3OsWBKydmFo9eKHfyYYebvSTdiH+vCNkVS3MesA6mxSMIhmx2ruvr2D339hz7wvjd2f+X2g8uXX3rty19+9Wc+9YcPNtuiPlGDO24XutS7vseFAE+Dhm3wWsUFPUIZF5by7ddevf+V1770xZcXdXH1zlunNx//yHd/l16u4o3Noo75Q5U3xEcEZSd2gdkfYo1Y+F2S+UHDN9Njg5uMPiSWgFSkoXSetZ6lGGC+56I2FW9N129i2VOg7+JNldyW4W+iR0+jy2UaD0qy0VeSYc0JXWRk0f7kTwJPIkuPK7NCD2UV+7gJ8tmlCnXUlpxeQPLbMeuPcS8FfvE2AXUhQ6TwghGB4za5jGVDkRC5c2CzwGRTWvnA3mCAF9ozVpWuT5ePHq39jVu7Z77m858//tef+8N6U+58Yery0UdPTlaL9aK2fqh9hdOqiEvHU1+AsqA10cZ+6w8+95k//vzlZuuMX5ysutd+74euNj/wIz88I0bNorpMXDRPLQXVCod7keTfE4o1YU4ZkUUAUWoZhjwdUnUqiqKJs3eI5ewD8VhekuU9m/NzMXFi301gRUgwvFdITVGgkw9MEyzbYDSEAigQxMggmmyD57gFCVuO6nJ5Dk90a2JXA08Yfw/QDJ0o0qigfQIXHfyPJ++yvnnkYCcuNE1igmWNTUEwkgxbFfh/2FkFM3MJm1U4roVb+qmJBKmFdHy8QEa1ge8JRTzYgtFFwDWDXr7zYYSLs9A657yD+V3e71ywlT6+uf74Jz5x985GL9ux3z3/jc9+/de/t3XD+Z23G6SKxtSBKyh4p7n5wIXX3nzrtXfuXeyGs+NH/tE//MenTz39f37/DzdXW4GpKcOjyQb8wuQfO7Wnj5DyJaoX0ezBZBZkBXCxMDWYnRDEWogmcLKVMb5oqRUjpT7wM9SlLPFFE2sl7utTPx1b/tH9wP5G/JssJYBiLBFqIxsBVyhM7kO6CQrYkEcAX810eRZUyFYhXR52nCBsK7lFLELE1IkbOmncQz4JNlJZ57nw7N9fha5opOXmvjm/O7I8sJoJfmgUYQ2SZJBwD+1Dxx4w6iaEs4WkBP1/UdiqqY0/v/PJX/uDP/nM5z7w3iffvHvn1s2jm8fHD+53F6r59Kc/863v/2D91JMO4vnJ1CtWzTVmGIZ+1/kRNBhuHK2eOln9te/+nrfv3WtWK/yexH0SQjJdRX6B6eplakZWhEhfKUKJSXOUE4voqfL47BAgNn3oWZA2edMUbcaEFFyIRjWl/K970SEfyiC9gPxTghyJ2kloPSVQuTOHXA4KyvgDz36XM5bESvRMsXuSYe9U8diHmrLX4dT98JupFpJhBwchUHqjB4fttIYWdO/Ro0CDMOhzqrKExrY4CUK0CABYr6pVURa7wS/95vZr//bH//1v/tHnQru+v3t9t9u99/1P37l3+cbdrVqe/P4Lrzz6Cz/7d37079WPvQv1EedYGncy+LBoWx+KXbct6/Dhb3h2awcEf3iIS+Y+U+SedV7zL6nTPm+WofQ/u42YrEz0BShGmiF8ExLJ7E+zDTffi/P7nG47/QZQMUb4Zt1w84cdAgAF4MPpjDGKwjgL5nVJpSV9E+OCdDdhC8OqMbBawOopBUM3QwQV8V5cvOQAOiY8kV4v1h8VP4Q5gRsTOQP5xMgNhvAPUI+MmqEz7ApXDpNRETIcaY+jwAHr3dS7WwYPtRH0+ZTYQ+ChPXCI6ka9/eKXPvHLv/7K229+4P1PvHL3wcf+7wv66EyVxcUwWA/yIvf6XeeKhS+37SO/+EcvL+qf/8Ef+7vq+CYwBVXpsX8vXq+11o5dGPuqXb351t3XX379ufe/r97tqANG/MQUXoG9FuFVyJRALlgeNrWG0e1EpsyEkU4PPomxwpZK2Bim/J4HTQBSyusupYzRpOjcOXvI09D91RV/g2oySF6HQuhAdBl8YIrlVIQ8RTkDpSNsZYQPMVlJ0tf4NVFkjaZkSzkhx0dkOTI+wJ+LgWlcS5wMJMcescgE7kSglcogmT+jzQNRq71bk6c1ErlO8Hp27og7EPdZMmluLMMdtOwLv2jMS5/4/Z/4z//t9vuee/KDH/mdX/31nfXrk8ddd+W1hqXriouLK1c1ozer4FSo/fHjP/epz69v/MoP/e0f6XVredA0o1fGGOd914+b7W5tmn50L770xW/8hudbanuQAm9OoaB/YYyLKT6VENKVcBYZW2Nn0En8gTYhGlcOegTi7Ges1YO8mP0Dzn6e/SY2g3MKyFyfFEQKbMlmYKyNXHaaxciMdKbHZM6TaqlKQeciDeCm8B7choLZS/SoYVVxAo1j2OmeptZ1VPCR7UD20Oilkw0JlStVgafpHtRsCdwCxhRNf0jdgYwA4l3I5ogjUz9eFKpuoExgCMqYqtSlhTbM3eWDqlav3j7/Fz/9X5a3HvlX3/9dL7/yZz9ebUZfNU3Vq3U5ggUbo/oBauymrnZ2qKypm6Y/effP/NZnn37ygx/+jm/dUgqCbtvSeDWQ3tAehH69Hfsv/9mXut0OyYkg1ynenKM36iRSLDGGukhwoiItkq20WVGA817J+iM1n2lBBL9xZyucUW5DuW0djJemhI95tU1OTJBjUQhCpGUa+sv7QZmK9kCOfrgeJ1oS8MwmRGj4J3Uz0q7FmorMVKWr08QkQHVLukpq9IxNBtI7CDs47sW4S7AJ0ubLuqv0VKKnTDOewG1wGQ7jOdYSZuoOpn9k29lISg6c5Gci2gBvW9vxweuvvvHFF1768stvvXXnvOtDUb5zf/vaZf/+xfZf/oefeONBtzHHXpe9G/q+00UVdLlaHGlVbre9aaudCwNIrdobt2521eP//Vd/7Znn3tfeeszCOHAuXe/C4MswWugndcEpU37qM5994cUvPvfcB0mkOlXUpzYhGDwD8YfcT74DJPoSNhejVIOQ38gaUGAE7ybRNiZAzwEvKIHsxCIjTj4zqQjM0Uqnq4EiSjpa9JSYjmSjoMFOIcLLDobZOxM6svVFqjDgN2kqCk2q4HmcOJmTBj2gG8YubkBC2ZjiNUDMLskN1YnISiJ6R2A9NfxKki/DjiWEjAkdCL1x5ADhpqMmKdpzxbFOeTrURKwK5z/2S7/4B7/9yXcuthutbVmB81IaxyTpN+7vOl8MTmuDVaxSoYZkryuoYm12vtR67DtTtzrYvne7y+3x6fEX7/Sf/tMvffR7Hx/63oCwkrd1WIH66ti0pjlqlGk2m/5y23/l1Te/7rkPYoQa00Ebw19qQo3BBlNrp3lojKQl1CY+ES54rgPiAJvgNdoh3gXAiSgs3Gt6muAJufM75P8imY2RP3Io6aMRTpkYdG7r3iTpQmTXWYIDqLjLdVcCllI8hTymAL4Hjg+4HhH35Qs5hMEtkkJOkJWKMXk8FSDeo2q0iAdPFpy4Xsgiqc9DuCzxndOOQJaUlwcZM2sWhJiYIP2nD0Vb69deff1jH//U3QdjqRbOumVd+QBtv01ZDoXqBtVbV1SNx7lI2Kjnla7rqt71nYdGYVMbYP5pbZbr02507v79sq+vBquVV8M4Dtuh23WX9+88ePDxP/nszo3f8NwH2mbxp1948Z03X39weT4CuhrtTCFdkLOx3DIICJ3ZAW3EuGfAvaIxRDGqISZyzCxzQ7gusEuul8kTDDeSUOcs7cv6djh2nxNjmQyQRmvJl0iYAAU6xHt5k4od83gZqfhF2JJcgCUgA85pkoXJRhx3hIhbEXw6rzshJ49cdn7a09SMr0oK7QCmxK+TfUvahCM7hurms8p69Pxxs8DnVl6eXzZN3TTuarcFz2lNVRR9D92WRlej8hXI5IM2fqlVMLWqW78DSysrjUJjRdmsm7qC2abjUBszXl2ZsKu6y9/52P9+5eU379253GyGd7aXr1/cvbpyfhj17is3bhy/56lb9+/d6boO6IEBiAww+o+UyA8OfziUcGRxIPwlEsjFAtI/Z7ZG92gfiJl6PioBYnsIbKVE1M0T5/mn8d+TWgxHdxPTTIIeJQ7IHJCIKUSJoKpSo/eiVg0IuZA6QZNE4diYcCDwQ6EWIP+l53F2YwlcDJiygXaDiSe3a5HUfd79zxkfrDSUCo1bicBdkCqBpxW8i6wc6yCS/3AcCyEwVZOQF1jMQHJmSUttkFlkpXZFMMuFNurs9KhetFsLPsuVBTQbdTAs2Bi4SBgiB+K8bavXrrSb8TKMdTDrYOBqtS+WZlmv6p0drobt9ureu9Zn/+vTr3Q+bDZX283GjsMYdqXzVdCtKV998+17Dy6fevLJo9ZQoxRyR0g0NpRq1KrBLC9uv6l2HNdVpgIfAawSAj+SgmXonejwQjXAwB8lxKECQhFOxmGZbMfyA3TrU9ANJaQp/hLnaiUlejwxGGqEw2CoyEFHz9wngd6c2pPdyONBc8j0m4A3XipQ8BWvyVgMaxvR5cNvVaVKB0Qb2BQmWx6Xz+WtCNjlme9sHcWri9yLicgxfhcXptPyxhlMkvHtHTMu6FkRBX6z7bvHnnz3U+956nd+8/duHt84bsy40mOwVWi7sdoOo3EbbSBcqXRb+Cr0vq2ae6qsVN0UqtCN1ovKNEEpq9Xx8Wk1NKHsisK88ebrMOPG+8XQ92MHLGiYCzFY5YOuz7vxzvnlaEcYDoZLjDr0uReYUDV88jkUvF9akF8C+RXzZRItioZBFysfZyA0caAiCha5pbFwJa2GiMAmtze/vza29manhzU+9B0xWcGSSW7rsZWHQ3hVItMdty/MH6KkMhHpONvkBy6cVO5UkTgZhRqJAuAmkB6L+wJRZLIgsFtAznsSC3InklhPVEVJu3b6FK6UBPoLxBBH7GYPL6s3cEoMbaGl/76//n1v3T1/4TN/7LWuqqaumlZVPYgmmWa9ojjMYwm6831r2kV7PI5WeavHTjeNNqA2YpSuCrVYH6/K8sHbb3Tnd2twbFhvd07rGuAVUxVlWByd3H5w/9V33lLBHZ+caOrNQ19ORsD8etEoiujVjCkXL4T+WALcM4AAA8wQECZflvCS48C4EY4l9ejk9hILASf80jqIsdYM/KebHCEiGucW7R41XiY4TSxG0EXFKzIMz8ocN0KOMFenMBCRT6xoUBsjoWikgy3AJtOdmPiJOy+DWxQOk6QEtwzH6fQSJbMbTsLovJIiygNnQ9s66e9ClkflM+p5SgExnTQ6eRVY69I5K/XDPbAD9jo3Dv3xavmjP/w3/+tg/+izf2yGnTet9TAKpq2WjR/ZipqF1u1wdXnZbSE9BmjceIjkgmqUXmpVLwEf2AyqXC5vPh7Wx7sHd3abq6rUtS6HwtZKtY0y2hS1erC5dONwtFw/8fijo5AAJI0lXJZb0GfYW4bxxg2UmxfhnmqiVMI9iRTgCY24AH4sMUwIBuHnwNV8Qfjxw6LkN8mLc9MnVx2tTBiKaDXkOYifKH1AUbU7r6Ya6bogoA9XGBmMLCBu/CZWP2hoUFWHnRRxO/AAUGiRGiQWneFsMZSkvIJxH+EVRMRcri7hmXyFnGJz5o/MAfbfqT6fkQ2gAwPwR1DfIviMXTlGBlIGzJv9oDkp2OCs3Y5LV3zXR7+zXTavv/yl8/PLoRt0vS6K0vowDGNldFWYquzNojjfFEOwuq1GiKSbwrmL2/eOfaHrpm/XOzsWduu8NaFYHN8YfeEgdylL70bXhaFfLpc3jo/Pq/tb6yttjlYLB4FmjXkXCkcRgwSEYjn830dJxBAl3uNo2PFtnmQZcbI4eA1evAIAoc0R6VjjFiHqAzjCCQrMezvvdDvOZyWQXgDVCxgnSwEcb4YTsh99l6E9gEa/5XHArAZDzxK3eBhpJVafMzdIC0yENGhxQQJLDchzEfNpVBGTuFw2ZHbt9Eu6SDSgNIWOD4gBBRbeSHKPEPJ4MakVX3qGPJCSSg8fK5V+19nJX/2Wb3ntySe+8IUXv/zWnTvn22Lol4uFaSsfghm6Vdn7Iuycqg0MmdNVrY5Pul2/u+zHu9sj++ri7FZfL4qhr/HrbdCL9YlV5TC4yms7jq7wquze/e53nxwf371//+RsDaQSwGKBpoPTM1hhC5fTvsRMbgcI4WCiRmVArNYRWQ2cYcZjjpAt1PQZHJR0mP6BHjcbwxjR7QzTO3gm+Wvm3vL9Pcd6qK85LhPDvjH/jpirkgejzZudGcwpEw1DLD2lXDULzsSJomVZ3O+i/TEaEk+bincUVO5PQJU7korVuJyQ1yzIKNxvvEAJO2FVWZdAegCUaTAbLFMMkccBAVztisqp0mtbteVal9WqOTs9efY9z/zeZ1/4tY9/aiz67TDWpqqq6sq7q6ujnQuj71o3rGrApuurC6/N6mse312eX9x/2+369pFHXQX5rPVhLJSy/cLYEBQqX5q2rrzy964uR+9vPfbID/7g33j01q2h6zA7h90LKTY8FYVDi2nwl4fOzDpDSJA6qEW7MiM24Yzr+EBY251ulQSLELwjOJ72JB42kPqbZgsgnWECXaHxVCCiiV3G5D0r5WOXKnlBogbQNSAvlHreiBmqQIgtBon0RR6GmtLn8xSdAJFY8ac/IWksjUfM2JcUYjPmIpsHT63JL5UzHSpBBxoOSyo4AlSKZGgUzqLG70zdFh8O+BjvlHMe+MDFom7KwthxcFD5KHXR+6G42Nx7/Y3bb759tb165/V3oJq2ONF2463tAfExriwczN1Zlk1wphlGOwILsVyEbWV8cetW1/W78/uL1UlYtSM0Ubn+6p0ibIrmkaBLHZQdnS3t5rW3V635ge/56De890k/9KNxlWmz1nnWmB8xW8RgSyqVHKExYsEzBLAmwRQjziFYerbEzIZuuLRsY6GUs8xYfd3D+aNGnsC5cYPMVOMnng8TWShq5AUAmYrFeu4JZs+GF0fFffHC1AuXq/xNzZ/q+vwFLJjFTd/4M7T+R69KsQBABUJ9zddHvrKjXUohhGouER1Kn5Hy7wxz3l+m4tk5vi9cAGBOF2Oj/d033vzS5144f/uOCmF5tLx/vrt978Erd965c7m5GEGTfFRqsWqxVNa4EDoFlWigG1bNerVuT49O10dt017cfu3+/dvh9q42VXNyfNQ0FxcXVw9uN+64PWrd5q4fLsNiZX2xMDr0Y6F18OFiszk6uvnss88ulwuLzA/IrykAVAxCsY1JYoCxOA3py7XakGNIpU/ZQ4ihQHZH9HSN2jry+Cd3aXbrHsJ/SYyqaZV1EpimZySuMdsaZ/YXP5imL3FQi2vQApM67qq5H6b4I9kfKrDQKeL40CluiY0wgMWgq5o3iGEsLOwDYUeSEAdBNrGkwUkbvKISAItfkbFG+kwCIKLLp1kEmM8Xquw3l7/487/0u3/0mTtXO12fAuevJEVstQhVoVpsUwjjOKrSmnpZLqsiwMxqt1g3dbOsy9N20QSk1Ny768sqVKvdsC1CeXXvLtRHxjFY2/Sh2Jyvy61eHu1CWwdjx87A0AeU+tUwihhKewbuf8akx/YV0sLB4XzC1ADcMOpsY12KakJMIM1pobJxxDa5mEHPVWsPiEBmuGP2mNLsNIHL8jphMsT9XIghm73dXJ4MvKKws1grlyO5fQn35Bi+Yg8YIN4VVU4QNMKtk7vE6ZZlMztpfB1h9Qz8ELGBvs9wpBwLy+RUkYcFLCuWF8KaNX7EkeQ63nZNurBS/8Cn47j3ANYDxfXQF4MXBsSnpq4++Tsf/9hv/NaVPg3Fqh69NsYq7QtoFRkNMKigBTkYN2rnra8774tK+yaUethotwtbd9dBa0MD7Su6LCpT1X3VbTaX8B9VVWlji6YsqnvndmwWa21AZdpApXtj3QDBB9SYLcigO1VWFGAAogd9MTCchHZKSEahjV5hrEToCYuVUSPELErLBTekZwrgVDjgNDiLWEfkI+8XRfYhQNzVafD0NGuIlhqjHj4ysRN4n8TOHMmFs+hWoOncPMkBMaTCKvice4DUuChzkF/imkeqk+Q6bzQ7kY+aJV8pUIginvlJlI5mqFCYQutZkJ/E18TwTsZmxUFCie4QG1JJIhGxzLLo/Pj5L77kW1C1CtaO1g7OmrYqgS1okOBYja7sLew6pqmVgZ+Gvguj1VWj66ZdrbdXu93FcPN4sVxVoRth1zZVWK47O65MA9Cz7bHmq0cFXG3rrAXFc+jXYh5mCFoRgKzIr0AzFwVbhPHx08SNOWIa0CkB6805AMJTrLvnxmIbET1MgelQmyQz3Kw6whLcM/vby8dzfUm6jlmRZn4yETX0kYzCkxvS+5MJTtILbAbHjZUGMNE9wDos+EUg384qbKWimiOZLg6gBDogZwwofUBbgwZflS+lfPiJJC6RSElxLkMqU4pv+mpoyBdKBpcCs3AEul9I7RLiLlvqpq5CqACq836wA0CAOpiqNsb0RbmFCEA3i7IBBcq2ArX80JimXa9KY5qmsU5dXvrOatARbMpjoxeIxgNpYRhLF06r5dgPbhhVMeL+oZFK5jVCIloXpbOLpm7ripTskE8fvQ4ntBQISy2BMpIEI8SNNTMbRkNipB+buKPRie4Hf1CcAln5xCxm7jDDU/km02PKeTE5yiF5ZNIJpgSX4dxpHmOkSp0QEyZQyVhz+hsyhaLa1YRPkS2CpMwj+ZlcEnk1vCdxqDtNARHnnexJHFvSZZP+ReqEjE53itqnPUVCpUzSEjYj7yvT3HjkseBeWh+1224Yh1FBG6srvQvjOAB2XNtg6qVeNGVd1UVZjSE447SqoNqGhIkbN48vNtu+G26Uq1KPyo6N790INueDrwwkx4VzVVXYgvIM+OAI3Dbke8EP/mi5XC0XBuyRwmsq/8APUOqTBuQYpouWGkVmgFojrZr26PmDyF0agh2Wy0jcSc2iC1SAyY3sgDNKD5d+wJaTQwM+DpjDLDHAgJ+CrqzGE4zwPnnuK+muysjW2MeM4QQC96yMlmq7k0WQrVeS2oyLgNBTJMByzIppCvEmcLOVc0d2xaRYF9mKFIzycqcyIOR9eHJF0EBhVEA3pUAAlb4xQEQxOARz/Nd++Jt+99N/cnl1p12fYWAN+xoI1wW9hfOpF41ulqqqmkWzVKUeDchjaaWPV8e6LEYLipVVUWw3Vxevb0GNY+ybSpsADErIbftuECekauPcWNJUZcBYEHUC5RB7dnK6bBahcAaoOCy4RpanEuYlM2zpCUJRiqMxwZNNph6WrCeXKY+SCTH/FaEBaV3nuv3EpxzkRsjP1JoEroTm2Uctg/guOWA2KDmzaXHJKRYkaVSCTrhEI7N1aC+OizHpJXATMXrG+B2iYgENX6hrwULQWbgWMWQ6EnS1ye8FWMfuFcn48o7jlPLL2acSe5QjkXPhCwYtao8sEmTTDd3FM08/+U3f9m2/8j9+zo7DcnG0Wi2c9f3g+7GCYa5ar9vG6AKsACarl8tFWxiz8+MuDGHX+03fD103XPiic6HWYL8w1wZawC37BlcA1RnGjIxD8NYCL13msaFzVqp67ms/WNW6H0ZupUFclywvYrbMS2CFC0lC5fJpBkzsBtozlIlH2g/spLKaIx4JzqbBHNNCQ2agWIqOQyoP9hfPXrP8JpZMcHyQnD0dCmd4UGEQCf2HDislHppBnFYbL0E6XUiYUwGRMENp3Ys90vlMLw578mal+Jq0hU8vdYY17l+5qH5BFd7Zwu923/6X/uKDt1/99O99Yns5FvWyNqZQzW4cXPBHR2vTmKACCJHgOS8LVXZ2u9nsxr7ve1eE3vYqDMsWhGLsbhfKcoCNDjZfSRFxhpEbt0OvVanaWhvtLaw3iIcUlPsWixZ2JMWboNZI2hJsL3cevEfHXq0s/osd73EzzUbiHDDEyW6rJ7PB2AT5icV0ZP9QbKOMZHPVYD4eIr6uE3jNSyYw+kbcC21taHzAP6XsBcfZ44P0HuBTANytPNrJuuK4BKM1npzJFHQFQhkcGxATCZwWSL3gxF7wEEQXRjuF8an4ORUgO8bCWhQhxVFkdEfSMCZlYLGgWgWJ5ePNq6R04pDxiHQrY0bbmdJ9yzd/W9hsX3jhC/eHbrezuqxX1dGy6P32PKhTp7WqKtOstXduKC4uLrbdbtj1FlCV3o2bCi7HuNK4cde7roBkeW1MMezuukJX9eLoaOX67dWw1fW6asyqrQZoUCp33lzsxtOz1frs2LnCqAa/ivxfxFmkvSvaDe2VfN9igbjI/JCQwDmyrLBdgaRRWCkKOafCwSMiDu8ugIpSYBO/BPwc3VrkA2SPGRhEEWJkJY1sr89ZWA9vhqLDQx9xGvBEKxD5NtxwgNEjnQ0ckRMZT0L2TPWTlCK6Pxb8j9oeqKab7hGKN5E1kmQ0Z6+4mDA3Iuom0YBosjq1QWWrEM9QoGkWno5IDCMS0jXDyhAIiISihvqwtSfL1Td95JuGwX3hK1+BK7LjGC7LEHb9ZjtsjKm7oe8K1dbt+aK+2m6dd03V1mUd7NYPV4VugMtljKmXldfAqDaVKrq2WgdVwwR23zemaB49gjKxt2E3tEW9C74vws3Hzr7/uz/63DPPwESwuqmq5OLz3UpEBGM+x9RI4Wdy+hKzQ67kc8QifEuMv+l4vEHxwE68pfimVNSYoDwT4CaeHloakUE5W2doPVP/jbvWfraQd12hI4FNmCQuCU4E4jhFutnRGQaEqJ+nlMehb1mAJl/HxAqRB47GBtAUBh94n4j6wFNiub4nnwD0kWZ24c0Cwh8yS0kdC5INKqgQ6RLvJuuxIdOE8y7qJ8BFQW9Bb2u0LpvGGA0IX7koP7L6zuPPvXT3lS+f379958FVoc1yBbw/G2qvqtLbIYy1NQtdQTxXjroMjSkXzQqUEuB6x1DaFgYNq43f9a6vjDo2xWBtB2djHlFaF+NFWXRNWyzWt27e+ub3v+dbnn/+a598etmQ29OI8024yvE1icMYbMrJuTmMNylXcI0uodDZPhcll3l2PZMV+CCRelkeEL3NCzAZMJQcdhpbN930cwueaNCgEqmBEj2XXqGTII4eyT4GjxZXoEN1DcO4tFTc6BypTkcNQdw6nLwUowPcJYF8JOJqE2KI5Wm6rFRVhCGLkfeMDExiFUenAAIRQvwThi3nzlEGAi6V2rPYfQK8rlV5szpaLZqbJ49+8On337l/98/+7OUvvfxqd/+tvttstn3fDyDyAWGW7ou+VG5RGaVaHyrliuWqaRamKGvsEfZny+Vitb4sVLNePXl2fKzLi2HsfPHojZtnpyfAQRmKZnV0ctreOH3kxmLRsJpBKIwmCZmYf1y/bTG3Pu9PyMGUPGljiwUpRtp5eDOSLTL5ztxrsism8YOE+NLvsyRmalUzHGefrHXQC2a/AYdqaH+Fx4k5MW+fRAHKon2gaUF9hownTWWnQQmcqqFhkBER1V54rSRVD0lyrDGKhydGBNNzkOXAJkZfBdUy2JvhIWFmiOOQgNRDZJmoVgOYEa0uqLelu0MhD/7kgwEBVCpcq6Zsm6pct+7Wyer9T7/3atdthl3Xdffv37/aXkLU71W37Xs7Nk29Wi9AzEbr5XJ5enS0qk0oK+tVrVxTQ7G30DAVdgEZRrDKGCqXg1ISl4kKHlYAFBRl4EVVuDLON8/2vhlEHMeaSrCI7ASp0Wd6jbmALt1CAHEIRBR1HuYxJzibdXxS8Yn1JQVwmJnavi3OKKgPeX8eLMazNbFDl4ZwyGGh2IpIHhQxWRwNeJ3UOE0GFwsR2PaFfpALcxjnUcVSDkimRz1JfDY05oP/KnSPMvtI9q80r4t8J+4a5E7irMISmiBxBQkrfeIqEC4EbhUz8yyAnRjZ+tKPN9b6uDwKYf3eJx6lnV4ji5egeij2OI1OAkZr08yJMiirLOCK3gEdHlSevKvK0nbM7SbJTBpjiwmAMQb6GGAxcvpbRgxZYI1D+AWrtDPYLDBWdBH7Ux25sImIaRaZUdwyG3wH76eUIIMjcvBubnP5rpr/cgKnX4PC7Dt7w0kGt89Qp1BitSClj5epAxgTurxZh4xb/gWPE6+DyQPIXkFk5gc5A5wtC2xRpvsS3MCUCEYArn2lbEsgRpC1lADI8cRrHGgDtdcojxRBbH5B4wkGkahCQ7RjmEesLJyJAfVNIEI4Uu4HB2pK7+CRucIVA35cgyg3AqCFdxomlWivwqDBL1dOaa/I/BWTNJQGjBE1TgqQGEQ6FrF7kibdVBxjWvXJZgrjf7J2QvaGpKCVG0l2E6LRTITLZ943t55srnsqGx58LrPP7hf3Zm+erpMyqxFDEQeQGgADmWRHU0ihLxixGxB5xAHitY47HbwDVCLQs410OTz5jcRSea5VARuggnnVYCX0gIS8S9AsJf9EuE/3Iq31uPWTSgU9CvGX0FElExUh/4WgVqbtxpQJHoFmeQsITAGpwfoxWB1PxFRVWTvvq1DHPihWlECWGHgwfN6ITeAlaEOKZSrYoEC+uSisgWkUNMoZc1derQSXsD/AEwLyTiJKptaWSKeDpUXotMCB0KNNq2ku+ihZgtwoBTxo2LEUshPI4FiRIbcSWf2JUk8fRy05nNfB5atUpM6PENvoY3aSJ1W5Bca0KqY4FAMwX5AGMGc8ZLvHAAAH7UlEQVQLghrFY3GWktk032H/tV9PnP4S0EcPArB4TYyDp8K2cMrggdEnpMhBNDQ+DsCSciv2Yt5cDSzjWmYzpeInyK/Q2onBooM0F5yo9FaR+A9p4sgOQsrsLAeEBBwIT0pVVBhJCc5B2VaMtrJSbH5/VJY87j0z6WKiyhUzKaeObu+eZ0NmALJWxgieITnv9CP05QdxbJH1obUthD35lv0tdRpRpIKFRKu8WihTlIZl2nwo/Ul7Pq1+jyx58mfYf0RTB3FvuY6x8pAXeUxk2VDfPwo9Z3VIOT/gx2U2BXkxAan0G5ibRW0Ge61d+XCO2d3k+4IjcuITiu+U0fNQbERYh0uoDDRQuiZcNJoxgflmNhMR7zbqKtE6Svh5boWzsyI8qpAddkbdk3gOU2Z5N3bQxnAwxX/5eCP5Bi4BC+A32SVz6DE3x3gCpDaByV1kxKXZbNc84nkWRfMZYsIe5/qSJ45vI6YMRqyiQ48PinRl0WVx9AUMN2xoQY8pmRTHDTK6g6UFeWpKBPoRt5NdA4EfUp/OythyQ2mynCAL2JKSPQyYIJMi3JgRSSqTPUhQFpjwdKjClUANvk14aXg4D1Vhym2Qm8y7OLgBCPhExBtUaVG/DnmwuKAxXSLpSPCjTja+3ArFBCmg5ZA/cMZGcG6aZphiPInj4sRd+XikXRV5oYhzf0QRZEiCzK0lnaDMbcmiDYdgP8qLafYzwxeC/EfYi7m0EY7J044cuJaDk9kkCRxaC7RwsXudL5Xa2QhhRmwJM1lGmLgFVRyWXDOfsmSnmZeWshtgP+TJkYxIcF1Swcq8F/9CgmsGCFgvLIVm/N9cA5CUMK5p7HfGmdlRARdbyRIITG9kmURCfqRrFlU1CE5hKROOh3D6cCHgaGwIQi1KjhpAhDsr8uZQrYT5KKGOQjwFWEgcMUdYXRYO4UflJx4kEQ1mn6ZFy1sGilGUOfFTvMexTcQ7Ng+c0pbKDUXcviO5URRITYNq9vefmUHPqiyZ40fWNNoW061hJ5KAn8gQgkcxOaosKxFKgCQQ+7yomJYgQIiPwItw8EvfKwEgBx/YVQlZM4nsZDv7BHmXy4m7VHa7cIOivZF9XVL7Lg0MvuQSarTmqXEQYZEl9bObwyuR3DbMCmGCeFR4SSeRFCqolorbe16eii5wVktgHrwndbEJzSQLsCgLTEK5+IpNJIcZAFOMZr7DiiNMV5FV9uCVZSR8v/EQ8Cj3ZrTzPTgY/8xsce8k6cSYKSPUVA5LaTOR+xTVV9kVU7NeNkQungQ/qdjdTgEMJ27AVqXBXDQUi/mwdCvp+KL4m3WIzU46u1OEkOPNEtyBTJu4XuQPhNHJtGnYV+gaEZymyTyEaMj2x6EFDT6hJ20MCk4Aah99fbq3SRqVBCRJ0oQ4NtMIPSY98p/QChuIAIN7Ux7ISxYiWzk/HYkHORVN1anMIiZFsKlx8F2iRSJVk1wYhP3WvtGI1FU0aB5JnCeLeXg6yQXj45vbH3t9jgVp/yTtXYw3CAFIqweTFwI6HDTrZ0yy6LSpzoFzZ5BPhnLiFHPAHZcGF6mewbgjOgCeKNt81Hefmh/OrJNdI/Z0ZXuy3GV2U8ioxHACpRUYRCd9At6BGSOISXEs2NAYFeKdi+nDxVAEQ9sQR7FR0iAU2gN2jykzZq68dcg0zSx4ZSI+SNeVRFtKd3KSYxKpKHMo8WoFwaCVVYBOhwizHkrIqAbLCuAk340KXgkP0rrCX3Kgn/dZ0nSxWdYSR5LkA9syxy/PK54VLun9J4uxIE4uwlQjERhFz3MOuOc3Yt9M+PoT557NZboRwEXGW3NdPfHg8a//gYeQkQVKd0BK82eQadwQ5Tec+E/nnGcR58RDcDofYbkIidGWSxoA7NViuDQNyuiVCQQWM0dy8P3xUxyTZbctkxGbU1SmBeWEG0QqTQZRUe1qvqvm58PDpB76mPKBOTQAZw+7mMoaaVOjQyChAo52CSiePuw4UOmwEcYpfpgPc2O2IlX3yZWICmpC+yI3IT2MeK7x/u47iextQlAjg5hSw7mGeIBfntCvLN/kZUPU2ny8XnYJQBuKYR5NucGaLxpgtpnyp/ZGTc0IdkV2trNFsnelWe6Zm2BygZFEHZdc2kC5hs4CaOlZst2A3EScBX7gEWcJ4uEVsr+EQLk03luqUAuVKxYDDRF0AkgVYh+hCLDxDHN89tRUCDRNbKLDzFGGufMPnCDDhhs9CsIZ04niXBeh2AgfM3KrUHQGd3C8cWgyWBKARQ28VqYvzrXG8ouXeBT3e5o5h/PksMMZxUBk/dF8aVryWI/xkn1x8B0jM3LntFcT2sdhAeDRst1ScBafvMyORGOBj+K3Y0OCwMCx69bHJ8eLkISjGT/bt4Ac6Ikq53QMgTiJq0bAVjQF2hEp3EqWx0EbAVas5R+n3Mu4G3yyPGJIjklzIq+zP4kFafnRaiFcQ6QA0wwHeD80kxNRJaOL5skpHwr/E8SXJAqk9+TNByJ0xRquXMjK+Gqk0YaTj/jgwv4mtQXql5cYjcA3qqQk7fL01TNnFqN4YBRgG7eVy8XSbuKB5StaECEJJRNnZNYTUxgPleiYGwhggP0NDB3FJESginTn4EGLrRBEKtMWAjt4I/jdYf+3/7zTjHUBdHNzlXdN0hG+hek9009mkFZ+d2Kwz7F8BCey8GYvo5+uIPgkxskMpBNuynM9/h8uztcCGMROPAAAAABJRU5ErkJggg==\" style=\"max-width: 100%; height: auto;\">\n",
       "            <div style=\"font-size: 10px; color: #666;\">c995dfbea1903b37dc48ab891ea95725</div>\n",
       "        </div>\n",
       "        \n",
       "        <div style=\"text-align: center;\">\n",
       "            <img src=\"data:image/png;base64,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\" style=\"max-width: 100%; height: auto;\">\n",
       "            <div style=\"font-size: 10px; color: #666;\">b3e15be1c5afe1e1f2c6b7eac5524b71</div>\n",
       "        </div>\n",
       "        \n",
       "    </div>\n",
       "    \n",
       "        <div style=\"background: #f5f5f5; padding: 20px; border-radius: 5px; color: black;\">\n",
       "            \n",
       "            <div style=\"margin-bottom: 5px; color: black;\">\n",
       "                <strong>Price:</strong>\n",
       "                <div style=\"margin-left: 20px; overflow-wrap: break-word; word-break: break-word;\">\n",
       "                    € 80.28\n",
       "                </div>\n",
       "            </div>\n",
       "            \n",
       "            <div style=\"margin-bottom: 5px; color: black;\">\n",
       "                <strong>Description:</strong>\n",
       "                <div style=\"margin-left: 20px; overflow-wrap: break-word; word-break: break-word;\">\n",
       "                    90s Oversized Boxers in reworked fabric and all over print.\n",
       "Unique product – Boxers is size M\n",
       "\n",
       "100% Cotton.\n",
       "Regular waist with elasticband inside.\n",
       "Oversized and wide fit shorts legs.\n",
       "All over logo print.\n",
       "Fake fly at front.\n",
       "Fabrics is made from discarded bed linen and reprinted in collaboration with Vaer Upcycled.\n",
       "Made in Denmark.\n",
       "\n",
       " \n",
       "RESPONSIBLE: Made from what already is. This style is made from discarded materials, meaning we only used what already exist avoiding virgin materials.\n",
       "UPSTORMED: Our upstormed styles covers styles made from what already is as secondhand clothing, deadstock fabrics, leftover fabric from previous productions and much more. This item is made from fabric from discarded bedlinen that has been reworked into an upcycled fabric roll.\n",
       "TRANSPARENCY: Supplier is located in Denmark, Fabric is sourced from Denmark.\n",
       "                </div>\n",
       "            </div>\n",
       "            \n",
       "            <div style=\"margin-bottom: 5px; color: black;\">\n",
       "                <strong>URL:</strong>\n",
       "                <div style=\"margin-left: 20px; overflow-wrap: break-word; word-break: break-word;\">\n",
       "                    <a href=\"https://nikolajstorm.com/webshop/90s-boxer-upstormed/\" style=\"color: #0066cc;\">https://nikolajstorm.com/webshop/90s-boxer-upstormed/</a>\n",
       "                </div>\n",
       "            </div>\n",
       "            \n",
       "            <div style=\"margin-bottom: 5px; color: black;\">\n",
       "                <strong>Hash:</strong>\n",
       "                <div style=\"margin-left: 20px; overflow-wrap: break-word; word-break: break-word;\">\n",
       "                    c95f3b7b37b410e537f33a71731efbc3\n",
       "                </div>\n",
       "            </div>\n",
       "            \n",
       "            <div style=\"margin-bottom: 5px; color: black;\">\n",
       "                <strong>Created At:</strong>\n",
       "                <div style=\"margin-left: 20px; overflow-wrap: break-word; word-break: break-word;\">\n",
       "                    2025-04-01 17:11:41.669000\n",
       "                </div>\n",
       "            </div>\n",
       "            \n",
       "        </div>\n",
       "    </div>\n",
       "    "
      ],
      "text/plain": [
       "<IPython.core.display.HTML object>"
      ]
     },
     "metadata": {},
     "output_type": "display_data"
    },
    {
     "name": "stdout",
     "output_type": "stream",
     "text": [
      "--------------------------------------------------\n"
     ]
    }
   ],
   "source": [
    "import plotly.express as px\n",
    "\n",
    "# Get product scores using weighted distances for all images\n",
    "scores = {}\n",
    "product_titles = {}  # Store product titles for reference\n",
    "title_counts = {}    # Track duplicate titles\n",
    "\n",
    "# Get product collection reference\n",
    "product_collection = mongodb_manager.get_collection(mongodb_manager.mongodb_config.product_collection)\n",
    "\n",
    "# First get the source product of the query image\n",
    "query_source = get_hash_source(query_hash)\n",
    "query_product_hash = query_source['parent_image']['source_product'] if query_source['type'] == 'localization' else query_source['image_data']['source_product']\n",
    "\n",
    "# Skip first result (index 0) since it's the query image itself\n",
    "for (hash_val, dist) in results[1:]:\n",
    "    source = get_hash_source(hash_val)\n",
    "    if source is None:\n",
    "        continue\n",
    "\n",
    "    # Get product ID from parent image\n",
    "    if source['type'] == 'localization':\n",
    "        product_hash = source['parent_image']['source_product']\n",
    "    else:\n",
    "        product_hash = source['image_data']['source_product']\n",
    "\n",
    "    # Get product title if not already stored\n",
    "    if product_hash not in product_titles:\n",
    "        product = product_collection.find_one({'product_hash': product_hash})\n",
    "        title = product['title'] if product else 'Unknown Product'\n",
    "        # Track duplicate titles\n",
    "        title_counts[title] = title_counts.get(title, 0) + 1\n",
    "        # Add hash suffix for duplicates\n",
    "        if title_counts[title] > 1:\n",
    "            title = f\"{title} ({product_hash[:6]}...)\"\n",
    "        product_titles[product_hash] = title\n",
    "\n",
    "    # Use inverse distance as weight (add small epsilon to avoid division by zero)\n",
    "    weight = 1.0 / (dist + 1e-6)\n",
    "    scores[product_hash] = scores.get(product_hash, 0.0) + weight\n",
    "\n",
    "# Sort products by score\n",
    "sorted_products = sorted(scores.items(), key=lambda x: x[1], reverse=True)\n",
    "\n",
    "# Create bar colors array - highlight original product\n",
    "colors = ['red' if hash_val == query_product_hash else 'lightblue' \n",
    "         for hash_val, _ in sorted_products]\n",
    "\n",
    "# Create vertical bar chart of product scores using titles\n",
    "fig = go.Figure(data=[\n",
    "    go.Bar(\n",
    "        y=[score for _, score in sorted_products],\n",
    "        x=[product_titles[hash_val][:40] + ('...' if len(product_titles[hash_val])>40 else '') for hash_val, _ in sorted_products],\n",
    "        text=[f'{score:.2f}' for _, score in sorted_products],\n",
    "        textposition='auto',\n",
    "        marker_color=colors\n",
    "    )\n",
    "])\n",
    "\n",
    "fig.update_layout(\n",
    "    title='Product Relevance Scores (Red = Query Product)',\n",
    "    yaxis_title='Score',\n",
    "    xaxis_title='Product Title',\n",
    "    width=800,\n",
    "    height=500,\n",
    "    showlegend=False,\n",
    "    xaxis=dict(\n",
    "        tickangle=45,  # Angle the labels for better readability\n",
    "        showgrid=True\n",
    "    )\n",
    ")\n",
    "\n",
    "fig.show()\n",
    "\n",
    "print(\"Related products (in order of relevance):\")\n",
    "print(\"-\" * 50)\n",
    "\n",
    "# Display top product using plot_product_summary\n",
    "if sorted_products:\n",
    "    top_product_hash = sorted_products[0][0]\n",
    "    print(f\"Top Product: {product_titles[top_product_hash]} (Score: {sorted_products[0][1]:.2f})\")\n",
    "    display_product_summary(mongodb_manager, top_product_hash)\n",
    "\n",
    "print(\"-\" * 50)"
   ]
  },
  {
   "cell_type": "code",
   "execution_count": 27,
   "id": "6caeee4c",
   "metadata": {},
   "outputs": [
    {
     "name": "stdout",
     "output_type": "stream",
     "text": [
      "Database update successful\n",
      "\n",
      "Updated localization data:\n",
      "Localization hash: 3068271dd98042007498c8ee1a4604dc\n",
      "Point coordinates: {'x': 0.4916493147611618, 'y': 0.879006564617157}\n",
      "\n",
      "Top 5 product predictions:\n",
      "90s Boxer – Upstormed: 35.35\n",
      "Gordito Tee – Sample: 15.95\n",
      "Danny Jacket: 15.83\n",
      "Track Jacket: 14.89\n",
      "Yumbo Shirt: 14.80\n"
     ]
    }
   ],
   "source": [
    "# Update MongoDB with localization point and product hash\n",
    "# Get the parent image hash from query source\n",
    "parent_image_hash = query_source['parent_image']['image_hash']\n",
    "\n",
    "# Sort predictions by score and create ordered dict\n",
    "product_predictions = {\n",
    "    product_hash: float(score)  # Convert numpy float32 to Python float\n",
    "    for product_hash, score in sorted_products\n",
    "}\n",
    "\n",
    "# Get the point coordinates from the query source\n",
    "bbox = query_source['localization_data']['bbox']\n",
    "point_coords = (\n",
    "    bbox[0] + bbox[2] / 2,  # x coordinate (center of the bounding box)\n",
    "    bbox[1] + bbox[3] / 2   # y coordinate (center of the bounding box)\n",
    ")\n",
    "\n",
    "# Prepare the update for the localization in the image document\n",
    "filter_query = {\n",
    "    'image_hash': parent_image_hash,\n",
    "    'localizations.localization_hash': query_source['localization_data']['localization_hash']\n",
    "}\n",
    "\n",
    "# Create the update data\n",
    "update_data = {\n",
    "    'localizations.$.localization_point': {\n",
    "        'x': float(point_coords[0]),\n",
    "        'y': float(point_coords[1])\n",
    "    },\n",
    "    'localizations.$.product_hash': top_product_hash,\n",
    "    'localizations.$.product_predictions': product_predictions\n",
    "}\n",
    "\n",
    "# Update the document\n",
    "success = mongodb_manager.update_one(\n",
    "    mongodb_manager.mongodb_config.image_metadata_collection,\n",
    "    filter_query,\n",
    "    update_data,\n",
    "    upsert=False\n",
    ")\n",
    "\n",
    "print(f\"Database update {'successful' if success else 'failed'}\")\n",
    "\n",
    "# Verify the update by retrieving the document\n",
    "updated_doc = mongodb_manager.find_one(\n",
    "    mongodb_manager.mongodb_config.image_metadata_collection,\n",
    "    {'image_hash': parent_image_hash}\n",
    ")\n",
    "\n",
    "if updated_doc:\n",
    "    for localization in updated_doc['localizations']:\n",
    "        if localization['localization_hash'] == query_source['localization_data']['localization_hash']:\n",
    "            print(\"\\nUpdated localization data:\")\n",
    "            print(f\"Localization hash: {localization['localization_hash']}\")\n",
    "            print(f\"Point coordinates: {localization.get('localization_point', 'Not set')}\")\n",
    "            print(\"\\nTop 5 product predictions:\")\n",
    "            for i, (prod_hash, score) in enumerate(localization.get('product_predictions', {}).items()):\n",
    "                if i >= 5: break\n",
    "                title = product_titles.get(prod_hash, 'Unknown Product')\n",
    "                print(f\"{title}: {score:.2f}\")\n",
    "else:\n",
    "    print(\"Could not retrieve updated document\")"
   ]
  }
 ],
 "metadata": {
  "kernelspec": {
   "display_name": ".venv",
   "language": "python",
   "name": "python3"
  },
  "language_info": {
   "codemirror_mode": {
    "name": "ipython",
    "version": 3
   },
   "file_extension": ".py",
   "mimetype": "text/x-python",
   "name": "python",
   "nbconvert_exporter": "python",
   "pygments_lexer": "ipython3",
   "version": "3.11.9"
  }
 },
 "nbformat": 4,
 "nbformat_minor": 5
}
