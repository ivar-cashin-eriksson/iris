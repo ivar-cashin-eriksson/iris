{
 "cells": [
  {
   "cell_type": "markdown",
   "metadata": {},
   "source": [
    "# Image Localization Pipeline\n",
    "\n",
    "This notebook processes images stored in MongoDB and performs object localization on them using a pre-trained model. The localizations are then stored back in the database and linked to their parent images."
   ]
  },
  {
   "cell_type": "markdown",
   "metadata": {},
   "source": [
    "## Setup\n",
    "Import required dependencies and initialize configuration managers and pipeline components."
   ]
  },
  {
   "cell_type": "code",
   "execution_count": null,
   "metadata": {},
   "outputs": [],
   "source": [
    "import sys\n",
    "sys.path.append(r'c:\\Users\\ice\\projects\\iris')\n",
    "\n",
    "from tqdm.notebook import tqdm\n",
    "\n",
    "from iris.config.data_pipeline_config_manager import DataPipelineConfigManager\n",
    "from iris.data_pipeline.mongodb_manager import MongoDBManager\n",
    "from iris.data_pipeline.image_store_manager import ImageStoreManager\n",
    "from iris.config.localization_pipeline_config_manager import LocalizationPipelineConfigManager\n",
    "from iris.localization_pipeline.localizer import Localizer\n",
    "from iris.models.image import Image\n",
    "from iris.models.localization import Localization\n",
    "from iris.utils.log import logger"
   ]
  },
  {
   "cell_type": "markdown",
   "metadata": {},
   "source": [
    "## Initialize Pipeline Components\n",
    "\n",
    "1. Initialize the data pipeline configuration manager\n",
    "2. Set up MongoDB connection\n",
    "3. Configure image store for accessing image data\n",
    "4. Initialize the object localization model"
   ]
  },
  {
   "cell_type": "code",
   "execution_count": null,
   "metadata": {},
   "outputs": [],
   "source": [
    "# Initialize configuration managers\n",
    "config_manager = DataPipelineConfigManager()\n",
    "\n",
    "# Initialize MongoDB manager\n",
    "mongodb_config = config_manager.mongodb_config\n",
    "mongodb_manager = MongoDBManager(mongodb_config)\n",
    "\n",
    "# Initialize image store manager\n",
    "image_store_config = config_manager.image_store_config\n",
    "image_store_manager = ImageStoreManager(image_store_config)\n",
    "\n",
    "# Initialize localizer\n",
    "localization_config = LocalizationPipelineConfigManager()\n",
    "localizer = Localizer(localization_config.model_config)"
   ]
  },
  {
   "cell_type": "markdown",
   "metadata": {},
   "source": [
    "## Process Images\n",
    "\n",
    "For each image in the database:\n",
    "1. Run object localization to detect objects\n",
    "2. Create Localization objects for each detected object\n",
    "3. Store new localizations in MongoDB\n",
    "4. Update the parent image with references to the new localizations\n",
    "5. Clean up old localizations"
   ]
  },
  {
   "cell_type": "code",
   "execution_count": null,
   "metadata": {},
   "outputs": [],
   "source": [
    "with mongodb_manager as db:\n",
    "    images: list[Image] = db.find_all(\n",
    "        collection_name=mongodb_config.image_metadata_collection\n",
    "    )\n",
    "\n",
    "    for image in tqdm(images, desc=\"Processing images\"):\n",
    "        logger.info(f\"Processing {image}\")\n",
    "\n",
    "        localizations_data = localizer.localize(image, context=image_store_manager)\n",
    "\n",
    "        localization_hashes = []\n",
    "        for localization_data in localizations_data:\n",
    "            localization = Localization(\n",
    "                parent_image_hash=image.hash,\n",
    "                model=str(localizer.model),\n",
    "                **localization_data\n",
    "            )\n",
    "\n",
    "            db.upsert(db.config.localization_collection, localization)\n",
    "            localization_hashes.append(localization.hash)\n",
    "\n",
    "        # Update image with localization hashes and remove old localizations\n",
    "        query = {\n",
    "            \"localization_hashes\": {\n",
    "                \"$in\": image.localization_hashes\n",
    "            }\n",
    "        }\n",
    "        db.delete_many(db.config.localization_collection, query)\n",
    "        image.localization_hashes = localization_hashes\n",
    "        db.upsert(db.config.image_metadata_collection, image)"
   ]
  }
 ],
 "metadata": {
  "kernelspec": {
   "display_name": ".venv",
   "language": "python",
   "name": "python3"
  },
  "language_info": {
   "codemirror_mode": {
    "name": "ipython",
    "version": 3
   },
   "file_extension": ".py",
   "mimetype": "text/x-python",
   "name": "python",
   "nbconvert_exporter": "python",
   "pygments_lexer": "ipython3",
   "version": "3.11.9"
  }
 },
 "nbformat": 4,
 "nbformat_minor": 2
}
