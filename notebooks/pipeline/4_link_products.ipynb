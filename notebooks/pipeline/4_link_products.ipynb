{
 "cells": [
  {
   "cell_type": "markdown",
   "id": "e8eb5479",
   "metadata": {},
   "source": [
    "# Product Linking and Similarity Search\n",
    "\n",
    "This notebook demonstrates the product linking pipeline using vector embeddings. It visualizes similarity search results between product localizations and finds related products using CLIP embeddings stored in Qdrant."
   ]
  },
  {
   "cell_type": "markdown",
   "id": "d5675ade",
   "metadata": {},
   "source": [
    "## Environment Setup\n",
    "Configure environment variables and import required libraries."
   ]
  },
  {
   "cell_type": "code",
   "execution_count": null,
   "id": "03f8696f",
   "metadata": {},
   "outputs": [],
   "source": [
    "import os\n",
    "os.environ['KMP_DUPLICATE_LIB_OK']='TRUE'"
   ]
  },
  {
   "cell_type": "code",
   "execution_count": null,
   "id": "c68e4673",
   "metadata": {},
   "outputs": [],
   "source": [
    "import sys\n",
    "sys.path.append(r'c:\\Users\\ice\\projects\\iris')\n",
    "\n",
    "from iris.config.data_pipeline_config_manager import DataPipelineConfigManager\n",
    "from iris.data_pipeline.mongodb_manager import MongoDBManager\n",
    "from iris.data_pipeline.image_store_manager import ImageStoreManager\n",
    "from iris.config.embedding_pipeline_config_manager import EmbeddingPipelineConfigManager\n",
    "from iris.embedding_pipeline.embedder import Embedder\n",
    "from iris.data_pipeline.qdrant_manager import QdrantManager\n",
    "from iris.embedding_pipeline.embedding_handler import EmbeddingHandler\n",
    "from iris.models.product import Product\n",
    "from iris.models.image import Image\n",
    "from iris.models.localization import Localization\n",
    "from qdrant_client.models import ScoredPoint\n",
    "\n",
    "from iris.models.document import Document\n",
    "from iris.protocols.context_protocols import HasMongoDBContext, HasImageContext\n",
    "from pathlib import Path\n",
    "from PIL import Image as PILImage"
   ]
  },
  {
   "cell_type": "markdown",
   "id": "e42a7cdc",
   "metadata": {},
   "source": [
    "## Initialize Pipeline Components\n",
    "\n",
    "Set up the required pipeline components:\n",
    "1. Data pipeline configuration\n",
    "2. MongoDB connection for document storage\n",
    "3. Image store for accessing image data\n",
    "4. CLIP model for embeddings\n",
    "5. Qdrant vector database for similarity search"
   ]
  },
  {
   "cell_type": "code",
   "execution_count": null,
   "id": "fd634059",
   "metadata": {},
   "outputs": [],
   "source": [
    "# Initialize configuration managers\n",
    "config_manager = DataPipelineConfigManager()\n",
    "\n",
    "# Initialize MongoDB manager\n",
    "mongodb_config = config_manager.mongodb_config\n",
    "mongodb_manager = MongoDBManager(mongodb_config)\n",
    "\n",
    "# Initialize image store manager\n",
    "image_store_config = config_manager.image_store_config\n",
    "image_store_manager = ImageStoreManager(image_store_config)\n",
    "\n",
    "# Initialize embedder\n",
    "embedding_config_manager = EmbeddingPipelineConfigManager()\n",
    "embedder = Embedder(embedding_config_manager.clip_config)\n",
    "qdrant_manager = QdrantManager(config_manager.qdrant_config)\n",
    "embedding_handler = EmbeddingHandler(embedder=embedder, qdrant_manager=qdrant_manager)"
   ]
  },
  {
   "cell_type": "markdown",
   "id": "b1e2c429",
   "metadata": {},
   "source": [
    "## Context Setup\n",
    "\n",
    "Create a unified context that provides access to both MongoDB and image storage.\n",
    "This allows seamless access to documents and their associated images."
   ]
  },
  {
   "cell_type": "code",
   "execution_count": null,
   "id": "082adc67",
   "metadata": {},
   "outputs": [],
   "source": [
    "class FullContext:\n",
    "    def __init__(self, mongodb_context: HasMongoDBContext, image_context: HasImageContext):\n",
    "        self.mongodb_context = mongodb_context\n",
    "        self.config = mongodb_context.config\n",
    "        self.image_store_context = image_context\n",
    "\n",
    "    def find_all(self, collection: str, document_hashes: list[str]) -> list[\"Document\"]:\n",
    "        return self.mongodb_context.find_all(collection, document_hashes)\n",
    "        \n",
    "    def get_pil_image(\n",
    "        self, \n",
    "        image_id: str | None = None,\n",
    "        path: Path | None = None, \n",
    "        url: str | None = None\n",
    "    ) -> tuple[PILImage.Image, Path]:\n",
    "        return self.image_store_context.get_pil_image(image_id=image_id, path=path, url=url)\n",
    "    \n",
    "full_context = FullContext(\n",
    "    mongodb_context=mongodb_manager, \n",
    "    image_context=image_store_manager\n",
    ")"
   ]
  },
  {
   "cell_type": "markdown",
   "id": "c3ce6c1d",
   "metadata": {},
   "source": [
    "## Visualization Utilities\n",
    "\n",
    "Helper functions to visualize search results:\n",
    "1. Convert images to base64 for HTML display\n",
    "2. Generate thumbnail previews"
   ]
  },
  {
   "cell_type": "code",
   "execution_count": null,
   "id": "777ff6c4",
   "metadata": {},
   "outputs": [],
   "source": [
    "import base64\n",
    "from io import BytesIO\n",
    "\n",
    "def get_image_html(result: ScoredPoint, size=(100, 140)):\n",
    "    \"\"\"Create HTML img tag for a search result\"\"\"\n",
    "    with mongodb_manager as db:\n",
    "        product: Product = db.find_one(\n",
    "            db.config.product_collection,\n",
    "            {'hash': result.payload['hash']}\n",
    "        )\n",
    "        image: Image = db.find_one(\n",
    "            db.config.image_metadata_collection,\n",
    "            {'hash': product.image_hashes[0]}\n",
    "        )\n",
    "        img = image.render(image_store_manager)\n",
    "        \n",
    "        img.thumbnail(size)\n",
    "        buffered = BytesIO()\n",
    "        img.save(buffered, format='JPEG', quality=70)\n",
    "        img_b64 = base64.b64encode(buffered.getvalue()).decode()\n",
    "        return f'<img src=\"data:image/jpeg;base64,{img_b64}\" style=\"max-width:none\">'"
   ]
  },
  {
   "cell_type": "markdown",
   "id": "95af3e8b",
   "metadata": {},
   "source": [
    "## Similarity Search Demo\n",
    "\n",
    "Demonstrate the similarity search pipeline:\n",
    "1. Select a sample localization\n",
    "2. Generate its embedding\n",
    "3. Find similar products using vector similarity\n",
    "4. Visualize results with interactive plot and image grid"
   ]
  },
  {
   "cell_type": "code",
   "execution_count": null,
   "id": "39de495a",
   "metadata": {},
   "outputs": [],
   "source": [
    "import plotly.graph_objects as go\n",
    "from IPython.display import display, HTML\n",
    "from random import choice\n",
    "\n",
    "with mongodb_manager as mongodb, embedding_handler as emb_handl:\n",
    "    localization: Localization = mongodb.find_one(\n",
    "        collection_name=mongodb.config.localization_collection,\n",
    "        query={'hash': \"4c1e3095a306b84894c8d844454160f3\"}\n",
    "    )\n",
    "\n",
    "    print(f\"Selected localization: {localization.hash}\")\n",
    "    display(localization.render(image_store_manager))\n",
    "\n",
    "    localization_embedding = emb_handl.get_embedding(\n",
    "        localization, \n",
    "        full_context, \n",
    "        emb_handl.qdrant_manager.qdrant_config.localization_collection\n",
    "    )\n",
    "\n",
    "    neighbors = emb_handl.qdrant_manager.search_points(\n",
    "        emb_handl.qdrant_manager.qdrant_config.product_collection,\n",
    "        query_vector=localization_embedding,\n",
    "        limit=10\n",
    "    )\n",
    "\n",
    "# Extract data for plot\n",
    "indices = list(range(len(neighbors)))\n",
    "distances = [1 - neighbor.score for neighbor in neighbors]  # Convert cosine similarity to distance\n",
    "\n",
    "# Create scatter plot with simpler hover text\n",
    "fig = go.Figure(data=go.Scatter(\n",
    "    x=indices,\n",
    "    y=distances,\n",
    "    mode='lines+markers',\n",
    "    marker=dict(size=8),\n",
    "    text=[f'Index: {i}<br>ID: {neighbor.payload[\"hash\"]}<br>Distance: {1-neighbor.score:.4f}<br>Type: {neighbor.payload[\"type\"]}' \n",
    "          for i, neighbor in enumerate(neighbors)],\n",
    "    hovertemplate='%{text}<extra></extra>'\n",
    "))\n",
    "\n",
    "fig.update_layout(\n",
    "    title='Image Similarity Plot',\n",
    "    xaxis_title='Index',\n",
    "    yaxis_title='Distance',\n",
    "    width=800,\n",
    "    height=400,\n",
    "    showlegend=False\n",
    ")\n",
    "\n",
    "# Display plot\n",
    "fig.show()\n",
    "\n",
    "# Create grid of thumbnails below the plot\n",
    "html = ['<div style=\"display: flex; flex-wrap: wrap; gap: 10px;\">']\n",
    "\n",
    "for i, neighbor in enumerate(neighbors):\n",
    "    img_html = get_image_html(neighbor, size=(150, 210))\n",
    "    item_html = f\"\"\"\n",
    "    <div style='text-align: center; border: 1px solid #ddd; padding: 5px;'>\n",
    "        {img_html}\n",
    "        <br>\n",
    "        <small>Index: {i}</small><br>\n",
    "        <small>Distance: {1-neighbor.score:.4f}</small><br>\n",
    "        <small>ID: {neighbor.payload['hash']}</small><br>\n",
    "    </div>\n",
    "    \"\"\"\n",
    "    html.append(item_html)\n",
    "\n",
    "html.append('</div>')\n",
    "display(HTML(''.join(html)))"
   ]
  }
 ],
 "metadata": {
  "kernelspec": {
   "display_name": ".venv",
   "language": "python",
   "name": "python3"
  },
  "language_info": {
   "codemirror_mode": {
    "name": "ipython",
    "version": 3
   },
   "file_extension": ".py",
   "mimetype": "text/x-python",
   "name": "python",
   "nbconvert_exporter": "python",
   "pygments_lexer": "ipython3",
   "version": "3.11.9"
  }
 },
 "nbformat": 4,
 "nbformat_minor": 5
}
