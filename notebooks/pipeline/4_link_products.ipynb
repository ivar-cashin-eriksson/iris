{
 "cells": [
  {
   "cell_type": "markdown",
   "id": "e8eb5479",
   "metadata": {},
   "source": [
    "# Product Linking and Similarity Search\n",
    "\n",
    "This notebook demonstrates the product linking pipeline using vector embeddings. It visualizes similarity search results between product localizations and finds related products using CLIP embeddings stored in Qdrant."
   ]
  },
  {
   "cell_type": "markdown",
   "id": "d5675ade",
   "metadata": {},
   "source": [
    "## Environment Setup\n",
    "Configure environment variables and import required libraries."
   ]
  },
  {
   "cell_type": "code",
   "execution_count": null,
   "id": "03f8696f",
   "metadata": {},
   "outputs": [],
   "source": [
    "import os\n",
    "os.environ['KMP_DUPLICATE_LIB_OK']='TRUE'"
   ]
  },
  {
   "cell_type": "code",
   "execution_count": null,
   "id": "c68e4673",
   "metadata": {},
   "outputs": [],
   "source": [
    "import sys\n",
    "sys.path.append(r'c:\\Users\\ice\\projects\\iris')\n",
    "\n",
    "from tqdm.notebook import tqdm\n",
    "\n",
    "from iris.config.data_pipeline_config_manager import DataPipelineConfigManager\n",
    "from iris.data_pipeline.mongodb_manager import MongoDBManager\n",
    "from iris.data_pipeline.image_store_manager import ImageStoreManager\n",
    "from iris.config.embedding_pipeline_config_manager import EmbeddingPipelineConfigManager\n",
    "from iris.embedding_pipeline.embedder import Embedder\n",
    "from iris.data_pipeline.qdrant_manager import QdrantManager\n",
    "from iris.embedding_pipeline.embedding_handler import EmbeddingHandler\n",
    "from iris.models.localization import Localization\n",
    "\n",
    "from iris.models.document import Document\n",
    "from iris.protocols.context_protocols import HasMongoDBContext, HasImageContext\n",
    "from pathlib import Path\n",
    "from PIL import Image as PILImage"
   ]
  },
  {
   "cell_type": "markdown",
   "id": "e42a7cdc",
   "metadata": {},
   "source": [
    "## Initialize Pipeline Components\n",
    "\n",
    "Set up the required pipeline components:\n",
    "1. Data pipeline configuration\n",
    "2. MongoDB connection for document storage\n",
    "3. Image store for accessing image data\n",
    "4. CLIP model for embeddings\n",
    "5. Qdrant vector database for similarity search"
   ]
  },
  {
   "cell_type": "code",
   "execution_count": null,
   "id": "fd634059",
   "metadata": {},
   "outputs": [],
   "source": [
    "# Initialize configuration managers\n",
    "config_manager = DataPipelineConfigManager()\n",
    "\n",
    "# Initialize MongoDB manager\n",
    "mongodb_config = config_manager.mongodb_config\n",
    "mongodb_manager = MongoDBManager(mongodb_config)\n",
    "\n",
    "# Initialize image store manager\n",
    "image_store_config = config_manager.image_store_config\n",
    "image_store_manager = ImageStoreManager(image_store_config)\n",
    "\n",
    "# Initialize embedder\n",
    "embedding_config_manager = EmbeddingPipelineConfigManager()\n",
    "embedder = Embedder(embedding_config_manager.clip_config)\n",
    "qdrant_manager = QdrantManager(config_manager.qdrant_config)\n",
    "embedding_handler = EmbeddingHandler(embedder=embedder, qdrant_manager=qdrant_manager)"
   ]
  },
  {
   "cell_type": "markdown",
   "id": "b1e2c429",
   "metadata": {},
   "source": [
    "## Context Setup\n",
    "\n",
    "Create a unified context that provides access to both MongoDB and image storage.\n",
    "This allows seamless access to documents and their associated images."
   ]
  },
  {
   "cell_type": "code",
   "execution_count": null,
   "id": "082adc67",
   "metadata": {},
   "outputs": [],
   "source": [
    "class FullContext:\n",
    "    def __init__(self, mongodb_context: HasMongoDBContext, image_context: HasImageContext):\n",
    "        self.mongodb_context = mongodb_context\n",
    "        self.config = mongodb_context.config\n",
    "        self.image_store_context = image_context\n",
    "\n",
    "    def find_all(self, collection: str, document_hashes: list[str]) -> list[\"Document\"]:\n",
    "        return self.mongodb_context.find_all(collection, document_hashes)\n",
    "        \n",
    "    def get_pil_image(\n",
    "        self, \n",
    "        image_id: str | None = None,\n",
    "        path: Path | None = None, \n",
    "        url: str | None = None\n",
    "    ) -> tuple[PILImage.Image, Path]:\n",
    "        return self.image_store_context.get_pil_image(image_id=image_id, path=path, url=url)\n",
    "    \n",
    "full_context = FullContext(\n",
    "    mongodb_context=mongodb_manager, \n",
    "    image_context=image_store_manager\n",
    ")"
   ]
  },
  {
   "cell_type": "markdown",
   "id": "f7f52be6",
   "metadata": {},
   "source": [
    "## Find the closest products for each localization\n",
    "\n",
    "1. For each localization in MongoDB, search Qdrant for neighbors.\n",
    "2. Update MongoDB with identified neighbors."
   ]
  },
  {
   "cell_type": "code",
   "execution_count": null,
   "id": "9af1a051",
   "metadata": {},
   "outputs": [],
   "source": [
    "with mongodb_manager as mongodb, embedding_handler as emb_handl:\n",
    "    localizations = mongodb.find_all(mongodb.config.localization_collection)\n",
    "\n",
    "    for localization in tqdm(localizations, desc=\"Linking localizations to products\"):\n",
    "        localization: Localization\n",
    "\n",
    "        localization_embedding = emb_handl.get_embedding(\n",
    "            localization, \n",
    "            full_context, \n",
    "            emb_handl.qdrant_manager.qdrant_config.localization_collection\n",
    "        )\n",
    "        localization.calculate_point()\n",
    "\n",
    "        # Get nearest product neighbors from Qdrant\n",
    "        neighbors = emb_handl.qdrant_manager.search_points(\n",
    "            emb_handl.qdrant_manager.qdrant_config.product_collection,\n",
    "            query_vector=localization_embedding,\n",
    "            limit=10\n",
    "        )\n",
    "        product_predictions = {product.payload['hash']: product.score for product in neighbors}\n",
    "        localization.product_predictions = product_predictions\n",
    "                \n",
    "        # Update the document\n",
    "        success = mongodb.upsert(\n",
    "            mongodb_manager.config.localization_collection,\n",
    "            localization\n",
    "        )"
   ]
  }
 ],
 "metadata": {
  "kernelspec": {
   "display_name": ".venv",
   "language": "python",
   "name": "python3"
  },
  "language_info": {
   "codemirror_mode": {
    "name": "ipython",
    "version": 3
   },
   "file_extension": ".py",
   "mimetype": "text/x-python",
   "name": "python",
   "nbconvert_exporter": "python",
   "pygments_lexer": "ipython3",
   "version": "3.11.9"
  }
 },
 "nbformat": 4,
 "nbformat_minor": 5
}
