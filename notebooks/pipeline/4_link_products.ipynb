{
 "cells": [
  {
   "cell_type": "markdown",
   "id": "e8eb5479",
   "metadata": {},
   "source": [
    "# Product Linking and Similarity Search\n",
    "\n",
    "This notebook demonstrates the product linking pipeline using vector embeddings. It visualizes similarity search results between product localizations and finds related products using CLIP embeddings stored in Qdrant."
   ]
  },
  {
   "cell_type": "markdown",
   "id": "d5675ade",
   "metadata": {},
   "source": [
    "## Environment Setup\n",
    "Configure environment variables and import required libraries."
   ]
  },
  {
   "cell_type": "code",
   "execution_count": 1,
   "id": "03f8696f",
   "metadata": {},
   "outputs": [],
   "source": [
    "import os\n",
    "os.environ['KMP_DUPLICATE_LIB_OK']='TRUE'"
   ]
  },
  {
   "cell_type": "code",
   "execution_count": 13,
   "id": "c68e4673",
   "metadata": {},
   "outputs": [],
   "source": [
    "import sys\n",
    "sys.path.append(r'c:\\Users\\ice\\projects\\iris')\n",
    "\n",
    "from tqdm.notebook import tqdm\n",
    "from qdrant_client.models import ScoredPoint\n",
    "\n",
    "from iris.config.data_pipeline_config_manager import DataPipelineConfigManager\n",
    "from iris.data_pipeline.mongodb_manager import MongoDBManager\n",
    "from iris.data_pipeline.image_store_manager import ImageStoreManager\n",
    "from iris.config.embedding_pipeline_config_manager import EmbeddingPipelineConfigManager\n",
    "from iris.embedding_pipeline.embedder import Embedder\n",
    "from iris.data_pipeline.qdrant_manager import QdrantManager\n",
    "from iris.embedding_pipeline.embedding_handler import EmbeddingHandler\n",
    "from iris.models.product import Product\n",
    "from iris.models.image import Image\n",
    "from iris.models.localization import Localization\n",
    "\n",
    "from iris.models.document import Document\n",
    "from iris.protocols.context_protocols import HasMongoDBContext, HasImageContext\n",
    "from pathlib import Path\n",
    "from PIL import Image as PILImage"
   ]
  },
  {
   "cell_type": "markdown",
   "id": "e42a7cdc",
   "metadata": {},
   "source": [
    "## Initialize Pipeline Components\n",
    "\n",
    "Set up the required pipeline components:\n",
    "1. Data pipeline configuration\n",
    "2. MongoDB connection for document storage\n",
    "3. Image store for accessing image data\n",
    "4. CLIP model for embeddings\n",
    "5. Qdrant vector database for similarity search"
   ]
  },
  {
   "cell_type": "code",
   "execution_count": 3,
   "id": "fd634059",
   "metadata": {},
   "outputs": [],
   "source": [
    "# Initialize configuration managers\n",
    "config_manager = DataPipelineConfigManager()\n",
    "\n",
    "# Initialize MongoDB manager\n",
    "mongodb_config = config_manager.mongodb_config\n",
    "mongodb_manager = MongoDBManager(mongodb_config)\n",
    "\n",
    "# Initialize image store manager\n",
    "image_store_config = config_manager.image_store_config\n",
    "image_store_manager = ImageStoreManager(image_store_config)\n",
    "\n",
    "# Initialize embedder\n",
    "embedding_config_manager = EmbeddingPipelineConfigManager()\n",
    "embedder = Embedder(embedding_config_manager.clip_config)\n",
    "qdrant_manager = QdrantManager(config_manager.qdrant_config)\n",
    "embedding_handler = EmbeddingHandler(embedder=embedder, qdrant_manager=qdrant_manager)"
   ]
  },
  {
   "cell_type": "markdown",
   "id": "b1e2c429",
   "metadata": {},
   "source": [
    "## Context Setup\n",
    "\n",
    "Create a unified context that provides access to both MongoDB and image storage.\n",
    "This allows seamless access to documents and their associated images."
   ]
  },
  {
   "cell_type": "code",
   "execution_count": 4,
   "id": "082adc67",
   "metadata": {},
   "outputs": [],
   "source": [
    "class FullContext:\n",
    "    def __init__(self, mongodb_context: HasMongoDBContext, image_context: HasImageContext):\n",
    "        self.mongodb_context = mongodb_context\n",
    "        self.config = mongodb_context.config\n",
    "        self.image_store_context = image_context\n",
    "\n",
    "    def find_all(self, collection: str, document_hashes: list[str]) -> list[\"Document\"]:\n",
    "        return self.mongodb_context.find_all(collection, document_hashes)\n",
    "        \n",
    "    def get_pil_image(\n",
    "        self, \n",
    "        image_id: str | None = None,\n",
    "        path: Path | None = None, \n",
    "        url: str | None = None\n",
    "    ) -> tuple[PILImage.Image, Path]:\n",
    "        return self.image_store_context.get_pil_image(image_id=image_id, path=path, url=url)\n",
    "    \n",
    "full_context = FullContext(\n",
    "    mongodb_context=mongodb_manager, \n",
    "    image_context=image_store_manager\n",
    ")"
   ]
  },
  {
   "cell_type": "markdown",
   "id": "f7f52be6",
   "metadata": {},
   "source": [
    "## Find the closest products for each localization\n",
    "\n",
    "1. For each localization in MongoDB, search Qdrant for neighbors.\n",
    "2. Update MongoDB with identified neighbors."
   ]
  },
  {
   "cell_type": "code",
   "execution_count": null,
   "id": "9af1a051",
   "metadata": {},
   "outputs": [
    {
     "data": {
      "application/vnd.jupyter.widget-view+json": {
       "model_id": "324ecfd537644bb584222e9e95b3c5cc",
       "version_major": 2,
       "version_minor": 0
      },
      "text/plain": [
       "Linking localizations to products:   0%|          | 0/617 [00:00<?, ?it/s]"
      ]
     },
     "metadata": {},
     "output_type": "display_data"
    },
    {
     "ename": "AttributeError",
     "evalue": "'str' object has no attribute 'hash'",
     "output_type": "error",
     "traceback": [
      "\u001b[31m---------------------------------------------------------------------------\u001b[39m",
      "\u001b[31mAttributeError\u001b[39m                            Traceback (most recent call last)",
      "\u001b[36mCell\u001b[39m\u001b[36m \u001b[39m\u001b[32mIn[15]\u001b[39m\u001b[32m, line 37\u001b[39m\n\u001b[32m     28\u001b[39m update_data = {\n\u001b[32m     29\u001b[39m     \u001b[33m'\u001b[39m\u001b[33mlocalization_point\u001b[39m\u001b[33m'\u001b[39m: {\n\u001b[32m     30\u001b[39m         \u001b[33m'\u001b[39m\u001b[33mx\u001b[39m\u001b[33m'\u001b[39m: \u001b[38;5;28mfloat\u001b[39m(point_coords[\u001b[32m0\u001b[39m]),\n\u001b[32m   (...)\u001b[39m\u001b[32m     33\u001b[39m     \u001b[33m'\u001b[39m\u001b[33mproduct_predictions\u001b[39m\u001b[33m'\u001b[39m: product_predictions\n\u001b[32m     34\u001b[39m }\n\u001b[32m     36\u001b[39m \u001b[38;5;66;03m# Update the document\u001b[39;00m\n\u001b[32m---> \u001b[39m\u001b[32m37\u001b[39m success = \u001b[43mmongodb\u001b[49m\u001b[43m.\u001b[49m\u001b[43mupsert\u001b[49m\u001b[43m(\u001b[49m\n\u001b[32m     38\u001b[39m \u001b[43m    \u001b[49m\u001b[43mmongodb_manager\u001b[49m\u001b[43m.\u001b[49m\u001b[43mconfig\u001b[49m\u001b[43m.\u001b[49m\u001b[43mlocalization_collection\u001b[49m\u001b[43m,\u001b[49m\n\u001b[32m     39\u001b[39m \u001b[43m    \u001b[49m\u001b[43mupdate_data\u001b[49m\n\u001b[32m     40\u001b[39m \u001b[43m\u001b[49m\u001b[43m)\u001b[49m\n",
      "\u001b[36mFile \u001b[39m\u001b[32mc:\\Users\\ice\\projects\\iris\\iris\\data_pipeline\\mongodb_manager.py:115\u001b[39m, in \u001b[36mMongoDBManager.upsert\u001b[39m\u001b[34m(self, collection_name, docs)\u001b[39m\n\u001b[32m    112\u001b[39m count = \u001b[32m0\u001b[39m\n\u001b[32m    113\u001b[39m \u001b[38;5;28;01mfor\u001b[39;00m doc \u001b[38;5;129;01min\u001b[39;00m docs:\n\u001b[32m    114\u001b[39m     result = collection.update_one(\n\u001b[32m--> \u001b[39m\u001b[32m115\u001b[39m         {\u001b[33m\"\u001b[39m\u001b[33m_id\u001b[39m\u001b[33m\"\u001b[39m: \u001b[43mdoc\u001b[49m\u001b[43m.\u001b[49m\u001b[43mhash\u001b[49m},\n\u001b[32m    116\u001b[39m         {\u001b[33m\"\u001b[39m\u001b[33m$set\u001b[39m\u001b[33m\"\u001b[39m: doc.to_mongo()},\n\u001b[32m    117\u001b[39m         upsert=\u001b[38;5;28;01mTrue\u001b[39;00m\n\u001b[32m    118\u001b[39m     )\n\u001b[32m    119\u001b[39m     \u001b[38;5;28;01mif\u001b[39;00m result.modified_count > \u001b[32m0\u001b[39m \u001b[38;5;129;01mor\u001b[39;00m result.upserted_id \u001b[38;5;129;01mis\u001b[39;00m \u001b[38;5;129;01mnot\u001b[39;00m \u001b[38;5;28;01mNone\u001b[39;00m:\n\u001b[32m    120\u001b[39m         count += \u001b[32m1\u001b[39m\n",
      "\u001b[31mAttributeError\u001b[39m: 'str' object has no attribute 'hash'"
     ]
    }
   ],
   "source": [
    "with mongodb_manager as mongodb, embedding_handler as emb_handl:\n",
    "    localizations = mongodb.find_all(mongodb.config.localization_collection)\n",
    "\n",
    "    for localization in tqdm(localizations, desc=\"Linking localizations to products\"):\n",
    "        localization: Localization\n",
    "\n",
    "        localization_embedding = emb_handl.get_embedding(\n",
    "            localization, \n",
    "            full_context, \n",
    "            emb_handl.qdrant_manager.qdrant_config.localization_collection\n",
    "        )\n",
    "        localization.calculate_point()\n",
    "\n",
    "        # Get nearest product neighbors from Qdrant\n",
    "        neighbors = emb_handl.qdrant_manager.search_points(\n",
    "            emb_handl.qdrant_manager.qdrant_config.product_collection,\n",
    "            query_vector=localization_embedding,\n",
    "            limit=10\n",
    "        )\n",
    "        product_predictions = {product.payload['hash']: product.score for product in neighbors}\n",
    "        localization.product_predictions = product_predictions\n",
    "                \n",
    "        # Update the document\n",
    "        success = mongodb.upsert(\n",
    "            mongodb_manager.config.localization_collection,\n",
    "            localization\n",
    "        )"
   ]
  },
  {
   "cell_type": "markdown",
   "id": "c3ce6c1d",
   "metadata": {},
   "source": [
    "## Visualization Utilities\n",
    "\n",
    "Helper functions to visualize search results:\n",
    "1. Convert images to base64 for HTML display\n",
    "2. Generate thumbnail previews"
   ]
  },
  {
   "cell_type": "code",
   "execution_count": null,
   "id": "777ff6c4",
   "metadata": {},
   "outputs": [],
   "source": [
    "import base64\n",
    "from io import BytesIO\n",
    "\n",
    "def get_image_html(result: ScoredPoint, size=(100, 140)):\n",
    "    \"\"\"Create HTML img tag for a search result\"\"\"\n",
    "    with mongodb_manager as db:\n",
    "        product: Product = db.find_one(\n",
    "            db.config.product_collection,\n",
    "            {'hash': result.payload['hash']}\n",
    "        )\n",
    "        image: Image = db.find_one(\n",
    "            db.config.image_metadata_collection,\n",
    "            {'hash': product.image_hashes[0]}\n",
    "        )\n",
    "        img = image.render(image_store_manager)\n",
    "        \n",
    "        img.thumbnail(size)\n",
    "        buffered = BytesIO()\n",
    "        img.save(buffered, format='JPEG', quality=70)\n",
    "        img_b64 = base64.b64encode(buffered.getvalue()).decode()\n",
    "        return f'<img src=\"data:image/jpeg;base64,{img_b64}\" style=\"max-width:none\">'"
   ]
  },
  {
   "cell_type": "markdown",
   "id": "95af3e8b",
   "metadata": {},
   "source": [
    "## Similarity Search Demo\n",
    "\n",
    "Demonstrate the similarity search pipeline:\n",
    "1. Select a sample localization\n",
    "2. Generate its embedding\n",
    "3. Find similar products using vector similarity\n",
    "4. Visualize results with interactive plot and image grid"
   ]
  },
  {
   "cell_type": "code",
   "execution_count": null,
   "id": "39de495a",
   "metadata": {},
   "outputs": [],
   "source": [
    "import plotly.graph_objects as go\n",
    "from IPython.display import display, HTML\n",
    "from random import choice\n",
    "\n",
    "with mongodb_manager as mongodb, embedding_handler as emb_handl:\n",
    "    localization: Localization = mongodb.find_one(\n",
    "        collection_name=mongodb.config.localization_collection,\n",
    "        query={'hash': \"4c1e3095a306b84894c8d844454160f3\"}\n",
    "    )\n",
    "\n",
    "    print(f\"Selected localization: {localization.hash}\")\n",
    "    display(localization.render(image_store_manager))\n",
    "\n",
    "    localization_embedding = emb_handl.get_embedding(\n",
    "        localization, \n",
    "        full_context, \n",
    "        emb_handl.qdrant_manager.qdrant_config.localization_collection\n",
    "    )\n",
    "\n",
    "    neighbors = emb_handl.qdrant_manager.search_points(\n",
    "        emb_handl.qdrant_manager.qdrant_config.product_collection,\n",
    "        query_vector=localization_embedding,\n",
    "        limit=10\n",
    "    )\n",
    "\n",
    "# Extract data for plot\n",
    "indices = list(range(len(neighbors)))\n",
    "distances = [1 - neighbor.score for neighbor in neighbors]  # Convert cosine similarity to distance\n",
    "\n",
    "# Create scatter plot with simpler hover text\n",
    "fig = go.Figure(data=go.Scatter(\n",
    "    x=indices,\n",
    "    y=distances,\n",
    "    mode='lines+markers',\n",
    "    marker=dict(size=8),\n",
    "    text=[f'Index: {i}<br>ID: {neighbor.payload[\"hash\"]}<br>Distance: {1-neighbor.score:.4f}<br>Type: {neighbor.payload[\"type\"]}' \n",
    "          for i, neighbor in enumerate(neighbors)],\n",
    "    hovertemplate='%{text}<extra></extra>'\n",
    "))\n",
    "\n",
    "fig.update_layout(\n",
    "    title='Image Similarity Plot',\n",
    "    xaxis_title='Index',\n",
    "    yaxis_title='Distance',\n",
    "    width=800,\n",
    "    height=400,\n",
    "    showlegend=False\n",
    ")\n",
    "\n",
    "# Display plot\n",
    "fig.show()\n",
    "\n",
    "# Create grid of thumbnails below the plot\n",
    "html = ['<div style=\"display: flex; flex-wrap: wrap; gap: 10px;\">']\n",
    "\n",
    "for i, neighbor in enumerate(neighbors):\n",
    "    img_html = get_image_html(neighbor, size=(150, 210))\n",
    "    item_html = f\"\"\"\n",
    "    <div style='text-align: center; border: 1px solid #ddd; padding: 5px;'>\n",
    "        {img_html}\n",
    "        <br>\n",
    "        <small>Index: {i}</small><br>\n",
    "        <small>Distance: {1-neighbor.score:.4f}</small><br>\n",
    "        <small>ID: {neighbor.payload['hash']}</small><br>\n",
    "    </div>\n",
    "    \"\"\"\n",
    "    html.append(item_html)\n",
    "\n",
    "html.append('</div>')\n",
    "display(HTML(''.join(html)))"
   ]
  }
 ],
 "metadata": {
  "kernelspec": {
   "display_name": ".venv",
   "language": "python",
   "name": "python3"
  },
  "language_info": {
   "codemirror_mode": {
    "name": "ipython",
    "version": 3
   },
   "file_extension": ".py",
   "mimetype": "text/x-python",
   "name": "python",
   "nbconvert_exporter": "python",
   "pygments_lexer": "ipython3",
   "version": "3.11.9"
  }
 },
 "nbformat": 4,
 "nbformat_minor": 5
}
