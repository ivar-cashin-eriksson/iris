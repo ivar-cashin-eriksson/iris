{
 "cells": [
  {
   "cell_type": "markdown",
   "metadata": {},
   "source": [
    "# Document Embedding Pipeline\n",
    "\n",
    "This notebook processes documents (products, images, and localizations) and generates embeddings for them using CLIP. The embeddings are stored in Qdrant vector database for similarity search."
   ]
  },
  {
   "cell_type": "markdown",
   "metadata": {},
   "source": [
    "## Environment Setup\n",
    "Configure environment variables and import required dependencies."
   ]
  },
  {
   "cell_type": "code",
   "execution_count": null,
   "metadata": {},
   "outputs": [],
   "source": [
    "import os\n",
    "os.environ['KMP_DUPLICATE_LIB_OK']='TRUE'"
   ]
  },
  {
   "cell_type": "code",
   "execution_count": null,
   "metadata": {},
   "outputs": [],
   "source": [
    "import sys\n",
    "sys.path.append(r'c:\\Users\\ice\\projects\\iris')\n",
    "\n",
    "from tqdm.notebook import tqdm\n",
    "\n",
    "from iris.config.data_pipeline_config_manager import DataPipelineConfigManager\n",
    "from iris.data_pipeline.mongodb_manager import MongoDBManager\n",
    "from iris.data_pipeline.image_store_manager import ImageStoreManager\n",
    "from iris.config.embedding_pipeline_config_manager import EmbeddingPipelineConfigManager\n",
    "from iris.embedding_pipeline.embedder import Embedder\n",
    "from iris.data_pipeline.qdrant_manager import QdrantManager\n",
    "from iris.embedding_pipeline.embedding_handler import EmbeddingHandler\n",
    "from iris.models.product import Product\n",
    "\n",
    "from iris.models.document import Document\n",
    "from iris.protocols.context_protocols import HasMongoDBContext, HasImageContext\n",
    "from pathlib import Path\n",
    "from PIL import Image as PILImage\n",
    "\n",
    "from iris.utils.log import logger"
   ]
  },
  {
   "cell_type": "markdown",
   "metadata": {},
   "source": [
    "## Initialize Pipeline Components\n",
    "\n",
    "Set up necessary managers and handlers:\n",
    "1. Data pipeline configuration\n",
    "2. MongoDB connection\n",
    "3. Image store for accessing image data\n",
    "4. Embedding pipeline with CLIP model\n",
    "5. Qdrant vector database connection"
   ]
  },
  {
   "cell_type": "code",
   "execution_count": null,
   "metadata": {},
   "outputs": [],
   "source": [
    "# Initialize configuration managers\n",
    "config_manager = DataPipelineConfigManager()\n",
    "\n",
    "# Initialize MongoDB manager\n",
    "mongodb_config = config_manager.mongodb_config\n",
    "mongodb_manager = MongoDBManager(mongodb_config)\n",
    "\n",
    "# Initialize image store manager\n",
    "image_store_config = config_manager.image_store_config\n",
    "image_store_manager = ImageStoreManager(image_store_config)\n",
    "\n",
    "# Initialize embedder\n",
    "embedding_config_manager = EmbeddingPipelineConfigManager()\n",
    "embedder = Embedder(embedding_config_manager.clip_config)\n",
    "qdrant_manager = QdrantManager(config_manager.qdrant_config)\n",
    "embedding_handler = EmbeddingHandler(embedder=embedder, qdrant_manager=qdrant_manager)"
   ]
  },
  {
   "cell_type": "markdown",
   "metadata": {},
   "source": [
    "## Context Setup\n",
    "\n",
    "Create a combined context that provides access to both MongoDB and image storage functionality.\n",
    "This allows for seamless document and image processing throughout the pipeline."
   ]
  },
  {
   "cell_type": "code",
   "execution_count": null,
   "metadata": {},
   "outputs": [],
   "source": [
    "class FullContext:\n",
    "    def __init__(self, mongodb_context: HasMongoDBContext, image_context: HasImageContext):\n",
    "        self.mongodb_context = mongodb_context\n",
    "        self.config = mongodb_context.config\n",
    "        self.image_store_context = image_context\n",
    "\n",
    "    def find_all(self, collection: str, document_hashes: list[str]) -> list[\"Document\"]:\n",
    "        return self.mongodb_context.find_all(collection, document_hashes)\n",
    "        \n",
    "    def get_pil_image(\n",
    "        self, \n",
    "        image_id: str | None = None,\n",
    "        path: Path | None = None, \n",
    "        url: str | None = None\n",
    "    ) -> tuple[PILImage.Image, Path]:\n",
    "        return self.image_store_context.get_pil_image(image_id=image_id, path=path, url=url)\n",
    "    \n",
    "full_context = FullContext(\n",
    "    mongodb_context=mongodb_manager, \n",
    "    image_context=image_store_manager\n",
    ")"
   ]
  },
  {
   "cell_type": "markdown",
   "metadata": {},
   "source": [
    "## Process Product Localizations\n",
    "\n",
    "Load products from MongoDB and update their localization references:\n",
    "1. Fetch all products from the database\n",
    "2. For each product, load associated localizations from their product images\n",
    "3. Update the product record with new localization information"
   ]
  },
  {
   "cell_type": "code",
   "execution_count": null,
   "metadata": {},
   "outputs": [],
   "source": [
    "with mongodb_manager as mongodb, embedding_handler as emb_handl:\n",
    "    products: list[Product] = mongodb.find_all(\n",
    "        mongodb.config.product_collection\n",
    "    )\n",
    "\n",
    "    for product in tqdm(products, desc=\"Loading product localizations\"):    \n",
    "        product.load_localization_hashes(emb_handl, full_context)\n",
    "        logger.info(f\"Product: {product.metadata['title']} identified {len(product.localization_hashes)} localization(s) from {len(product.image_hashes)} image(s).\")\n",
    "\n",
    "        mongodb.upsert(mongodb.config.product_collection, product)"
   ]
  },
  {
   "cell_type": "markdown",
   "metadata": {},
   "source": [
    "## Generate Embeddings\n",
    "\n",
    "Process different types of documents and generate embeddings:\n",
    "1. Products\n",
    "2. Image metadata\n",
    "3. Store embeddings in Qdrant for vector similarity search"
   ]
  },
  {
   "cell_type": "code",
   "execution_count": null,
   "metadata": {},
   "outputs": [],
   "source": [
    "document_collections = [\n",
    "    mongodb_config.localization_collection,\n",
    "    mongodb_config.product_collection,\n",
    "    mongodb_config.image_metadata_collection,\n",
    "]\n",
    "\n",
    "embedding_collections = [\n",
    "    qdrant_manager.qdrant_config.localization_collection,\n",
    "    qdrant_manager.qdrant_config.product_collection,\n",
    "    qdrant_manager.qdrant_config.image_collection,\n",
    "]\n",
    "\n",
    "with embedding_handler as emb_handl:\n",
    "    for doc_col, emb_col in zip(document_collections, embedding_collections):\n",
    "        logger.info(f\" ----- Processing collection: {doc_col} ----- \")\n",
    "        \n",
    "        # Fetch documents from MongoDB\n",
    "        documents = mongodb_manager.find_all(doc_col)\n",
    "        \n",
    "        for document in tqdm(documents, desc=f\"Processing {doc_col}\"):\n",
    "            embedding = emb_handl.get_embedding(document, full_context, emb_col)"
   ]
  }
 ],
 "metadata": {
  "kernelspec": {
   "display_name": ".venv",
   "language": "python",
   "name": "python3"
  },
  "language_info": {
   "codemirror_mode": {
    "name": "ipython",
    "version": 3
   },
   "file_extension": ".py",
   "mimetype": "text/x-python",
   "name": "python",
   "nbconvert_exporter": "python",
   "pygments_lexer": "ipython3",
   "version": "3.11.9"
  }
 },
 "nbformat": 4,
 "nbformat_minor": 2
}
