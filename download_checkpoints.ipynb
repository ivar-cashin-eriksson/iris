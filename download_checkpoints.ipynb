{
 "cells": [
  {
   "cell_type": "markdown",
   "id": "2cdad4db",
   "metadata": {},
   "source": [
    "# Download YOLOS Model Checkpoints\n",
    "\n",
    "This notebook downloads the YOLOS model and processor from HuggingFace and saves them locally for use in the object localization pipeline."
   ]
  },
  {
   "cell_type": "code",
   "execution_count": 1,
   "id": "d2078627",
   "metadata": {},
   "outputs": [],
   "source": [
    "from transformers import AutoProcessor, YolosForObjectDetection\n",
    "from pathlib import Path\n",
    "\n",
    "# Define paths\n",
    "CHECKPOINT_DIR = Path('checkpoints/yolos')\n",
    "\n",
    "# Create checkpoint directory if it doesn't exist\n",
    "CHECKPOINT_DIR.mkdir(parents=True, exist_ok=True)"
   ]
  },
  {
   "cell_type": "code",
   "execution_count": 2,
   "id": "36bda008",
   "metadata": {},
   "outputs": [
    {
     "name": "stdout",
     "output_type": "stream",
     "text": [
      "Downloading YOLOS model and processor...\n"
     ]
    },
    {
     "name": "stderr",
     "output_type": "stream",
     "text": [
      "Using a slow image processor as `use_fast` is unset and a slow processor was saved with this model. `use_fast=True` will be the default behavior in v4.52, even if the model was saved with a slow processor. This will result in minor differences in outputs. You'll still be able to use a slow processor with `use_fast=False`.\n",
      "The `max_size` parameter is deprecated and will be removed in v4.26. Please specify in `size['longest_edge'] instead`.\n",
      "The `max_size` parameter is deprecated and will be removed in v4.26. Please specify in `size['longest_edge'] instead`.\n"
     ]
    },
    {
     "name": "stdout",
     "output_type": "stream",
     "text": [
      "Saving to checkpoints\\yolos...\n",
      "Done!\n"
     ]
    }
   ],
   "source": [
    "# Download and save YOLOS model and processor\n",
    "print(\"Downloading YOLOS model and processor...\")\n",
    "\n",
    "# Load from HuggingFace\n",
    "model = YolosForObjectDetection.from_pretrained(\"valentinafeve/yolos-fashionpedia\")\n",
    "processor = AutoProcessor.from_pretrained(\"valentinafeve/yolos-fashionpedia\")\n",
    "\n",
    "# Save locally\n",
    "print(f\"Saving to {CHECKPOINT_DIR}...\")\n",
    "model.save_pretrained(CHECKPOINT_DIR)\n",
    "processor.save_pretrained(CHECKPOINT_DIR)\n",
    "\n",
    "print(\"Done!\")"
   ]
  },
  {
   "cell_type": "code",
   "execution_count": 3,
   "id": "da696193",
   "metadata": {},
   "outputs": [
    {
     "name": "stdout",
     "output_type": "stream",
     "text": [
      "Saved files:\n",
      "- config.json\n",
      "- model.safetensors\n",
      "- preprocessor_config.json\n"
     ]
    }
   ],
   "source": [
    "# Verify saved files\n",
    "print(\"Saved files:\")\n",
    "for file in CHECKPOINT_DIR.glob(\"*\"):\n",
    "    print(f\"- {file.name}\")"
   ]
  },
  {
   "cell_type": "code",
   "execution_count": 4,
   "id": "da0686f6",
   "metadata": {},
   "outputs": [
    {
     "name": "stdout",
     "output_type": "stream",
     "text": [
      "Testing local checkpoint loading...\n",
      "Successfully loaded model and processor from local checkpoint!\n"
     ]
    }
   ],
   "source": [
    "# Test loading from local checkpoint\n",
    "print(\"Testing local checkpoint loading...\")\n",
    "\n",
    "model = YolosForObjectDetection.from_pretrained(CHECKPOINT_DIR)\n",
    "processor = AutoProcessor.from_pretrained(CHECKPOINT_DIR)\n",
    "\n",
    "print(\"Successfully loaded model and processor from local checkpoint!\")"
   ]
  }
 ],
 "metadata": {
  "kernelspec": {
   "display_name": ".venv",
   "language": "python",
   "name": "python3"
  },
  "language_info": {
   "codemirror_mode": {
    "name": "ipython",
    "version": 3
   },
   "file_extension": ".py",
   "mimetype": "text/x-python",
   "name": "python",
   "nbconvert_exporter": "python",
   "pygments_lexer": "ipython3",
   "version": "3.11.9"
  }
 },
 "nbformat": 4,
 "nbformat_minor": 5
}
